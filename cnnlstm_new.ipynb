{
  "cells": [
    {
      "cell_type": "code",
      "execution_count": 1,
      "metadata": {
        "id": "oUvebjog04oW"
      },
      "outputs": [],
      "source": [
        "import numpy as np\n",
        "import pandas as pd\n",
        "import tensorflow as tf\n",
        "import matplotlib.pyplot as plt\n",
        "import math\n",
        "import time\n",
        "import os\n",
        "import sys\n",
        "import json\n",
        "\n",
        "import scipy as sp\n",
        "from scipy import signal\n",
        "\n",
        "from keras.models import Sequential\n",
        "from keras.layers import Dense\n",
        "from keras.layers import LSTM\n",
        "from keras.callbacks import EarlyStopping\n",
        "from sklearn.preprocessing import MinMaxScaler\n",
        "from sklearn.feature_selection import SelectKBest\n",
        "from sklearn.feature_selection import f_regression\n",
        "from sklearn import metrics\n",
        "from statsmodels.tsa.seasonal import seasonal_decompose\n",
        "from statsmodels.graphics.tsaplots import plot_acf\n",
        "\n",
        "from tensorflow.keras.models import Sequential\n",
        "from tensorflow.keras.layers import *\n",
        "from tensorflow.keras.callbacks import ModelCheckpoint\n",
        "from tensorflow.keras.losses import MeanSquaredError\n",
        "from tensorflow.keras.metrics import RootMeanSquaredError\n",
        "from tensorflow.keras.optimizers import Adam\n",
        "from tensorflow.keras.layers import LSTM, Dense, Dropout, TimeDistributed, Conv1D, MaxPooling1D, Flatten, Bidirectional, Input, Flatten, Activation, Reshape, RepeatVector, Concatenate\n",
        "from tensorflow.keras import Sequential\n",
        "from tensorflow.keras.layers import *\n",
        "from keras.callbacks import EarlyStopping\n",
        "import tensorflow as tf\n",
        "\n",
        "from sklearn.preprocessing import MinMaxScaler\n",
        "from sklearn.model_selection import train_test_split\n",
        "\n",
        "import os, warnings, random\n",
        "from sklearn.metrics import mean_squared_error\n",
        "from sklearn.model_selection import train_test_split\n",
        "import tensorflow as tf\n",
        "import tensorflow.keras.layers as L\n",
        "from tensorflow.keras.layers import *\n",
        "from tensorflow.keras import optimizers, Sequential, Model\n",
        "from tensorflow.keras.callbacks import LearningRateScheduler"
      ]
    },
    {
      "cell_type": "code",
      "execution_count": 2,
      "metadata": {
        "id": "ieOMqQ_o04oZ"
      },
      "outputs": [],
      "source": [
        "SEED = 13\n",
        "tf.random.set_seed(SEED)"
      ]
    },
    {
      "cell_type": "code",
      "execution_count": 3,
      "metadata": {
        "id": "PKm1uOiX04oa"
      },
      "outputs": [],
      "source": [
        "def encode_gait_percentage(df, name):\n",
        "  percent = df[name].values.tolist()\n",
        "  X = np.zeros((len(df[name]),1))\n",
        "  Y = np.zeros((len(df[name]),1))\n",
        "  for i in range (len(percent)):\n",
        "    phi = percent[i] * 2 * math.pi / 100\n",
        "    X[i] = math.cos(phi)\n",
        "    Y[i] = math.sin(phi)\n",
        "  df['X'] = X\n",
        "  df['Y'] = Y"
      ]
    },
    {
      "cell_type": "code",
      "execution_count": 4,
      "metadata": {
        "id": "PiqdGzio04oj"
      },
      "outputs": [],
      "source": [
        "\n",
        "\n",
        "def convert_data(d_x, d_y, look_back = 1, fore_cast = 1):\n",
        "    dataX = []\n",
        "    dataY = []\n",
        "\n",
        "    for i in range(look_back, len(d_x) - fore_cast):\n",
        "        dataX.append(d_x[i - look_back: i])\n",
        "        dataY.append(d_y[i + fore_cast,:])\n",
        "\n",
        "    return np.array(dataX), np.array(dataY)"
      ]
    },
    {
      "cell_type": "code",
      "execution_count": 5,
      "metadata": {
        "colab": {
          "base_uri": "https://localhost:8080/"
        },
        "id": "x1qm5sIrhOv3",
        "outputId": "1f02653d-92bc-4acf-c63b-a11ad134c87f"
      },
      "outputs": [
        {
          "output_type": "stream",
          "name": "stdout",
          "text": [
            "Mounted at /content/drive\n"
          ]
        }
      ],
      "source": [
        "from google.colab import drive\n",
        "\n",
        "drive.mount('/content/drive')\n",
        "path =path = '/content/drive/MyDrive/nmchr_lab/Subjects/inclined/new/right_based/'\n"
      ]
    },
    {
      "cell_type": "code",
      "execution_count": 6,
      "metadata": {
        "id": "QUcI8IV6hOv4"
      },
      "outputs": [],
      "source": [
        "# file_name = ['SKS_2_I_r.xlsx',  'SKS_3_I_r.xlsx',  'SKS_4_I_r.xlsx','SKS_5_I_r.xlsx', 'SD_2_I_r.xlsx',  'SD_3_I_r.xlsx',  'SD_4_I_r.xlsx','SD_5_I_r.xlsx', 'SD_1_I_r.xlsx', 'TH_4_I_r.xlsx', 'TH_3_I_r.xlsx', 'TH_2_I_r.xlsx']\n",
        "# file_name = ['PK_0_I_r.xls', 'PK_2_I_r.xls', 'PK_3_I_r.xls','PK_5_I_r.xls']\n",
        "file_name = ['TH_4_I_r.xlsx', 'TH_3_I_r.xlsx', 'TH_2_I_r.xlsx']\n",
        "# file_name = ['SD_1_I_r.xlsx', 'SD_2_I_r.xlsx', 'SD_3_I_r.xlsx','SD_5_I_r.xlsx','SD_4_I_r.xlsx', 'SKS_2_I_r.xlsx',  'SKS_3_I_r.xlsx',  'SKS_4_I_r.xlsx','SKS_5_I_r.xlsx', 'TH_4_I_r.xlsx', 'TH_3_I_r.xlsx', 'TH_2_I_r.xlsx', 'SKS_2_I_r.xlsx','JJ_4_I_r.xlsx', 'JJ_6_I_r.xlsx', 'JJ_7_I_r.xlsx']\n",
        "\n",
        "file_list=[]\n",
        "\n",
        "for i in range (len(file_name)):\n",
        "    file_list.append(pd.read_excel(path+ file_name[i], sheet_name='Sheet1'))\n",
        "\n",
        "import random\n",
        "random.shuffle(file_list)\n",
        "\n",
        "all_data = pd.concat(file_list, axis=0, ignore_index=True)\n"
      ]
    },
    {
      "cell_type": "code",
      "source": [
        "file_name"
      ],
      "metadata": {
        "colab": {
          "base_uri": "https://localhost:8080/"
        },
        "id": "TEonMTjyxFKa",
        "outputId": "919b22b2-d52c-4bff-d3d1-765f7a5fa51b"
      },
      "execution_count": 7,
      "outputs": [
        {
          "output_type": "execute_result",
          "data": {
            "text/plain": [
              "['TH_4_I_r.xlsx', 'TH_3_I_r.xlsx', 'TH_2_I_r.xlsx']"
            ]
          },
          "metadata": {},
          "execution_count": 7
        }
      ]
    },
    {
      "cell_type": "code",
      "execution_count": 8,
      "metadata": {
        "colab": {
          "base_uri": "https://localhost:8080/"
        },
        "id": "-m7rgW5thOv4",
        "outputId": "4bcfc8e8-51b5-4d38-d346-7f9c9a5d09f9"
      },
      "outputs": [
        {
          "output_type": "stream",
          "name": "stdout",
          "text": [
            "<class 'pandas.core.frame.DataFrame'>\n",
            "RangeIndex: 177975 entries, 0 to 177974\n",
            "Data columns (total 13 columns):\n",
            " #   Column        Non-Null Count   Dtype  \n",
            "---  ------        --------------   -----  \n",
            " 0   l_ph_hip      177975 non-null  float64\n",
            " 1   l_ph_ank      177975 non-null  float64\n",
            " 2   l_ph_fo       177975 non-null  float64\n",
            " 3   r_ph_hip      177975 non-null  float64\n",
            " 4   r_ph_ank      177975 non-null  float64\n",
            " 5   r_ph_fo       177975 non-null  float64\n",
            " 6   n_lgrf        177975 non-null  float64\n",
            " 7   n_r_grf       177975 non-null  float64\n",
            " 8   n_lcop        177975 non-null  float64\n",
            " 9   n_rcop        177975 non-null  float64\n",
            " 10  strike_frame  177975 non-null  int64  \n",
            " 11  perc          177975 non-null  float64\n",
            " 12  st_sw_phase   177975 non-null  int64  \n",
            "dtypes: float64(11), int64(2)\n",
            "memory usage: 17.7 MB\n"
          ]
        }
      ],
      "source": [
        "all_data.info()"
      ]
    },
    {
      "cell_type": "code",
      "execution_count": 9,
      "metadata": {
        "colab": {
          "base_uri": "https://localhost:8080/",
          "height": 467
        },
        "id": "9zPHqQg4hOv5",
        "outputId": "e75a95ea-84e0-4e3b-e0af-842cf9d36885"
      },
      "outputs": [
        {
          "output_type": "execute_result",
          "data": {
            "text/plain": [
              "        l_ph_hip  l_ph_ank   l_ph_fo  r_ph_hip  r_ph_ank   r_ph_fo    n_lgrf  \\\n",
              "0       0.037185  0.583508  0.040447  0.005948  0.752805  0.067726  0.852469   \n",
              "1       0.038127  0.568491  0.040400  0.003297  0.751254  0.078182  0.834666   \n",
              "2       0.038921  0.555852  0.040178  0.000580  0.749807  0.088231  0.813274   \n",
              "3       0.039583  0.545340  0.039777  0.997818  0.748440  0.097712  0.788160   \n",
              "4       0.040128  0.536716  0.039196  0.994993  0.747134  0.106508  0.759056   \n",
              "...          ...       ...       ...       ...       ...       ...       ...   \n",
              "177132  0.010464  0.742633  0.035545  0.243530  0.767945  0.973863  0.884405   \n",
              "177133  0.012804  0.722961  0.037564  0.240980  0.764427  0.980145  0.897772   \n",
              "177134  0.015070  0.703438  0.039441  0.237876  0.761475  0.987397  0.909501   \n",
              "177135  0.017241  0.684513  0.041156  0.233891  0.758960  0.995621  0.918981   \n",
              "177136  0.019301  0.666577  0.042690  0.228386  0.756783  0.004781  0.925496   \n",
              "\n",
              "         n_r_grf    n_lcop    n_rcop  strike_frame       perc  st_sw_phase  \n",
              "0       0.041972  0.000167  0.148317             1   0.000000            0  \n",
              "1       0.066490  0.000195  0.171573             2   0.458716            0  \n",
              "2       0.096754  0.000212  0.195864             3   0.917431            0  \n",
              "3       0.132588  0.000221  0.220775             4   1.376147            0  \n",
              "4       0.173238  0.000224  0.245789             5   1.834862            0  \n",
              "...          ...       ...       ...           ...        ...          ...  \n",
              "177132  0.000000 -0.000094  0.037928           194  96.984925            1  \n",
              "177133  0.000000 -0.000008  0.049954           195  97.487437            1  \n",
              "177134  0.000000  0.000060  0.063588           196  97.989950            1  \n",
              "177135  0.000000  0.000114  0.078853           197  98.492462            1  \n",
              "177136  0.009824  0.000154  0.095732           198  98.994975            1  \n",
              "\n",
              "[177137 rows x 13 columns]"
            ],
            "text/html": [
              "\n",
              "\n",
              "  <div id=\"df-8cb2888f-b0a7-4ec8-9e72-f63accf9cc2a\">\n",
              "    <div class=\"colab-df-container\">\n",
              "      <div>\n",
              "<style scoped>\n",
              "    .dataframe tbody tr th:only-of-type {\n",
              "        vertical-align: middle;\n",
              "    }\n",
              "\n",
              "    .dataframe tbody tr th {\n",
              "        vertical-align: top;\n",
              "    }\n",
              "\n",
              "    .dataframe thead th {\n",
              "        text-align: right;\n",
              "    }\n",
              "</style>\n",
              "<table border=\"1\" class=\"dataframe\">\n",
              "  <thead>\n",
              "    <tr style=\"text-align: right;\">\n",
              "      <th></th>\n",
              "      <th>l_ph_hip</th>\n",
              "      <th>l_ph_ank</th>\n",
              "      <th>l_ph_fo</th>\n",
              "      <th>r_ph_hip</th>\n",
              "      <th>r_ph_ank</th>\n",
              "      <th>r_ph_fo</th>\n",
              "      <th>n_lgrf</th>\n",
              "      <th>n_r_grf</th>\n",
              "      <th>n_lcop</th>\n",
              "      <th>n_rcop</th>\n",
              "      <th>strike_frame</th>\n",
              "      <th>perc</th>\n",
              "      <th>st_sw_phase</th>\n",
              "    </tr>\n",
              "  </thead>\n",
              "  <tbody>\n",
              "    <tr>\n",
              "      <th>0</th>\n",
              "      <td>0.037185</td>\n",
              "      <td>0.583508</td>\n",
              "      <td>0.040447</td>\n",
              "      <td>0.005948</td>\n",
              "      <td>0.752805</td>\n",
              "      <td>0.067726</td>\n",
              "      <td>0.852469</td>\n",
              "      <td>0.041972</td>\n",
              "      <td>0.000167</td>\n",
              "      <td>0.148317</td>\n",
              "      <td>1</td>\n",
              "      <td>0.000000</td>\n",
              "      <td>0</td>\n",
              "    </tr>\n",
              "    <tr>\n",
              "      <th>1</th>\n",
              "      <td>0.038127</td>\n",
              "      <td>0.568491</td>\n",
              "      <td>0.040400</td>\n",
              "      <td>0.003297</td>\n",
              "      <td>0.751254</td>\n",
              "      <td>0.078182</td>\n",
              "      <td>0.834666</td>\n",
              "      <td>0.066490</td>\n",
              "      <td>0.000195</td>\n",
              "      <td>0.171573</td>\n",
              "      <td>2</td>\n",
              "      <td>0.458716</td>\n",
              "      <td>0</td>\n",
              "    </tr>\n",
              "    <tr>\n",
              "      <th>2</th>\n",
              "      <td>0.038921</td>\n",
              "      <td>0.555852</td>\n",
              "      <td>0.040178</td>\n",
              "      <td>0.000580</td>\n",
              "      <td>0.749807</td>\n",
              "      <td>0.088231</td>\n",
              "      <td>0.813274</td>\n",
              "      <td>0.096754</td>\n",
              "      <td>0.000212</td>\n",
              "      <td>0.195864</td>\n",
              "      <td>3</td>\n",
              "      <td>0.917431</td>\n",
              "      <td>0</td>\n",
              "    </tr>\n",
              "    <tr>\n",
              "      <th>3</th>\n",
              "      <td>0.039583</td>\n",
              "      <td>0.545340</td>\n",
              "      <td>0.039777</td>\n",
              "      <td>0.997818</td>\n",
              "      <td>0.748440</td>\n",
              "      <td>0.097712</td>\n",
              "      <td>0.788160</td>\n",
              "      <td>0.132588</td>\n",
              "      <td>0.000221</td>\n",
              "      <td>0.220775</td>\n",
              "      <td>4</td>\n",
              "      <td>1.376147</td>\n",
              "      <td>0</td>\n",
              "    </tr>\n",
              "    <tr>\n",
              "      <th>4</th>\n",
              "      <td>0.040128</td>\n",
              "      <td>0.536716</td>\n",
              "      <td>0.039196</td>\n",
              "      <td>0.994993</td>\n",
              "      <td>0.747134</td>\n",
              "      <td>0.106508</td>\n",
              "      <td>0.759056</td>\n",
              "      <td>0.173238</td>\n",
              "      <td>0.000224</td>\n",
              "      <td>0.245789</td>\n",
              "      <td>5</td>\n",
              "      <td>1.834862</td>\n",
              "      <td>0</td>\n",
              "    </tr>\n",
              "    <tr>\n",
              "      <th>...</th>\n",
              "      <td>...</td>\n",
              "      <td>...</td>\n",
              "      <td>...</td>\n",
              "      <td>...</td>\n",
              "      <td>...</td>\n",
              "      <td>...</td>\n",
              "      <td>...</td>\n",
              "      <td>...</td>\n",
              "      <td>...</td>\n",
              "      <td>...</td>\n",
              "      <td>...</td>\n",
              "      <td>...</td>\n",
              "      <td>...</td>\n",
              "    </tr>\n",
              "    <tr>\n",
              "      <th>177132</th>\n",
              "      <td>0.010464</td>\n",
              "      <td>0.742633</td>\n",
              "      <td>0.035545</td>\n",
              "      <td>0.243530</td>\n",
              "      <td>0.767945</td>\n",
              "      <td>0.973863</td>\n",
              "      <td>0.884405</td>\n",
              "      <td>0.000000</td>\n",
              "      <td>-0.000094</td>\n",
              "      <td>0.037928</td>\n",
              "      <td>194</td>\n",
              "      <td>96.984925</td>\n",
              "      <td>1</td>\n",
              "    </tr>\n",
              "    <tr>\n",
              "      <th>177133</th>\n",
              "      <td>0.012804</td>\n",
              "      <td>0.722961</td>\n",
              "      <td>0.037564</td>\n",
              "      <td>0.240980</td>\n",
              "      <td>0.764427</td>\n",
              "      <td>0.980145</td>\n",
              "      <td>0.897772</td>\n",
              "      <td>0.000000</td>\n",
              "      <td>-0.000008</td>\n",
              "      <td>0.049954</td>\n",
              "      <td>195</td>\n",
              "      <td>97.487437</td>\n",
              "      <td>1</td>\n",
              "    </tr>\n",
              "    <tr>\n",
              "      <th>177134</th>\n",
              "      <td>0.015070</td>\n",
              "      <td>0.703438</td>\n",
              "      <td>0.039441</td>\n",
              "      <td>0.237876</td>\n",
              "      <td>0.761475</td>\n",
              "      <td>0.987397</td>\n",
              "      <td>0.909501</td>\n",
              "      <td>0.000000</td>\n",
              "      <td>0.000060</td>\n",
              "      <td>0.063588</td>\n",
              "      <td>196</td>\n",
              "      <td>97.989950</td>\n",
              "      <td>1</td>\n",
              "    </tr>\n",
              "    <tr>\n",
              "      <th>177135</th>\n",
              "      <td>0.017241</td>\n",
              "      <td>0.684513</td>\n",
              "      <td>0.041156</td>\n",
              "      <td>0.233891</td>\n",
              "      <td>0.758960</td>\n",
              "      <td>0.995621</td>\n",
              "      <td>0.918981</td>\n",
              "      <td>0.000000</td>\n",
              "      <td>0.000114</td>\n",
              "      <td>0.078853</td>\n",
              "      <td>197</td>\n",
              "      <td>98.492462</td>\n",
              "      <td>1</td>\n",
              "    </tr>\n",
              "    <tr>\n",
              "      <th>177136</th>\n",
              "      <td>0.019301</td>\n",
              "      <td>0.666577</td>\n",
              "      <td>0.042690</td>\n",
              "      <td>0.228386</td>\n",
              "      <td>0.756783</td>\n",
              "      <td>0.004781</td>\n",
              "      <td>0.925496</td>\n",
              "      <td>0.009824</td>\n",
              "      <td>0.000154</td>\n",
              "      <td>0.095732</td>\n",
              "      <td>198</td>\n",
              "      <td>98.994975</td>\n",
              "      <td>1</td>\n",
              "    </tr>\n",
              "  </tbody>\n",
              "</table>\n",
              "<p>177137 rows × 13 columns</p>\n",
              "</div>\n",
              "      <button class=\"colab-df-convert\" onclick=\"convertToInteractive('df-8cb2888f-b0a7-4ec8-9e72-f63accf9cc2a')\"\n",
              "              title=\"Convert this dataframe to an interactive table.\"\n",
              "              style=\"display:none;\">\n",
              "\n",
              "  <svg xmlns=\"http://www.w3.org/2000/svg\" height=\"24px\"viewBox=\"0 0 24 24\"\n",
              "       width=\"24px\">\n",
              "    <path d=\"M0 0h24v24H0V0z\" fill=\"none\"/>\n",
              "    <path d=\"M18.56 5.44l.94 2.06.94-2.06 2.06-.94-2.06-.94-.94-2.06-.94 2.06-2.06.94zm-11 1L8.5 8.5l.94-2.06 2.06-.94-2.06-.94L8.5 2.5l-.94 2.06-2.06.94zm10 10l.94 2.06.94-2.06 2.06-.94-2.06-.94-.94-2.06-.94 2.06-2.06.94z\"/><path d=\"M17.41 7.96l-1.37-1.37c-.4-.4-.92-.59-1.43-.59-.52 0-1.04.2-1.43.59L10.3 9.45l-7.72 7.72c-.78.78-.78 2.05 0 2.83L4 21.41c.39.39.9.59 1.41.59.51 0 1.02-.2 1.41-.59l7.78-7.78 2.81-2.81c.8-.78.8-2.07 0-2.86zM5.41 20L4 18.59l7.72-7.72 1.47 1.35L5.41 20z\"/>\n",
              "  </svg>\n",
              "      </button>\n",
              "\n",
              "\n",
              "\n",
              "    <div id=\"df-dd610c20-560a-4c9e-80a5-e44b022065e0\">\n",
              "      <button class=\"colab-df-quickchart\" onclick=\"quickchart('df-dd610c20-560a-4c9e-80a5-e44b022065e0')\"\n",
              "              title=\"Suggest charts.\"\n",
              "              style=\"display:none;\">\n",
              "\n",
              "<svg xmlns=\"http://www.w3.org/2000/svg\" height=\"24px\"viewBox=\"0 0 24 24\"\n",
              "     width=\"24px\">\n",
              "    <g>\n",
              "        <path d=\"M19 3H5c-1.1 0-2 .9-2 2v14c0 1.1.9 2 2 2h14c1.1 0 2-.9 2-2V5c0-1.1-.9-2-2-2zM9 17H7v-7h2v7zm4 0h-2V7h2v10zm4 0h-2v-4h2v4z\"/>\n",
              "    </g>\n",
              "</svg>\n",
              "      </button>\n",
              "    </div>\n",
              "\n",
              "<style>\n",
              "  .colab-df-quickchart {\n",
              "    background-color: #E8F0FE;\n",
              "    border: none;\n",
              "    border-radius: 50%;\n",
              "    cursor: pointer;\n",
              "    display: none;\n",
              "    fill: #1967D2;\n",
              "    height: 32px;\n",
              "    padding: 0 0 0 0;\n",
              "    width: 32px;\n",
              "  }\n",
              "\n",
              "  .colab-df-quickchart:hover {\n",
              "    background-color: #E2EBFA;\n",
              "    box-shadow: 0px 1px 2px rgba(60, 64, 67, 0.3), 0px 1px 3px 1px rgba(60, 64, 67, 0.15);\n",
              "    fill: #174EA6;\n",
              "  }\n",
              "\n",
              "  [theme=dark] .colab-df-quickchart {\n",
              "    background-color: #3B4455;\n",
              "    fill: #D2E3FC;\n",
              "  }\n",
              "\n",
              "  [theme=dark] .colab-df-quickchart:hover {\n",
              "    background-color: #434B5C;\n",
              "    box-shadow: 0px 1px 3px 1px rgba(0, 0, 0, 0.15);\n",
              "    filter: drop-shadow(0px 1px 2px rgba(0, 0, 0, 0.3));\n",
              "    fill: #FFFFFF;\n",
              "  }\n",
              "</style>\n",
              "\n",
              "    <script>\n",
              "      async function quickchart(key) {\n",
              "        const containerElement = document.querySelector('#' + key);\n",
              "        const charts = await google.colab.kernel.invokeFunction(\n",
              "            'suggestCharts', [key], {});\n",
              "      }\n",
              "    </script>\n",
              "\n",
              "      <script>\n",
              "\n",
              "function displayQuickchartButton(domScope) {\n",
              "  let quickchartButtonEl =\n",
              "    domScope.querySelector('#df-dd610c20-560a-4c9e-80a5-e44b022065e0 button.colab-df-quickchart');\n",
              "  quickchartButtonEl.style.display =\n",
              "    google.colab.kernel.accessAllowed ? 'block' : 'none';\n",
              "}\n",
              "\n",
              "        displayQuickchartButton(document);\n",
              "      </script>\n",
              "      <style>\n",
              "    .colab-df-container {\n",
              "      display:flex;\n",
              "      flex-wrap:wrap;\n",
              "      gap: 12px;\n",
              "    }\n",
              "\n",
              "    .colab-df-convert {\n",
              "      background-color: #E8F0FE;\n",
              "      border: none;\n",
              "      border-radius: 50%;\n",
              "      cursor: pointer;\n",
              "      display: none;\n",
              "      fill: #1967D2;\n",
              "      height: 32px;\n",
              "      padding: 0 0 0 0;\n",
              "      width: 32px;\n",
              "    }\n",
              "\n",
              "    .colab-df-convert:hover {\n",
              "      background-color: #E2EBFA;\n",
              "      box-shadow: 0px 1px 2px rgba(60, 64, 67, 0.3), 0px 1px 3px 1px rgba(60, 64, 67, 0.15);\n",
              "      fill: #174EA6;\n",
              "    }\n",
              "\n",
              "    [theme=dark] .colab-df-convert {\n",
              "      background-color: #3B4455;\n",
              "      fill: #D2E3FC;\n",
              "    }\n",
              "\n",
              "    [theme=dark] .colab-df-convert:hover {\n",
              "      background-color: #434B5C;\n",
              "      box-shadow: 0px 1px 3px 1px rgba(0, 0, 0, 0.15);\n",
              "      filter: drop-shadow(0px 1px 2px rgba(0, 0, 0, 0.3));\n",
              "      fill: #FFFFFF;\n",
              "    }\n",
              "  </style>\n",
              "\n",
              "      <script>\n",
              "        const buttonEl =\n",
              "          document.querySelector('#df-8cb2888f-b0a7-4ec8-9e72-f63accf9cc2a button.colab-df-convert');\n",
              "        buttonEl.style.display =\n",
              "          google.colab.kernel.accessAllowed ? 'block' : 'none';\n",
              "\n",
              "        async function convertToInteractive(key) {\n",
              "          const element = document.querySelector('#df-8cb2888f-b0a7-4ec8-9e72-f63accf9cc2a');\n",
              "          const dataTable =\n",
              "            await google.colab.kernel.invokeFunction('convertToInteractive',\n",
              "                                                     [key], {});\n",
              "          if (!dataTable) return;\n",
              "\n",
              "          const docLinkHtml = 'Like what you see? Visit the ' +\n",
              "            '<a target=\"_blank\" href=https://colab.research.google.com/notebooks/data_table.ipynb>data table notebook</a>'\n",
              "            + ' to learn more about interactive tables.';\n",
              "          element.innerHTML = '';\n",
              "          dataTable['output_type'] = 'display_data';\n",
              "          await google.colab.output.renderOutput(dataTable, element);\n",
              "          const docLink = document.createElement('div');\n",
              "          docLink.innerHTML = docLinkHtml;\n",
              "          element.appendChild(docLink);\n",
              "        }\n",
              "      </script>\n",
              "    </div>\n",
              "  </div>\n"
            ]
          },
          "metadata": {},
          "execution_count": 9
        }
      ],
      "source": [
        "cycle = 0\n",
        "cycle_list = []\n",
        "\n",
        "start = 0\n",
        "\n",
        "for i in range(len(all_data) - 1):\n",
        "    if (all_data['perc'][i+1] == 0):\n",
        "        cycle += 1\n",
        "        cycle_list.append(all_data.iloc[start:i])\n",
        "        start = i+1\n",
        "\n",
        "random.shuffle(cycle_list)\n",
        "source_table = pd.concat(cycle_list, axis=0, ignore_index=True)\n",
        "\n",
        "source_table\n"
      ]
    },
    {
      "cell_type": "code",
      "execution_count": 10,
      "metadata": {
        "colab": {
          "base_uri": "https://localhost:8080/",
          "height": 423
        },
        "id": "CX2LzKWuhOv6",
        "outputId": "6e648dca-318c-4d18-be57-56bd8989452c"
      },
      "outputs": [
        {
          "output_type": "execute_result",
          "data": {
            "text/plain": [
              "        l_ph_hip   l_ph_fo  r_ph_hip   r_ph_fo    n_lcop    n_rcop  \\\n",
              "0       0.037185  0.040447  0.005948  0.067726  0.000167  0.148317   \n",
              "1       0.038127  0.040400  0.003297  0.078182  0.000195  0.171573   \n",
              "2       0.038921  0.040178  0.000580  0.088231  0.000212  0.195864   \n",
              "3       0.039583  0.039777  0.997818  0.097712  0.000221  0.220775   \n",
              "4       0.040128  0.039196  0.994993  0.106508  0.000224  0.245789   \n",
              "...          ...       ...       ...       ...       ...       ...   \n",
              "177132  0.010464  0.035545  0.243530  0.973863 -0.000094  0.037928   \n",
              "177133  0.012804  0.037564  0.240980  0.980145 -0.000008  0.049954   \n",
              "177134  0.015070  0.039441  0.237876  0.987397  0.000060  0.063588   \n",
              "177135  0.017241  0.041156  0.233891  0.995621  0.000114  0.078853   \n",
              "177136  0.019301  0.042690  0.228386  0.004781  0.000154  0.095732   \n",
              "\n",
              "        strike_frame       perc  st_sw_phase  \n",
              "0                  1   0.000000            0  \n",
              "1                  2   0.458716            0  \n",
              "2                  3   0.917431            0  \n",
              "3                  4   1.376147            0  \n",
              "4                  5   1.834862            0  \n",
              "...              ...        ...          ...  \n",
              "177132           194  96.984925            1  \n",
              "177133           195  97.487437            1  \n",
              "177134           196  97.989950            1  \n",
              "177135           197  98.492462            1  \n",
              "177136           198  98.994975            1  \n",
              "\n",
              "[177137 rows x 9 columns]"
            ],
            "text/html": [
              "\n",
              "\n",
              "  <div id=\"df-a88c7180-6146-457f-b92c-8d34125c257a\">\n",
              "    <div class=\"colab-df-container\">\n",
              "      <div>\n",
              "<style scoped>\n",
              "    .dataframe tbody tr th:only-of-type {\n",
              "        vertical-align: middle;\n",
              "    }\n",
              "\n",
              "    .dataframe tbody tr th {\n",
              "        vertical-align: top;\n",
              "    }\n",
              "\n",
              "    .dataframe thead th {\n",
              "        text-align: right;\n",
              "    }\n",
              "</style>\n",
              "<table border=\"1\" class=\"dataframe\">\n",
              "  <thead>\n",
              "    <tr style=\"text-align: right;\">\n",
              "      <th></th>\n",
              "      <th>l_ph_hip</th>\n",
              "      <th>l_ph_fo</th>\n",
              "      <th>r_ph_hip</th>\n",
              "      <th>r_ph_fo</th>\n",
              "      <th>n_lcop</th>\n",
              "      <th>n_rcop</th>\n",
              "      <th>strike_frame</th>\n",
              "      <th>perc</th>\n",
              "      <th>st_sw_phase</th>\n",
              "    </tr>\n",
              "  </thead>\n",
              "  <tbody>\n",
              "    <tr>\n",
              "      <th>0</th>\n",
              "      <td>0.037185</td>\n",
              "      <td>0.040447</td>\n",
              "      <td>0.005948</td>\n",
              "      <td>0.067726</td>\n",
              "      <td>0.000167</td>\n",
              "      <td>0.148317</td>\n",
              "      <td>1</td>\n",
              "      <td>0.000000</td>\n",
              "      <td>0</td>\n",
              "    </tr>\n",
              "    <tr>\n",
              "      <th>1</th>\n",
              "      <td>0.038127</td>\n",
              "      <td>0.040400</td>\n",
              "      <td>0.003297</td>\n",
              "      <td>0.078182</td>\n",
              "      <td>0.000195</td>\n",
              "      <td>0.171573</td>\n",
              "      <td>2</td>\n",
              "      <td>0.458716</td>\n",
              "      <td>0</td>\n",
              "    </tr>\n",
              "    <tr>\n",
              "      <th>2</th>\n",
              "      <td>0.038921</td>\n",
              "      <td>0.040178</td>\n",
              "      <td>0.000580</td>\n",
              "      <td>0.088231</td>\n",
              "      <td>0.000212</td>\n",
              "      <td>0.195864</td>\n",
              "      <td>3</td>\n",
              "      <td>0.917431</td>\n",
              "      <td>0</td>\n",
              "    </tr>\n",
              "    <tr>\n",
              "      <th>3</th>\n",
              "      <td>0.039583</td>\n",
              "      <td>0.039777</td>\n",
              "      <td>0.997818</td>\n",
              "      <td>0.097712</td>\n",
              "      <td>0.000221</td>\n",
              "      <td>0.220775</td>\n",
              "      <td>4</td>\n",
              "      <td>1.376147</td>\n",
              "      <td>0</td>\n",
              "    </tr>\n",
              "    <tr>\n",
              "      <th>4</th>\n",
              "      <td>0.040128</td>\n",
              "      <td>0.039196</td>\n",
              "      <td>0.994993</td>\n",
              "      <td>0.106508</td>\n",
              "      <td>0.000224</td>\n",
              "      <td>0.245789</td>\n",
              "      <td>5</td>\n",
              "      <td>1.834862</td>\n",
              "      <td>0</td>\n",
              "    </tr>\n",
              "    <tr>\n",
              "      <th>...</th>\n",
              "      <td>...</td>\n",
              "      <td>...</td>\n",
              "      <td>...</td>\n",
              "      <td>...</td>\n",
              "      <td>...</td>\n",
              "      <td>...</td>\n",
              "      <td>...</td>\n",
              "      <td>...</td>\n",
              "      <td>...</td>\n",
              "    </tr>\n",
              "    <tr>\n",
              "      <th>177132</th>\n",
              "      <td>0.010464</td>\n",
              "      <td>0.035545</td>\n",
              "      <td>0.243530</td>\n",
              "      <td>0.973863</td>\n",
              "      <td>-0.000094</td>\n",
              "      <td>0.037928</td>\n",
              "      <td>194</td>\n",
              "      <td>96.984925</td>\n",
              "      <td>1</td>\n",
              "    </tr>\n",
              "    <tr>\n",
              "      <th>177133</th>\n",
              "      <td>0.012804</td>\n",
              "      <td>0.037564</td>\n",
              "      <td>0.240980</td>\n",
              "      <td>0.980145</td>\n",
              "      <td>-0.000008</td>\n",
              "      <td>0.049954</td>\n",
              "      <td>195</td>\n",
              "      <td>97.487437</td>\n",
              "      <td>1</td>\n",
              "    </tr>\n",
              "    <tr>\n",
              "      <th>177134</th>\n",
              "      <td>0.015070</td>\n",
              "      <td>0.039441</td>\n",
              "      <td>0.237876</td>\n",
              "      <td>0.987397</td>\n",
              "      <td>0.000060</td>\n",
              "      <td>0.063588</td>\n",
              "      <td>196</td>\n",
              "      <td>97.989950</td>\n",
              "      <td>1</td>\n",
              "    </tr>\n",
              "    <tr>\n",
              "      <th>177135</th>\n",
              "      <td>0.017241</td>\n",
              "      <td>0.041156</td>\n",
              "      <td>0.233891</td>\n",
              "      <td>0.995621</td>\n",
              "      <td>0.000114</td>\n",
              "      <td>0.078853</td>\n",
              "      <td>197</td>\n",
              "      <td>98.492462</td>\n",
              "      <td>1</td>\n",
              "    </tr>\n",
              "    <tr>\n",
              "      <th>177136</th>\n",
              "      <td>0.019301</td>\n",
              "      <td>0.042690</td>\n",
              "      <td>0.228386</td>\n",
              "      <td>0.004781</td>\n",
              "      <td>0.000154</td>\n",
              "      <td>0.095732</td>\n",
              "      <td>198</td>\n",
              "      <td>98.994975</td>\n",
              "      <td>1</td>\n",
              "    </tr>\n",
              "  </tbody>\n",
              "</table>\n",
              "<p>177137 rows × 9 columns</p>\n",
              "</div>\n",
              "      <button class=\"colab-df-convert\" onclick=\"convertToInteractive('df-a88c7180-6146-457f-b92c-8d34125c257a')\"\n",
              "              title=\"Convert this dataframe to an interactive table.\"\n",
              "              style=\"display:none;\">\n",
              "\n",
              "  <svg xmlns=\"http://www.w3.org/2000/svg\" height=\"24px\"viewBox=\"0 0 24 24\"\n",
              "       width=\"24px\">\n",
              "    <path d=\"M0 0h24v24H0V0z\" fill=\"none\"/>\n",
              "    <path d=\"M18.56 5.44l.94 2.06.94-2.06 2.06-.94-2.06-.94-.94-2.06-.94 2.06-2.06.94zm-11 1L8.5 8.5l.94-2.06 2.06-.94-2.06-.94L8.5 2.5l-.94 2.06-2.06.94zm10 10l.94 2.06.94-2.06 2.06-.94-2.06-.94-.94-2.06-.94 2.06-2.06.94z\"/><path d=\"M17.41 7.96l-1.37-1.37c-.4-.4-.92-.59-1.43-.59-.52 0-1.04.2-1.43.59L10.3 9.45l-7.72 7.72c-.78.78-.78 2.05 0 2.83L4 21.41c.39.39.9.59 1.41.59.51 0 1.02-.2 1.41-.59l7.78-7.78 2.81-2.81c.8-.78.8-2.07 0-2.86zM5.41 20L4 18.59l7.72-7.72 1.47 1.35L5.41 20z\"/>\n",
              "  </svg>\n",
              "      </button>\n",
              "\n",
              "\n",
              "\n",
              "    <div id=\"df-95ee7576-0948-4a6c-b6f7-a86d81bb02b3\">\n",
              "      <button class=\"colab-df-quickchart\" onclick=\"quickchart('df-95ee7576-0948-4a6c-b6f7-a86d81bb02b3')\"\n",
              "              title=\"Suggest charts.\"\n",
              "              style=\"display:none;\">\n",
              "\n",
              "<svg xmlns=\"http://www.w3.org/2000/svg\" height=\"24px\"viewBox=\"0 0 24 24\"\n",
              "     width=\"24px\">\n",
              "    <g>\n",
              "        <path d=\"M19 3H5c-1.1 0-2 .9-2 2v14c0 1.1.9 2 2 2h14c1.1 0 2-.9 2-2V5c0-1.1-.9-2-2-2zM9 17H7v-7h2v7zm4 0h-2V7h2v10zm4 0h-2v-4h2v4z\"/>\n",
              "    </g>\n",
              "</svg>\n",
              "      </button>\n",
              "    </div>\n",
              "\n",
              "<style>\n",
              "  .colab-df-quickchart {\n",
              "    background-color: #E8F0FE;\n",
              "    border: none;\n",
              "    border-radius: 50%;\n",
              "    cursor: pointer;\n",
              "    display: none;\n",
              "    fill: #1967D2;\n",
              "    height: 32px;\n",
              "    padding: 0 0 0 0;\n",
              "    width: 32px;\n",
              "  }\n",
              "\n",
              "  .colab-df-quickchart:hover {\n",
              "    background-color: #E2EBFA;\n",
              "    box-shadow: 0px 1px 2px rgba(60, 64, 67, 0.3), 0px 1px 3px 1px rgba(60, 64, 67, 0.15);\n",
              "    fill: #174EA6;\n",
              "  }\n",
              "\n",
              "  [theme=dark] .colab-df-quickchart {\n",
              "    background-color: #3B4455;\n",
              "    fill: #D2E3FC;\n",
              "  }\n",
              "\n",
              "  [theme=dark] .colab-df-quickchart:hover {\n",
              "    background-color: #434B5C;\n",
              "    box-shadow: 0px 1px 3px 1px rgba(0, 0, 0, 0.15);\n",
              "    filter: drop-shadow(0px 1px 2px rgba(0, 0, 0, 0.3));\n",
              "    fill: #FFFFFF;\n",
              "  }\n",
              "</style>\n",
              "\n",
              "    <script>\n",
              "      async function quickchart(key) {\n",
              "        const containerElement = document.querySelector('#' + key);\n",
              "        const charts = await google.colab.kernel.invokeFunction(\n",
              "            'suggestCharts', [key], {});\n",
              "      }\n",
              "    </script>\n",
              "\n",
              "      <script>\n",
              "\n",
              "function displayQuickchartButton(domScope) {\n",
              "  let quickchartButtonEl =\n",
              "    domScope.querySelector('#df-95ee7576-0948-4a6c-b6f7-a86d81bb02b3 button.colab-df-quickchart');\n",
              "  quickchartButtonEl.style.display =\n",
              "    google.colab.kernel.accessAllowed ? 'block' : 'none';\n",
              "}\n",
              "\n",
              "        displayQuickchartButton(document);\n",
              "      </script>\n",
              "      <style>\n",
              "    .colab-df-container {\n",
              "      display:flex;\n",
              "      flex-wrap:wrap;\n",
              "      gap: 12px;\n",
              "    }\n",
              "\n",
              "    .colab-df-convert {\n",
              "      background-color: #E8F0FE;\n",
              "      border: none;\n",
              "      border-radius: 50%;\n",
              "      cursor: pointer;\n",
              "      display: none;\n",
              "      fill: #1967D2;\n",
              "      height: 32px;\n",
              "      padding: 0 0 0 0;\n",
              "      width: 32px;\n",
              "    }\n",
              "\n",
              "    .colab-df-convert:hover {\n",
              "      background-color: #E2EBFA;\n",
              "      box-shadow: 0px 1px 2px rgba(60, 64, 67, 0.3), 0px 1px 3px 1px rgba(60, 64, 67, 0.15);\n",
              "      fill: #174EA6;\n",
              "    }\n",
              "\n",
              "    [theme=dark] .colab-df-convert {\n",
              "      background-color: #3B4455;\n",
              "      fill: #D2E3FC;\n",
              "    }\n",
              "\n",
              "    [theme=dark] .colab-df-convert:hover {\n",
              "      background-color: #434B5C;\n",
              "      box-shadow: 0px 1px 3px 1px rgba(0, 0, 0, 0.15);\n",
              "      filter: drop-shadow(0px 1px 2px rgba(0, 0, 0, 0.3));\n",
              "      fill: #FFFFFF;\n",
              "    }\n",
              "  </style>\n",
              "\n",
              "      <script>\n",
              "        const buttonEl =\n",
              "          document.querySelector('#df-a88c7180-6146-457f-b92c-8d34125c257a button.colab-df-convert');\n",
              "        buttonEl.style.display =\n",
              "          google.colab.kernel.accessAllowed ? 'block' : 'none';\n",
              "\n",
              "        async function convertToInteractive(key) {\n",
              "          const element = document.querySelector('#df-a88c7180-6146-457f-b92c-8d34125c257a');\n",
              "          const dataTable =\n",
              "            await google.colab.kernel.invokeFunction('convertToInteractive',\n",
              "                                                     [key], {});\n",
              "          if (!dataTable) return;\n",
              "\n",
              "          const docLinkHtml = 'Like what you see? Visit the ' +\n",
              "            '<a target=\"_blank\" href=https://colab.research.google.com/notebooks/data_table.ipynb>data table notebook</a>'\n",
              "            + ' to learn more about interactive tables.';\n",
              "          element.innerHTML = '';\n",
              "          dataTable['output_type'] = 'display_data';\n",
              "          await google.colab.output.renderOutput(dataTable, element);\n",
              "          const docLink = document.createElement('div');\n",
              "          docLink.innerHTML = docLinkHtml;\n",
              "          element.appendChild(docLink);\n",
              "        }\n",
              "      </script>\n",
              "    </div>\n",
              "  </div>\n"
            ]
          },
          "metadata": {},
          "execution_count": 10
        }
      ],
      "source": [
        "source_table = source_table.drop([\"n_lgrf\",\"n_r_grf\",\"l_ph_ank\",\"r_ph_ank\"], axis = 1)#,'l_ph_hip','l_ph_fo','n_lcop'], axis = 1)\n",
        "source_table"
      ]
    },
    {
      "cell_type": "code",
      "execution_count": 11,
      "metadata": {
        "id": "Uy980Nr0hOv6"
      },
      "outputs": [],
      "source": [
        "x = source_table\n",
        "x = x.drop(['perc'], axis=1)\n",
        "scaler = MinMaxScaler()\n",
        "x_scaled = scaler.fit_transform(x)\n",
        "x_scaled = pd.DataFrame(x_scaled)\n",
        "\n",
        "encode_gait_percentage(source_table, 'perc')\n",
        "y = source_table[[\"X\",\"Y\"]]\n",
        "y\n",
        "\n",
        "data_x = x_scaled\n"
      ]
    },
    {
      "cell_type": "code",
      "execution_count": 12,
      "metadata": {
        "id": "NZJUQdlrhOv7"
      },
      "outputs": [],
      "source": [
        "data_y = y.values.reshape(-1,2)"
      ]
    },
    {
      "cell_type": "code",
      "execution_count": 13,
      "metadata": {
        "colab": {
          "base_uri": "https://localhost:8080/"
        },
        "id": "nPuERZxWhOv7",
        "outputId": "95ea0c06-8750-4254-d30f-2f5c93016f87"
      },
      "outputs": [
        {
          "output_type": "execute_result",
          "data": {
            "text/plain": [
              "numpy.ndarray"
            ]
          },
          "metadata": {},
          "execution_count": 13
        }
      ],
      "source": [
        "type(data_y)"
      ]
    },
    {
      "cell_type": "code",
      "execution_count": 14,
      "metadata": {
        "id": "BMTNkMouLdlD"
      },
      "outputs": [],
      "source": [
        "\n",
        "\n",
        "#data_x,data_y= shuffle_multiple_datasets_based_on_gait_cycle( file_name, excel_path)\n",
        "\n",
        "X_train, X_test,y_train, y_test = train_test_split(data_x, data_y ,\n",
        "                        test_size=0.25,\n",
        "                        shuffle=False)\n",
        "look_back = 10\n",
        "fore_cast = 1\n",
        "\n",
        "train_x, train_y = convert_data(X_train, y_train, look_back, fore_cast)\n",
        "validation_x, validation_y = convert_data(X_test, y_test, look_back, fore_cast)\n"
      ]
    },
    {
      "cell_type": "code",
      "execution_count": 15,
      "metadata": {
        "colab": {
          "base_uri": "https://localhost:8080/"
        },
        "id": "LCK0YESF04ok",
        "outputId": "5f249c4d-d226-439a-db6f-b9f2137ce26e"
      },
      "outputs": [
        {
          "output_type": "stream",
          "name": "stdout",
          "text": [
            "(132841, 10, 8)\n",
            "(132841, 2)\n",
            "(44274, 10, 8)\n",
            "(44274, 2)\n"
          ]
        }
      ],
      "source": [
        "print(train_x.shape)\n",
        "print(train_y.shape)\n",
        "print(validation_x.shape)\n",
        "print(validation_y.shape)\n"
      ]
    },
    {
      "cell_type": "code",
      "execution_count": 16,
      "metadata": {
        "colab": {
          "base_uri": "https://localhost:8080/"
        },
        "id": "hhL-sk1EhOv8",
        "outputId": "57591eea-8317-4d52-d384-c5fd12223831"
      },
      "outputs": [
        {
          "output_type": "execute_result",
          "data": {
            "text/plain": [
              "(132841, 10, 8)"
            ]
          },
          "metadata": {},
          "execution_count": 16
        }
      ],
      "source": [
        "train_x.shape"
      ]
    },
    {
      "cell_type": "code",
      "execution_count": 17,
      "metadata": {
        "colab": {
          "base_uri": "https://localhost:8080/"
        },
        "id": "_pUL_UtrTApY",
        "outputId": "c7e6243c-a979-4ad4-c028-016f1b8fe5a7"
      },
      "outputs": [
        {
          "output_type": "stream",
          "name": "stdout",
          "text": [
            "(4426, 10, 8)\n",
            "(4426, 2)\n"
          ]
        }
      ],
      "source": [
        "\n",
        "\n",
        "n1=validation_x.shape[0]\n",
        "val_x=validation_x[1:int(n1/10),:]\n",
        "val_y=validation_y[1:int(n1/10),:]\n",
        "print(val_x.shape)\n",
        "print(val_y.shape)"
      ]
    },
    {
      "cell_type": "code",
      "source": [
        "from keras import Model\n",
        "from keras.layers import Layer\n",
        "import keras.backend as K\n",
        "from keras.layers import Input, Dense, SimpleRNN\n",
        "from sklearn.preprocessing import MinMaxScaler\n",
        "from keras.models import Sequential\n",
        "from keras.metrics import mean_squared_error\n",
        "\n",
        "class attention(Layer):\n",
        "    def __init__(self,**kwargs):\n",
        "        super(attention,self).__init__(**kwargs)\n",
        "\n",
        "    def build(self,input_shape):\n",
        "        self.W=self.add_weight(name='attention_weight', shape=(input_shape[-1],1),\n",
        "                               initializer='random_normal', trainable=True)\n",
        "        self.b=self.add_weight(name='attention_bias', shape=(input_shape[1],1),\n",
        "                               initializer='zeros', trainable=True)\n",
        "        super(attention, self).build(input_shape)\n",
        "\n",
        "    def call(self,x):\n",
        "        # Alignment scores. Pass them through tanh function\n",
        "        print(x.shape)\n",
        "        e = K.tanh(K.dot(x,self.W)+self.b)\n",
        "        # Remove dimension of size 1\n",
        "        e = K.squeeze(e, axis=-1)\n",
        "        # Compute the weights\n",
        "        alpha = K.softmax(e)\n",
        "        # Reshape to tensorFlow format\n",
        "        alpha = K.expand_dims(alpha, axis=-1)\n",
        "        # Compute the context vector\n",
        "        context = x * alpha\n",
        "        context = K.sum(context, axis=1)\n",
        "        return context"
      ],
      "metadata": {
        "id": "amQi1sX8bxzx"
      },
      "execution_count": 18,
      "outputs": []
    },
    {
      "cell_type": "code",
      "source": [
        "import tensorflow as tf\n",
        "lr = 0.001\n",
        "epochs = 30\n",
        "batch = 128\n",
        "n_features=train_x.shape[2]\n",
        "seq_len = train_x.shape[1]\n",
        "x=Input(shape=(seq_len, train_x.shape[2]))\n",
        "\n",
        "\n",
        "l1=tf.keras.layers.AveragePooling1D(\n",
        "    pool_size=2,\n",
        "    strides=1)(x)\n",
        "att1 = attention()(x)\n",
        "rep_layer = L.RepeatVector((seq_len))(att1);\n",
        "\n",
        "l2=L.Dense(n_features)(x)\n",
        "print(l1.shape)\n",
        "print(l2.shape)\n",
        "\n",
        "inp=tf.concat([l1,rep_layer,l2],1)\n",
        "print(inp.shape)\n",
        "inp = L.MaxPooling1D(pool_size=2,strides=1)(inp)\n",
        "\n",
        "# RNN_layer = SimpleRNN(hidden_units, return_sequences=True, activation=activation)(x)\n",
        "LSTM_layer2 = LSTM(32, return_sequences=True)(inp)\n",
        "# attn_layer1 = attention()(LSTM_layer2)\n",
        "tmp_layer = L.Flatten()(LSTM_layer2)\n",
        "lin_layer1= L.Dense(32)(tmp_layer)\n",
        "lin_layer2 = L.Dense(2)(lin_layer1)\n",
        "# rep_layer = L.RepeatVector((10))(attn_layer1)\n",
        "# attn_layer2 = attention()(rep_layer)\n",
        "# LSTM_layer3 = LSTM(32, return_sequences=True)(rep_layer)\n",
        "# LSTM_layer4 = LSTM(64, return_sequences=True)(LSTM_layer3)\n",
        "# lin_layer = L.TimeDistributed(L.Dense(n_features))(LSTM_layer4)\n",
        "# tmp_layer = Flatten()(rep_layer)\n",
        "# lin_layer = L.Dense(2)(tmp_layer)\n",
        "model=Model(x,lin_layer2)\n",
        "model.summary()\n",
        "adam = optimizers.Adam(lr)\n",
        "model.compile(loss='mse', optimizer=adam)"
      ],
      "metadata": {
        "colab": {
          "base_uri": "https://localhost:8080/"
        },
        "id": "_s_0epwZvjEX",
        "outputId": "112cfe62-bcf6-49b7-bc3b-fca28ee90c17"
      },
      "execution_count": 19,
      "outputs": [
        {
          "output_type": "stream",
          "name": "stdout",
          "text": [
            "(None, 10, 8)\n",
            "(None, 9, 8)\n",
            "(None, 10, 8)\n",
            "(None, 29, 8)\n",
            "Model: \"model\"\n",
            "__________________________________________________________________________________________________\n",
            " Layer (type)                   Output Shape         Param #     Connected to                     \n",
            "==================================================================================================\n",
            " input_1 (InputLayer)           [(None, 10, 8)]      0           []                               \n",
            "                                                                                                  \n",
            " attention (attention)          (None, 8)            18          ['input_1[0][0]']                \n",
            "                                                                                                  \n",
            " average_pooling1d (AveragePool  (None, 9, 8)        0           ['input_1[0][0]']                \n",
            " ing1D)                                                                                           \n",
            "                                                                                                  \n",
            " repeat_vector (RepeatVector)   (None, 10, 8)        0           ['attention[0][0]']              \n",
            "                                                                                                  \n",
            " dense (Dense)                  (None, 10, 8)        72          ['input_1[0][0]']                \n",
            "                                                                                                  \n",
            " tf.concat (TFOpLambda)         (None, 29, 8)        0           ['average_pooling1d[0][0]',      \n",
            "                                                                  'repeat_vector[0][0]',          \n",
            "                                                                  'dense[0][0]']                  \n",
            "                                                                                                  \n",
            " max_pooling1d (MaxPooling1D)   (None, 28, 8)        0           ['tf.concat[0][0]']              \n",
            "                                                                                                  \n",
            " lstm (LSTM)                    (None, 28, 32)       5248        ['max_pooling1d[0][0]']          \n",
            "                                                                                                  \n",
            " flatten (Flatten)              (None, 896)          0           ['lstm[0][0]']                   \n",
            "                                                                                                  \n",
            " dense_1 (Dense)                (None, 32)           28704       ['flatten[0][0]']                \n",
            "                                                                                                  \n",
            " dense_2 (Dense)                (None, 2)            66          ['dense_1[0][0]']                \n",
            "                                                                                                  \n",
            "==================================================================================================\n",
            "Total params: 34,108\n",
            "Trainable params: 34,108\n",
            "Non-trainable params: 0\n",
            "__________________________________________________________________________________________________\n"
          ]
        }
      ]
    },
    {
      "cell_type": "code",
      "source": [
        "import tensorflow as tf\n",
        "lr = 0.001\n",
        "epochs = 30\n",
        "batch = 128\n",
        "n_features=train_x.shape[2]\n",
        "seq_len = train_x.shape[1]\n",
        "x=Input(shape=(seq_len, train_x.shape[2]))\n",
        "\n",
        "\n",
        "l1=tf.keras.layers.AveragePooling1D(\n",
        "    pool_size=2,\n",
        "    strides=None)(x)\n",
        "att1 = attention()(x)\n",
        "rep_layer = L.RepeatVector((seq_len))(att1);\n",
        "\n",
        "l2=L.Dense(n_features)(x)\n",
        "print(l1.shape)\n",
        "print(l2.shape)\n",
        "\n",
        "inp=tf.concat([l1,rep_layer,l2],1)\n",
        "print(inp.shape)\n",
        "# RNN_layer = SimpleRNN(hidden_units, return_sequences=True, activation=activation)(x)\n",
        "LSTM_layer2 = LSTM(32, return_sequences=True)(inp)\n",
        "# attn_layer1 = attention()(LSTM_layer2)\n",
        "tmp_layer = L.Flatten()(LSTM_layer2)\n",
        "lin_layer1= L.Dense(32)(tmp_layer)\n",
        "lin_layer2 = L.Dense(2)(lin_layer1)\n",
        "# rep_layer = L.RepeatVector((10))(attn_layer1)\n",
        "# attn_layer2 = attention()(rep_layer)\n",
        "# LSTM_layer3 = LSTM(32, return_sequences=True)(rep_layer)\n",
        "# LSTM_layer4 = LSTM(64, return_sequences=True)(LSTM_layer3)\n",
        "# lin_layer = L.TimeDistributed(L.Dense(n_features))(LSTM_layer4)\n",
        "# tmp_layer = Flatten()(rep_layer)\n",
        "# lin_layer = L.Dense(2)(tmp_layer)\n",
        "model=Model(x,lin_layer2)\n",
        "model.summary()\n",
        "adam = optimizers.Adam(lr)\n",
        "model.compile(loss='mse', optimizer=adam)"
      ],
      "metadata": {
        "id": "3bipK8umzzK-",
        "colab": {
          "base_uri": "https://localhost:8080/"
        },
        "outputId": "0ca8d007-e0e4-4c9b-ed8c-0a191ea9a921"
      },
      "execution_count": 20,
      "outputs": [
        {
          "output_type": "stream",
          "name": "stdout",
          "text": [
            "(None, 10, 8)\n",
            "(None, 5, 8)\n",
            "(None, 10, 8)\n",
            "(None, 25, 8)\n",
            "Model: \"model_1\"\n",
            "__________________________________________________________________________________________________\n",
            " Layer (type)                   Output Shape         Param #     Connected to                     \n",
            "==================================================================================================\n",
            " input_2 (InputLayer)           [(None, 10, 8)]      0           []                               \n",
            "                                                                                                  \n",
            " attention_1 (attention)        (None, 8)            18          ['input_2[0][0]']                \n",
            "                                                                                                  \n",
            " average_pooling1d_1 (AveragePo  (None, 5, 8)        0           ['input_2[0][0]']                \n",
            " oling1D)                                                                                         \n",
            "                                                                                                  \n",
            " repeat_vector_1 (RepeatVector)  (None, 10, 8)       0           ['attention_1[0][0]']            \n",
            "                                                                                                  \n",
            " dense_3 (Dense)                (None, 10, 8)        72          ['input_2[0][0]']                \n",
            "                                                                                                  \n",
            " tf.concat_1 (TFOpLambda)       (None, 25, 8)        0           ['average_pooling1d_1[0][0]',    \n",
            "                                                                  'repeat_vector_1[0][0]',        \n",
            "                                                                  'dense_3[0][0]']                \n",
            "                                                                                                  \n",
            " lstm_1 (LSTM)                  (None, 25, 32)       5248        ['tf.concat_1[0][0]']            \n",
            "                                                                                                  \n",
            " flatten_1 (Flatten)            (None, 800)          0           ['lstm_1[0][0]']                 \n",
            "                                                                                                  \n",
            " dense_4 (Dense)                (None, 32)           25632       ['flatten_1[0][0]']              \n",
            "                                                                                                  \n",
            " dense_5 (Dense)                (None, 2)            66          ['dense_4[0][0]']                \n",
            "                                                                                                  \n",
            "==================================================================================================\n",
            "Total params: 31,036\n",
            "Trainable params: 31,036\n",
            "Non-trainable params: 0\n",
            "__________________________________________________________________________________________________\n"
          ]
        }
      ]
    },
    {
      "cell_type": "code",
      "source": [
        "model_history = model.fit( train_x, train_y, epochs=epochs, batch_size=batch,  verbose=1)"
      ],
      "metadata": {
        "colab": {
          "base_uri": "https://localhost:8080/"
        },
        "id": "5-pm5CPkuTWk",
        "outputId": "43f627a6-95ad-409a-ca68-d8ceb59c3ce7"
      },
      "execution_count": 21,
      "outputs": [
        {
          "output_type": "stream",
          "name": "stdout",
          "text": [
            "Epoch 1/30\n",
            "(None, 10, 8)\n",
            "(None, 10, 8)\n",
            "1038/1038 [==============================] - 33s 28ms/step - loss: 0.0230\n",
            "Epoch 2/30\n",
            "1038/1038 [==============================] - 26s 25ms/step - loss: 0.0078\n",
            "Epoch 3/30\n",
            "1038/1038 [==============================] - 29s 28ms/step - loss: 0.0062\n",
            "Epoch 4/30\n",
            "1038/1038 [==============================] - 28s 27ms/step - loss: 0.0053\n",
            "Epoch 5/30\n",
            "1038/1038 [==============================] - 28s 27ms/step - loss: 0.0046\n",
            "Epoch 6/30\n",
            "1038/1038 [==============================] - 29s 28ms/step - loss: 0.0042\n",
            "Epoch 7/30\n",
            "1038/1038 [==============================] - 27s 26ms/step - loss: 0.0037\n",
            "Epoch 8/30\n",
            "1038/1038 [==============================] - 29s 28ms/step - loss: 0.0034\n",
            "Epoch 9/30\n",
            "1038/1038 [==============================] - 28s 27ms/step - loss: 0.0032\n",
            "Epoch 10/30\n",
            "1038/1038 [==============================] - 27s 26ms/step - loss: 0.0030\n",
            "Epoch 11/30\n",
            "1038/1038 [==============================] - 29s 28ms/step - loss: 0.0029\n",
            "Epoch 12/30\n",
            "1038/1038 [==============================] - 26s 25ms/step - loss: 0.0028\n",
            "Epoch 13/30\n",
            "1038/1038 [==============================] - 29s 28ms/step - loss: 0.0027\n",
            "Epoch 14/30\n",
            "1038/1038 [==============================] - 28s 27ms/step - loss: 0.0027\n",
            "Epoch 15/30\n",
            "1038/1038 [==============================] - 28s 27ms/step - loss: 0.0026\n",
            "Epoch 16/30\n",
            "1038/1038 [==============================] - 29s 28ms/step - loss: 0.0025\n",
            "Epoch 17/30\n",
            "1038/1038 [==============================] - 27s 26ms/step - loss: 0.0025\n",
            "Epoch 18/30\n",
            "1038/1038 [==============================] - 29s 28ms/step - loss: 0.0025\n",
            "Epoch 19/30\n",
            "1038/1038 [==============================] - 28s 27ms/step - loss: 0.0024\n",
            "Epoch 20/30\n",
            "1038/1038 [==============================] - 27s 26ms/step - loss: 0.0023\n",
            "Epoch 21/30\n",
            "1038/1038 [==============================] - 29s 28ms/step - loss: 0.0023\n",
            "Epoch 22/30\n",
            "1038/1038 [==============================] - 26s 25ms/step - loss: 0.0022\n",
            "Epoch 23/30\n",
            "1038/1038 [==============================] - 29s 28ms/step - loss: 0.0022\n",
            "Epoch 24/30\n",
            "1038/1038 [==============================] - 28s 27ms/step - loss: 0.0022\n",
            "Epoch 25/30\n",
            "1038/1038 [==============================] - 27s 26ms/step - loss: 0.0021\n",
            "Epoch 26/30\n",
            "1038/1038 [==============================] - 29s 28ms/step - loss: 0.0021\n",
            "Epoch 27/30\n",
            "1038/1038 [==============================] - 27s 26ms/step - loss: 0.0020\n",
            "Epoch 28/30\n",
            "1038/1038 [==============================] - 29s 28ms/step - loss: 0.0020\n",
            "Epoch 29/30\n",
            "1038/1038 [==============================] - 27s 26ms/step - loss: 0.0019\n",
            "Epoch 30/30\n",
            "1038/1038 [==============================] - 28s 27ms/step - loss: 0.0019\n"
          ]
        }
      ]
    },
    {
      "cell_type": "code",
      "source": [
        "model.save(path+\"cnn_new_model_all_sub_2_leg_\")"
      ],
      "metadata": {
        "colab": {
          "base_uri": "https://localhost:8080/"
        },
        "id": "gqQpm8-DInAX",
        "outputId": "5c3ce549-cd46-43d9-cff9-96b3c14f47f3"
      },
      "execution_count": null,
      "outputs": [
        {
          "output_type": "stream",
          "name": "stdout",
          "text": [
            "(None, 10, 8)\n",
            "(None, 10, 8)\n",
            "(None, 10, 8)\n",
            "(None, 10, 8)\n",
            "(None, 10, 8)\n"
          ]
        },
        {
          "output_type": "stream",
          "name": "stderr",
          "text": [
            "WARNING:absl:Found untraced functions such as _update_step_xla, lstm_cell_layer_call_fn, lstm_cell_layer_call_and_return_conditional_losses while saving (showing 3 of 3). These functions will not be directly callable after loading.\n"
          ]
        }
      ]
    },
    {
      "cell_type": "code",
      "source": [
        "model = tf.keras.models.load_model(path+\"cnn_new_model_sd_sks_th\")"
      ],
      "metadata": {
        "id": "Jw9laCHEOilj"
      },
      "execution_count": null,
      "outputs": []
    },
    {
      "cell_type": "code",
      "source": [
        "def step_decay(epoch):\n",
        "\tinitial_lrate = 0.001\n",
        "\tdrop = 0.005\n",
        "\tepochs_drop = 10\n",
        "\tlrate=initial_lrate - 0.00001\n",
        "\t# lrate = initial_lrate * math.pow(drop, math.floor((1+epoch)/epochs_drop))\n",
        "\treturn lrate\n"
      ],
      "metadata": {
        "id": "MiLnoJ_WEU6x"
      },
      "execution_count": 22,
      "outputs": []
    },
    {
      "cell_type": "code",
      "source": [
        "# trainPredict = model.predict(train_x)\n",
        "testPredict = model.predict(validation_x)"
      ],
      "metadata": {
        "colab": {
          "base_uri": "https://localhost:8080/"
        },
        "id": "U9VdiCTVBa4z",
        "outputId": "d5b4b229-4b48-4186-9039-9f9e0fb100a7"
      },
      "execution_count": 23,
      "outputs": [
        {
          "output_type": "stream",
          "name": "stdout",
          "text": [
            "(None, 10, 8)\n",
            "1384/1384 [==============================] - 9s 6ms/step\n"
          ]
        }
      ]
    },
    {
      "cell_type": "code",
      "source": [
        "\n",
        "testPredict.shape"
      ],
      "metadata": {
        "colab": {
          "base_uri": "https://localhost:8080/"
        },
        "id": "I8TZkfOkLUf5",
        "outputId": "9ba6a815-fcd9-499d-c9f4-6f6ed0065ebd"
      },
      "execution_count": 24,
      "outputs": [
        {
          "output_type": "execute_result",
          "data": {
            "text/plain": [
              "(44274, 2)"
            ]
          },
          "metadata": {},
          "execution_count": 24
        }
      ]
    },
    {
      "cell_type": "code",
      "source": [
        "from sklearn.metrics import mean_squared_error\n",
        "\n",
        "# trainScore = np.sqrt(mean_squared_error(train_y, trainPredict))\n",
        "# print('Train Score: %.2f RMSE' % (trainScore))\n",
        "testScore = np.sqrt(mean_squared_error(validation_y, testPredict))\n",
        "print('Test Score: %.2f RMSE' % (testScore))"
      ],
      "metadata": {
        "colab": {
          "base_uri": "https://localhost:8080/"
        },
        "id": "QO0pIoqu36me",
        "outputId": "6cb6520e-3f6f-4d88-d5e9-01abf723b8b7"
      },
      "execution_count": 25,
      "outputs": [
        {
          "output_type": "stream",
          "name": "stdout",
          "text": [
            "Test Score: 0.05 RMSE\n"
          ]
        }
      ]
    },
    {
      "cell_type": "code",
      "source": [
        "v = X_test[11:]\n",
        "v.shape"
      ],
      "metadata": {
        "colab": {
          "base_uri": "https://localhost:8080/"
        },
        "id": "ghh2H9ws4CPm",
        "outputId": "5abbf3a0-ece7-4710-a381-7aa3f8980257"
      },
      "execution_count": 26,
      "outputs": [
        {
          "output_type": "execute_result",
          "data": {
            "text/plain": [
              "(44274, 8)"
            ]
          },
          "metadata": {},
          "execution_count": 26
        }
      ]
    },
    {
      "cell_type": "code",
      "source": [
        "\n",
        "x_test = scaler.inverse_transform(v)\n",
        "\n",
        "pred = np.zeros((len(testPredict),1))\n",
        "\n",
        "for iter in range(len(testPredict)):\n",
        "  x = testPredict[iter][0]\n",
        "  y = testPredict[iter][1]\n",
        "  pred[iter] = ((math.atan2(y,x) + 2*math.pi) % (2*math.pi)) * (100 / (2*math.pi))\n",
        "\n",
        "\n",
        "  # if ((pred[iter] >= 80) & (x_test[iter][-1] <= 20)) :\n",
        "  #   pred[iter] = pred[iter] - 100\n",
        "  #   if abs(pred[iter]) >= 5:\n",
        "  #     pred[iter] = 0\n",
        "\n",
        "\n",
        "  # if ((pred[iter] <= 20) & (x_test[iter][-1] >= 150)):\n",
        "  #   pred[iter] = 100 - pred[iter]\n",
        "  #   if abs(pred[iter]) >= 5:\n",
        "  #       pred[iter] = 100\n",
        "\n",
        "\n",
        "\n",
        "\n",
        "  # if (pred[iter] > 100):\n",
        "  #  pred[iter] = pred[iter] - 100\n",
        "\n",
        "pred1=pd.DataFrame(pred).sort_index().reset_index()"
      ],
      "metadata": {
        "id": "XBtXpqWU0nw0"
      },
      "execution_count": 27,
      "outputs": []
    },
    {
      "cell_type": "code",
      "source": [
        "actual = np.zeros((len(validation_y),1))\n",
        "\n",
        "for iter in range(len(validation_y)):\n",
        "  x =validation_y[iter][0]\n",
        "  y =validation_y[iter][1]\n",
        "  actual[iter] = ((math.atan2(y,x) + 2*math.pi) % (2*math.pi)) * (100 / (2*math.pi))"
      ],
      "metadata": {
        "id": "KIsIEir80qmo"
      },
      "execution_count": 28,
      "outputs": []
    },
    {
      "cell_type": "code",
      "source": [
        "correct = 0\n",
        "for i in range(5):\n",
        "  correct = 0\n",
        "  for iter in range(len(actual)):\n",
        "    if (abs(actual[iter] - pred[iter]) <= (i+1)) or (actual[iter]>98) or(actual[iter]<3):\n",
        "      correct+=1\n",
        "\n",
        "  print(correct)\n",
        "  print(len(actual))\n",
        "\n",
        "  print(\"Precision \", i+1, \": \", correct * 100/len(actual))"
      ],
      "metadata": {
        "colab": {
          "base_uri": "https://localhost:8080/"
        },
        "id": "-bNRktP10tNK",
        "outputId": "d67925f6-ecce-4ee3-d83e-ce74492ec76c"
      },
      "execution_count": 29,
      "outputs": [
        {
          "output_type": "stream",
          "name": "stdout",
          "text": [
            "31559\n",
            "44274\n",
            "Precision  1 :  71.28111306861815\n",
            "41894\n",
            "44274\n",
            "Precision  2 :  94.62438451461354\n",
            "43720\n",
            "44274\n",
            "Precision  3 :  98.74870126936803\n",
            "44147\n",
            "44274\n",
            "Precision  4 :  99.71314992998148\n",
            "44259\n",
            "44274\n",
            "Precision  5 :  99.96612007047025\n"
          ]
        }
      ]
    },
    {
      "cell_type": "code",
      "source": [
        "perc_rmse = np.sqrt(mean_squared_error(actual, pred))\n",
        "print(\"Predicting Percentage RMSE: \", perc_rmse)\n",
        "rmse = 0\n",
        "length = len(actual)\n",
        "for i in range(len(actual)):\n",
        "  if abs (pred[i] - actual[i]) >= 90:\n",
        "    length -= 1\n",
        "  else:\n",
        "    rmse = rmse + pow(pred[i] - actual[i], 2)\n",
        "rmse = rmse / length\n",
        "rmse = math.sqrt(rmse)\n",
        "print(length)\n",
        "print(len(actual))\n",
        "print(rmse)"
      ],
      "metadata": {
        "colab": {
          "base_uri": "https://localhost:8080/"
        },
        "id": "LfzR41e40wqK",
        "outputId": "bf00bd73-6b59-46d3-9187-235284fe5c34"
      },
      "execution_count": 30,
      "outputs": [
        {
          "output_type": "stream",
          "name": "stdout",
          "text": [
            "Predicting Percentage RMSE:  8.114496825278318\n",
            "43983\n",
            "44274\n",
            "1.0280709498917366\n"
          ]
        },
        {
          "output_type": "stream",
          "name": "stderr",
          "text": [
            "<ipython-input-30-21bf04cfed5a>:11: DeprecationWarning: Conversion of an array with ndim > 0 to a scalar is deprecated, and will error in future. Ensure you extract a single element from your array before performing this operation. (Deprecated NumPy 1.25.)\n",
            "  rmse = math.sqrt(rmse)\n"
          ]
        }
      ]
    },
    {
      "cell_type": "code",
      "source": [
        "correct = 0\n",
        "\n",
        "plt.figure()\n",
        "plt.scatter(pred, actual)\n",
        "for iter in range(len(actual)):\n",
        "  if actual[iter]<5 or actual[iter]>95:\n",
        "    correct+=1\n",
        "    continue\n",
        "  if (abs(actual[iter] - pred[iter]) <= 1):\n",
        "    correct+=1\n",
        "\n",
        "\n",
        "print(correct)\n",
        "print(len(actual))"
      ],
      "metadata": {
        "colab": {
          "base_uri": "https://localhost:8080/",
          "height": 465
        },
        "id": "Twk_YKQWJdO1",
        "outputId": "6b05d555-2446-4527-cd38-781c2781ecb3"
      },
      "execution_count": 31,
      "outputs": [
        {
          "output_type": "stream",
          "name": "stdout",
          "text": [
            "31819\n",
            "44274\n"
          ]
        },
        {
          "output_type": "display_data",
          "data": {
            "text/plain": [
              "<Figure size 640x480 with 1 Axes>"
            ],
            "image/png": "[encoded data removed]"
          },
          "metadata": {}
        }
      ]
    },
    {
      "cell_type": "code",
      "source": [
        "plt.scatter(actual, pred, facecolors='none', edgecolors='crimson',alpha=0.4)\n",
        "p1 = max(max(pred), max(actual))\n",
        "p2 = min(min(pred), min(actual))\n",
        "\n",
        "ci = 0.1 * np.std([p1,p2]) / np.mean([p1,p2])\n",
        "\n",
        "plt.plot([p1, p2], [p1, p2], 'b-', linewidth =3)\n",
        "plt.title('Actual vs Prediction')"
      ],
      "metadata": {
        "colab": {
          "base_uri": "https://localhost:8080/",
          "height": 469
        },
        "id": "FxfNpj92JhO5",
        "outputId": "f5012e6f-5db6-4a7d-9a7b-1960b2e5f97d"
      },
      "execution_count": 32,
      "outputs": [
        {
          "output_type": "execute_result",
          "data": {
            "text/plain": [
              "Text(0.5, 1.0, 'Actual vs Prediction')"
            ]
          },
          "metadata": {},
          "execution_count": 32
        },
        {
          "output_type": "display_data",
          "data": {
            "text/plain": [
              "<Figure size 640x480 with 1 Axes>"
            ],
            "image/png": "[encoded data removed]"
          },
          "metadata": {}
        }
      ]
    },
    {
      "cell_type": "code",
      "source": [
        "tf.keras.utils.plot_model(model, 'model_new.png')"
      ],
      "metadata": {
        "colab": {
          "base_uri": "https://localhost:8080/",
          "height": 856
        },
        "id": "-htzaM04vRDt",
        "outputId": "727145b3-2ff8-427e-fac5-64851f883919"
      },
      "execution_count": null,
      "outputs": [
        {
          "output_type": "execute_result",
          "data": {
            "image/png": "[encoded data removed]",
            "text/plain": [
              "<IPython.core.display.Image object>"
            ]
          },
          "metadata": {},
          "execution_count": 87
        }
      ]
    },
    {
      "cell_type": "code",
      "source": [
        "file_name = ['PK_0_I_r.xls', 'PK_2_I_r.xls', 'PK_3_I_r.xls','PK_5_I_r.xls']\n",
        "\n",
        "\n",
        "for i in range (len(file_name)):\n",
        "    file_list.append(pd.read_excel(path+ file_name[i], sheet_name='Sheet1'))\n",
        "\n",
        "import random\n",
        "random.shuffle(file_list)\n",
        "\n",
        "all_data = pd.concat(file_list, axis=0, ignore_index=True)\n",
        "\n",
        "cycle = 0\n",
        "cycle_list = []\n",
        "\n",
        "start = 0\n",
        "\n",
        "for i in range(len(all_data) - 1):\n",
        "    if (all_data['perc'][i+1] == 0):\n",
        "        cycle += 1\n",
        "        cycle_list.append(all_data.iloc[start:i])\n",
        "        start = i+1\n",
        "\n",
        "random.shuffle(cycle_list)\n",
        "source_table = pd.concat(cycle_list, axis=0, ignore_index=True)\n",
        "\n",
        "source_table\n",
        "source_table = source_table.drop([\"n_lgrf\",\"n_r_grf\",\"l_ph_ank\",\"r_ph_ank\"], axis = 1)#,'l_ph_hip','l_ph_fo','n_lcop'], axis = 1)\n",
        "\n",
        "x = source_table\n",
        "x = x.drop(['perc'], axis=1)\n",
        "scaler = MinMaxScaler()\n",
        "x_scaled = scaler.fit_transform(x)\n",
        "x_scaled = pd.DataFrame(x_scaled)\n",
        "\n",
        "encode_gait_percentage(source_table, 'perc')\n",
        "y = source_table[[\"X\",\"Y\"]]\n",
        "y\n",
        "\n",
        "data_x = x_scaled\n",
        "data_y = y.values.reshape(-1,2)\n",
        "look_back=10\n",
        "fore_cast=1\n",
        "val_new_x, val_new_y = convert_data(data_x, data_y, look_back, fore_cast)\n"
      ],
      "metadata": {
        "id": "ALo9_9C-2IXR"
      },
      "execution_count": null,
      "outputs": []
    },
    {
      "cell_type": "code",
      "source": [
        "testPredict = model.predict(val_new_x)"
      ],
      "metadata": {
        "colab": {
          "base_uri": "https://localhost:8080/"
        },
        "id": "k7bivVWJgiwE",
        "outputId": "016735f8-154d-4002-c6f6-ac47eb8b97cf"
      },
      "execution_count": null,
      "outputs": [
        {
          "output_type": "stream",
          "name": "stdout",
          "text": [
            "35853/35853 [==============================] - 236s 7ms/step\n"
          ]
        }
      ]
    },
    {
      "cell_type": "code",
      "source": [
        "v = val_new_x[11:]\n",
        "v.shape\n",
        "\n",
        "pred = np.zeros((len(testPredict),1))\n",
        "\n",
        "for iter in range(len(testPredict)):\n",
        "  x = testPredict[iter][0]\n",
        "  y = testPredict[iter][1]\n",
        "  pred[iter] = ((math.atan2(y,x) + 2*math.pi) % (2*math.pi)) * (100 / (2*math.pi))\n",
        "\n",
        "  # pred1=pd.DataFrame(pred).sort_index().reset_index()\n",
        "\n",
        "actual = np.zeros((len(val_new_y),1))\n",
        "\n",
        "for iter in range(len(val_new_x)):\n",
        "  x =val_new_y[iter][0]\n",
        "  y =val_new_y[iter][1]\n",
        "  actual[iter] = ((math.atan2(y,x) + 2*math.pi) % (2*math.pi)) * (100 / (2*math.pi))\n",
        "\n",
        "\n",
        "\n",
        "correct = 0\n",
        "for i in range(5):\n",
        "  correct = 0\n",
        "  for iter in range(len(actual)):\n",
        "    if (abs(actual[iter] - pred[iter]) <= (i+1)) or (actual[iter]>98) or(actual[iter]<3):\n",
        "      correct+=1\n",
        "\n",
        "  print(correct)\n",
        "  print(len(actual))\n",
        "\n",
        "  print(\"Precision \", i+1, \": \", correct * 100/len(actual))"
      ],
      "metadata": {
        "colab": {
          "base_uri": "https://localhost:8080/"
        },
        "id": "QTpp3bDpgjMB",
        "outputId": "d833160c-afaa-4c01-ca3b-8db785cdf38c"
      },
      "execution_count": null,
      "outputs": [
        {
          "output_type": "stream",
          "name": "stdout",
          "text": [
            "671947\n",
            "1147286\n",
            "Precision  1 :  58.56839532601287\n",
            "872502\n",
            "1147286\n",
            "Precision  2 :  76.04921527849203\n",
            "939596\n",
            "1147286\n",
            "Precision  3 :  81.89727757507718\n",
            "975049\n",
            "1147286\n",
            "Precision  4 :  84.9874399234367\n",
            "997114\n",
            "1147286\n",
            "Precision  5 :  86.91067440899654\n"
          ]
        }
      ]
    },
    {
      "cell_type": "code",
      "source": [
        "perc_rmse = np.sqrt(mean_squared_error(actual, pred))\n",
        "print(\"Predicting Percentage RMSE: \", perc_rmse)\n",
        "rmse = 0\n",
        "length = len(actual)\n",
        "for i in range(len(actual)):\n",
        "  if abs (pred[i] - actual[i]) >= 90:\n",
        "    length -= 1\n",
        "  else:\n",
        "    rmse = rmse + pow(pred[i] - actual[i], 2)\n",
        "rmse = rmse / length\n",
        "rmse = math.sqrt(rmse)\n",
        "print(length)\n",
        "print(len(actual))\n",
        "print(rmse)"
      ],
      "metadata": {
        "colab": {
          "base_uri": "https://localhost:8080/"
        },
        "id": "0MF6dayJmPHg",
        "outputId": "e8682984-5a4d-49ee-8007-e8b9328a060a"
      },
      "execution_count": null,
      "outputs": [
        {
          "output_type": "stream",
          "name": "stdout",
          "text": [
            "Predicting Percentage RMSE:  12.209285477150495\n",
            "1135419\n",
            "1147286\n",
            "7.128382042631977\n"
          ]
        },
        {
          "output_type": "stream",
          "name": "stderr",
          "text": [
            "<ipython-input-40-21bf04cfed5a>:11: DeprecationWarning: Conversion of an array with ndim > 0 to a scalar is deprecated, and will error in future. Ensure you extract a single element from your array before performing this operation. (Deprecated NumPy 1.25.)\n",
            "  rmse = math.sqrt(rmse)\n"
          ]
        }
      ]
    },
    {
      "cell_type": "code",
      "source": [
        "plt.scatter(actual, pred, facecolors='none', edgecolors='crimson',alpha=0.4)\n",
        "p1 = max(max(pred), max(actual))\n",
        "p2 = min(min(pred), min(actual))\n",
        "\n",
        "ci = 0.1 * np.std([p1,p2]) / np.mean([p1,p2])\n",
        "\n",
        "plt.plot([p1, p2], [p1, p2], 'b-', linewidth =3)\n",
        "plt.title('Actual vs Prediction')"
      ],
      "metadata": {
        "colab": {
          "base_uri": "https://localhost:8080/",
          "height": 469
        },
        "id": "JZYGhlAOsibw",
        "outputId": "425a0cfd-8e5e-4c97-9f56-c2bf12e6c5ba"
      },
      "execution_count": null,
      "outputs": [
        {
          "output_type": "execute_result",
          "data": {
            "text/plain": [
              "Text(0.5, 1.0, 'Actual vs Prediction')"
            ]
          },
          "metadata": {},
          "execution_count": 41
        },
        {
          "output_type": "display_data",
          "data": {
            "text/plain": [
              "<Figure size 640x480 with 1 Axes>"
            ],
            "image/png": "[encoded data removed]"
          },
          "metadata": {}
        }
      ]
    },
    {
      "cell_type": "code",
      "source": [],
      "metadata": {
        "id": "qOi80H9bsnv4"
      },
      "execution_count": null,
      "outputs": []
    }
  ],
  "metadata": {
    "accelerator": "TPU",
    "colab": {
      "provenance": []
    },
    "kernelspec": {
      "display_name": "Python 3",
      "name": "python3"
    },
    "language_info": {
      "codemirror_mode": {
        "name": "ipython",
        "version": 3
      },
      "file_extension": ".py",
      "mimetype": "text/x-python",
      "name": "python",
      "nbconvert_exporter": "python",
      "pygments_lexer": "ipython3",
      "version": "3.8.10"
    }
  },
  "nbformat": 4,
  "nbformat_minor": 0
}