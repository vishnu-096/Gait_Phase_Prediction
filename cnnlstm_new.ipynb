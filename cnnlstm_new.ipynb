{
  "cells": [
    {
      "cell_type": "code",
      "execution_count": 1,
      "metadata": {
        "id": "oUvebjog04oW"
      },
      "outputs": [],
      "source": [
        "import numpy as np\n",
        "import pandas as pd\n",
        "import tensorflow as tf\n",
        "import matplotlib.pyplot as plt\n",
        "import math\n",
        "import time\n",
        "import os\n",
        "import sys\n",
        "import json\n",
        "\n",
        "import scipy as sp\n",
        "from scipy import signal\n",
        "\n",
        "from keras.models import Sequential\n",
        "from keras.layers import Dense\n",
        "from keras.layers import LSTM\n",
        "from keras.callbacks import EarlyStopping\n",
        "from sklearn.preprocessing import MinMaxScaler\n",
        "from sklearn.feature_selection import SelectKBest\n",
        "from sklearn.feature_selection import f_regression\n",
        "from sklearn import metrics\n",
        "from statsmodels.tsa.seasonal import seasonal_decompose\n",
        "from statsmodels.graphics.tsaplots import plot_acf\n",
        "\n",
        "from tensorflow.keras.models import Sequential\n",
        "from tensorflow.keras.layers import *\n",
        "from tensorflow.keras.callbacks import ModelCheckpoint\n",
        "from tensorflow.keras.losses import MeanSquaredError\n",
        "from tensorflow.keras.metrics import RootMeanSquaredError\n",
        "from tensorflow.keras.optimizers import Adam\n",
        "from tensorflow.keras.layers import LSTM, Dense, Dropout, TimeDistributed, Conv1D, MaxPooling1D, Flatten, Bidirectional, Input, Flatten, Activation, Reshape, RepeatVector, Concatenate\n",
        "from tensorflow.keras import Sequential\n",
        "from tensorflow.keras.layers import *\n",
        "from keras.callbacks import EarlyStopping\n",
        "import tensorflow as tf\n",
        "\n",
        "from sklearn.preprocessing import MinMaxScaler\n",
        "from sklearn.model_selection import train_test_split\n",
        "\n",
        "import os, warnings, random\n",
        "from sklearn.metrics import mean_squared_error\n",
        "from sklearn.model_selection import train_test_split\n",
        "import tensorflow as tf\n",
        "import tensorflow.keras.layers as L\n",
        "from tensorflow.keras.layers import *\n",
        "from tensorflow.keras import optimizers, Sequential, Model\n",
        "from tensorflow.keras.callbacks import LearningRateScheduler"
      ]
    },
    {
      "cell_type": "code",
      "execution_count": 2,
      "metadata": {
        "id": "ieOMqQ_o04oZ"
      },
      "outputs": [],
      "source": [
        "SEED = 13\n",
        "tf.random.set_seed(SEED)"
      ]
    },
    {
      "cell_type": "code",
      "execution_count": 3,
      "metadata": {
        "id": "PKm1uOiX04oa"
      },
      "outputs": [],
      "source": [
        "def encode_gait_percentage(df, name):\n",
        "  percent = df[name].values.tolist()\n",
        "  X = np.zeros((len(df[name]),1))\n",
        "  Y = np.zeros((len(df[name]),1))\n",
        "  for i in range (len(percent)):\n",
        "    phi = percent[i] * 2 * math.pi / 100\n",
        "    X[i] = math.cos(phi)\n",
        "    Y[i] = math.sin(phi)\n",
        "  df['X'] = X\n",
        "  df['Y'] = Y"
      ]
    },
    {
      "cell_type": "code",
      "execution_count": 4,
      "metadata": {
        "id": "PiqdGzio04oj"
      },
      "outputs": [],
      "source": [
        "\n",
        "\n",
        "def convert_data(d_x, d_y, look_back = 1, fore_cast = 1):\n",
        "    dataX = []\n",
        "    dataY = []\n",
        "\n",
        "    for i in range(look_back, len(d_x) - fore_cast):\n",
        "        dataX.append(d_x[i - look_back: i])\n",
        "        dataY.append(d_y[i + fore_cast,:])\n",
        "\n",
        "    return np.array(dataX), np.array(dataY)"
      ]
    },
    {
      "cell_type": "code",
      "execution_count": 5,
      "metadata": {
        "colab": {
          "base_uri": "https://localhost:8080/"
        },
        "id": "x1qm5sIrhOv3",
        "outputId": "1f02653d-92bc-4acf-c63b-a11ad134c87f"
      },
      "outputs": [],
      "source": [
        "#from google.colab import drive\n",
        "\n",
        "#drive.mount('/content/drive')\n",
        "#path =path = '/content/drive/MyDrive/nmchr_lab/Subjects/inclined/new/right_based/'\n"
      ]
    },
    {
      "cell_type": "code",
      "execution_count": 6,
      "metadata": {},
      "outputs": [
        {
          "name": "stdout",
          "output_type": "stream",
          "text": [
            "c:\\Users\\Admin\\Desktop\\Neurorobotic Lab\\Data_Code\\Model\\Gait_Phase_Prediction\n"
          ]
        }
      ],
      "source": [
        "working_dir = os.getcwd()#os.path.dirname(os.getcwd())\n",
        "sys_platform = sys.platform\n",
        "excel_path_dict = {'linux' : \"/csvs/\", 'win32' : \"\\Data\\Incline\\\\right_based\\SKS\\\\\"}\n",
        "excel_path_name = excel_path_dict[sys_platform]\n",
        "\n",
        "directory_path = working_dir \n",
        "print(directory_path)\n",
        "excel_path = directory_path + excel_path_name\n"
      ]
    },
    {
      "cell_type": "code",
      "execution_count": 7,
      "metadata": {
        "id": "QUcI8IV6hOv4"
      },
      "outputs": [],
      "source": [
        "#inclined_files = ['SKS_2_I.xlsx',  'SKS_3_I.xlsx',  'SKS_4_I.xlsx','SKS_5_I.xlsx', 'SD_2_I.xlsx',  'SD_3_I.xlsx',  'SD_4_I.xlsx','SD_5_I.xlsx']\n",
        "#file_name = ['TH_4_I.xls', 'TH_2_I.xls', 'TH_3_I.xls']\n",
        "\n",
        "# Subj TH:\n",
        "#file_name = ['TH_4_I_r.xlsx', 'TH_2_I_r.xlsx', 'TH_3_I_r.xlsx']\n",
        "\n",
        "# Subj JJ:\n",
        "#file_name = ['JJ_4_I.xlsx', 'JJ_6_I.xlsx', 'JJ_7_I.xlsx']\n",
        "#file_name = ['JJ_4_I_r.xlsx', 'JJ_6_I_r.xlsx', 'JJ_7_I_r.xlsx']\n",
        "\n",
        "# Subj SD:\n",
        "#file_name = ['SD_1_I_r.xls', 'SD_4_I_r.xls', 'SD_2_I_r.xls', 'SD_3_I_r.xls', 'SD_5_I_r.xls']\n",
        "\n",
        "# Subj PK:\n",
        "#file_name = ['PK_0_I_r.xls', 'PK_5_I_r.xls', 'PK_2_I_r.xls', 'PK_3_I_r.xls']\n",
        "\n",
        "# Subj SKS:\n",
        "file_name = ['SKS_0_I_r.xls', 'SKS_4_I_r.xls', 'SKS_2_I_r.xls', 'SKS_3_I_r.xls', 'SKS_5_I_r.xls']\n",
        "\n",
        "file_list=[]\n",
        "\n",
        "for i in range (len(file_name)):\n",
        "    file_list.append(pd.read_excel(excel_path + file_name[i], sheet_name='Sheet1'))\n",
        "\n",
        "import random\n",
        "random.shuffle(file_list)\n",
        "\n",
        "all_data = pd.concat(file_list, axis=0, ignore_index=True)\n"
      ]
    },
    {
      "cell_type": "code",
      "execution_count": 8,
      "metadata": {
        "colab": {
          "base_uri": "https://localhost:8080/"
        },
        "id": "TEonMTjyxFKa",
        "outputId": "919b22b2-d52c-4bff-d3d1-765f7a5fa51b"
      },
      "outputs": [
        {
          "data": {
            "text/plain": [
              "['SKS_0_I_r.xls',\n",
              " 'SKS_4_I_r.xls',\n",
              " 'SKS_2_I_r.xls',\n",
              " 'SKS_3_I_r.xls',\n",
              " 'SKS_5_I_r.xls']"
            ]
          },
          "execution_count": 8,
          "metadata": {},
          "output_type": "execute_result"
        }
      ],
      "source": [
        "file_name"
      ]
    },
    {
      "cell_type": "code",
      "execution_count": 9,
      "metadata": {
        "colab": {
          "base_uri": "https://localhost:8080/"
        },
        "id": "-m7rgW5thOv4",
        "outputId": "4bcfc8e8-51b5-4d38-d346-7f9c9a5d09f9"
      },
      "outputs": [
        {
          "name": "stdout",
          "output_type": "stream",
          "text": [
            "<class 'pandas.core.frame.DataFrame'>\n",
            "RangeIndex: 295263 entries, 0 to 295262\n",
            "Data columns (total 13 columns):\n",
            " #   Column        Non-Null Count   Dtype  \n",
            "---  ------        --------------   -----  \n",
            " 0   l_ph_hip      295263 non-null  float64\n",
            " 1   l_ph_ank      295263 non-null  float64\n",
            " 2   l_ph_fo       295263 non-null  float64\n",
            " 3   r_ph_hip      295263 non-null  float64\n",
            " 4   r_ph_ank      295263 non-null  float64\n",
            " 5   r_ph_fo       295263 non-null  float64\n",
            " 6   n_lgrf        295263 non-null  float64\n",
            " 7   n_r_grf       295263 non-null  float64\n",
            " 8   n_lcop        295263 non-null  float64\n",
            " 9   n_rcop        295263 non-null  float64\n",
            " 10  perc_new      295263 non-null  float64\n",
            " 11  st_sw_phase   295263 non-null  int64  \n",
            " 12  strike_frame  295263 non-null  int64  \n",
            "dtypes: float64(11), int64(2)\n",
            "memory usage: 29.3 MB\n"
          ]
        }
      ],
      "source": [
        "all_data.info()"
      ]
    },
    {
      "cell_type": "code",
      "execution_count": 11,
      "metadata": {
        "colab": {
          "base_uri": "https://localhost:8080/",
          "height": 467
        },
        "id": "9zPHqQg4hOv5",
        "outputId": "e75a95ea-84e0-4e3b-e0af-842cf9d36885"
      },
      "outputs": [
        {
          "data": {
            "text/html": [
              "<div>\n",
              "<style scoped>\n",
              "    .dataframe tbody tr th:only-of-type {\n",
              "        vertical-align: middle;\n",
              "    }\n",
              "\n",
              "    .dataframe tbody tr th {\n",
              "        vertical-align: top;\n",
              "    }\n",
              "\n",
              "    .dataframe thead th {\n",
              "        text-align: right;\n",
              "    }\n",
              "</style>\n",
              "<table border=\"1\" class=\"dataframe\">\n",
              "  <thead>\n",
              "    <tr style=\"text-align: right;\">\n",
              "      <th></th>\n",
              "      <th>l_ph_hip</th>\n",
              "      <th>l_ph_ank</th>\n",
              "      <th>l_ph_fo</th>\n",
              "      <th>r_ph_hip</th>\n",
              "      <th>r_ph_ank</th>\n",
              "      <th>r_ph_fo</th>\n",
              "      <th>n_lgrf</th>\n",
              "      <th>n_r_grf</th>\n",
              "      <th>n_lcop</th>\n",
              "      <th>n_rcop</th>\n",
              "      <th>perc_new</th>\n",
              "      <th>st_sw_phase</th>\n",
              "      <th>strike_frame</th>\n",
              "    </tr>\n",
              "  </thead>\n",
              "  <tbody>\n",
              "    <tr>\n",
              "      <th>0</th>\n",
              "      <td>0.611116</td>\n",
              "      <td>0.735992</td>\n",
              "      <td>0.801771</td>\n",
              "      <td>0.966419</td>\n",
              "      <td>0.834757</td>\n",
              "      <td>0.728971</td>\n",
              "      <td>0.903571</td>\n",
              "      <td>0.038524</td>\n",
              "      <td>0.160310</td>\n",
              "      <td>-0.000650</td>\n",
              "      <td>0.000000</td>\n",
              "      <td>0</td>\n",
              "      <td>1</td>\n",
              "    </tr>\n",
              "    <tr>\n",
              "      <th>1</th>\n",
              "      <td>0.588054</td>\n",
              "      <td>0.735673</td>\n",
              "      <td>0.793695</td>\n",
              "      <td>0.960519</td>\n",
              "      <td>0.825309</td>\n",
              "      <td>0.727426</td>\n",
              "      <td>0.893552</td>\n",
              "      <td>0.055531</td>\n",
              "      <td>0.160213</td>\n",
              "      <td>-0.000564</td>\n",
              "      <td>0.467290</td>\n",
              "      <td>0</td>\n",
              "      <td>2</td>\n",
              "    </tr>\n",
              "    <tr>\n",
              "      <th>2</th>\n",
              "      <td>0.559142</td>\n",
              "      <td>0.735283</td>\n",
              "      <td>0.787223</td>\n",
              "      <td>0.954390</td>\n",
              "      <td>0.817850</td>\n",
              "      <td>0.725650</td>\n",
              "      <td>0.880142</td>\n",
              "      <td>0.075193</td>\n",
              "      <td>0.160077</td>\n",
              "      <td>-0.000441</td>\n",
              "      <td>0.934579</td>\n",
              "      <td>0</td>\n",
              "      <td>3</td>\n",
              "    </tr>\n",
              "    <tr>\n",
              "      <th>3</th>\n",
              "      <td>0.524418</td>\n",
              "      <td>0.734824</td>\n",
              "      <td>0.781910</td>\n",
              "      <td>0.948075</td>\n",
              "      <td>0.811864</td>\n",
              "      <td>0.723608</td>\n",
              "      <td>0.863104</td>\n",
              "      <td>0.097143</td>\n",
              "      <td>0.159880</td>\n",
              "      <td>-0.000275</td>\n",
              "      <td>1.401869</td>\n",
              "      <td>0</td>\n",
              "      <td>4</td>\n",
              "    </tr>\n",
              "    <tr>\n",
              "      <th>4</th>\n",
              "      <td>0.485948</td>\n",
              "      <td>0.734301</td>\n",
              "      <td>0.777454</td>\n",
              "      <td>0.941622</td>\n",
              "      <td>0.806997</td>\n",
              "      <td>0.721252</td>\n",
              "      <td>0.842289</td>\n",
              "      <td>0.121050</td>\n",
              "      <td>0.159584</td>\n",
              "      <td>-0.000060</td>\n",
              "      <td>1.869159</td>\n",
              "      <td>0</td>\n",
              "      <td>5</td>\n",
              "    </tr>\n",
              "    <tr>\n",
              "      <th>...</th>\n",
              "      <td>...</td>\n",
              "      <td>...</td>\n",
              "      <td>...</td>\n",
              "      <td>...</td>\n",
              "      <td>...</td>\n",
              "      <td>...</td>\n",
              "      <td>...</td>\n",
              "      <td>...</td>\n",
              "      <td>...</td>\n",
              "      <td>...</td>\n",
              "      <td>...</td>\n",
              "      <td>...</td>\n",
              "      <td>...</td>\n",
              "    </tr>\n",
              "    <tr>\n",
              "      <th>293648</th>\n",
              "      <td>0.683425</td>\n",
              "      <td>0.730857</td>\n",
              "      <td>0.816422</td>\n",
              "      <td>0.007210</td>\n",
              "      <td>0.074280</td>\n",
              "      <td>0.700315</td>\n",
              "      <td>0.828443</td>\n",
              "      <td>0.000000</td>\n",
              "      <td>0.156199</td>\n",
              "      <td>-0.000287</td>\n",
              "      <td>97.196262</td>\n",
              "      <td>1</td>\n",
              "      <td>209</td>\n",
              "    </tr>\n",
              "    <tr>\n",
              "      <th>293649</th>\n",
              "      <td>0.676968</td>\n",
              "      <td>0.731268</td>\n",
              "      <td>0.804203</td>\n",
              "      <td>0.006879</td>\n",
              "      <td>0.022577</td>\n",
              "      <td>0.701820</td>\n",
              "      <td>0.831050</td>\n",
              "      <td>0.000000</td>\n",
              "      <td>0.156035</td>\n",
              "      <td>0.000187</td>\n",
              "      <td>97.663551</td>\n",
              "      <td>1</td>\n",
              "      <td>210</td>\n",
              "    </tr>\n",
              "    <tr>\n",
              "      <th>293650</th>\n",
              "      <td>0.669212</td>\n",
              "      <td>0.731533</td>\n",
              "      <td>0.794925</td>\n",
              "      <td>0.006266</td>\n",
              "      <td>0.967541</td>\n",
              "      <td>0.702717</td>\n",
              "      <td>0.832084</td>\n",
              "      <td>0.000000</td>\n",
              "      <td>0.155758</td>\n",
              "      <td>0.000773</td>\n",
              "      <td>98.130841</td>\n",
              "      <td>1</td>\n",
              "      <td>211</td>\n",
              "    </tr>\n",
              "    <tr>\n",
              "      <th>293651</th>\n",
              "      <td>0.659730</td>\n",
              "      <td>0.731668</td>\n",
              "      <td>0.787663</td>\n",
              "      <td>0.005310</td>\n",
              "      <td>0.920383</td>\n",
              "      <td>0.703061</td>\n",
              "      <td>0.831264</td>\n",
              "      <td>0.000000</td>\n",
              "      <td>0.155353</td>\n",
              "      <td>0.001484</td>\n",
              "      <td>98.598131</td>\n",
              "      <td>1</td>\n",
              "      <td>212</td>\n",
              "    </tr>\n",
              "    <tr>\n",
              "      <th>293652</th>\n",
              "      <td>0.647920</td>\n",
              "      <td>0.731685</td>\n",
              "      <td>0.781824</td>\n",
              "      <td>0.003957</td>\n",
              "      <td>0.885359</td>\n",
              "      <td>0.702887</td>\n",
              "      <td>0.828299</td>\n",
              "      <td>0.000000</td>\n",
              "      <td>0.154799</td>\n",
              "      <td>0.002330</td>\n",
              "      <td>99.065421</td>\n",
              "      <td>1</td>\n",
              "      <td>213</td>\n",
              "    </tr>\n",
              "  </tbody>\n",
              "</table>\n",
              "<p>293653 rows × 13 columns</p>\n",
              "</div>"
            ],
            "text/plain": [
              "        l_ph_hip  l_ph_ank   l_ph_fo  r_ph_hip  r_ph_ank   r_ph_fo    n_lgrf  \\\n",
              "0       0.611116  0.735992  0.801771  0.966419  0.834757  0.728971  0.903571   \n",
              "1       0.588054  0.735673  0.793695  0.960519  0.825309  0.727426  0.893552   \n",
              "2       0.559142  0.735283  0.787223  0.954390  0.817850  0.725650  0.880142   \n",
              "3       0.524418  0.734824  0.781910  0.948075  0.811864  0.723608  0.863104   \n",
              "4       0.485948  0.734301  0.777454  0.941622  0.806997  0.721252  0.842289   \n",
              "...          ...       ...       ...       ...       ...       ...       ...   \n",
              "293648  0.683425  0.730857  0.816422  0.007210  0.074280  0.700315  0.828443   \n",
              "293649  0.676968  0.731268  0.804203  0.006879  0.022577  0.701820  0.831050   \n",
              "293650  0.669212  0.731533  0.794925  0.006266  0.967541  0.702717  0.832084   \n",
              "293651  0.659730  0.731668  0.787663  0.005310  0.920383  0.703061  0.831264   \n",
              "293652  0.647920  0.731685  0.781824  0.003957  0.885359  0.702887  0.828299   \n",
              "\n",
              "         n_r_grf    n_lcop    n_rcop   perc_new  st_sw_phase  strike_frame  \n",
              "0       0.038524  0.160310 -0.000650   0.000000            0             1  \n",
              "1       0.055531  0.160213 -0.000564   0.467290            0             2  \n",
              "2       0.075193  0.160077 -0.000441   0.934579            0             3  \n",
              "3       0.097143  0.159880 -0.000275   1.401869            0             4  \n",
              "4       0.121050  0.159584 -0.000060   1.869159            0             5  \n",
              "...          ...       ...       ...        ...          ...           ...  \n",
              "293648  0.000000  0.156199 -0.000287  97.196262            1           209  \n",
              "293649  0.000000  0.156035  0.000187  97.663551            1           210  \n",
              "293650  0.000000  0.155758  0.000773  98.130841            1           211  \n",
              "293651  0.000000  0.155353  0.001484  98.598131            1           212  \n",
              "293652  0.000000  0.154799  0.002330  99.065421            1           213  \n",
              "\n",
              "[293653 rows x 13 columns]"
            ]
          },
          "execution_count": 11,
          "metadata": {},
          "output_type": "execute_result"
        }
      ],
      "source": [
        "cycle = 0\n",
        "cycle_list = []\n",
        "\n",
        "start = 0\n",
        "\n",
        "for i in range(len(all_data) - 1):\n",
        "    if (all_data['perc_new'][i+1] == 0):\n",
        "        cycle += 1\n",
        "        cycle_list.append(all_data.iloc[start:i])\n",
        "        start = i+1\n",
        "\n",
        "random.shuffle(cycle_list)\n",
        "source_table = pd.concat(cycle_list, axis=0, ignore_index=True)\n",
        "\n",
        "source_table\n"
      ]
    },
    {
      "cell_type": "code",
      "execution_count": 12,
      "metadata": {},
      "outputs": [],
      "source": [
        "## ------ Left Leg -------\n",
        "\n",
        "## Hip, COP\n",
        "drop_list = [\"n_lgrf\",\"n_r_grf\",\"l_ph_ank\",\"r_ph_ank\", \"st_sw_phase\", \"n_rcop\", \"r_ph_hip\", \"r_ph_fo\", \"l_ph_fo\"]\n",
        "## Hip, Foot, COP\n",
        "#drop_list = [\"n_lgrf\",\"n_r_grf\",\"l_ph_ank\",\"r_ph_ank\", \"st_sw_phase\", \"n_rcop\", \"r_ph_hip\", \"r_ph_fo\"]\n",
        "\n",
        "## ------ Right Leg ------\n",
        "\n",
        "## Hip, COP\n",
        "#drop_list = [\"n_lgrf\",\"n_r_grf\",\"l_ph_ank\",\"r_ph_ank\", \"st_sw_phase\", \"n_lcop\", \"l_ph_hip\", \"l_ph_fo\", \"r_ph_fo\"]\n",
        "## Hip, Foot, COP\n",
        "#rop_list = [\"n_lgrf\",\"n_r_grf\",\"l_ph_ank\",\"r_ph_ank\", \"st_sw_phase\", \"n_lcop\", \"l_ph_hip\", \"l_ph_fo\"]\n",
        "\n",
        "## ------ Both Leg ------\n",
        "\n",
        "## Hip, COP\n",
        "#drop_list = [\"n_lgrf\",\"n_r_grf\",\"l_ph_ank\",\"r_ph_ank\", \"st_sw_phase\", \"l_ph_fo\", \"r_ph_fo\"]\n",
        "## Hip, Foot, COP\n",
        "#drop_list = [\"n_lgrf\",\"n_r_grf\",\"l_ph_ank\",\"r_ph_ank\", \"st_sw_phase\"]"
      ]
    },
    {
      "cell_type": "code",
      "execution_count": 13,
      "metadata": {
        "colab": {
          "base_uri": "https://localhost:8080/",
          "height": 423
        },
        "id": "CX2LzKWuhOv6",
        "outputId": "6e648dca-318c-4d18-be57-56bd8989452c"
      },
      "outputs": [
        {
          "data": {
            "text/html": [
              "<div>\n",
              "<style scoped>\n",
              "    .dataframe tbody tr th:only-of-type {\n",
              "        vertical-align: middle;\n",
              "    }\n",
              "\n",
              "    .dataframe tbody tr th {\n",
              "        vertical-align: top;\n",
              "    }\n",
              "\n",
              "    .dataframe thead th {\n",
              "        text-align: right;\n",
              "    }\n",
              "</style>\n",
              "<table border=\"1\" class=\"dataframe\">\n",
              "  <thead>\n",
              "    <tr style=\"text-align: right;\">\n",
              "      <th></th>\n",
              "      <th>l_ph_hip</th>\n",
              "      <th>n_lcop</th>\n",
              "      <th>perc_new</th>\n",
              "      <th>strike_frame</th>\n",
              "    </tr>\n",
              "  </thead>\n",
              "  <tbody>\n",
              "    <tr>\n",
              "      <th>0</th>\n",
              "      <td>0.611116</td>\n",
              "      <td>0.160310</td>\n",
              "      <td>0.000000</td>\n",
              "      <td>1</td>\n",
              "    </tr>\n",
              "    <tr>\n",
              "      <th>1</th>\n",
              "      <td>0.588054</td>\n",
              "      <td>0.160213</td>\n",
              "      <td>0.467290</td>\n",
              "      <td>2</td>\n",
              "    </tr>\n",
              "    <tr>\n",
              "      <th>2</th>\n",
              "      <td>0.559142</td>\n",
              "      <td>0.160077</td>\n",
              "      <td>0.934579</td>\n",
              "      <td>3</td>\n",
              "    </tr>\n",
              "    <tr>\n",
              "      <th>3</th>\n",
              "      <td>0.524418</td>\n",
              "      <td>0.159880</td>\n",
              "      <td>1.401869</td>\n",
              "      <td>4</td>\n",
              "    </tr>\n",
              "    <tr>\n",
              "      <th>4</th>\n",
              "      <td>0.485948</td>\n",
              "      <td>0.159584</td>\n",
              "      <td>1.869159</td>\n",
              "      <td>5</td>\n",
              "    </tr>\n",
              "    <tr>\n",
              "      <th>...</th>\n",
              "      <td>...</td>\n",
              "      <td>...</td>\n",
              "      <td>...</td>\n",
              "      <td>...</td>\n",
              "    </tr>\n",
              "    <tr>\n",
              "      <th>293648</th>\n",
              "      <td>0.683425</td>\n",
              "      <td>0.156199</td>\n",
              "      <td>97.196262</td>\n",
              "      <td>209</td>\n",
              "    </tr>\n",
              "    <tr>\n",
              "      <th>293649</th>\n",
              "      <td>0.676968</td>\n",
              "      <td>0.156035</td>\n",
              "      <td>97.663551</td>\n",
              "      <td>210</td>\n",
              "    </tr>\n",
              "    <tr>\n",
              "      <th>293650</th>\n",
              "      <td>0.669212</td>\n",
              "      <td>0.155758</td>\n",
              "      <td>98.130841</td>\n",
              "      <td>211</td>\n",
              "    </tr>\n",
              "    <tr>\n",
              "      <th>293651</th>\n",
              "      <td>0.659730</td>\n",
              "      <td>0.155353</td>\n",
              "      <td>98.598131</td>\n",
              "      <td>212</td>\n",
              "    </tr>\n",
              "    <tr>\n",
              "      <th>293652</th>\n",
              "      <td>0.647920</td>\n",
              "      <td>0.154799</td>\n",
              "      <td>99.065421</td>\n",
              "      <td>213</td>\n",
              "    </tr>\n",
              "  </tbody>\n",
              "</table>\n",
              "<p>293653 rows × 4 columns</p>\n",
              "</div>"
            ],
            "text/plain": [
              "        l_ph_hip    n_lcop   perc_new  strike_frame\n",
              "0       0.611116  0.160310   0.000000             1\n",
              "1       0.588054  0.160213   0.467290             2\n",
              "2       0.559142  0.160077   0.934579             3\n",
              "3       0.524418  0.159880   1.401869             4\n",
              "4       0.485948  0.159584   1.869159             5\n",
              "...          ...       ...        ...           ...\n",
              "293648  0.683425  0.156199  97.196262           209\n",
              "293649  0.676968  0.156035  97.663551           210\n",
              "293650  0.669212  0.155758  98.130841           211\n",
              "293651  0.659730  0.155353  98.598131           212\n",
              "293652  0.647920  0.154799  99.065421           213\n",
              "\n",
              "[293653 rows x 4 columns]"
            ]
          },
          "execution_count": 13,
          "metadata": {},
          "output_type": "execute_result"
        }
      ],
      "source": [
        "source_table = source_table.drop(drop_list, axis = 1)#,'l_ph_hip','l_ph_fo','n_lcop'], axis = 1)\n",
        "source_table"
      ]
    },
    {
      "cell_type": "code",
      "execution_count": 15,
      "metadata": {
        "id": "Uy980Nr0hOv6"
      },
      "outputs": [],
      "source": [
        "x = source_table\n",
        "x = x.drop(['perc_new'], axis=1)\n",
        "scaler = MinMaxScaler()\n",
        "x_scaled = scaler.fit_transform(x)\n",
        "x_scaled = pd.DataFrame(x_scaled)\n",
        "\n",
        "encode_gait_percentage(source_table, 'perc_new')\n",
        "y = source_table[[\"X\",\"Y\"]]\n",
        "y\n",
        "\n",
        "data_x = x_scaled\n"
      ]
    },
    {
      "cell_type": "code",
      "execution_count": 16,
      "metadata": {
        "id": "NZJUQdlrhOv7"
      },
      "outputs": [],
      "source": [
        "data_y = y.values.reshape(-1,2)"
      ]
    },
    {
      "cell_type": "code",
      "execution_count": 17,
      "metadata": {
        "colab": {
          "base_uri": "https://localhost:8080/"
        },
        "id": "nPuERZxWhOv7",
        "outputId": "95ea0c06-8750-4254-d30f-2f5c93016f87"
      },
      "outputs": [
        {
          "data": {
            "text/plain": [
              "numpy.ndarray"
            ]
          },
          "execution_count": 17,
          "metadata": {},
          "output_type": "execute_result"
        }
      ],
      "source": [
        "type(data_y)"
      ]
    },
    {
      "cell_type": "code",
      "execution_count": 18,
      "metadata": {
        "id": "BMTNkMouLdlD"
      },
      "outputs": [],
      "source": [
        "\n",
        "\n",
        "#data_x,data_y= shuffle_multiple_datasets_based_on_gait_cycle( file_name, excel_path)\n",
        "\n",
        "X_train, X_test,y_train, y_test = train_test_split(data_x, data_y ,\n",
        "                        test_size=0.25,\n",
        "                        shuffle=False)\n",
        "look_back = 10\n",
        "fore_cast = 1\n",
        "\n",
        "train_x, train_y = convert_data(X_train, y_train, look_back, fore_cast)\n",
        "validation_x, validation_y = convert_data(X_test, y_test, look_back, fore_cast)\n"
      ]
    },
    {
      "cell_type": "code",
      "execution_count": 19,
      "metadata": {
        "colab": {
          "base_uri": "https://localhost:8080/"
        },
        "id": "LCK0YESF04ok",
        "outputId": "5f249c4d-d226-439a-db6f-b9f2137ce26e"
      },
      "outputs": [
        {
          "name": "stdout",
          "output_type": "stream",
          "text": [
            "(220228, 10, 3)\n",
            "(220228, 2)\n",
            "(73403, 10, 3)\n",
            "(73403, 2)\n"
          ]
        }
      ],
      "source": [
        "print(train_x.shape)\n",
        "print(train_y.shape)\n",
        "print(validation_x.shape)\n",
        "print(validation_y.shape)\n"
      ]
    },
    {
      "cell_type": "code",
      "execution_count": 20,
      "metadata": {
        "colab": {
          "base_uri": "https://localhost:8080/"
        },
        "id": "hhL-sk1EhOv8",
        "outputId": "57591eea-8317-4d52-d384-c5fd12223831"
      },
      "outputs": [
        {
          "data": {
            "text/plain": [
              "(220228, 10, 3)"
            ]
          },
          "execution_count": 20,
          "metadata": {},
          "output_type": "execute_result"
        }
      ],
      "source": [
        "train_x.shape"
      ]
    },
    {
      "cell_type": "code",
      "execution_count": 21,
      "metadata": {
        "colab": {
          "base_uri": "https://localhost:8080/"
        },
        "id": "_pUL_UtrTApY",
        "outputId": "c7e6243c-a979-4ad4-c028-016f1b8fe5a7"
      },
      "outputs": [
        {
          "name": "stdout",
          "output_type": "stream",
          "text": [
            "(7339, 10, 3)\n",
            "(7339, 2)\n"
          ]
        }
      ],
      "source": [
        "\n",
        "\n",
        "n1=validation_x.shape[0]\n",
        "val_x=validation_x[1:int(n1/10),:]\n",
        "val_y=validation_y[1:int(n1/10),:]\n",
        "print(val_x.shape)\n",
        "print(val_y.shape)"
      ]
    },
    {
      "cell_type": "code",
      "execution_count": 22,
      "metadata": {
        "id": "amQi1sX8bxzx"
      },
      "outputs": [],
      "source": [
        "from keras import Model\n",
        "from keras.layers import Layer\n",
        "import keras.backend as K\n",
        "from keras.layers import Input, Dense, SimpleRNN\n",
        "from sklearn.preprocessing import MinMaxScaler\n",
        "from keras.models import Sequential\n",
        "from keras.metrics import mean_squared_error\n",
        "\n",
        "class attention(Layer):\n",
        "    def __init__(self,**kwargs):\n",
        "        super(attention,self).__init__(**kwargs)\n",
        "\n",
        "    def build(self,input_shape):\n",
        "        self.W=self.add_weight(name='attention_weight', shape=(input_shape[-1],1),\n",
        "                               initializer='random_normal', trainable=True)\n",
        "        self.b=self.add_weight(name='attention_bias', shape=(input_shape[1],1),\n",
        "                               initializer='zeros', trainable=True)\n",
        "        super(attention, self).build(input_shape)\n",
        "\n",
        "    def call(self,x):\n",
        "        # Alignment scores. Pass them through tanh function\n",
        "        print(x.shape)\n",
        "        e = K.tanh(K.dot(x,self.W)+self.b)\n",
        "        # Remove dimension of size 1\n",
        "        e = K.squeeze(e, axis=-1)\n",
        "        # Compute the weights\n",
        "        alpha = K.softmax(e)\n",
        "        # Reshape to tensorFlow format\n",
        "        alpha = K.expand_dims(alpha, axis=-1)\n",
        "        # Compute the context vector\n",
        "        context = x * alpha\n",
        "        context = K.sum(context, axis=1)\n",
        "        return context"
      ]
    },
    {
      "cell_type": "code",
      "execution_count": 23,
      "metadata": {
        "colab": {
          "base_uri": "https://localhost:8080/"
        },
        "id": "_s_0epwZvjEX",
        "outputId": "112cfe62-bcf6-49b7-bc3b-fca28ee90c17"
      },
      "outputs": [
        {
          "name": "stdout",
          "output_type": "stream",
          "text": [
            "(None, 10, 3)\n",
            "(None, 9, 3)\n",
            "(None, 10, 3)\n",
            "(None, 29, 3)\n",
            "Model: \"model\"\n",
            "__________________________________________________________________________________________________\n",
            " Layer (type)                   Output Shape         Param #     Connected to                     \n",
            "==================================================================================================\n",
            " input_1 (InputLayer)           [(None, 10, 3)]      0           []                               \n",
            "                                                                                                  \n",
            " attention (attention)          (None, 3)            13          ['input_1[0][0]']                \n",
            "                                                                                                  \n",
            " average_pooling1d (AveragePool  (None, 9, 3)        0           ['input_1[0][0]']                \n",
            " ing1D)                                                                                           \n",
            "                                                                                                  \n",
            " repeat_vector (RepeatVector)   (None, 10, 3)        0           ['attention[0][0]']              \n",
            "                                                                                                  \n",
            " dense (Dense)                  (None, 10, 3)        12          ['input_1[0][0]']                \n",
            "                                                                                                  \n",
            " tf.concat (TFOpLambda)         (None, 29, 3)        0           ['average_pooling1d[0][0]',      \n",
            "                                                                  'repeat_vector[0][0]',          \n",
            "                                                                  'dense[0][0]']                  \n",
            "                                                                                                  \n",
            " max_pooling1d (MaxPooling1D)   (None, 28, 3)        0           ['tf.concat[0][0]']              \n",
            "                                                                                                  \n",
            " lstm (LSTM)                    (None, 28, 32)       4608        ['max_pooling1d[0][0]']          \n",
            "                                                                                                  \n",
            " flatten (Flatten)              (None, 896)          0           ['lstm[0][0]']                   \n",
            "                                                                                                  \n",
            " dense_1 (Dense)                (None, 32)           28704       ['flatten[0][0]']                \n",
            "                                                                                                  \n",
            " dense_2 (Dense)                (None, 2)            66          ['dense_1[0][0]']                \n",
            "                                                                                                  \n",
            "==================================================================================================\n",
            "Total params: 33,403\n",
            "Trainable params: 33,403\n",
            "Non-trainable params: 0\n",
            "__________________________________________________________________________________________________\n"
          ]
        }
      ],
      "source": [
        "import tensorflow as tf\n",
        "lr = 0.001\n",
        "epochs = 30\n",
        "batch = 128\n",
        "n_features=train_x.shape[2]\n",
        "seq_len = train_x.shape[1]\n",
        "x=Input(shape=(seq_len, train_x.shape[2]))\n",
        "\n",
        "\n",
        "l1=tf.keras.layers.AveragePooling1D(\n",
        "    pool_size=2,\n",
        "    strides=1)(x)\n",
        "att1 = attention()(x)\n",
        "rep_layer = L.RepeatVector((seq_len))(att1)\n",
        "\n",
        "l2=L.Dense(n_features)(x)\n",
        "print(l1.shape)\n",
        "print(l2.shape)\n",
        "\n",
        "inp=tf.concat([l1,rep_layer,l2],1)\n",
        "print(inp.shape)\n",
        "inp = L.MaxPooling1D(pool_size=2,strides=1)(inp)\n",
        "\n",
        "# RNN_layer = SimpleRNN(hidden_units, return_sequences=True, activation=activation)(x)\n",
        "LSTM_layer2 = LSTM(32, return_sequences=True)(inp)\n",
        "# attn_layer1 = attention()(LSTM_layer2)\n",
        "tmp_layer = L.Flatten()(LSTM_layer2)\n",
        "lin_layer1= L.Dense(32)(tmp_layer)\n",
        "lin_layer2 = L.Dense(2)(lin_layer1)\n",
        "# rep_layer = L.RepeatVector((10))(attn_layer1)\n",
        "# attn_layer2 = attention()(rep_layer)\n",
        "# LSTM_layer3 = LSTM(32, return_sequences=True)(rep_layer)\n",
        "# LSTM_layer4 = LSTM(64, return_sequences=True)(LSTM_layer3)\n",
        "# lin_layer = L.TimeDistributed(L.Dense(n_features))(LSTM_layer4)\n",
        "# tmp_layer = Flatten()(rep_layer)\n",
        "# lin_layer = L.Dense(2)(tmp_layer)\n",
        "model=Model(x,lin_layer2)\n",
        "model.summary()\n",
        "adam = optimizers.Adam(lr)\n",
        "model.compile(loss='mse', optimizer=adam)"
      ]
    },
    {
      "cell_type": "code",
      "execution_count": 24,
      "metadata": {
        "colab": {
          "base_uri": "https://localhost:8080/"
        },
        "id": "3bipK8umzzK-",
        "outputId": "0ca8d007-e0e4-4c9b-ed8c-0a191ea9a921"
      },
      "outputs": [
        {
          "name": "stdout",
          "output_type": "stream",
          "text": [
            "(None, 10, 3)\n",
            "(None, 5, 3)\n",
            "(None, 10, 3)\n",
            "(None, 25, 3)\n",
            "Model: \"model_1\"\n",
            "__________________________________________________________________________________________________\n",
            " Layer (type)                   Output Shape         Param #     Connected to                     \n",
            "==================================================================================================\n",
            " input_2 (InputLayer)           [(None, 10, 3)]      0           []                               \n",
            "                                                                                                  \n",
            " attention_1 (attention)        (None, 3)            13          ['input_2[0][0]']                \n",
            "                                                                                                  \n",
            " average_pooling1d_1 (AveragePo  (None, 5, 3)        0           ['input_2[0][0]']                \n",
            " oling1D)                                                                                         \n",
            "                                                                                                  \n",
            " repeat_vector_1 (RepeatVector)  (None, 10, 3)       0           ['attention_1[0][0]']            \n",
            "                                                                                                  \n",
            " dense_3 (Dense)                (None, 10, 3)        12          ['input_2[0][0]']                \n",
            "                                                                                                  \n",
            " tf.concat_1 (TFOpLambda)       (None, 25, 3)        0           ['average_pooling1d_1[0][0]',    \n",
            "                                                                  'repeat_vector_1[0][0]',        \n",
            "                                                                  'dense_3[0][0]']                \n",
            "                                                                                                  \n",
            " lstm_1 (LSTM)                  (None, 25, 32)       4608        ['tf.concat_1[0][0]']            \n",
            "                                                                                                  \n",
            " flatten_1 (Flatten)            (None, 800)          0           ['lstm_1[0][0]']                 \n",
            "                                                                                                  \n",
            " dense_4 (Dense)                (None, 32)           25632       ['flatten_1[0][0]']              \n",
            "                                                                                                  \n",
            " dense_5 (Dense)                (None, 2)            66          ['dense_4[0][0]']                \n",
            "                                                                                                  \n",
            "==================================================================================================\n",
            "Total params: 30,331\n",
            "Trainable params: 30,331\n",
            "Non-trainable params: 0\n",
            "__________________________________________________________________________________________________\n"
          ]
        }
      ],
      "source": [
        "import tensorflow as tf\n",
        "lr = 0.001\n",
        "epochs = 30\n",
        "batch = 128\n",
        "n_features=train_x.shape[2]\n",
        "seq_len = train_x.shape[1]\n",
        "x=Input(shape=(seq_len, train_x.shape[2]))\n",
        "\n",
        "\n",
        "l1=tf.keras.layers.AveragePooling1D(\n",
        "    pool_size=2,\n",
        "    strides=None)(x)\n",
        "att1 = attention()(x)\n",
        "rep_layer = L.RepeatVector((seq_len))(att1)\n",
        "\n",
        "l2=L.Dense(n_features)(x)\n",
        "print(l1.shape)\n",
        "print(l2.shape)\n",
        "\n",
        "inp=tf.concat([l1,rep_layer,l2],1)\n",
        "print(inp.shape)\n",
        "# RNN_layer = SimpleRNN(hidden_units, return_sequences=True, activation=activation)(x)\n",
        "LSTM_layer2 = LSTM(32, return_sequences=True)(inp)\n",
        "# attn_layer1 = attention()(LSTM_layer2)\n",
        "tmp_layer = L.Flatten()(LSTM_layer2)\n",
        "lin_layer1= L.Dense(32)(tmp_layer)\n",
        "lin_layer2 = L.Dense(2)(lin_layer1)\n",
        "# rep_layer = L.RepeatVector((10))(attn_layer1)\n",
        "# attn_layer2 = attention()(rep_layer)\n",
        "# LSTM_layer3 = LSTM(32, return_sequences=True)(rep_layer)\n",
        "# LSTM_layer4 = LSTM(64, return_sequences=True)(LSTM_layer3)\n",
        "# lin_layer = L.TimeDistributed(L.Dense(n_features))(LSTM_layer4)\n",
        "# tmp_layer = Flatten()(rep_layer)\n",
        "# lin_layer = L.Dense(2)(tmp_layer)\n",
        "model=Model(x,lin_layer2)\n",
        "model.summary()\n",
        "adam = optimizers.Adam(lr)\n",
        "model.compile(loss='mse', optimizer=adam)"
      ]
    },
    {
      "cell_type": "code",
      "execution_count": 25,
      "metadata": {
        "colab": {
          "base_uri": "https://localhost:8080/"
        },
        "id": "5-pm5CPkuTWk",
        "outputId": "43f627a6-95ad-409a-ca68-d8ceb59c3ce7"
      },
      "outputs": [
        {
          "name": "stdout",
          "output_type": "stream",
          "text": [
            "Epoch 1/30\n",
            "(None, 10, 3)\n",
            "(None, 10, 3)\n",
            "1721/1721 [==============================] - 22s 12ms/step - loss: 0.0222\n",
            "Epoch 2/30\n",
            "1721/1721 [==============================] - 21s 12ms/step - loss: 0.0087\n",
            "Epoch 3/30\n",
            "1721/1721 [==============================] - 20s 12ms/step - loss: 0.0077\n",
            "Epoch 4/30\n",
            "1721/1721 [==============================] - 20s 12ms/step - loss: 0.0070\n",
            "Epoch 5/30\n",
            "1721/1721 [==============================] - 21s 12ms/step - loss: 0.0066\n",
            "Epoch 6/30\n",
            "1721/1721 [==============================] - 20s 12ms/step - loss: 0.0065\n",
            "Epoch 7/30\n",
            "1721/1721 [==============================] - 21s 12ms/step - loss: 0.0064\n",
            "Epoch 8/30\n",
            "1721/1721 [==============================] - 20s 12ms/step - loss: 0.0062\n",
            "Epoch 9/30\n",
            "1721/1721 [==============================] - 21s 12ms/step - loss: 0.0062\n",
            "Epoch 10/30\n",
            "1721/1721 [==============================] - 20s 12ms/step - loss: 0.0061\n",
            "Epoch 11/30\n",
            "1721/1721 [==============================] - 20s 12ms/step - loss: 0.0061\n",
            "Epoch 12/30\n",
            "1721/1721 [==============================] - 20s 12ms/step - loss: 0.0059\n",
            "Epoch 13/30\n",
            "1721/1721 [==============================] - 20s 12ms/step - loss: 0.0057\n",
            "Epoch 14/30\n",
            "1721/1721 [==============================] - 44s 26ms/step - loss: 0.0055\n",
            "Epoch 15/30\n",
            "1721/1721 [==============================] - 57s 33ms/step - loss: 0.0054\n",
            "Epoch 16/30\n",
            "1721/1721 [==============================] - 57s 33ms/step - loss: 0.0053\n",
            "Epoch 17/30\n",
            "1721/1721 [==============================] - 51s 30ms/step - loss: 0.0052\n",
            "Epoch 18/30\n",
            "1721/1721 [==============================] - 52s 30ms/step - loss: 0.0051\n",
            "Epoch 19/30\n",
            "1721/1721 [==============================] - 49s 28ms/step - loss: 0.0051\n",
            "Epoch 20/30\n",
            "1721/1721 [==============================] - 51s 30ms/step - loss: 0.0050\n",
            "Epoch 21/30\n",
            "1721/1721 [==============================] - 53s 31ms/step - loss: 0.0050\n",
            "Epoch 22/30\n",
            "1721/1721 [==============================] - 54s 32ms/step - loss: 0.0049\n",
            "Epoch 23/30\n",
            "1721/1721 [==============================] - 55s 32ms/step - loss: 0.0049\n",
            "Epoch 24/30\n",
            "1721/1721 [==============================] - 54s 31ms/step - loss: 0.0048\n",
            "Epoch 25/30\n",
            "1721/1721 [==============================] - 51s 30ms/step - loss: 0.0048\n",
            "Epoch 26/30\n",
            "1721/1721 [==============================] - 47s 28ms/step - loss: 0.0048\n",
            "Epoch 27/30\n",
            "1721/1721 [==============================] - 38s 22ms/step - loss: 0.0047\n",
            "Epoch 28/30\n",
            "1721/1721 [==============================] - 38s 22ms/step - loss: 0.0047\n",
            "Epoch 29/30\n",
            "1721/1721 [==============================] - 38s 22ms/step - loss: 0.0046\n",
            "Epoch 30/30\n",
            "1721/1721 [==============================] - 37s 22ms/step - loss: 0.0046\n"
          ]
        }
      ],
      "source": [
        "model_history = model.fit( train_x, train_y, epochs=epochs, batch_size=batch,  verbose=1)"
      ]
    },
    {
      "cell_type": "code",
      "execution_count": 26,
      "metadata": {
        "colab": {
          "base_uri": "https://localhost:8080/"
        },
        "id": "gqQpm8-DInAX",
        "outputId": "5c3ce549-cd46-43d9-cff9-96b3c14f47f3"
      },
      "outputs": [],
      "source": [
        "#model.save(path+\"cnn_new_model_all_sub_2_leg_\")"
      ]
    },
    {
      "cell_type": "code",
      "execution_count": 27,
      "metadata": {
        "id": "Jw9laCHEOilj"
      },
      "outputs": [],
      "source": [
        "#model = tf.keras.models.load_model(path+\"cnn_new_model_sd_sks_th\")"
      ]
    },
    {
      "cell_type": "code",
      "execution_count": 28,
      "metadata": {
        "id": "MiLnoJ_WEU6x"
      },
      "outputs": [],
      "source": [
        "def step_decay(epoch):\n",
        "\tinitial_lrate = 0.001\n",
        "\tdrop = 0.005\n",
        "\tepochs_drop = 10\n",
        "\tlrate=initial_lrate - 0.00001\n",
        "\t# lrate = initial_lrate * math.pow(drop, math.floor((1+epoch)/epochs_drop))\n",
        "\treturn lrate\n"
      ]
    },
    {
      "cell_type": "code",
      "execution_count": 29,
      "metadata": {
        "colab": {
          "base_uri": "https://localhost:8080/"
        },
        "id": "U9VdiCTVBa4z",
        "outputId": "d5b4b229-4b48-4186-9039-9f9e0fb100a7"
      },
      "outputs": [
        {
          "name": "stdout",
          "output_type": "stream",
          "text": [
            "(None, 10, 3)\n",
            "2294/2294 [==============================] - 13s 6ms/step\n"
          ]
        }
      ],
      "source": [
        "# trainPredict = model.predict(train_x)\n",
        "testPredict = model.predict(validation_x)"
      ]
    },
    {
      "cell_type": "code",
      "execution_count": 30,
      "metadata": {
        "colab": {
          "base_uri": "https://localhost:8080/"
        },
        "id": "I8TZkfOkLUf5",
        "outputId": "9ba6a815-fcd9-499d-c9f4-6f6ed0065ebd"
      },
      "outputs": [
        {
          "data": {
            "text/plain": [
              "(73403, 2)"
            ]
          },
          "execution_count": 30,
          "metadata": {},
          "output_type": "execute_result"
        }
      ],
      "source": [
        "\n",
        "testPredict.shape"
      ]
    },
    {
      "cell_type": "code",
      "execution_count": 31,
      "metadata": {
        "colab": {
          "base_uri": "https://localhost:8080/"
        },
        "id": "QO0pIoqu36me",
        "outputId": "6cb6520e-3f6f-4d88-d5e9-01abf723b8b7"
      },
      "outputs": [
        {
          "name": "stdout",
          "output_type": "stream",
          "text": [
            "Test Score: 0.07 RMSE\n"
          ]
        }
      ],
      "source": [
        "from sklearn.metrics import mean_squared_error\n",
        "\n",
        "# trainScore = np.sqrt(mean_squared_error(train_y, trainPredict))\n",
        "# print('Train Score: %.2f RMSE' % (trainScore))\n",
        "testScore = np.sqrt(mean_squared_error(validation_y, testPredict))\n",
        "print('Test Score: %.2f RMSE' % (testScore))"
      ]
    },
    {
      "cell_type": "code",
      "execution_count": 32,
      "metadata": {
        "colab": {
          "base_uri": "https://localhost:8080/"
        },
        "id": "ghh2H9ws4CPm",
        "outputId": "5abbf3a0-ece7-4710-a381-7aa3f8980257"
      },
      "outputs": [
        {
          "data": {
            "text/plain": [
              "(73403, 3)"
            ]
          },
          "execution_count": 32,
          "metadata": {},
          "output_type": "execute_result"
        }
      ],
      "source": [
        "v = X_test[11:]\n",
        "v.shape"
      ]
    },
    {
      "cell_type": "code",
      "execution_count": 33,
      "metadata": {
        "id": "XBtXpqWU0nw0"
      },
      "outputs": [],
      "source": [
        "x_test = scaler.inverse_transform(v)\n",
        "\n",
        "pred = np.zeros((len(testPredict),1))\n",
        "\n",
        "for iter in range(len(testPredict)):\n",
        "  x = testPredict[iter][0]\n",
        "  y = testPredict[iter][1]\n",
        "  pred[iter] = ((math.atan2(y,x) + 2*math.pi) % (2*math.pi)) * (100 / (2*math.pi))\n",
        "\n",
        "  \n",
        "  if ((pred[iter] >= 80) & (x_test[iter][-1] <= 20)) : \n",
        "    pred[iter] = pred[iter] - 100  \n",
        "    if abs(pred[iter]) >= 5:\n",
        "      pred[iter] = 0 \n",
        "  \n",
        "\n",
        "  if ((pred[iter] <= 20) & (x_test[iter][-1] >= 150)):\n",
        "    pred[iter] = 100 - pred[iter]\n",
        "    if abs(pred[iter]) >= 5:\n",
        "        pred[iter] = 100\n"
      ]
    },
    {
      "cell_type": "code",
      "execution_count": 34,
      "metadata": {
        "id": "KIsIEir80qmo"
      },
      "outputs": [],
      "source": [
        "actual = np.zeros((len(validation_y),1))\n",
        "\n",
        "for iter in range(len(validation_y)):\n",
        "  x =validation_y[iter][0]\n",
        "  y =validation_y[iter][1]\n",
        "  actual[iter] = ((math.atan2(y,x) + 2*math.pi) % (2*math.pi)) * (100 / (2*math.pi))"
      ]
    },
    {
      "cell_type": "code",
      "execution_count": 35,
      "metadata": {
        "colab": {
          "base_uri": "https://localhost:8080/"
        },
        "id": "-bNRktP10tNK",
        "outputId": "d67925f6-ecce-4ee3-d83e-ce74492ec76c"
      },
      "outputs": [
        {
          "name": "stdout",
          "output_type": "stream",
          "text": [
            "41994\n",
            "73403\n",
            "Precision  1 :  57.21019576856532\n",
            "60286\n",
            "73403\n",
            "Precision  2 :  82.13015816792229\n",
            "68325\n",
            "73403\n",
            "Precision  3 :  93.0820266201654\n",
            "71632\n",
            "73403\n",
            "Precision  4 :  97.5872920725311\n",
            "72748\n",
            "73403\n",
            "Precision  5 :  99.10766589921393\n"
          ]
        }
      ],
      "source": [
        "correct = 0\n",
        "for i in range(5):\n",
        "  correct = 0\n",
        "  for iter in range(len(actual)):\n",
        "    if (abs(actual[iter] - pred[iter]) <= (i+1)): # or (actual[iter]>98) or(actual[iter]<3):\n",
        "      correct+=1\n",
        "\n",
        "  print(correct)\n",
        "  print(len(actual))\n",
        "\n",
        "  print(\"Precision \", i+1, \": \", correct * 100/len(actual))"
      ]
    },
    {
      "cell_type": "code",
      "execution_count": 36,
      "metadata": {
        "colab": {
          "base_uri": "https://localhost:8080/"
        },
        "id": "LfzR41e40wqK",
        "outputId": "bf00bd73-6b59-46d3-9187-235284fe5c34"
      },
      "outputs": [
        {
          "name": "stdout",
          "output_type": "stream",
          "text": [
            "Predicting Percentage RMSE:  1.575943582546826\n"
          ]
        }
      ],
      "source": [
        "perc_rmse = np.sqrt(mean_squared_error(actual, pred))\n",
        "print(\"Predicting Percentage RMSE: \", perc_rmse)\n",
        "\n"
      ]
    },
    {
      "cell_type": "code",
      "execution_count": 37,
      "metadata": {},
      "outputs": [
        {
          "name": "stdout",
          "output_type": "stream",
          "text": [
            "73403\n",
            "73403\n",
            "1.5759435825468235\n"
          ]
        }
      ],
      "source": [
        "rmse = 0\n",
        "length = len(actual)\n",
        "for i in range(len(actual)):\n",
        "  if abs (pred[i] - actual[i]) >= 90:\n",
        "    length -= 1\n",
        "  else:\n",
        "    rmse = rmse + pow(pred[i] - actual[i], 2)\n",
        "rmse = rmse / length\n",
        "rmse = math.sqrt(rmse)\n",
        "print(length)\n",
        "print(len(actual))\n",
        "print(rmse)"
      ]
    },
    {
      "cell_type": "code",
      "execution_count": 38,
      "metadata": {
        "colab": {
          "base_uri": "https://localhost:8080/",
          "height": 465
        },
        "id": "Twk_YKQWJdO1",
        "outputId": "6b05d555-2446-4527-cd38-781c2781ecb3"
      },
      "outputs": [
        {
          "name": "stdout",
          "output_type": "stream",
          "text": [
            "43675\n",
            "73403\n"
          ]
        },
        {
          "data": {
            "image/png": "[encoded data removed]",
            "text/plain": [
              "<Figure size 432x288 with 1 Axes>"
            ]
          },
          "metadata": {
            "needs_background": "light"
          },
          "output_type": "display_data"
        }
      ],
      "source": [
        "correct = 0\n",
        "\n",
        "plt.figure()\n",
        "plt.scatter(pred, actual)\n",
        "for iter in range(len(actual)):\n",
        "  if actual[iter]<5 or actual[iter]>95:\n",
        "    correct+=1\n",
        "    continue\n",
        "  if (abs(actual[iter] - pred[iter]) <= 1):\n",
        "    correct+=1\n",
        "\n",
        "\n",
        "print(correct)\n",
        "print(len(actual))"
      ]
    },
    {
      "cell_type": "code",
      "execution_count": 39,
      "metadata": {
        "colab": {
          "base_uri": "https://localhost:8080/",
          "height": 469
        },
        "id": "FxfNpj92JhO5",
        "outputId": "f5012e6f-5db6-4a7d-9a7b-1960b2e5f97d"
      },
      "outputs": [
        {
          "data": {
            "text/plain": [
              "Text(0.5, 1.0, 'Actual vs Prediction')"
            ]
          },
          "execution_count": 39,
          "metadata": {},
          "output_type": "execute_result"
        },
        {
          "data": {
            "image/png": "[encoded data removed]",
            "text/plain": [
              "<Figure size 432x288 with 1 Axes>"
            ]
          },
          "metadata": {
            "needs_background": "light"
          },
          "output_type": "display_data"
        }
      ],
      "source": [
        "plt.scatter(actual, pred, facecolors='none', edgecolors='crimson',alpha=0.4)\n",
        "p1 = max(max(pred), max(actual))\n",
        "p2 = min(min(pred), min(actual))\n",
        "\n",
        "ci = 0.1 * np.std([p1,p2]) / np.mean([p1,p2])\n",
        "\n",
        "plt.plot([p1, p2], [p1, p2], 'b-', linewidth =3)\n",
        "plt.title('Actual vs Prediction')"
      ]
    },
    {
      "cell_type": "code",
      "execution_count": 40,
      "metadata": {
        "colab": {
          "base_uri": "https://localhost:8080/",
          "height": 856
        },
        "id": "-htzaM04vRDt",
        "outputId": "727145b3-2ff8-427e-fac5-64851f883919"
      },
      "outputs": [
        {
          "name": "stdout",
          "output_type": "stream",
          "text": [
            "You must install pydot (`pip install pydot`) and install graphviz (see instructions at https://graphviz.gitlab.io/download/) for plot_model to work.\n"
          ]
        }
      ],
      "source": [
        "tf.keras.utils.plot_model(model, 'model_new.png')"
      ]
    },
    {
      "cell_type": "code",
      "execution_count": 41,
      "metadata": {
        "id": "ALo9_9C-2IXR"
      },
      "outputs": [
        {
          "ename": "NameError",
          "evalue": "name 'path' is not defined",
          "output_type": "error",
          "traceback": [
            "\u001b[1;31m---------------------------------------------------------------------------\u001b[0m",
            "\u001b[1;31mNameError\u001b[0m                                 Traceback (most recent call last)",
            "\u001b[1;32m~\\AppData\\Local\\Temp\\ipykernel_36076\\4221171622.py\u001b[0m in \u001b[0;36m<module>\u001b[1;34m\u001b[0m\n\u001b[0;32m      3\u001b[0m \u001b[1;33m\u001b[0m\u001b[0m\n\u001b[0;32m      4\u001b[0m \u001b[1;32mfor\u001b[0m \u001b[0mi\u001b[0m \u001b[1;32min\u001b[0m \u001b[0mrange\u001b[0m \u001b[1;33m(\u001b[0m\u001b[0mlen\u001b[0m\u001b[1;33m(\u001b[0m\u001b[0mfile_name\u001b[0m\u001b[1;33m)\u001b[0m\u001b[1;33m)\u001b[0m\u001b[1;33m:\u001b[0m\u001b[1;33m\u001b[0m\u001b[1;33m\u001b[0m\u001b[0m\n\u001b[1;32m----> 5\u001b[1;33m     \u001b[0mfile_list\u001b[0m\u001b[1;33m.\u001b[0m\u001b[0mappend\u001b[0m\u001b[1;33m(\u001b[0m\u001b[0mpd\u001b[0m\u001b[1;33m.\u001b[0m\u001b[0mread_excel\u001b[0m\u001b[1;33m(\u001b[0m\u001b[0mpath\u001b[0m\u001b[1;33m+\u001b[0m \u001b[0mfile_name\u001b[0m\u001b[1;33m[\u001b[0m\u001b[0mi\u001b[0m\u001b[1;33m]\u001b[0m\u001b[1;33m,\u001b[0m \u001b[0msheet_name\u001b[0m\u001b[1;33m=\u001b[0m\u001b[1;34m'Sheet1'\u001b[0m\u001b[1;33m)\u001b[0m\u001b[1;33m)\u001b[0m\u001b[1;33m\u001b[0m\u001b[1;33m\u001b[0m\u001b[0m\n\u001b[0m\u001b[0;32m      6\u001b[0m \u001b[1;33m\u001b[0m\u001b[0m\n\u001b[0;32m      7\u001b[0m \u001b[1;32mimport\u001b[0m \u001b[0mrandom\u001b[0m\u001b[1;33m\u001b[0m\u001b[1;33m\u001b[0m\u001b[0m\n",
            "\u001b[1;31mNameError\u001b[0m: name 'path' is not defined"
          ]
        }
      ],
      "source": [
        "file_name = ['PK_0_I_r.xls', 'PK_2_I_r.xls', 'PK_3_I_r.xls','PK_5_I_r.xls']\n",
        "\n",
        "\n",
        "for i in range (len(file_name)):\n",
        "    file_list.append(pd.read_excel(path+ file_name[i], sheet_name='Sheet1'))\n",
        "\n",
        "import random\n",
        "random.shuffle(file_list)\n",
        "\n",
        "all_data = pd.concat(file_list, axis=0, ignore_index=True)\n",
        "\n",
        "cycle = 0\n",
        "cycle_list = []\n",
        "\n",
        "start = 0\n",
        "\n",
        "for i in range(len(all_data) - 1):\n",
        "    if (all_data['perc'][i+1] == 0):\n",
        "        cycle += 1\n",
        "        cycle_list.append(all_data.iloc[start:i])\n",
        "        start = i+1\n",
        "\n",
        "random.shuffle(cycle_list)\n",
        "source_table = pd.concat(cycle_list, axis=0, ignore_index=True)\n",
        "\n",
        "source_table\n",
        "source_table = source_table.drop([\"n_lgrf\",\"n_r_grf\",\"l_ph_ank\",\"r_ph_ank\"], axis = 1)#,'l_ph_hip','l_ph_fo','n_lcop'], axis = 1)\n",
        "\n",
        "x = source_table\n",
        "x = x.drop(['perc'], axis=1)\n",
        "scaler = MinMaxScaler()\n",
        "x_scaled = scaler.fit_transform(x)\n",
        "x_scaled = pd.DataFrame(x_scaled)\n",
        "\n",
        "encode_gait_percentage(source_table, 'perc')\n",
        "y = source_table[[\"X\",\"Y\"]]\n",
        "y\n",
        "\n",
        "data_x = x_scaled\n",
        "data_y = y.values.reshape(-1,2)\n",
        "look_back=10\n",
        "fore_cast=1\n",
        "val_new_x, val_new_y = convert_data(data_x, data_y, look_back, fore_cast)\n"
      ]
    },
    {
      "cell_type": "code",
      "execution_count": null,
      "metadata": {
        "colab": {
          "base_uri": "https://localhost:8080/"
        },
        "id": "k7bivVWJgiwE",
        "outputId": "016735f8-154d-4002-c6f6-ac47eb8b97cf"
      },
      "outputs": [
        {
          "name": "stdout",
          "output_type": "stream",
          "text": [
            "35853/35853 [==============================] - 236s 7ms/step\n"
          ]
        }
      ],
      "source": [
        "testPredict = model.predict(val_new_x)"
      ]
    },
    {
      "cell_type": "code",
      "execution_count": null,
      "metadata": {
        "colab": {
          "base_uri": "https://localhost:8080/"
        },
        "id": "QTpp3bDpgjMB",
        "outputId": "d833160c-afaa-4c01-ca3b-8db785cdf38c"
      },
      "outputs": [
        {
          "name": "stdout",
          "output_type": "stream",
          "text": [
            "671947\n",
            "1147286\n",
            "Precision  1 :  58.56839532601287\n",
            "872502\n",
            "1147286\n",
            "Precision  2 :  76.04921527849203\n",
            "939596\n",
            "1147286\n",
            "Precision  3 :  81.89727757507718\n",
            "975049\n",
            "1147286\n",
            "Precision  4 :  84.9874399234367\n",
            "997114\n",
            "1147286\n",
            "Precision  5 :  86.91067440899654\n"
          ]
        }
      ],
      "source": [
        "v = val_new_x[11:]\n",
        "v.shape\n",
        "\n",
        "pred = np.zeros((len(testPredict),1))\n",
        "\n",
        "for iter in range(len(testPredict)):\n",
        "  x = testPredict[iter][0]\n",
        "  y = testPredict[iter][1]\n",
        "  pred[iter] = ((math.atan2(y,x) + 2*math.pi) % (2*math.pi)) * (100 / (2*math.pi))\n",
        "\n",
        "  # pred1=pd.DataFrame(pred).sort_index().reset_index()\n",
        "\n",
        "actual = np.zeros((len(val_new_y),1))\n",
        "\n",
        "for iter in range(len(val_new_x)):\n",
        "  x =val_new_y[iter][0]\n",
        "  y =val_new_y[iter][1]\n",
        "  actual[iter] = ((math.atan2(y,x) + 2*math.pi) % (2*math.pi)) * (100 / (2*math.pi))\n",
        "\n",
        "\n",
        "\n",
        "correct = 0\n",
        "for i in range(5):\n",
        "  correct = 0\n",
        "  for iter in range(len(actual)):\n",
        "    if (abs(actual[iter] - pred[iter]) <= (i+1)) or (actual[iter]>98) or(actual[iter]<3):\n",
        "      correct+=1\n",
        "\n",
        "  print(correct)\n",
        "  print(len(actual))\n",
        "\n",
        "  print(\"Precision \", i+1, \": \", correct * 100/len(actual))"
      ]
    },
    {
      "cell_type": "code",
      "execution_count": null,
      "metadata": {
        "colab": {
          "base_uri": "https://localhost:8080/"
        },
        "id": "0MF6dayJmPHg",
        "outputId": "e8682984-5a4d-49ee-8007-e8b9328a060a"
      },
      "outputs": [
        {
          "name": "stdout",
          "output_type": "stream",
          "text": [
            "Predicting Percentage RMSE:  12.209285477150495\n",
            "1135419\n",
            "1147286\n",
            "7.128382042631977\n"
          ]
        },
        {
          "name": "stderr",
          "output_type": "stream",
          "text": [
            "<ipython-input-40-21bf04cfed5a>:11: DeprecationWarning: Conversion of an array with ndim > 0 to a scalar is deprecated, and will error in future. Ensure you extract a single element from your array before performing this operation. (Deprecated NumPy 1.25.)\n",
            "  rmse = math.sqrt(rmse)\n"
          ]
        }
      ],
      "source": [
        "perc_rmse = np.sqrt(mean_squared_error(actual, pred))\n",
        "print(\"Predicting Percentage RMSE: \", perc_rmse)\n",
        "rmse = 0\n",
        "length = len(actual)\n",
        "for i in range(len(actual)):\n",
        "  if abs (pred[i] - actual[i]) >= 90:\n",
        "    length -= 1\n",
        "  else:\n",
        "    rmse = rmse + pow(pred[i] - actual[i], 2)\n",
        "rmse = rmse / length\n",
        "rmse = math.sqrt(rmse)\n",
        "print(length)\n",
        "print(len(actual))\n",
        "print(rmse)"
      ]
    },
    {
      "cell_type": "code",
      "execution_count": null,
      "metadata": {
        "colab": {
          "base_uri": "https://localhost:8080/",
          "height": 469
        },
        "id": "JZYGhlAOsibw",
        "outputId": "425a0cfd-8e5e-4c97-9f56-c2bf12e6c5ba"
      },
      "outputs": [
        {
          "data": {
            "text/plain": [
              "Text(0.5, 1.0, 'Actual vs Prediction')"
            ]
          },
          "execution_count": 41,
          "metadata": {},
          "output_type": "execute_result"
        },
        {
          "data": {
            "image/png": "[encoded data removed]",
            "text/plain": [
              "<Figure size 640x480 with 1 Axes>"
            ]
          },
          "metadata": {},
          "output_type": "display_data"
        }
      ],
      "source": [
        "plt.scatter(actual, pred, facecolors='none', edgecolors='crimson',alpha=0.4)\n",
        "p1 = max(max(pred), max(actual))\n",
        "p2 = min(min(pred), min(actual))\n",
        "\n",
        "ci = 0.1 * np.std([p1,p2]) / np.mean([p1,p2])\n",
        "\n",
        "plt.plot([p1, p2], [p1, p2], 'b-', linewidth =3)\n",
        "plt.title('Actual vs Prediction')"
      ]
    },
    {
      "cell_type": "code",
      "execution_count": null,
      "metadata": {
        "id": "qOi80H9bsnv4"
      },
      "outputs": [],
      "source": []
    }
  ],
  "metadata": {
    "accelerator": "TPU",
    "colab": {
      "provenance": []
    },
    "kernelspec": {
      "display_name": "Python 3",
      "name": "python3"
    },
    "language_info": {
      "codemirror_mode": {
        "name": "ipython",
        "version": 3
      },
      "file_extension": ".py",
      "mimetype": "text/x-python",
      "name": "python",
      "nbconvert_exporter": "python",
      "pygments_lexer": "ipython3",
      "version": "3.8.10"
    }
  },
  "nbformat": 4,
  "nbformat_minor": 0
}
