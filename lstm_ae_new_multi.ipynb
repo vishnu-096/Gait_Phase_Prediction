{
  "cells": [
    {
      "cell_type": "code",
      "execution_count": 1,
      "metadata": {
        "id": "oUvebjog04oW"
      },
      "outputs": [],
      "source": [
        "import numpy as np\n",
        "import pandas as pd\n",
        "import tensorflow as tf\n",
        "import matplotlib.pyplot as plt\n",
        "import math\n",
        "import time\n",
        "import os\n",
        "import sys\n",
        "import json\n",
        "\n",
        "import scipy as sp\n",
        "from scipy import signal\n",
        "\n",
        "from keras.models import Sequential\n",
        "from keras.layers import Dense\n",
        "from keras.layers import LSTM\n",
        "from keras.callbacks import EarlyStopping\n",
        "from sklearn.preprocessing import MinMaxScaler\n",
        "from sklearn.feature_selection import SelectKBest\n",
        "from sklearn.feature_selection import f_regression\n",
        "from sklearn import metrics\n",
        "from statsmodels.tsa.seasonal import seasonal_decompose\n",
        "from statsmodels.graphics.tsaplots import plot_acf\n",
        "\n",
        "from tensorflow.keras.models import Sequential\n",
        "from tensorflow.keras.layers import *\n",
        "from tensorflow.keras.callbacks import ModelCheckpoint\n",
        "from tensorflow.keras.losses import MeanSquaredError\n",
        "from tensorflow.keras.metrics import RootMeanSquaredError\n",
        "from tensorflow.keras.optimizers import Adam\n",
        "from tensorflow.keras.layers import LSTM, Dense, Dropout, TimeDistributed, Conv1D, MaxPooling1D, Flatten, Bidirectional, Input, Flatten, Activation, Reshape, RepeatVector, Concatenate\n",
        "from tensorflow.keras import Sequential\n",
        "from tensorflow.keras.layers import *\n",
        "from keras.callbacks import EarlyStopping\n",
        "import tensorflow as tf\n",
        "\n",
        "from sklearn.preprocessing import MinMaxScaler\n",
        "from sklearn.model_selection import train_test_split\n",
        "\n",
        "import os, warnings, random\n",
        "from sklearn.metrics import mean_squared_error\n",
        "from sklearn.model_selection import train_test_split\n",
        "import tensorflow as tf\n",
        "import tensorflow.keras.layers as L\n",
        "from tensorflow.keras.layers import *\n",
        "from tensorflow.keras import optimizers, Sequential, Model\n",
        "from tensorflow.keras.callbacks import LearningRateScheduler"
      ]
    },
    {
      "cell_type": "code",
      "execution_count": 2,
      "metadata": {
        "id": "ieOMqQ_o04oZ"
      },
      "outputs": [],
      "source": [
        "SEED = 13\n",
        "tf.random.set_seed(SEED)"
      ]
    },
    {
      "cell_type": "code",
      "execution_count": 3,
      "metadata": {
        "id": "PKm1uOiX04oa"
      },
      "outputs": [],
      "source": [
        "def encode_gait_percentage(df, name):\n",
        "  percent = df[name].values.tolist()\n",
        "  X = np.zeros((len(df[name]),1))\n",
        "  Y = np.zeros((len(df[name]),1))\n",
        "  for i in range (len(percent)):\n",
        "    phi = percent[i] * 2 * math.pi / 100\n",
        "    X[i] = math.cos(phi)\n",
        "    Y[i] = math.sin(phi)\n",
        "  df['X'] = X\n",
        "  df['Y'] = Y"
      ]
    },
    {
      "cell_type": "code",
      "execution_count": 4,
      "metadata": {
        "id": "PiqdGzio04oj"
      },
      "outputs": [],
      "source": [
        "def convert_data(d_x, d_y, look_back = 1, fore_cast = 1):\n",
        "    dataX = []\n",
        "    dataY = []\n",
        "\n",
        "    for i in range(look_back, len(d_x) - fore_cast):\n",
        "        dataX.append(d_x[i - look_back: i])\n",
        "        dataY.append(d_y[i + fore_cast,:])\n",
        "\n",
        "    return np.array(dataX), np.array(dataY)"
      ]
    },
    {
      "cell_type": "code",
      "execution_count": 5,
      "metadata": {
        "colab": {
          "base_uri": "https://localhost:8080/"
        },
        "id": "x1qm5sIrhOv3",
        "outputId": "6885c08a-2eff-4f94-8927-f2de93438843"
      },
      "outputs": [],
      "source": [
        "#from google.colab import drive\n",
        "\n",
        "#rive.mount('/content/drive')\n",
        "#path =path = '/content/drive/MyDrive/nmchr_lab/Subjects/inclined/new/right_based/'\n"
      ]
    },
    {
      "cell_type": "code",
      "execution_count": 14,
      "metadata": {},
      "outputs": [
        {
          "name": "stdout",
          "output_type": "stream",
          "text": [
            "c:\\Users\\Admin\\Desktop\\Neurorobotic Lab\\Data_Code\\Model\\Gait_Phase_Prediction\n"
          ]
        }
      ],
      "source": [
        "working_dir = os.getcwd()#os.path.dirname(os.getcwd())\n",
        "sys_platform = sys.platform\n",
        "excel_path_dict = {'linux' : \"/csvs/\", 'win32' : \"\\Data\\Incline\\\\right_based\\\\\"}\n",
        "excel_path_name = excel_path_dict[sys_platform]\n",
        "\n",
        "directory_path = working_dir \n",
        "print(directory_path)\n",
        "excel_path = directory_path + excel_path_name\n"
      ]
    },
    {
      "cell_type": "code",
      "execution_count": 15,
      "metadata": {},
      "outputs": [],
      "source": [
        "# ---------------------------------------------------- #\n",
        "#  -> Provide Number of Trainning Subj and Test Subj.  #\n",
        "#  -> List all the file name per each subj.            #\n",
        "# ---------------------------------------------------- #\n",
        "\n",
        "no_subj_train = 4\n",
        "no_subj_test  = 1\n",
        "\n",
        "sub1_file = ['TH\\TH_4_I_r.xlsx', 'TH\\TH_2_I_r.xlsx', 'TH\\TH_3_I_r.xlsx']\n",
        "sub2_file = ['JJ\\JJ_4_I_r.xlsx', 'JJ\\JJ_6_I_r.xlsx', 'JJ\\JJ_7_I_r.xlsx']\n",
        "sub3_file = ['SD\\SD_1_I_r.xls', 'SD\\SD_4_I_r.xls', 'SD\\SD_2_I_r.xls', 'SD\\SD_3_I_r.xls', 'SD\\SD_5_I_r.xls']\n",
        "sub4_file = ['PK\\PK_0_I_r.xls', 'PK\\PK_5_I_r.xls', 'PK\\PK_2_I_r.xls', 'PK\\PK_3_I_r.xls']\n",
        "sub5_file = ['SKS\\SKS_0_I_r.xls', 'SKS\\SKS_4_I_r.xls', 'SKS\\SKS_2_I_r.xls', 'SKS\\SKS_3_I_r.xls', 'SKS\\SKS_5_I_r.xls']\n",
        "sub6_file = ['SOE\\SOE_I_0.xlsx', 'SOE\\SOE_I_2.xlsx', 'SOE\\SOE_I_3.xlsx', 'SOE\\SOE_I_4.xlsx', 'SOE\\SOE_I_5.xlsx']\n",
        "sub7_file = ['VP\\VP_I_0.xlsx', 'VP\\VP_I_2.xlsx', 'VP\\VP_I_3.xlsx', 'VP\\VP_I_5.xlsx']\n"
      ]
    },
    {
      "cell_type": "code",
      "execution_count": 16,
      "metadata": {},
      "outputs": [
        {
          "name": "stdout",
          "output_type": "stream",
          "text": [
            "Number of all subject:  3\n"
          ]
        }
      ],
      "source": [
        "# ---------------------------------------------------- #\n",
        "#  -> Concat all Subj into a list                      #\n",
        "#  -> Randomly shuffle the subj list                   #\n",
        "# ---------------------------------------------------- #\n",
        "\n",
        "#list1 = [sub1_file, sub2_file, sub3_file, sub4_file, sub5_file]\n",
        "list1 = [sub5_file, sub6_file, sub7_file]\n",
        "print(\"Number of all subject: \", len(list1))\n",
        "\n",
        "import random\n",
        "random.shuffle(list1)"
      ]
    },
    {
      "cell_type": "code",
      "execution_count": 17,
      "metadata": {},
      "outputs": [
        {
          "name": "stdout",
          "output_type": "stream",
          "text": [
            "Test Subj:  ['VP\\\\VP_I_0.xlsx', 'VP\\\\VP_I_2.xlsx', 'VP\\\\VP_I_3.xlsx', 'VP\\\\VP_I_5.xlsx']\n"
          ]
        }
      ],
      "source": [
        "# ---------------------------------------------------- #\n",
        "#  -> Randomly choose (n) number Subj for testing by   #\n",
        "#      poping an element from the list                 #\n",
        "# ---------------------------------------------------- #\n",
        "\n",
        "test_sub = list1.pop()\n",
        "\n",
        "print(\"Test Subj: \", test_sub)"
      ]
    },
    {
      "cell_type": "code",
      "execution_count": 18,
      "metadata": {},
      "outputs": [],
      "source": [
        "file_list = []\n",
        "\n",
        "for i in range (len(list1)):\n",
        "    for j in range(len(list1[i])):\n",
        "        file_list.append(pd.read_excel(excel_path + list1[i][j], sheet_name='Sheet1'))"
      ]
    },
    {
      "cell_type": "code",
      "execution_count": 19,
      "metadata": {},
      "outputs": [],
      "source": [
        "random.shuffle(file_list)\n",
        "\n",
        "all_data = pd.concat(file_list, axis = 0, ignore_index = True)"
      ]
    },
    {
      "cell_type": "code",
      "execution_count": 20,
      "metadata": {
        "colab": {
          "base_uri": "https://localhost:8080/"
        },
        "id": "-m7rgW5thOv4",
        "outputId": "74fb0611-366a-459c-ae78-e07832e9034c"
      },
      "outputs": [
        {
          "name": "stdout",
          "output_type": "stream",
          "text": [
            "<class 'pandas.core.frame.DataFrame'>\n",
            "RangeIndex: 542338 entries, 0 to 542337\n",
            "Data columns (total 13 columns):\n",
            " #   Column        Non-Null Count   Dtype  \n",
            "---  ------        --------------   -----  \n",
            " 0   l_ph_hip      542338 non-null  float64\n",
            " 1   l_ph_ank      542338 non-null  float64\n",
            " 2   l_ph_fo       542338 non-null  float64\n",
            " 3   r_ph_hip      542338 non-null  float64\n",
            " 4   r_ph_ank      542338 non-null  float64\n",
            " 5   r_ph_fo       542338 non-null  float64\n",
            " 6   n_lgrf        542338 non-null  float64\n",
            " 7   n_r_grf       542338 non-null  float64\n",
            " 8   n_lcop        542338 non-null  float64\n",
            " 9   n_rcop        542338 non-null  float64\n",
            " 10  perc_new      542338 non-null  float64\n",
            " 11  st_sw_phase   542338 non-null  int64  \n",
            " 12  strike_frame  542338 non-null  int64  \n",
            "dtypes: float64(11), int64(2)\n",
            "memory usage: 53.8 MB\n"
          ]
        }
      ],
      "source": [
        "all_data.info()"
      ]
    },
    {
      "cell_type": "code",
      "execution_count": 21,
      "metadata": {
        "colab": {
          "base_uri": "https://localhost:8080/",
          "height": 423
        },
        "id": "9zPHqQg4hOv5",
        "outputId": "a2c3c1d2-cb4f-4294-bf89-33c2ae58fcac"
      },
      "outputs": [
        {
          "data": {
            "text/html": [
              "<div>\n",
              "<style scoped>\n",
              "    .dataframe tbody tr th:only-of-type {\n",
              "        vertical-align: middle;\n",
              "    }\n",
              "\n",
              "    .dataframe tbody tr th {\n",
              "        vertical-align: top;\n",
              "    }\n",
              "\n",
              "    .dataframe thead th {\n",
              "        text-align: right;\n",
              "    }\n",
              "</style>\n",
              "<table border=\"1\" class=\"dataframe\">\n",
              "  <thead>\n",
              "    <tr style=\"text-align: right;\">\n",
              "      <th></th>\n",
              "      <th>l_ph_hip</th>\n",
              "      <th>l_ph_ank</th>\n",
              "      <th>l_ph_fo</th>\n",
              "      <th>r_ph_hip</th>\n",
              "      <th>r_ph_ank</th>\n",
              "      <th>r_ph_fo</th>\n",
              "      <th>n_lgrf</th>\n",
              "      <th>n_r_grf</th>\n",
              "      <th>n_lcop</th>\n",
              "      <th>n_rcop</th>\n",
              "      <th>perc_new</th>\n",
              "      <th>st_sw_phase</th>\n",
              "      <th>strike_frame</th>\n",
              "    </tr>\n",
              "  </thead>\n",
              "  <tbody>\n",
              "    <tr>\n",
              "      <th>0</th>\n",
              "      <td>0.629027</td>\n",
              "      <td>0.734107</td>\n",
              "      <td>0.841352</td>\n",
              "      <td>0.938920</td>\n",
              "      <td>0.860023</td>\n",
              "      <td>0.702554</td>\n",
              "      <td>0.788135</td>\n",
              "      <td>0.035981</td>\n",
              "      <td>0.137034</td>\n",
              "      <td>0.006464</td>\n",
              "      <td>0.000000</td>\n",
              "      <td>0</td>\n",
              "      <td>1</td>\n",
              "    </tr>\n",
              "    <tr>\n",
              "      <th>1</th>\n",
              "      <td>0.610963</td>\n",
              "      <td>0.734209</td>\n",
              "      <td>0.822233</td>\n",
              "      <td>0.935800</td>\n",
              "      <td>0.843036</td>\n",
              "      <td>0.702439</td>\n",
              "      <td>0.781664</td>\n",
              "      <td>0.055260</td>\n",
              "      <td>0.137152</td>\n",
              "      <td>0.007760</td>\n",
              "      <td>0.467290</td>\n",
              "      <td>0</td>\n",
              "      <td>2</td>\n",
              "    </tr>\n",
              "    <tr>\n",
              "      <th>2</th>\n",
              "      <td>0.587943</td>\n",
              "      <td>0.734184</td>\n",
              "      <td>0.808637</td>\n",
              "      <td>0.932385</td>\n",
              "      <td>0.830463</td>\n",
              "      <td>0.701838</td>\n",
              "      <td>0.772529</td>\n",
              "      <td>0.078572</td>\n",
              "      <td>0.137106</td>\n",
              "      <td>0.009164</td>\n",
              "      <td>0.934579</td>\n",
              "      <td>0</td>\n",
              "      <td>3</td>\n",
              "    </tr>\n",
              "    <tr>\n",
              "      <th>3</th>\n",
              "      <td>0.559003</td>\n",
              "      <td>0.734047</td>\n",
              "      <td>0.798563</td>\n",
              "      <td>0.928679</td>\n",
              "      <td>0.820912</td>\n",
              "      <td>0.700761</td>\n",
              "      <td>0.760435</td>\n",
              "      <td>0.105564</td>\n",
              "      <td>0.136850</td>\n",
              "      <td>0.010662</td>\n",
              "      <td>1.401869</td>\n",
              "      <td>0</td>\n",
              "      <td>4</td>\n",
              "    </tr>\n",
              "    <tr>\n",
              "      <th>4</th>\n",
              "      <td>0.524165</td>\n",
              "      <td>0.733810</td>\n",
              "      <td>0.790816</td>\n",
              "      <td>0.924696</td>\n",
              "      <td>0.813483</td>\n",
              "      <td>0.699204</td>\n",
              "      <td>0.745117</td>\n",
              "      <td>0.135664</td>\n",
              "      <td>0.136338</td>\n",
              "      <td>0.012239</td>\n",
              "      <td>1.869159</td>\n",
              "      <td>0</td>\n",
              "      <td>5</td>\n",
              "    </tr>\n",
              "    <tr>\n",
              "      <th>...</th>\n",
              "      <td>...</td>\n",
              "      <td>...</td>\n",
              "      <td>...</td>\n",
              "      <td>...</td>\n",
              "      <td>...</td>\n",
              "      <td>...</td>\n",
              "      <td>...</td>\n",
              "      <td>...</td>\n",
              "      <td>...</td>\n",
              "      <td>...</td>\n",
              "      <td>...</td>\n",
              "      <td>...</td>\n",
              "      <td>...</td>\n",
              "    </tr>\n",
              "    <tr>\n",
              "      <th>539659</th>\n",
              "      <td>312.075673</td>\n",
              "      <td>0.000000</td>\n",
              "      <td>268.004595</td>\n",
              "      <td>323.413717</td>\n",
              "      <td>359.999843</td>\n",
              "      <td>243.340194</td>\n",
              "      <td>0.000000</td>\n",
              "      <td>2.855450</td>\n",
              "      <td>0.000000</td>\n",
              "      <td>0.000000</td>\n",
              "      <td>97.706422</td>\n",
              "      <td>0</td>\n",
              "      <td>214</td>\n",
              "    </tr>\n",
              "    <tr>\n",
              "      <th>539660</th>\n",
              "      <td>312.115011</td>\n",
              "      <td>0.000000</td>\n",
              "      <td>267.480231</td>\n",
              "      <td>320.880664</td>\n",
              "      <td>359.999861</td>\n",
              "      <td>242.219190</td>\n",
              "      <td>0.000000</td>\n",
              "      <td>2.867800</td>\n",
              "      <td>0.000000</td>\n",
              "      <td>0.000000</td>\n",
              "      <td>98.165138</td>\n",
              "      <td>0</td>\n",
              "      <td>215</td>\n",
              "    </tr>\n",
              "    <tr>\n",
              "      <th>539661</th>\n",
              "      <td>312.175692</td>\n",
              "      <td>0.000000</td>\n",
              "      <td>266.905591</td>\n",
              "      <td>318.779951</td>\n",
              "      <td>359.999879</td>\n",
              "      <td>240.945793</td>\n",
              "      <td>0.000000</td>\n",
              "      <td>2.875042</td>\n",
              "      <td>0.000000</td>\n",
              "      <td>0.000000</td>\n",
              "      <td>98.623853</td>\n",
              "      <td>0</td>\n",
              "      <td>216</td>\n",
              "    </tr>\n",
              "    <tr>\n",
              "      <th>539662</th>\n",
              "      <td>312.233932</td>\n",
              "      <td>0.000000</td>\n",
              "      <td>266.264067</td>\n",
              "      <td>317.092036</td>\n",
              "      <td>359.999897</td>\n",
              "      <td>239.491428</td>\n",
              "      <td>0.000000</td>\n",
              "      <td>2.876822</td>\n",
              "      <td>0.000000</td>\n",
              "      <td>0.000000</td>\n",
              "      <td>99.082569</td>\n",
              "      <td>0</td>\n",
              "      <td>217</td>\n",
              "    </tr>\n",
              "    <tr>\n",
              "      <th>539663</th>\n",
              "      <td>312.265982</td>\n",
              "      <td>0.000000</td>\n",
              "      <td>265.536374</td>\n",
              "      <td>315.802957</td>\n",
              "      <td>359.999915</td>\n",
              "      <td>237.820033</td>\n",
              "      <td>0.000000</td>\n",
              "      <td>2.872899</td>\n",
              "      <td>0.000000</td>\n",
              "      <td>0.000000</td>\n",
              "      <td>99.541284</td>\n",
              "      <td>0</td>\n",
              "      <td>218</td>\n",
              "    </tr>\n",
              "  </tbody>\n",
              "</table>\n",
              "<p>539664 rows × 13 columns</p>\n",
              "</div>"
            ],
            "text/plain": [
              "          l_ph_hip  l_ph_ank     l_ph_fo    r_ph_hip    r_ph_ank     r_ph_fo  \\\n",
              "0         0.629027  0.734107    0.841352    0.938920    0.860023    0.702554   \n",
              "1         0.610963  0.734209    0.822233    0.935800    0.843036    0.702439   \n",
              "2         0.587943  0.734184    0.808637    0.932385    0.830463    0.701838   \n",
              "3         0.559003  0.734047    0.798563    0.928679    0.820912    0.700761   \n",
              "4         0.524165  0.733810    0.790816    0.924696    0.813483    0.699204   \n",
              "...            ...       ...         ...         ...         ...         ...   \n",
              "539659  312.075673  0.000000  268.004595  323.413717  359.999843  243.340194   \n",
              "539660  312.115011  0.000000  267.480231  320.880664  359.999861  242.219190   \n",
              "539661  312.175692  0.000000  266.905591  318.779951  359.999879  240.945793   \n",
              "539662  312.233932  0.000000  266.264067  317.092036  359.999897  239.491428   \n",
              "539663  312.265982  0.000000  265.536374  315.802957  359.999915  237.820033   \n",
              "\n",
              "          n_lgrf   n_r_grf    n_lcop    n_rcop   perc_new  st_sw_phase  \\\n",
              "0       0.788135  0.035981  0.137034  0.006464   0.000000            0   \n",
              "1       0.781664  0.055260  0.137152  0.007760   0.467290            0   \n",
              "2       0.772529  0.078572  0.137106  0.009164   0.934579            0   \n",
              "3       0.760435  0.105564  0.136850  0.010662   1.401869            0   \n",
              "4       0.745117  0.135664  0.136338  0.012239   1.869159            0   \n",
              "...          ...       ...       ...       ...        ...          ...   \n",
              "539659  0.000000  2.855450  0.000000  0.000000  97.706422            0   \n",
              "539660  0.000000  2.867800  0.000000  0.000000  98.165138            0   \n",
              "539661  0.000000  2.875042  0.000000  0.000000  98.623853            0   \n",
              "539662  0.000000  2.876822  0.000000  0.000000  99.082569            0   \n",
              "539663  0.000000  2.872899  0.000000  0.000000  99.541284            0   \n",
              "\n",
              "        strike_frame  \n",
              "0                  1  \n",
              "1                  2  \n",
              "2                  3  \n",
              "3                  4  \n",
              "4                  5  \n",
              "...              ...  \n",
              "539659           214  \n",
              "539660           215  \n",
              "539661           216  \n",
              "539662           217  \n",
              "539663           218  \n",
              "\n",
              "[539664 rows x 13 columns]"
            ]
          },
          "execution_count": 21,
          "metadata": {},
          "output_type": "execute_result"
        }
      ],
      "source": [
        "cycle = 0\n",
        "cycle_list = []\n",
        "\n",
        "start = 0\n",
        "\n",
        "for i in range(len(all_data) - 1):\n",
        "    if (all_data['perc_new'][i+1] == 0):\n",
        "        cycle += 1\n",
        "        cycle_list.append(all_data.iloc[start:i])\n",
        "        start = i+1\n",
        "\n",
        "random.shuffle(cycle_list)\n",
        "source_table = pd.concat(cycle_list, axis=0, ignore_index=True)\n",
        "\n",
        "source_table\n"
      ]
    },
    {
      "cell_type": "code",
      "execution_count": 22,
      "metadata": {},
      "outputs": [],
      "source": [
        "drop_list = [\"n_lgrf\",\"n_r_grf\",\"l_ph_ank\",\"r_ph_ank\"]"
      ]
    },
    {
      "cell_type": "code",
      "execution_count": 23,
      "metadata": {
        "colab": {
          "base_uri": "https://localhost:8080/",
          "height": 423
        },
        "id": "CX2LzKWuhOv6",
        "outputId": "4f35b670-47ce-4c70-d869-79ec202b1a6e"
      },
      "outputs": [
        {
          "data": {
            "text/html": [
              "<div>\n",
              "<style scoped>\n",
              "    .dataframe tbody tr th:only-of-type {\n",
              "        vertical-align: middle;\n",
              "    }\n",
              "\n",
              "    .dataframe tbody tr th {\n",
              "        vertical-align: top;\n",
              "    }\n",
              "\n",
              "    .dataframe thead th {\n",
              "        text-align: right;\n",
              "    }\n",
              "</style>\n",
              "<table border=\"1\" class=\"dataframe\">\n",
              "  <thead>\n",
              "    <tr style=\"text-align: right;\">\n",
              "      <th></th>\n",
              "      <th>l_ph_hip</th>\n",
              "      <th>l_ph_fo</th>\n",
              "      <th>r_ph_hip</th>\n",
              "      <th>r_ph_fo</th>\n",
              "      <th>n_lcop</th>\n",
              "      <th>n_rcop</th>\n",
              "      <th>perc_new</th>\n",
              "      <th>st_sw_phase</th>\n",
              "      <th>strike_frame</th>\n",
              "    </tr>\n",
              "  </thead>\n",
              "  <tbody>\n",
              "    <tr>\n",
              "      <th>0</th>\n",
              "      <td>0.629027</td>\n",
              "      <td>0.841352</td>\n",
              "      <td>0.938920</td>\n",
              "      <td>0.702554</td>\n",
              "      <td>0.137034</td>\n",
              "      <td>0.006464</td>\n",
              "      <td>0.000000</td>\n",
              "      <td>0</td>\n",
              "      <td>1</td>\n",
              "    </tr>\n",
              "    <tr>\n",
              "      <th>1</th>\n",
              "      <td>0.610963</td>\n",
              "      <td>0.822233</td>\n",
              "      <td>0.935800</td>\n",
              "      <td>0.702439</td>\n",
              "      <td>0.137152</td>\n",
              "      <td>0.007760</td>\n",
              "      <td>0.467290</td>\n",
              "      <td>0</td>\n",
              "      <td>2</td>\n",
              "    </tr>\n",
              "    <tr>\n",
              "      <th>2</th>\n",
              "      <td>0.587943</td>\n",
              "      <td>0.808637</td>\n",
              "      <td>0.932385</td>\n",
              "      <td>0.701838</td>\n",
              "      <td>0.137106</td>\n",
              "      <td>0.009164</td>\n",
              "      <td>0.934579</td>\n",
              "      <td>0</td>\n",
              "      <td>3</td>\n",
              "    </tr>\n",
              "    <tr>\n",
              "      <th>3</th>\n",
              "      <td>0.559003</td>\n",
              "      <td>0.798563</td>\n",
              "      <td>0.928679</td>\n",
              "      <td>0.700761</td>\n",
              "      <td>0.136850</td>\n",
              "      <td>0.010662</td>\n",
              "      <td>1.401869</td>\n",
              "      <td>0</td>\n",
              "      <td>4</td>\n",
              "    </tr>\n",
              "    <tr>\n",
              "      <th>4</th>\n",
              "      <td>0.524165</td>\n",
              "      <td>0.790816</td>\n",
              "      <td>0.924696</td>\n",
              "      <td>0.699204</td>\n",
              "      <td>0.136338</td>\n",
              "      <td>0.012239</td>\n",
              "      <td>1.869159</td>\n",
              "      <td>0</td>\n",
              "      <td>5</td>\n",
              "    </tr>\n",
              "    <tr>\n",
              "      <th>...</th>\n",
              "      <td>...</td>\n",
              "      <td>...</td>\n",
              "      <td>...</td>\n",
              "      <td>...</td>\n",
              "      <td>...</td>\n",
              "      <td>...</td>\n",
              "      <td>...</td>\n",
              "      <td>...</td>\n",
              "      <td>...</td>\n",
              "    </tr>\n",
              "    <tr>\n",
              "      <th>539659</th>\n",
              "      <td>312.075673</td>\n",
              "      <td>268.004595</td>\n",
              "      <td>323.413717</td>\n",
              "      <td>243.340194</td>\n",
              "      <td>0.000000</td>\n",
              "      <td>0.000000</td>\n",
              "      <td>97.706422</td>\n",
              "      <td>0</td>\n",
              "      <td>214</td>\n",
              "    </tr>\n",
              "    <tr>\n",
              "      <th>539660</th>\n",
              "      <td>312.115011</td>\n",
              "      <td>267.480231</td>\n",
              "      <td>320.880664</td>\n",
              "      <td>242.219190</td>\n",
              "      <td>0.000000</td>\n",
              "      <td>0.000000</td>\n",
              "      <td>98.165138</td>\n",
              "      <td>0</td>\n",
              "      <td>215</td>\n",
              "    </tr>\n",
              "    <tr>\n",
              "      <th>539661</th>\n",
              "      <td>312.175692</td>\n",
              "      <td>266.905591</td>\n",
              "      <td>318.779951</td>\n",
              "      <td>240.945793</td>\n",
              "      <td>0.000000</td>\n",
              "      <td>0.000000</td>\n",
              "      <td>98.623853</td>\n",
              "      <td>0</td>\n",
              "      <td>216</td>\n",
              "    </tr>\n",
              "    <tr>\n",
              "      <th>539662</th>\n",
              "      <td>312.233932</td>\n",
              "      <td>266.264067</td>\n",
              "      <td>317.092036</td>\n",
              "      <td>239.491428</td>\n",
              "      <td>0.000000</td>\n",
              "      <td>0.000000</td>\n",
              "      <td>99.082569</td>\n",
              "      <td>0</td>\n",
              "      <td>217</td>\n",
              "    </tr>\n",
              "    <tr>\n",
              "      <th>539663</th>\n",
              "      <td>312.265982</td>\n",
              "      <td>265.536374</td>\n",
              "      <td>315.802957</td>\n",
              "      <td>237.820033</td>\n",
              "      <td>0.000000</td>\n",
              "      <td>0.000000</td>\n",
              "      <td>99.541284</td>\n",
              "      <td>0</td>\n",
              "      <td>218</td>\n",
              "    </tr>\n",
              "  </tbody>\n",
              "</table>\n",
              "<p>539664 rows × 9 columns</p>\n",
              "</div>"
            ],
            "text/plain": [
              "          l_ph_hip     l_ph_fo    r_ph_hip     r_ph_fo    n_lcop    n_rcop  \\\n",
              "0         0.629027    0.841352    0.938920    0.702554  0.137034  0.006464   \n",
              "1         0.610963    0.822233    0.935800    0.702439  0.137152  0.007760   \n",
              "2         0.587943    0.808637    0.932385    0.701838  0.137106  0.009164   \n",
              "3         0.559003    0.798563    0.928679    0.700761  0.136850  0.010662   \n",
              "4         0.524165    0.790816    0.924696    0.699204  0.136338  0.012239   \n",
              "...            ...         ...         ...         ...       ...       ...   \n",
              "539659  312.075673  268.004595  323.413717  243.340194  0.000000  0.000000   \n",
              "539660  312.115011  267.480231  320.880664  242.219190  0.000000  0.000000   \n",
              "539661  312.175692  266.905591  318.779951  240.945793  0.000000  0.000000   \n",
              "539662  312.233932  266.264067  317.092036  239.491428  0.000000  0.000000   \n",
              "539663  312.265982  265.536374  315.802957  237.820033  0.000000  0.000000   \n",
              "\n",
              "         perc_new  st_sw_phase  strike_frame  \n",
              "0        0.000000            0             1  \n",
              "1        0.467290            0             2  \n",
              "2        0.934579            0             3  \n",
              "3        1.401869            0             4  \n",
              "4        1.869159            0             5  \n",
              "...           ...          ...           ...  \n",
              "539659  97.706422            0           214  \n",
              "539660  98.165138            0           215  \n",
              "539661  98.623853            0           216  \n",
              "539662  99.082569            0           217  \n",
              "539663  99.541284            0           218  \n",
              "\n",
              "[539664 rows x 9 columns]"
            ]
          },
          "execution_count": 23,
          "metadata": {},
          "output_type": "execute_result"
        }
      ],
      "source": [
        "source_table = source_table.drop(drop_list, axis = 1)\n",
        "source_table"
      ]
    },
    {
      "cell_type": "code",
      "execution_count": 24,
      "metadata": {
        "id": "Uy980Nr0hOv6"
      },
      "outputs": [],
      "source": [
        "x = source_table\n",
        "x = x.drop(['perc_new'], axis=1)\n",
        "scaler = MinMaxScaler()\n",
        "x_scaled = scaler.fit_transform(x)\n",
        "x_scaled = pd.DataFrame(x_scaled)\n",
        "\n",
        "encode_gait_percentage(source_table, 'perc_new')\n",
        "y = source_table[[\"X\",\"Y\"]]\n",
        "y\n",
        "\n",
        "data_x = x_scaled\n"
      ]
    },
    {
      "cell_type": "code",
      "execution_count": 25,
      "metadata": {
        "id": "NZJUQdlrhOv7"
      },
      "outputs": [],
      "source": [
        "data_y = y.values.reshape(-1,2)"
      ]
    },
    {
      "cell_type": "code",
      "execution_count": 26,
      "metadata": {
        "colab": {
          "base_uri": "https://localhost:8080/"
        },
        "id": "nPuERZxWhOv7",
        "outputId": "08448f4b-7486-476d-908d-a7a3510037d2"
      },
      "outputs": [
        {
          "data": {
            "text/plain": [
              "numpy.ndarray"
            ]
          },
          "execution_count": 26,
          "metadata": {},
          "output_type": "execute_result"
        }
      ],
      "source": [
        "type(data_y)"
      ]
    },
    {
      "cell_type": "code",
      "execution_count": 27,
      "metadata": {
        "id": "BMTNkMouLdlD"
      },
      "outputs": [],
      "source": [
        "\n",
        "#data_x,data_y= shuffle_multiple_datasets_based_on_gait_cycle( file_name, excel_path)\n",
        "\n",
        "X_train, X_test,y_train, y_test = train_test_split(data_x, data_y ,\n",
        "                        test_size=0.25,\n",
        "                        shuffle=False)\n",
        "look_back = 10\n",
        "fore_cast = 1\n",
        "\n",
        "train_x, train_y = convert_data(X_train, y_train, look_back, fore_cast)\n",
        "validation_x, validation_y = convert_data(X_test, y_test, look_back, fore_cast)\n"
      ]
    },
    {
      "cell_type": "code",
      "execution_count": 28,
      "metadata": {
        "colab": {
          "base_uri": "https://localhost:8080/"
        },
        "id": "LCK0YESF04ok",
        "outputId": "dd829adb-96a0-4c13-e920-2d2fe6ed3ce0"
      },
      "outputs": [
        {
          "name": "stdout",
          "output_type": "stream",
          "text": [
            "(404737, 10, 8)\n",
            "(404737, 2)\n",
            "(134905, 10, 8)\n",
            "(134905, 2)\n"
          ]
        }
      ],
      "source": [
        "print(train_x.shape)\n",
        "print(train_y.shape)\n",
        "print(validation_x.shape)\n",
        "print(validation_y.shape)\n"
      ]
    },
    {
      "cell_type": "code",
      "execution_count": 29,
      "metadata": {
        "colab": {
          "base_uri": "https://localhost:8080/"
        },
        "id": "hhL-sk1EhOv8",
        "outputId": "e9afdfe4-71b4-4776-dff0-bea128c5bb13"
      },
      "outputs": [
        {
          "data": {
            "text/plain": [
              "(404737, 10, 8)"
            ]
          },
          "execution_count": 29,
          "metadata": {},
          "output_type": "execute_result"
        }
      ],
      "source": [
        "train_x.shape"
      ]
    },
    {
      "cell_type": "code",
      "execution_count": 30,
      "metadata": {
        "colab": {
          "base_uri": "https://localhost:8080/"
        },
        "id": "_pUL_UtrTApY",
        "outputId": "26d74cf0-dfb8-4ee7-ae8e-21bbc1cb63e0"
      },
      "outputs": [
        {
          "name": "stdout",
          "output_type": "stream",
          "text": [
            "(13489, 10, 8)\n",
            "(13489, 2)\n"
          ]
        }
      ],
      "source": [
        "n1=validation_x.shape[0]\n",
        "val_x=validation_x[1:int(n1/10),:]\n",
        "val_y=validation_y[1:int(n1/10),:]\n",
        "print(val_x.shape)\n",
        "print(val_y.shape)"
      ]
    },
    {
      "cell_type": "code",
      "execution_count": 31,
      "metadata": {
        "id": "amQi1sX8bxzx"
      },
      "outputs": [],
      "source": [
        "from keras import Model\n",
        "from keras.layers import Layer\n",
        "import keras.backend as K\n",
        "from keras.layers import Input, Dense, SimpleRNN\n",
        "from sklearn.preprocessing import MinMaxScaler\n",
        "from keras.models import Sequential\n",
        "from keras.metrics import mean_squared_error\n",
        "\n",
        "class attention(Layer):\n",
        "    def __init__(self,**kwargs):\n",
        "        super(attention,self).__init__(**kwargs)\n",
        "\n",
        "    def build(self,input_shape):\n",
        "        self.W=self.add_weight(name='attention_weight', shape=(input_shape[-1],1),\n",
        "                               initializer='random_normal', trainable=True)\n",
        "        self.b=self.add_weight(name='attention_bias', shape=(input_shape[1],1),\n",
        "                               initializer='zeros', trainable=True)\n",
        "        super(attention, self).build(input_shape)\n",
        "\n",
        "    def call(self,x):\n",
        "        # Alignment scores. Pass them through tanh function\n",
        "        e = K.tanh(K.dot(x,self.W)+self.b)\n",
        "        # Remove dimension of size 1\n",
        "        e = K.squeeze(e, axis=-1)\n",
        "        # Compute the weights\n",
        "        alpha = K.softmax(e)\n",
        "        # Reshape to tensorFlow format\n",
        "        alpha = K.expand_dims(alpha, axis=-1)\n",
        "        # Compute the context vector\n",
        "        context = x * alpha\n",
        "        context = K.sum(context, axis=1)\n",
        "        return context"
      ]
    },
    {
      "cell_type": "code",
      "execution_count": 32,
      "metadata": {
        "colab": {
          "base_uri": "https://localhost:8080/"
        },
        "id": "-8zWSAa3nHGO",
        "outputId": "8bf946f3-faf8-463d-9b52-c91641d39ad3"
      },
      "outputs": [
        {
          "name": "stdout",
          "output_type": "stream",
          "text": [
            "Model: \"model\"\n",
            "_________________________________________________________________\n",
            " Layer (type)                Output Shape              Param #   \n",
            "=================================================================\n",
            " input_1 (InputLayer)        [(None, 10, 8)]           0         \n",
            "                                                                 \n",
            " lstm (LSTM)                 (None, 10, 64)            18688     \n",
            "                                                                 \n",
            " lstm_1 (LSTM)               (None, 10, 32)            12416     \n",
            "                                                                 \n",
            " attention (attention)       (None, 32)                42        \n",
            "                                                                 \n",
            " repeat_vector (RepeatVector  (None, 10, 32)           0         \n",
            " )                                                               \n",
            "                                                                 \n",
            " lstm_2 (LSTM)               (None, 10, 32)            8320      \n",
            "                                                                 \n",
            " lstm_3 (LSTM)               (None, 10, 64)            24832     \n",
            "                                                                 \n",
            " time_distributed (TimeDistr  (None, 10, 8)            520       \n",
            " ibuted)                                                         \n",
            "                                                                 \n",
            "=================================================================\n",
            "Total params: 64,818\n",
            "Trainable params: 64,818\n",
            "Non-trainable params: 0\n",
            "_________________________________________________________________\n"
          ]
        }
      ],
      "source": [
        "\n",
        "lr = 0.001\n",
        "epochs = 30\n",
        "batch = 128\n",
        "\n",
        "x=Input(shape=(10, train_x.shape[2]))\n",
        "n_features=train_x.shape[2]\n",
        "# RNN_layer = SimpleRNN(hidden_units, return_sequences=True, activation=activation)(x)\n",
        "LSTM_layer1 = LSTM(64, return_sequences=True)(x)\n",
        "LSTM_layer2 = LSTM(32, return_sequences=True)(LSTM_layer1)\n",
        "attn_layer1 = attention()(LSTM_layer2)\n",
        "rep_layer = L.RepeatVector((10))(attn_layer1)\n",
        "# attn_layer2 = attention()(rep_layer)\n",
        "LSTM_layer3 = LSTM(32, return_sequences=True)(rep_layer)\n",
        "LSTM_layer4 = LSTM(64, return_sequences=True)(LSTM_layer3)\n",
        "lin_layer = L.TimeDistributed(L.Dense(n_features))(LSTM_layer4)\n",
        "# tmp_layer = Flatten()(rep_layer)\n",
        "# lin_layer = L.Dense(2)(tmp_layer)\n",
        "model=Model(x,lin_layer)\n",
        "model.summary()\n",
        "adam = optimizers.Adam(lr)\n",
        "model.compile(loss='mse', optimizer=adam)"
      ]
    },
    {
      "cell_type": "code",
      "execution_count": 33,
      "metadata": {
        "colab": {
          "base_uri": "https://localhost:8080/"
        },
        "id": "5-pm5CPkuTWk",
        "outputId": "3a67a8e4-58c0-49fb-d4f4-0149ee95790e"
      },
      "outputs": [
        {
          "name": "stdout",
          "output_type": "stream",
          "text": [
            "Epoch 1/30\n",
            "3163/3163 [==============================] - 84s 25ms/step - loss: 0.0060\n",
            "Epoch 2/30\n",
            "3163/3163 [==============================] - 79s 25ms/step - loss: 0.0015\n",
            "Epoch 3/30\n",
            "3163/3163 [==============================] - 84s 26ms/step - loss: 8.3337e-04\n",
            "Epoch 4/30\n",
            "3163/3163 [==============================] - 82s 26ms/step - loss: 5.3200e-04\n",
            "Epoch 5/30\n",
            "3163/3163 [==============================] - 83s 26ms/step - loss: 4.8656e-04\n",
            "Epoch 6/30\n",
            "3163/3163 [==============================] - 86s 27ms/step - loss: 2.9782e-04\n",
            "Epoch 7/30\n",
            "3163/3163 [==============================] - 88s 28ms/step - loss: 2.3933e-04\n",
            "Epoch 8/30\n",
            "3163/3163 [==============================] - 135s 43ms/step - loss: 1.9818e-04\n",
            "Epoch 9/30\n",
            "3163/3163 [==============================] - 92s 29ms/step - loss: 1.6507e-04\n",
            "Epoch 10/30\n",
            "3163/3163 [==============================] - 98s 31ms/step - loss: 1.5892e-04\n",
            "Epoch 11/30\n",
            "3163/3163 [==============================] - 99s 31ms/step - loss: 1.3360e-04\n",
            "Epoch 12/30\n",
            "3163/3163 [==============================] - 96s 30ms/step - loss: 1.2141e-04\n",
            "Epoch 13/30\n",
            "3163/3163 [==============================] - 309s 98ms/step - loss: 1.1530e-04\n",
            "Epoch 14/30\n",
            "3163/3163 [==============================] - 102s 32ms/step - loss: 1.0134e-04\n",
            "Epoch 15/30\n",
            "3163/3163 [==============================] - 76s 24ms/step - loss: 9.1552e-05\n",
            "Epoch 16/30\n",
            "3163/3163 [==============================] - 74s 23ms/step - loss: 8.6653e-05\n",
            "Epoch 17/30\n",
            "3163/3163 [==============================] - 74s 24ms/step - loss: 8.4173e-05\n",
            "Epoch 18/30\n",
            "3163/3163 [==============================] - 76s 24ms/step - loss: 8.0250e-05\n",
            "Epoch 19/30\n",
            "3163/3163 [==============================] - 77s 24ms/step - loss: 7.6269e-05\n",
            "Epoch 20/30\n",
            "3163/3163 [==============================] - 79s 25ms/step - loss: 6.9755e-05\n",
            "Epoch 21/30\n",
            "3163/3163 [==============================] - 81s 26ms/step - loss: 6.8600e-05\n",
            "Epoch 22/30\n",
            "3163/3163 [==============================] - 82s 26ms/step - loss: 6.0090e-05\n",
            "Epoch 23/30\n",
            "3163/3163 [==============================] - 84s 26ms/step - loss: 6.5233e-05\n",
            "Epoch 24/30\n",
            "3163/3163 [==============================] - 84s 27ms/step - loss: 5.4994e-05\n",
            "Epoch 25/30\n",
            "3163/3163 [==============================] - 85s 27ms/step - loss: 5.9380e-05\n",
            "Epoch 26/30\n",
            "3163/3163 [==============================] - 86s 27ms/step - loss: 5.9116e-05\n",
            "Epoch 27/30\n",
            "3163/3163 [==============================] - 87s 27ms/step - loss: 4.8015e-05\n",
            "Epoch 28/30\n",
            "3163/3163 [==============================] - 89s 28ms/step - loss: 4.6917e-05\n",
            "Epoch 29/30\n",
            "3163/3163 [==============================] - 91s 29ms/step - loss: 4.6218e-05\n",
            "Epoch 30/30\n",
            "3163/3163 [==============================] - 92s 29ms/step - loss: 4.6753e-05\n"
          ]
        }
      ],
      "source": [
        "model_history = model.fit( train_x, train_x, epochs=epochs, batch_size=batch,  verbose=1)"
      ]
    },
    {
      "cell_type": "code",
      "execution_count": 34,
      "metadata": {
        "colab": {
          "base_uri": "https://localhost:8080/"
        },
        "id": "WZTBKcUZ6YWk",
        "outputId": "33be785e-bc3a-46eb-dc72-ff5c50d0268f"
      },
      "outputs": [
        {
          "name": "stdout",
          "output_type": "stream",
          "text": [
            "12649/12649 [==============================] - 35s 3ms/step\n",
            "4216/4216 [==============================] - 14s 3ms/step\n",
            "Encoded time-series shape (404737, 32)\n",
            "Encoded time-series sample [ 0.17840803 -0.33906806 -0.7033639  -0.1582654   0.10760472  0.1724509\n",
            " -0.31388322  0.24824908  0.0494967   0.02944777  0.4277351  -0.1376254\n",
            "  0.20040682 -0.10123328 -0.32935274 -0.00984479  0.10912393  0.19649681\n",
            " -0.75815505 -0.5564663   0.16665429  0.4426724   0.17842591 -0.35719204\n",
            " -0.2934148  -0.21944979 -0.04704411  0.12879069 -0.5081033   0.34172747\n",
            " -0.25492156  0.08754577]\n"
          ]
        }
      ],
      "source": [
        "encoder = Model(inputs=model.inputs, outputs=model.layers[3].output)\n",
        "train_encoded = encoder.predict(train_x)\n",
        "validation_encoded = encoder.predict(validation_x)\n",
        "print('Encoded time-series shape', train_encoded.shape)\n",
        "print('Encoded time-series sample', train_encoded[0])"
      ]
    },
    {
      "cell_type": "code",
      "execution_count": 35,
      "metadata": {
        "colab": {
          "base_uri": "https://localhost:8080/"
        },
        "id": "gqQpm8-DInAX",
        "outputId": "6fd29023-11e1-4055-85b5-a82116bf9389"
      },
      "outputs": [],
      "source": [
        "#model.save(path+\"autoen_new_model\")"
      ]
    },
    {
      "cell_type": "code",
      "execution_count": 36,
      "metadata": {
        "id": "MiLnoJ_WEU6x"
      },
      "outputs": [],
      "source": [
        "def step_decay(epoch):\n",
        "\tinitial_lrate = 0.001\n",
        "\tdrop = 0.005\n",
        "\tepochs_drop = 10\n",
        "\tlrate=initial_lrate - 0.00001\n",
        "\t# lrate = initial_lrate * math.pow(drop, math.floor((1+epoch)/epochs_drop))\n",
        "\treturn lrate\n"
      ]
    },
    {
      "cell_type": "code",
      "execution_count": 37,
      "metadata": {
        "colab": {
          "base_uri": "https://localhost:8080/"
        },
        "id": "272NzH1S7itN",
        "outputId": "b9bebc54-b04b-4667-cb2b-36e6205ee254"
      },
      "outputs": [
        {
          "name": "stdout",
          "output_type": "stream",
          "text": [
            "Model: \"sequential\"\n",
            "_________________________________________________________________\n",
            " Layer (type)                Output Shape              Param #   \n",
            "=================================================================\n",
            " dense_1 (Dense)             (None, 32)                1056      \n",
            "                                                                 \n"
          ]
        },
        {
          "name": "stdout",
          "output_type": "stream",
          "text": [
            " dense_2 (Dense)             (None, 8)                 264       \n",
            "                                                                 \n",
            " dense_3 (Dense)             (None, 2)                 18        \n",
            "                                                                 \n",
            "=================================================================\n",
            "Total params: 1,338\n",
            "Trainable params: 1,338\n",
            "Non-trainable params: 0\n",
            "_________________________________________________________________\n"
          ]
        }
      ],
      "source": [
        "mlp_model = Sequential()\n",
        "mlp_model.add(L.Dense(32, kernel_initializer='glorot_normal', activation='relu', input_dim=(train_encoded.shape[1])))\n",
        "# mlp_model.add(L.Dense(32, kernel_initializer='glorot_normal', activation='relu', input_dim=(train_encoded.shape[1])))\n",
        "\n",
        "mlp_model.add(L.Dense(8, kernel_initializer='glorot_normal', activation='relu'))\n",
        "mlp_model.add(L.Dense(2))\n",
        "mlp_model.summary()\n",
        "\n",
        "initial_learning_rate = 0.001\n",
        "lr_schedule = tf.keras.optimizers.schedules.ExponentialDecay(\n",
        "    initial_learning_rate,\n",
        "    decay_steps=100000,\n",
        "    decay_rate=0.96,\n",
        "    staircase=True)\n",
        "adam = optimizers.Adam(lr_schedule)\n",
        "\n",
        "mlp_model.compile(loss='mse', optimizer=adam)\n",
        "lrate = LearningRateScheduler(step_decay)"
      ]
    },
    {
      "cell_type": "code",
      "execution_count": 38,
      "metadata": {
        "colab": {
          "base_uri": "https://localhost:8080/"
        },
        "id": "7U14GxFkEcz3",
        "outputId": "5108fd08-829f-490b-cff6-f62e78a5e01f"
      },
      "outputs": [
        {
          "name": "stdout",
          "output_type": "stream",
          "text": [
            "Epoch 1/65\n",
            "3163/3163 - 3s - loss: 0.0349 - 3s/epoch - 958us/step\n",
            "Epoch 2/65\n",
            "3163/3163 - 3s - loss: 0.0091 - 3s/epoch - 852us/step\n",
            "Epoch 3/65\n",
            "3163/3163 - 3s - loss: 0.0080 - 3s/epoch - 848us/step\n",
            "Epoch 4/65\n",
            "3163/3163 - 3s - loss: 0.0075 - 3s/epoch - 857us/step\n",
            "Epoch 5/65\n",
            "3163/3163 - 3s - loss: 0.0072 - 3s/epoch - 868us/step\n",
            "Epoch 6/65\n",
            "3163/3163 - 3s - loss: 0.0070 - 3s/epoch - 876us/step\n",
            "Epoch 7/65\n",
            "3163/3163 - 3s - loss: 0.0068 - 3s/epoch - 866us/step\n",
            "Epoch 8/65\n",
            "3163/3163 - 3s - loss: 0.0067 - 3s/epoch - 891us/step\n",
            "Epoch 9/65\n",
            "3163/3163 - 3s - loss: 0.0066 - 3s/epoch - 885us/step\n",
            "Epoch 10/65\n",
            "3163/3163 - 3s - loss: 0.0065 - 3s/epoch - 857us/step\n",
            "Epoch 11/65\n",
            "3163/3163 - 3s - loss: 0.0065 - 3s/epoch - 876us/step\n",
            "Epoch 12/65\n",
            "3163/3163 - 3s - loss: 0.0064 - 3s/epoch - 884us/step\n",
            "Epoch 13/65\n",
            "3163/3163 - 3s - loss: 0.0063 - 3s/epoch - 853us/step\n",
            "Epoch 14/65\n",
            "3163/3163 - 3s - loss: 0.0063 - 3s/epoch - 856us/step\n",
            "Epoch 15/65\n",
            "3163/3163 - 3s - loss: 0.0063 - 3s/epoch - 848us/step\n",
            "Epoch 16/65\n",
            "3163/3163 - 3s - loss: 0.0062 - 3s/epoch - 860us/step\n",
            "Epoch 17/65\n",
            "3163/3163 - 3s - loss: 0.0062 - 3s/epoch - 875us/step\n",
            "Epoch 18/65\n",
            "3163/3163 - 3s - loss: 0.0062 - 3s/epoch - 876us/step\n",
            "Epoch 19/65\n",
            "3163/3163 - 3s - loss: 0.0061 - 3s/epoch - 859us/step\n",
            "Epoch 20/65\n",
            "3163/3163 - 3s - loss: 0.0061 - 3s/epoch - 876us/step\n",
            "Epoch 21/65\n",
            "3163/3163 - 3s - loss: 0.0061 - 3s/epoch - 878us/step\n",
            "Epoch 22/65\n",
            "3163/3163 - 3s - loss: 0.0061 - 3s/epoch - 868us/step\n",
            "Epoch 23/65\n",
            "3163/3163 - 3s - loss: 0.0060 - 3s/epoch - 845us/step\n",
            "Epoch 24/65\n",
            "3163/3163 - 3s - loss: 0.0060 - 3s/epoch - 861us/step\n",
            "Epoch 25/65\n",
            "3163/3163 - 3s - loss: 0.0060 - 3s/epoch - 852us/step\n",
            "Epoch 26/65\n",
            "3163/3163 - 3s - loss: 0.0060 - 3s/epoch - 865us/step\n",
            "Epoch 27/65\n",
            "3163/3163 - 3s - loss: 0.0059 - 3s/epoch - 857us/step\n",
            "Epoch 28/65\n",
            "3163/3163 - 3s - loss: 0.0059 - 3s/epoch - 873us/step\n",
            "Epoch 29/65\n",
            "3163/3163 - 3s - loss: 0.0059 - 3s/epoch - 864us/step\n",
            "Epoch 30/65\n",
            "3163/3163 - 3s - loss: 0.0059 - 3s/epoch - 894us/step\n",
            "Epoch 31/65\n",
            "3163/3163 - 3s - loss: 0.0059 - 3s/epoch - 863us/step\n",
            "Epoch 32/65\n",
            "3163/3163 - 3s - loss: 0.0058 - 3s/epoch - 875us/step\n",
            "Epoch 33/65\n",
            "3163/3163 - 3s - loss: 0.0058 - 3s/epoch - 868us/step\n",
            "Epoch 34/65\n",
            "3163/3163 - 3s - loss: 0.0058 - 3s/epoch - 879us/step\n",
            "Epoch 35/65\n",
            "3163/3163 - 3s - loss: 0.0058 - 3s/epoch - 844us/step\n",
            "Epoch 36/65\n",
            "3163/3163 - 3s - loss: 0.0058 - 3s/epoch - 872us/step\n",
            "Epoch 37/65\n",
            "3163/3163 - 3s - loss: 0.0058 - 3s/epoch - 864us/step\n",
            "Epoch 38/65\n",
            "3163/3163 - 3s - loss: 0.0058 - 3s/epoch - 859us/step\n",
            "Epoch 39/65\n",
            "3163/3163 - 3s - loss: 0.0057 - 3s/epoch - 861us/step\n",
            "Epoch 40/65\n",
            "3163/3163 - 3s - loss: 0.0057 - 3s/epoch - 864us/step\n",
            "Epoch 41/65\n",
            "3163/3163 - 3s - loss: 0.0057 - 3s/epoch - 861us/step\n",
            "Epoch 42/65\n",
            "3163/3163 - 3s - loss: 0.0057 - 3s/epoch - 874us/step\n",
            "Epoch 43/65\n",
            "3163/3163 - 3s - loss: 0.0057 - 3s/epoch - 860us/step\n",
            "Epoch 44/65\n",
            "3163/3163 - 3s - loss: 0.0057 - 3s/epoch - 872us/step\n",
            "Epoch 45/65\n",
            "3163/3163 - 3s - loss: 0.0057 - 3s/epoch - 861us/step\n",
            "Epoch 46/65\n",
            "3163/3163 - 3s - loss: 0.0058 - 3s/epoch - 845us/step\n",
            "Epoch 47/65\n",
            "3163/3163 - 3s - loss: 0.0057 - 3s/epoch - 848us/step\n",
            "Epoch 48/65\n",
            "3163/3163 - 3s - loss: 0.0057 - 3s/epoch - 855us/step\n",
            "Epoch 49/65\n",
            "3163/3163 - 3s - loss: 0.0057 - 3s/epoch - 859us/step\n",
            "Epoch 50/65\n",
            "3163/3163 - 3s - loss: 0.0057 - 3s/epoch - 854us/step\n",
            "Epoch 51/65\n",
            "3163/3163 - 3s - loss: 0.0056 - 3s/epoch - 864us/step\n",
            "Epoch 52/65\n",
            "3163/3163 - 3s - loss: 0.0056 - 3s/epoch - 846us/step\n",
            "Epoch 53/65\n",
            "3163/3163 - 3s - loss: 0.0056 - 3s/epoch - 868us/step\n",
            "Epoch 54/65\n",
            "3163/3163 - 3s - loss: 0.0056 - 3s/epoch - 861us/step\n",
            "Epoch 55/65\n",
            "3163/3163 - 3s - loss: 0.0056 - 3s/epoch - 874us/step\n",
            "Epoch 56/65\n",
            "3163/3163 - 3s - loss: 0.0056 - 3s/epoch - 849us/step\n",
            "Epoch 57/65\n",
            "3163/3163 - 3s - loss: 0.0056 - 3s/epoch - 869us/step\n",
            "Epoch 58/65\n",
            "3163/3163 - 3s - loss: 0.0056 - 3s/epoch - 861us/step\n",
            "Epoch 59/65\n",
            "3163/3163 - 3s - loss: 0.0056 - 3s/epoch - 872us/step\n",
            "Epoch 60/65\n",
            "3163/3163 - 3s - loss: 0.0056 - 3s/epoch - 851us/step\n",
            "Epoch 60: early stopping\n"
          ]
        }
      ],
      "source": [
        "epochs = 65\n",
        "# lrate = LearningRateScheduler(step_decay)\n",
        "monitor = EarlyStopping(monitor='loss', min_delta=1e-5, patience=3, verbose=1, mode='auto')\n",
        "# train_encoded_reshaped=np.reshape(train_encoded,(train_encoded.shape[0], train_encoded.shape[1]*train_encoded.shape[2]))\n",
        "\n",
        "# train_encoded_reshaped=np.reshape(train_encoded,(train_encoded.shape[0], train_encoded.shape[1]))\n",
        "train_encoded_reshaped = train_encoded\n",
        "callback_list = [monitor]\n",
        "mlp_history = mlp_model.fit(train_encoded_reshaped , train_y, callbacks=callback_list, epochs=epochs, batch_size=batch,  verbose=2)"
      ]
    },
    {
      "cell_type": "code",
      "execution_count": 39,
      "metadata": {
        "colab": {
          "base_uri": "https://localhost:8080/"
        },
        "id": "POslTp5TF9QW",
        "outputId": "7db67cd2-29ca-4739-f1f6-deeb91b47852"
      },
      "outputs": [
        {
          "name": "stdout",
          "output_type": "stream",
          "text": [
            "12649/12649 [==============================] - 10s 787us/step\n",
            "4216/4216 [==============================] - 3s 817us/step\n"
          ]
        }
      ],
      "source": [
        "val_encoded_reshaped = validation_encoded\n",
        "trainPredict = mlp_model.predict(train_encoded_reshaped)\n",
        "testPredict = mlp_model.predict(val_encoded_reshaped)"
      ]
    },
    {
      "cell_type": "code",
      "execution_count": 40,
      "metadata": {
        "colab": {
          "base_uri": "https://localhost:8080/"
        },
        "id": "I8TZkfOkLUf5",
        "outputId": "7d4a43a4-8591-4da3-bc74-ae73453c2d4f"
      },
      "outputs": [
        {
          "data": {
            "text/plain": [
              "(134905, 2)"
            ]
          },
          "execution_count": 40,
          "metadata": {},
          "output_type": "execute_result"
        }
      ],
      "source": [
        "testPredict.shape"
      ]
    },
    {
      "cell_type": "code",
      "execution_count": 41,
      "metadata": {
        "colab": {
          "base_uri": "https://localhost:8080/"
        },
        "id": "QO0pIoqu36me",
        "outputId": "84e4fe5c-6e90-4dc3-cf61-3eaf22e6c454"
      },
      "outputs": [
        {
          "name": "stdout",
          "output_type": "stream",
          "text": [
            "Train Score: 0.08 RMSE\n",
            "Test Score: 0.08 RMSE\n"
          ]
        }
      ],
      "source": [
        "from sklearn.metrics import mean_squared_error\n",
        "\n",
        "trainScore = np.sqrt(mean_squared_error(train_y, trainPredict))\n",
        "print('Train Score: %.2f RMSE' % (trainScore))\n",
        "testScore = np.sqrt(mean_squared_error(validation_y, testPredict))\n",
        "print('Test Score: %.2f RMSE' % (testScore))"
      ]
    },
    {
      "cell_type": "code",
      "execution_count": 42,
      "metadata": {
        "colab": {
          "base_uri": "https://localhost:8080/"
        },
        "id": "ghh2H9ws4CPm",
        "outputId": "89d615f6-1816-4631-cd49-3ad92bd23db0"
      },
      "outputs": [
        {
          "data": {
            "text/plain": [
              "(134905, 8)"
            ]
          },
          "execution_count": 42,
          "metadata": {},
          "output_type": "execute_result"
        }
      ],
      "source": [
        "v = X_test[11:]\n",
        "v.shape"
      ]
    },
    {
      "cell_type": "code",
      "execution_count": 43,
      "metadata": {
        "id": "XBtXpqWU0nw0"
      },
      "outputs": [],
      "source": [
        "\n",
        "x_test = scaler.inverse_transform(v)\n",
        "\n",
        "pred = np.zeros((len(testPredict),1))\n",
        "\n",
        "for iter in range(len(testPredict)):\n",
        "  x = testPredict[iter][0]\n",
        "  y = testPredict[iter][1]\n",
        "  pred[iter] = ((math.atan2(y,x) + 2*math.pi) % (2*math.pi)) * (100 / (2*math.pi))\n",
        "\n",
        "\n",
        "  if ((pred[iter] >= 80) & (x_test[iter][-1] <= 20)) :\n",
        "    pred[iter] = pred[iter] - 100\n",
        "    \n",
        "    if abs(pred[iter]) >= 5:\n",
        "        pred[iter] = 0\n",
        "\n",
        "\n",
        "  if ((pred[iter] <= 20) & (x_test[iter][-1] >= 150)):\n",
        "     pred[iter] = 100 - pred[iter]\n",
        "     if abs(pred[iter]) >= 5:\n",
        "         pred[iter] = 100\n",
        "\n",
        "\n",
        "\n",
        "\n",
        "  #if (pred[iter] > 100):\n",
        "  #  pred[iter] = pred[iter] - 100\n",
        "\n",
        "pred1=pd.DataFrame(pred).sort_index().reset_index()"
      ]
    },
    {
      "cell_type": "code",
      "execution_count": 44,
      "metadata": {
        "id": "KIsIEir80qmo"
      },
      "outputs": [],
      "source": [
        "actual = np.zeros((len(validation_y),1))\n",
        "\n",
        "for iter in range(len(validation_y)):\n",
        "  x =validation_y[iter][0]\n",
        "  y =validation_y[iter][1]\n",
        "  actual[iter] = ((math.atan2(y,x) + 2*math.pi) % (2*math.pi)) * (100 / (2*math.pi))"
      ]
    },
    {
      "cell_type": "code",
      "execution_count": 45,
      "metadata": {
        "colab": {
          "base_uri": "https://localhost:8080/"
        },
        "id": "-bNRktP10tNK",
        "outputId": "2d5daf3e-38d4-4f07-92ae-c2943035c461"
      },
      "outputs": [
        {
          "name": "stdout",
          "output_type": "stream",
          "text": [
            "74571\n",
            "134905\n",
            "Precision  1 :  55.276676179533744\n",
            "109117\n",
            "134905\n",
            "Precision  2 :  80.88432600719024\n",
            "123883\n",
            "134905\n",
            "Precision  3 :  91.8298061598903\n",
            "130472\n",
            "134905\n",
            "Precision  4 :  96.71398391460657\n",
            "133088\n",
            "134905\n",
            "Precision  5 :  98.6531262740447\n"
          ]
        }
      ],
      "source": [
        "correct = 0\n",
        "for i in range(5):\n",
        "  correct = 0\n",
        "  for iter in range(len(actual)):\n",
        "    #if (abs(actual[iter] - pred[iter]) <= (i+1)) or (actual[iter]>98) or(actual[iter]<3):\n",
        "      #correct+=1\n",
        "      if (abs(actual[iter] - pred[iter]) <= (i+1)):\n",
        "        correct+=1\n",
        "\n",
        "  print(correct)\n",
        "  print(len(actual))\n",
        "\n",
        "  print(\"Precision \", i+1, \": \", correct * 100/len(actual))"
      ]
    },
    {
      "cell_type": "code",
      "execution_count": 46,
      "metadata": {
        "colab": {
          "base_uri": "https://localhost:8080/"
        },
        "id": "LfzR41e40wqK",
        "outputId": "9738b4c0-aae4-49b7-d179-f5b03a8c95e3"
      },
      "outputs": [
        {
          "name": "stdout",
          "output_type": "stream",
          "text": [
            "Predicting Percentage RMSE:  1.7288470955109518\n"
          ]
        }
      ],
      "source": [
        "perc_rmse = np.sqrt(mean_squared_error(actual, pred))\n",
        "print(\"Predicting Percentage RMSE: \", perc_rmse)\n",
        "\n"
      ]
    },
    {
      "cell_type": "code",
      "execution_count": 47,
      "metadata": {},
      "outputs": [
        {
          "name": "stdout",
          "output_type": "stream",
          "text": [
            "134905\n",
            "134905\n",
            "1.7288470955109674\n"
          ]
        }
      ],
      "source": [
        "rmse = 0\n",
        "length = len(actual)\n",
        "for i in range(len(actual)):\n",
        "\n",
        "    rmse = rmse + pow(pred[i] - actual[i], 2)\n",
        "rmse = rmse / length\n",
        "rmse = math.sqrt(rmse)\n",
        "print(length)\n",
        "print(len(actual))\n",
        "print(rmse)"
      ]
    },
    {
      "cell_type": "code",
      "execution_count": 48,
      "metadata": {
        "colab": {
          "base_uri": "https://localhost:8080/",
          "height": 465
        },
        "id": "Twk_YKQWJdO1",
        "outputId": "4ebcc703-2d9b-465b-975f-af37c9b231f9"
      },
      "outputs": [
        {
          "name": "stdout",
          "output_type": "stream",
          "text": [
            "77351\n",
            "134905\n"
          ]
        },
        {
          "data": {
            "image/png": "[encoded data removed]",
            "text/plain": [
              "<Figure size 432x288 with 1 Axes>"
            ]
          },
          "metadata": {
            "needs_background": "light"
          },
          "output_type": "display_data"
        }
      ],
      "source": [
        "correct = 0\n",
        "\n",
        "plt.figure()\n",
        "plt.scatter(pred, actual)\n",
        "for iter in range(len(actual)):\n",
        "  if actual[iter]<2 or actual[iter]>98:\n",
        "    correct+=1\n",
        "    continue\n",
        "  if (abs(actual[iter] - pred[iter]) <= 1):\n",
        "    correct+=1\n",
        "\n",
        "\n",
        "print(correct)\n",
        "print(len(actual))"
      ]
    },
    {
      "cell_type": "code",
      "execution_count": 49,
      "metadata": {
        "colab": {
          "base_uri": "https://localhost:8080/",
          "height": 469
        },
        "id": "FxfNpj92JhO5",
        "outputId": "d984288f-565c-4d3f-ff2c-24227e053917"
      },
      "outputs": [
        {
          "data": {
            "text/plain": [
              "Text(0.5, 1.0, 'Actual vs Prediction')"
            ]
          },
          "execution_count": 49,
          "metadata": {},
          "output_type": "execute_result"
        },
        {
          "data": {
            "image/png": "[encoded data removed]",
            "text/plain": [
              "<Figure size 432x288 with 1 Axes>"
            ]
          },
          "metadata": {
            "needs_background": "light"
          },
          "output_type": "display_data"
        }
      ],
      "source": [
        "plt.scatter(actual, pred, facecolors='none', edgecolors='crimson',alpha=0.4)\n",
        "p1 = max(max(pred), max(actual))\n",
        "p2 = min(min(pred), min(actual))\n",
        "\n",
        "ci = 0.1 * np.std([p1,p2]) / np.mean([p1,p2])\n",
        "\n",
        "plt.plot([p1, p2], [p1, p2], 'b-', linewidth =3)\n",
        "plt.title('Actual vs Prediction')"
      ]
    },
    {
      "cell_type": "code",
      "execution_count": 50,
      "metadata": {},
      "outputs": [
        {
          "data": {
            "text/plain": [
              "[<matplotlib.lines.Line2D at 0x26c84e044c0>]"
            ]
          },
          "execution_count": 50,
          "metadata": {},
          "output_type": "execute_result"
        },
        {
          "data": {
            "image/png": "[encoded data removed]",
            "text/plain": [
              "<Figure size 1440x360 with 1 Axes>"
            ]
          },
          "metadata": {
            "needs_background": "light"
          },
          "output_type": "display_data"
        }
      ],
      "source": [
        "predfig=plt.figure(figsize=(20,5))\n",
        "dif = abs(actual-pred)\n",
        "\n",
        "plt.plot(dif,'.')"
      ]
    },
    {
      "cell_type": "code",
      "execution_count": 51,
      "metadata": {},
      "outputs": [
        {
          "name": "stdout",
          "output_type": "stream",
          "text": [
            "76953\n",
            "100563\n"
          ]
        }
      ],
      "source": [
        "for i in range(len(pred)):\n",
        "    if (abs(actual[i]-pred[i]) > 50):\n",
        "        print(i)"
      ]
    },
    {
      "cell_type": "code",
      "execution_count": 52,
      "metadata": {},
      "outputs": [
        {
          "name": "stdout",
          "output_type": "stream",
          "text": [
            "Predict:  [17.60957333]\n",
            "Actual:  [17.81376518]\n"
          ]
        }
      ],
      "source": [
        "print('Predict: ', pred[33642])\n",
        "print('Actual: ', actual[33642])"
      ]
    },
    {
      "cell_type": "code",
      "execution_count": 53,
      "metadata": {},
      "outputs": [
        {
          "data": {
            "text/plain": [
              "array([283.85872511,  85.43642398,   0.34275954,  92.26605589,\n",
              "         0.        ,   0.        ,   0.        ,  45.        ])"
            ]
          },
          "execution_count": 53,
          "metadata": {},
          "output_type": "execute_result"
        }
      ],
      "source": [
        "x_test[33642][:]"
      ]
    },
    {
      "cell_type": "markdown",
      "metadata": {},
      "source": [
        "***TESTING ON OTHER SUBJECT***"
      ]
    },
    {
      "cell_type": "code",
      "execution_count": 54,
      "metadata": {},
      "outputs": [],
      "source": [
        "test_file_list = []\n",
        "\n",
        "for i in range(len(test_sub)):\n",
        "    test_file_list.append(pd.read_excel(excel_path + test_sub[i], sheet_name='Sheet1'))"
      ]
    },
    {
      "cell_type": "code",
      "execution_count": 55,
      "metadata": {},
      "outputs": [],
      "source": [
        "## if there are multiple subject to test:\n",
        "# random.shuffle(test_file_list)\n",
        "\n",
        "all_test = pd.concat(test_file_list, axis = 0, ignore_index = True)"
      ]
    },
    {
      "cell_type": "code",
      "execution_count": 56,
      "metadata": {},
      "outputs": [
        {
          "name": "stdout",
          "output_type": "stream",
          "text": [
            "<class 'pandas.core.frame.DataFrame'>\n",
            "RangeIndex: 194364 entries, 0 to 194363\n",
            "Data columns (total 13 columns):\n",
            " #   Column        Non-Null Count   Dtype  \n",
            "---  ------        --------------   -----  \n",
            " 0   n_lcop        194364 non-null  int64  \n",
            " 1   n_rcop        194364 non-null  int64  \n",
            " 2   l_ph_ank      194364 non-null  float64\n",
            " 3   l_ph_hip      194364 non-null  float64\n",
            " 4   l_ph_fo       194364 non-null  float64\n",
            " 5   r_ph_ank      194364 non-null  float64\n",
            " 6   r_ph_hip      194364 non-null  float64\n",
            " 7   r_ph_fo       194364 non-null  float64\n",
            " 8   n_lgrf        194364 non-null  float64\n",
            " 9   n_r_grf       194364 non-null  float64\n",
            " 10  st_sw_phase   194364 non-null  int64  \n",
            " 11  perc_new      194364 non-null  float64\n",
            " 12  strike_frame  194364 non-null  int64  \n",
            "dtypes: float64(9), int64(4)\n",
            "memory usage: 19.3 MB\n"
          ]
        }
      ],
      "source": [
        "all_test.info()"
      ]
    },
    {
      "cell_type": "code",
      "execution_count": 57,
      "metadata": {},
      "outputs": [
        {
          "data": {
            "text/html": [
              "<div>\n",
              "<style scoped>\n",
              "    .dataframe tbody tr th:only-of-type {\n",
              "        vertical-align: middle;\n",
              "    }\n",
              "\n",
              "    .dataframe tbody tr th {\n",
              "        vertical-align: top;\n",
              "    }\n",
              "\n",
              "    .dataframe thead th {\n",
              "        text-align: right;\n",
              "    }\n",
              "</style>\n",
              "<table border=\"1\" class=\"dataframe\">\n",
              "  <thead>\n",
              "    <tr style=\"text-align: right;\">\n",
              "      <th></th>\n",
              "      <th>n_lcop</th>\n",
              "      <th>n_rcop</th>\n",
              "      <th>l_ph_ank</th>\n",
              "      <th>l_ph_hip</th>\n",
              "      <th>l_ph_fo</th>\n",
              "      <th>r_ph_ank</th>\n",
              "      <th>r_ph_hip</th>\n",
              "      <th>r_ph_fo</th>\n",
              "      <th>n_lgrf</th>\n",
              "      <th>n_r_grf</th>\n",
              "      <th>st_sw_phase</th>\n",
              "      <th>perc_new</th>\n",
              "      <th>strike_frame</th>\n",
              "    </tr>\n",
              "  </thead>\n",
              "  <tbody>\n",
              "    <tr>\n",
              "      <th>0</th>\n",
              "      <td>0</td>\n",
              "      <td>0</td>\n",
              "      <td>0.0</td>\n",
              "      <td>342.804539</td>\n",
              "      <td>1.027770</td>\n",
              "      <td>359.999929</td>\n",
              "      <td>289.035542</td>\n",
              "      <td>336.105757</td>\n",
              "      <td>0.128418</td>\n",
              "      <td>2.745381</td>\n",
              "      <td>0</td>\n",
              "      <td>0.000000</td>\n",
              "      <td>1</td>\n",
              "    </tr>\n",
              "    <tr>\n",
              "      <th>1</th>\n",
              "      <td>0</td>\n",
              "      <td>0</td>\n",
              "      <td>0.0</td>\n",
              "      <td>341.799388</td>\n",
              "      <td>1.588726</td>\n",
              "      <td>359.999938</td>\n",
              "      <td>284.544224</td>\n",
              "      <td>337.704767</td>\n",
              "      <td>0.213301</td>\n",
              "      <td>2.739484</td>\n",
              "      <td>0</td>\n",
              "      <td>0.440529</td>\n",
              "      <td>2</td>\n",
              "    </tr>\n",
              "    <tr>\n",
              "      <th>2</th>\n",
              "      <td>0</td>\n",
              "      <td>0</td>\n",
              "      <td>0.0</td>\n",
              "      <td>340.711989</td>\n",
              "      <td>2.158977</td>\n",
              "      <td>359.999949</td>\n",
              "      <td>281.475809</td>\n",
              "      <td>339.618571</td>\n",
              "      <td>0.320300</td>\n",
              "      <td>2.727851</td>\n",
              "      <td>0</td>\n",
              "      <td>0.881057</td>\n",
              "      <td>3</td>\n",
              "    </tr>\n",
              "    <tr>\n",
              "      <th>3</th>\n",
              "      <td>0</td>\n",
              "      <td>0</td>\n",
              "      <td>0.0</td>\n",
              "      <td>339.532444</td>\n",
              "      <td>2.729835</td>\n",
              "      <td>359.999961</td>\n",
              "      <td>279.224884</td>\n",
              "      <td>341.877891</td>\n",
              "      <td>0.449154</td>\n",
              "      <td>2.709782</td>\n",
              "      <td>0</td>\n",
              "      <td>1.321586</td>\n",
              "      <td>4</td>\n",
              "    </tr>\n",
              "    <tr>\n",
              "      <th>4</th>\n",
              "      <td>0</td>\n",
              "      <td>0</td>\n",
              "      <td>0.0</td>\n",
              "      <td>338.251820</td>\n",
              "      <td>3.292356</td>\n",
              "      <td>359.999973</td>\n",
              "      <td>277.479573</td>\n",
              "      <td>344.509830</td>\n",
              "      <td>0.597155</td>\n",
              "      <td>2.684732</td>\n",
              "      <td>0</td>\n",
              "      <td>1.762115</td>\n",
              "      <td>5</td>\n",
              "    </tr>\n",
              "    <tr>\n",
              "      <th>...</th>\n",
              "      <td>...</td>\n",
              "      <td>...</td>\n",
              "      <td>...</td>\n",
              "      <td>...</td>\n",
              "      <td>...</td>\n",
              "      <td>...</td>\n",
              "      <td>...</td>\n",
              "      <td>...</td>\n",
              "      <td>...</td>\n",
              "      <td>...</td>\n",
              "      <td>...</td>\n",
              "      <td>...</td>\n",
              "      <td>...</td>\n",
              "    </tr>\n",
              "    <tr>\n",
              "      <th>193302</th>\n",
              "      <td>0</td>\n",
              "      <td>0</td>\n",
              "      <td>0.0</td>\n",
              "      <td>358.915983</td>\n",
              "      <td>319.286085</td>\n",
              "      <td>0.000000</td>\n",
              "      <td>267.304049</td>\n",
              "      <td>311.075749</td>\n",
              "      <td>0.000000</td>\n",
              "      <td>2.787521</td>\n",
              "      <td>0</td>\n",
              "      <td>97.706422</td>\n",
              "      <td>214</td>\n",
              "    </tr>\n",
              "    <tr>\n",
              "      <th>193303</th>\n",
              "      <td>0</td>\n",
              "      <td>0</td>\n",
              "      <td>0.0</td>\n",
              "      <td>357.722552</td>\n",
              "      <td>321.609088</td>\n",
              "      <td>0.000000</td>\n",
              "      <td>266.032857</td>\n",
              "      <td>310.928158</td>\n",
              "      <td>0.000000</td>\n",
              "      <td>2.800608</td>\n",
              "      <td>0</td>\n",
              "      <td>98.165138</td>\n",
              "      <td>215</td>\n",
              "    </tr>\n",
              "    <tr>\n",
              "      <th>193304</th>\n",
              "      <td>0</td>\n",
              "      <td>0</td>\n",
              "      <td>0.0</td>\n",
              "      <td>356.508919</td>\n",
              "      <td>324.698181</td>\n",
              "      <td>0.000000</td>\n",
              "      <td>264.447601</td>\n",
              "      <td>310.918455</td>\n",
              "      <td>0.000000</td>\n",
              "      <td>2.810026</td>\n",
              "      <td>0</td>\n",
              "      <td>98.623853</td>\n",
              "      <td>216</td>\n",
              "    </tr>\n",
              "    <tr>\n",
              "      <th>193305</th>\n",
              "      <td>0</td>\n",
              "      <td>0</td>\n",
              "      <td>0.0</td>\n",
              "      <td>355.264847</td>\n",
              "      <td>328.695560</td>\n",
              "      <td>0.000000</td>\n",
              "      <td>262.334871</td>\n",
              "      <td>311.067391</td>\n",
              "      <td>0.000000</td>\n",
              "      <td>2.815034</td>\n",
              "      <td>0</td>\n",
              "      <td>99.082569</td>\n",
              "      <td>217</td>\n",
              "    </tr>\n",
              "    <tr>\n",
              "      <th>193306</th>\n",
              "      <td>0</td>\n",
              "      <td>0</td>\n",
              "      <td>0.0</td>\n",
              "      <td>353.978660</td>\n",
              "      <td>333.743614</td>\n",
              "      <td>0.000000</td>\n",
              "      <td>259.242493</td>\n",
              "      <td>311.398748</td>\n",
              "      <td>0.053181</td>\n",
              "      <td>2.814707</td>\n",
              "      <td>0</td>\n",
              "      <td>99.541284</td>\n",
              "      <td>218</td>\n",
              "    </tr>\n",
              "  </tbody>\n",
              "</table>\n",
              "<p>193307 rows × 13 columns</p>\n",
              "</div>"
            ],
            "text/plain": [
              "        n_lcop  n_rcop  l_ph_ank    l_ph_hip     l_ph_fo    r_ph_ank  \\\n",
              "0            0       0       0.0  342.804539    1.027770  359.999929   \n",
              "1            0       0       0.0  341.799388    1.588726  359.999938   \n",
              "2            0       0       0.0  340.711989    2.158977  359.999949   \n",
              "3            0       0       0.0  339.532444    2.729835  359.999961   \n",
              "4            0       0       0.0  338.251820    3.292356  359.999973   \n",
              "...        ...     ...       ...         ...         ...         ...   \n",
              "193302       0       0       0.0  358.915983  319.286085    0.000000   \n",
              "193303       0       0       0.0  357.722552  321.609088    0.000000   \n",
              "193304       0       0       0.0  356.508919  324.698181    0.000000   \n",
              "193305       0       0       0.0  355.264847  328.695560    0.000000   \n",
              "193306       0       0       0.0  353.978660  333.743614    0.000000   \n",
              "\n",
              "          r_ph_hip     r_ph_fo    n_lgrf   n_r_grf  st_sw_phase   perc_new  \\\n",
              "0       289.035542  336.105757  0.128418  2.745381            0   0.000000   \n",
              "1       284.544224  337.704767  0.213301  2.739484            0   0.440529   \n",
              "2       281.475809  339.618571  0.320300  2.727851            0   0.881057   \n",
              "3       279.224884  341.877891  0.449154  2.709782            0   1.321586   \n",
              "4       277.479573  344.509830  0.597155  2.684732            0   1.762115   \n",
              "...            ...         ...       ...       ...          ...        ...   \n",
              "193302  267.304049  311.075749  0.000000  2.787521            0  97.706422   \n",
              "193303  266.032857  310.928158  0.000000  2.800608            0  98.165138   \n",
              "193304  264.447601  310.918455  0.000000  2.810026            0  98.623853   \n",
              "193305  262.334871  311.067391  0.000000  2.815034            0  99.082569   \n",
              "193306  259.242493  311.398748  0.053181  2.814707            0  99.541284   \n",
              "\n",
              "        strike_frame  \n",
              "0                  1  \n",
              "1                  2  \n",
              "2                  3  \n",
              "3                  4  \n",
              "4                  5  \n",
              "...              ...  \n",
              "193302           214  \n",
              "193303           215  \n",
              "193304           216  \n",
              "193305           217  \n",
              "193306           218  \n",
              "\n",
              "[193307 rows x 13 columns]"
            ]
          },
          "execution_count": 57,
          "metadata": {},
          "output_type": "execute_result"
        }
      ],
      "source": [
        "cycle = 0\n",
        "cycle_list = []\n",
        "\n",
        "start = 0\n",
        "\n",
        "for i in range(len(all_test) - 1):\n",
        "    if (all_test['perc_new'][i+1] == 0):\n",
        "        cycle += 1\n",
        "        cycle_list.append(all_test.iloc[start:i])\n",
        "        start = i+1\n",
        "\n",
        "random.shuffle(cycle_list)\n",
        "test_table = pd.concat(cycle_list, axis=0, ignore_index=True)\n",
        "\n",
        "test_table"
      ]
    },
    {
      "cell_type": "code",
      "execution_count": 58,
      "metadata": {},
      "outputs": [
        {
          "data": {
            "text/html": [
              "<div>\n",
              "<style scoped>\n",
              "    .dataframe tbody tr th:only-of-type {\n",
              "        vertical-align: middle;\n",
              "    }\n",
              "\n",
              "    .dataframe tbody tr th {\n",
              "        vertical-align: top;\n",
              "    }\n",
              "\n",
              "    .dataframe thead th {\n",
              "        text-align: right;\n",
              "    }\n",
              "</style>\n",
              "<table border=\"1\" class=\"dataframe\">\n",
              "  <thead>\n",
              "    <tr style=\"text-align: right;\">\n",
              "      <th></th>\n",
              "      <th>n_lcop</th>\n",
              "      <th>n_rcop</th>\n",
              "      <th>l_ph_hip</th>\n",
              "      <th>l_ph_fo</th>\n",
              "      <th>r_ph_hip</th>\n",
              "      <th>r_ph_fo</th>\n",
              "      <th>st_sw_phase</th>\n",
              "      <th>perc_new</th>\n",
              "      <th>strike_frame</th>\n",
              "    </tr>\n",
              "  </thead>\n",
              "  <tbody>\n",
              "    <tr>\n",
              "      <th>0</th>\n",
              "      <td>0</td>\n",
              "      <td>0</td>\n",
              "      <td>342.804539</td>\n",
              "      <td>1.027770</td>\n",
              "      <td>289.035542</td>\n",
              "      <td>336.105757</td>\n",
              "      <td>0</td>\n",
              "      <td>0.000000</td>\n",
              "      <td>1</td>\n",
              "    </tr>\n",
              "    <tr>\n",
              "      <th>1</th>\n",
              "      <td>0</td>\n",
              "      <td>0</td>\n",
              "      <td>341.799388</td>\n",
              "      <td>1.588726</td>\n",
              "      <td>284.544224</td>\n",
              "      <td>337.704767</td>\n",
              "      <td>0</td>\n",
              "      <td>0.440529</td>\n",
              "      <td>2</td>\n",
              "    </tr>\n",
              "    <tr>\n",
              "      <th>2</th>\n",
              "      <td>0</td>\n",
              "      <td>0</td>\n",
              "      <td>340.711989</td>\n",
              "      <td>2.158977</td>\n",
              "      <td>281.475809</td>\n",
              "      <td>339.618571</td>\n",
              "      <td>0</td>\n",
              "      <td>0.881057</td>\n",
              "      <td>3</td>\n",
              "    </tr>\n",
              "    <tr>\n",
              "      <th>3</th>\n",
              "      <td>0</td>\n",
              "      <td>0</td>\n",
              "      <td>339.532444</td>\n",
              "      <td>2.729835</td>\n",
              "      <td>279.224884</td>\n",
              "      <td>341.877891</td>\n",
              "      <td>0</td>\n",
              "      <td>1.321586</td>\n",
              "      <td>4</td>\n",
              "    </tr>\n",
              "    <tr>\n",
              "      <th>4</th>\n",
              "      <td>0</td>\n",
              "      <td>0</td>\n",
              "      <td>338.251820</td>\n",
              "      <td>3.292356</td>\n",
              "      <td>277.479573</td>\n",
              "      <td>344.509830</td>\n",
              "      <td>0</td>\n",
              "      <td>1.762115</td>\n",
              "      <td>5</td>\n",
              "    </tr>\n",
              "    <tr>\n",
              "      <th>...</th>\n",
              "      <td>...</td>\n",
              "      <td>...</td>\n",
              "      <td>...</td>\n",
              "      <td>...</td>\n",
              "      <td>...</td>\n",
              "      <td>...</td>\n",
              "      <td>...</td>\n",
              "      <td>...</td>\n",
              "      <td>...</td>\n",
              "    </tr>\n",
              "    <tr>\n",
              "      <th>193302</th>\n",
              "      <td>0</td>\n",
              "      <td>0</td>\n",
              "      <td>358.915983</td>\n",
              "      <td>319.286085</td>\n",
              "      <td>267.304049</td>\n",
              "      <td>311.075749</td>\n",
              "      <td>0</td>\n",
              "      <td>97.706422</td>\n",
              "      <td>214</td>\n",
              "    </tr>\n",
              "    <tr>\n",
              "      <th>193303</th>\n",
              "      <td>0</td>\n",
              "      <td>0</td>\n",
              "      <td>357.722552</td>\n",
              "      <td>321.609088</td>\n",
              "      <td>266.032857</td>\n",
              "      <td>310.928158</td>\n",
              "      <td>0</td>\n",
              "      <td>98.165138</td>\n",
              "      <td>215</td>\n",
              "    </tr>\n",
              "    <tr>\n",
              "      <th>193304</th>\n",
              "      <td>0</td>\n",
              "      <td>0</td>\n",
              "      <td>356.508919</td>\n",
              "      <td>324.698181</td>\n",
              "      <td>264.447601</td>\n",
              "      <td>310.918455</td>\n",
              "      <td>0</td>\n",
              "      <td>98.623853</td>\n",
              "      <td>216</td>\n",
              "    </tr>\n",
              "    <tr>\n",
              "      <th>193305</th>\n",
              "      <td>0</td>\n",
              "      <td>0</td>\n",
              "      <td>355.264847</td>\n",
              "      <td>328.695560</td>\n",
              "      <td>262.334871</td>\n",
              "      <td>311.067391</td>\n",
              "      <td>0</td>\n",
              "      <td>99.082569</td>\n",
              "      <td>217</td>\n",
              "    </tr>\n",
              "    <tr>\n",
              "      <th>193306</th>\n",
              "      <td>0</td>\n",
              "      <td>0</td>\n",
              "      <td>353.978660</td>\n",
              "      <td>333.743614</td>\n",
              "      <td>259.242493</td>\n",
              "      <td>311.398748</td>\n",
              "      <td>0</td>\n",
              "      <td>99.541284</td>\n",
              "      <td>218</td>\n",
              "    </tr>\n",
              "  </tbody>\n",
              "</table>\n",
              "<p>193307 rows × 9 columns</p>\n",
              "</div>"
            ],
            "text/plain": [
              "        n_lcop  n_rcop    l_ph_hip     l_ph_fo    r_ph_hip     r_ph_fo  \\\n",
              "0            0       0  342.804539    1.027770  289.035542  336.105757   \n",
              "1            0       0  341.799388    1.588726  284.544224  337.704767   \n",
              "2            0       0  340.711989    2.158977  281.475809  339.618571   \n",
              "3            0       0  339.532444    2.729835  279.224884  341.877891   \n",
              "4            0       0  338.251820    3.292356  277.479573  344.509830   \n",
              "...        ...     ...         ...         ...         ...         ...   \n",
              "193302       0       0  358.915983  319.286085  267.304049  311.075749   \n",
              "193303       0       0  357.722552  321.609088  266.032857  310.928158   \n",
              "193304       0       0  356.508919  324.698181  264.447601  310.918455   \n",
              "193305       0       0  355.264847  328.695560  262.334871  311.067391   \n",
              "193306       0       0  353.978660  333.743614  259.242493  311.398748   \n",
              "\n",
              "        st_sw_phase   perc_new  strike_frame  \n",
              "0                 0   0.000000             1  \n",
              "1                 0   0.440529             2  \n",
              "2                 0   0.881057             3  \n",
              "3                 0   1.321586             4  \n",
              "4                 0   1.762115             5  \n",
              "...             ...        ...           ...  \n",
              "193302            0  97.706422           214  \n",
              "193303            0  98.165138           215  \n",
              "193304            0  98.623853           216  \n",
              "193305            0  99.082569           217  \n",
              "193306            0  99.541284           218  \n",
              "\n",
              "[193307 rows x 9 columns]"
            ]
          },
          "execution_count": 58,
          "metadata": {},
          "output_type": "execute_result"
        }
      ],
      "source": [
        "test_table = test_table.drop(drop_list, axis = 1)\n",
        "test_table"
      ]
    },
    {
      "cell_type": "code",
      "execution_count": 59,
      "metadata": {},
      "outputs": [],
      "source": [
        "x_test = test_table\n",
        "x_test = x_test.drop(['perc_new'], axis=1)\n",
        "scaler2 = MinMaxScaler()\n",
        "x_test_scaled = scaler2.fit_transform(x_test)\n",
        "x_test_scaled = pd.DataFrame(x_test_scaled)\n",
        "\n",
        "encode_gait_percentage(test_table, 'perc_new')\n",
        "y_test = test_table[[\"X\",\"Y\"]]\n",
        "y_test\n",
        "\n",
        "data_x_test = x_test_scaled\n"
      ]
    },
    {
      "cell_type": "code",
      "execution_count": 60,
      "metadata": {},
      "outputs": [],
      "source": [
        "#data_y_test = y_test.values.reshape(-1, 2)\n",
        "data_y_test = y_test.values"
      ]
    },
    {
      "cell_type": "code",
      "execution_count": 61,
      "metadata": {},
      "outputs": [],
      "source": [
        "test_x, test_y = convert_data(data_x_test, data_y_test, look_back, fore_cast)"
      ]
    },
    {
      "cell_type": "code",
      "execution_count": 62,
      "metadata": {},
      "outputs": [
        {
          "data": {
            "text/plain": [
              "(193296, 8)"
            ]
          },
          "execution_count": 62,
          "metadata": {},
          "output_type": "execute_result"
        }
      ],
      "source": [
        "check_point = data_x_test[11:]\n",
        "check_point.shape"
      ]
    },
    {
      "cell_type": "code",
      "execution_count": 63,
      "metadata": {},
      "outputs": [
        {
          "name": "stdout",
          "output_type": "stream",
          "text": [
            "(193296, 10, 8)\n"
          ]
        }
      ],
      "source": [
        "print(test_x.shape)"
      ]
    },
    {
      "cell_type": "code",
      "execution_count": 64,
      "metadata": {},
      "outputs": [
        {
          "name": "stdout",
          "output_type": "stream",
          "text": [
            "6041/6041 [==============================] - 19s 3ms/step\n"
          ]
        }
      ],
      "source": [
        "test_encoded = encoder.predict(test_x)"
      ]
    },
    {
      "cell_type": "code",
      "execution_count": 65,
      "metadata": {},
      "outputs": [
        {
          "name": "stdout",
          "output_type": "stream",
          "text": [
            "Encoded time-series shape (193296, 32)\n",
            "Encoded time-series sample [-0.12908196 -0.06801602 -0.6477081  -0.27397376  0.1349312  -0.1971845\n",
            " -0.281459    0.08277236  0.33297864  0.19243178  0.600784   -0.22272453\n",
            " -0.5938231   0.3973869  -0.25201082  0.01769524  0.33424956 -0.20533383\n",
            " -0.6532042   0.74948967  0.00618509 -0.24816501  0.20941818 -0.6611872\n",
            " -0.13935825 -0.3882118  -0.08367836 -0.4935888  -0.21639916  0.6705563\n",
            " -0.25781858  0.62679034]\n"
          ]
        }
      ],
      "source": [
        "print('Encoded time-series shape', test_encoded.shape)\n",
        "print('Encoded time-series sample', test_encoded[0])"
      ]
    },
    {
      "cell_type": "code",
      "execution_count": 66,
      "metadata": {},
      "outputs": [
        {
          "name": "stdout",
          "output_type": "stream",
          "text": [
            "6041/6041 [==============================] - 5s 813us/step\n"
          ]
        }
      ],
      "source": [
        "test_encoded_reshape = test_encoded\n",
        "\n",
        "crossPredict = mlp_model.predict(test_encoded_reshape)"
      ]
    },
    {
      "cell_type": "code",
      "execution_count": 67,
      "metadata": {},
      "outputs": [
        {
          "data": {
            "text/plain": [
              "(193296, 2)"
            ]
          },
          "execution_count": 67,
          "metadata": {},
          "output_type": "execute_result"
        }
      ],
      "source": [
        "crossPredict.shape"
      ]
    },
    {
      "cell_type": "code",
      "execution_count": 68,
      "metadata": {},
      "outputs": [
        {
          "name": "stdout",
          "output_type": "stream",
          "text": [
            "Cross Subject Score: 0.90 RMSE\n"
          ]
        }
      ],
      "source": [
        "crossScore = np.sqrt(mean_squared_error(test_y, crossPredict))\n",
        "print('Cross Subject Score: %.2f RMSE' % (crossScore))"
      ]
    },
    {
      "cell_type": "code",
      "execution_count": 69,
      "metadata": {},
      "outputs": [],
      "source": [
        "\n",
        "check_point_test = scaler.inverse_transform(check_point)\n",
        "\n",
        "predict = np.zeros((len(crossPredict),1))\n",
        "\n",
        "for iter in range(len(crossPredict)):\n",
        "  x = crossPredict[iter][0]\n",
        "  y = crossPredict[iter][1]\n",
        "  predict[iter] = ((math.atan2(y,x) + 2*math.pi) % (2*math.pi)) * (100 / (2*math.pi))\n",
        "\n",
        "\n",
        "  if ((predict[iter] >= 80) & (check_point_test[iter][-1] <= 20)) :\n",
        "    predict[iter] = predict[iter] - 100\n",
        "    \n",
        "    if abs(predict[iter]) >= 5:\n",
        "        predict[iter] = 0\n",
        "\n",
        "\n",
        "  if ((predict[iter] <= 20) & (check_point_test[iter][-1] >= 150)):\n",
        "     predict[iter] = 100 - predict[iter]\n",
        "     if abs(predict[iter]) >= 5:\n",
        "         predict[iter] = 100"
      ]
    },
    {
      "cell_type": "code",
      "execution_count": 70,
      "metadata": {},
      "outputs": [],
      "source": [
        "actual2 = np.zeros((len(test_y),1))\n",
        "\n",
        "for iter in range(len(test_y)):\n",
        "  x = test_y[iter][0]\n",
        "  y = test_y[iter][1]\n",
        "  actual2[iter] = ((math.atan2(y,x) + 2*math.pi) % (2*math.pi)) * (100 / (2*math.pi))"
      ]
    },
    {
      "cell_type": "code",
      "execution_count": 71,
      "metadata": {},
      "outputs": [
        {
          "name": "stdout",
          "output_type": "stream",
          "text": [
            "4805\n",
            "193296\n",
            "Precision  1 :  2.485824848936346\n",
            "9483\n",
            "193296\n",
            "Precision  2 :  4.905947355351378\n",
            "14049\n",
            "193296\n",
            "Precision  3 :  7.268127638440526\n",
            "19200\n",
            "193296\n",
            "Precision  4 :  9.932952570151478\n",
            "25003\n",
            "193296\n",
            "Precision  5 :  12.935084016223822\n"
          ]
        }
      ],
      "source": [
        "correct = 0\n",
        "for i in range(5):\n",
        "  correct = 0\n",
        "  for iter in range(len(actual2)):\n",
        "    #if (abs(actual[iter] - pred[iter]) <= (i+1)) or (actual[iter]>98) or(actual[iter]<3):\n",
        "      #correct+=1\n",
        "      if (abs(actual2[iter] - predict[iter]) <= (i+1)):\n",
        "        correct+=1\n",
        "\n",
        "  print(correct)\n",
        "  print(len(actual2))\n",
        "\n",
        "  print(\"Precision \", i+1, \": \", correct * 100/len(actual2))"
      ]
    },
    {
      "cell_type": "code",
      "execution_count": 72,
      "metadata": {},
      "outputs": [
        {
          "name": "stdout",
          "output_type": "stream",
          "text": [
            "Predicting Percentage RMSE:  31.63665511215101\n"
          ]
        }
      ],
      "source": [
        "perc_rmse_cross = np.sqrt(mean_squared_error(actual2, predict))\n",
        "print(\"Predicting Percentage RMSE: \", perc_rmse_cross)"
      ]
    },
    {
      "cell_type": "code",
      "execution_count": 73,
      "metadata": {},
      "outputs": [
        {
          "name": "stdout",
          "output_type": "stream",
          "text": [
            "193296\n",
            "193296\n",
            "31.636655112150912\n"
          ]
        }
      ],
      "source": [
        "rmse = 0\n",
        "length = len(actual2)\n",
        "for i in range(len(actual2)):\n",
        "\n",
        "    rmse = rmse + pow(predict[i] - actual2[i], 2)\n",
        "rmse = rmse / length\n",
        "rmse = math.sqrt(rmse)\n",
        "print(length)\n",
        "print(len(actual2))\n",
        "print(rmse)"
      ]
    },
    {
      "cell_type": "code",
      "execution_count": 74,
      "metadata": {},
      "outputs": [
        {
          "data": {
            "text/plain": [
              "Text(0.5, 1.0, 'Actual vs Prediction')"
            ]
          },
          "execution_count": 74,
          "metadata": {},
          "output_type": "execute_result"
        },
        {
          "data": {
            "image/png": "[encoded data removed]",
            "text/plain": [
              "<Figure size 432x288 with 1 Axes>"
            ]
          },
          "metadata": {
            "needs_background": "light"
          },
          "output_type": "display_data"
        }
      ],
      "source": [
        "plt.scatter(actual2, predict, facecolors='none', edgecolors='crimson',alpha=0.4)\n",
        "p1 = max(max(predict), max(actual2))\n",
        "p2 = min(min(predict), min(actual2))\n",
        "\n",
        "ci = 0.1 * np.std([p1,p2]) / np.mean([p1,p2])\n",
        "\n",
        "plt.plot([p1, p2], [p1, p2], 'b-', linewidth =3)\n",
        "plt.title('Actual vs Prediction')"
      ]
    },
    {
      "cell_type": "code",
      "execution_count": 75,
      "metadata": {},
      "outputs": [
        {
          "data": {
            "text/plain": [
              "[<matplotlib.lines.Line2D at 0x26c84dc1970>]"
            ]
          },
          "execution_count": 75,
          "metadata": {},
          "output_type": "execute_result"
        },
        {
          "data": {
            "image/png": "[encoded data removed]",
            "text/plain": [
              "<Figure size 1440x360 with 1 Axes>"
            ]
          },
          "metadata": {
            "needs_background": "light"
          },
          "output_type": "display_data"
        }
      ],
      "source": [
        "predfig=plt.figure(figsize=(20,5))\n",
        "dif = abs(actual2-predict)\n",
        "\n",
        "plt.plot(dif,'.')"
      ]
    }
  ],
  "metadata": {
    "accelerator": "TPU",
    "colab": {
      "provenance": []
    },
    "kernelspec": {
      "display_name": "Python 3",
      "name": "python3"
    },
    "language_info": {
      "codemirror_mode": {
        "name": "ipython",
        "version": 3
      },
      "file_extension": ".py",
      "mimetype": "text/x-python",
      "name": "python",
      "nbconvert_exporter": "python",
      "pygments_lexer": "ipython3",
      "version": "3.8.10"
    }
  },
  "nbformat": 4,
  "nbformat_minor": 0
}
