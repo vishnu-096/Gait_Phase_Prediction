{
  "cells": [
    {
      "cell_type": "code",
      "execution_count": 54,
      "metadata": {
        "id": "oUvebjog04oW"
      },
      "outputs": [],
      "source": [
        "import numpy as np\n",
        "import pandas as pd\n",
        "import tensorflow as tf\n",
        "import matplotlib.pyplot as plt\n",
        "import math\n",
        "import time\n",
        "import os\n",
        "import sys\n",
        "import json\n",
        "\n",
        "import scipy as sp\n",
        "from scipy import signal\n",
        "\n",
        "from keras.models import Sequential\n",
        "from keras.layers import Dense\n",
        "from keras.layers import LSTM\n",
        "from keras.callbacks import EarlyStopping\n",
        "from sklearn.preprocessing import MinMaxScaler\n",
        "from sklearn.feature_selection import SelectKBest\n",
        "from sklearn.feature_selection import f_regression\n",
        "from sklearn import metrics\n",
        "from statsmodels.tsa.seasonal import seasonal_decompose\n",
        "from statsmodels.graphics.tsaplots import plot_acf\n",
        "\n",
        "from tensorflow.keras.models import Sequential\n",
        "from tensorflow.keras.layers import *\n",
        "from tensorflow.keras.callbacks import ModelCheckpoint\n",
        "from tensorflow.keras.losses import MeanSquaredError\n",
        "from tensorflow.keras.metrics import RootMeanSquaredError\n",
        "from tensorflow.keras.optimizers import Adam\n",
        "from tensorflow.keras.layers import LSTM, Dense, Dropout, TimeDistributed, Conv1D, MaxPooling1D, Flatten, Bidirectional, Input, Flatten, Activation, Reshape, RepeatVector, Concatenate\n",
        "from tensorflow.keras import Sequential\n",
        "from tensorflow.keras.layers import *\n",
        "from keras.callbacks import EarlyStopping\n",
        "import tensorflow as tf\n",
        "\n",
        "from sklearn.preprocessing import MinMaxScaler\n",
        "from sklearn.model_selection import train_test_split\n",
        "\n",
        "import os, warnings, random\n",
        "from sklearn.metrics import mean_squared_error\n",
        "from sklearn.model_selection import train_test_split\n",
        "import tensorflow as tf\n",
        "import tensorflow.keras.layers as L\n",
        "from tensorflow.keras.layers import *\n",
        "from tensorflow.keras import optimizers, Sequential, Model\n",
        "from tensorflow.keras.callbacks import LearningRateScheduler"
      ]
    },
    {
      "cell_type": "code",
      "execution_count": 55,
      "metadata": {
        "id": "ieOMqQ_o04oZ"
      },
      "outputs": [],
      "source": [
        "SEED = 13\n",
        "tf.random.set_seed(SEED)"
      ]
    },
    {
      "cell_type": "code",
      "execution_count": 56,
      "metadata": {
        "id": "PKm1uOiX04oa"
      },
      "outputs": [],
      "source": [
        "def encode_gait_percentage(df, name):\n",
        "  percent = df[name].values.tolist()\n",
        "  X = np.zeros((len(df[name]),1))\n",
        "  Y = np.zeros((len(df[name]),1))\n",
        "  for i in range (len(percent)):\n",
        "    phi = percent[i] * 2 * math.pi / 100\n",
        "    X[i] = math.cos(phi)\n",
        "    Y[i] = math.sin(phi)\n",
        "  df['X'] = X\n",
        "  df['Y'] = Y"
      ]
    },
    {
      "cell_type": "code",
      "execution_count": 57,
      "metadata": {
        "id": "PiqdGzio04oj"
      },
      "outputs": [],
      "source": [
        "def convert_data(d_x, d_y, look_back = 1, fore_cast = 1):\n",
        "    dataX = []\n",
        "    dataY = []\n",
        "\n",
        "    for i in range(look_back, len(d_x) - fore_cast):\n",
        "        dataX.append(d_x[i - look_back: i])\n",
        "        dataY.append(d_y[i + fore_cast,:])\n",
        "\n",
        "    return np.array(dataX), np.array(dataY)"
      ]
    },
    {
      "cell_type": "code",
      "execution_count": 58,
      "metadata": {
        "colab": {
          "base_uri": "https://localhost:8080/"
        },
        "id": "x1qm5sIrhOv3",
        "outputId": "6885c08a-2eff-4f94-8927-f2de93438843"
      },
      "outputs": [],
      "source": [
        "#from google.colab import drive\n",
        "\n",
        "#rive.mount('/content/drive')\n",
        "#path =path = '/content/drive/MyDrive/nmchr_lab/Subjects/inclined/new/right_based/'\n"
      ]
    },
    {
      "cell_type": "code",
      "execution_count": 59,
      "metadata": {},
      "outputs": [
        {
          "name": "stdout",
          "output_type": "stream",
          "text": [
            "c:\\Users\\Admin\\Desktop\\Neurorobotic Lab\\Data_Code\\Model\\Gait_Phase_Prediction\n"
          ]
        }
      ],
      "source": [
        "working_dir = os.getcwd()#os.path.dirname(os.getcwd())\n",
        "sys_platform = sys.platform\n",
        "excel_path_dict = {'linux' : \"/csvs/\", 'win32' : \"\\Data\\Incline\\\\right_based\\\\\"}\n",
        "excel_path_name = excel_path_dict[sys_platform]\n",
        "\n",
        "directory_path = working_dir \n",
        "print(directory_path)\n",
        "excel_path = directory_path + excel_path_name\n"
      ]
    },
    {
      "cell_type": "code",
      "execution_count": 60,
      "metadata": {},
      "outputs": [],
      "source": [
        "# ---------------------------------------------------- #\n",
        "#  -> Provide Number of Trainning Subj and Test Subj.  #\n",
        "#  -> List all the file name per each subj.            #\n",
        "# ---------------------------------------------------- #\n",
        "\n",
        "no_subj_train = 4\n",
        "no_subj_test  = 1\n",
        "\n",
        "sub1_file = ['TH\\TH_4_I_r.xlsx', 'TH\\TH_2_I_r.xlsx', 'TH\\TH_3_I_r.xlsx']\n",
        "sub2_file = ['JJ\\JJ_4_I_r.xlsx', 'JJ\\JJ_6_I_r.xlsx', 'JJ\\JJ_7_I_r.xlsx']\n",
        "sub3_file = ['SD\\SD_1_I_r.xls', 'SD\\SD_4_I_r.xls', 'SD\\SD_2_I_r.xls', 'SD\\SD_3_I_r.xls', 'SD\\SD_5_I_r.xls']\n",
        "sub4_file = ['PK\\PK_0_I_r.xls', 'PK\\PK_5_I_r.xls', 'PK\\PK_2_I_r.xls', 'PK\\PK_3_I_r.xls']\n",
        "sub5_file = ['SKS\\SKS_0_I_r.xls', 'SKS\\SKS_4_I_r.xls', 'SKS\\SKS_2_I_r.xls', 'SKS\\SKS_3_I_r.xls', 'SKS\\SKS_5_I_r.xls']\n"
      ]
    },
    {
      "cell_type": "code",
      "execution_count": 61,
      "metadata": {},
      "outputs": [
        {
          "name": "stdout",
          "output_type": "stream",
          "text": [
            "Number of all subject:  5\n"
          ]
        }
      ],
      "source": [
        "# ---------------------------------------------------- #\n",
        "#  -> Concat all Subj into a list                      #\n",
        "#  -> Randomly shuffle the subj list                   #\n",
        "# ---------------------------------------------------- #\n",
        "\n",
        "list1 = [sub1_file, sub2_file, sub3_file, sub4_file, sub5_file]\n",
        "print(\"Number of all subject: \", len(list1))\n",
        "\n",
        "import random\n",
        "random.shuffle(list1)"
      ]
    },
    {
      "cell_type": "code",
      "execution_count": 62,
      "metadata": {},
      "outputs": [
        {
          "name": "stdout",
          "output_type": "stream",
          "text": [
            "Test Subj:  ['SKS\\\\SKS_0_I_r.xls', 'SKS\\\\SKS_4_I_r.xls', 'SKS\\\\SKS_2_I_r.xls', 'SKS\\\\SKS_3_I_r.xls', 'SKS\\\\SKS_5_I_r.xls']\n"
          ]
        }
      ],
      "source": [
        "# ---------------------------------------------------- #\n",
        "#  -> Randomly choose (n) number Subj for testing by   #\n",
        "#      poping an element from the list                 #\n",
        "# ---------------------------------------------------- #\n",
        "\n",
        "test_sub = list1.pop()\n",
        "\n",
        "print(\"Test Subj: \", test_sub)"
      ]
    },
    {
      "cell_type": "code",
      "execution_count": 63,
      "metadata": {},
      "outputs": [],
      "source": [
        "file_list = []\n",
        "\n",
        "for i in range (len(list1)):\n",
        "    for j in range(len(list1[i])):\n",
        "        file_list.append(pd.read_excel(excel_path + list1[i][j], sheet_name='Sheet1'))"
      ]
    },
    {
      "cell_type": "code",
      "execution_count": 64,
      "metadata": {},
      "outputs": [],
      "source": [
        "random.shuffle(file_list)\n",
        "\n",
        "all_data = pd.concat(file_list, axis = 0, ignore_index = True)"
      ]
    },
    {
      "cell_type": "code",
      "execution_count": 65,
      "metadata": {
        "colab": {
          "base_uri": "https://localhost:8080/"
        },
        "id": "-m7rgW5thOv4",
        "outputId": "74fb0611-366a-459c-ae78-e07832e9034c"
      },
      "outputs": [
        {
          "name": "stdout",
          "output_type": "stream",
          "text": [
            "<class 'pandas.core.frame.DataFrame'>\n",
            "RangeIndex: 713018 entries, 0 to 713017\n",
            "Data columns (total 13 columns):\n",
            " #   Column        Non-Null Count   Dtype  \n",
            "---  ------        --------------   -----  \n",
            " 0   l_ph_hip      713018 non-null  float64\n",
            " 1   l_ph_ank      713018 non-null  float64\n",
            " 2   l_ph_fo       713018 non-null  float64\n",
            " 3   r_ph_hip      713018 non-null  float64\n",
            " 4   r_ph_ank      713018 non-null  float64\n",
            " 5   r_ph_fo       713018 non-null  float64\n",
            " 6   n_lgrf        713018 non-null  float64\n",
            " 7   n_r_grf       713018 non-null  float64\n",
            " 8   n_lcop        713018 non-null  float64\n",
            " 9   n_rcop        713018 non-null  float64\n",
            " 10  perc_new      713018 non-null  float64\n",
            " 11  st_sw_phase   713018 non-null  int64  \n",
            " 12  strike_frame  713018 non-null  int64  \n",
            "dtypes: float64(11), int64(2)\n",
            "memory usage: 70.7 MB\n"
          ]
        }
      ],
      "source": [
        "all_data.info()"
      ]
    },
    {
      "cell_type": "code",
      "execution_count": 66,
      "metadata": {
        "colab": {
          "base_uri": "https://localhost:8080/",
          "height": 423
        },
        "id": "9zPHqQg4hOv5",
        "outputId": "a2c3c1d2-cb4f-4294-bf89-33c2ae58fcac"
      },
      "outputs": [
        {
          "data": {
            "text/html": [
              "<div>\n",
              "<style scoped>\n",
              "    .dataframe tbody tr th:only-of-type {\n",
              "        vertical-align: middle;\n",
              "    }\n",
              "\n",
              "    .dataframe tbody tr th {\n",
              "        vertical-align: top;\n",
              "    }\n",
              "\n",
              "    .dataframe thead th {\n",
              "        text-align: right;\n",
              "    }\n",
              "</style>\n",
              "<table border=\"1\" class=\"dataframe\">\n",
              "  <thead>\n",
              "    <tr style=\"text-align: right;\">\n",
              "      <th></th>\n",
              "      <th>l_ph_hip</th>\n",
              "      <th>l_ph_ank</th>\n",
              "      <th>l_ph_fo</th>\n",
              "      <th>r_ph_hip</th>\n",
              "      <th>r_ph_ank</th>\n",
              "      <th>r_ph_fo</th>\n",
              "      <th>n_lgrf</th>\n",
              "      <th>n_r_grf</th>\n",
              "      <th>n_lcop</th>\n",
              "      <th>n_rcop</th>\n",
              "      <th>perc_new</th>\n",
              "      <th>st_sw_phase</th>\n",
              "      <th>strike_frame</th>\n",
              "    </tr>\n",
              "  </thead>\n",
              "  <tbody>\n",
              "    <tr>\n",
              "      <th>0</th>\n",
              "      <td>0.017868</td>\n",
              "      <td>0.611224</td>\n",
              "      <td>0.043116</td>\n",
              "      <td>0.253653</td>\n",
              "      <td>0.755680</td>\n",
              "      <td>0.025736</td>\n",
              "      <td>0.914697</td>\n",
              "      <td>0.036748</td>\n",
              "      <td>0.000091</td>\n",
              "      <td>0.138115</td>\n",
              "      <td>0.000000</td>\n",
              "      <td>1</td>\n",
              "      <td>1</td>\n",
              "    </tr>\n",
              "    <tr>\n",
              "      <th>1</th>\n",
              "      <td>0.019354</td>\n",
              "      <td>0.596839</td>\n",
              "      <td>0.043325</td>\n",
              "      <td>0.252341</td>\n",
              "      <td>0.753935</td>\n",
              "      <td>0.035688</td>\n",
              "      <td>0.911922</td>\n",
              "      <td>0.060857</td>\n",
              "      <td>0.000143</td>\n",
              "      <td>0.159908</td>\n",
              "      <td>0.476190</td>\n",
              "      <td>1</td>\n",
              "      <td>2</td>\n",
              "    </tr>\n",
              "    <tr>\n",
              "      <th>2</th>\n",
              "      <td>0.020739</td>\n",
              "      <td>0.584172</td>\n",
              "      <td>0.043300</td>\n",
              "      <td>0.250533</td>\n",
              "      <td>0.752362</td>\n",
              "      <td>0.046029</td>\n",
              "      <td>0.903575</td>\n",
              "      <td>0.090786</td>\n",
              "      <td>0.000182</td>\n",
              "      <td>0.182694</td>\n",
              "      <td>0.952381</td>\n",
              "      <td>1</td>\n",
              "      <td>3</td>\n",
              "    </tr>\n",
              "    <tr>\n",
              "      <th>3</th>\n",
              "      <td>0.022033</td>\n",
              "      <td>0.573204</td>\n",
              "      <td>0.043038</td>\n",
              "      <td>0.246090</td>\n",
              "      <td>0.750924</td>\n",
              "      <td>0.056553</td>\n",
              "      <td>0.889112</td>\n",
              "      <td>0.126172</td>\n",
              "      <td>0.000209</td>\n",
              "      <td>0.206090</td>\n",
              "      <td>1.428571</td>\n",
              "      <td>1</td>\n",
              "      <td>4</td>\n",
              "    </tr>\n",
              "    <tr>\n",
              "      <th>4</th>\n",
              "      <td>0.023243</td>\n",
              "      <td>0.563872</td>\n",
              "      <td>0.042536</td>\n",
              "      <td>0.767538</td>\n",
              "      <td>0.749592</td>\n",
              "      <td>0.067038</td>\n",
              "      <td>0.868265</td>\n",
              "      <td>0.166112</td>\n",
              "      <td>0.000226</td>\n",
              "      <td>0.229617</td>\n",
              "      <td>1.904762</td>\n",
              "      <td>1</td>\n",
              "      <td>5</td>\n",
              "    </tr>\n",
              "    <tr>\n",
              "      <th>...</th>\n",
              "      <td>...</td>\n",
              "      <td>...</td>\n",
              "      <td>...</td>\n",
              "      <td>...</td>\n",
              "      <td>...</td>\n",
              "      <td>...</td>\n",
              "      <td>...</td>\n",
              "      <td>...</td>\n",
              "      <td>...</td>\n",
              "      <td>...</td>\n",
              "      <td>...</td>\n",
              "      <td>...</td>\n",
              "      <td>...</td>\n",
              "    </tr>\n",
              "    <tr>\n",
              "      <th>709493</th>\n",
              "      <td>0.670652</td>\n",
              "      <td>0.691813</td>\n",
              "      <td>0.209854</td>\n",
              "      <td>0.938383</td>\n",
              "      <td>0.147592</td>\n",
              "      <td>0.768096</td>\n",
              "      <td>0.665881</td>\n",
              "      <td>0.000000</td>\n",
              "      <td>0.090272</td>\n",
              "      <td>-0.000195</td>\n",
              "      <td>97.058824</td>\n",
              "      <td>0</td>\n",
              "      <td>199</td>\n",
              "    </tr>\n",
              "    <tr>\n",
              "      <th>709494</th>\n",
              "      <td>0.666237</td>\n",
              "      <td>0.685339</td>\n",
              "      <td>0.202419</td>\n",
              "      <td>0.939329</td>\n",
              "      <td>0.121608</td>\n",
              "      <td>0.763748</td>\n",
              "      <td>0.669678</td>\n",
              "      <td>0.000000</td>\n",
              "      <td>0.091376</td>\n",
              "      <td>-0.000233</td>\n",
              "      <td>97.549020</td>\n",
              "      <td>0</td>\n",
              "      <td>200</td>\n",
              "    </tr>\n",
              "    <tr>\n",
              "      <th>709495</th>\n",
              "      <td>0.660828</td>\n",
              "      <td>0.678392</td>\n",
              "      <td>0.191987</td>\n",
              "      <td>0.940358</td>\n",
              "      <td>0.085849</td>\n",
              "      <td>0.760446</td>\n",
              "      <td>0.673737</td>\n",
              "      <td>0.000000</td>\n",
              "      <td>0.092444</td>\n",
              "      <td>-0.000274</td>\n",
              "      <td>98.039216</td>\n",
              "      <td>0</td>\n",
              "      <td>201</td>\n",
              "    </tr>\n",
              "    <tr>\n",
              "      <th>709496</th>\n",
              "      <td>0.654074</td>\n",
              "      <td>0.670987</td>\n",
              "      <td>0.176275</td>\n",
              "      <td>0.941378</td>\n",
              "      <td>0.039361</td>\n",
              "      <td>0.757745</td>\n",
              "      <td>0.677892</td>\n",
              "      <td>0.000000</td>\n",
              "      <td>0.093479</td>\n",
              "      <td>-0.000317</td>\n",
              "      <td>98.529412</td>\n",
              "      <td>0</td>\n",
              "      <td>202</td>\n",
              "    </tr>\n",
              "    <tr>\n",
              "      <th>709497</th>\n",
              "      <td>0.645489</td>\n",
              "      <td>0.663154</td>\n",
              "      <td>0.150322</td>\n",
              "      <td>0.942295</td>\n",
              "      <td>0.987032</td>\n",
              "      <td>0.755407</td>\n",
              "      <td>0.681911</td>\n",
              "      <td>0.013705</td>\n",
              "      <td>0.094480</td>\n",
              "      <td>-0.000363</td>\n",
              "      <td>99.019608</td>\n",
              "      <td>0</td>\n",
              "      <td>203</td>\n",
              "    </tr>\n",
              "  </tbody>\n",
              "</table>\n",
              "<p>709498 rows × 13 columns</p>\n",
              "</div>"
            ],
            "text/plain": [
              "        l_ph_hip  l_ph_ank   l_ph_fo  r_ph_hip  r_ph_ank   r_ph_fo    n_lgrf  \\\n",
              "0       0.017868  0.611224  0.043116  0.253653  0.755680  0.025736  0.914697   \n",
              "1       0.019354  0.596839  0.043325  0.252341  0.753935  0.035688  0.911922   \n",
              "2       0.020739  0.584172  0.043300  0.250533  0.752362  0.046029  0.903575   \n",
              "3       0.022033  0.573204  0.043038  0.246090  0.750924  0.056553  0.889112   \n",
              "4       0.023243  0.563872  0.042536  0.767538  0.749592  0.067038  0.868265   \n",
              "...          ...       ...       ...       ...       ...       ...       ...   \n",
              "709493  0.670652  0.691813  0.209854  0.938383  0.147592  0.768096  0.665881   \n",
              "709494  0.666237  0.685339  0.202419  0.939329  0.121608  0.763748  0.669678   \n",
              "709495  0.660828  0.678392  0.191987  0.940358  0.085849  0.760446  0.673737   \n",
              "709496  0.654074  0.670987  0.176275  0.941378  0.039361  0.757745  0.677892   \n",
              "709497  0.645489  0.663154  0.150322  0.942295  0.987032  0.755407  0.681911   \n",
              "\n",
              "         n_r_grf    n_lcop    n_rcop   perc_new  st_sw_phase  strike_frame  \n",
              "0       0.036748  0.000091  0.138115   0.000000            1             1  \n",
              "1       0.060857  0.000143  0.159908   0.476190            1             2  \n",
              "2       0.090786  0.000182  0.182694   0.952381            1             3  \n",
              "3       0.126172  0.000209  0.206090   1.428571            1             4  \n",
              "4       0.166112  0.000226  0.229617   1.904762            1             5  \n",
              "...          ...       ...       ...        ...          ...           ...  \n",
              "709493  0.000000  0.090272 -0.000195  97.058824            0           199  \n",
              "709494  0.000000  0.091376 -0.000233  97.549020            0           200  \n",
              "709495  0.000000  0.092444 -0.000274  98.039216            0           201  \n",
              "709496  0.000000  0.093479 -0.000317  98.529412            0           202  \n",
              "709497  0.013705  0.094480 -0.000363  99.019608            0           203  \n",
              "\n",
              "[709498 rows x 13 columns]"
            ]
          },
          "execution_count": 66,
          "metadata": {},
          "output_type": "execute_result"
        }
      ],
      "source": [
        "cycle = 0\n",
        "cycle_list = []\n",
        "\n",
        "start = 0\n",
        "\n",
        "for i in range(len(all_data) - 1):\n",
        "    if (all_data['perc_new'][i+1] == 0):\n",
        "        cycle += 1\n",
        "        cycle_list.append(all_data.iloc[start:i])\n",
        "        start = i+1\n",
        "\n",
        "random.shuffle(cycle_list)\n",
        "source_table = pd.concat(cycle_list, axis=0, ignore_index=True)\n",
        "\n",
        "source_table\n"
      ]
    },
    {
      "cell_type": "code",
      "execution_count": 67,
      "metadata": {},
      "outputs": [],
      "source": [
        "drop_list = [\"n_lgrf\",\"n_r_grf\",\"l_ph_ank\",\"r_ph_ank\"]"
      ]
    },
    {
      "cell_type": "code",
      "execution_count": 68,
      "metadata": {
        "colab": {
          "base_uri": "https://localhost:8080/",
          "height": 423
        },
        "id": "CX2LzKWuhOv6",
        "outputId": "4f35b670-47ce-4c70-d869-79ec202b1a6e"
      },
      "outputs": [
        {
          "data": {
            "text/html": [
              "<div>\n",
              "<style scoped>\n",
              "    .dataframe tbody tr th:only-of-type {\n",
              "        vertical-align: middle;\n",
              "    }\n",
              "\n",
              "    .dataframe tbody tr th {\n",
              "        vertical-align: top;\n",
              "    }\n",
              "\n",
              "    .dataframe thead th {\n",
              "        text-align: right;\n",
              "    }\n",
              "</style>\n",
              "<table border=\"1\" class=\"dataframe\">\n",
              "  <thead>\n",
              "    <tr style=\"text-align: right;\">\n",
              "      <th></th>\n",
              "      <th>l_ph_hip</th>\n",
              "      <th>l_ph_fo</th>\n",
              "      <th>r_ph_hip</th>\n",
              "      <th>r_ph_fo</th>\n",
              "      <th>n_lcop</th>\n",
              "      <th>n_rcop</th>\n",
              "      <th>perc_new</th>\n",
              "      <th>st_sw_phase</th>\n",
              "      <th>strike_frame</th>\n",
              "    </tr>\n",
              "  </thead>\n",
              "  <tbody>\n",
              "    <tr>\n",
              "      <th>0</th>\n",
              "      <td>0.017868</td>\n",
              "      <td>0.043116</td>\n",
              "      <td>0.253653</td>\n",
              "      <td>0.025736</td>\n",
              "      <td>0.000091</td>\n",
              "      <td>0.138115</td>\n",
              "      <td>0.000000</td>\n",
              "      <td>1</td>\n",
              "      <td>1</td>\n",
              "    </tr>\n",
              "    <tr>\n",
              "      <th>1</th>\n",
              "      <td>0.019354</td>\n",
              "      <td>0.043325</td>\n",
              "      <td>0.252341</td>\n",
              "      <td>0.035688</td>\n",
              "      <td>0.000143</td>\n",
              "      <td>0.159908</td>\n",
              "      <td>0.476190</td>\n",
              "      <td>1</td>\n",
              "      <td>2</td>\n",
              "    </tr>\n",
              "    <tr>\n",
              "      <th>2</th>\n",
              "      <td>0.020739</td>\n",
              "      <td>0.043300</td>\n",
              "      <td>0.250533</td>\n",
              "      <td>0.046029</td>\n",
              "      <td>0.000182</td>\n",
              "      <td>0.182694</td>\n",
              "      <td>0.952381</td>\n",
              "      <td>1</td>\n",
              "      <td>3</td>\n",
              "    </tr>\n",
              "    <tr>\n",
              "      <th>3</th>\n",
              "      <td>0.022033</td>\n",
              "      <td>0.043038</td>\n",
              "      <td>0.246090</td>\n",
              "      <td>0.056553</td>\n",
              "      <td>0.000209</td>\n",
              "      <td>0.206090</td>\n",
              "      <td>1.428571</td>\n",
              "      <td>1</td>\n",
              "      <td>4</td>\n",
              "    </tr>\n",
              "    <tr>\n",
              "      <th>4</th>\n",
              "      <td>0.023243</td>\n",
              "      <td>0.042536</td>\n",
              "      <td>0.767538</td>\n",
              "      <td>0.067038</td>\n",
              "      <td>0.000226</td>\n",
              "      <td>0.229617</td>\n",
              "      <td>1.904762</td>\n",
              "      <td>1</td>\n",
              "      <td>5</td>\n",
              "    </tr>\n",
              "    <tr>\n",
              "      <th>...</th>\n",
              "      <td>...</td>\n",
              "      <td>...</td>\n",
              "      <td>...</td>\n",
              "      <td>...</td>\n",
              "      <td>...</td>\n",
              "      <td>...</td>\n",
              "      <td>...</td>\n",
              "      <td>...</td>\n",
              "      <td>...</td>\n",
              "    </tr>\n",
              "    <tr>\n",
              "      <th>709493</th>\n",
              "      <td>0.670652</td>\n",
              "      <td>0.209854</td>\n",
              "      <td>0.938383</td>\n",
              "      <td>0.768096</td>\n",
              "      <td>0.090272</td>\n",
              "      <td>-0.000195</td>\n",
              "      <td>97.058824</td>\n",
              "      <td>0</td>\n",
              "      <td>199</td>\n",
              "    </tr>\n",
              "    <tr>\n",
              "      <th>709494</th>\n",
              "      <td>0.666237</td>\n",
              "      <td>0.202419</td>\n",
              "      <td>0.939329</td>\n",
              "      <td>0.763748</td>\n",
              "      <td>0.091376</td>\n",
              "      <td>-0.000233</td>\n",
              "      <td>97.549020</td>\n",
              "      <td>0</td>\n",
              "      <td>200</td>\n",
              "    </tr>\n",
              "    <tr>\n",
              "      <th>709495</th>\n",
              "      <td>0.660828</td>\n",
              "      <td>0.191987</td>\n",
              "      <td>0.940358</td>\n",
              "      <td>0.760446</td>\n",
              "      <td>0.092444</td>\n",
              "      <td>-0.000274</td>\n",
              "      <td>98.039216</td>\n",
              "      <td>0</td>\n",
              "      <td>201</td>\n",
              "    </tr>\n",
              "    <tr>\n",
              "      <th>709496</th>\n",
              "      <td>0.654074</td>\n",
              "      <td>0.176275</td>\n",
              "      <td>0.941378</td>\n",
              "      <td>0.757745</td>\n",
              "      <td>0.093479</td>\n",
              "      <td>-0.000317</td>\n",
              "      <td>98.529412</td>\n",
              "      <td>0</td>\n",
              "      <td>202</td>\n",
              "    </tr>\n",
              "    <tr>\n",
              "      <th>709497</th>\n",
              "      <td>0.645489</td>\n",
              "      <td>0.150322</td>\n",
              "      <td>0.942295</td>\n",
              "      <td>0.755407</td>\n",
              "      <td>0.094480</td>\n",
              "      <td>-0.000363</td>\n",
              "      <td>99.019608</td>\n",
              "      <td>0</td>\n",
              "      <td>203</td>\n",
              "    </tr>\n",
              "  </tbody>\n",
              "</table>\n",
              "<p>709498 rows × 9 columns</p>\n",
              "</div>"
            ],
            "text/plain": [
              "        l_ph_hip   l_ph_fo  r_ph_hip   r_ph_fo    n_lcop    n_rcop   perc_new  \\\n",
              "0       0.017868  0.043116  0.253653  0.025736  0.000091  0.138115   0.000000   \n",
              "1       0.019354  0.043325  0.252341  0.035688  0.000143  0.159908   0.476190   \n",
              "2       0.020739  0.043300  0.250533  0.046029  0.000182  0.182694   0.952381   \n",
              "3       0.022033  0.043038  0.246090  0.056553  0.000209  0.206090   1.428571   \n",
              "4       0.023243  0.042536  0.767538  0.067038  0.000226  0.229617   1.904762   \n",
              "...          ...       ...       ...       ...       ...       ...        ...   \n",
              "709493  0.670652  0.209854  0.938383  0.768096  0.090272 -0.000195  97.058824   \n",
              "709494  0.666237  0.202419  0.939329  0.763748  0.091376 -0.000233  97.549020   \n",
              "709495  0.660828  0.191987  0.940358  0.760446  0.092444 -0.000274  98.039216   \n",
              "709496  0.654074  0.176275  0.941378  0.757745  0.093479 -0.000317  98.529412   \n",
              "709497  0.645489  0.150322  0.942295  0.755407  0.094480 -0.000363  99.019608   \n",
              "\n",
              "        st_sw_phase  strike_frame  \n",
              "0                 1             1  \n",
              "1                 1             2  \n",
              "2                 1             3  \n",
              "3                 1             4  \n",
              "4                 1             5  \n",
              "...             ...           ...  \n",
              "709493            0           199  \n",
              "709494            0           200  \n",
              "709495            0           201  \n",
              "709496            0           202  \n",
              "709497            0           203  \n",
              "\n",
              "[709498 rows x 9 columns]"
            ]
          },
          "execution_count": 68,
          "metadata": {},
          "output_type": "execute_result"
        }
      ],
      "source": [
        "source_table = source_table.drop(drop_list, axis = 1)\n",
        "source_table"
      ]
    },
    {
      "cell_type": "code",
      "execution_count": 69,
      "metadata": {
        "id": "Uy980Nr0hOv6"
      },
      "outputs": [],
      "source": [
        "x = source_table\n",
        "x = x.drop(['perc_new'], axis=1)\n",
        "scaler = MinMaxScaler()\n",
        "x_scaled = scaler.fit_transform(x)\n",
        "x_scaled = pd.DataFrame(x_scaled)\n",
        "\n",
        "encode_gait_percentage(source_table, 'perc_new')\n",
        "y = source_table[[\"X\",\"Y\"]]\n",
        "y\n",
        "\n",
        "data_x = x_scaled\n"
      ]
    },
    {
      "cell_type": "code",
      "execution_count": 70,
      "metadata": {
        "id": "NZJUQdlrhOv7"
      },
      "outputs": [],
      "source": [
        "data_y = y.values.reshape(-1,2)"
      ]
    },
    {
      "cell_type": "code",
      "execution_count": 71,
      "metadata": {
        "colab": {
          "base_uri": "https://localhost:8080/"
        },
        "id": "nPuERZxWhOv7",
        "outputId": "08448f4b-7486-476d-908d-a7a3510037d2"
      },
      "outputs": [
        {
          "data": {
            "text/plain": [
              "numpy.ndarray"
            ]
          },
          "execution_count": 71,
          "metadata": {},
          "output_type": "execute_result"
        }
      ],
      "source": [
        "type(data_y)"
      ]
    },
    {
      "cell_type": "code",
      "execution_count": 72,
      "metadata": {
        "id": "BMTNkMouLdlD"
      },
      "outputs": [],
      "source": [
        "\n",
        "#data_x,data_y= shuffle_multiple_datasets_based_on_gait_cycle( file_name, excel_path)\n",
        "\n",
        "X_train, X_test,y_train, y_test = train_test_split(data_x, data_y ,\n",
        "                        test_size=0.25,\n",
        "                        shuffle=False)\n",
        "look_back = 10\n",
        "fore_cast = 1\n",
        "\n",
        "train_x, train_y = convert_data(X_train, y_train, look_back, fore_cast)\n",
        "validation_x, validation_y = convert_data(X_test, y_test, look_back, fore_cast)\n"
      ]
    },
    {
      "cell_type": "code",
      "execution_count": 73,
      "metadata": {
        "colab": {
          "base_uri": "https://localhost:8080/"
        },
        "id": "LCK0YESF04ok",
        "outputId": "dd829adb-96a0-4c13-e920-2d2fe6ed3ce0"
      },
      "outputs": [
        {
          "name": "stdout",
          "output_type": "stream",
          "text": [
            "(532112, 10, 8)\n",
            "(532112, 2)\n",
            "(177364, 10, 8)\n",
            "(177364, 2)\n"
          ]
        }
      ],
      "source": [
        "print(train_x.shape)\n",
        "print(train_y.shape)\n",
        "print(validation_x.shape)\n",
        "print(validation_y.shape)\n"
      ]
    },
    {
      "cell_type": "code",
      "execution_count": 74,
      "metadata": {
        "colab": {
          "base_uri": "https://localhost:8080/"
        },
        "id": "hhL-sk1EhOv8",
        "outputId": "e9afdfe4-71b4-4776-dff0-bea128c5bb13"
      },
      "outputs": [
        {
          "data": {
            "text/plain": [
              "(532112, 10, 8)"
            ]
          },
          "execution_count": 74,
          "metadata": {},
          "output_type": "execute_result"
        }
      ],
      "source": [
        "train_x.shape"
      ]
    },
    {
      "cell_type": "code",
      "execution_count": 75,
      "metadata": {
        "colab": {
          "base_uri": "https://localhost:8080/"
        },
        "id": "_pUL_UtrTApY",
        "outputId": "26d74cf0-dfb8-4ee7-ae8e-21bbc1cb63e0"
      },
      "outputs": [
        {
          "name": "stdout",
          "output_type": "stream",
          "text": [
            "(17735, 10, 8)\n",
            "(17735, 2)\n"
          ]
        }
      ],
      "source": [
        "n1=validation_x.shape[0]\n",
        "val_x=validation_x[1:int(n1/10),:]\n",
        "val_y=validation_y[1:int(n1/10),:]\n",
        "print(val_x.shape)\n",
        "print(val_y.shape)"
      ]
    },
    {
      "cell_type": "code",
      "execution_count": 76,
      "metadata": {
        "id": "amQi1sX8bxzx"
      },
      "outputs": [],
      "source": [
        "from keras import Model\n",
        "from keras.layers import Layer\n",
        "import keras.backend as K\n",
        "from keras.layers import Input, Dense, SimpleRNN\n",
        "from sklearn.preprocessing import MinMaxScaler\n",
        "from keras.models import Sequential\n",
        "from keras.metrics import mean_squared_error\n",
        "\n",
        "class attention(Layer):\n",
        "    def __init__(self,**kwargs):\n",
        "        super(attention,self).__init__(**kwargs)\n",
        "\n",
        "    def build(self,input_shape):\n",
        "        self.W=self.add_weight(name='attention_weight', shape=(input_shape[-1],1),\n",
        "                               initializer='random_normal', trainable=True)\n",
        "        self.b=self.add_weight(name='attention_bias', shape=(input_shape[1],1),\n",
        "                               initializer='zeros', trainable=True)\n",
        "        super(attention, self).build(input_shape)\n",
        "\n",
        "    def call(self,x):\n",
        "        # Alignment scores. Pass them through tanh function\n",
        "        e = K.tanh(K.dot(x,self.W)+self.b)\n",
        "        # Remove dimension of size 1\n",
        "        e = K.squeeze(e, axis=-1)\n",
        "        # Compute the weights\n",
        "        alpha = K.softmax(e)\n",
        "        # Reshape to tensorFlow format\n",
        "        alpha = K.expand_dims(alpha, axis=-1)\n",
        "        # Compute the context vector\n",
        "        context = x * alpha\n",
        "        context = K.sum(context, axis=1)\n",
        "        return context"
      ]
    },
    {
      "cell_type": "code",
      "execution_count": 77,
      "metadata": {
        "colab": {
          "base_uri": "https://localhost:8080/"
        },
        "id": "-8zWSAa3nHGO",
        "outputId": "8bf946f3-faf8-463d-9b52-c91641d39ad3"
      },
      "outputs": [
        {
          "name": "stdout",
          "output_type": "stream",
          "text": [
            "Model: \"model\"\n",
            "_________________________________________________________________\n",
            " Layer (type)                Output Shape              Param #   \n",
            "=================================================================\n",
            " input_1 (InputLayer)        [(None, 10, 8)]           0         \n",
            "                                                                 \n",
            " lstm (LSTM)                 (None, 10, 64)            18688     \n",
            "                                                                 \n",
            " lstm_1 (LSTM)               (None, 10, 32)            12416     \n",
            "                                                                 \n",
            " attention (attention)       (None, 32)                42        \n",
            "                                                                 \n",
            " repeat_vector (RepeatVector  (None, 10, 32)           0         \n",
            " )                                                               \n",
            "                                                                 \n",
            " lstm_2 (LSTM)               (None, 10, 32)            8320      \n",
            "                                                                 \n",
            " lstm_3 (LSTM)               (None, 10, 64)            24832     \n",
            "                                                                 \n",
            " time_distributed (TimeDistr  (None, 10, 8)            520       \n",
            " ibuted)                                                         \n",
            "                                                                 \n",
            "=================================================================\n",
            "Total params: 64,818\n",
            "Trainable params: 64,818\n",
            "Non-trainable params: 0\n",
            "_________________________________________________________________\n"
          ]
        }
      ],
      "source": [
        "\n",
        "lr = 0.001\n",
        "epochs = 30\n",
        "batch = 128\n",
        "\n",
        "x=Input(shape=(10, train_x.shape[2]))\n",
        "n_features=train_x.shape[2]\n",
        "# RNN_layer = SimpleRNN(hidden_units, return_sequences=True, activation=activation)(x)\n",
        "LSTM_layer1 = LSTM(64, return_sequences=True)(x)\n",
        "LSTM_layer2 = LSTM(32, return_sequences=True)(LSTM_layer1)\n",
        "attn_layer1 = attention()(LSTM_layer2)\n",
        "rep_layer = L.RepeatVector((10))(attn_layer1)\n",
        "# attn_layer2 = attention()(rep_layer)\n",
        "LSTM_layer3 = LSTM(32, return_sequences=True)(rep_layer)\n",
        "LSTM_layer4 = LSTM(64, return_sequences=True)(LSTM_layer3)\n",
        "lin_layer = L.TimeDistributed(L.Dense(n_features))(LSTM_layer4)\n",
        "# tmp_layer = Flatten()(rep_layer)\n",
        "# lin_layer = L.Dense(2)(tmp_layer)\n",
        "model=Model(x,lin_layer)\n",
        "model.summary()\n",
        "adam = optimizers.Adam(lr)\n",
        "model.compile(loss='mse', optimizer=adam)"
      ]
    },
    {
      "cell_type": "code",
      "execution_count": 78,
      "metadata": {
        "colab": {
          "base_uri": "https://localhost:8080/"
        },
        "id": "5-pm5CPkuTWk",
        "outputId": "3a67a8e4-58c0-49fb-d4f4-0149ee95790e"
      },
      "outputs": [
        {
          "name": "stdout",
          "output_type": "stream",
          "text": [
            "Epoch 1/30\n",
            "4158/4158 [==============================] - 80s 18ms/step - loss: 0.0089\n",
            "Epoch 2/30\n",
            "4158/4158 [==============================] - 80s 19ms/step - loss: 0.0027\n",
            "Epoch 3/30\n",
            "4158/4158 [==============================] - 101s 24ms/step - loss: 0.0015\n",
            "Epoch 4/30\n",
            "4158/4158 [==============================] - 83s 20ms/step - loss: 9.3328e-04\n",
            "Epoch 5/30\n",
            "4158/4158 [==============================] - 88s 21ms/step - loss: 6.6370e-04\n",
            "Epoch 6/30\n",
            "4158/4158 [==============================] - 88s 21ms/step - loss: 5.0210e-04\n",
            "Epoch 7/30\n",
            "4158/4158 [==============================] - 90s 22ms/step - loss: 3.9622e-04\n",
            "Epoch 8/30\n",
            "4158/4158 [==============================] - 95s 23ms/step - loss: 3.3196e-04\n",
            "Epoch 9/30\n",
            "4158/4158 [==============================] - 91s 22ms/step - loss: 2.8505e-04\n",
            "Epoch 10/30\n",
            "4158/4158 [==============================] - 93s 22ms/step - loss: 2.4776e-04\n",
            "Epoch 11/30\n",
            "4158/4158 [==============================] - 94s 23ms/step - loss: 2.2084e-04\n",
            "Epoch 12/30\n",
            "4158/4158 [==============================] - 95s 23ms/step - loss: 1.9870e-04\n",
            "Epoch 13/30\n",
            "4158/4158 [==============================] - 97s 23ms/step - loss: 1.7985e-04\n",
            "Epoch 14/30\n",
            "4158/4158 [==============================] - 102s 25ms/step - loss: 1.6305e-04\n",
            "Epoch 15/30\n",
            "4158/4158 [==============================] - 104s 25ms/step - loss: 1.5368e-04\n",
            "Epoch 16/30\n",
            "4158/4158 [==============================] - 106s 26ms/step - loss: 1.4003e-04\n",
            "Epoch 17/30\n",
            "4158/4158 [==============================] - 108s 26ms/step - loss: 1.3156e-04\n",
            "Epoch 18/30\n",
            "4158/4158 [==============================] - 112s 27ms/step - loss: 1.2797e-04\n",
            "Epoch 19/30\n",
            "4158/4158 [==============================] - 114s 27ms/step - loss: 1.1601e-04\n",
            "Epoch 20/30\n",
            "4158/4158 [==============================] - 123s 29ms/step - loss: 1.0972e-04\n",
            "Epoch 21/30\n",
            "4158/4158 [==============================] - 110s 27ms/step - loss: 1.0633e-04\n",
            "Epoch 22/30\n",
            "4158/4158 [==============================] - 111s 27ms/step - loss: 1.0224e-04\n",
            "Epoch 23/30\n",
            "4158/4158 [==============================] - 114s 27ms/step - loss: 9.3371e-05\n",
            "Epoch 24/30\n",
            "4158/4158 [==============================] - 114s 27ms/step - loss: 9.0705e-05\n",
            "Epoch 25/30\n",
            "4158/4158 [==============================] - 119s 29ms/step - loss: 8.8041e-05\n",
            "Epoch 26/30\n",
            "4158/4158 [==============================] - 121s 29ms/step - loss: 8.1172e-05\n",
            "Epoch 27/30\n",
            "4158/4158 [==============================] - 124s 30ms/step - loss: 8.1471e-05\n",
            "Epoch 28/30\n",
            "4158/4158 [==============================] - 127s 30ms/step - loss: 7.5791e-05\n",
            "Epoch 29/30\n",
            "4158/4158 [==============================] - 127s 31ms/step - loss: 7.7247e-05\n",
            "Epoch 30/30\n",
            "4158/4158 [==============================] - 129s 31ms/step - loss: 7.0702e-05\n"
          ]
        }
      ],
      "source": [
        "model_history = model.fit( train_x, train_x, epochs=epochs, batch_size=batch,  verbose=1)"
      ]
    },
    {
      "cell_type": "code",
      "execution_count": 79,
      "metadata": {
        "colab": {
          "base_uri": "https://localhost:8080/"
        },
        "id": "WZTBKcUZ6YWk",
        "outputId": "33be785e-bc3a-46eb-dc72-ff5c50d0268f"
      },
      "outputs": [
        {
          "name": "stdout",
          "output_type": "stream",
          "text": [
            "16629/16629 [==============================] - 46s 3ms/step\n",
            "5543/5543 [==============================] - 19s 3ms/step\n",
            "Encoded time-series shape (532112, 32)\n",
            "Encoded time-series sample [ 0.03357951 -0.04097783  0.1164674  -0.14629912  0.24036014 -0.08271414\n",
            " -0.04313197  0.81028104 -0.0349151  -0.06561087 -0.7548317   0.0156759\n",
            " -0.21965647  0.17575069 -0.12388492  0.23742895  0.13296026 -0.2450017\n",
            "  0.06253985  0.24395259  0.20202038 -0.1712309   0.18408918  0.00919538\n",
            "  0.14681485  0.11079741  0.02766874 -0.23243117  0.01882275  0.10442038\n",
            "  0.28970146 -0.06538916]\n"
          ]
        }
      ],
      "source": [
        "encoder = Model(inputs=model.inputs, outputs=model.layers[3].output)\n",
        "train_encoded = encoder.predict(train_x)\n",
        "validation_encoded = encoder.predict(validation_x)\n",
        "print('Encoded time-series shape', train_encoded.shape)\n",
        "print('Encoded time-series sample', train_encoded[0])"
      ]
    },
    {
      "cell_type": "code",
      "execution_count": 80,
      "metadata": {
        "colab": {
          "base_uri": "https://localhost:8080/"
        },
        "id": "gqQpm8-DInAX",
        "outputId": "6fd29023-11e1-4055-85b5-a82116bf9389"
      },
      "outputs": [],
      "source": [
        "#model.save(path+\"autoen_new_model\")"
      ]
    },
    {
      "cell_type": "code",
      "execution_count": 81,
      "metadata": {
        "id": "MiLnoJ_WEU6x"
      },
      "outputs": [],
      "source": [
        "def step_decay(epoch):\n",
        "\tinitial_lrate = 0.001\n",
        "\tdrop = 0.005\n",
        "\tepochs_drop = 10\n",
        "\tlrate=initial_lrate - 0.00001\n",
        "\t# lrate = initial_lrate * math.pow(drop, math.floor((1+epoch)/epochs_drop))\n",
        "\treturn lrate\n"
      ]
    },
    {
      "cell_type": "code",
      "execution_count": 82,
      "metadata": {
        "colab": {
          "base_uri": "https://localhost:8080/"
        },
        "id": "272NzH1S7itN",
        "outputId": "b9bebc54-b04b-4667-cb2b-36e6205ee254"
      },
      "outputs": [
        {
          "name": "stdout",
          "output_type": "stream",
          "text": [
            "Model: \"sequential\"\n",
            "_________________________________________________________________\n",
            " Layer (type)                Output Shape              Param #   \n",
            "=================================================================\n",
            " dense_1 (Dense)             (None, 32)                1056      \n",
            "                                                                 \n",
            " dense_2 (Dense)             (None, 8)                 264       \n",
            "                                                                 \n",
            " dense_3 (Dense)             (None, 2)                 18        \n",
            "                                                                 \n",
            "=================================================================\n",
            "Total params: 1,338\n",
            "Trainable params: 1,338\n",
            "Non-trainable params: 0\n",
            "_________________________________________________________________\n"
          ]
        }
      ],
      "source": [
        "mlp_model = Sequential()\n",
        "mlp_model.add(L.Dense(32, kernel_initializer='glorot_normal', activation='relu', input_dim=(train_encoded.shape[1])))\n",
        "# mlp_model.add(L.Dense(32, kernel_initializer='glorot_normal', activation='relu', input_dim=(train_encoded.shape[1])))\n",
        "\n",
        "mlp_model.add(L.Dense(8, kernel_initializer='glorot_normal', activation='relu'))\n",
        "mlp_model.add(L.Dense(2))\n",
        "mlp_model.summary()\n",
        "\n",
        "initial_learning_rate = 0.001\n",
        "lr_schedule = tf.keras.optimizers.schedules.ExponentialDecay(\n",
        "    initial_learning_rate,\n",
        "    decay_steps=100000,\n",
        "    decay_rate=0.96,\n",
        "    staircase=True)\n",
        "adam = optimizers.Adam(lr_schedule)\n",
        "\n",
        "mlp_model.compile(loss='mse', optimizer=adam)\n",
        "lrate = LearningRateScheduler(step_decay)"
      ]
    },
    {
      "cell_type": "code",
      "execution_count": 83,
      "metadata": {
        "colab": {
          "base_uri": "https://localhost:8080/"
        },
        "id": "7U14GxFkEcz3",
        "outputId": "5108fd08-829f-490b-cff6-f62e78a5e01f"
      },
      "outputs": [
        {
          "name": "stdout",
          "output_type": "stream",
          "text": [
            "Epoch 1/65\n",
            "4158/4158 - 4s - loss: 0.0343 - 4s/epoch - 1ms/step\n",
            "Epoch 2/65\n",
            "4158/4158 - 4s - loss: 0.0098 - 4s/epoch - 895us/step\n",
            "Epoch 3/65\n",
            "4158/4158 - 4s - loss: 0.0079 - 4s/epoch - 893us/step\n",
            "Epoch 4/65\n",
            "4158/4158 - 4s - loss: 0.0069 - 4s/epoch - 874us/step\n",
            "Epoch 5/65\n",
            "4158/4158 - 4s - loss: 0.0063 - 4s/epoch - 881us/step\n",
            "Epoch 6/65\n",
            "4158/4158 - 4s - loss: 0.0059 - 4s/epoch - 925us/step\n",
            "Epoch 7/65\n",
            "4158/4158 - 4s - loss: 0.0056 - 4s/epoch - 865us/step\n",
            "Epoch 8/65\n",
            "4158/4158 - 4s - loss: 0.0053 - 4s/epoch - 906us/step\n",
            "Epoch 9/65\n",
            "4158/4158 - 4s - loss: 0.0051 - 4s/epoch - 922us/step\n",
            "Epoch 10/65\n",
            "4158/4158 - 4s - loss: 0.0050 - 4s/epoch - 865us/step\n",
            "Epoch 11/65\n",
            "4158/4158 - 4s - loss: 0.0049 - 4s/epoch - 863us/step\n",
            "Epoch 12/65\n",
            "4158/4158 - 4s - loss: 0.0048 - 4s/epoch - 878us/step\n",
            "Epoch 13/65\n",
            "4158/4158 - 3s - loss: 0.0047 - 3s/epoch - 729us/step\n",
            "Epoch 14/65\n",
            "4158/4158 - 3s - loss: 0.0047 - 3s/epoch - 769us/step\n",
            "Epoch 15/65\n",
            "4158/4158 - 3s - loss: 0.0046 - 3s/epoch - 762us/step\n",
            "Epoch 16/65\n",
            "4158/4158 - 3s - loss: 0.0045 - 3s/epoch - 791us/step\n",
            "Epoch 17/65\n",
            "4158/4158 - 3s - loss: 0.0045 - 3s/epoch - 766us/step\n",
            "Epoch 18/65\n",
            "4158/4158 - 3s - loss: 0.0045 - 3s/epoch - 739us/step\n",
            "Epoch 19/65\n",
            "4158/4158 - 3s - loss: 0.0044 - 3s/epoch - 743us/step\n",
            "Epoch 20/65\n",
            "4158/4158 - 3s - loss: 0.0044 - 3s/epoch - 736us/step\n",
            "Epoch 21/65\n",
            "4158/4158 - 3s - loss: 0.0043 - 3s/epoch - 789us/step\n",
            "Epoch 22/65\n",
            "4158/4158 - 3s - loss: 0.0043 - 3s/epoch - 788us/step\n",
            "Epoch 23/65\n",
            "4158/4158 - 3s - loss: 0.0043 - 3s/epoch - 799us/step\n",
            "Epoch 24/65\n",
            "4158/4158 - 3s - loss: 0.0043 - 3s/epoch - 737us/step\n",
            "Epoch 25/65\n",
            "4158/4158 - 3s - loss: 0.0042 - 3s/epoch - 729us/step\n",
            "Epoch 26/65\n",
            "4158/4158 - 3s - loss: 0.0042 - 3s/epoch - 793us/step\n",
            "Epoch 27/65\n",
            "4158/4158 - 3s - loss: 0.0042 - 3s/epoch - 781us/step\n",
            "Epoch 28/65\n",
            "4158/4158 - 3s - loss: 0.0042 - 3s/epoch - 733us/step\n",
            "Epoch 29/65\n",
            "4158/4158 - 3s - loss: 0.0041 - 3s/epoch - 782us/step\n",
            "Epoch 30/65\n",
            "4158/4158 - 3s - loss: 0.0041 - 3s/epoch - 801us/step\n",
            "Epoch 31/65\n",
            "4158/4158 - 3s - loss: 0.0041 - 3s/epoch - 740us/step\n",
            "Epoch 32/65\n",
            "4158/4158 - 3s - loss: 0.0041 - 3s/epoch - 748us/step\n",
            "Epoch 33/65\n",
            "4158/4158 - 3s - loss: 0.0040 - 3s/epoch - 737us/step\n",
            "Epoch 34/65\n",
            "4158/4158 - 3s - loss: 0.0040 - 3s/epoch - 742us/step\n",
            "Epoch 35/65\n",
            "4158/4158 - 3s - loss: 0.0040 - 3s/epoch - 741us/step\n",
            "Epoch 36/65\n",
            "4158/4158 - 3s - loss: 0.0040 - 3s/epoch - 734us/step\n",
            "Epoch 37/65\n",
            "4158/4158 - 3s - loss: 0.0040 - 3s/epoch - 772us/step\n",
            "Epoch 38/65\n",
            "4158/4158 - 3s - loss: 0.0039 - 3s/epoch - 803us/step\n",
            "Epoch 39/65\n",
            "4158/4158 - 3s - loss: 0.0039 - 3s/epoch - 793us/step\n",
            "Epoch 40/65\n",
            "4158/4158 - 3s - loss: 0.0039 - 3s/epoch - 791us/step\n",
            "Epoch 41/65\n",
            "4158/4158 - 3s - loss: 0.0039 - 3s/epoch - 761us/step\n",
            "Epoch 42/65\n",
            "4158/4158 - 3s - loss: 0.0039 - 3s/epoch - 764us/step\n",
            "Epoch 43/65\n",
            "4158/4158 - 3s - loss: 0.0039 - 3s/epoch - 729us/step\n",
            "Epoch 44/65\n",
            "4158/4158 - 3s - loss: 0.0039 - 3s/epoch - 794us/step\n",
            "Epoch 45/65\n",
            "4158/4158 - 3s - loss: 0.0038 - 3s/epoch - 783us/step\n",
            "Epoch 46/65\n",
            "4158/4158 - 3s - loss: 0.0038 - 3s/epoch - 738us/step\n",
            "Epoch 47/65\n",
            "4158/4158 - 3s - loss: 0.0038 - 3s/epoch - 756us/step\n",
            "Epoch 48/65\n",
            "4158/4158 - 3s - loss: 0.0038 - 3s/epoch - 804us/step\n",
            "Epoch 49/65\n",
            "4158/4158 - 3s - loss: 0.0038 - 3s/epoch - 736us/step\n",
            "Epoch 50/65\n",
            "4158/4158 - 3s - loss: 0.0038 - 3s/epoch - 739us/step\n",
            "Epoch 51/65\n",
            "4158/4158 - 3s - loss: 0.0038 - 3s/epoch - 734us/step\n",
            "Epoch 52/65\n",
            "4158/4158 - 3s - loss: 0.0038 - 3s/epoch - 790us/step\n",
            "Epoch 53/65\n",
            "4158/4158 - 3s - loss: 0.0038 - 3s/epoch - 797us/step\n",
            "Epoch 54/65\n",
            "4158/4158 - 3s - loss: 0.0038 - 3s/epoch - 737us/step\n",
            "Epoch 55/65\n",
            "4158/4158 - 3s - loss: 0.0038 - 3s/epoch - 740us/step\n",
            "Epoch 56/65\n",
            "4158/4158 - 3s - loss: 0.0037 - 3s/epoch - 741us/step\n",
            "Epoch 57/65\n",
            "4158/4158 - 3s - loss: 0.0038 - 3s/epoch - 755us/step\n",
            "Epoch 58/65\n",
            "4158/4158 - 3s - loss: 0.0037 - 3s/epoch - 777us/step\n",
            "Epoch 59/65\n",
            "4158/4158 - 3s - loss: 0.0037 - 3s/epoch - 779us/step\n",
            "Epoch 60/65\n",
            "4158/4158 - 3s - loss: 0.0037 - 3s/epoch - 774us/step\n",
            "Epoch 61/65\n",
            "4158/4158 - 3s - loss: 0.0037 - 3s/epoch - 724us/step\n",
            "Epoch 62/65\n",
            "4158/4158 - 3s - loss: 0.0037 - 3s/epoch - 738us/step\n",
            "Epoch 63/65\n",
            "4158/4158 - 3s - loss: 0.0037 - 3s/epoch - 741us/step\n",
            "Epoch 64/65\n",
            "4158/4158 - 3s - loss: 0.0037 - 3s/epoch - 750us/step\n",
            "Epoch 65/65\n",
            "4158/4158 - 4s - loss: 0.0037 - 4s/epoch - 888us/step\n"
          ]
        }
      ],
      "source": [
        "epochs = 65\n",
        "# lrate = LearningRateScheduler(step_decay)\n",
        "monitor = EarlyStopping(monitor='loss', min_delta=1e-5, patience=3, verbose=1, mode='auto')\n",
        "# train_encoded_reshaped=np.reshape(train_encoded,(train_encoded.shape[0], train_encoded.shape[1]*train_encoded.shape[2]))\n",
        "\n",
        "# train_encoded_reshaped=np.reshape(train_encoded,(train_encoded.shape[0], train_encoded.shape[1]))\n",
        "train_encoded_reshaped = train_encoded\n",
        "callback_list = [monitor]\n",
        "mlp_history = mlp_model.fit(train_encoded_reshaped , train_y, callbacks=callback_list, epochs=epochs, batch_size=batch,  verbose=2)"
      ]
    },
    {
      "cell_type": "code",
      "execution_count": 84,
      "metadata": {
        "colab": {
          "base_uri": "https://localhost:8080/"
        },
        "id": "POslTp5TF9QW",
        "outputId": "7db67cd2-29ca-4739-f1f6-deeb91b47852"
      },
      "outputs": [
        {
          "name": "stdout",
          "output_type": "stream",
          "text": [
            "16629/16629 [==============================] - 15s 887us/step\n",
            "5543/5543 [==============================] - 5s 951us/step\n"
          ]
        }
      ],
      "source": [
        "val_encoded_reshaped = validation_encoded\n",
        "trainPredict = mlp_model.predict(train_encoded_reshaped)\n",
        "testPredict = mlp_model.predict(val_encoded_reshaped)"
      ]
    },
    {
      "cell_type": "code",
      "execution_count": 85,
      "metadata": {
        "colab": {
          "base_uri": "https://localhost:8080/"
        },
        "id": "I8TZkfOkLUf5",
        "outputId": "7d4a43a4-8591-4da3-bc74-ae73453c2d4f"
      },
      "outputs": [
        {
          "data": {
            "text/plain": [
              "(177364, 2)"
            ]
          },
          "execution_count": 85,
          "metadata": {},
          "output_type": "execute_result"
        }
      ],
      "source": [
        "testPredict.shape"
      ]
    },
    {
      "cell_type": "code",
      "execution_count": 86,
      "metadata": {
        "colab": {
          "base_uri": "https://localhost:8080/"
        },
        "id": "QO0pIoqu36me",
        "outputId": "84e4fe5c-6e90-4dc3-cf61-3eaf22e6c454"
      },
      "outputs": [
        {
          "name": "stdout",
          "output_type": "stream",
          "text": [
            "Train Score: 0.06 RMSE\n",
            "Test Score: 0.06 RMSE\n"
          ]
        }
      ],
      "source": [
        "from sklearn.metrics import mean_squared_error\n",
        "\n",
        "trainScore = np.sqrt(mean_squared_error(train_y, trainPredict))\n",
        "print('Train Score: %.2f RMSE' % (trainScore))\n",
        "testScore = np.sqrt(mean_squared_error(validation_y, testPredict))\n",
        "print('Test Score: %.2f RMSE' % (testScore))"
      ]
    },
    {
      "cell_type": "code",
      "execution_count": 87,
      "metadata": {
        "colab": {
          "base_uri": "https://localhost:8080/"
        },
        "id": "ghh2H9ws4CPm",
        "outputId": "89d615f6-1816-4631-cd49-3ad92bd23db0"
      },
      "outputs": [
        {
          "data": {
            "text/plain": [
              "(177364, 8)"
            ]
          },
          "execution_count": 87,
          "metadata": {},
          "output_type": "execute_result"
        }
      ],
      "source": [
        "v = X_test[11:]\n",
        "v.shape"
      ]
    },
    {
      "cell_type": "code",
      "execution_count": 88,
      "metadata": {
        "id": "XBtXpqWU0nw0"
      },
      "outputs": [],
      "source": [
        "\n",
        "x_test = scaler.inverse_transform(v)\n",
        "\n",
        "pred = np.zeros((len(testPredict),1))\n",
        "\n",
        "for iter in range(len(testPredict)):\n",
        "  x = testPredict[iter][0]\n",
        "  y = testPredict[iter][1]\n",
        "  pred[iter] = ((math.atan2(y,x) + 2*math.pi) % (2*math.pi)) * (100 / (2*math.pi))\n",
        "\n",
        "\n",
        "  if ((pred[iter] >= 80) & (x_test[iter][-1] <= 20)) :\n",
        "    pred[iter] = pred[iter] - 100\n",
        "    \n",
        "    if abs(pred[iter]) >= 5:\n",
        "        pred[iter] = 0\n",
        "\n",
        "\n",
        "  if ((pred[iter] <= 20) & (x_test[iter][-1] >= 150)):\n",
        "     pred[iter] = 100 - pred[iter]\n",
        "     if abs(pred[iter]) >= 5:\n",
        "         pred[iter] = 100\n",
        "\n",
        "\n",
        "\n",
        "\n",
        "  #if (pred[iter] > 100):\n",
        "  #  pred[iter] = pred[iter] - 100\n",
        "\n",
        "pred1=pd.DataFrame(pred).sort_index().reset_index()"
      ]
    },
    {
      "cell_type": "code",
      "execution_count": 89,
      "metadata": {
        "id": "KIsIEir80qmo"
      },
      "outputs": [],
      "source": [
        "actual = np.zeros((len(validation_y),1))\n",
        "\n",
        "for iter in range(len(validation_y)):\n",
        "  x =validation_y[iter][0]\n",
        "  y =validation_y[iter][1]\n",
        "  actual[iter] = ((math.atan2(y,x) + 2*math.pi) % (2*math.pi)) * (100 / (2*math.pi))"
      ]
    },
    {
      "cell_type": "code",
      "execution_count": 90,
      "metadata": {
        "colab": {
          "base_uri": "https://localhost:8080/"
        },
        "id": "-bNRktP10tNK",
        "outputId": "2d5daf3e-38d4-4f07-92ae-c2943035c461"
      },
      "outputs": [
        {
          "name": "stdout",
          "output_type": "stream",
          "text": [
            "114577\n",
            "177364\n",
            "Precision  1 :  64.59991881103268\n",
            "159751\n",
            "177364\n",
            "Precision  2 :  90.06957443449629\n",
            "172242\n",
            "177364\n",
            "Precision  3 :  97.1121535373582\n",
            "175760\n",
            "177364\n",
            "Precision  4 :  99.09564511400283\n",
            "176842\n",
            "177364\n",
            "Precision  5 :  99.70568999345977\n"
          ]
        }
      ],
      "source": [
        "correct = 0\n",
        "for i in range(5):\n",
        "  correct = 0\n",
        "  for iter in range(len(actual)):\n",
        "    #if (abs(actual[iter] - pred[iter]) <= (i+1)) or (actual[iter]>98) or(actual[iter]<3):\n",
        "      #correct+=1\n",
        "      if (abs(actual[iter] - pred[iter]) <= (i+1)):\n",
        "        correct+=1\n",
        "\n",
        "  print(correct)\n",
        "  print(len(actual))\n",
        "\n",
        "  print(\"Precision \", i+1, \": \", correct * 100/len(actual))"
      ]
    },
    {
      "cell_type": "code",
      "execution_count": 91,
      "metadata": {
        "colab": {
          "base_uri": "https://localhost:8080/"
        },
        "id": "LfzR41e40wqK",
        "outputId": "9738b4c0-aae4-49b7-d179-f5b03a8c95e3"
      },
      "outputs": [
        {
          "name": "stdout",
          "output_type": "stream",
          "text": [
            "Predicting Percentage RMSE:  1.2732067750982983\n"
          ]
        }
      ],
      "source": [
        "perc_rmse = np.sqrt(mean_squared_error(actual, pred))\n",
        "print(\"Predicting Percentage RMSE: \", perc_rmse)\n",
        "\n"
      ]
    },
    {
      "cell_type": "code",
      "execution_count": 92,
      "metadata": {},
      "outputs": [
        {
          "name": "stdout",
          "output_type": "stream",
          "text": [
            "177364\n",
            "177364\n",
            "1.2732067750983014\n"
          ]
        }
      ],
      "source": [
        "rmse = 0\n",
        "length = len(actual)\n",
        "for i in range(len(actual)):\n",
        "\n",
        "    rmse = rmse + pow(pred[i] - actual[i], 2)\n",
        "rmse = rmse / length\n",
        "rmse = math.sqrt(rmse)\n",
        "print(length)\n",
        "print(len(actual))\n",
        "print(rmse)"
      ]
    },
    {
      "cell_type": "code",
      "execution_count": 93,
      "metadata": {
        "colab": {
          "base_uri": "https://localhost:8080/",
          "height": 465
        },
        "id": "Twk_YKQWJdO1",
        "outputId": "4ebcc703-2d9b-465b-975f-af37c9b231f9"
      },
      "outputs": [
        {
          "name": "stdout",
          "output_type": "stream",
          "text": [
            "117195\n",
            "177364\n"
          ]
        },
        {
          "data": {
            "image/png": "[encoded data removed]",
            "text/plain": [
              "<Figure size 432x288 with 1 Axes>"
            ]
          },
          "metadata": {
            "needs_background": "light"
          },
          "output_type": "display_data"
        }
      ],
      "source": [
        "correct = 0\n",
        "\n",
        "plt.figure()\n",
        "plt.scatter(pred, actual)\n",
        "for iter in range(len(actual)):\n",
        "  if actual[iter]<2 or actual[iter]>98:\n",
        "    correct+=1\n",
        "    continue\n",
        "  if (abs(actual[iter] - pred[iter]) <= 1):\n",
        "    correct+=1\n",
        "\n",
        "\n",
        "print(correct)\n",
        "print(len(actual))"
      ]
    },
    {
      "cell_type": "code",
      "execution_count": 94,
      "metadata": {
        "colab": {
          "base_uri": "https://localhost:8080/",
          "height": 469
        },
        "id": "FxfNpj92JhO5",
        "outputId": "d984288f-565c-4d3f-ff2c-24227e053917"
      },
      "outputs": [
        {
          "data": {
            "text/plain": [
              "Text(0.5, 1.0, 'Actual vs Prediction')"
            ]
          },
          "execution_count": 94,
          "metadata": {},
          "output_type": "execute_result"
        },
        {
          "data": {
            "image/png": "[encoded data removed]",
            "text/plain": [
              "<Figure size 432x288 with 1 Axes>"
            ]
          },
          "metadata": {
            "needs_background": "light"
          },
          "output_type": "display_data"
        }
      ],
      "source": [
        "plt.scatter(actual, pred, facecolors='none', edgecolors='crimson',alpha=0.4)\n",
        "p1 = max(max(pred), max(actual))\n",
        "p2 = min(min(pred), min(actual))\n",
        "\n",
        "ci = 0.1 * np.std([p1,p2]) / np.mean([p1,p2])\n",
        "\n",
        "plt.plot([p1, p2], [p1, p2], 'b-', linewidth =3)\n",
        "plt.title('Actual vs Prediction')"
      ]
    },
    {
      "cell_type": "code",
      "execution_count": 95,
      "metadata": {},
      "outputs": [
        {
          "data": {
            "text/plain": [
              "[<matplotlib.lines.Line2D at 0x1f654607340>]"
            ]
          },
          "execution_count": 95,
          "metadata": {},
          "output_type": "execute_result"
        },
        {
          "data": {
            "image/png": "[encoded data removed]",
            "text/plain": [
              "<Figure size 1440x360 with 1 Axes>"
            ]
          },
          "metadata": {
            "needs_background": "light"
          },
          "output_type": "display_data"
        }
      ],
      "source": [
        "predfig=plt.figure(figsize=(20,5))\n",
        "dif = abs(actual-pred)\n",
        "\n",
        "plt.plot(dif,'.')"
      ]
    },
    {
      "cell_type": "code",
      "execution_count": 96,
      "metadata": {},
      "outputs": [
        {
          "name": "stdout",
          "output_type": "stream",
          "text": [
            "115061\n"
          ]
        }
      ],
      "source": [
        "for i in range(len(pred)):\n",
        "    if (abs(actual[i]-pred[i]) > 50):\n",
        "        print(i)"
      ]
    },
    {
      "cell_type": "code",
      "execution_count": 97,
      "metadata": {},
      "outputs": [
        {
          "name": "stdout",
          "output_type": "stream",
          "text": [
            "Predict:  [26.57805893]\n",
            "Actual:  [25.]\n"
          ]
        }
      ],
      "source": [
        "print('Predict: ', pred[33642])\n",
        "print('Actual: ', actual[33642])"
      ]
    },
    {
      "cell_type": "code",
      "execution_count": 98,
      "metadata": {},
      "outputs": [
        {
          "data": {
            "text/plain": [
              "array([ 2.70634804e-02,  9.83891144e-01,  9.45832547e-01,  8.80703034e-01,\n",
              "       -1.82715011e-05,  2.50802465e-01,  1.00000000e+00,  6.20000000e+01])"
            ]
          },
          "execution_count": 98,
          "metadata": {},
          "output_type": "execute_result"
        }
      ],
      "source": [
        "x_test[33642][:]"
      ]
    },
    {
      "cell_type": "markdown",
      "metadata": {},
      "source": [
        "***TESTING ON OTHER SUBJECT***"
      ]
    },
    {
      "cell_type": "code",
      "execution_count": 154,
      "metadata": {},
      "outputs": [],
      "source": [
        "test_file_list = []\n",
        "\n",
        "for i in range(len(test_sub)):\n",
        "    test_file_list.append(pd.read_excel(excel_path + test_sub[i], sheet_name='Sheet1'))"
      ]
    },
    {
      "cell_type": "code",
      "execution_count": 155,
      "metadata": {},
      "outputs": [],
      "source": [
        "## if there are multiple subject to test:\n",
        "# random.shuffle(test_file_list)\n",
        "\n",
        "all_test = pd.concat(test_file_list, axis = 0, ignore_index = True)"
      ]
    },
    {
      "cell_type": "code",
      "execution_count": 156,
      "metadata": {},
      "outputs": [
        {
          "name": "stdout",
          "output_type": "stream",
          "text": [
            "<class 'pandas.core.frame.DataFrame'>\n",
            "RangeIndex: 295263 entries, 0 to 295262\n",
            "Data columns (total 13 columns):\n",
            " #   Column        Non-Null Count   Dtype  \n",
            "---  ------        --------------   -----  \n",
            " 0   l_ph_hip      295263 non-null  float64\n",
            " 1   l_ph_ank      295263 non-null  float64\n",
            " 2   l_ph_fo       295263 non-null  float64\n",
            " 3   r_ph_hip      295263 non-null  float64\n",
            " 4   r_ph_ank      295263 non-null  float64\n",
            " 5   r_ph_fo       295263 non-null  float64\n",
            " 6   n_lgrf        295263 non-null  float64\n",
            " 7   n_r_grf       295263 non-null  float64\n",
            " 8   n_lcop        295263 non-null  float64\n",
            " 9   n_rcop        295263 non-null  float64\n",
            " 10  perc_new      295263 non-null  float64\n",
            " 11  st_sw_phase   295263 non-null  int64  \n",
            " 12  strike_frame  295263 non-null  int64  \n",
            "dtypes: float64(11), int64(2)\n",
            "memory usage: 29.3 MB\n"
          ]
        }
      ],
      "source": [
        "all_test.info()"
      ]
    },
    {
      "cell_type": "code",
      "execution_count": 157,
      "metadata": {},
      "outputs": [
        {
          "data": {
            "text/html": [
              "<div>\n",
              "<style scoped>\n",
              "    .dataframe tbody tr th:only-of-type {\n",
              "        vertical-align: middle;\n",
              "    }\n",
              "\n",
              "    .dataframe tbody tr th {\n",
              "        vertical-align: top;\n",
              "    }\n",
              "\n",
              "    .dataframe thead th {\n",
              "        text-align: right;\n",
              "    }\n",
              "</style>\n",
              "<table border=\"1\" class=\"dataframe\">\n",
              "  <thead>\n",
              "    <tr style=\"text-align: right;\">\n",
              "      <th></th>\n",
              "      <th>l_ph_hip</th>\n",
              "      <th>l_ph_ank</th>\n",
              "      <th>l_ph_fo</th>\n",
              "      <th>r_ph_hip</th>\n",
              "      <th>r_ph_ank</th>\n",
              "      <th>r_ph_fo</th>\n",
              "      <th>n_lgrf</th>\n",
              "      <th>n_r_grf</th>\n",
              "      <th>n_lcop</th>\n",
              "      <th>n_rcop</th>\n",
              "      <th>perc_new</th>\n",
              "      <th>st_sw_phase</th>\n",
              "      <th>strike_frame</th>\n",
              "    </tr>\n",
              "  </thead>\n",
              "  <tbody>\n",
              "    <tr>\n",
              "      <th>0</th>\n",
              "      <td>0.638359</td>\n",
              "      <td>0.738215</td>\n",
              "      <td>0.771401</td>\n",
              "      <td>0.911670</td>\n",
              "      <td>0.884725</td>\n",
              "      <td>0.701423</td>\n",
              "      <td>0.844324</td>\n",
              "      <td>0.038365</td>\n",
              "      <td>0.163448</td>\n",
              "      <td>0.010740</td>\n",
              "      <td>0.000000</td>\n",
              "      <td>1</td>\n",
              "      <td>1</td>\n",
              "    </tr>\n",
              "    <tr>\n",
              "      <th>1</th>\n",
              "      <td>0.620058</td>\n",
              "      <td>0.737532</td>\n",
              "      <td>0.768151</td>\n",
              "      <td>0.906039</td>\n",
              "      <td>0.864757</td>\n",
              "      <td>0.700908</td>\n",
              "      <td>0.830976</td>\n",
              "      <td>0.066548</td>\n",
              "      <td>0.162116</td>\n",
              "      <td>0.012832</td>\n",
              "      <td>0.446429</td>\n",
              "      <td>1</td>\n",
              "      <td>2</td>\n",
              "    </tr>\n",
              "    <tr>\n",
              "      <th>2</th>\n",
              "      <td>0.596447</td>\n",
              "      <td>0.736816</td>\n",
              "      <td>0.765283</td>\n",
              "      <td>0.900631</td>\n",
              "      <td>0.849643</td>\n",
              "      <td>0.699953</td>\n",
              "      <td>0.814171</td>\n",
              "      <td>0.102072</td>\n",
              "      <td>0.160502</td>\n",
              "      <td>0.015089</td>\n",
              "      <td>0.892857</td>\n",
              "      <td>1</td>\n",
              "      <td>3</td>\n",
              "    </tr>\n",
              "    <tr>\n",
              "      <th>3</th>\n",
              "      <td>0.566294</td>\n",
              "      <td>0.736063</td>\n",
              "      <td>0.762712</td>\n",
              "      <td>0.895437</td>\n",
              "      <td>0.838038</td>\n",
              "      <td>0.698556</td>\n",
              "      <td>0.793422</td>\n",
              "      <td>0.144811</td>\n",
              "      <td>0.158582</td>\n",
              "      <td>0.017490</td>\n",
              "      <td>1.339286</td>\n",
              "      <td>1</td>\n",
              "      <td>4</td>\n",
              "    </tr>\n",
              "    <tr>\n",
              "      <th>4</th>\n",
              "      <td>0.529439</td>\n",
              "      <td>0.735270</td>\n",
              "      <td>0.760373</td>\n",
              "      <td>0.890445</td>\n",
              "      <td>0.828978</td>\n",
              "      <td>0.696702</td>\n",
              "      <td>0.768448</td>\n",
              "      <td>0.194128</td>\n",
              "      <td>0.156332</td>\n",
              "      <td>0.020011</td>\n",
              "      <td>1.785714</td>\n",
              "      <td>1</td>\n",
              "      <td>5</td>\n",
              "    </tr>\n",
              "    <tr>\n",
              "      <th>...</th>\n",
              "      <td>...</td>\n",
              "      <td>...</td>\n",
              "      <td>...</td>\n",
              "      <td>...</td>\n",
              "      <td>...</td>\n",
              "      <td>...</td>\n",
              "      <td>...</td>\n",
              "      <td>...</td>\n",
              "      <td>...</td>\n",
              "      <td>...</td>\n",
              "      <td>...</td>\n",
              "      <td>...</td>\n",
              "      <td>...</td>\n",
              "    </tr>\n",
              "    <tr>\n",
              "      <th>293675</th>\n",
              "      <td>0.659152</td>\n",
              "      <td>0.742170</td>\n",
              "      <td>0.813517</td>\n",
              "      <td>0.003671</td>\n",
              "      <td>0.009516</td>\n",
              "      <td>0.666058</td>\n",
              "      <td>0.961016</td>\n",
              "      <td>0.000000</td>\n",
              "      <td>0.163211</td>\n",
              "      <td>0.001606</td>\n",
              "      <td>97.196262</td>\n",
              "      <td>1</td>\n",
              "      <td>209</td>\n",
              "    </tr>\n",
              "    <tr>\n",
              "      <th>293676</th>\n",
              "      <td>0.648888</td>\n",
              "      <td>0.741435</td>\n",
              "      <td>0.802587</td>\n",
              "      <td>0.997556</td>\n",
              "      <td>0.971342</td>\n",
              "      <td>0.669474</td>\n",
              "      <td>0.959978</td>\n",
              "      <td>0.000000</td>\n",
              "      <td>0.163563</td>\n",
              "      <td>0.002583</td>\n",
              "      <td>97.663551</td>\n",
              "      <td>1</td>\n",
              "      <td>210</td>\n",
              "    </tr>\n",
              "    <tr>\n",
              "      <th>293677</th>\n",
              "      <td>0.636367</td>\n",
              "      <td>0.740698</td>\n",
              "      <td>0.794134</td>\n",
              "      <td>0.991333</td>\n",
              "      <td>0.937262</td>\n",
              "      <td>0.671841</td>\n",
              "      <td>0.956459</td>\n",
              "      <td>0.000000</td>\n",
              "      <td>0.163786</td>\n",
              "      <td>0.003730</td>\n",
              "      <td>98.130841</td>\n",
              "      <td>1</td>\n",
              "      <td>211</td>\n",
              "    </tr>\n",
              "    <tr>\n",
              "      <th>293678</th>\n",
              "      <td>0.620895</td>\n",
              "      <td>0.739953</td>\n",
              "      <td>0.787407</td>\n",
              "      <td>0.985027</td>\n",
              "      <td>0.909164</td>\n",
              "      <td>0.673253</td>\n",
              "      <td>0.950116</td>\n",
              "      <td>0.000000</td>\n",
              "      <td>0.163856</td>\n",
              "      <td>0.005059</td>\n",
              "      <td>98.598131</td>\n",
              "      <td>1</td>\n",
              "      <td>212</td>\n",
              "    </tr>\n",
              "    <tr>\n",
              "      <th>293679</th>\n",
              "      <td>0.601625</td>\n",
              "      <td>0.739195</td>\n",
              "      <td>0.781916</td>\n",
              "      <td>0.978655</td>\n",
              "      <td>0.886951</td>\n",
              "      <td>0.673774</td>\n",
              "      <td>0.940645</td>\n",
              "      <td>0.016672</td>\n",
              "      <td>0.163753</td>\n",
              "      <td>0.006579</td>\n",
              "      <td>99.065421</td>\n",
              "      <td>1</td>\n",
              "      <td>213</td>\n",
              "    </tr>\n",
              "  </tbody>\n",
              "</table>\n",
              "<p>293680 rows × 13 columns</p>\n",
              "</div>"
            ],
            "text/plain": [
              "        l_ph_hip  l_ph_ank   l_ph_fo  r_ph_hip  r_ph_ank   r_ph_fo    n_lgrf  \\\n",
              "0       0.638359  0.738215  0.771401  0.911670  0.884725  0.701423  0.844324   \n",
              "1       0.620058  0.737532  0.768151  0.906039  0.864757  0.700908  0.830976   \n",
              "2       0.596447  0.736816  0.765283  0.900631  0.849643  0.699953  0.814171   \n",
              "3       0.566294  0.736063  0.762712  0.895437  0.838038  0.698556  0.793422   \n",
              "4       0.529439  0.735270  0.760373  0.890445  0.828978  0.696702  0.768448   \n",
              "...          ...       ...       ...       ...       ...       ...       ...   \n",
              "293675  0.659152  0.742170  0.813517  0.003671  0.009516  0.666058  0.961016   \n",
              "293676  0.648888  0.741435  0.802587  0.997556  0.971342  0.669474  0.959978   \n",
              "293677  0.636367  0.740698  0.794134  0.991333  0.937262  0.671841  0.956459   \n",
              "293678  0.620895  0.739953  0.787407  0.985027  0.909164  0.673253  0.950116   \n",
              "293679  0.601625  0.739195  0.781916  0.978655  0.886951  0.673774  0.940645   \n",
              "\n",
              "         n_r_grf    n_lcop    n_rcop   perc_new  st_sw_phase  strike_frame  \n",
              "0       0.038365  0.163448  0.010740   0.000000            1             1  \n",
              "1       0.066548  0.162116  0.012832   0.446429            1             2  \n",
              "2       0.102072  0.160502  0.015089   0.892857            1             3  \n",
              "3       0.144811  0.158582  0.017490   1.339286            1             4  \n",
              "4       0.194128  0.156332  0.020011   1.785714            1             5  \n",
              "...          ...       ...       ...        ...          ...           ...  \n",
              "293675  0.000000  0.163211  0.001606  97.196262            1           209  \n",
              "293676  0.000000  0.163563  0.002583  97.663551            1           210  \n",
              "293677  0.000000  0.163786  0.003730  98.130841            1           211  \n",
              "293678  0.000000  0.163856  0.005059  98.598131            1           212  \n",
              "293679  0.016672  0.163753  0.006579  99.065421            1           213  \n",
              "\n",
              "[293680 rows x 13 columns]"
            ]
          },
          "execution_count": 157,
          "metadata": {},
          "output_type": "execute_result"
        }
      ],
      "source": [
        "cycle = 0\n",
        "cycle_list = []\n",
        "\n",
        "start = 0\n",
        "\n",
        "for i in range(len(all_test) - 1):\n",
        "    if (all_test['perc_new'][i+1] == 0):\n",
        "        cycle += 1\n",
        "        cycle_list.append(all_test.iloc[start:i])\n",
        "        start = i+1\n",
        "\n",
        "random.shuffle(cycle_list)\n",
        "test_table = pd.concat(cycle_list, axis=0, ignore_index=True)\n",
        "\n",
        "test_table"
      ]
    },
    {
      "cell_type": "code",
      "execution_count": 158,
      "metadata": {},
      "outputs": [
        {
          "data": {
            "text/html": [
              "<div>\n",
              "<style scoped>\n",
              "    .dataframe tbody tr th:only-of-type {\n",
              "        vertical-align: middle;\n",
              "    }\n",
              "\n",
              "    .dataframe tbody tr th {\n",
              "        vertical-align: top;\n",
              "    }\n",
              "\n",
              "    .dataframe thead th {\n",
              "        text-align: right;\n",
              "    }\n",
              "</style>\n",
              "<table border=\"1\" class=\"dataframe\">\n",
              "  <thead>\n",
              "    <tr style=\"text-align: right;\">\n",
              "      <th></th>\n",
              "      <th>l_ph_hip</th>\n",
              "      <th>l_ph_fo</th>\n",
              "      <th>r_ph_hip</th>\n",
              "      <th>r_ph_fo</th>\n",
              "      <th>n_lcop</th>\n",
              "      <th>n_rcop</th>\n",
              "      <th>perc_new</th>\n",
              "      <th>st_sw_phase</th>\n",
              "      <th>strike_frame</th>\n",
              "    </tr>\n",
              "  </thead>\n",
              "  <tbody>\n",
              "    <tr>\n",
              "      <th>0</th>\n",
              "      <td>0.638359</td>\n",
              "      <td>0.771401</td>\n",
              "      <td>0.911670</td>\n",
              "      <td>0.701423</td>\n",
              "      <td>0.163448</td>\n",
              "      <td>0.010740</td>\n",
              "      <td>0.000000</td>\n",
              "      <td>1</td>\n",
              "      <td>1</td>\n",
              "    </tr>\n",
              "    <tr>\n",
              "      <th>1</th>\n",
              "      <td>0.620058</td>\n",
              "      <td>0.768151</td>\n",
              "      <td>0.906039</td>\n",
              "      <td>0.700908</td>\n",
              "      <td>0.162116</td>\n",
              "      <td>0.012832</td>\n",
              "      <td>0.446429</td>\n",
              "      <td>1</td>\n",
              "      <td>2</td>\n",
              "    </tr>\n",
              "    <tr>\n",
              "      <th>2</th>\n",
              "      <td>0.596447</td>\n",
              "      <td>0.765283</td>\n",
              "      <td>0.900631</td>\n",
              "      <td>0.699953</td>\n",
              "      <td>0.160502</td>\n",
              "      <td>0.015089</td>\n",
              "      <td>0.892857</td>\n",
              "      <td>1</td>\n",
              "      <td>3</td>\n",
              "    </tr>\n",
              "    <tr>\n",
              "      <th>3</th>\n",
              "      <td>0.566294</td>\n",
              "      <td>0.762712</td>\n",
              "      <td>0.895437</td>\n",
              "      <td>0.698556</td>\n",
              "      <td>0.158582</td>\n",
              "      <td>0.017490</td>\n",
              "      <td>1.339286</td>\n",
              "      <td>1</td>\n",
              "      <td>4</td>\n",
              "    </tr>\n",
              "    <tr>\n",
              "      <th>4</th>\n",
              "      <td>0.529439</td>\n",
              "      <td>0.760373</td>\n",
              "      <td>0.890445</td>\n",
              "      <td>0.696702</td>\n",
              "      <td>0.156332</td>\n",
              "      <td>0.020011</td>\n",
              "      <td>1.785714</td>\n",
              "      <td>1</td>\n",
              "      <td>5</td>\n",
              "    </tr>\n",
              "    <tr>\n",
              "      <th>...</th>\n",
              "      <td>...</td>\n",
              "      <td>...</td>\n",
              "      <td>...</td>\n",
              "      <td>...</td>\n",
              "      <td>...</td>\n",
              "      <td>...</td>\n",
              "      <td>...</td>\n",
              "      <td>...</td>\n",
              "      <td>...</td>\n",
              "    </tr>\n",
              "    <tr>\n",
              "      <th>293675</th>\n",
              "      <td>0.659152</td>\n",
              "      <td>0.813517</td>\n",
              "      <td>0.003671</td>\n",
              "      <td>0.666058</td>\n",
              "      <td>0.163211</td>\n",
              "      <td>0.001606</td>\n",
              "      <td>97.196262</td>\n",
              "      <td>1</td>\n",
              "      <td>209</td>\n",
              "    </tr>\n",
              "    <tr>\n",
              "      <th>293676</th>\n",
              "      <td>0.648888</td>\n",
              "      <td>0.802587</td>\n",
              "      <td>0.997556</td>\n",
              "      <td>0.669474</td>\n",
              "      <td>0.163563</td>\n",
              "      <td>0.002583</td>\n",
              "      <td>97.663551</td>\n",
              "      <td>1</td>\n",
              "      <td>210</td>\n",
              "    </tr>\n",
              "    <tr>\n",
              "      <th>293677</th>\n",
              "      <td>0.636367</td>\n",
              "      <td>0.794134</td>\n",
              "      <td>0.991333</td>\n",
              "      <td>0.671841</td>\n",
              "      <td>0.163786</td>\n",
              "      <td>0.003730</td>\n",
              "      <td>98.130841</td>\n",
              "      <td>1</td>\n",
              "      <td>211</td>\n",
              "    </tr>\n",
              "    <tr>\n",
              "      <th>293678</th>\n",
              "      <td>0.620895</td>\n",
              "      <td>0.787407</td>\n",
              "      <td>0.985027</td>\n",
              "      <td>0.673253</td>\n",
              "      <td>0.163856</td>\n",
              "      <td>0.005059</td>\n",
              "      <td>98.598131</td>\n",
              "      <td>1</td>\n",
              "      <td>212</td>\n",
              "    </tr>\n",
              "    <tr>\n",
              "      <th>293679</th>\n",
              "      <td>0.601625</td>\n",
              "      <td>0.781916</td>\n",
              "      <td>0.978655</td>\n",
              "      <td>0.673774</td>\n",
              "      <td>0.163753</td>\n",
              "      <td>0.006579</td>\n",
              "      <td>99.065421</td>\n",
              "      <td>1</td>\n",
              "      <td>213</td>\n",
              "    </tr>\n",
              "  </tbody>\n",
              "</table>\n",
              "<p>293680 rows × 9 columns</p>\n",
              "</div>"
            ],
            "text/plain": [
              "        l_ph_hip   l_ph_fo  r_ph_hip   r_ph_fo    n_lcop    n_rcop   perc_new  \\\n",
              "0       0.638359  0.771401  0.911670  0.701423  0.163448  0.010740   0.000000   \n",
              "1       0.620058  0.768151  0.906039  0.700908  0.162116  0.012832   0.446429   \n",
              "2       0.596447  0.765283  0.900631  0.699953  0.160502  0.015089   0.892857   \n",
              "3       0.566294  0.762712  0.895437  0.698556  0.158582  0.017490   1.339286   \n",
              "4       0.529439  0.760373  0.890445  0.696702  0.156332  0.020011   1.785714   \n",
              "...          ...       ...       ...       ...       ...       ...        ...   \n",
              "293675  0.659152  0.813517  0.003671  0.666058  0.163211  0.001606  97.196262   \n",
              "293676  0.648888  0.802587  0.997556  0.669474  0.163563  0.002583  97.663551   \n",
              "293677  0.636367  0.794134  0.991333  0.671841  0.163786  0.003730  98.130841   \n",
              "293678  0.620895  0.787407  0.985027  0.673253  0.163856  0.005059  98.598131   \n",
              "293679  0.601625  0.781916  0.978655  0.673774  0.163753  0.006579  99.065421   \n",
              "\n",
              "        st_sw_phase  strike_frame  \n",
              "0                 1             1  \n",
              "1                 1             2  \n",
              "2                 1             3  \n",
              "3                 1             4  \n",
              "4                 1             5  \n",
              "...             ...           ...  \n",
              "293675            1           209  \n",
              "293676            1           210  \n",
              "293677            1           211  \n",
              "293678            1           212  \n",
              "293679            1           213  \n",
              "\n",
              "[293680 rows x 9 columns]"
            ]
          },
          "execution_count": 158,
          "metadata": {},
          "output_type": "execute_result"
        }
      ],
      "source": [
        "test_table = test_table.drop(drop_list, axis = 1)\n",
        "test_table"
      ]
    },
    {
      "cell_type": "code",
      "execution_count": 159,
      "metadata": {},
      "outputs": [],
      "source": [
        "x_test = test_table\n",
        "x_test = x_test.drop(['perc_new'], axis=1)\n",
        "scaler2 = MinMaxScaler()\n",
        "x_test_scaled = scaler2.fit_transform(x_test)\n",
        "x_test_scaled = pd.DataFrame(x_test_scaled)\n",
        "\n",
        "encode_gait_percentage(test_table, 'perc_new')\n",
        "y_test = source_table[[\"X\",\"Y\"]]\n",
        "y_test\n",
        "\n",
        "data_x_test = x_test_scaled\n"
      ]
    },
    {
      "cell_type": "code",
      "execution_count": 160,
      "metadata": {},
      "outputs": [],
      "source": [
        "#data_y_test = y_test.values.reshape(-1, 2)\n",
        "data_y_test = y_test.values"
      ]
    },
    {
      "cell_type": "code",
      "execution_count": 161,
      "metadata": {},
      "outputs": [],
      "source": [
        "test_x, test_y = convert_data(data_x_test, data_y_test, look_back, fore_cast)"
      ]
    },
    {
      "cell_type": "code",
      "execution_count": 162,
      "metadata": {},
      "outputs": [
        {
          "data": {
            "text/plain": [
              "(293669, 8)"
            ]
          },
          "execution_count": 162,
          "metadata": {},
          "output_type": "execute_result"
        }
      ],
      "source": [
        "check_point = data_x_test[11:]\n",
        "check_point.shape"
      ]
    },
    {
      "cell_type": "code",
      "execution_count": 163,
      "metadata": {},
      "outputs": [
        {
          "name": "stdout",
          "output_type": "stream",
          "text": [
            "(293669, 10, 8)\n"
          ]
        }
      ],
      "source": [
        "print(test_x.shape)"
      ]
    },
    {
      "cell_type": "code",
      "execution_count": 164,
      "metadata": {},
      "outputs": [
        {
          "name": "stdout",
          "output_type": "stream",
          "text": [
            "   1/9178 [..............................] - ETA: 5:02"
          ]
        },
        {
          "name": "stdout",
          "output_type": "stream",
          "text": [
            "9178/9178 [==============================] - 37s 4ms/step\n"
          ]
        }
      ],
      "source": [
        "test_encoded = encoder.predict(test_x)"
      ]
    },
    {
      "cell_type": "code",
      "execution_count": 165,
      "metadata": {},
      "outputs": [
        {
          "name": "stdout",
          "output_type": "stream",
          "text": [
            "Encoded time-series shape (293669, 32)\n",
            "Encoded time-series sample [-0.21838483 -0.19951108  0.1406983  -0.0618284   0.3190807   0.11974008\n",
            "  0.1843057   0.81619716 -0.03637911 -0.13963985 -0.613057   -0.23442885\n",
            " -0.1939916  -0.08239627 -0.08661512  0.16815525 -0.07348612  0.22166923\n",
            "  0.17101583  0.24784024  0.14950073 -0.14180306  0.10987338  0.07469337\n",
            " -0.11589661 -0.24705464  0.23963225  0.2893739  -0.0331614   0.10528422\n",
            "  0.3657588  -0.04675761]\n"
          ]
        }
      ],
      "source": [
        "print('Encoded time-series shape', test_encoded.shape)\n",
        "print('Encoded time-series sample', test_encoded[0])"
      ]
    },
    {
      "cell_type": "code",
      "execution_count": 166,
      "metadata": {},
      "outputs": [
        {
          "name": "stdout",
          "output_type": "stream",
          "text": [
            "  46/9178 [..............................] - ETA: 10s "
          ]
        },
        {
          "name": "stdout",
          "output_type": "stream",
          "text": [
            "9178/9178 [==============================] - 8s 916us/step\n"
          ]
        }
      ],
      "source": [
        "test_encoded_reshape = test_encoded\n",
        "\n",
        "crossPredict = mlp_model.predict(test_encoded_reshape)"
      ]
    },
    {
      "cell_type": "code",
      "execution_count": 167,
      "metadata": {},
      "outputs": [
        {
          "data": {
            "text/plain": [
              "(293669, 2)"
            ]
          },
          "execution_count": 167,
          "metadata": {},
          "output_type": "execute_result"
        }
      ],
      "source": [
        "crossPredict.shape"
      ]
    },
    {
      "cell_type": "code",
      "execution_count": 168,
      "metadata": {},
      "outputs": [
        {
          "name": "stdout",
          "output_type": "stream",
          "text": [
            "Cross Subject Score: 0.92 RMSE\n"
          ]
        }
      ],
      "source": [
        "crossScore = np.sqrt(mean_squared_error(test_y, crossPredict))\n",
        "print('Cross Subject Score: %.2f RMSE' % (crossScore))"
      ]
    },
    {
      "cell_type": "code",
      "execution_count": 169,
      "metadata": {},
      "outputs": [],
      "source": [
        "\n",
        "check_point_test = scaler.inverse_transform(check_point)\n",
        "\n",
        "predict = np.zeros((len(crossPredict),1))\n",
        "\n",
        "for iter in range(len(crossPredict)):\n",
        "  x = crossPredict[iter][0]\n",
        "  y = crossPredict[iter][1]\n",
        "  predict[iter] = ((math.atan2(y,x) + 2*math.pi) % (2*math.pi)) * (100 / (2*math.pi))\n",
        "\n",
        "\n",
        "  if ((predict[iter] >= 80) & (check_point_test[iter][-1] <= 20)) :\n",
        "    predict[iter] = predict[iter] - 100\n",
        "    \n",
        "    if abs(predict[iter]) >= 5:\n",
        "        predict[iter] = 0\n",
        "\n",
        "\n",
        "  if ((predict[iter] <= 20) & (check_point_test[iter][-1] >= 150)):\n",
        "     predict[iter] = 100 - predict[iter]\n",
        "     if abs(predict[iter]) >= 5:\n",
        "         predict[iter] = 100"
      ]
    },
    {
      "cell_type": "code",
      "execution_count": 170,
      "metadata": {},
      "outputs": [],
      "source": [
        "actual2 = np.zeros((len(test_y),1))\n",
        "\n",
        "for iter in range(len(test_y)):\n",
        "  x = test_y[iter][0]\n",
        "  y = test_y[iter][1]\n",
        "  actual2[iter] = ((math.atan2(y,x) + 2*math.pi) % (2*math.pi)) * (100 / (2*math.pi))"
      ]
    },
    {
      "cell_type": "code",
      "execution_count": 171,
      "metadata": {},
      "outputs": [
        {
          "name": "stdout",
          "output_type": "stream",
          "text": [
            "5941\n",
            "293669\n",
            "Precision  1 :  2.023025923744079\n",
            "11714\n",
            "293669\n",
            "Precision  2 :  3.988844583527713\n",
            "17674\n",
            "293669\n",
            "Precision  3 :  6.018340376410176\n",
            "23799\n",
            "293669\n",
            "Precision  4 :  8.104021874968076\n",
            "30110\n",
            "293669\n",
            "Precision  5 :  10.25303998719647\n"
          ]
        }
      ],
      "source": [
        "correct = 0\n",
        "for i in range(5):\n",
        "  correct = 0\n",
        "  for iter in range(len(actual2)):\n",
        "    #if (abs(actual[iter] - pred[iter]) <= (i+1)) or (actual[iter]>98) or(actual[iter]<3):\n",
        "      #correct+=1\n",
        "      if (abs(actual2[iter] - predict[iter]) <= (i+1)):\n",
        "        correct+=1\n",
        "\n",
        "  print(correct)\n",
        "  print(len(actual2))\n",
        "\n",
        "  print(\"Precision \", i+1, \": \", correct * 100/len(actual2))"
      ]
    },
    {
      "cell_type": "code",
      "execution_count": 172,
      "metadata": {},
      "outputs": [
        {
          "name": "stdout",
          "output_type": "stream",
          "text": [
            "Predicting Percentage RMSE:  36.9051214766643\n"
          ]
        }
      ],
      "source": [
        "perc_rmse_cross = np.sqrt(mean_squared_error(actual2, predict))\n",
        "print(\"Predicting Percentage RMSE: \", perc_rmse_cross)"
      ]
    },
    {
      "cell_type": "code",
      "execution_count": 173,
      "metadata": {},
      "outputs": [
        {
          "name": "stdout",
          "output_type": "stream",
          "text": [
            "293669\n",
            "293669\n",
            "36.905121476664824\n"
          ]
        }
      ],
      "source": [
        "rmse = 0\n",
        "length = len(actual2)\n",
        "for i in range(len(actual2)):\n",
        "\n",
        "    rmse = rmse + pow(predict[i] - actual2[i], 2)\n",
        "rmse = rmse / length\n",
        "rmse = math.sqrt(rmse)\n",
        "print(length)\n",
        "print(len(actual2))\n",
        "print(rmse)"
      ]
    },
    {
      "cell_type": "code",
      "execution_count": 174,
      "metadata": {},
      "outputs": [
        {
          "data": {
            "text/plain": [
              "Text(0.5, 1.0, 'Actual vs Prediction')"
            ]
          },
          "execution_count": 174,
          "metadata": {},
          "output_type": "execute_result"
        },
        {
          "data": {
            "image/png": "[encoded data removed]",
            "text/plain": [
              "<Figure size 432x288 with 1 Axes>"
            ]
          },
          "metadata": {
            "needs_background": "light"
          },
          "output_type": "display_data"
        }
      ],
      "source": [
        "plt.scatter(actual2, predict, facecolors='none', edgecolors='crimson',alpha=0.4)\n",
        "p1 = max(max(predict), max(actual2))\n",
        "p2 = min(min(predict), min(actual2))\n",
        "\n",
        "ci = 0.1 * np.std([p1,p2]) / np.mean([p1,p2])\n",
        "\n",
        "plt.plot([p1, p2], [p1, p2], 'b-', linewidth =3)\n",
        "plt.title('Actual vs Prediction')"
      ]
    },
    {
      "cell_type": "code",
      "execution_count": 175,
      "metadata": {},
      "outputs": [
        {
          "data": {
            "text/plain": [
              "[<matplotlib.lines.Line2D at 0x1f621f21ca0>]"
            ]
          },
          "execution_count": 175,
          "metadata": {},
          "output_type": "execute_result"
        },
        {
          "data": {
            "image/png": "[encoded data removed]",
            "text/plain": [
              "<Figure size 1440x360 with 1 Axes>"
            ]
          },
          "metadata": {
            "needs_background": "light"
          },
          "output_type": "display_data"
        }
      ],
      "source": [
        "predfig=plt.figure(figsize=(20,5))\n",
        "dif = abs(actual2-predict)\n",
        "\n",
        "plt.plot(dif,'.')"
      ]
    }
  ],
  "metadata": {
    "accelerator": "TPU",
    "colab": {
      "provenance": []
    },
    "kernelspec": {
      "display_name": "Python 3",
      "name": "python3"
    },
    "language_info": {
      "codemirror_mode": {
        "name": "ipython",
        "version": 3
      },
      "file_extension": ".py",
      "mimetype": "text/x-python",
      "name": "python",
      "nbconvert_exporter": "python",
      "pygments_lexer": "ipython3",
      "version": "3.8.10"
    }
  },
  "nbformat": 4,
  "nbformat_minor": 0
}
