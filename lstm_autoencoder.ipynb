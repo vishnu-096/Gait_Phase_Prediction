{
  "cells": [
    {
      "cell_type": "code",
      "execution_count": 1,
      "metadata": {
        "id": "oUvebjog04oW"
      },
      "outputs": [],
      "source": [
        "import numpy as np\n",
        "import pandas as pd\n",
        "import tensorflow as tf\n",
        "import matplotlib.pyplot as plt\n",
        "import math\n",
        "import time\n",
        "import os\n",
        "import sys\n",
        "import json\n",
        "\n",
        "import scipy as sp\n",
        "from scipy import signal\n",
        "\n",
        "from keras.models import Sequential\n",
        "from keras.layers import Dense\n",
        "from keras.layers import LSTM\n",
        "from keras.callbacks import EarlyStopping\n",
        "from sklearn.preprocessing import MinMaxScaler\n",
        "from sklearn.feature_selection import SelectKBest\n",
        "from sklearn.feature_selection import f_regression\n",
        "from sklearn import metrics\n",
        "from statsmodels.tsa.seasonal import seasonal_decompose\n",
        "from statsmodels.graphics.tsaplots import plot_acf\n",
        "\n",
        "from tensorflow.keras.models import Sequential\n",
        "from tensorflow.keras.layers import *\n",
        "from tensorflow.keras.callbacks import ModelCheckpoint\n",
        "from tensorflow.keras.losses import MeanSquaredError\n",
        "from tensorflow.keras.metrics import RootMeanSquaredError\n",
        "from tensorflow.keras.optimizers import Adam\n",
        "from tensorflow.keras.layers import LSTM, Dense, Dropout, TimeDistributed, Conv1D, MaxPooling1D, Flatten, Bidirectional, Input, Flatten, Activation, Reshape, RepeatVector, Concatenate\n",
        "from tensorflow.keras import Sequential\n",
        "from tensorflow.keras.layers import *\n",
        "from keras.callbacks import EarlyStopping\n",
        "import tensorflow as tf\n",
        "\n",
        "from sklearn.preprocessing import MinMaxScaler\n",
        "from sklearn.model_selection import train_test_split\n",
        "\n",
        "import os, warnings, random\n",
        "from sklearn.metrics import mean_squared_error\n",
        "from sklearn.model_selection import train_test_split\n",
        "import tensorflow as tf\n",
        "import tensorflow.keras.layers as L\n",
        "from tensorflow.keras.layers import *\n",
        "from tensorflow.keras import optimizers, Sequential, Model\n",
        "from tensorflow.keras.callbacks import LearningRateScheduler"
      ]
    },
    {
      "cell_type": "code",
      "execution_count": 2,
      "metadata": {
        "id": "ieOMqQ_o04oZ"
      },
      "outputs": [],
      "source": [
        "SEED = 13\n",
        "tf.random.set_seed(SEED)"
      ]
    },
    {
      "cell_type": "code",
      "execution_count": 3,
      "metadata": {
        "id": "PKm1uOiX04oa"
      },
      "outputs": [],
      "source": [
        "def encode_gait_percentage(df, name):\n",
        "  percent = df[name].values.tolist()\n",
        "  X = np.zeros((len(df[name]),1))\n",
        "  Y = np.zeros((len(df[name]),1))\n",
        "  for i in range (len(percent)): \n",
        "    phi = percent[i] * 2 * math.pi / 100\n",
        "    X[i] = math.cos(phi)\n",
        "    Y[i] = math.sin(phi)\n",
        "  df['X'] = X\n",
        "  df['Y'] = Y"
      ]
    },
    {
      "cell_type": "code",
      "execution_count": 4,
      "metadata": {
        "id": "PiqdGzio04oj"
      },
      "outputs": [],
      "source": [
        "def convert_data(d_x, d_y, look_back = 1, fore_cast = 1):\n",
        "    dataX = []\n",
        "    dataY = []\n",
        "\n",
        "    for i in range(look_back, len(d_x) - fore_cast):\n",
        "        dataX.append(d_x[i - look_back: i]) \n",
        "        dataY.append(d_y[i + fore_cast,:])\n",
        "    \n",
        "    return np.array(dataX), np.array(dataY)"
      ]
    },
    {
      "cell_type": "code",
      "execution_count": 6,
      "metadata": {},
      "outputs": [
        {
          "name": "stdout",
          "output_type": "stream",
          "text": [
            "c:\\Users\\Admin\\Desktop\\Neurorobotic Lab\\Data_Code\n"
          ]
        }
      ],
      "source": [
        "working_dir = os.path.dirname(os.getcwd())\n",
        "sys_platform = sys.platform\n",
        "excel_path_dict = {'linux' : \"/csvs/\", 'win32' : \"\\Data\\Incline\\SKS\\\\\"}\n",
        "excel_path_name = excel_path_dict[sys_platform]\n",
        "\n",
        "directory_path = working_dir \n",
        "print(directory_path)\n",
        "excel_path = directory_path + excel_path_name\n"
      ]
    },
    {
      "cell_type": "code",
      "execution_count": 7,
      "metadata": {},
      "outputs": [],
      "source": [
        "#inclined_files = ['SKS_2_I.xlsx',  'SKS_3_I.xlsx',  'SKS_4_I.xlsx','SKS_5_I.xlsx', 'SD_2_I.xlsx',  'SD_3_I.xlsx',  'SD_4_I.xlsx','SD_5_I.xlsx']\n",
        "file_name = ['SKS_2_I.xlsx', 'SKS_3_I.xlsx','SKS_0_I.xlsx', 'SKS_5_I.xlsx','SKS_4_I.xlsx']\n",
        "\n",
        "file_list=[]\n",
        "\n",
        "for i in range (len(file_name)):\n",
        "    file_list.append(pd.read_excel(excel_path + file_name[i], sheet_name='Sheet1'))\n",
        "\n",
        "import random\n",
        "random.shuffle(file_list)\n",
        "\n",
        "all_data = pd.concat(file_list, axis=0, ignore_index=True)\n"
      ]
    },
    {
      "cell_type": "code",
      "execution_count": 8,
      "metadata": {},
      "outputs": [
        {
          "name": "stdout",
          "output_type": "stream",
          "text": [
            "<class 'pandas.core.frame.DataFrame'>\n",
            "RangeIndex: 294657 entries, 0 to 294656\n",
            "Data columns (total 12 columns):\n",
            " #   Column        Non-Null Count   Dtype  \n",
            "---  ------        --------------   -----  \n",
            " 0   l_ph_ank      294657 non-null  float64\n",
            " 1   l_ph_fo       294657 non-null  float64\n",
            " 2   l_ph_hip      294657 non-null  float64\n",
            " 3   n_lcop        294657 non-null  float64\n",
            " 4   n_lgrf        294657 non-null  float64\n",
            " 5   n_rcop        294657 non-null  float64\n",
            " 6   n_rgrf        294657 non-null  float64\n",
            " 7   perc_new      294657 non-null  float64\n",
            " 8   r_ph_ank      294657 non-null  float64\n",
            " 9   r_ph_fo       294657 non-null  float64\n",
            " 10  r_ph_hip      294657 non-null  float64\n",
            " 11  strike_frame  294657 non-null  int64  \n",
            "dtypes: float64(11), int64(1)\n",
            "memory usage: 27.0 MB\n"
          ]
        }
      ],
      "source": [
        "all_data.info()"
      ]
    },
    {
      "cell_type": "code",
      "execution_count": 9,
      "metadata": {},
      "outputs": [
        {
          "data": {
            "text/html": [
              "<div>\n",
              "<style scoped>\n",
              "    .dataframe tbody tr th:only-of-type {\n",
              "        vertical-align: middle;\n",
              "    }\n",
              "\n",
              "    .dataframe tbody tr th {\n",
              "        vertical-align: top;\n",
              "    }\n",
              "\n",
              "    .dataframe thead th {\n",
              "        text-align: right;\n",
              "    }\n",
              "</style>\n",
              "<table border=\"1\" class=\"dataframe\">\n",
              "  <thead>\n",
              "    <tr style=\"text-align: right;\">\n",
              "      <th></th>\n",
              "      <th>l_ph_ank</th>\n",
              "      <th>l_ph_fo</th>\n",
              "      <th>l_ph_hip</th>\n",
              "      <th>n_lcop</th>\n",
              "      <th>n_lgrf</th>\n",
              "      <th>n_rcop</th>\n",
              "      <th>n_rgrf</th>\n",
              "      <th>perc_new</th>\n",
              "      <th>r_ph_ank</th>\n",
              "      <th>r_ph_fo</th>\n",
              "      <th>r_ph_hip</th>\n",
              "      <th>strike_frame</th>\n",
              "    </tr>\n",
              "  </thead>\n",
              "  <tbody>\n",
              "    <tr>\n",
              "      <th>0</th>\n",
              "      <td>0.784569</td>\n",
              "      <td>0.704076</td>\n",
              "      <td>0.925156</td>\n",
              "      <td>0.072901</td>\n",
              "      <td>0.024335</td>\n",
              "      <td>0.928232</td>\n",
              "      <td>0.869968</td>\n",
              "      <td>0.000000</td>\n",
              "      <td>0.747553</td>\n",
              "      <td>0.775148</td>\n",
              "      <td>0.657878</td>\n",
              "      <td>1</td>\n",
              "    </tr>\n",
              "    <tr>\n",
              "      <th>1</th>\n",
              "      <td>0.780402</td>\n",
              "      <td>0.700581</td>\n",
              "      <td>0.921260</td>\n",
              "      <td>0.086464</td>\n",
              "      <td>0.038102</td>\n",
              "      <td>0.930349</td>\n",
              "      <td>0.860739</td>\n",
              "      <td>0.448430</td>\n",
              "      <td>0.746286</td>\n",
              "      <td>0.771666</td>\n",
              "      <td>0.645275</td>\n",
              "      <td>2</td>\n",
              "    </tr>\n",
              "    <tr>\n",
              "      <th>2</th>\n",
              "      <td>0.776891</td>\n",
              "      <td>0.696279</td>\n",
              "      <td>0.917522</td>\n",
              "      <td>0.101879</td>\n",
              "      <td>0.055124</td>\n",
              "      <td>0.931300</td>\n",
              "      <td>0.849147</td>\n",
              "      <td>0.896861</td>\n",
              "      <td>0.745075</td>\n",
              "      <td>0.768584</td>\n",
              "      <td>0.629093</td>\n",
              "      <td>3</td>\n",
              "    </tr>\n",
              "    <tr>\n",
              "      <th>3</th>\n",
              "      <td>0.773870</td>\n",
              "      <td>0.690952</td>\n",
              "      <td>0.913916</td>\n",
              "      <td>0.119179</td>\n",
              "      <td>0.075486</td>\n",
              "      <td>0.931008</td>\n",
              "      <td>0.835048</td>\n",
              "      <td>1.345291</td>\n",
              "      <td>0.743909</td>\n",
              "      <td>0.765830</td>\n",
              "      <td>0.608004</td>\n",
              "      <td>4</td>\n",
              "    </tr>\n",
              "    <tr>\n",
              "      <th>4</th>\n",
              "      <td>0.771223</td>\n",
              "      <td>0.684283</td>\n",
              "      <td>0.910416</td>\n",
              "      <td>0.138356</td>\n",
              "      <td>0.099007</td>\n",
              "      <td>0.929413</td>\n",
              "      <td>0.818313</td>\n",
              "      <td>1.793722</td>\n",
              "      <td>0.742778</td>\n",
              "      <td>0.763343</td>\n",
              "      <td>0.580463</td>\n",
              "      <td>5</td>\n",
              "    </tr>\n",
              "    <tr>\n",
              "      <th>...</th>\n",
              "      <td>...</td>\n",
              "      <td>...</td>\n",
              "      <td>...</td>\n",
              "      <td>...</td>\n",
              "      <td>...</td>\n",
              "      <td>...</td>\n",
              "      <td>...</td>\n",
              "      <td>...</td>\n",
              "      <td>...</td>\n",
              "      <td>...</td>\n",
              "      <td>...</td>\n",
              "      <td>...</td>\n",
              "    </tr>\n",
              "    <tr>\n",
              "      <th>293396</th>\n",
              "      <td>0.849499</td>\n",
              "      <td>0.738950</td>\n",
              "      <td>0.991208</td>\n",
              "      <td>0.041392</td>\n",
              "      <td>0.000000</td>\n",
              "      <td>0.932547</td>\n",
              "      <td>0.917721</td>\n",
              "      <td>97.474747</td>\n",
              "      <td>0.765466</td>\n",
              "      <td>0.773760</td>\n",
              "      <td>0.682299</td>\n",
              "      <td>194</td>\n",
              "    </tr>\n",
              "    <tr>\n",
              "      <th>293397</th>\n",
              "      <td>0.826018</td>\n",
              "      <td>0.737681</td>\n",
              "      <td>0.981863</td>\n",
              "      <td>0.047789</td>\n",
              "      <td>0.000000</td>\n",
              "      <td>0.936466</td>\n",
              "      <td>0.920527</td>\n",
              "      <td>97.979798</td>\n",
              "      <td>0.762974</td>\n",
              "      <td>0.769079</td>\n",
              "      <td>0.672711</td>\n",
              "      <td>195</td>\n",
              "    </tr>\n",
              "    <tr>\n",
              "      <th>293398</th>\n",
              "      <td>0.810889</td>\n",
              "      <td>0.736263</td>\n",
              "      <td>0.972774</td>\n",
              "      <td>0.055346</td>\n",
              "      <td>0.000000</td>\n",
              "      <td>0.939760</td>\n",
              "      <td>0.920682</td>\n",
              "      <td>98.484848</td>\n",
              "      <td>0.760692</td>\n",
              "      <td>0.765356</td>\n",
              "      <td>0.660591</td>\n",
              "      <td>196</td>\n",
              "    </tr>\n",
              "    <tr>\n",
              "      <th>293399</th>\n",
              "      <td>0.800400</td>\n",
              "      <td>0.734681</td>\n",
              "      <td>0.963995</td>\n",
              "      <td>0.064142</td>\n",
              "      <td>0.000000</td>\n",
              "      <td>0.942334</td>\n",
              "      <td>0.918158</td>\n",
              "      <td>98.989899</td>\n",
              "      <td>0.758591</td>\n",
              "      <td>0.762299</td>\n",
              "      <td>0.644863</td>\n",
              "      <td>197</td>\n",
              "    </tr>\n",
              "    <tr>\n",
              "      <th>293400</th>\n",
              "      <td>0.792688</td>\n",
              "      <td>0.732913</td>\n",
              "      <td>0.955568</td>\n",
              "      <td>0.074241</td>\n",
              "      <td>0.000000</td>\n",
              "      <td>0.944096</td>\n",
              "      <td>0.912902</td>\n",
              "      <td>99.494949</td>\n",
              "      <td>0.756647</td>\n",
              "      <td>0.759721</td>\n",
              "      <td>0.623946</td>\n",
              "      <td>198</td>\n",
              "    </tr>\n",
              "  </tbody>\n",
              "</table>\n",
              "<p>293401 rows × 12 columns</p>\n",
              "</div>"
            ],
            "text/plain": [
              "        l_ph_ank   l_ph_fo  l_ph_hip    n_lcop    n_lgrf    n_rcop    n_rgrf  \\\n",
              "0       0.784569  0.704076  0.925156  0.072901  0.024335  0.928232  0.869968   \n",
              "1       0.780402  0.700581  0.921260  0.086464  0.038102  0.930349  0.860739   \n",
              "2       0.776891  0.696279  0.917522  0.101879  0.055124  0.931300  0.849147   \n",
              "3       0.773870  0.690952  0.913916  0.119179  0.075486  0.931008  0.835048   \n",
              "4       0.771223  0.684283  0.910416  0.138356  0.099007  0.929413  0.818313   \n",
              "...          ...       ...       ...       ...       ...       ...       ...   \n",
              "293396  0.849499  0.738950  0.991208  0.041392  0.000000  0.932547  0.917721   \n",
              "293397  0.826018  0.737681  0.981863  0.047789  0.000000  0.936466  0.920527   \n",
              "293398  0.810889  0.736263  0.972774  0.055346  0.000000  0.939760  0.920682   \n",
              "293399  0.800400  0.734681  0.963995  0.064142  0.000000  0.942334  0.918158   \n",
              "293400  0.792688  0.732913  0.955568  0.074241  0.000000  0.944096  0.912902   \n",
              "\n",
              "         perc_new  r_ph_ank   r_ph_fo  r_ph_hip  strike_frame  \n",
              "0        0.000000  0.747553  0.775148  0.657878             1  \n",
              "1        0.448430  0.746286  0.771666  0.645275             2  \n",
              "2        0.896861  0.745075  0.768584  0.629093             3  \n",
              "3        1.345291  0.743909  0.765830  0.608004             4  \n",
              "4        1.793722  0.742778  0.763343  0.580463             5  \n",
              "...           ...       ...       ...       ...           ...  \n",
              "293396  97.474747  0.765466  0.773760  0.682299           194  \n",
              "293397  97.979798  0.762974  0.769079  0.672711           195  \n",
              "293398  98.484848  0.760692  0.765356  0.660591           196  \n",
              "293399  98.989899  0.758591  0.762299  0.644863           197  \n",
              "293400  99.494949  0.756647  0.759721  0.623946           198  \n",
              "\n",
              "[293401 rows x 12 columns]"
            ]
          },
          "execution_count": 9,
          "metadata": {},
          "output_type": "execute_result"
        }
      ],
      "source": [
        "cycle = 0\n",
        "cycle_list = []\n",
        "\n",
        "start = 0\n",
        "\n",
        "for i in range(len(all_data)):\n",
        "    if (all_data['perc_new'][i] == 100):\n",
        "        cycle += 1\n",
        "        cycle_list.append(all_data.iloc[start:i])\n",
        "        start = i+1\n",
        "\n",
        "random.shuffle(cycle_list)\n",
        "source_table = pd.concat(cycle_list, axis=0, ignore_index=True)\n",
        "\n",
        "source_table\n",
        "        "
      ]
    },
    {
      "cell_type": "code",
      "execution_count": 10,
      "metadata": {},
      "outputs": [
        {
          "data": {
            "text/html": [
              "<div>\n",
              "<style scoped>\n",
              "    .dataframe tbody tr th:only-of-type {\n",
              "        vertical-align: middle;\n",
              "    }\n",
              "\n",
              "    .dataframe tbody tr th {\n",
              "        vertical-align: top;\n",
              "    }\n",
              "\n",
              "    .dataframe thead th {\n",
              "        text-align: right;\n",
              "    }\n",
              "</style>\n",
              "<table border=\"1\" class=\"dataframe\">\n",
              "  <thead>\n",
              "    <tr style=\"text-align: right;\">\n",
              "      <th></th>\n",
              "      <th>l_ph_ank</th>\n",
              "      <th>l_ph_fo</th>\n",
              "      <th>l_ph_hip</th>\n",
              "      <th>n_lcop</th>\n",
              "      <th>n_rcop</th>\n",
              "      <th>perc_new</th>\n",
              "      <th>r_ph_ank</th>\n",
              "      <th>r_ph_fo</th>\n",
              "      <th>r_ph_hip</th>\n",
              "      <th>strike_frame</th>\n",
              "    </tr>\n",
              "  </thead>\n",
              "  <tbody>\n",
              "    <tr>\n",
              "      <th>0</th>\n",
              "      <td>0.784569</td>\n",
              "      <td>0.704076</td>\n",
              "      <td>0.925156</td>\n",
              "      <td>0.072901</td>\n",
              "      <td>0.928232</td>\n",
              "      <td>0.000000</td>\n",
              "      <td>0.747553</td>\n",
              "      <td>0.775148</td>\n",
              "      <td>0.657878</td>\n",
              "      <td>1</td>\n",
              "    </tr>\n",
              "    <tr>\n",
              "      <th>1</th>\n",
              "      <td>0.780402</td>\n",
              "      <td>0.700581</td>\n",
              "      <td>0.921260</td>\n",
              "      <td>0.086464</td>\n",
              "      <td>0.930349</td>\n",
              "      <td>0.448430</td>\n",
              "      <td>0.746286</td>\n",
              "      <td>0.771666</td>\n",
              "      <td>0.645275</td>\n",
              "      <td>2</td>\n",
              "    </tr>\n",
              "    <tr>\n",
              "      <th>2</th>\n",
              "      <td>0.776891</td>\n",
              "      <td>0.696279</td>\n",
              "      <td>0.917522</td>\n",
              "      <td>0.101879</td>\n",
              "      <td>0.931300</td>\n",
              "      <td>0.896861</td>\n",
              "      <td>0.745075</td>\n",
              "      <td>0.768584</td>\n",
              "      <td>0.629093</td>\n",
              "      <td>3</td>\n",
              "    </tr>\n",
              "    <tr>\n",
              "      <th>3</th>\n",
              "      <td>0.773870</td>\n",
              "      <td>0.690952</td>\n",
              "      <td>0.913916</td>\n",
              "      <td>0.119179</td>\n",
              "      <td>0.931008</td>\n",
              "      <td>1.345291</td>\n",
              "      <td>0.743909</td>\n",
              "      <td>0.765830</td>\n",
              "      <td>0.608004</td>\n",
              "      <td>4</td>\n",
              "    </tr>\n",
              "    <tr>\n",
              "      <th>4</th>\n",
              "      <td>0.771223</td>\n",
              "      <td>0.684283</td>\n",
              "      <td>0.910416</td>\n",
              "      <td>0.138356</td>\n",
              "      <td>0.929413</td>\n",
              "      <td>1.793722</td>\n",
              "      <td>0.742778</td>\n",
              "      <td>0.763343</td>\n",
              "      <td>0.580463</td>\n",
              "      <td>5</td>\n",
              "    </tr>\n",
              "    <tr>\n",
              "      <th>...</th>\n",
              "      <td>...</td>\n",
              "      <td>...</td>\n",
              "      <td>...</td>\n",
              "      <td>...</td>\n",
              "      <td>...</td>\n",
              "      <td>...</td>\n",
              "      <td>...</td>\n",
              "      <td>...</td>\n",
              "      <td>...</td>\n",
              "      <td>...</td>\n",
              "    </tr>\n",
              "    <tr>\n",
              "      <th>293396</th>\n",
              "      <td>0.849499</td>\n",
              "      <td>0.738950</td>\n",
              "      <td>0.991208</td>\n",
              "      <td>0.041392</td>\n",
              "      <td>0.932547</td>\n",
              "      <td>97.474747</td>\n",
              "      <td>0.765466</td>\n",
              "      <td>0.773760</td>\n",
              "      <td>0.682299</td>\n",
              "      <td>194</td>\n",
              "    </tr>\n",
              "    <tr>\n",
              "      <th>293397</th>\n",
              "      <td>0.826018</td>\n",
              "      <td>0.737681</td>\n",
              "      <td>0.981863</td>\n",
              "      <td>0.047789</td>\n",
              "      <td>0.936466</td>\n",
              "      <td>97.979798</td>\n",
              "      <td>0.762974</td>\n",
              "      <td>0.769079</td>\n",
              "      <td>0.672711</td>\n",
              "      <td>195</td>\n",
              "    </tr>\n",
              "    <tr>\n",
              "      <th>293398</th>\n",
              "      <td>0.810889</td>\n",
              "      <td>0.736263</td>\n",
              "      <td>0.972774</td>\n",
              "      <td>0.055346</td>\n",
              "      <td>0.939760</td>\n",
              "      <td>98.484848</td>\n",
              "      <td>0.760692</td>\n",
              "      <td>0.765356</td>\n",
              "      <td>0.660591</td>\n",
              "      <td>196</td>\n",
              "    </tr>\n",
              "    <tr>\n",
              "      <th>293399</th>\n",
              "      <td>0.800400</td>\n",
              "      <td>0.734681</td>\n",
              "      <td>0.963995</td>\n",
              "      <td>0.064142</td>\n",
              "      <td>0.942334</td>\n",
              "      <td>98.989899</td>\n",
              "      <td>0.758591</td>\n",
              "      <td>0.762299</td>\n",
              "      <td>0.644863</td>\n",
              "      <td>197</td>\n",
              "    </tr>\n",
              "    <tr>\n",
              "      <th>293400</th>\n",
              "      <td>0.792688</td>\n",
              "      <td>0.732913</td>\n",
              "      <td>0.955568</td>\n",
              "      <td>0.074241</td>\n",
              "      <td>0.944096</td>\n",
              "      <td>99.494949</td>\n",
              "      <td>0.756647</td>\n",
              "      <td>0.759721</td>\n",
              "      <td>0.623946</td>\n",
              "      <td>198</td>\n",
              "    </tr>\n",
              "  </tbody>\n",
              "</table>\n",
              "<p>293401 rows × 10 columns</p>\n",
              "</div>"
            ],
            "text/plain": [
              "        l_ph_ank   l_ph_fo  l_ph_hip    n_lcop    n_rcop   perc_new  r_ph_ank  \\\n",
              "0       0.784569  0.704076  0.925156  0.072901  0.928232   0.000000  0.747553   \n",
              "1       0.780402  0.700581  0.921260  0.086464  0.930349   0.448430  0.746286   \n",
              "2       0.776891  0.696279  0.917522  0.101879  0.931300   0.896861  0.745075   \n",
              "3       0.773870  0.690952  0.913916  0.119179  0.931008   1.345291  0.743909   \n",
              "4       0.771223  0.684283  0.910416  0.138356  0.929413   1.793722  0.742778   \n",
              "...          ...       ...       ...       ...       ...        ...       ...   \n",
              "293396  0.849499  0.738950  0.991208  0.041392  0.932547  97.474747  0.765466   \n",
              "293397  0.826018  0.737681  0.981863  0.047789  0.936466  97.979798  0.762974   \n",
              "293398  0.810889  0.736263  0.972774  0.055346  0.939760  98.484848  0.760692   \n",
              "293399  0.800400  0.734681  0.963995  0.064142  0.942334  98.989899  0.758591   \n",
              "293400  0.792688  0.732913  0.955568  0.074241  0.944096  99.494949  0.756647   \n",
              "\n",
              "         r_ph_fo  r_ph_hip  strike_frame  \n",
              "0       0.775148  0.657878             1  \n",
              "1       0.771666  0.645275             2  \n",
              "2       0.768584  0.629093             3  \n",
              "3       0.765830  0.608004             4  \n",
              "4       0.763343  0.580463             5  \n",
              "...          ...       ...           ...  \n",
              "293396  0.773760  0.682299           194  \n",
              "293397  0.769079  0.672711           195  \n",
              "293398  0.765356  0.660591           196  \n",
              "293399  0.762299  0.644863           197  \n",
              "293400  0.759721  0.623946           198  \n",
              "\n",
              "[293401 rows x 10 columns]"
            ]
          },
          "execution_count": 10,
          "metadata": {},
          "output_type": "execute_result"
        }
      ],
      "source": [
        "source_table = source_table.drop([\"n_lgrf\",\"n_rgrf\"], axis = 1)\n",
        "source_table"
      ]
    },
    {
      "cell_type": "code",
      "execution_count": 11,
      "metadata": {},
      "outputs": [],
      "source": [
        "x = source_table\n",
        "x = x.drop(['perc_new'], axis=1)\n",
        "scaler = MinMaxScaler()\n",
        "x_scaled = scaler.fit_transform(x)\n",
        "x_scaled = pd.DataFrame(x_scaled)\n",
        "\n",
        "encode_gait_percentage(source_table, 'perc_new')\n",
        "y = source_table[[\"X\",\"Y\"]]\n",
        "y\n",
        "\n",
        "data_x = x_scaled\n"
      ]
    },
    {
      "cell_type": "code",
      "execution_count": 12,
      "metadata": {},
      "outputs": [],
      "source": [
        "data_y = y.values.reshape(-1,2)"
      ]
    },
    {
      "cell_type": "code",
      "execution_count": 13,
      "metadata": {},
      "outputs": [
        {
          "data": {
            "text/plain": [
              "numpy.ndarray"
            ]
          },
          "execution_count": 13,
          "metadata": {},
          "output_type": "execute_result"
        }
      ],
      "source": [
        "type(data_y)"
      ]
    },
    {
      "cell_type": "code",
      "execution_count": 15,
      "metadata": {
        "colab": {
          "base_uri": "https://localhost:8080/"
        },
        "id": "BMTNkMouLdlD",
        "outputId": "45d64d3b-5dbe-4c9f-fe00-c6df30582937"
      },
      "outputs": [],
      "source": [
        "\n",
        "#data_x,data_y= shuffle_multiple_datasets_based_on_gait_cycle( file_name, excel_path)\n",
        "\n",
        "X_train, X_test,y_train, y_test = train_test_split(data_x, data_y ,\n",
        "                        test_size=0.25, \n",
        "                        shuffle=False)\n",
        "look_back = 10\n",
        "fore_cast = 1\n",
        "\n",
        "train_x, train_y = convert_data(X_train, y_train, look_back, fore_cast)\n",
        "validation_x, validation_y = convert_data(X_test, y_test, look_back, fore_cast)\n"
      ]
    },
    {
      "cell_type": "code",
      "execution_count": 16,
      "metadata": {
        "colab": {
          "base_uri": "https://localhost:8080/"
        },
        "id": "LCK0YESF04ok",
        "outputId": "7ae58506-6e1d-4903-8589-57adc023abe3"
      },
      "outputs": [
        {
          "name": "stdout",
          "output_type": "stream",
          "text": [
            "(220039, 10, 9)\n",
            "(220039, 2)\n",
            "(73340, 10, 9)\n",
            "(73340, 2)\n"
          ]
        }
      ],
      "source": [
        "print(train_x.shape)\n",
        "print(train_y.shape)\n",
        "print(validation_x.shape)\n",
        "print(validation_y.shape)\n"
      ]
    },
    {
      "cell_type": "code",
      "execution_count": 19,
      "metadata": {},
      "outputs": [
        {
          "data": {
            "text/plain": [
              "(220039, 10, 9)"
            ]
          },
          "execution_count": 19,
          "metadata": {},
          "output_type": "execute_result"
        }
      ],
      "source": [
        "train_x.shape"
      ]
    },
    {
      "cell_type": "code",
      "execution_count": 20,
      "metadata": {
        "colab": {
          "base_uri": "https://localhost:8080/"
        },
        "id": "_pUL_UtrTApY",
        "outputId": "854d0904-697f-46aa-8037-3216b2d0d1c5"
      },
      "outputs": [
        {
          "name": "stdout",
          "output_type": "stream",
          "text": [
            "(7333, 10, 9)\n",
            "(7333, 2)\n"
          ]
        }
      ],
      "source": [
        "n1=validation_x.shape[0]\n",
        "val_x=validation_x[1:int(n1/10),:]\n",
        "val_y=validation_y[1:int(n1/10),:]\n",
        "print(val_x.shape)\n",
        "print(val_y.shape)"
      ]
    },
    {
      "cell_type": "code",
      "execution_count": 21,
      "metadata": {
        "id": "2XNguV6NOqik"
      },
      "outputs": [],
      "source": [
        "\n"
      ]
    },
    {
      "cell_type": "code",
      "execution_count": 22,
      "metadata": {
        "id": "e4ZAv3Stvsat"
      },
      "outputs": [],
      "source": [
        "def step_decay(epoch):\n",
        "\tinitial_lrate = 0.001\n",
        "\tdrop = 0.005\n",
        "\tepochs_drop = 10\n",
        "\tlrate=initial_lrate - 0.00001 \n",
        "\t# lrate = initial_lrate * math.pow(drop, math.floor((1+epoch)/epochs_drop))\n",
        "\treturn lrate\n"
      ]
    },
    {
      "cell_type": "code",
      "execution_count": 23,
      "metadata": {
        "colab": {
          "base_uri": "https://localhost:8080/"
        },
        "id": "6NCaFbl4ddC3",
        "outputId": "caf772c8-c521-4d17-e73e-e1549c05bb98"
      },
      "outputs": [
        {
          "name": "stdout",
          "output_type": "stream",
          "text": [
            "Model: \"sequential\"\n",
            "_________________________________________________________________\n",
            " Layer (type)                Output Shape              Param #   \n",
            "=================================================================\n",
            " conv1d (Conv1D)             (None, 10, 32)            896       \n",
            "                                                                 \n",
            " average_pooling1d (AverageP  (None, 3, 32)            0         \n",
            " ooling1D)                                                       \n",
            "                                                                 \n",
            " lstm (LSTM)                 (None, 3, 32)             8320      \n",
            "                                                                 \n",
            " lstm_1 (LSTM)               (None, 16)                3136      \n",
            "                                                                 \n",
            " repeat_vector (RepeatVector  (None, 10, 16)           0         \n",
            " )                                                               \n",
            "                                                                 \n",
            " lstm_2 (LSTM)               (None, 10, 16)            2112      \n",
            "                                                                 \n",
            " lstm_3 (LSTM)               (None, 10, 32)            6272      \n",
            "                                                                 \n",
            " time_distributed (TimeDistr  (None, 10, 9)            297       \n",
            " ibuted)                                                         \n",
            "                                                                 \n",
            "=================================================================\n",
            "Total params: 21,033\n",
            "Trainable params: 21,033\n",
            "Non-trainable params: 0\n",
            "_________________________________________________________________\n"
          ]
        }
      ],
      "source": [
        "lr = 0.001\n",
        "epochs = 20\n",
        "batch = 128\n",
        "\n",
        "serie_size = train_x.shape[1]\n",
        "n_features = train_x.shape[2]\n",
        "enc_dec_1 = Sequential()\n",
        "enc_dec_1.add(InputLayer((10, train_x.shape[2])))\n",
        "enc_dec_1.add(Conv1D(filters=32, kernel_size=3,strides=1,\n",
        "    activation='relu', padding='same'))            \n",
        "enc_dec_1.add(AveragePooling1D(pool_size=3))\n",
        "# enc_dec_1.add(RepeatVector(10))\n",
        "\n",
        "enc_dec_1.add(LSTM(32,  return_sequences=True))\n",
        "enc_dec_1.add(LSTM(16,  activation='relu'))\n",
        "enc_dec_1.add(L.RepeatVector((10)))\n",
        "enc_dec_1.add(LSTM(16,  return_sequences=True))\n",
        "enc_dec_1.add(LSTM(32,  activation='relu', return_sequences=True))\n",
        "enc_dec_1.add(L.TimeDistributed(L.Dense(n_features)))\n",
        "\n",
        "\n",
        "enc_dec_1.summary()\n",
        "adam = optimizers.Adam(lr)\n",
        "enc_dec_1.compile(loss='mse', optimizer=adam)"
      ]
    },
    {
      "cell_type": "code",
      "execution_count": 24,
      "metadata": {
        "colab": {
          "base_uri": "https://localhost:8080/"
        },
        "id": "yq0IMOScte_U",
        "outputId": "16097337-99d4-4859-8c76-dc3ce81de69d"
      },
      "outputs": [
        {
          "name": "stdout",
          "output_type": "stream",
          "text": [
            "Epoch 1/20\n",
            "1720/1720 [==============================] - 20s 9ms/step - loss: 0.0175\n",
            "Epoch 2/20\n",
            "1720/1720 [==============================] - 15s 9ms/step - loss: 0.0048\n",
            "Epoch 3/20\n",
            "1720/1720 [==============================] - 15s 9ms/step - loss: 0.0039\n",
            "Epoch 4/20\n",
            "1720/1720 [==============================] - 16s 9ms/step - loss: 0.0033\n",
            "Epoch 5/20\n",
            "1720/1720 [==============================] - 16s 9ms/step - loss: 0.0028\n",
            "Epoch 6/20\n",
            "1720/1720 [==============================] - 15s 9ms/step - loss: 0.0025\n",
            "Epoch 7/20\n",
            "1720/1720 [==============================] - 15s 9ms/step - loss: 0.0022\n",
            "Epoch 8/20\n",
            "1720/1720 [==============================] - 15s 9ms/step - loss: 0.0020\n",
            "Epoch 9/20\n",
            "1720/1720 [==============================] - 15s 9ms/step - loss: 0.0019\n",
            "Epoch 10/20\n",
            "1720/1720 [==============================] - 15s 9ms/step - loss: 0.0017\n",
            "Epoch 11/20\n",
            "1720/1720 [==============================] - 15s 9ms/step - loss: 0.0016\n",
            "Epoch 12/20\n",
            "1720/1720 [==============================] - 15s 9ms/step - loss: 0.0015\n",
            "Epoch 13/20\n",
            "1720/1720 [==============================] - 15s 9ms/step - loss: 0.0014\n",
            "Epoch 14/20\n",
            "1720/1720 [==============================] - 15s 9ms/step - loss: 0.0013\n",
            "Epoch 15/20\n",
            "1720/1720 [==============================] - 15s 9ms/step - loss: 0.0013\n",
            "Epoch 16/20\n",
            "1720/1720 [==============================] - 15s 9ms/step - loss: 0.0012\n",
            "Epoch 17/20\n",
            "1720/1720 [==============================] - 16s 9ms/step - loss: 0.0011\n",
            "Epoch 18/20\n",
            "1720/1720 [==============================] - 15s 9ms/step - loss: 0.0011\n",
            "Epoch 19/20\n",
            "1720/1720 [==============================] - 15s 9ms/step - loss: 0.0010\n",
            "Epoch 20/20\n",
            "1720/1720 [==============================] - 16s 9ms/step - loss: 9.8330e-04\n"
          ]
        }
      ],
      "source": [
        "encoder_decoder_history = enc_dec_1.fit(train_x, train_x, \n",
        "                                              batch_size=batch, \n",
        "                                              epochs=epochs, \n",
        "                                              verbose=1)"
      ]
    },
    {
      "cell_type": "code",
      "execution_count": 25,
      "metadata": {
        "colab": {
          "base_uri": "https://localhost:8080/"
        },
        "id": "vhnFIj9ZylbJ",
        "outputId": "f000f77a-3249-4347-82ff-c913669c6d76"
      },
      "outputs": [
        {
          "name": "stdout",
          "output_type": "stream",
          "text": [
            "6877/6877 [==============================] - 11s 2ms/step\n",
            "2292/2292 [==============================] - 4s 2ms/step\n",
            "Encoded time-series shape (220039, 10, 16)\n",
            "Encoded time-series sample [[0.9567162  3.308762   3.984535   0.48509932 1.8581126  0.6546353\n",
            "  2.799475   0.7309456  3.4313571  0.         0.27379382 5.0141277\n",
            "  2.0521095  6.3088083  2.3577802  6.5664988 ]\n",
            " [0.9567162  3.308762   3.984535   0.48509932 1.8581126  0.6546353\n",
            "  2.799475   0.7309456  3.4313571  0.         0.27379382 5.0141277\n",
            "  2.0521095  6.3088083  2.3577802  6.5664988 ]\n",
            " [0.9567162  3.308762   3.984535   0.48509932 1.8581126  0.6546353\n",
            "  2.799475   0.7309456  3.4313571  0.         0.27379382 5.0141277\n",
            "  2.0521095  6.3088083  2.3577802  6.5664988 ]\n",
            " [0.9567162  3.308762   3.984535   0.48509932 1.8581126  0.6546353\n",
            "  2.799475   0.7309456  3.4313571  0.         0.27379382 5.0141277\n",
            "  2.0521095  6.3088083  2.3577802  6.5664988 ]\n",
            " [0.9567162  3.308762   3.984535   0.48509932 1.8581126  0.6546353\n",
            "  2.799475   0.7309456  3.4313571  0.         0.27379382 5.0141277\n",
            "  2.0521095  6.3088083  2.3577802  6.5664988 ]\n",
            " [0.9567162  3.308762   3.984535   0.48509932 1.8581126  0.6546353\n",
            "  2.799475   0.7309456  3.4313571  0.         0.27379382 5.0141277\n",
            "  2.0521095  6.3088083  2.3577802  6.5664988 ]\n",
            " [0.9567162  3.308762   3.984535   0.48509932 1.8581126  0.6546353\n",
            "  2.799475   0.7309456  3.4313571  0.         0.27379382 5.0141277\n",
            "  2.0521095  6.3088083  2.3577802  6.5664988 ]\n",
            " [0.9567162  3.308762   3.984535   0.48509932 1.8581126  0.6546353\n",
            "  2.799475   0.7309456  3.4313571  0.         0.27379382 5.0141277\n",
            "  2.0521095  6.3088083  2.3577802  6.5664988 ]\n",
            " [0.9567162  3.308762   3.984535   0.48509932 1.8581126  0.6546353\n",
            "  2.799475   0.7309456  3.4313571  0.         0.27379382 5.0141277\n",
            "  2.0521095  6.3088083  2.3577802  6.5664988 ]\n",
            " [0.9567162  3.308762   3.984535   0.48509932 1.8581126  0.6546353\n",
            "  2.799475   0.7309456  3.4313571  0.         0.27379382 5.0141277\n",
            "  2.0521095  6.3088083  2.3577802  6.5664988 ]]\n"
          ]
        }
      ],
      "source": [
        "encoder = Model(inputs=enc_dec_1.inputs, outputs=enc_dec_1.layers[4].output)\n",
        "train_encoded = encoder.predict(train_x)\n",
        "validation_encoded = encoder.predict(validation_x)\n",
        "print('Encoded time-series shape', train_encoded.shape)\n",
        "print('Encoded time-series sample', train_encoded[0])"
      ]
    },
    {
      "cell_type": "code",
      "execution_count": 26,
      "metadata": {
        "colab": {
          "base_uri": "https://localhost:8080/"
        },
        "id": "kHrsofO81MaW",
        "outputId": "127a1c60-35ac-41e3-9b9c-3ba52cbdcfd1"
      },
      "outputs": [
        {
          "name": "stdout",
          "output_type": "stream",
          "text": [
            "Model: \"model\"\n",
            "_________________________________________________________________\n",
            " Layer (type)                Output Shape              Param #   \n",
            "=================================================================\n",
            " input_1 (InputLayer)        [(None, 10, 9)]           0         \n",
            "                                                                 \n",
            " conv1d (Conv1D)             (None, 10, 32)            896       \n",
            "                                                                 \n",
            " average_pooling1d (AverageP  (None, 3, 32)            0         \n",
            " ooling1D)                                                       \n",
            "                                                                 \n",
            " lstm (LSTM)                 (None, 3, 32)             8320      \n",
            "                                                                 \n",
            " lstm_1 (LSTM)               (None, 16)                3136      \n",
            "                                                                 \n",
            " repeat_vector (RepeatVector  (None, 10, 16)           0         \n",
            " )                                                               \n",
            "                                                                 \n",
            "=================================================================\n",
            "Total params: 12,352\n",
            "Trainable params: 12,352\n",
            "Non-trainable params: 0\n",
            "_________________________________________________________________\n"
          ]
        }
      ],
      "source": [
        "encoder.summary()"
      ]
    },
    {
      "cell_type": "code",
      "execution_count": 27,
      "metadata": {
        "colab": {
          "base_uri": "https://localhost:8080/"
        },
        "id": "WncE8lYt_uTb",
        "outputId": "5c2175cf-7aa1-47e4-eea1-be619c939491"
      },
      "outputs": [
        {
          "name": "stdout",
          "output_type": "stream",
          "text": [
            "Model: \"sequential_1\"\n",
            "_________________________________________________________________\n",
            " Layer (type)                Output Shape              Param #   \n",
            "=================================================================\n",
            " dense_1 (Dense)             (None, 32)                5152      \n",
            "                                                                 \n",
            " dense_2 (Dense)             (None, 8)                 264       \n",
            "                                                                 \n",
            " dense_3 (Dense)             (None, 2)                 18        \n",
            "                                                                 \n",
            "=================================================================\n",
            "Total params: 5,434\n",
            "Trainable params: 5,434\n",
            "Non-trainable params: 0\n",
            "_________________________________________________________________\n"
          ]
        }
      ],
      "source": [
        "mlp_model = Sequential()\n",
        "# mlp_model.add(InputLayer(()))\n",
        "\n",
        "mlp_model.add(L.Dense(32, kernel_initializer='glorot_normal', activation='relu', input_dim=(train_encoded.shape[1]*train_encoded.shape[2])))\n",
        "# mlp_model.add(L.Dense(32, kernel_initializer='glorot_normal', activation='relu', input_dim=(train_encoded.shape[1])))\n",
        "\n",
        "mlp_model.add(L.Dense(8, kernel_initializer='glorot_normal', activation='relu'))\n",
        "mlp_model.add(L.Dense(2))\n",
        "mlp_model.summary()\n",
        "\n",
        "initial_learning_rate = 0.001\n",
        "lr_schedule = tf.keras.optimizers.schedules.ExponentialDecay(\n",
        "    initial_learning_rate,\n",
        "    decay_steps=100000,\n",
        "    decay_rate=0.96,\n",
        "    staircase=True)\n",
        "adam = optimizers.Adam(lr_schedule)\n",
        "\n",
        "mlp_model.compile(loss='mse', optimizer=adam)\n",
        "lrate = LearningRateScheduler(step_decay)\n"
      ]
    },
    {
      "cell_type": "code",
      "execution_count": 28,
      "metadata": {
        "colab": {
          "base_uri": "https://localhost:8080/"
        },
        "id": "R8JytY5ZBZ1D",
        "outputId": "8ccf53c6-40f8-4690-ca5a-508f21fda944"
      },
      "outputs": [
        {
          "name": "stdout",
          "output_type": "stream",
          "text": [
            "Epoch 1/50\n",
            "1720/1720 - 2s - loss: 0.0762 - 2s/epoch - 1ms/step\n",
            "Epoch 2/50\n",
            "1720/1720 - 2s - loss: 0.0066 - 2s/epoch - 1ms/step\n",
            "Epoch 3/50\n",
            "1720/1720 - 2s - loss: 0.0053 - 2s/epoch - 1ms/step\n",
            "Epoch 4/50\n",
            "1720/1720 - 2s - loss: 0.0049 - 2s/epoch - 1ms/step\n",
            "Epoch 5/50\n",
            "1720/1720 - 2s - loss: 0.0047 - 2s/epoch - 985us/step\n",
            "Epoch 6/50\n",
            "1720/1720 - 2s - loss: 0.0045 - 2s/epoch - 1ms/step\n",
            "Epoch 7/50\n",
            "1720/1720 - 2s - loss: 0.0044 - 2s/epoch - 1ms/step\n",
            "Epoch 8/50\n",
            "1720/1720 - 2s - loss: 0.0044 - 2s/epoch - 1ms/step\n",
            "Epoch 9/50\n",
            "1720/1720 - 2s - loss: 0.0043 - 2s/epoch - 1ms/step\n",
            "Epoch 10/50\n",
            "1720/1720 - 2s - loss: 0.0042 - 2s/epoch - 1ms/step\n",
            "Epoch 11/50\n",
            "1720/1720 - 2s - loss: 0.0042 - 2s/epoch - 992us/step\n",
            "Epoch 12/50\n",
            "1720/1720 - 2s - loss: 0.0041 - 2s/epoch - 979us/step\n",
            "Epoch 13/50\n",
            "1720/1720 - 2s - loss: 0.0041 - 2s/epoch - 1ms/step\n",
            "Epoch 14/50\n",
            "1720/1720 - 2s - loss: 0.0041 - 2s/epoch - 1ms/step\n",
            "Epoch 15/50\n",
            "1720/1720 - 2s - loss: 0.0041 - 2s/epoch - 995us/step\n",
            "Epoch 16/50\n",
            "1720/1720 - 2s - loss: 0.0041 - 2s/epoch - 1ms/step\n",
            "Epoch 17/50\n",
            "1720/1720 - 2s - loss: 0.0040 - 2s/epoch - 1ms/step\n",
            "Epoch 18/50\n",
            "1720/1720 - 2s - loss: 0.0040 - 2s/epoch - 996us/step\n",
            "Epoch 19/50\n",
            "1720/1720 - 2s - loss: 0.0040 - 2s/epoch - 995us/step\n",
            "Epoch 20/50\n",
            "1720/1720 - 2s - loss: 0.0040 - 2s/epoch - 1ms/step\n",
            "Epoch 21/50\n",
            "1720/1720 - 2s - loss: 0.0039 - 2s/epoch - 982us/step\n",
            "Epoch 22/50\n",
            "1720/1720 - 2s - loss: 0.0039 - 2s/epoch - 1ms/step\n",
            "Epoch 23/50\n",
            "1720/1720 - 2s - loss: 0.0039 - 2s/epoch - 1ms/step\n",
            "Epoch 24/50\n",
            "1720/1720 - 2s - loss: 0.0039 - 2s/epoch - 1ms/step\n",
            "Epoch 25/50\n",
            "1720/1720 - 2s - loss: 0.0039 - 2s/epoch - 1ms/step\n",
            "Epoch 26/50\n",
            "1720/1720 - 2s - loss: 0.0039 - 2s/epoch - 1ms/step\n",
            "Epoch 27/50\n",
            "1720/1720 - 2s - loss: 0.0039 - 2s/epoch - 1ms/step\n",
            "Epoch 28/50\n",
            "1720/1720 - 2s - loss: 0.0039 - 2s/epoch - 1ms/step\n",
            "Epoch 29/50\n",
            "1720/1720 - 2s - loss: 0.0038 - 2s/epoch - 994us/step\n",
            "Epoch 30/50\n",
            "1720/1720 - 2s - loss: 0.0038 - 2s/epoch - 981us/step\n",
            "Epoch 31/50\n",
            "1720/1720 - 2s - loss: 0.0038 - 2s/epoch - 1ms/step\n",
            "Epoch 32/50\n",
            "1720/1720 - 2s - loss: 0.0038 - 2s/epoch - 980us/step\n",
            "Epoch 33/50\n",
            "1720/1720 - 2s - loss: 0.0038 - 2s/epoch - 947us/step\n",
            "Epoch 34/50\n",
            "1720/1720 - 2s - loss: 0.0038 - 2s/epoch - 980us/step\n",
            "Epoch 35/50\n",
            "1720/1720 - 2s - loss: 0.0038 - 2s/epoch - 990us/step\n",
            "Epoch 36/50\n",
            "1720/1720 - 2s - loss: 0.0038 - 2s/epoch - 996us/step\n",
            "Epoch 37/50\n",
            "1720/1720 - 2s - loss: 0.0037 - 2s/epoch - 1ms/step\n",
            "Epoch 38/50\n",
            "1720/1720 - 2s - loss: 0.0037 - 2s/epoch - 987us/step\n",
            "Epoch 39/50\n",
            "1720/1720 - 2s - loss: 0.0037 - 2s/epoch - 993us/step\n",
            "Epoch 40/50\n",
            "1720/1720 - 2s - loss: 0.0037 - 2s/epoch - 1ms/step\n",
            "Epoch 41/50\n",
            "1720/1720 - 2s - loss: 0.0037 - 2s/epoch - 1ms/step\n",
            "Epoch 42/50\n",
            "1720/1720 - 2s - loss: 0.0037 - 2s/epoch - 1ms/step\n",
            "Epoch 43/50\n",
            "1720/1720 - 2s - loss: 0.0037 - 2s/epoch - 1ms/step\n",
            "Epoch 44/50\n",
            "1720/1720 - 2s - loss: 0.0037 - 2s/epoch - 994us/step\n",
            "Epoch 44: early stopping\n"
          ]
        }
      ],
      "source": [
        "epochs = 50\n",
        "# lrate = LearningRateScheduler(step_decay)\n",
        "monitor = EarlyStopping(monitor='loss', min_delta=1e-5, patience=3, verbose=1, mode='auto')\n",
        "train_encoded_reshaped=np.reshape(train_encoded,(train_encoded.shape[0], train_encoded.shape[1]*train_encoded.shape[2]))\n",
        "\n",
        "# train_encoded_reshaped=np.reshape(train_encoded,(train_encoded.shape[0], train_encoded.shape[1]))\n",
        "callback_list = [monitor]\n",
        "mlp_history = mlp_model.fit(train_encoded_reshaped , train_y, callbacks=callback_list, epochs=epochs, batch_size=batch,  verbose=2)"
      ]
    },
    {
      "cell_type": "code",
      "execution_count": 29,
      "metadata": {
        "id": "zsYl5vm_LsEj"
      },
      "outputs": [],
      "source": [
        "train_encoded_reshaped=np.reshape(train_encoded,(train_encoded.shape[0], train_encoded.shape[1]*train_encoded.shape[2]))\n",
        "val_encoded_reshaped=np.reshape(validation_encoded,(validation_encoded.shape[0], validation_encoded.shape[1]*validation_encoded.shape[2]))\n"
      ]
    },
    {
      "cell_type": "code",
      "execution_count": 30,
      "metadata": {
        "colab": {
          "base_uri": "https://localhost:8080/"
        },
        "id": "t0eH5klSLtYG",
        "outputId": "eed50a1f-9647-4ad8-8f2e-fa6888e20d76"
      },
      "outputs": [
        {
          "name": "stdout",
          "output_type": "stream",
          "text": [
            "6877/6877 [==============================] - 7s 1ms/step\n",
            "2292/2292 [==============================] - 2s 907us/step\n"
          ]
        }
      ],
      "source": [
        "# make predictions\n",
        "trainPredict = mlp_model.predict(train_encoded_reshaped)\n",
        "testPredict = mlp_model.predict(val_encoded_reshaped)"
      ]
    },
    {
      "cell_type": "code",
      "execution_count": 31,
      "metadata": {
        "colab": {
          "base_uri": "https://localhost:8080/"
        },
        "id": "63wTarIuLtYM",
        "outputId": "f2b1c2e6-ead6-45a7-d4ed-44ce5e390688"
      },
      "outputs": [
        {
          "name": "stdout",
          "output_type": "stream",
          "text": [
            "(220039, 2)\n",
            "(73340, 2)\n"
          ]
        }
      ],
      "source": [
        "\n",
        "print(trainPredict.shape)\n",
        "print(testPredict.shape)"
      ]
    },
    {
      "cell_type": "code",
      "execution_count": 35,
      "metadata": {
        "colab": {
          "base_uri": "https://localhost:8080/"
        },
        "id": "Piw64aRhLtYM",
        "outputId": "f3aebbe1-ca4b-4c94-a5cd-40a4a00c40a2"
      },
      "outputs": [
        {
          "name": "stdout",
          "output_type": "stream",
          "text": [
            "Train Score: 0.06 RMSE\n",
            "Test Score: 0.06 RMSE\n"
          ]
        }
      ],
      "source": [
        "from sklearn.metrics import mean_squared_error\n",
        "\n",
        "trainScore = np.sqrt(mean_squared_error(train_y, trainPredict))\n",
        "print('Train Score: %.2f RMSE' % (trainScore))\n",
        "testScore = np.sqrt(mean_squared_error(validation_y, testPredict))\n",
        "print('Test Score: %.2f RMSE' % (testScore))"
      ]
    },
    {
      "cell_type": "code",
      "execution_count": 39,
      "metadata": {},
      "outputs": [
        {
          "data": {
            "text/plain": [
              "(73340, 9)"
            ]
          },
          "execution_count": 39,
          "metadata": {},
          "output_type": "execute_result"
        }
      ],
      "source": [
        "v = X_test[11:]\n",
        "v.shape"
      ]
    },
    {
      "cell_type": "code",
      "execution_count": 40,
      "metadata": {
        "id": "hP7Dk9UqLtYM"
      },
      "outputs": [],
      "source": [
        "#pred = np.zeros((len(testPredict),1))\n",
        "\n",
        "#for iter in range(len(testPredict)):\n",
        "#  x = testPredict[iter][0]\n",
        "#  y = testPredict[iter][1]\n",
        "#  pred[iter] = ((math.atan2(y,x) + 2*math.pi) % (2*math.pi)) * (100 / (2*math.pi))\n",
        "\n",
        "\n",
        "x_test = scaler.inverse_transform(v)\n",
        "\n",
        "pred = np.zeros((len(testPredict),1))\n",
        "\n",
        "for iter in range(len(testPredict)):\n",
        "  x = testPredict[iter][0]\n",
        "  y = testPredict[iter][1]\n",
        "  pred[iter] = ((math.atan2(y,x) + 2*math.pi) % (2*math.pi)) * (100 / (2*math.pi))\n",
        "\n",
        "  if ((pred[iter] >= 95) & (x_test[iter][8] <= 50)):\n",
        "    pred[iter] = pred[iter] - 100\n",
        "  \n",
        "  if ((pred[iter] <= 5) & (x_test[iter][8] >= 180)):\n",
        "    pred[iter] = 100 - pred[iter]\n",
        "\n",
        "pred1=pd.DataFrame(pred).sort_index().reset_index()"
      ]
    },
    {
      "cell_type": "code",
      "execution_count": 41,
      "metadata": {
        "id": "jUHCrl-5LtYM"
      },
      "outputs": [],
      "source": [
        "actual = np.zeros((len(validation_y),1))\n",
        "\n",
        "for iter in range(len(validation_y)):\n",
        "  x =validation_y[iter][0]\n",
        "  y =validation_y[iter][1]\n",
        "  actual[iter] = ((math.atan2(y,x) + 2*math.pi) % (2*math.pi)) * (100 / (2*math.pi))"
      ]
    },
    {
      "cell_type": "code",
      "execution_count": 49,
      "metadata": {},
      "outputs": [
        {
          "name": "stdout",
          "output_type": "stream",
          "text": [
            "73261\n",
            "73340\n",
            "Precision:  99.89228251977093\n"
          ]
        }
      ],
      "source": [
        "correct = 0\n",
        "for iter in range(len(actual)):\n",
        "  if (abs(actual[iter] - pred[iter]) <= 5):\n",
        "    correct+=1\n",
        "\n",
        "print(correct)\n",
        "print(len(actual))\n",
        "\n",
        "print(\"Precision: \", correct * 100/len(actual))"
      ]
    },
    {
      "cell_type": "code",
      "execution_count": 48,
      "metadata": {},
      "outputs": [
        {
          "name": "stdout",
          "output_type": "stream",
          "text": [
            "Predicting Percentage RMSE:  1.1921633819144721\n"
          ]
        }
      ],
      "source": [
        "perc_rmse = np.sqrt(mean_squared_error(actual, pred))\n",
        "print(\"Predicting Percentage RMSE: \", perc_rmse)"
      ]
    },
    {
      "cell_type": "code",
      "execution_count": 42,
      "metadata": {},
      "outputs": [
        {
          "name": "stdout",
          "output_type": "stream",
          "text": [
            "73340\n",
            "73340\n",
            "1.1921633819144688\n"
          ]
        }
      ],
      "source": [
        "rmse = 0\n",
        "length = len(actual)\n",
        "for i in range(len(actual)):\n",
        "  if abs (pred[i] - actual[i]) >= 90:\n",
        "    length -= 1\n",
        "  else:\n",
        "    rmse = rmse + pow(pred[i] - actual[i], 2)\n",
        "rmse = rmse / length\n",
        "rmse = math.sqrt(rmse)\n",
        "print(length)\n",
        "print(len(actual))\n",
        "print(rmse)"
      ]
    },
    {
      "cell_type": "code",
      "execution_count": 43,
      "metadata": {
        "colab": {
          "base_uri": "https://localhost:8080/",
          "height": 482
        },
        "id": "wHhWfG3NLtYM",
        "outputId": "29c2f15b-f818-40cd-c8a8-6b8fdb216505"
      },
      "outputs": [
        {
          "name": "stdout",
          "output_type": "stream",
          "text": [
            "73012\n",
            "73340\n",
            "Precision:  99.55276793018817\n"
          ]
        },
        {
          "data": {
            "image/png": "[encoded data removed]",
            "text/plain": [
              "<Figure size 432x288 with 1 Axes>"
            ]
          },
          "metadata": {
            "needs_background": "light"
          },
          "output_type": "display_data"
        }
      ],
      "source": [
        "correct = 0\n",
        "\n",
        "plt.figure()\n",
        "plt.scatter(pred, actual)\n",
        "for iter in range(len(actual)):\n",
        "  if actual[iter]<2 or actual[iter]>98:\n",
        "    correct+=1\n",
        "    continue\n",
        "  if (abs(actual[iter] - pred[iter]) <= 4):\n",
        "    correct+=1\n",
        "\n",
        "\n",
        "print(correct)\n",
        "print(len(actual))\n",
        "\n",
        "print(\"Precision: \", correct * 100/len(actual))"
      ]
    },
    {
      "cell_type": "code",
      "execution_count": 44,
      "metadata": {},
      "outputs": [
        {
          "data": {
            "text/plain": [
              "Text(0.5, 1.0, 'Actual vs Prediction')"
            ]
          },
          "execution_count": 44,
          "metadata": {},
          "output_type": "execute_result"
        },
        {
          "data": {
            "image/png": "[encoded data removed]",
            "text/plain": [
              "<Figure size 432x288 with 1 Axes>"
            ]
          },
          "metadata": {
            "needs_background": "light"
          },
          "output_type": "display_data"
        }
      ],
      "source": [
        "plt.scatter(actual, pred, facecolors='none', edgecolors='crimson',alpha=0.4)\n",
        "p1 = max(max(pred), max(actual))\n",
        "p2 = min(min(pred), min(actual))\n",
        "\n",
        "ci = 0.1 * np.std([p1,p2]) / np.mean([p1,p2])\n",
        "\n",
        "plt.plot([p1, p2], [p1, p2], 'b-', linewidth =3)\n",
        "plt.title('Actual vs Prediction')"
      ]
    },
    {
      "cell_type": "code",
      "execution_count": 45,
      "metadata": {
        "id": "9m-77Iujfz4b"
      },
      "outputs": [],
      "source": [
        "#model_save_path=\"/content/drive/MyDrive/nmchr_lab/models/model_encoder_decoder_MS\"\n",
        "\n",
        "#encoder_decoder.save(model_save_path)"
      ]
    },
    {
      "cell_type": "code",
      "execution_count": 46,
      "metadata": {
        "colab": {
          "base_uri": "https://localhost:8080/"
        },
        "id": "F942GE0yD3Pa",
        "outputId": "da1b56f1-0352-40b4-b158-6423b562448c"
      },
      "outputs": [
        {
          "name": "stdout",
          "output_type": "stream",
          "text": [
            "Model: \"sequential_2\"\n",
            "_________________________________________________________________\n",
            " Layer (type)                Output Shape              Param #   \n",
            "=================================================================\n",
            " dense_4 (Dense)             (None, 32)                352       \n",
            "                                                                 \n",
            " dense_5 (Dense)             (None, 8)                 264       \n",
            "                                                                 \n",
            " dense_6 (Dense)             (None, 2)                 18        \n",
            "                                                                 \n",
            "=================================================================\n",
            "Total params: 634\n",
            "Trainable params: 634\n",
            "Non-trainable params: 0\n",
            "_________________________________________________________________\n"
          ]
        }
      ],
      "source": [
        "mlp_model = Sequential()\n",
        "mlp_model.add(L.Dense(32, kernel_initializer='glorot_normal', activation='relu', input_dim=train_encoded.shape[1]))\n",
        "mlp_model.add(L.Dense(8, kernel_initializer='glorot_normal', activation='relu'))\n",
        "mlp_model.add(L.Dense(2))\n",
        "mlp_model.summary()\n",
        "\n",
        "adam = optimizers.Adam(lr)\n",
        "mlp_model.compile(loss='mse', optimizer=adam)\n",
        "lrate = LearningRateScheduler(step_decay)\n"
      ]
    }
  ],
  "metadata": {
    "accelerator": "GPU",
    "colab": {
      "provenance": []
    },
    "gpuClass": "standard",
    "kernelspec": {
      "display_name": "Python 3",
      "name": "python3"
    },
    "language_info": {
      "codemirror_mode": {
        "name": "ipython",
        "version": 3
      },
      "file_extension": ".py",
      "mimetype": "text/x-python",
      "name": "python",
      "nbconvert_exporter": "python",
      "pygments_lexer": "ipython3",
      "version": "3.8.10"
    }
  },
  "nbformat": 4,
  "nbformat_minor": 0
}
