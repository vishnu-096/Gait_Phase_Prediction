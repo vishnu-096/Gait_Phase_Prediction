{
  "cells": [
    {
      "cell_type": "code",
      "execution_count": null,
      "metadata": {
        "id": "oUvebjog04oW"
      },
      "outputs": [],
      "source": [
        "import numpy as np\n",
        "import pandas as pd\n",
        "import tensorflow as tf\n",
        "import matplotlib.pyplot as plt\n",
        "import math\n",
        "import time\n",
        "import os\n",
        "import sys\n",
        "import json\n",
        "\n",
        "import scipy as sp\n",
        "from scipy import signal\n",
        "\n",
        "from keras.models import Sequential\n",
        "from keras.layers import Dense\n",
        "from keras.layers import LSTM\n",
        "from keras.callbacks import EarlyStopping\n",
        "from sklearn.preprocessing import MinMaxScaler\n",
        "from sklearn.feature_selection import SelectKBest\n",
        "from sklearn.feature_selection import f_regression\n",
        "from sklearn import metrics\n",
        "from statsmodels.tsa.seasonal import seasonal_decompose\n",
        "from statsmodels.graphics.tsaplots import plot_acf\n",
        "\n",
        "from tensorflow.keras.models import Sequential\n",
        "from tensorflow.keras.layers import *\n",
        "from tensorflow.keras.callbacks import ModelCheckpoint\n",
        "from tensorflow.keras.losses import MeanSquaredError\n",
        "from tensorflow.keras.metrics import RootMeanSquaredError\n",
        "from tensorflow.keras.optimizers import Adam\n",
        "from tensorflow.keras.layers import LSTM, Dense, Dropout, TimeDistributed, Conv1D, MaxPooling1D, Flatten, Bidirectional, Input, Flatten, Activation, Reshape, RepeatVector, Concatenate\n",
        "from tensorflow.keras import Sequential\n",
        "from tensorflow.keras.layers import *\n",
        "from keras.callbacks import EarlyStopping\n",
        "import tensorflow as tf\n",
        "\n",
        "from sklearn.preprocessing import MinMaxScaler\n",
        "from sklearn.model_selection import train_test_split\n",
        "\n",
        "import os, warnings, random\n",
        "from sklearn.metrics import mean_squared_error\n",
        "from sklearn.model_selection import train_test_split\n",
        "import tensorflow as tf\n",
        "import tensorflow.keras.layers as L\n",
        "from tensorflow.keras.layers import *\n",
        "from tensorflow.keras import optimizers, Sequential, Model\n",
        "from tensorflow.keras.callbacks import LearningRateScheduler"
      ]
    },
    {
      "cell_type": "code",
      "execution_count": null,
      "metadata": {
        "id": "ieOMqQ_o04oZ"
      },
      "outputs": [],
      "source": [
        "SEED = 13\n",
        "tf.random.set_seed(SEED)"
      ]
    },
    {
      "cell_type": "code",
      "execution_count": null,
      "metadata": {
        "id": "PKm1uOiX04oa"
      },
      "outputs": [],
      "source": [
        "def encode_gait_percentage(df, name):\n",
        "  percent = df[name].values.tolist()\n",
        "  X = np.zeros((len(df[name]),1))\n",
        "  Y = np.zeros((len(df[name]),1))\n",
        "  for i in range (len(percent)): \n",
        "    phi = percent[i] * 2 * math.pi / 100\n",
        "    X[i] = math.cos(phi)\n",
        "    Y[i] = math.sin(phi)\n",
        "  df['X'] = X\n",
        "  df['Y'] = Y"
      ]
    },
    {
      "cell_type": "code",
      "execution_count": null,
      "metadata": {
        "id": "PiqdGzio04oj"
      },
      "outputs": [],
      "source": [
        "def convert_data(d_x, d_y, look_back = 1, fore_cast = 1):\n",
        "    dataX = []\n",
        "    dataY = []\n",
        "\n",
        "    for i in range(look_back, len(d_x) - fore_cast):\n",
        "        dataX.append(d_x[i - look_back: i]) \n",
        "        dataY.append(d_y[i + fore_cast,:])\n",
        "    \n",
        "    return np.array(dataX), np.array(dataY)"
      ]
    },
    {
      "cell_type": "code",
      "execution_count": null,
      "metadata": {},
      "outputs": [],
      "source": [
        "working_dir = os.getcwd()#os.path.dirname(os.getcwd())\n",
        "sys_platform = sys.platform\n",
        "excel_path_dict = {'linux' : \"/csvs/\", 'win32' : \"\\Data\\Incline\\\\right_based\\SKS\\\\\"}\n",
        "excel_path_name = excel_path_dict[sys_platform]\n",
        "\n",
        "directory_path = working_dir \n",
        "print(directory_path)\n",
        "excel_path = directory_path + excel_path_name\n"
      ]
    },
    {
      "cell_type": "code",
      "execution_count": null,
      "metadata": {},
      "outputs": [],
      "source": [
        "#inclined_files = ['SKS_2_I.xlsx',  'SKS_3_I.xlsx',  'SKS_4_I.xlsx','SKS_5_I.xlsx', 'SD_2_I.xlsx',  'SD_3_I.xlsx',  'SD_4_I.xlsx','SD_5_I.xlsx']\n",
        "#file_name = ['TH_4_I.xls', 'TH_2_I.xls', 'TH_3_I.xls']\n",
        "file_name = ['SKS_0_I_r.xls', 'SKS_4_I_r.xls', 'SKS_2_I_r.xls', 'SKS_3_I_r.xls', 'SKS_5_I_r.xls']\n",
        "\n",
        "file_list=[]\n",
        "\n",
        "for i in range (len(file_name)):\n",
        "    file_list.append(pd.read_excel(excel_path + file_name[i], sheet_name='Sheet1'))\n",
        "\n",
        "import random\n",
        "random.shuffle(file_list)\n",
        "\n",
        "all_data = pd.concat(file_list, axis=0, ignore_index=True)\n"
      ]
    },
    {
      "cell_type": "code",
      "execution_count": null,
      "metadata": {},
      "outputs": [],
      "source": [
        "all_data.info()"
      ]
    },
    {
      "cell_type": "code",
      "execution_count": null,
      "metadata": {},
      "outputs": [],
      "source": [
        "cycle = 0\n",
        "cycle_list = []\n",
        "\n",
        "start = 0\n",
        "\n",
        "for i in range(len(all_data) - 1):\n",
        "    if (all_data['perc_new'][i+1] == 0):\n",
        "        cycle += 1\n",
        "        cycle_list.append(all_data.iloc[start:i])\n",
        "        start = i+1\n",
        "\n",
        "random.shuffle(cycle_list)\n",
        "source_table = pd.concat(cycle_list, axis=0, ignore_index=True)\n",
        "\n",
        "source_table\n",
        "        "
      ]
    },
    {
      "cell_type": "code",
      "execution_count": null,
      "metadata": {},
      "outputs": [],
      "source": [
        "source_table = source_table.drop([\"n_lgrf\",\"n_r_grf\", \"l_ph_ank\", \"r_ph_ank\", \"l_ph_hip\", \"l_ph_fo\", \"n_lcop\", \"st_sw_phase\"], axis = 1)\n",
        "source_table"
      ]
    },
    {
      "cell_type": "code",
      "execution_count": null,
      "metadata": {},
      "outputs": [],
      "source": [
        "st_sw_idx = len(source_table.columns)\n",
        "st_sw_idx\n",
        "source_table.info"
      ]
    },
    {
      "cell_type": "code",
      "execution_count": null,
      "metadata": {},
      "outputs": [],
      "source": [
        "x = source_table\n",
        "x = x.drop(['perc_new'], axis=1)\n",
        "scaler = MinMaxScaler()\n",
        "x_scaled = scaler.fit_transform(x)\n",
        "x_scaled = pd.DataFrame(x_scaled)\n",
        "\n",
        "encode_gait_percentage(source_table, 'perc_new')\n",
        "y = source_table[[\"X\",\"Y\"]]\n",
        "y\n",
        "\n",
        "data_x = x_scaled\n"
      ]
    },
    {
      "cell_type": "code",
      "execution_count": null,
      "metadata": {},
      "outputs": [],
      "source": [
        "data_y = y.values.reshape(-1,2)"
      ]
    },
    {
      "cell_type": "code",
      "execution_count": null,
      "metadata": {},
      "outputs": [],
      "source": [
        "type(data_y)"
      ]
    },
    {
      "cell_type": "code",
      "execution_count": null,
      "metadata": {
        "colab": {
          "base_uri": "https://localhost:8080/"
        },
        "id": "BMTNkMouLdlD",
        "outputId": "45d64d3b-5dbe-4c9f-fe00-c6df30582937"
      },
      "outputs": [],
      "source": [
        "\n",
        "#data_x,data_y= shuffle_multiple_datasets_based_on_gait_cycle( file_name, excel_path)\n",
        "\n",
        "X_train, X_test,y_train, y_test = train_test_split(data_x, data_y ,\n",
        "                        test_size=0.25, \n",
        "                        shuffle=False)\n",
        "look_back = 10\n",
        "fore_cast = 1\n",
        "\n",
        "train_x, train_y = convert_data(X_train, y_train, look_back, fore_cast)\n",
        "validation_x, validation_y = convert_data(X_test, y_test, look_back, fore_cast)\n"
      ]
    },
    {
      "cell_type": "code",
      "execution_count": null,
      "metadata": {
        "colab": {
          "base_uri": "https://localhost:8080/"
        },
        "id": "LCK0YESF04ok",
        "outputId": "7ae58506-6e1d-4903-8589-57adc023abe3"
      },
      "outputs": [],
      "source": [
        "print(train_x.shape)\n",
        "print(train_y.shape)\n",
        "print(validation_x.shape)\n",
        "print(validation_y.shape)\n"
      ]
    },
    {
      "cell_type": "code",
      "execution_count": null,
      "metadata": {},
      "outputs": [],
      "source": [
        "train_x.shape"
      ]
    },
    {
      "cell_type": "code",
      "execution_count": null,
      "metadata": {
        "colab": {
          "base_uri": "https://localhost:8080/"
        },
        "id": "_pUL_UtrTApY",
        "outputId": "854d0904-697f-46aa-8037-3216b2d0d1c5"
      },
      "outputs": [],
      "source": [
        "n1=validation_x.shape[0]\n",
        "val_x=validation_x[1:int(n1/10),:]\n",
        "val_y=validation_y[1:int(n1/10),:]\n",
        "print(val_x.shape)\n",
        "print(val_y.shape)"
      ]
    },
    {
      "cell_type": "code",
      "execution_count": null,
      "metadata": {
        "id": "e4ZAv3Stvsat"
      },
      "outputs": [],
      "source": [
        "def step_decay(epoch):\n",
        "\tinitial_lrate = 0.001\n",
        "\tdrop = 0.005\n",
        "\tepochs_drop = 10\n",
        "\tlrate=initial_lrate - 0.00001 \n",
        "\t# lrate = initial_lrate * math.pow(drop, math.floor((1+epoch)/epochs_drop))\n",
        "\treturn lrate\n"
      ]
    },
    {
      "cell_type": "code",
      "execution_count": null,
      "metadata": {
        "colab": {
          "base_uri": "https://localhost:8080/"
        },
        "id": "6NCaFbl4ddC3",
        "outputId": "caf772c8-c521-4d17-e73e-e1549c05bb98"
      },
      "outputs": [],
      "source": [
        "lr = 0.001\n",
        "epochs = 20\n",
        "batch = 128\n",
        "\n",
        "serie_size = train_x.shape[1]\n",
        "n_features = train_x.shape[2]\n",
        "enc_dec_1 = Sequential()\n",
        "enc_dec_1.add(InputLayer((10, train_x.shape[2])))\n",
        "enc_dec_1.add(Conv1D(filters=32, kernel_size=3,strides=1,\n",
        "    activation='relu', padding='same'))            \n",
        "enc_dec_1.add(AveragePooling1D(pool_size=3))\n",
        "# enc_dec_1.add(RepeatVector(10))\n",
        "\n",
        "enc_dec_1.add(LSTM(32,  return_sequences=True))\n",
        "enc_dec_1.add(LSTM(16,  activation='relu'))\n",
        "enc_dec_1.add(L.RepeatVector((10)))\n",
        "enc_dec_1.add(LSTM(16,  return_sequences=True))\n",
        "enc_dec_1.add(LSTM(32,  activation='relu', return_sequences=True))\n",
        "enc_dec_1.add(L.TimeDistributed(L.Dense(n_features)))\n",
        "\n",
        "\n",
        "enc_dec_1.summary()\n",
        "adam = optimizers.Adam(lr)\n",
        "enc_dec_1.compile(loss='mse', optimizer=adam)"
      ]
    },
    {
      "cell_type": "code",
      "execution_count": null,
      "metadata": {
        "colab": {
          "base_uri": "https://localhost:8080/"
        },
        "id": "yq0IMOScte_U",
        "outputId": "16097337-99d4-4859-8c76-dc3ce81de69d"
      },
      "outputs": [],
      "source": [
        "encoder_decoder_history = enc_dec_1.fit(train_x, train_x, \n",
        "                                              batch_size=batch, \n",
        "                                              epochs=epochs, \n",
        "                                              verbose=1)"
      ]
    },
    {
      "cell_type": "code",
      "execution_count": null,
      "metadata": {
        "colab": {
          "base_uri": "https://localhost:8080/"
        },
        "id": "vhnFIj9ZylbJ",
        "outputId": "f000f77a-3249-4347-82ff-c913669c6d76"
      },
      "outputs": [],
      "source": [
        "encoder = Model(inputs=enc_dec_1.inputs, outputs=enc_dec_1.layers[4].output)\n",
        "train_encoded = encoder.predict(train_x)\n",
        "validation_encoded = encoder.predict(validation_x)\n",
        "print('Encoded time-series shape', train_encoded.shape)\n",
        "print('Encoded time-series sample', train_encoded[0])"
      ]
    },
    {
      "cell_type": "code",
      "execution_count": null,
      "metadata": {
        "colab": {
          "base_uri": "https://localhost:8080/"
        },
        "id": "kHrsofO81MaW",
        "outputId": "127a1c60-35ac-41e3-9b9c-3ba52cbdcfd1"
      },
      "outputs": [],
      "source": [
        "encoder.summary()"
      ]
    },
    {
      "cell_type": "code",
      "execution_count": null,
      "metadata": {
        "colab": {
          "base_uri": "https://localhost:8080/"
        },
        "id": "WncE8lYt_uTb",
        "outputId": "5c2175cf-7aa1-47e4-eea1-be619c939491"
      },
      "outputs": [],
      "source": [
        "mlp_model = Sequential()\n",
        "# mlp_model.add(InputLayer(()))\n",
        "\n",
        "mlp_model.add(L.Dense(32, kernel_initializer='glorot_normal', activation='relu', input_dim=(train_encoded.shape[1]*train_encoded.shape[2])))\n",
        "# mlp_model.add(L.Dense(32, kernel_initializer='glorot_normal', activation='relu', input_dim=(train_encoded.shape[1])))\n",
        "\n",
        "mlp_model.add(L.Dense(8, kernel_initializer='glorot_normal', activation='relu'))\n",
        "mlp_model.add(L.Dense(2))\n",
        "mlp_model.summary()\n",
        "\n",
        "initial_learning_rate = 0.001\n",
        "lr_schedule = tf.keras.optimizers.schedules.ExponentialDecay(\n",
        "    initial_learning_rate,\n",
        "    decay_steps=100000,\n",
        "    decay_rate=0.96,\n",
        "    staircase=True)\n",
        "adam = optimizers.Adam(lr_schedule)\n",
        "\n",
        "mlp_model.compile(loss='mse', optimizer=adam)\n",
        "lrate = LearningRateScheduler(step_decay)\n"
      ]
    },
    {
      "cell_type": "code",
      "execution_count": null,
      "metadata": {
        "colab": {
          "base_uri": "https://localhost:8080/"
        },
        "id": "R8JytY5ZBZ1D",
        "outputId": "8ccf53c6-40f8-4690-ca5a-508f21fda944"
      },
      "outputs": [],
      "source": [
        "epochs = 50\n",
        "# lrate = LearningRateScheduler(step_decay)\n",
        "monitor = EarlyStopping(monitor='loss', min_delta=1e-5, patience=3, verbose=1, mode='auto')\n",
        "train_encoded_reshaped=np.reshape(train_encoded,(train_encoded.shape[0], train_encoded.shape[1]*train_encoded.shape[2]))\n",
        "\n",
        "# train_encoded_reshaped=np.reshape(train_encoded,(train_encoded.shape[0], train_encoded.shape[1]))\n",
        "callback_list = [monitor]\n",
        "mlp_history = mlp_model.fit(train_encoded_reshaped , train_y, callbacks=callback_list, epochs=epochs, batch_size=batch,  verbose=2)"
      ]
    },
    {
      "cell_type": "code",
      "execution_count": null,
      "metadata": {
        "id": "zsYl5vm_LsEj"
      },
      "outputs": [],
      "source": [
        "train_encoded_reshaped=np.reshape(train_encoded,(train_encoded.shape[0], train_encoded.shape[1]*train_encoded.shape[2]))\n",
        "val_encoded_reshaped=np.reshape(validation_encoded,(validation_encoded.shape[0], validation_encoded.shape[1]*validation_encoded.shape[2]))\n"
      ]
    },
    {
      "cell_type": "code",
      "execution_count": null,
      "metadata": {
        "colab": {
          "base_uri": "https://localhost:8080/"
        },
        "id": "t0eH5klSLtYG",
        "outputId": "eed50a1f-9647-4ad8-8f2e-fa6888e20d76"
      },
      "outputs": [],
      "source": [
        "# make predictions\n",
        "trainPredict = mlp_model.predict(train_encoded_reshaped)\n",
        "testPredict = mlp_model.predict(val_encoded_reshaped)"
      ]
    },
    {
      "cell_type": "code",
      "execution_count": null,
      "metadata": {
        "colab": {
          "base_uri": "https://localhost:8080/"
        },
        "id": "63wTarIuLtYM",
        "outputId": "f2b1c2e6-ead6-45a7-d4ed-44ce5e390688"
      },
      "outputs": [],
      "source": [
        "\n",
        "print(trainPredict.shape)\n",
        "print(testPredict.shape)"
      ]
    },
    {
      "cell_type": "code",
      "execution_count": null,
      "metadata": {
        "colab": {
          "base_uri": "https://localhost:8080/"
        },
        "id": "Piw64aRhLtYM",
        "outputId": "f3aebbe1-ca4b-4c94-a5cd-40a4a00c40a2"
      },
      "outputs": [],
      "source": [
        "from sklearn.metrics import mean_squared_error\n",
        "\n",
        "trainScore = np.sqrt(mean_squared_error(train_y, trainPredict))\n",
        "print('Train Score: %.2f RMSE' % (trainScore))\n",
        "testScore = np.sqrt(mean_squared_error(validation_y, testPredict))\n",
        "print('Test Score: %.2f RMSE' % (testScore))"
      ]
    },
    {
      "cell_type": "code",
      "execution_count": null,
      "metadata": {},
      "outputs": [],
      "source": [
        "v = X_test[11:]\n",
        "v.shape"
      ]
    },
    {
      "cell_type": "code",
      "execution_count": null,
      "metadata": {
        "id": "hP7Dk9UqLtYM"
      },
      "outputs": [],
      "source": [
        "#pred = np.zeros((len(testPredict),1))\n",
        "\n",
        "#for iter in range(len(testPredict)):\n",
        "#  x = testPredict[iter][0]\n",
        "#  y = testPredict[iter][1]\n",
        "#  pred[iter] = ((math.atan2(y,x) + 2*math.pi) % (2*math.pi)) * (100 / (2*math.pi))\n",
        "\n",
        "\n",
        "x_test = scaler.inverse_transform(v)\n",
        "\n",
        "pred = np.zeros((len(testPredict),1))\n",
        "\n",
        "for iter in range(len(testPredict)):\n",
        "  x = testPredict[iter][0]\n",
        "  y = testPredict[iter][1]\n",
        "  pred[iter] = ((math.atan2(y,x) + 2*math.pi) % (2*math.pi)) * (100 / (2*math.pi))\n",
        "\n",
        "  \n",
        "  if ((pred[iter] >= 80) & (x_test[iter][-1] <= 20)) : \n",
        "    pred[iter] = pred[iter] - 100  \n",
        "    if abs(pred[iter]) >= 5:\n",
        "      pred[iter] = 0 \n",
        "  \n",
        "\n",
        "  if ((pred[iter] <= 20) & (x_test[iter][-1] >= 150)):\n",
        "    pred[iter] = 100 - pred[iter]\n",
        "    if abs(pred[iter]) >= 5:\n",
        "        pred[iter] = 100\n",
        "\n",
        "\n",
        "  \n",
        "\n",
        "  #if (pred[iter] > 100):\n",
        "  #  pred[iter] = pred[iter] - 100\n",
        "\n",
        "pred1=pd.DataFrame(pred).sort_index().reset_index()"
      ]
    },
    {
      "cell_type": "code",
      "execution_count": null,
      "metadata": {
        "id": "jUHCrl-5LtYM"
      },
      "outputs": [],
      "source": [
        "actual = np.zeros((len(validation_y),1))\n",
        "\n",
        "for iter in range(len(validation_y)):\n",
        "  x =validation_y[iter][0]\n",
        "  y =validation_y[iter][1]\n",
        "  actual[iter] = ((math.atan2(y,x) + 2*math.pi) % (2*math.pi)) * (100 / (2*math.pi))"
      ]
    },
    {
      "cell_type": "code",
      "execution_count": null,
      "metadata": {},
      "outputs": [],
      "source": [
        "correct = 0\n",
        "for i in range(5):\n",
        "  correct = 0\n",
        "  for iter in range(len(actual)):\n",
        "    if (abs(actual[iter] - pred[iter]) <= (i+1)):\n",
        "      correct+=1\n",
        "\n",
        "  print(correct)\n",
        "  print(len(actual))\n",
        "\n",
        "  print(\"Precision \", i+1, \": \", correct * 100/len(actual))"
      ]
    },
    {
      "cell_type": "code",
      "execution_count": null,
      "metadata": {},
      "outputs": [],
      "source": [
        "perc_rmse = np.sqrt(mean_squared_error(actual, pred))\n",
        "print(\"Predicting Percentage RMSE: \", perc_rmse)"
      ]
    },
    {
      "cell_type": "code",
      "execution_count": null,
      "metadata": {},
      "outputs": [],
      "source": [
        "rmse = 0\n",
        "length = len(actual)\n",
        "for i in range(len(actual)):\n",
        "  if abs (pred[i] - actual[i]) >= 90:\n",
        "    length -= 1\n",
        "  else:\n",
        "    rmse = rmse + pow(pred[i] - actual[i], 2)\n",
        "rmse = rmse / length\n",
        "rmse = math.sqrt(rmse)\n",
        "print(length)\n",
        "print(len(actual))\n",
        "print(rmse)"
      ]
    },
    {
      "cell_type": "code",
      "execution_count": null,
      "metadata": {
        "colab": {
          "base_uri": "https://localhost:8080/",
          "height": 482
        },
        "id": "wHhWfG3NLtYM",
        "outputId": "29c2f15b-f818-40cd-c8a8-6b8fdb216505"
      },
      "outputs": [],
      "source": [
        "correct = 0\n",
        "\n",
        "plt.figure()\n",
        "plt.scatter(pred, actual)\n",
        "for iter in range(len(actual)):\n",
        "  if actual[iter]<2 or actual[iter]>98:\n",
        "    correct+=1\n",
        "    continue\n",
        "  if (abs(actual[iter] - pred[iter]) <= 1):\n",
        "    correct+=1\n",
        "\n",
        "\n",
        "print(correct)\n",
        "print(len(actual))\n",
        "\n",
        "#print(\"Precision: \", correct * 100/len(actual))"
      ]
    },
    {
      "cell_type": "code",
      "execution_count": null,
      "metadata": {},
      "outputs": [],
      "source": [
        "plt.scatter(actual, pred, facecolors='none', edgecolors='crimson',alpha=0.4)\n",
        "p1 = max(max(pred), max(actual))\n",
        "p2 = min(min(pred), min(actual))\n",
        "\n",
        "ci = 0.1 * np.std([p1,p2]) / np.mean([p1,p2])\n",
        "\n",
        "plt.plot([p1, p2], [p1, p2], 'b-', linewidth =3)\n",
        "plt.title('Actual vs Prediction')"
      ]
    },
    {
      "cell_type": "code",
      "execution_count": null,
      "metadata": {},
      "outputs": [],
      "source": [
        "predfig=plt.figure(figsize=(20,5))\n",
        "dif = abs(actual-pred)\n",
        "\n",
        "plt.plot(dif,'.')\n"
      ]
    },
    {
      "cell_type": "code",
      "execution_count": null,
      "metadata": {},
      "outputs": [],
      "source": [
        "data_dif = pd.DataFrame(pred)\n",
        "print(data_dif.to_string())"
      ]
    },
    {
      "cell_type": "code",
      "execution_count": null,
      "metadata": {},
      "outputs": [],
      "source": [
        "act_dif = pd.DataFrame(actual)\n",
        "print(act_dif.to_string())"
      ]
    },
    {
      "cell_type": "code",
      "execution_count": null,
      "metadata": {},
      "outputs": [],
      "source": [
        "for i in range(len(pred)):\n",
        "    if (abs(actual[i]-pred[i]) > 50):\n",
        "        print(i)"
      ]
    },
    {
      "cell_type": "code",
      "execution_count": null,
      "metadata": {},
      "outputs": [],
      "source": [
        "strike = pd.DataFrame(x_test[:,-1])\n",
        "print(strike.to_string())"
      ]
    },
    {
      "cell_type": "code",
      "execution_count": null,
      "metadata": {},
      "outputs": [],
      "source": [
        "x_test[49849][-1]"
      ]
    },
    {
      "cell_type": "code",
      "execution_count": null,
      "metadata": {},
      "outputs": [],
      "source": [
        "pred[49850]"
      ]
    },
    {
      "cell_type": "code",
      "execution_count": null,
      "metadata": {
        "id": "9m-77Iujfz4b"
      },
      "outputs": [],
      "source": [
        "#model_save_path=\"/content/drive/MyDrive/nmchr_lab/models/model_encoder_decoder_MS\"\n",
        "\n",
        "#encoder_decoder.save(model_save_path)"
      ]
    },
    {
      "cell_type": "code",
      "execution_count": null,
      "metadata": {
        "colab": {
          "base_uri": "https://localhost:8080/"
        },
        "id": "F942GE0yD3Pa",
        "outputId": "da1b56f1-0352-40b4-b158-6423b562448c"
      },
      "outputs": [],
      "source": [
        "mlp_model = Sequential()\n",
        "mlp_model.add(L.Dense(32, kernel_initializer='glorot_normal', activation='relu', input_dim=train_encoded.shape[1]))\n",
        "mlp_model.add(L.Dense(8, kernel_initializer='glorot_normal', activation='relu'))\n",
        "mlp_model.add(L.Dense(2))\n",
        "mlp_model.summary()\n",
        "\n",
        "adam = optimizers.Adam(lr)\n",
        "mlp_model.compile(loss='mse', optimizer=adam)\n",
        "lrate = LearningRateScheduler(step_decay)\n"
      ]
    }
  ],
  "metadata": {
    "accelerator": "GPU",
    "colab": {
      "provenance": []
    },
    "gpuClass": "standard",
    "kernelspec": {
      "display_name": "Python 3",
      "name": "python3"
    },
    "language_info": {
      "codemirror_mode": {
        "name": "ipython",
        "version": 3
      },
      "file_extension": ".py",
      "mimetype": "text/x-python",
      "name": "python",
      "nbconvert_exporter": "python",
      "pygments_lexer": "ipython3",
      "version": "3.8.10"
    }
  },
  "nbformat": 4,
  "nbformat_minor": 0
}
