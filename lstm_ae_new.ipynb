{
  "cells": [
    {
      "cell_type": "code",
      "execution_count": 1,
      "metadata": {
        "id": "oUvebjog04oW"
      },
      "outputs": [],
      "source": [
        "import numpy as np\n",
        "import pandas as pd\n",
        "import tensorflow as tf\n",
        "import matplotlib.pyplot as plt\n",
        "import math\n",
        "import time\n",
        "import os\n",
        "import sys\n",
        "import json\n",
        "\n",
        "import scipy as sp\n",
        "from scipy import signal\n",
        "\n",
        "from keras.models import Sequential\n",
        "from keras.layers import Dense\n",
        "from keras.layers import LSTM\n",
        "from keras.callbacks import EarlyStopping\n",
        "from sklearn.preprocessing import MinMaxScaler\n",
        "from sklearn.feature_selection import SelectKBest\n",
        "from sklearn.feature_selection import f_regression\n",
        "from sklearn import metrics\n",
        "from statsmodels.tsa.seasonal import seasonal_decompose\n",
        "from statsmodels.graphics.tsaplots import plot_acf\n",
        "\n",
        "from tensorflow.keras.models import Sequential\n",
        "from tensorflow.keras.layers import *\n",
        "from tensorflow.keras.callbacks import ModelCheckpoint\n",
        "from tensorflow.keras.losses import MeanSquaredError\n",
        "from tensorflow.keras.metrics import RootMeanSquaredError\n",
        "from tensorflow.keras.optimizers import Adam\n",
        "from tensorflow.keras.layers import LSTM, Dense, Dropout, TimeDistributed, Conv1D, MaxPooling1D, Flatten, Bidirectional, Input, Flatten, Activation, Reshape, RepeatVector, Concatenate\n",
        "from tensorflow.keras import Sequential\n",
        "from tensorflow.keras.layers import *\n",
        "from keras.callbacks import EarlyStopping\n",
        "import tensorflow as tf\n",
        "\n",
        "from sklearn.preprocessing import MinMaxScaler\n",
        "from sklearn.model_selection import train_test_split\n",
        "\n",
        "import os, warnings, random\n",
        "from sklearn.metrics import mean_squared_error\n",
        "from sklearn.model_selection import train_test_split\n",
        "import tensorflow as tf\n",
        "import tensorflow.keras.layers as L\n",
        "from tensorflow.keras.layers import *\n",
        "from tensorflow.keras import optimizers, Sequential, Model\n",
        "from tensorflow.keras.callbacks import LearningRateScheduler"
      ]
    },
    {
      "cell_type": "code",
      "execution_count": 2,
      "metadata": {
        "id": "ieOMqQ_o04oZ"
      },
      "outputs": [],
      "source": [
        "SEED = 13\n",
        "tf.random.set_seed(SEED)"
      ]
    },
    {
      "cell_type": "code",
      "execution_count": 3,
      "metadata": {
        "id": "PKm1uOiX04oa"
      },
      "outputs": [],
      "source": [
        "def encode_gait_percentage(df, name):\n",
        "  percent = df[name].values.tolist()\n",
        "  X = np.zeros((len(df[name]),1))\n",
        "  Y = np.zeros((len(df[name]),1))\n",
        "  for i in range (len(percent)):\n",
        "    phi = percent[i] * 2 * math.pi / 100\n",
        "    X[i] = math.cos(phi)\n",
        "    Y[i] = math.sin(phi)\n",
        "  df['X'] = X\n",
        "  df['Y'] = Y"
      ]
    },
    {
      "cell_type": "code",
      "execution_count": 4,
      "metadata": {
        "id": "PiqdGzio04oj"
      },
      "outputs": [],
      "source": [
        "def convert_data(d_x, d_y, look_back = 1, fore_cast = 1):\n",
        "    dataX = []\n",
        "    dataY = []\n",
        "\n",
        "    for i in range(look_back, len(d_x) - fore_cast):\n",
        "        dataX.append(d_x[i - look_back: i])\n",
        "        dataY.append(d_y[i + fore_cast,:])\n",
        "\n",
        "    return np.array(dataX), np.array(dataY)"
      ]
    },
    {
      "cell_type": "code",
      "execution_count": 5,
      "metadata": {
        "colab": {
          "base_uri": "https://localhost:8080/"
        },
        "id": "x1qm5sIrhOv3",
        "outputId": "6885c08a-2eff-4f94-8927-f2de93438843"
      },
      "outputs": [],
      "source": [
        "#from google.colab import drive\n",
        "\n",
        "#rive.mount('/content/drive')\n",
        "#path =path = '/content/drive/MyDrive/nmchr_lab/Subjects/inclined/new/right_based/'\n"
      ]
    },
    {
      "cell_type": "code",
      "execution_count": 6,
      "metadata": {},
      "outputs": [
        {
          "name": "stdout",
          "output_type": "stream",
          "text": [
            "c:\\Users\\Admin\\Desktop\\Neurorobotic Lab\\Data_Code\\Model\\Gait_Phase_Prediction\n"
          ]
        }
      ],
      "source": [
        "working_dir = os.getcwd()#os.path.dirname(os.getcwd())\n",
        "sys_platform = sys.platform\n",
        "excel_path_dict = {'linux' : \"/csvs/\", 'win32' : \"\\Data\\Incline\\\\right_based\\SD\\\\\"}\n",
        "excel_path_name = excel_path_dict[sys_platform]\n",
        "\n",
        "directory_path = working_dir \n",
        "print(directory_path)\n",
        "excel_path = directory_path + excel_path_name\n"
      ]
    },
    {
      "cell_type": "code",
      "execution_count": 69,
      "metadata": {
        "id": "QUcI8IV6hOv4"
      },
      "outputs": [],
      "source": [
        "#inclined_files = ['SKS_2_I.xlsx',  'SKS_3_I.xlsx',  'SKS_4_I.xlsx','SKS_5_I.xlsx', 'SD_2_I.xlsx',  'SD_3_I.xlsx',  'SD_4_I.xlsx','SD_5_I.xlsx']\n",
        "\n",
        "# Subj TH:\n",
        "#file_name = ['TH_4_I_r.xlsx', 'TH_2_I_r.xlsx', 'TH_3_I_r.xlsx']\n",
        "\n",
        "# Subj JJ:\n",
        "#file_name = ['JJ_4_I.xlsx', 'JJ_6_I.xlsx', 'JJ_7_I.xlsx']\n",
        "#file_name = ['JJ_4_I_r.xlsx', 'JJ_6_I_r.xlsx', 'JJ_7_I_r.xlsx']\n",
        "\n",
        "# Subj SD:\n",
        "file_name = ['SD_1_I_r.xls', 'SD_4_I_r.xls', 'SD_2_I_r.xls', 'SD_3_I_r.xls', 'SD_5_I_r.xls']\n",
        "\n",
        "# Subj PK:\n",
        "#file_name = ['PK_0_I_r.xls', 'PK_5_I_r.xls', 'PK_2_I_r.xls', 'PK_3_I_r.xls']\n",
        "\n",
        "# Subj SKS:\n",
        "#file_name = ['SKS_0_I_r.xls', 'SKS_4_I_r.xls', 'SKS_2_I_r.xls', 'SKS_3_I_r.xls', 'SKS_5_I_r.xls']\n",
        "\n",
        "file_list=[]\n",
        "\n",
        "for i in range (len(file_name)):\n",
        "    file_list.append(pd.read_excel(excel_path + file_name[i], sheet_name='Sheet1'))\n",
        "\n",
        "import random\n",
        "random.shuffle(file_list)\n",
        "\n",
        "all_data = pd.concat(file_list, axis=0, ignore_index=True)\n"
      ]
    },
    {
      "cell_type": "code",
      "execution_count": 70,
      "metadata": {
        "colab": {
          "base_uri": "https://localhost:8080/"
        },
        "id": "-m7rgW5thOv4",
        "outputId": "74fb0611-366a-459c-ae78-e07832e9034c"
      },
      "outputs": [
        {
          "name": "stdout",
          "output_type": "stream",
          "text": [
            "<class 'pandas.core.frame.DataFrame'>\n",
            "RangeIndex: 217324 entries, 0 to 217323\n",
            "Data columns (total 13 columns):\n",
            " #   Column        Non-Null Count   Dtype  \n",
            "---  ------        --------------   -----  \n",
            " 0   l_ph_hip      217324 non-null  float64\n",
            " 1   l_ph_ank      217324 non-null  float64\n",
            " 2   l_ph_fo       217324 non-null  float64\n",
            " 3   r_ph_hip      217324 non-null  float64\n",
            " 4   r_ph_ank      217324 non-null  float64\n",
            " 5   r_ph_fo       217324 non-null  float64\n",
            " 6   n_lgrf        217324 non-null  float64\n",
            " 7   n_r_grf       217324 non-null  float64\n",
            " 8   n_lcop        217324 non-null  float64\n",
            " 9   n_rcop        217324 non-null  float64\n",
            " 10  perc_new      217324 non-null  float64\n",
            " 11  st_sw_phase   217324 non-null  int64  \n",
            " 12  strike_frame  217324 non-null  int64  \n",
            "dtypes: float64(11), int64(2)\n",
            "memory usage: 21.6 MB\n"
          ]
        }
      ],
      "source": [
        "all_data.info()"
      ]
    },
    {
      "cell_type": "code",
      "execution_count": 71,
      "metadata": {
        "colab": {
          "base_uri": "https://localhost:8080/",
          "height": 423
        },
        "id": "9zPHqQg4hOv5",
        "outputId": "a2c3c1d2-cb4f-4294-bf89-33c2ae58fcac"
      },
      "outputs": [
        {
          "data": {
            "text/html": [
              "<div>\n",
              "<style scoped>\n",
              "    .dataframe tbody tr th:only-of-type {\n",
              "        vertical-align: middle;\n",
              "    }\n",
              "\n",
              "    .dataframe tbody tr th {\n",
              "        vertical-align: top;\n",
              "    }\n",
              "\n",
              "    .dataframe thead th {\n",
              "        text-align: right;\n",
              "    }\n",
              "</style>\n",
              "<table border=\"1\" class=\"dataframe\">\n",
              "  <thead>\n",
              "    <tr style=\"text-align: right;\">\n",
              "      <th></th>\n",
              "      <th>l_ph_hip</th>\n",
              "      <th>l_ph_ank</th>\n",
              "      <th>l_ph_fo</th>\n",
              "      <th>r_ph_hip</th>\n",
              "      <th>r_ph_ank</th>\n",
              "      <th>r_ph_fo</th>\n",
              "      <th>n_lgrf</th>\n",
              "      <th>n_r_grf</th>\n",
              "      <th>n_lcop</th>\n",
              "      <th>n_rcop</th>\n",
              "      <th>perc_new</th>\n",
              "      <th>st_sw_phase</th>\n",
              "      <th>strike_frame</th>\n",
              "    </tr>\n",
              "  </thead>\n",
              "  <tbody>\n",
              "    <tr>\n",
              "      <th>0</th>\n",
              "      <td>0.641317</td>\n",
              "      <td>0.666941</td>\n",
              "      <td>0.153010</td>\n",
              "      <td>0.958910</td>\n",
              "      <td>0.866357</td>\n",
              "      <td>0.753892</td>\n",
              "      <td>0.671650</td>\n",
              "      <td>0.039560</td>\n",
              "      <td>0.091556</td>\n",
              "      <td>-0.000039</td>\n",
              "      <td>0.000000</td>\n",
              "      <td>0</td>\n",
              "      <td>1</td>\n",
              "    </tr>\n",
              "    <tr>\n",
              "      <th>1</th>\n",
              "      <td>0.623911</td>\n",
              "      <td>0.658566</td>\n",
              "      <td>0.110126</td>\n",
              "      <td>0.957734</td>\n",
              "      <td>0.846948</td>\n",
              "      <td>0.751823</td>\n",
              "      <td>0.670171</td>\n",
              "      <td>0.057615</td>\n",
              "      <td>0.092713</td>\n",
              "      <td>-0.000004</td>\n",
              "      <td>0.487805</td>\n",
              "      <td>0</td>\n",
              "      <td>2</td>\n",
              "    </tr>\n",
              "    <tr>\n",
              "      <th>2</th>\n",
              "      <td>0.599884</td>\n",
              "      <td>0.649852</td>\n",
              "      <td>0.033764</td>\n",
              "      <td>0.956194</td>\n",
              "      <td>0.832833</td>\n",
              "      <td>0.749830</td>\n",
              "      <td>0.666836</td>\n",
              "      <td>0.078883</td>\n",
              "      <td>0.093802</td>\n",
              "      <td>0.000040</td>\n",
              "      <td>0.975610</td>\n",
              "      <td>1</td>\n",
              "      <td>3</td>\n",
              "    </tr>\n",
              "    <tr>\n",
              "      <th>3</th>\n",
              "      <td>0.566736</td>\n",
              "      <td>0.640870</td>\n",
              "      <td>0.938698</td>\n",
              "      <td>0.954287</td>\n",
              "      <td>0.822264</td>\n",
              "      <td>0.747866</td>\n",
              "      <td>0.661449</td>\n",
              "      <td>0.102954</td>\n",
              "      <td>0.094773</td>\n",
              "      <td>0.000095</td>\n",
              "      <td>1.463415</td>\n",
              "      <td>1</td>\n",
              "      <td>4</td>\n",
              "    </tr>\n",
              "    <tr>\n",
              "      <th>4</th>\n",
              "      <td>0.523148</td>\n",
              "      <td>0.631703</td>\n",
              "      <td>0.870875</td>\n",
              "      <td>0.952015</td>\n",
              "      <td>0.814131</td>\n",
              "      <td>0.745887</td>\n",
              "      <td>0.653827</td>\n",
              "      <td>0.129321</td>\n",
              "      <td>0.095577</td>\n",
              "      <td>0.000159</td>\n",
              "      <td>1.951220</td>\n",
              "      <td>1</td>\n",
              "      <td>5</td>\n",
              "    </tr>\n",
              "    <tr>\n",
              "      <th>...</th>\n",
              "      <td>...</td>\n",
              "      <td>...</td>\n",
              "      <td>...</td>\n",
              "      <td>...</td>\n",
              "      <td>...</td>\n",
              "      <td>...</td>\n",
              "      <td>...</td>\n",
              "      <td>...</td>\n",
              "      <td>...</td>\n",
              "      <td>...</td>\n",
              "      <td>...</td>\n",
              "      <td>...</td>\n",
              "      <td>...</td>\n",
              "    </tr>\n",
              "    <tr>\n",
              "      <th>216121</th>\n",
              "      <td>0.693447</td>\n",
              "      <td>0.662444</td>\n",
              "      <td>0.225256</td>\n",
              "      <td>0.946989</td>\n",
              "      <td>0.098375</td>\n",
              "      <td>0.721298</td>\n",
              "      <td>0.679879</td>\n",
              "      <td>0.000000</td>\n",
              "      <td>0.080746</td>\n",
              "      <td>-0.000583</td>\n",
              "      <td>97.413793</td>\n",
              "      <td>0</td>\n",
              "      <td>227</td>\n",
              "    </tr>\n",
              "    <tr>\n",
              "      <th>216122</th>\n",
              "      <td>0.690859</td>\n",
              "      <td>0.673246</td>\n",
              "      <td>0.223058</td>\n",
              "      <td>0.946728</td>\n",
              "      <td>0.055541</td>\n",
              "      <td>0.721455</td>\n",
              "      <td>0.681533</td>\n",
              "      <td>0.000000</td>\n",
              "      <td>0.082113</td>\n",
              "      <td>-0.000605</td>\n",
              "      <td>97.844828</td>\n",
              "      <td>0</td>\n",
              "      <td>228</td>\n",
              "    </tr>\n",
              "    <tr>\n",
              "      <th>216123</th>\n",
              "      <td>0.687785</td>\n",
              "      <td>0.682417</td>\n",
              "      <td>0.220548</td>\n",
              "      <td>0.946697</td>\n",
              "      <td>0.004995</td>\n",
              "      <td>0.721266</td>\n",
              "      <td>0.682831</td>\n",
              "      <td>0.000000</td>\n",
              "      <td>0.083525</td>\n",
              "      <td>-0.000617</td>\n",
              "      <td>98.275862</td>\n",
              "      <td>0</td>\n",
              "      <td>229</td>\n",
              "    </tr>\n",
              "    <tr>\n",
              "      <th>216124</th>\n",
              "      <td>0.684092</td>\n",
              "      <td>0.690156</td>\n",
              "      <td>0.217636</td>\n",
              "      <td>0.946853</td>\n",
              "      <td>0.955442</td>\n",
              "      <td>0.720760</td>\n",
              "      <td>0.683665</td>\n",
              "      <td>0.015011</td>\n",
              "      <td>0.084984</td>\n",
              "      <td>-0.000614</td>\n",
              "      <td>98.706897</td>\n",
              "      <td>0</td>\n",
              "      <td>230</td>\n",
              "    </tr>\n",
              "    <tr>\n",
              "      <th>216125</th>\n",
              "      <td>0.679601</td>\n",
              "      <td>0.696662</td>\n",
              "      <td>0.214195</td>\n",
              "      <td>0.947150</td>\n",
              "      <td>0.914683</td>\n",
              "      <td>0.719951</td>\n",
              "      <td>0.683925</td>\n",
              "      <td>0.023043</td>\n",
              "      <td>0.086488</td>\n",
              "      <td>-0.000594</td>\n",
              "      <td>99.137931</td>\n",
              "      <td>0</td>\n",
              "      <td>231</td>\n",
              "    </tr>\n",
              "  </tbody>\n",
              "</table>\n",
              "<p>216126 rows × 13 columns</p>\n",
              "</div>"
            ],
            "text/plain": [
              "        l_ph_hip  l_ph_ank   l_ph_fo  r_ph_hip  r_ph_ank   r_ph_fo    n_lgrf  \\\n",
              "0       0.641317  0.666941  0.153010  0.958910  0.866357  0.753892  0.671650   \n",
              "1       0.623911  0.658566  0.110126  0.957734  0.846948  0.751823  0.670171   \n",
              "2       0.599884  0.649852  0.033764  0.956194  0.832833  0.749830  0.666836   \n",
              "3       0.566736  0.640870  0.938698  0.954287  0.822264  0.747866  0.661449   \n",
              "4       0.523148  0.631703  0.870875  0.952015  0.814131  0.745887  0.653827   \n",
              "...          ...       ...       ...       ...       ...       ...       ...   \n",
              "216121  0.693447  0.662444  0.225256  0.946989  0.098375  0.721298  0.679879   \n",
              "216122  0.690859  0.673246  0.223058  0.946728  0.055541  0.721455  0.681533   \n",
              "216123  0.687785  0.682417  0.220548  0.946697  0.004995  0.721266  0.682831   \n",
              "216124  0.684092  0.690156  0.217636  0.946853  0.955442  0.720760  0.683665   \n",
              "216125  0.679601  0.696662  0.214195  0.947150  0.914683  0.719951  0.683925   \n",
              "\n",
              "         n_r_grf    n_lcop    n_rcop   perc_new  st_sw_phase  strike_frame  \n",
              "0       0.039560  0.091556 -0.000039   0.000000            0             1  \n",
              "1       0.057615  0.092713 -0.000004   0.487805            0             2  \n",
              "2       0.078883  0.093802  0.000040   0.975610            1             3  \n",
              "3       0.102954  0.094773  0.000095   1.463415            1             4  \n",
              "4       0.129321  0.095577  0.000159   1.951220            1             5  \n",
              "...          ...       ...       ...        ...          ...           ...  \n",
              "216121  0.000000  0.080746 -0.000583  97.413793            0           227  \n",
              "216122  0.000000  0.082113 -0.000605  97.844828            0           228  \n",
              "216123  0.000000  0.083525 -0.000617  98.275862            0           229  \n",
              "216124  0.015011  0.084984 -0.000614  98.706897            0           230  \n",
              "216125  0.023043  0.086488 -0.000594  99.137931            0           231  \n",
              "\n",
              "[216126 rows x 13 columns]"
            ]
          },
          "execution_count": 71,
          "metadata": {},
          "output_type": "execute_result"
        }
      ],
      "source": [
        "cycle = 0\n",
        "cycle_list = []\n",
        "\n",
        "start = 0\n",
        "\n",
        "for i in range(len(all_data) - 1):\n",
        "    if (all_data['perc_new'][i+1] == 0):\n",
        "        cycle += 1\n",
        "        cycle_list.append(all_data.iloc[start:i])\n",
        "        start = i+1\n",
        "\n",
        "random.shuffle(cycle_list)\n",
        "source_table = pd.concat(cycle_list, axis=0, ignore_index=True)\n",
        "\n",
        "source_table\n"
      ]
    },
    {
      "cell_type": "code",
      "execution_count": 72,
      "metadata": {
        "colab": {
          "base_uri": "https://localhost:8080/",
          "height": 423
        },
        "id": "CX2LzKWuhOv6",
        "outputId": "4f35b670-47ce-4c70-d869-79ec202b1a6e"
      },
      "outputs": [
        {
          "data": {
            "text/html": [
              "<div>\n",
              "<style scoped>\n",
              "    .dataframe tbody tr th:only-of-type {\n",
              "        vertical-align: middle;\n",
              "    }\n",
              "\n",
              "    .dataframe tbody tr th {\n",
              "        vertical-align: top;\n",
              "    }\n",
              "\n",
              "    .dataframe thead th {\n",
              "        text-align: right;\n",
              "    }\n",
              "</style>\n",
              "<table border=\"1\" class=\"dataframe\">\n",
              "  <thead>\n",
              "    <tr style=\"text-align: right;\">\n",
              "      <th></th>\n",
              "      <th>l_ph_fo</th>\n",
              "      <th>r_ph_fo</th>\n",
              "      <th>n_lcop</th>\n",
              "      <th>n_rcop</th>\n",
              "      <th>perc_new</th>\n",
              "      <th>st_sw_phase</th>\n",
              "      <th>strike_frame</th>\n",
              "    </tr>\n",
              "  </thead>\n",
              "  <tbody>\n",
              "    <tr>\n",
              "      <th>0</th>\n",
              "      <td>0.153010</td>\n",
              "      <td>0.753892</td>\n",
              "      <td>0.091556</td>\n",
              "      <td>-0.000039</td>\n",
              "      <td>0.000000</td>\n",
              "      <td>0</td>\n",
              "      <td>1</td>\n",
              "    </tr>\n",
              "    <tr>\n",
              "      <th>1</th>\n",
              "      <td>0.110126</td>\n",
              "      <td>0.751823</td>\n",
              "      <td>0.092713</td>\n",
              "      <td>-0.000004</td>\n",
              "      <td>0.487805</td>\n",
              "      <td>0</td>\n",
              "      <td>2</td>\n",
              "    </tr>\n",
              "    <tr>\n",
              "      <th>2</th>\n",
              "      <td>0.033764</td>\n",
              "      <td>0.749830</td>\n",
              "      <td>0.093802</td>\n",
              "      <td>0.000040</td>\n",
              "      <td>0.975610</td>\n",
              "      <td>1</td>\n",
              "      <td>3</td>\n",
              "    </tr>\n",
              "    <tr>\n",
              "      <th>3</th>\n",
              "      <td>0.938698</td>\n",
              "      <td>0.747866</td>\n",
              "      <td>0.094773</td>\n",
              "      <td>0.000095</td>\n",
              "      <td>1.463415</td>\n",
              "      <td>1</td>\n",
              "      <td>4</td>\n",
              "    </tr>\n",
              "    <tr>\n",
              "      <th>4</th>\n",
              "      <td>0.870875</td>\n",
              "      <td>0.745887</td>\n",
              "      <td>0.095577</td>\n",
              "      <td>0.000159</td>\n",
              "      <td>1.951220</td>\n",
              "      <td>1</td>\n",
              "      <td>5</td>\n",
              "    </tr>\n",
              "    <tr>\n",
              "      <th>...</th>\n",
              "      <td>...</td>\n",
              "      <td>...</td>\n",
              "      <td>...</td>\n",
              "      <td>...</td>\n",
              "      <td>...</td>\n",
              "      <td>...</td>\n",
              "      <td>...</td>\n",
              "    </tr>\n",
              "    <tr>\n",
              "      <th>216121</th>\n",
              "      <td>0.225256</td>\n",
              "      <td>0.721298</td>\n",
              "      <td>0.080746</td>\n",
              "      <td>-0.000583</td>\n",
              "      <td>97.413793</td>\n",
              "      <td>0</td>\n",
              "      <td>227</td>\n",
              "    </tr>\n",
              "    <tr>\n",
              "      <th>216122</th>\n",
              "      <td>0.223058</td>\n",
              "      <td>0.721455</td>\n",
              "      <td>0.082113</td>\n",
              "      <td>-0.000605</td>\n",
              "      <td>97.844828</td>\n",
              "      <td>0</td>\n",
              "      <td>228</td>\n",
              "    </tr>\n",
              "    <tr>\n",
              "      <th>216123</th>\n",
              "      <td>0.220548</td>\n",
              "      <td>0.721266</td>\n",
              "      <td>0.083525</td>\n",
              "      <td>-0.000617</td>\n",
              "      <td>98.275862</td>\n",
              "      <td>0</td>\n",
              "      <td>229</td>\n",
              "    </tr>\n",
              "    <tr>\n",
              "      <th>216124</th>\n",
              "      <td>0.217636</td>\n",
              "      <td>0.720760</td>\n",
              "      <td>0.084984</td>\n",
              "      <td>-0.000614</td>\n",
              "      <td>98.706897</td>\n",
              "      <td>0</td>\n",
              "      <td>230</td>\n",
              "    </tr>\n",
              "    <tr>\n",
              "      <th>216125</th>\n",
              "      <td>0.214195</td>\n",
              "      <td>0.719951</td>\n",
              "      <td>0.086488</td>\n",
              "      <td>-0.000594</td>\n",
              "      <td>99.137931</td>\n",
              "      <td>0</td>\n",
              "      <td>231</td>\n",
              "    </tr>\n",
              "  </tbody>\n",
              "</table>\n",
              "<p>216126 rows × 7 columns</p>\n",
              "</div>"
            ],
            "text/plain": [
              "         l_ph_fo   r_ph_fo    n_lcop    n_rcop   perc_new  st_sw_phase  \\\n",
              "0       0.153010  0.753892  0.091556 -0.000039   0.000000            0   \n",
              "1       0.110126  0.751823  0.092713 -0.000004   0.487805            0   \n",
              "2       0.033764  0.749830  0.093802  0.000040   0.975610            1   \n",
              "3       0.938698  0.747866  0.094773  0.000095   1.463415            1   \n",
              "4       0.870875  0.745887  0.095577  0.000159   1.951220            1   \n",
              "...          ...       ...       ...       ...        ...          ...   \n",
              "216121  0.225256  0.721298  0.080746 -0.000583  97.413793            0   \n",
              "216122  0.223058  0.721455  0.082113 -0.000605  97.844828            0   \n",
              "216123  0.220548  0.721266  0.083525 -0.000617  98.275862            0   \n",
              "216124  0.217636  0.720760  0.084984 -0.000614  98.706897            0   \n",
              "216125  0.214195  0.719951  0.086488 -0.000594  99.137931            0   \n",
              "\n",
              "        strike_frame  \n",
              "0                  1  \n",
              "1                  2  \n",
              "2                  3  \n",
              "3                  4  \n",
              "4                  5  \n",
              "...              ...  \n",
              "216121           227  \n",
              "216122           228  \n",
              "216123           229  \n",
              "216124           230  \n",
              "216125           231  \n",
              "\n",
              "[216126 rows x 7 columns]"
            ]
          },
          "execution_count": 72,
          "metadata": {},
          "output_type": "execute_result"
        }
      ],
      "source": [
        "source_table = source_table.drop([\"n_lgrf\",\"n_r_grf\",\"l_ph_ank\",\"r_ph_ank\", \"l_ph_hip\", \"r_ph_hip\"], axis = 1)\n",
        "source_table"
      ]
    },
    {
      "cell_type": "code",
      "execution_count": 73,
      "metadata": {
        "id": "Uy980Nr0hOv6"
      },
      "outputs": [],
      "source": [
        "x = source_table\n",
        "x = x.drop(['perc_new'], axis=1)\n",
        "scaler = MinMaxScaler()\n",
        "x_scaled = scaler.fit_transform(x)\n",
        "x_scaled = pd.DataFrame(x_scaled)\n",
        "\n",
        "encode_gait_percentage(source_table, 'perc_new')\n",
        "y = source_table[[\"X\",\"Y\"]]\n",
        "y\n",
        "\n",
        "data_x = x_scaled\n"
      ]
    },
    {
      "cell_type": "code",
      "execution_count": 74,
      "metadata": {
        "id": "NZJUQdlrhOv7"
      },
      "outputs": [],
      "source": [
        "data_y = y.values.reshape(-1,2)"
      ]
    },
    {
      "cell_type": "code",
      "execution_count": 75,
      "metadata": {
        "colab": {
          "base_uri": "https://localhost:8080/"
        },
        "id": "nPuERZxWhOv7",
        "outputId": "08448f4b-7486-476d-908d-a7a3510037d2"
      },
      "outputs": [
        {
          "data": {
            "text/plain": [
              "numpy.ndarray"
            ]
          },
          "execution_count": 75,
          "metadata": {},
          "output_type": "execute_result"
        }
      ],
      "source": [
        "type(data_y)"
      ]
    },
    {
      "cell_type": "code",
      "execution_count": 76,
      "metadata": {
        "id": "BMTNkMouLdlD"
      },
      "outputs": [],
      "source": [
        "\n",
        "#data_x,data_y= shuffle_multiple_datasets_based_on_gait_cycle( file_name, excel_path)\n",
        "\n",
        "X_train, X_test,y_train, y_test = train_test_split(data_x, data_y ,\n",
        "                        test_size=0.25,\n",
        "                        shuffle=False)\n",
        "look_back = 10\n",
        "fore_cast = 1\n",
        "\n",
        "train_x, train_y = convert_data(X_train, y_train, look_back, fore_cast)\n",
        "validation_x, validation_y = convert_data(X_test, y_test, look_back, fore_cast)\n"
      ]
    },
    {
      "cell_type": "code",
      "execution_count": 77,
      "metadata": {
        "colab": {
          "base_uri": "https://localhost:8080/"
        },
        "id": "LCK0YESF04ok",
        "outputId": "dd829adb-96a0-4c13-e920-2d2fe6ed3ce0"
      },
      "outputs": [
        {
          "name": "stdout",
          "output_type": "stream",
          "text": [
            "(162083, 10, 6)\n",
            "(162083, 2)\n",
            "(54021, 10, 6)\n",
            "(54021, 2)\n"
          ]
        }
      ],
      "source": [
        "print(train_x.shape)\n",
        "print(train_y.shape)\n",
        "print(validation_x.shape)\n",
        "print(validation_y.shape)\n"
      ]
    },
    {
      "cell_type": "code",
      "execution_count": 78,
      "metadata": {
        "colab": {
          "base_uri": "https://localhost:8080/"
        },
        "id": "hhL-sk1EhOv8",
        "outputId": "e9afdfe4-71b4-4776-dff0-bea128c5bb13"
      },
      "outputs": [
        {
          "data": {
            "text/plain": [
              "(162083, 10, 6)"
            ]
          },
          "execution_count": 78,
          "metadata": {},
          "output_type": "execute_result"
        }
      ],
      "source": [
        "train_x.shape"
      ]
    },
    {
      "cell_type": "code",
      "execution_count": 79,
      "metadata": {
        "colab": {
          "base_uri": "https://localhost:8080/"
        },
        "id": "_pUL_UtrTApY",
        "outputId": "26d74cf0-dfb8-4ee7-ae8e-21bbc1cb63e0"
      },
      "outputs": [
        {
          "name": "stdout",
          "output_type": "stream",
          "text": [
            "(5401, 10, 6)\n",
            "(5401, 2)\n"
          ]
        }
      ],
      "source": [
        "n1=validation_x.shape[0]\n",
        "val_x=validation_x[1:int(n1/10),:]\n",
        "val_y=validation_y[1:int(n1/10),:]\n",
        "print(val_x.shape)\n",
        "print(val_y.shape)"
      ]
    },
    {
      "cell_type": "code",
      "execution_count": 80,
      "metadata": {
        "id": "amQi1sX8bxzx"
      },
      "outputs": [],
      "source": [
        "from keras import Model\n",
        "from keras.layers import Layer\n",
        "import keras.backend as K\n",
        "from keras.layers import Input, Dense, SimpleRNN\n",
        "from sklearn.preprocessing import MinMaxScaler\n",
        "from keras.models import Sequential\n",
        "from keras.metrics import mean_squared_error\n",
        "\n",
        "class attention(Layer):\n",
        "    def __init__(self,**kwargs):\n",
        "        super(attention,self).__init__(**kwargs)\n",
        "\n",
        "    def build(self,input_shape):\n",
        "        self.W=self.add_weight(name='attention_weight', shape=(input_shape[-1],1),\n",
        "                               initializer='random_normal', trainable=True)\n",
        "        self.b=self.add_weight(name='attention_bias', shape=(input_shape[1],1),\n",
        "                               initializer='zeros', trainable=True)\n",
        "        super(attention, self).build(input_shape)\n",
        "\n",
        "    def call(self,x):\n",
        "        # Alignment scores. Pass them through tanh function\n",
        "        e = K.tanh(K.dot(x,self.W)+self.b)\n",
        "        # Remove dimension of size 1\n",
        "        e = K.squeeze(e, axis=-1)\n",
        "        # Compute the weights\n",
        "        alpha = K.softmax(e)\n",
        "        # Reshape to tensorFlow format\n",
        "        alpha = K.expand_dims(alpha, axis=-1)\n",
        "        # Compute the context vector\n",
        "        context = x * alpha\n",
        "        context = K.sum(context, axis=1)\n",
        "        return context"
      ]
    },
    {
      "cell_type": "code",
      "execution_count": 81,
      "metadata": {
        "colab": {
          "base_uri": "https://localhost:8080/"
        },
        "id": "-8zWSAa3nHGO",
        "outputId": "8bf946f3-faf8-463d-9b52-c91641d39ad3"
      },
      "outputs": [
        {
          "name": "stdout",
          "output_type": "stream",
          "text": [
            "Model: \"model_4\"\n",
            "_________________________________________________________________\n",
            " Layer (type)                Output Shape              Param #   \n",
            "=================================================================\n",
            " input_3 (InputLayer)        [(None, 10, 6)]           0         \n",
            "                                                                 \n",
            " lstm_8 (LSTM)               (None, 10, 64)            18176     \n",
            "                                                                 \n",
            " lstm_9 (LSTM)               (None, 10, 32)            12416     \n",
            "                                                                 \n",
            " attention_2 (attention)     (None, 32)                42        \n",
            "                                                                 \n",
            " repeat_vector_2 (RepeatVect  (None, 10, 32)           0         \n",
            " or)                                                             \n",
            "                                                                 \n",
            " lstm_10 (LSTM)              (None, 10, 32)            8320      \n",
            "                                                                 \n",
            " lstm_11 (LSTM)              (None, 10, 64)            24832     \n",
            "                                                                 \n",
            " time_distributed_2 (TimeDis  (None, 10, 6)            390       \n",
            " tributed)                                                       \n",
            "                                                                 \n",
            "=================================================================\n",
            "Total params: 64,176\n",
            "Trainable params: 64,176\n",
            "Non-trainable params: 0\n",
            "_________________________________________________________________\n"
          ]
        }
      ],
      "source": [
        "\n",
        "lr = 0.001\n",
        "epochs = 30\n",
        "batch = 128\n",
        "\n",
        "x=Input(shape=(10, train_x.shape[2]))\n",
        "n_features=train_x.shape[2]\n",
        "# RNN_layer = SimpleRNN(hidden_units, return_sequences=True, activation=activation)(x)\n",
        "LSTM_layer1 = LSTM(64, return_sequences=True)(x)\n",
        "LSTM_layer2 = LSTM(32, return_sequences=True)(LSTM_layer1)\n",
        "attn_layer1 = attention()(LSTM_layer2)\n",
        "rep_layer = L.RepeatVector((10))(attn_layer1)\n",
        "# attn_layer2 = attention()(rep_layer)\n",
        "LSTM_layer3 = LSTM(32, return_sequences=True)(rep_layer)\n",
        "LSTM_layer4 = LSTM(64, return_sequences=True)(LSTM_layer3)\n",
        "lin_layer = L.TimeDistributed(L.Dense(n_features))(LSTM_layer4)\n",
        "# tmp_layer = Flatten()(rep_layer)\n",
        "# lin_layer = L.Dense(2)(tmp_layer)\n",
        "model=Model(x,lin_layer)\n",
        "model.summary()\n",
        "adam = optimizers.Adam(lr)\n",
        "model.compile(loss='mse', optimizer=adam)"
      ]
    },
    {
      "cell_type": "code",
      "execution_count": 82,
      "metadata": {
        "colab": {
          "base_uri": "https://localhost:8080/"
        },
        "id": "5-pm5CPkuTWk",
        "outputId": "3a67a8e4-58c0-49fb-d4f4-0149ee95790e"
      },
      "outputs": [
        {
          "name": "stdout",
          "output_type": "stream",
          "text": [
            "Epoch 1/30\n",
            "1267/1267 [==============================] - 35s 24ms/step - loss: 0.0102\n",
            "Epoch 2/30\n",
            "1267/1267 [==============================] - 31s 25ms/step - loss: 0.0024\n",
            "Epoch 3/30\n",
            "1267/1267 [==============================] - 60s 48ms/step - loss: 0.0017\n",
            "Epoch 4/30\n",
            "1267/1267 [==============================] - 63s 50ms/step - loss: 0.0013\n",
            "Epoch 5/30\n",
            "1267/1267 [==============================] - 66s 52ms/step - loss: 0.0010\n",
            "Epoch 6/30\n",
            "1267/1267 [==============================] - 45s 35ms/step - loss: 8.2886e-04\n",
            "Epoch 7/30\n",
            "1267/1267 [==============================] - 35s 27ms/step - loss: 6.7908e-04\n",
            "Epoch 8/30\n",
            "1267/1267 [==============================] - 33s 26ms/step - loss: 5.7383e-04\n",
            "Epoch 9/30\n",
            "1267/1267 [==============================] - 33s 26ms/step - loss: 4.8800e-04\n",
            "Epoch 10/30\n",
            "1267/1267 [==============================] - 33s 26ms/step - loss: 4.1274e-04\n",
            "Epoch 11/30\n",
            "1267/1267 [==============================] - 34s 27ms/step - loss: 3.9252e-04\n",
            "Epoch 12/30\n",
            "1267/1267 [==============================] - 34s 27ms/step - loss: 3.1866e-04\n",
            "Epoch 13/30\n",
            "1267/1267 [==============================] - 34s 27ms/step - loss: 2.9610e-04\n",
            "Epoch 14/30\n",
            "1267/1267 [==============================] - 34s 27ms/step - loss: 2.6629e-04\n",
            "Epoch 15/30\n",
            "1267/1267 [==============================] - 35s 28ms/step - loss: 2.3804e-04\n",
            "Epoch 16/30\n",
            "1267/1267 [==============================] - 35s 27ms/step - loss: 2.1845e-04\n",
            "Epoch 17/30\n",
            "1267/1267 [==============================] - 35s 27ms/step - loss: 2.0936e-04\n",
            "Epoch 18/30\n",
            "1267/1267 [==============================] - 36s 28ms/step - loss: 1.6993e-04\n",
            "Epoch 19/30\n",
            "1267/1267 [==============================] - 35s 28ms/step - loss: 1.6272e-04\n",
            "Epoch 20/30\n",
            "1267/1267 [==============================] - 35s 28ms/step - loss: 1.6045e-04\n",
            "Epoch 21/30\n",
            "1267/1267 [==============================] - 37s 29ms/step - loss: 1.3753e-04\n",
            "Epoch 22/30\n",
            "1267/1267 [==============================] - 36s 28ms/step - loss: 1.3646e-04\n",
            "Epoch 23/30\n",
            "1267/1267 [==============================] - 37s 29ms/step - loss: 1.2103e-04\n",
            "Epoch 24/30\n",
            "1267/1267 [==============================] - 36s 29ms/step - loss: 1.0328e-04\n",
            "Epoch 25/30\n",
            "1267/1267 [==============================] - 37s 29ms/step - loss: 1.1447e-04\n",
            "Epoch 26/30\n",
            "1267/1267 [==============================] - 37s 29ms/step - loss: 9.8029e-05\n",
            "Epoch 27/30\n",
            "1267/1267 [==============================] - 38s 30ms/step - loss: 9.5845e-05\n",
            "Epoch 28/30\n",
            "1267/1267 [==============================] - 38s 30ms/step - loss: 1.0219e-04\n",
            "Epoch 29/30\n",
            "1267/1267 [==============================] - 38s 30ms/step - loss: 8.2212e-05\n",
            "Epoch 30/30\n",
            "1267/1267 [==============================] - 38s 30ms/step - loss: 9.2356e-05\n"
          ]
        }
      ],
      "source": [
        "model_history = model.fit( train_x, train_x, epochs=epochs, batch_size=batch,  verbose=1)"
      ]
    },
    {
      "cell_type": "code",
      "execution_count": 83,
      "metadata": {
        "colab": {
          "base_uri": "https://localhost:8080/"
        },
        "id": "WZTBKcUZ6YWk",
        "outputId": "33be785e-bc3a-46eb-dc72-ff5c50d0268f"
      },
      "outputs": [
        {
          "name": "stdout",
          "output_type": "stream",
          "text": [
            "5066/5066 [==============================] - 15s 3ms/step\n",
            "1689/1689 [==============================] - 6s 3ms/step\n",
            "Encoded time-series shape (162083, 32)\n",
            "Encoded time-series sample [ 0.39099365 -0.17283279  0.27608448 -0.6405616  -0.36417913 -0.87117875\n",
            "  0.36937332 -0.15135694  0.16506281 -0.5600277   0.04398792 -0.36531413\n",
            "  0.67733    -0.7624607   0.4751253  -0.54853445  0.8534491   0.6290537\n",
            "  0.08917607  0.07693354  0.09243859 -0.35729986  0.11280491 -0.85886097\n",
            " -0.20172733 -0.49410558  0.78733     0.4305156  -0.4251297  -0.69181085\n",
            "  0.36300087 -0.84932756]\n"
          ]
        }
      ],
      "source": [
        "encoder = Model(inputs=model.inputs, outputs=model.layers[3].output)\n",
        "train_encoded = encoder.predict(train_x)\n",
        "validation_encoded = encoder.predict(validation_x)\n",
        "print('Encoded time-series shape', train_encoded.shape)\n",
        "print('Encoded time-series sample', train_encoded[0])"
      ]
    },
    {
      "cell_type": "code",
      "execution_count": 84,
      "metadata": {
        "colab": {
          "base_uri": "https://localhost:8080/"
        },
        "id": "gqQpm8-DInAX",
        "outputId": "6fd29023-11e1-4055-85b5-a82116bf9389"
      },
      "outputs": [],
      "source": [
        "#model.save(path+\"autoen_new_model\")"
      ]
    },
    {
      "cell_type": "code",
      "execution_count": 85,
      "metadata": {
        "id": "MiLnoJ_WEU6x"
      },
      "outputs": [],
      "source": [
        "def step_decay(epoch):\n",
        "\tinitial_lrate = 0.001\n",
        "\tdrop = 0.005\n",
        "\tepochs_drop = 10\n",
        "\tlrate=initial_lrate - 0.00001\n",
        "\t# lrate = initial_lrate * math.pow(drop, math.floor((1+epoch)/epochs_drop))\n",
        "\treturn lrate\n"
      ]
    },
    {
      "cell_type": "code",
      "execution_count": 86,
      "metadata": {
        "colab": {
          "base_uri": "https://localhost:8080/"
        },
        "id": "272NzH1S7itN",
        "outputId": "b9bebc54-b04b-4667-cb2b-36e6205ee254"
      },
      "outputs": [
        {
          "name": "stdout",
          "output_type": "stream",
          "text": [
            "Model: \"sequential_2\"\n",
            "_________________________________________________________________\n",
            " Layer (type)                Output Shape              Param #   \n",
            "=================================================================\n",
            " dense_9 (Dense)             (None, 32)                1056      \n",
            "                                                                 \n",
            " dense_10 (Dense)            (None, 8)                 264       \n",
            "                                                                 \n",
            " dense_11 (Dense)            (None, 2)                 18        \n",
            "                                                                 \n",
            "=================================================================\n",
            "Total params: 1,338\n",
            "Trainable params: 1,338\n",
            "Non-trainable params: 0\n",
            "_________________________________________________________________\n"
          ]
        }
      ],
      "source": [
        "mlp_model = Sequential()\n",
        "mlp_model.add(L.Dense(32, kernel_initializer='glorot_normal', activation='relu', input_dim=(train_encoded.shape[1])))\n",
        "# mlp_model.add(L.Dense(32, kernel_initializer='glorot_normal', activation='relu', input_dim=(train_encoded.shape[1])))\n",
        "\n",
        "mlp_model.add(L.Dense(8, kernel_initializer='glorot_normal', activation='relu'))\n",
        "mlp_model.add(L.Dense(2))\n",
        "mlp_model.summary()\n",
        "\n",
        "initial_learning_rate = 0.001\n",
        "lr_schedule = tf.keras.optimizers.schedules.ExponentialDecay(\n",
        "    initial_learning_rate,\n",
        "    decay_steps=100000,\n",
        "    decay_rate=0.96,\n",
        "    staircase=True)\n",
        "adam = optimizers.Adam(lr_schedule)\n",
        "\n",
        "mlp_model.compile(loss='mse', optimizer=adam)\n",
        "lrate = LearningRateScheduler(step_decay)"
      ]
    },
    {
      "cell_type": "code",
      "execution_count": 87,
      "metadata": {
        "colab": {
          "base_uri": "https://localhost:8080/"
        },
        "id": "7U14GxFkEcz3",
        "outputId": "5108fd08-829f-490b-cff6-f62e78a5e01f"
      },
      "outputs": [
        {
          "name": "stdout",
          "output_type": "stream",
          "text": [
            "Epoch 1/50\n",
            "1267/1267 - 1s - loss: 0.0372 - 1s/epoch - 1ms/step\n",
            "Epoch 2/50\n",
            "1267/1267 - 1s - loss: 0.0081 - 1s/epoch - 897us/step\n",
            "Epoch 3/50\n",
            "1267/1267 - 1s - loss: 0.0069 - 1s/epoch - 886us/step\n",
            "Epoch 4/50\n",
            "1267/1267 - 1s - loss: 0.0063 - 1s/epoch - 912us/step\n",
            "Epoch 5/50\n",
            "1267/1267 - 1s - loss: 0.0059 - 1s/epoch - 902us/step\n",
            "Epoch 6/50\n",
            "1267/1267 - 1s - loss: 0.0057 - 1s/epoch - 909us/step\n",
            "Epoch 7/50\n",
            "1267/1267 - 1s - loss: 0.0055 - 1s/epoch - 885us/step\n",
            "Epoch 8/50\n",
            "1267/1267 - 1s - loss: 0.0053 - 1s/epoch - 916us/step\n",
            "Epoch 9/50\n",
            "1267/1267 - 1s - loss: 0.0052 - 1s/epoch - 891us/step\n",
            "Epoch 10/50\n",
            "1267/1267 - 1s - loss: 0.0050 - 1s/epoch - 915us/step\n",
            "Epoch 11/50\n",
            "1267/1267 - 1s - loss: 0.0049 - 1s/epoch - 891us/step\n",
            "Epoch 12/50\n",
            "1267/1267 - 1s - loss: 0.0048 - 1s/epoch - 901us/step\n",
            "Epoch 13/50\n",
            "1267/1267 - 1s - loss: 0.0047 - 1s/epoch - 952us/step\n",
            "Epoch 14/50\n",
            "1267/1267 - 1s - loss: 0.0046 - 1s/epoch - 908us/step\n",
            "Epoch 15/50\n",
            "1267/1267 - 1s - loss: 0.0045 - 1s/epoch - 838us/step\n",
            "Epoch 16/50\n",
            "1267/1267 - 1s - loss: 0.0045 - 1s/epoch - 892us/step\n",
            "Epoch 17/50\n",
            "1267/1267 - 1s - loss: 0.0044 - 1s/epoch - 927us/step\n",
            "Epoch 18/50\n",
            "1267/1267 - 1s - loss: 0.0044 - 1s/epoch - 885us/step\n",
            "Epoch 19/50\n",
            "1267/1267 - 1s - loss: 0.0043 - 1s/epoch - 904us/step\n",
            "Epoch 20/50\n",
            "1267/1267 - 1s - loss: 0.0043 - 1s/epoch - 925us/step\n",
            "Epoch 21/50\n",
            "1267/1267 - 1s - loss: 0.0042 - 1s/epoch - 909us/step\n",
            "Epoch 22/50\n",
            "1267/1267 - 1s - loss: 0.0042 - 1s/epoch - 885us/step\n",
            "Epoch 23/50\n",
            "1267/1267 - 1s - loss: 0.0042 - 1s/epoch - 880us/step\n",
            "Epoch 24/50\n",
            "1267/1267 - 1s - loss: 0.0041 - 1s/epoch - 913us/step\n",
            "Epoch 25/50\n",
            "1267/1267 - 1s - loss: 0.0041 - 1s/epoch - 911us/step\n",
            "Epoch 26/50\n",
            "1267/1267 - 1s - loss: 0.0040 - 1s/epoch - 909us/step\n",
            "Epoch 27/50\n",
            "1267/1267 - 1s - loss: 0.0041 - 1s/epoch - 901us/step\n",
            "Epoch 28/50\n",
            "1267/1267 - 1s - loss: 0.0040 - 1s/epoch - 890us/step\n",
            "Epoch 29/50\n",
            "1267/1267 - 1s - loss: 0.0040 - 1s/epoch - 899us/step\n",
            "Epoch 30/50\n",
            "1267/1267 - 1s - loss: 0.0040 - 1s/epoch - 906us/step\n",
            "Epoch 31/50\n",
            "1267/1267 - 1s - loss: 0.0040 - 1s/epoch - 887us/step\n",
            "Epoch 32/50\n",
            "1267/1267 - 1s - loss: 0.0040 - 1s/epoch - 894us/step\n",
            "Epoch 33/50\n",
            "1267/1267 - 1s - loss: 0.0039 - 1s/epoch - 927us/step\n",
            "Epoch 34/50\n",
            "1267/1267 - 1s - loss: 0.0039 - 1s/epoch - 899us/step\n",
            "Epoch 35/50\n",
            "1267/1267 - 1s - loss: 0.0039 - 1s/epoch - 830us/step\n",
            "Epoch 36/50\n",
            "1267/1267 - 1s - loss: 0.0039 - 1s/epoch - 854us/step\n",
            "Epoch 37/50\n",
            "1267/1267 - 1s - loss: 0.0039 - 1s/epoch - 860us/step\n",
            "Epoch 38/50\n",
            "1267/1267 - 1s - loss: 0.0039 - 1s/epoch - 870us/step\n",
            "Epoch 39/50\n",
            "1267/1267 - 1s - loss: 0.0038 - 1s/epoch - 942us/step\n",
            "Epoch 40/50\n",
            "1267/1267 - 1s - loss: 0.0038 - 1s/epoch - 915us/step\n",
            "Epoch 41/50\n",
            "1267/1267 - 1s - loss: 0.0038 - 1s/epoch - 841us/step\n",
            "Epoch 42/50\n",
            "1267/1267 - 1s - loss: 0.0038 - 1s/epoch - 861us/step\n",
            "Epoch 42: early stopping\n"
          ]
        }
      ],
      "source": [
        "epochs = 50\n",
        "# lrate = LearningRateScheduler(step_decay)\n",
        "monitor = EarlyStopping(monitor='loss', min_delta=1e-5, patience=3, verbose=1, mode='auto')\n",
        "# train_encoded_reshaped=np.reshape(train_encoded,(train_encoded.shape[0], train_encoded.shape[1]*train_encoded.shape[2]))\n",
        "\n",
        "# train_encoded_reshaped=np.reshape(train_encoded,(train_encoded.shape[0], train_encoded.shape[1]))\n",
        "train_encoded_reshaped = train_encoded\n",
        "callback_list = [monitor]\n",
        "mlp_history = mlp_model.fit(train_encoded_reshaped , train_y, callbacks=callback_list, epochs=epochs, batch_size=batch,  verbose=2)"
      ]
    },
    {
      "cell_type": "code",
      "execution_count": 88,
      "metadata": {
        "colab": {
          "base_uri": "https://localhost:8080/"
        },
        "id": "POslTp5TF9QW",
        "outputId": "7db67cd2-29ca-4739-f1f6-deeb91b47852"
      },
      "outputs": [
        {
          "name": "stdout",
          "output_type": "stream",
          "text": [
            "5066/5066 [==============================] - 4s 872us/step\n",
            "1689/1689 [==============================] - 2s 924us/step\n"
          ]
        }
      ],
      "source": [
        "val_encoded_reshaped = validation_encoded\n",
        "trainPredict = mlp_model.predict(train_encoded_reshaped)\n",
        "testPredict = mlp_model.predict(val_encoded_reshaped)"
      ]
    },
    {
      "cell_type": "code",
      "execution_count": 89,
      "metadata": {
        "colab": {
          "base_uri": "https://localhost:8080/"
        },
        "id": "I8TZkfOkLUf5",
        "outputId": "7d4a43a4-8591-4da3-bc74-ae73453c2d4f"
      },
      "outputs": [
        {
          "data": {
            "text/plain": [
              "(54021, 2)"
            ]
          },
          "execution_count": 89,
          "metadata": {},
          "output_type": "execute_result"
        }
      ],
      "source": [
        "testPredict.shape"
      ]
    },
    {
      "cell_type": "code",
      "execution_count": 90,
      "metadata": {
        "colab": {
          "base_uri": "https://localhost:8080/"
        },
        "id": "QO0pIoqu36me",
        "outputId": "84e4fe5c-6e90-4dc3-cf61-3eaf22e6c454"
      },
      "outputs": [
        {
          "name": "stdout",
          "output_type": "stream",
          "text": [
            "Train Score: 0.06 RMSE\n",
            "Test Score: 0.06 RMSE\n"
          ]
        }
      ],
      "source": [
        "from sklearn.metrics import mean_squared_error\n",
        "\n",
        "trainScore = np.sqrt(mean_squared_error(train_y, trainPredict))\n",
        "print('Train Score: %.2f RMSE' % (trainScore))\n",
        "testScore = np.sqrt(mean_squared_error(validation_y, testPredict))\n",
        "print('Test Score: %.2f RMSE' % (testScore))"
      ]
    },
    {
      "cell_type": "code",
      "execution_count": 91,
      "metadata": {
        "colab": {
          "base_uri": "https://localhost:8080/"
        },
        "id": "ghh2H9ws4CPm",
        "outputId": "89d615f6-1816-4631-cd49-3ad92bd23db0"
      },
      "outputs": [
        {
          "data": {
            "text/plain": [
              "(54021, 6)"
            ]
          },
          "execution_count": 91,
          "metadata": {},
          "output_type": "execute_result"
        }
      ],
      "source": [
        "v = X_test[11:]\n",
        "v.shape"
      ]
    },
    {
      "cell_type": "code",
      "execution_count": 92,
      "metadata": {
        "id": "XBtXpqWU0nw0"
      },
      "outputs": [],
      "source": [
        "\n",
        "x_test = scaler.inverse_transform(v)\n",
        "\n",
        "pred = np.zeros((len(testPredict),1))\n",
        "\n",
        "for iter in range(len(testPredict)):\n",
        "  x = testPredict[iter][0]\n",
        "  y = testPredict[iter][1]\n",
        "  pred[iter] = ((math.atan2(y,x) + 2*math.pi) % (2*math.pi)) * (100 / (2*math.pi))\n",
        "\n",
        "\n",
        "  if ((pred[iter] >= 80) & (x_test[iter][-1] <= 20)) :\n",
        "    pred[iter] = pred[iter] - 100\n",
        "    \n",
        "    if abs(pred[iter]) >= 5:\n",
        "        pred[iter] = 0\n",
        "\n",
        "\n",
        "  if ((pred[iter] <= 20) & (x_test[iter][-1] >= 150)):\n",
        "     pred[iter] = 100 - pred[iter]\n",
        "     if abs(pred[iter]) >= 5:\n",
        "         pred[iter] = 100\n",
        "\n",
        "\n",
        "\n",
        "\n",
        "  #if (pred[iter] > 100):\n",
        "  #  pred[iter] = pred[iter] - 100\n",
        "\n",
        "pred1=pd.DataFrame(pred).sort_index().reset_index()"
      ]
    },
    {
      "cell_type": "code",
      "execution_count": 93,
      "metadata": {
        "id": "KIsIEir80qmo"
      },
      "outputs": [],
      "source": [
        "actual = np.zeros((len(validation_y),1))\n",
        "\n",
        "for iter in range(len(validation_y)):\n",
        "  x =validation_y[iter][0]\n",
        "  y =validation_y[iter][1]\n",
        "  actual[iter] = ((math.atan2(y,x) + 2*math.pi) % (2*math.pi)) * (100 / (2*math.pi))"
      ]
    },
    {
      "cell_type": "code",
      "execution_count": 94,
      "metadata": {
        "colab": {
          "base_uri": "https://localhost:8080/"
        },
        "id": "-bNRktP10tNK",
        "outputId": "2d5daf3e-38d4-4f07-92ae-c2943035c461"
      },
      "outputs": [
        {
          "name": "stdout",
          "output_type": "stream",
          "text": [
            "35504\n",
            "54021\n",
            "Precision  1 :  65.72258936339571\n",
            "48281\n",
            "54021\n",
            "Precision  2 :  89.37450250828381\n",
            "52033\n",
            "54021\n",
            "Precision  3 :  96.31994964921049\n",
            "53269\n",
            "54021\n",
            "Precision  4 :  98.60794876066714\n",
            "53656\n",
            "54021\n",
            "Precision  5 :  99.32433683197276\n"
          ]
        }
      ],
      "source": [
        "correct = 0\n",
        "for i in range(5):\n",
        "  correct = 0\n",
        "  for iter in range(len(actual)):\n",
        "    #if (abs(actual[iter] - pred[iter]) <= (i+1)) or (actual[iter]>98) or(actual[iter]<3):\n",
        "      #correct+=1\n",
        "      if (abs(actual[iter] - pred[iter]) <= (i+1)):\n",
        "        correct+=1\n",
        "\n",
        "  print(correct)\n",
        "  print(len(actual))\n",
        "\n",
        "  print(\"Precision \", i+1, \": \", correct * 100/len(actual))"
      ]
    },
    {
      "cell_type": "code",
      "execution_count": 95,
      "metadata": {
        "colab": {
          "base_uri": "https://localhost:8080/"
        },
        "id": "LfzR41e40wqK",
        "outputId": "9738b4c0-aae4-49b7-d179-f5b03a8c95e3"
      },
      "outputs": [
        {
          "name": "stdout",
          "output_type": "stream",
          "text": [
            "Predicting Percentage RMSE:  1.3266413968133188\n"
          ]
        }
      ],
      "source": [
        "perc_rmse = np.sqrt(mean_squared_error(actual, pred))\n",
        "print(\"Predicting Percentage RMSE: \", perc_rmse)\n",
        "\n"
      ]
    },
    {
      "cell_type": "code",
      "execution_count": 96,
      "metadata": {},
      "outputs": [
        {
          "name": "stdout",
          "output_type": "stream",
          "text": [
            "54021\n",
            "54021\n",
            "1.3266413968133137\n"
          ]
        }
      ],
      "source": [
        "rmse = 0\n",
        "length = len(actual)\n",
        "for i in range(len(actual)):\n",
        "\n",
        "    rmse = rmse + pow(pred[i] - actual[i], 2)\n",
        "rmse = rmse / length\n",
        "rmse = math.sqrt(rmse)\n",
        "print(length)\n",
        "print(len(actual))\n",
        "print(rmse)"
      ]
    },
    {
      "cell_type": "code",
      "execution_count": 97,
      "metadata": {
        "colab": {
          "base_uri": "https://localhost:8080/",
          "height": 465
        },
        "id": "Twk_YKQWJdO1",
        "outputId": "4ebcc703-2d9b-465b-975f-af37c9b231f9"
      },
      "outputs": [
        {
          "name": "stdout",
          "output_type": "stream",
          "text": [
            "35830\n",
            "54021\n"
          ]
        },
        {
          "data": {
            "image/png": "[encoded data removed]",
            "text/plain": [
              "<Figure size 432x288 with 1 Axes>"
            ]
          },
          "metadata": {
            "needs_background": "light"
          },
          "output_type": "display_data"
        }
      ],
      "source": [
        "correct = 0\n",
        "\n",
        "plt.figure()\n",
        "plt.scatter(pred, actual)\n",
        "for iter in range(len(actual)):\n",
        "  if actual[iter]<2 or actual[iter]>98:\n",
        "    correct+=1\n",
        "    continue\n",
        "  if (abs(actual[iter] - pred[iter]) <= 1):\n",
        "    correct+=1\n",
        "\n",
        "\n",
        "print(correct)\n",
        "print(len(actual))"
      ]
    },
    {
      "cell_type": "code",
      "execution_count": 98,
      "metadata": {
        "colab": {
          "base_uri": "https://localhost:8080/",
          "height": 469
        },
        "id": "FxfNpj92JhO5",
        "outputId": "d984288f-565c-4d3f-ff2c-24227e053917"
      },
      "outputs": [
        {
          "data": {
            "text/plain": [
              "Text(0.5, 1.0, 'Actual vs Prediction')"
            ]
          },
          "execution_count": 98,
          "metadata": {},
          "output_type": "execute_result"
        },
        {
          "data": {
            "image/png": "[encoded data removed]",
            "text/plain": [
              "<Figure size 432x288 with 1 Axes>"
            ]
          },
          "metadata": {
            "needs_background": "light"
          },
          "output_type": "display_data"
        }
      ],
      "source": [
        "plt.scatter(actual, pred, facecolors='none', edgecolors='crimson',alpha=0.4)\n",
        "p1 = max(max(pred), max(actual))\n",
        "p2 = min(min(pred), min(actual))\n",
        "\n",
        "ci = 0.1 * np.std([p1,p2]) / np.mean([p1,p2])\n",
        "\n",
        "plt.plot([p1, p2], [p1, p2], 'b-', linewidth =3)\n",
        "plt.title('Actual vs Prediction')"
      ]
    },
    {
      "cell_type": "code",
      "execution_count": 99,
      "metadata": {},
      "outputs": [
        {
          "data": {
            "text/plain": [
              "[<matplotlib.lines.Line2D at 0x1c89efd5b80>]"
            ]
          },
          "execution_count": 99,
          "metadata": {},
          "output_type": "execute_result"
        },
        {
          "data": {
            "image/png": "[encoded data removed]",
            "text/plain": [
              "<Figure size 1440x360 with 1 Axes>"
            ]
          },
          "metadata": {
            "needs_background": "light"
          },
          "output_type": "display_data"
        }
      ],
      "source": [
        "predfig=plt.figure(figsize=(20,5))\n",
        "dif = abs(actual-pred)\n",
        "\n",
        "plt.plot(dif,'.')"
      ]
    }
  ],
  "metadata": {
    "accelerator": "TPU",
    "colab": {
      "provenance": []
    },
    "kernelspec": {
      "display_name": "Python 3",
      "name": "python3"
    },
    "language_info": {
      "codemirror_mode": {
        "name": "ipython",
        "version": 3
      },
      "file_extension": ".py",
      "mimetype": "text/x-python",
      "name": "python",
      "nbconvert_exporter": "python",
      "pygments_lexer": "ipython3",
      "version": "3.8.10"
    }
  },
  "nbformat": 4,
  "nbformat_minor": 0
}
