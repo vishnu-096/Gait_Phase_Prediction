{
  "cells": [
    {
      "cell_type": "code",
      "execution_count": null,
      "metadata": {
        "id": "oUvebjog04oW"
      },
      "outputs": [],
      "source": [
        "import numpy as np\n",
        "import pandas as pd\n",
        "import tensorflow as tf\n",
        "import matplotlib.pyplot as plt\n",
        "import math\n",
        "import time\n",
        "import os\n",
        "import sys\n",
        "import json\n",
        "\n",
        "import scipy as sp\n",
        "from scipy import signal\n",
        "\n",
        "from keras.models import Sequential\n",
        "from keras.layers import Dense\n",
        "from keras.layers import LSTM\n",
        "from keras.callbacks import EarlyStopping\n",
        "from sklearn.preprocessing import MinMaxScaler\n",
        "from sklearn.feature_selection import SelectKBest\n",
        "from sklearn.feature_selection import f_regression\n",
        "from sklearn import metrics\n",
        "from statsmodels.tsa.seasonal import seasonal_decompose\n",
        "from statsmodels.graphics.tsaplots import plot_acf\n",
        "\n",
        "from tensorflow.keras.models import Sequential\n",
        "from tensorflow.keras.layers import *\n",
        "from tensorflow.keras.callbacks import ModelCheckpoint\n",
        "from tensorflow.keras.losses import MeanSquaredError\n",
        "from tensorflow.keras.metrics import RootMeanSquaredError\n",
        "from tensorflow.keras.optimizers import Adam\n",
        "from tensorflow.keras.layers import LSTM, Dense, Dropout, TimeDistributed, Conv1D, MaxPooling1D, Flatten, Bidirectional, Input, Flatten, Activation, Reshape, RepeatVector, Concatenate\n",
        "from tensorflow.keras import Sequential\n",
        "from tensorflow.keras.layers import *\n",
        "from keras.callbacks import EarlyStopping\n",
        "import tensorflow as tf\n",
        "\n",
        "from sklearn.preprocessing import MinMaxScaler\n",
        "from sklearn.model_selection import train_test_split\n",
        "\n",
        "import os, warnings, random\n",
        "from sklearn.metrics import mean_squared_error\n",
        "from sklearn.model_selection import train_test_split\n",
        "import tensorflow as tf\n",
        "import tensorflow.keras.layers as L\n",
        "from tensorflow.keras.layers import *\n",
        "from tensorflow.keras import optimizers, Sequential, Model\n",
        "from tensorflow.keras.callbacks import LearningRateScheduler"
      ]
    },
    {
      "cell_type": "code",
      "execution_count": null,
      "metadata": {
        "id": "ieOMqQ_o04oZ"
      },
      "outputs": [],
      "source": [
        "SEED = 13\n",
        "tf.random.set_seed(SEED)"
      ]
    },
    {
      "cell_type": "code",
      "execution_count": null,
      "metadata": {
        "id": "PKm1uOiX04oa"
      },
      "outputs": [],
      "source": [
        "def encode_gait_percentage(df, name):\n",
        "  percent = df[name].values.tolist()\n",
        "  X = np.zeros((len(df[name]),1))\n",
        "  Y = np.zeros((len(df[name]),1))\n",
        "  for i in range (len(percent)):\n",
        "    phi = percent[i] * 2 * math.pi / 100\n",
        "    X[i] = math.cos(phi)\n",
        "    Y[i] = math.sin(phi)\n",
        "  df['X'] = X\n",
        "  df['Y'] = Y"
      ]
    },
    {
      "cell_type": "code",
      "execution_count": null,
      "metadata": {
        "id": "PiqdGzio04oj"
      },
      "outputs": [],
      "source": [
        "def convert_data(d_x, d_y, look_back = 1, fore_cast = 1):\n",
        "    dataX = []\n",
        "    dataY = []\n",
        "\n",
        "    for i in range(look_back, len(d_x) - fore_cast):\n",
        "        dataX.append(d_x[i - look_back: i])\n",
        "        dataY.append(d_y[i + fore_cast,:])\n",
        "\n",
        "    return np.array(dataX), np.array(dataY)"
      ]
    },
    {
      "cell_type": "code",
      "execution_count": null,
      "metadata": {
        "colab": {
          "base_uri": "https://localhost:8080/"
        },
        "id": "x1qm5sIrhOv3",
        "outputId": "e0140101-74c0-4fd8-8e37-2760d8bbbc91"
      },
      "outputs": [
        {
          "output_type": "stream",
          "name": "stdout",
          "text": [
            "Mounted at /content/drive\n"
          ]
        }
      ],
      "source": [
        "from google.colab import drive\n",
        "\n",
        "drive.mount('/content/drive')\n",
        "path =path = '/content/drive/MyDrive/nmchr_lab/Subjects/inclined/new/right_based/'\n"
      ]
    },
    {
      "cell_type": "code",
      "execution_count": null,
      "metadata": {
        "id": "QUcI8IV6hOv4"
      },
      "outputs": [],
      "source": [
        "file_name = ['SKS_2_I_r.xlsx',  'SKS_3_I_r.xlsx',  'SKS_4_I_r.xlsx','SKS_5_I_r.xlsx', 'SD_2_I_r.xlsx',  'SD_3_I_r.xlsx',  'SD_4_I_r.xlsx','SD_5_I_r.xlsx', 'SD_1_I_r.xlsx']\n",
        "# file_name = ['PK_0_I.xlsx', 'PK_2_I.xlsx', 'PK_3_I.xlsx','PK_5_2_I.xlsx']\n",
        "# file_name = ['TH_4_I_r.xlsx', 'TH_3_I_r.xlsx', 'TH_2_I_r.xlsx']\n",
        "# file_name = ['SD_1_I_r.xlsx', 'SD_2_I_r.xlsx', 'SD_3_I_r.xlsx','SD_5_I_r.xlsx','SD_4_I_r.xlsx']\n",
        "\n",
        "file_list=[]\n",
        "\n",
        "for i in range (len(file_name)):\n",
        "    file_list.append(pd.read_excel(path+ file_name[i], sheet_name='Sheet1'))\n",
        "\n",
        "import random\n",
        "random.shuffle(file_list)\n",
        "\n",
        "all_data = pd.concat(file_list, axis=0, ignore_index=True)\n"
      ]
    },
    {
      "cell_type": "code",
      "execution_count": null,
      "metadata": {
        "colab": {
          "base_uri": "https://localhost:8080/"
        },
        "id": "-m7rgW5thOv4",
        "outputId": "27516863-0c58-4e92-8311-fd6b7cafd596"
      },
      "outputs": [
        {
          "output_type": "stream",
          "name": "stdout",
          "text": [
            "<class 'pandas.core.frame.DataFrame'>\n",
            "RangeIndex: 453260 entries, 0 to 453259\n",
            "Data columns (total 13 columns):\n",
            " #   Column        Non-Null Count   Dtype  \n",
            "---  ------        --------------   -----  \n",
            " 0   l_ph_hip      453260 non-null  float64\n",
            " 1   l_ph_ank      453260 non-null  float64\n",
            " 2   l_ph_fo       453260 non-null  float64\n",
            " 3   r_ph_hip      453260 non-null  float64\n",
            " 4   r_ph_ank      453260 non-null  float64\n",
            " 5   r_ph_fo       453260 non-null  float64\n",
            " 6   n_lgrf        453260 non-null  float64\n",
            " 7   n_r_grf       453260 non-null  float64\n",
            " 8   n_lcop        453260 non-null  float64\n",
            " 9   n_rcop        453260 non-null  float64\n",
            " 10  strike_frame  453260 non-null  int64  \n",
            " 11  perc          453260 non-null  float64\n",
            " 12  st_sw_phase   453260 non-null  int64  \n",
            "dtypes: float64(11), int64(2)\n",
            "memory usage: 45.0 MB\n"
          ]
        }
      ],
      "source": [
        "all_data.info()"
      ]
    },
    {
      "cell_type": "code",
      "execution_count": null,
      "metadata": {
        "colab": {
          "base_uri": "https://localhost:8080/",
          "height": 661
        },
        "id": "9zPHqQg4hOv5",
        "outputId": "183a8167-dbc3-4d9d-e251-2236538b3bbc"
      },
      "outputs": [
        {
          "output_type": "execute_result",
          "data": {
            "text/plain": [
              "        l_ph_hip  l_ph_ank   l_ph_fo  r_ph_hip  r_ph_ank   r_ph_fo    n_lgrf  \\\n",
              "0       0.579422  0.728283  0.824722  0.944556  0.852798  0.715394  0.788678   \n",
              "1       0.541914  0.728681  0.807850  0.943407  0.838606  0.714381  0.783316   \n",
              "2       0.496123  0.728944  0.796217  0.942094  0.827949  0.712877  0.775870   \n",
              "3       0.448026  0.729086  0.787733  0.940585  0.819759  0.710862  0.766080   \n",
              "4       0.405438  0.729114  0.781253  0.938852  0.813342  0.708286  0.753742   \n",
              "...          ...       ...       ...       ...       ...       ...       ...   \n",
              "451157  0.710613  0.751746  0.943747  0.017290  0.093317  0.724869  0.871078   \n",
              "451158  0.706361  0.750410  0.904541  0.011437  0.061550  0.723751  0.880184   \n",
              "451159  0.701397  0.749231  0.873076  0.005522  0.025155  0.722450  0.887812   \n",
              "451160  0.695483  0.748165  0.849081  0.999552  0.987367  0.720930  0.893622   \n",
              "451161  0.688275  0.747181  0.830970  0.993520  0.952195  0.719148  0.897324   \n",
              "\n",
              "         n_r_grf         n_lcop    n_rcop  strike_frame       perc  \\\n",
              "0       0.053675 -1.710029e-183  0.000855             1   0.000000   \n",
              "1       0.071134 -2.318295e-183  0.001294             2   0.469484   \n",
              "2       0.090660 -3.013682e-183  0.001805             3   0.938967   \n",
              "3       0.112038 -3.798608e-183  0.002394             4   1.408451   \n",
              "4       0.135157 -4.673614e-183  0.003066             5   1.877934   \n",
              "...          ...            ...       ...           ...        ...   \n",
              "451157  0.000000   1.658447e-01  0.000993           183  96.808511   \n",
              "451158  0.000000   1.672138e-01  0.001890           184  97.340426   \n",
              "451159  0.000000   1.684189e-01  0.002960           185  97.872340   \n",
              "451160  0.000000   1.694487e-01  0.004216           186  98.404255   \n",
              "451161  0.000000   1.702913e-01  0.005668           187  98.936170   \n",
              "\n",
              "        st_sw_phase  \n",
              "0                 1  \n",
              "1                 1  \n",
              "2                 1  \n",
              "3                 1  \n",
              "4                 1  \n",
              "...             ...  \n",
              "451157            0  \n",
              "451158            0  \n",
              "451159            0  \n",
              "451160            0  \n",
              "451161            0  \n",
              "\n",
              "[451162 rows x 13 columns]"
            ],
            "text/html": [
              "\n",
              "  <div id=\"df-cf9a59e0-6836-428d-ad48-01d972dd81fa\">\n",
              "    <div class=\"colab-df-container\">\n",
              "      <div>\n",
              "<style scoped>\n",
              "    .dataframe tbody tr th:only-of-type {\n",
              "        vertical-align: middle;\n",
              "    }\n",
              "\n",
              "    .dataframe tbody tr th {\n",
              "        vertical-align: top;\n",
              "    }\n",
              "\n",
              "    .dataframe thead th {\n",
              "        text-align: right;\n",
              "    }\n",
              "</style>\n",
              "<table border=\"1\" class=\"dataframe\">\n",
              "  <thead>\n",
              "    <tr style=\"text-align: right;\">\n",
              "      <th></th>\n",
              "      <th>l_ph_hip</th>\n",
              "      <th>l_ph_ank</th>\n",
              "      <th>l_ph_fo</th>\n",
              "      <th>r_ph_hip</th>\n",
              "      <th>r_ph_ank</th>\n",
              "      <th>r_ph_fo</th>\n",
              "      <th>n_lgrf</th>\n",
              "      <th>n_r_grf</th>\n",
              "      <th>n_lcop</th>\n",
              "      <th>n_rcop</th>\n",
              "      <th>strike_frame</th>\n",
              "      <th>perc</th>\n",
              "      <th>st_sw_phase</th>\n",
              "    </tr>\n",
              "  </thead>\n",
              "  <tbody>\n",
              "    <tr>\n",
              "      <th>0</th>\n",
              "      <td>0.579422</td>\n",
              "      <td>0.728283</td>\n",
              "      <td>0.824722</td>\n",
              "      <td>0.944556</td>\n",
              "      <td>0.852798</td>\n",
              "      <td>0.715394</td>\n",
              "      <td>0.788678</td>\n",
              "      <td>0.053675</td>\n",
              "      <td>-1.710029e-183</td>\n",
              "      <td>0.000855</td>\n",
              "      <td>1</td>\n",
              "      <td>0.000000</td>\n",
              "      <td>1</td>\n",
              "    </tr>\n",
              "    <tr>\n",
              "      <th>1</th>\n",
              "      <td>0.541914</td>\n",
              "      <td>0.728681</td>\n",
              "      <td>0.807850</td>\n",
              "      <td>0.943407</td>\n",
              "      <td>0.838606</td>\n",
              "      <td>0.714381</td>\n",
              "      <td>0.783316</td>\n",
              "      <td>0.071134</td>\n",
              "      <td>-2.318295e-183</td>\n",
              "      <td>0.001294</td>\n",
              "      <td>2</td>\n",
              "      <td>0.469484</td>\n",
              "      <td>1</td>\n",
              "    </tr>\n",
              "    <tr>\n",
              "      <th>2</th>\n",
              "      <td>0.496123</td>\n",
              "      <td>0.728944</td>\n",
              "      <td>0.796217</td>\n",
              "      <td>0.942094</td>\n",
              "      <td>0.827949</td>\n",
              "      <td>0.712877</td>\n",
              "      <td>0.775870</td>\n",
              "      <td>0.090660</td>\n",
              "      <td>-3.013682e-183</td>\n",
              "      <td>0.001805</td>\n",
              "      <td>3</td>\n",
              "      <td>0.938967</td>\n",
              "      <td>1</td>\n",
              "    </tr>\n",
              "    <tr>\n",
              "      <th>3</th>\n",
              "      <td>0.448026</td>\n",
              "      <td>0.729086</td>\n",
              "      <td>0.787733</td>\n",
              "      <td>0.940585</td>\n",
              "      <td>0.819759</td>\n",
              "      <td>0.710862</td>\n",
              "      <td>0.766080</td>\n",
              "      <td>0.112038</td>\n",
              "      <td>-3.798608e-183</td>\n",
              "      <td>0.002394</td>\n",
              "      <td>4</td>\n",
              "      <td>1.408451</td>\n",
              "      <td>1</td>\n",
              "    </tr>\n",
              "    <tr>\n",
              "      <th>4</th>\n",
              "      <td>0.405438</td>\n",
              "      <td>0.729114</td>\n",
              "      <td>0.781253</td>\n",
              "      <td>0.938852</td>\n",
              "      <td>0.813342</td>\n",
              "      <td>0.708286</td>\n",
              "      <td>0.753742</td>\n",
              "      <td>0.135157</td>\n",
              "      <td>-4.673614e-183</td>\n",
              "      <td>0.003066</td>\n",
              "      <td>5</td>\n",
              "      <td>1.877934</td>\n",
              "      <td>1</td>\n",
              "    </tr>\n",
              "    <tr>\n",
              "      <th>...</th>\n",
              "      <td>...</td>\n",
              "      <td>...</td>\n",
              "      <td>...</td>\n",
              "      <td>...</td>\n",
              "      <td>...</td>\n",
              "      <td>...</td>\n",
              "      <td>...</td>\n",
              "      <td>...</td>\n",
              "      <td>...</td>\n",
              "      <td>...</td>\n",
              "      <td>...</td>\n",
              "      <td>...</td>\n",
              "      <td>...</td>\n",
              "    </tr>\n",
              "    <tr>\n",
              "      <th>451157</th>\n",
              "      <td>0.710613</td>\n",
              "      <td>0.751746</td>\n",
              "      <td>0.943747</td>\n",
              "      <td>0.017290</td>\n",
              "      <td>0.093317</td>\n",
              "      <td>0.724869</td>\n",
              "      <td>0.871078</td>\n",
              "      <td>0.000000</td>\n",
              "      <td>1.658447e-01</td>\n",
              "      <td>0.000993</td>\n",
              "      <td>183</td>\n",
              "      <td>96.808511</td>\n",
              "      <td>0</td>\n",
              "    </tr>\n",
              "    <tr>\n",
              "      <th>451158</th>\n",
              "      <td>0.706361</td>\n",
              "      <td>0.750410</td>\n",
              "      <td>0.904541</td>\n",
              "      <td>0.011437</td>\n",
              "      <td>0.061550</td>\n",
              "      <td>0.723751</td>\n",
              "      <td>0.880184</td>\n",
              "      <td>0.000000</td>\n",
              "      <td>1.672138e-01</td>\n",
              "      <td>0.001890</td>\n",
              "      <td>184</td>\n",
              "      <td>97.340426</td>\n",
              "      <td>0</td>\n",
              "    </tr>\n",
              "    <tr>\n",
              "      <th>451159</th>\n",
              "      <td>0.701397</td>\n",
              "      <td>0.749231</td>\n",
              "      <td>0.873076</td>\n",
              "      <td>0.005522</td>\n",
              "      <td>0.025155</td>\n",
              "      <td>0.722450</td>\n",
              "      <td>0.887812</td>\n",
              "      <td>0.000000</td>\n",
              "      <td>1.684189e-01</td>\n",
              "      <td>0.002960</td>\n",
              "      <td>185</td>\n",
              "      <td>97.872340</td>\n",
              "      <td>0</td>\n",
              "    </tr>\n",
              "    <tr>\n",
              "      <th>451160</th>\n",
              "      <td>0.695483</td>\n",
              "      <td>0.748165</td>\n",
              "      <td>0.849081</td>\n",
              "      <td>0.999552</td>\n",
              "      <td>0.987367</td>\n",
              "      <td>0.720930</td>\n",
              "      <td>0.893622</td>\n",
              "      <td>0.000000</td>\n",
              "      <td>1.694487e-01</td>\n",
              "      <td>0.004216</td>\n",
              "      <td>186</td>\n",
              "      <td>98.404255</td>\n",
              "      <td>0</td>\n",
              "    </tr>\n",
              "    <tr>\n",
              "      <th>451161</th>\n",
              "      <td>0.688275</td>\n",
              "      <td>0.747181</td>\n",
              "      <td>0.830970</td>\n",
              "      <td>0.993520</td>\n",
              "      <td>0.952195</td>\n",
              "      <td>0.719148</td>\n",
              "      <td>0.897324</td>\n",
              "      <td>0.000000</td>\n",
              "      <td>1.702913e-01</td>\n",
              "      <td>0.005668</td>\n",
              "      <td>187</td>\n",
              "      <td>98.936170</td>\n",
              "      <td>0</td>\n",
              "    </tr>\n",
              "  </tbody>\n",
              "</table>\n",
              "<p>451162 rows × 13 columns</p>\n",
              "</div>\n",
              "      <button class=\"colab-df-convert\" onclick=\"convertToInteractive('df-cf9a59e0-6836-428d-ad48-01d972dd81fa')\"\n",
              "              title=\"Convert this dataframe to an interactive table.\"\n",
              "              style=\"display:none;\">\n",
              "        \n",
              "  <svg xmlns=\"http://www.w3.org/2000/svg\" height=\"24px\"viewBox=\"0 0 24 24\"\n",
              "       width=\"24px\">\n",
              "    <path d=\"M0 0h24v24H0V0z\" fill=\"none\"/>\n",
              "    <path d=\"M18.56 5.44l.94 2.06.94-2.06 2.06-.94-2.06-.94-.94-2.06-.94 2.06-2.06.94zm-11 1L8.5 8.5l.94-2.06 2.06-.94-2.06-.94L8.5 2.5l-.94 2.06-2.06.94zm10 10l.94 2.06.94-2.06 2.06-.94-2.06-.94-.94-2.06-.94 2.06-2.06.94z\"/><path d=\"M17.41 7.96l-1.37-1.37c-.4-.4-.92-.59-1.43-.59-.52 0-1.04.2-1.43.59L10.3 9.45l-7.72 7.72c-.78.78-.78 2.05 0 2.83L4 21.41c.39.39.9.59 1.41.59.51 0 1.02-.2 1.41-.59l7.78-7.78 2.81-2.81c.8-.78.8-2.07 0-2.86zM5.41 20L4 18.59l7.72-7.72 1.47 1.35L5.41 20z\"/>\n",
              "  </svg>\n",
              "      </button>\n",
              "      \n",
              "  <style>\n",
              "    .colab-df-container {\n",
              "      display:flex;\n",
              "      flex-wrap:wrap;\n",
              "      gap: 12px;\n",
              "    }\n",
              "\n",
              "    .colab-df-convert {\n",
              "      background-color: #E8F0FE;\n",
              "      border: none;\n",
              "      border-radius: 50%;\n",
              "      cursor: pointer;\n",
              "      display: none;\n",
              "      fill: #1967D2;\n",
              "      height: 32px;\n",
              "      padding: 0 0 0 0;\n",
              "      width: 32px;\n",
              "    }\n",
              "\n",
              "    .colab-df-convert:hover {\n",
              "      background-color: #E2EBFA;\n",
              "      box-shadow: 0px 1px 2px rgba(60, 64, 67, 0.3), 0px 1px 3px 1px rgba(60, 64, 67, 0.15);\n",
              "      fill: #174EA6;\n",
              "    }\n",
              "\n",
              "    [theme=dark] .colab-df-convert {\n",
              "      background-color: #3B4455;\n",
              "      fill: #D2E3FC;\n",
              "    }\n",
              "\n",
              "    [theme=dark] .colab-df-convert:hover {\n",
              "      background-color: #434B5C;\n",
              "      box-shadow: 0px 1px 3px 1px rgba(0, 0, 0, 0.15);\n",
              "      filter: drop-shadow(0px 1px 2px rgba(0, 0, 0, 0.3));\n",
              "      fill: #FFFFFF;\n",
              "    }\n",
              "  </style>\n",
              "\n",
              "      <script>\n",
              "        const buttonEl =\n",
              "          document.querySelector('#df-cf9a59e0-6836-428d-ad48-01d972dd81fa button.colab-df-convert');\n",
              "        buttonEl.style.display =\n",
              "          google.colab.kernel.accessAllowed ? 'block' : 'none';\n",
              "\n",
              "        async function convertToInteractive(key) {\n",
              "          const element = document.querySelector('#df-cf9a59e0-6836-428d-ad48-01d972dd81fa');\n",
              "          const dataTable =\n",
              "            await google.colab.kernel.invokeFunction('convertToInteractive',\n",
              "                                                     [key], {});\n",
              "          if (!dataTable) return;\n",
              "\n",
              "          const docLinkHtml = 'Like what you see? Visit the ' +\n",
              "            '<a target=\"_blank\" href=https://colab.research.google.com/notebooks/data_table.ipynb>data table notebook</a>'\n",
              "            + ' to learn more about interactive tables.';\n",
              "          element.innerHTML = '';\n",
              "          dataTable['output_type'] = 'display_data';\n",
              "          await google.colab.output.renderOutput(dataTable, element);\n",
              "          const docLink = document.createElement('div');\n",
              "          docLink.innerHTML = docLinkHtml;\n",
              "          element.appendChild(docLink);\n",
              "        }\n",
              "      </script>\n",
              "    </div>\n",
              "  </div>\n",
              "  "
            ]
          },
          "metadata": {},
          "execution_count": 9
        }
      ],
      "source": [
        "cycle = 0\n",
        "cycle_list = []\n",
        "\n",
        "start = 0\n",
        "\n",
        "for i in range(len(all_data) - 1):\n",
        "    if (all_data['perc'][i+1] == 0):\n",
        "        cycle += 1\n",
        "        cycle_list.append(all_data.iloc[start:i])\n",
        "        start = i+1\n",
        "\n",
        "random.shuffle(cycle_list)\n",
        "source_table = pd.concat(cycle_list, axis=0, ignore_index=True)\n",
        "\n",
        "source_table\n"
      ]
    },
    {
      "cell_type": "code",
      "execution_count": null,
      "metadata": {
        "colab": {
          "base_uri": "https://localhost:8080/",
          "height": 467
        },
        "id": "CX2LzKWuhOv6",
        "outputId": "364f689b-4d8b-4d73-b3db-6806825f5532"
      },
      "outputs": [
        {
          "output_type": "execute_result",
          "data": {
            "text/plain": [
              "        l_ph_hip   l_ph_fo  r_ph_hip   r_ph_fo         n_lcop    n_rcop  \\\n",
              "0       0.579422  0.824722  0.944556  0.715394 -1.710029e-183  0.000855   \n",
              "1       0.541914  0.807850  0.943407  0.714381 -2.318295e-183  0.001294   \n",
              "2       0.496123  0.796217  0.942094  0.712877 -3.013682e-183  0.001805   \n",
              "3       0.448026  0.787733  0.940585  0.710862 -3.798608e-183  0.002394   \n",
              "4       0.405438  0.781253  0.938852  0.708286 -4.673614e-183  0.003066   \n",
              "...          ...       ...       ...       ...            ...       ...   \n",
              "451157  0.710613  0.943747  0.017290  0.724869   1.658447e-01  0.000993   \n",
              "451158  0.706361  0.904541  0.011437  0.723751   1.672138e-01  0.001890   \n",
              "451159  0.701397  0.873076  0.005522  0.722450   1.684189e-01  0.002960   \n",
              "451160  0.695483  0.849081  0.999552  0.720930   1.694487e-01  0.004216   \n",
              "451161  0.688275  0.830970  0.993520  0.719148   1.702913e-01  0.005668   \n",
              "\n",
              "        strike_frame       perc  st_sw_phase  \n",
              "0                  1   0.000000            1  \n",
              "1                  2   0.469484            1  \n",
              "2                  3   0.938967            1  \n",
              "3                  4   1.408451            1  \n",
              "4                  5   1.877934            1  \n",
              "...              ...        ...          ...  \n",
              "451157           183  96.808511            0  \n",
              "451158           184  97.340426            0  \n",
              "451159           185  97.872340            0  \n",
              "451160           186  98.404255            0  \n",
              "451161           187  98.936170            0  \n",
              "\n",
              "[451162 rows x 9 columns]"
            ],
            "text/html": [
              "\n",
              "  <div id=\"df-84ccd816-d479-46aa-a853-97388ae1aac3\">\n",
              "    <div class=\"colab-df-container\">\n",
              "      <div>\n",
              "<style scoped>\n",
              "    .dataframe tbody tr th:only-of-type {\n",
              "        vertical-align: middle;\n",
              "    }\n",
              "\n",
              "    .dataframe tbody tr th {\n",
              "        vertical-align: top;\n",
              "    }\n",
              "\n",
              "    .dataframe thead th {\n",
              "        text-align: right;\n",
              "    }\n",
              "</style>\n",
              "<table border=\"1\" class=\"dataframe\">\n",
              "  <thead>\n",
              "    <tr style=\"text-align: right;\">\n",
              "      <th></th>\n",
              "      <th>l_ph_hip</th>\n",
              "      <th>l_ph_fo</th>\n",
              "      <th>r_ph_hip</th>\n",
              "      <th>r_ph_fo</th>\n",
              "      <th>n_lcop</th>\n",
              "      <th>n_rcop</th>\n",
              "      <th>strike_frame</th>\n",
              "      <th>perc</th>\n",
              "      <th>st_sw_phase</th>\n",
              "    </tr>\n",
              "  </thead>\n",
              "  <tbody>\n",
              "    <tr>\n",
              "      <th>0</th>\n",
              "      <td>0.579422</td>\n",
              "      <td>0.824722</td>\n",
              "      <td>0.944556</td>\n",
              "      <td>0.715394</td>\n",
              "      <td>-1.710029e-183</td>\n",
              "      <td>0.000855</td>\n",
              "      <td>1</td>\n",
              "      <td>0.000000</td>\n",
              "      <td>1</td>\n",
              "    </tr>\n",
              "    <tr>\n",
              "      <th>1</th>\n",
              "      <td>0.541914</td>\n",
              "      <td>0.807850</td>\n",
              "      <td>0.943407</td>\n",
              "      <td>0.714381</td>\n",
              "      <td>-2.318295e-183</td>\n",
              "      <td>0.001294</td>\n",
              "      <td>2</td>\n",
              "      <td>0.469484</td>\n",
              "      <td>1</td>\n",
              "    </tr>\n",
              "    <tr>\n",
              "      <th>2</th>\n",
              "      <td>0.496123</td>\n",
              "      <td>0.796217</td>\n",
              "      <td>0.942094</td>\n",
              "      <td>0.712877</td>\n",
              "      <td>-3.013682e-183</td>\n",
              "      <td>0.001805</td>\n",
              "      <td>3</td>\n",
              "      <td>0.938967</td>\n",
              "      <td>1</td>\n",
              "    </tr>\n",
              "    <tr>\n",
              "      <th>3</th>\n",
              "      <td>0.448026</td>\n",
              "      <td>0.787733</td>\n",
              "      <td>0.940585</td>\n",
              "      <td>0.710862</td>\n",
              "      <td>-3.798608e-183</td>\n",
              "      <td>0.002394</td>\n",
              "      <td>4</td>\n",
              "      <td>1.408451</td>\n",
              "      <td>1</td>\n",
              "    </tr>\n",
              "    <tr>\n",
              "      <th>4</th>\n",
              "      <td>0.405438</td>\n",
              "      <td>0.781253</td>\n",
              "      <td>0.938852</td>\n",
              "      <td>0.708286</td>\n",
              "      <td>-4.673614e-183</td>\n",
              "      <td>0.003066</td>\n",
              "      <td>5</td>\n",
              "      <td>1.877934</td>\n",
              "      <td>1</td>\n",
              "    </tr>\n",
              "    <tr>\n",
              "      <th>...</th>\n",
              "      <td>...</td>\n",
              "      <td>...</td>\n",
              "      <td>...</td>\n",
              "      <td>...</td>\n",
              "      <td>...</td>\n",
              "      <td>...</td>\n",
              "      <td>...</td>\n",
              "      <td>...</td>\n",
              "      <td>...</td>\n",
              "    </tr>\n",
              "    <tr>\n",
              "      <th>451157</th>\n",
              "      <td>0.710613</td>\n",
              "      <td>0.943747</td>\n",
              "      <td>0.017290</td>\n",
              "      <td>0.724869</td>\n",
              "      <td>1.658447e-01</td>\n",
              "      <td>0.000993</td>\n",
              "      <td>183</td>\n",
              "      <td>96.808511</td>\n",
              "      <td>0</td>\n",
              "    </tr>\n",
              "    <tr>\n",
              "      <th>451158</th>\n",
              "      <td>0.706361</td>\n",
              "      <td>0.904541</td>\n",
              "      <td>0.011437</td>\n",
              "      <td>0.723751</td>\n",
              "      <td>1.672138e-01</td>\n",
              "      <td>0.001890</td>\n",
              "      <td>184</td>\n",
              "      <td>97.340426</td>\n",
              "      <td>0</td>\n",
              "    </tr>\n",
              "    <tr>\n",
              "      <th>451159</th>\n",
              "      <td>0.701397</td>\n",
              "      <td>0.873076</td>\n",
              "      <td>0.005522</td>\n",
              "      <td>0.722450</td>\n",
              "      <td>1.684189e-01</td>\n",
              "      <td>0.002960</td>\n",
              "      <td>185</td>\n",
              "      <td>97.872340</td>\n",
              "      <td>0</td>\n",
              "    </tr>\n",
              "    <tr>\n",
              "      <th>451160</th>\n",
              "      <td>0.695483</td>\n",
              "      <td>0.849081</td>\n",
              "      <td>0.999552</td>\n",
              "      <td>0.720930</td>\n",
              "      <td>1.694487e-01</td>\n",
              "      <td>0.004216</td>\n",
              "      <td>186</td>\n",
              "      <td>98.404255</td>\n",
              "      <td>0</td>\n",
              "    </tr>\n",
              "    <tr>\n",
              "      <th>451161</th>\n",
              "      <td>0.688275</td>\n",
              "      <td>0.830970</td>\n",
              "      <td>0.993520</td>\n",
              "      <td>0.719148</td>\n",
              "      <td>1.702913e-01</td>\n",
              "      <td>0.005668</td>\n",
              "      <td>187</td>\n",
              "      <td>98.936170</td>\n",
              "      <td>0</td>\n",
              "    </tr>\n",
              "  </tbody>\n",
              "</table>\n",
              "<p>451162 rows × 9 columns</p>\n",
              "</div>\n",
              "      <button class=\"colab-df-convert\" onclick=\"convertToInteractive('df-84ccd816-d479-46aa-a853-97388ae1aac3')\"\n",
              "              title=\"Convert this dataframe to an interactive table.\"\n",
              "              style=\"display:none;\">\n",
              "        \n",
              "  <svg xmlns=\"http://www.w3.org/2000/svg\" height=\"24px\"viewBox=\"0 0 24 24\"\n",
              "       width=\"24px\">\n",
              "    <path d=\"M0 0h24v24H0V0z\" fill=\"none\"/>\n",
              "    <path d=\"M18.56 5.44l.94 2.06.94-2.06 2.06-.94-2.06-.94-.94-2.06-.94 2.06-2.06.94zm-11 1L8.5 8.5l.94-2.06 2.06-.94-2.06-.94L8.5 2.5l-.94 2.06-2.06.94zm10 10l.94 2.06.94-2.06 2.06-.94-2.06-.94-.94-2.06-.94 2.06-2.06.94z\"/><path d=\"M17.41 7.96l-1.37-1.37c-.4-.4-.92-.59-1.43-.59-.52 0-1.04.2-1.43.59L10.3 9.45l-7.72 7.72c-.78.78-.78 2.05 0 2.83L4 21.41c.39.39.9.59 1.41.59.51 0 1.02-.2 1.41-.59l7.78-7.78 2.81-2.81c.8-.78.8-2.07 0-2.86zM5.41 20L4 18.59l7.72-7.72 1.47 1.35L5.41 20z\"/>\n",
              "  </svg>\n",
              "      </button>\n",
              "      \n",
              "  <style>\n",
              "    .colab-df-container {\n",
              "      display:flex;\n",
              "      flex-wrap:wrap;\n",
              "      gap: 12px;\n",
              "    }\n",
              "\n",
              "    .colab-df-convert {\n",
              "      background-color: #E8F0FE;\n",
              "      border: none;\n",
              "      border-radius: 50%;\n",
              "      cursor: pointer;\n",
              "      display: none;\n",
              "      fill: #1967D2;\n",
              "      height: 32px;\n",
              "      padding: 0 0 0 0;\n",
              "      width: 32px;\n",
              "    }\n",
              "\n",
              "    .colab-df-convert:hover {\n",
              "      background-color: #E2EBFA;\n",
              "      box-shadow: 0px 1px 2px rgba(60, 64, 67, 0.3), 0px 1px 3px 1px rgba(60, 64, 67, 0.15);\n",
              "      fill: #174EA6;\n",
              "    }\n",
              "\n",
              "    [theme=dark] .colab-df-convert {\n",
              "      background-color: #3B4455;\n",
              "      fill: #D2E3FC;\n",
              "    }\n",
              "\n",
              "    [theme=dark] .colab-df-convert:hover {\n",
              "      background-color: #434B5C;\n",
              "      box-shadow: 0px 1px 3px 1px rgba(0, 0, 0, 0.15);\n",
              "      filter: drop-shadow(0px 1px 2px rgba(0, 0, 0, 0.3));\n",
              "      fill: #FFFFFF;\n",
              "    }\n",
              "  </style>\n",
              "\n",
              "      <script>\n",
              "        const buttonEl =\n",
              "          document.querySelector('#df-84ccd816-d479-46aa-a853-97388ae1aac3 button.colab-df-convert');\n",
              "        buttonEl.style.display =\n",
              "          google.colab.kernel.accessAllowed ? 'block' : 'none';\n",
              "\n",
              "        async function convertToInteractive(key) {\n",
              "          const element = document.querySelector('#df-84ccd816-d479-46aa-a853-97388ae1aac3');\n",
              "          const dataTable =\n",
              "            await google.colab.kernel.invokeFunction('convertToInteractive',\n",
              "                                                     [key], {});\n",
              "          if (!dataTable) return;\n",
              "\n",
              "          const docLinkHtml = 'Like what you see? Visit the ' +\n",
              "            '<a target=\"_blank\" href=https://colab.research.google.com/notebooks/data_table.ipynb>data table notebook</a>'\n",
              "            + ' to learn more about interactive tables.';\n",
              "          element.innerHTML = '';\n",
              "          dataTable['output_type'] = 'display_data';\n",
              "          await google.colab.output.renderOutput(dataTable, element);\n",
              "          const docLink = document.createElement('div');\n",
              "          docLink.innerHTML = docLinkHtml;\n",
              "          element.appendChild(docLink);\n",
              "        }\n",
              "      </script>\n",
              "    </div>\n",
              "  </div>\n",
              "  "
            ]
          },
          "metadata": {},
          "execution_count": 10
        }
      ],
      "source": [
        "source_table = source_table.drop([\"n_lgrf\",\"n_r_grf\",\"l_ph_ank\",\"r_ph_ank\",], axis = 1)\n",
        "source_table"
      ]
    },
    {
      "cell_type": "code",
      "execution_count": null,
      "metadata": {
        "id": "Uy980Nr0hOv6"
      },
      "outputs": [],
      "source": [
        "x = source_table\n",
        "x = x.drop(['perc'], axis=1)\n",
        "scaler = MinMaxScaler()\n",
        "x_scaled = scaler.fit_transform(x)\n",
        "x_scaled = pd.DataFrame(x_scaled)\n",
        "\n",
        "encode_gait_percentage(source_table, 'perc')\n",
        "y = source_table[[\"X\",\"Y\"]]\n",
        "y\n",
        "\n",
        "data_x = x_scaled\n"
      ]
    },
    {
      "cell_type": "code",
      "execution_count": null,
      "metadata": {
        "id": "NZJUQdlrhOv7"
      },
      "outputs": [],
      "source": [
        "data_y = y.values.reshape(-1,2)"
      ]
    },
    {
      "cell_type": "code",
      "execution_count": null,
      "metadata": {
        "colab": {
          "base_uri": "https://localhost:8080/"
        },
        "id": "nPuERZxWhOv7",
        "outputId": "f0789574-f377-474c-bef3-da7a60818cde"
      },
      "outputs": [
        {
          "output_type": "execute_result",
          "data": {
            "text/plain": [
              "numpy.ndarray"
            ]
          },
          "metadata": {},
          "execution_count": 13
        }
      ],
      "source": [
        "type(data_y)"
      ]
    },
    {
      "cell_type": "code",
      "execution_count": null,
      "metadata": {
        "id": "BMTNkMouLdlD"
      },
      "outputs": [],
      "source": [
        "\n",
        "#data_x,data_y= shuffle_multiple_datasets_based_on_gait_cycle( file_name, excel_path)\n",
        "\n",
        "X_train, X_test,y_train, y_test = train_test_split(data_x, data_y ,\n",
        "                        test_size=0.25,\n",
        "                        shuffle=False)\n",
        "look_back = 10\n",
        "fore_cast = 1\n",
        "\n",
        "train_x, train_y = convert_data(X_train, y_train, look_back, fore_cast)\n",
        "validation_x, validation_y = convert_data(X_test, y_test, look_back, fore_cast)\n"
      ]
    },
    {
      "cell_type": "code",
      "execution_count": null,
      "metadata": {
        "colab": {
          "base_uri": "https://localhost:8080/"
        },
        "id": "LCK0YESF04ok",
        "outputId": "b7b98790-a9df-4dd6-de66-c85d588aa96c"
      },
      "outputs": [
        {
          "output_type": "stream",
          "name": "stdout",
          "text": [
            "(338360, 10, 8)\n",
            "(338360, 2)\n",
            "(112780, 10, 8)\n",
            "(112780, 2)\n"
          ]
        }
      ],
      "source": [
        "print(train_x.shape)\n",
        "print(train_y.shape)\n",
        "print(validation_x.shape)\n",
        "print(validation_y.shape)\n"
      ]
    },
    {
      "cell_type": "code",
      "execution_count": null,
      "metadata": {
        "colab": {
          "base_uri": "https://localhost:8080/"
        },
        "id": "hhL-sk1EhOv8",
        "outputId": "c38815b8-c6c0-4981-fe6e-e80bb93732b3"
      },
      "outputs": [
        {
          "output_type": "execute_result",
          "data": {
            "text/plain": [
              "(338360, 10, 8)"
            ]
          },
          "metadata": {},
          "execution_count": 16
        }
      ],
      "source": [
        "train_x.shape"
      ]
    },
    {
      "cell_type": "code",
      "execution_count": null,
      "metadata": {
        "colab": {
          "base_uri": "https://localhost:8080/"
        },
        "id": "_pUL_UtrTApY",
        "outputId": "0fddcf0f-9ee2-43bb-d24b-b4d2216ace60"
      },
      "outputs": [
        {
          "output_type": "stream",
          "name": "stdout",
          "text": [
            "(11277, 10, 8)\n",
            "(11277, 2)\n"
          ]
        }
      ],
      "source": [
        "n1=validation_x.shape[0]\n",
        "val_x=validation_x[1:int(n1/10),:]\n",
        "val_y=validation_y[1:int(n1/10),:]\n",
        "print(val_x.shape)\n",
        "print(val_y.shape)"
      ]
    },
    {
      "cell_type": "code",
      "source": [
        "from keras import Model\n",
        "from keras.layers import Layer\n",
        "import keras.backend as K\n",
        "from keras.layers import Input, Dense, SimpleRNN\n",
        "from sklearn.preprocessing import MinMaxScaler\n",
        "from keras.models import Sequential\n",
        "from keras.metrics import mean_squared_error\n",
        "\n",
        "class attention(Layer):\n",
        "    def __init__(self,**kwargs):\n",
        "        super(attention,self).__init__(**kwargs)\n",
        "\n",
        "    def build(self,input_shape):\n",
        "        self.W=self.add_weight(name='attention_weight', shape=(input_shape[-1],1),\n",
        "                               initializer='random_normal', trainable=True)\n",
        "        self.b=self.add_weight(name='attention_bias', shape=(input_shape[1],1),\n",
        "                               initializer='zeros', trainable=True)\n",
        "        super(attention, self).build(input_shape)\n",
        "\n",
        "    def call(self,x):\n",
        "        # Alignment scores. Pass them through tanh function\n",
        "        e = K.tanh(K.dot(x,self.W)+self.b)\n",
        "        # Remove dimension of size 1\n",
        "        e = K.squeeze(e, axis=-1)\n",
        "        # Compute the weights\n",
        "        alpha = K.softmax(e)\n",
        "        # Reshape to tensorFlow format\n",
        "        alpha = K.expand_dims(alpha, axis=-1)\n",
        "        # Compute the context vector\n",
        "        context = x * alpha\n",
        "        context = K.sum(context, axis=1)\n",
        "        return context"
      ],
      "metadata": {
        "id": "amQi1sX8bxzx"
      },
      "execution_count": null,
      "outputs": []
    },
    {
      "cell_type": "code",
      "source": [
        "\n",
        "lr = 0.001\n",
        "epochs = 30\n",
        "batch = 128\n",
        "x=Input(shape=(10, 8))\n",
        "n_features=train_x.shape[2]\n",
        "# RNN_layer = SimpleRNN(hidden_units, return_sequences=True, activation=activation)(x)\n",
        "LSTM_layer1 = LSTM(64, return_sequences=True)(x)\n",
        "LSTM_layer2 = LSTM(32, return_sequences=True)(LSTM_layer1)\n",
        "attn_layer1 = attention()(LSTM_layer2)\n",
        "rep_layer = L.RepeatVector((10))(attn_layer1)\n",
        "# attn_layer2 = attention()(rep_layer)\n",
        "LSTM_layer3 = LSTM(32, return_sequences=True)(rep_layer)\n",
        "LSTM_layer4 = LSTM(64, return_sequences=True)(LSTM_layer3)\n",
        "lin_layer = L.TimeDistributed(L.Dense(n_features))(LSTM_layer4)\n",
        "# tmp_layer = Flatten()(rep_layer)\n",
        "# lin_layer = L.Dense(2)(tmp_layer)\n",
        "model=Model(x,lin_layer)\n",
        "model.summary()\n",
        "adam = optimizers.Adam(lr)\n",
        "model.compile(loss='mse', optimizer=adam)"
      ],
      "metadata": {
        "colab": {
          "base_uri": "https://localhost:8080/"
        },
        "id": "-8zWSAa3nHGO",
        "outputId": "e96a0353-0173-42eb-a3c2-cfd1ae28e877"
      },
      "execution_count": null,
      "outputs": [
        {
          "output_type": "stream",
          "name": "stdout",
          "text": [
            "Model: \"model\"\n",
            "_________________________________________________________________\n",
            " Layer (type)                Output Shape              Param #   \n",
            "=================================================================\n",
            " input_1 (InputLayer)        [(None, 10, 8)]           0         \n",
            "                                                                 \n",
            " lstm (LSTM)                 (None, 10, 64)            18688     \n",
            "                                                                 \n",
            " lstm_1 (LSTM)               (None, 10, 32)            12416     \n",
            "                                                                 \n",
            " attention (attention)       (None, 32)                42        \n",
            "                                                                 \n",
            " repeat_vector (RepeatVector  (None, 10, 32)           0         \n",
            " )                                                               \n",
            "                                                                 \n",
            " lstm_2 (LSTM)               (None, 10, 32)            8320      \n",
            "                                                                 \n",
            " lstm_3 (LSTM)               (None, 10, 64)            24832     \n",
            "                                                                 \n",
            " time_distributed (TimeDistr  (None, 10, 8)            520       \n",
            " ibuted)                                                         \n",
            "                                                                 \n",
            "=================================================================\n",
            "Total params: 64,818\n",
            "Trainable params: 64,818\n",
            "Non-trainable params: 0\n",
            "_________________________________________________________________\n"
          ]
        }
      ]
    },
    {
      "cell_type": "code",
      "source": [
        "model_history = model.fit( train_x, train_x, epochs=epochs, batch_size=batch,  verbose=1)"
      ],
      "metadata": {
        "colab": {
          "base_uri": "https://localhost:8080/"
        },
        "id": "5-pm5CPkuTWk",
        "outputId": "1abe512f-4699-4795-b97d-28c5671fc6dc"
      },
      "execution_count": null,
      "outputs": [
        {
          "output_type": "stream",
          "name": "stdout",
          "text": [
            "Epoch 1/30\n",
            "2644/2644 [==============================] - 160s 58ms/step - loss: 0.0083\n",
            "Epoch 2/30\n",
            "2644/2644 [==============================] - 151s 57ms/step - loss: 0.0021\n",
            "Epoch 3/30\n",
            "2644/2644 [==============================] - 147s 56ms/step - loss: 0.0013\n",
            "Epoch 4/30\n",
            "2644/2644 [==============================] - 160s 60ms/step - loss: 8.5543e-04\n",
            "Epoch 5/30\n",
            "2644/2644 [==============================] - 160s 60ms/step - loss: 6.2963e-04\n",
            "Epoch 6/30\n",
            "2644/2644 [==============================] - 158s 60ms/step - loss: 5.0517e-04\n",
            "Epoch 7/30\n",
            "2644/2644 [==============================] - 158s 60ms/step - loss: 4.0434e-04\n",
            "Epoch 8/30\n",
            "2644/2644 [==============================] - 157s 59ms/step - loss: 3.5278e-04\n",
            "Epoch 9/30\n",
            "2644/2644 [==============================] - 155s 59ms/step - loss: 3.0396e-04\n",
            "Epoch 10/30\n",
            "2644/2644 [==============================] - 158s 60ms/step - loss: 2.5440e-04\n",
            "Epoch 11/30\n",
            "2644/2644 [==============================] - 158s 60ms/step - loss: 2.3416e-04\n",
            "Epoch 12/30\n",
            "2644/2644 [==============================] - 158s 60ms/step - loss: 2.0516e-04\n",
            "Epoch 13/30\n",
            "2644/2644 [==============================] - 162s 61ms/step - loss: 1.7561e-04\n",
            "Epoch 14/30\n",
            "2644/2644 [==============================] - 159s 60ms/step - loss: 1.6324e-04\n",
            "Epoch 15/30\n",
            "2644/2644 [==============================] - 158s 60ms/step - loss: 1.5081e-04\n",
            "Epoch 16/30\n",
            "2644/2644 [==============================] - 161s 61ms/step - loss: 1.3257e-04\n",
            "Epoch 17/30\n",
            "2644/2644 [==============================] - 159s 60ms/step - loss: 1.3016e-04\n",
            "Epoch 18/30\n",
            "2644/2644 [==============================] - 161s 61ms/step - loss: 1.1854e-04\n",
            "Epoch 19/30\n",
            "2644/2644 [==============================] - 164s 62ms/step - loss: 1.1331e-04\n",
            "Epoch 20/30\n",
            "2644/2644 [==============================] - 161s 61ms/step - loss: 1.0734e-04\n",
            "Epoch 21/30\n",
            "2644/2644 [==============================] - 162s 61ms/step - loss: 1.0250e-04\n",
            "Epoch 22/30\n",
            "2644/2644 [==============================] - 160s 61ms/step - loss: 9.3345e-05\n",
            "Epoch 23/30\n",
            "2644/2644 [==============================] - 164s 62ms/step - loss: 9.1888e-05\n",
            "Epoch 24/30\n",
            "2644/2644 [==============================] - 159s 60ms/step - loss: 8.8674e-05\n",
            "Epoch 25/30\n",
            "2644/2644 [==============================] - 162s 61ms/step - loss: 8.0276e-05\n",
            "Epoch 26/30\n",
            "2644/2644 [==============================] - 158s 60ms/step - loss: 8.1843e-05\n",
            "Epoch 27/30\n",
            "2644/2644 [==============================] - 155s 58ms/step - loss: 7.2152e-05\n",
            "Epoch 28/30\n",
            "2644/2644 [==============================] - 154s 58ms/step - loss: 7.5693e-05\n",
            "Epoch 29/30\n",
            "2644/2644 [==============================] - 156s 59ms/step - loss: 7.0346e-05\n",
            "Epoch 30/30\n",
            "2644/2644 [==============================] - 157s 59ms/step - loss: 6.6263e-05\n"
          ]
        }
      ]
    },
    {
      "cell_type": "code",
      "source": [
        "encoder = Model(inputs=model.inputs, outputs=model.layers[3].output)\n",
        "train_encoded = encoder.predict(train_x)\n",
        "validation_encoded = encoder.predict(validation_x)\n",
        "print('Encoded time-series shape', train_encoded.shape)\n",
        "print('Encoded time-series sample', train_encoded[0])"
      ],
      "metadata": {
        "colab": {
          "base_uri": "https://localhost:8080/"
        },
        "id": "WZTBKcUZ6YWk",
        "outputId": "5fc77ab9-de1d-45ec-bfd8-4fcc1c19311a"
      },
      "execution_count": null,
      "outputs": [
        {
          "output_type": "stream",
          "name": "stdout",
          "text": [
            "10574/10574 [==============================] - 52s 5ms/step\n",
            "3525/3525 [==============================] - 17s 5ms/step\n",
            "Encoded time-series shape (338360, 32)\n",
            "Encoded time-series sample [ 0.03778386 -0.08659124  0.40724856  0.1310493   0.0897869  -0.08243144\n",
            " -0.34362406 -0.1901399   0.34798652  0.20975555  0.19498149 -0.80279136\n",
            "  0.79430115 -0.0760392  -0.1328722  -0.11329944 -0.06282281  0.2380487\n",
            " -0.0429531   0.3736136   0.8465691  -0.4091735  -0.11909579  0.01682688\n",
            "  0.36291593  0.15447453  0.23312548  0.0012039   0.26068625 -0.12709773\n",
            "  0.35872537  0.27647293]\n"
          ]
        }
      ]
    },
    {
      "cell_type": "code",
      "source": [
        "model.save(path+\"autoen_new_model_sd_sks\")"
      ],
      "metadata": {
        "colab": {
          "base_uri": "https://localhost:8080/"
        },
        "id": "gqQpm8-DInAX",
        "outputId": "b1957a64-a2c0-4376-9699-637c2c682e4a"
      },
      "execution_count": null,
      "outputs": [
        {
          "output_type": "stream",
          "name": "stderr",
          "text": [
            "WARNING:absl:Found untraced functions such as _update_step_xla, lstm_cell_layer_call_fn, lstm_cell_layer_call_and_return_conditional_losses, lstm_cell_1_layer_call_fn, lstm_cell_1_layer_call_and_return_conditional_losses while saving (showing 5 of 9). These functions will not be directly callable after loading.\n"
          ]
        }
      ]
    },
    {
      "cell_type": "code",
      "source": [
        "def step_decay(epoch):\n",
        "\tinitial_lrate = 0.001\n",
        "\tdrop = 0.005\n",
        "\tepochs_drop = 10\n",
        "\tlrate=initial_lrate - 0.00001\n",
        "\t# lrate = initial_lrate * math.pow(drop, math.floor((1+epoch)/epochs_drop))\n",
        "\treturn lrate\n"
      ],
      "metadata": {
        "id": "MiLnoJ_WEU6x"
      },
      "execution_count": null,
      "outputs": []
    },
    {
      "cell_type": "code",
      "source": [
        "mlp_model = Sequential()\n",
        "mlp_model.add(L.Dense(32, kernel_initializer='glorot_normal', activation='relu', input_dim=(train_encoded.shape[1])))\n",
        "# mlp_model.add(L.Dense(32, kernel_initializer='glorot_normal', activation='relu', input_dim=(train_encoded.shape[1])))\n",
        "\n",
        "mlp_model.add(L.Dense(8, kernel_initializer='glorot_normal', activation='relu'))\n",
        "mlp_model.add(L.Dense(2))\n",
        "mlp_model.summary()\n",
        "\n",
        "initial_learning_rate = 0.001\n",
        "lr_schedule = tf.keras.optimizers.schedules.ExponentialDecay(\n",
        "    initial_learning_rate,\n",
        "    decay_steps=100000,\n",
        "    decay_rate=0.96,\n",
        "    staircase=True)\n",
        "adam = optimizers.Adam(lr_schedule)\n",
        "\n",
        "mlp_model.compile(loss='mse', optimizer=adam)\n",
        "lrate = LearningRateScheduler(step_decay)"
      ],
      "metadata": {
        "colab": {
          "base_uri": "https://localhost:8080/"
        },
        "id": "272NzH1S7itN",
        "outputId": "6326e737-ff7c-402d-af55-0e2fcd7b86aa"
      },
      "execution_count": null,
      "outputs": [
        {
          "output_type": "stream",
          "name": "stdout",
          "text": [
            "Model: \"sequential\"\n",
            "_________________________________________________________________\n",
            " Layer (type)                Output Shape              Param #   \n",
            "=================================================================\n",
            " dense_1 (Dense)             (None, 32)                1056      \n",
            "                                                                 \n",
            " dense_2 (Dense)             (None, 8)                 264       \n",
            "                                                                 \n",
            " dense_3 (Dense)             (None, 2)                 18        \n",
            "                                                                 \n",
            "=================================================================\n",
            "Total params: 1,338\n",
            "Trainable params: 1,338\n",
            "Non-trainable params: 0\n",
            "_________________________________________________________________\n"
          ]
        }
      ]
    },
    {
      "cell_type": "code",
      "source": [
        "epochs = 50\n",
        "# lrate = LearningRateScheduler(step_decay)\n",
        "monitor = EarlyStopping(monitor='loss', min_delta=1e-5, patience=3, verbose=1, mode='auto')\n",
        "# train_encoded_reshaped=np.reshape(train_encoded,(train_encoded.shape[0], train_encoded.shape[1]*train_encoded.shape[2]))\n",
        "\n",
        "# train_encoded_reshaped=np.reshape(train_encoded,(train_encoded.shape[0], train_encoded.shape[1]))\n",
        "train_encoded_reshaped = train_encoded\n",
        "callback_list = [monitor]\n",
        "mlp_history = mlp_model.fit(train_encoded_reshaped , train_y, callbacks=callback_list, epochs=epochs, batch_size=batch,  verbose=2)"
      ],
      "metadata": {
        "colab": {
          "base_uri": "https://localhost:8080/"
        },
        "id": "7U14GxFkEcz3",
        "outputId": "7a214dfc-7c9b-481f-baf2-df394e3d3ef2"
      },
      "execution_count": null,
      "outputs": [
        {
          "output_type": "stream",
          "name": "stdout",
          "text": [
            "Epoch 1/50\n",
            "2644/2644 - 5s - loss: 0.0197 - 5s/epoch - 2ms/step\n",
            "Epoch 2/50\n",
            "2644/2644 - 4s - loss: 0.0036 - 4s/epoch - 2ms/step\n",
            "Epoch 3/50\n",
            "2644/2644 - 4s - loss: 0.0032 - 4s/epoch - 2ms/step\n",
            "Epoch 4/50\n",
            "2644/2644 - 5s - loss: 0.0030 - 5s/epoch - 2ms/step\n",
            "Epoch 5/50\n",
            "2644/2644 - 4s - loss: 0.0029 - 4s/epoch - 1ms/step\n",
            "Epoch 6/50\n",
            "2644/2644 - 4s - loss: 0.0028 - 4s/epoch - 1ms/step\n",
            "Epoch 7/50\n",
            "2644/2644 - 5s - loss: 0.0028 - 5s/epoch - 2ms/step\n",
            "Epoch 8/50\n",
            "2644/2644 - 4s - loss: 0.0027 - 4s/epoch - 2ms/step\n",
            "Epoch 9/50\n",
            "2644/2644 - 4s - loss: 0.0027 - 4s/epoch - 1ms/step\n",
            "Epoch 10/50\n",
            "2644/2644 - 4s - loss: 0.0026 - 4s/epoch - 2ms/step\n",
            "Epoch 11/50\n",
            "2644/2644 - 6s - loss: 0.0026 - 6s/epoch - 2ms/step\n",
            "Epoch 12/50\n",
            "2644/2644 - 4s - loss: 0.0026 - 4s/epoch - 2ms/step\n",
            "Epoch 13/50\n",
            "2644/2644 - 4s - loss: 0.0026 - 4s/epoch - 2ms/step\n",
            "Epoch 14/50\n",
            "2644/2644 - 5s - loss: 0.0025 - 5s/epoch - 2ms/step\n",
            "Epoch 15/50\n",
            "2644/2644 - 5s - loss: 0.0025 - 5s/epoch - 2ms/step\n",
            "Epoch 16/50\n",
            "2644/2644 - 4s - loss: 0.0025 - 4s/epoch - 2ms/step\n",
            "Epoch 17/50\n",
            "2644/2644 - 5s - loss: 0.0025 - 5s/epoch - 2ms/step\n",
            "Epoch 18/50\n",
            "2644/2644 - 5s - loss: 0.0025 - 5s/epoch - 2ms/step\n",
            "Epoch 19/50\n",
            "2644/2644 - 4s - loss: 0.0025 - 4s/epoch - 2ms/step\n",
            "Epoch 20/50\n",
            "2644/2644 - 5s - loss: 0.0025 - 5s/epoch - 2ms/step\n",
            "Epoch 21/50\n",
            "2644/2644 - 7s - loss: 0.0024 - 7s/epoch - 3ms/step\n",
            "Epoch 22/50\n",
            "2644/2644 - 4s - loss: 0.0024 - 4s/epoch - 2ms/step\n",
            "Epoch 23/50\n",
            "2644/2644 - 4s - loss: 0.0024 - 4s/epoch - 2ms/step\n",
            "Epoch 24/50\n",
            "2644/2644 - 6s - loss: 0.0024 - 6s/epoch - 2ms/step\n",
            "Epoch 25/50\n",
            "2644/2644 - 4s - loss: 0.0024 - 4s/epoch - 2ms/step\n",
            "Epoch 26/50\n",
            "2644/2644 - 4s - loss: 0.0024 - 4s/epoch - 2ms/step\n",
            "Epoch 27/50\n",
            "2644/2644 - 5s - loss: 0.0024 - 5s/epoch - 2ms/step\n",
            "Epoch 28/50\n",
            "2644/2644 - 5s - loss: 0.0024 - 5s/epoch - 2ms/step\n",
            "Epoch 29/50\n",
            "2644/2644 - 4s - loss: 0.0024 - 4s/epoch - 2ms/step\n",
            "Epoch 30/50\n",
            "2644/2644 - 5s - loss: 0.0024 - 5s/epoch - 2ms/step\n",
            "Epoch 31/50\n",
            "2644/2644 - 6s - loss: 0.0024 - 6s/epoch - 2ms/step\n",
            "Epoch 32/50\n",
            "2644/2644 - 4s - loss: 0.0024 - 4s/epoch - 2ms/step\n",
            "Epoch 33/50\n",
            "2644/2644 - 4s - loss: 0.0024 - 4s/epoch - 2ms/step\n",
            "Epoch 34/50\n",
            "2644/2644 - 6s - loss: 0.0024 - 6s/epoch - 2ms/step\n",
            "Epoch 35/50\n",
            "2644/2644 - 5s - loss: 0.0023 - 5s/epoch - 2ms/step\n",
            "Epoch 36/50\n",
            "2644/2644 - 4s - loss: 0.0023 - 4s/epoch - 2ms/step\n",
            "Epoch 37/50\n",
            "2644/2644 - 5s - loss: 0.0023 - 5s/epoch - 2ms/step\n",
            "Epoch 38/50\n",
            "2644/2644 - 5s - loss: 0.0023 - 5s/epoch - 2ms/step\n",
            "Epoch 39/50\n",
            "2644/2644 - 4s - loss: 0.0023 - 4s/epoch - 2ms/step\n",
            "Epoch 40/50\n",
            "2644/2644 - 4s - loss: 0.0023 - 4s/epoch - 2ms/step\n",
            "Epoch 41/50\n",
            "2644/2644 - 6s - loss: 0.0023 - 6s/epoch - 2ms/step\n",
            "Epoch 42/50\n",
            "2644/2644 - 4s - loss: 0.0023 - 4s/epoch - 2ms/step\n",
            "Epoch 43/50\n",
            "2644/2644 - 4s - loss: 0.0023 - 4s/epoch - 2ms/step\n",
            "Epoch 44/50\n",
            "2644/2644 - 5s - loss: 0.0023 - 5s/epoch - 2ms/step\n",
            "Epoch 45/50\n",
            "2644/2644 - 5s - loss: 0.0023 - 5s/epoch - 2ms/step\n",
            "Epoch 45: early stopping\n"
          ]
        }
      ]
    },
    {
      "cell_type": "code",
      "source": [
        "val_encoded_reshaped = validation_encoded\n",
        "trainPredict = mlp_model.predict(train_encoded_reshaped)\n",
        "testPredict = mlp_model.predict(val_encoded_reshaped)"
      ],
      "metadata": {
        "colab": {
          "base_uri": "https://localhost:8080/"
        },
        "id": "POslTp5TF9QW",
        "outputId": "38897131-76c0-4f87-f500-81bec5808085"
      },
      "execution_count": null,
      "outputs": [
        {
          "output_type": "stream",
          "name": "stdout",
          "text": [
            "10574/10574 [==============================] - 21s 2ms/step\n",
            "3525/3525 [==============================] - 7s 2ms/step\n"
          ]
        }
      ]
    },
    {
      "cell_type": "code",
      "source": [
        "testPredict.shape"
      ],
      "metadata": {
        "colab": {
          "base_uri": "https://localhost:8080/"
        },
        "id": "I8TZkfOkLUf5",
        "outputId": "8300a6d9-fd00-4368-f395-fa97f38abc2c"
      },
      "execution_count": null,
      "outputs": [
        {
          "output_type": "execute_result",
          "data": {
            "text/plain": [
              "(112780, 2)"
            ]
          },
          "metadata": {},
          "execution_count": 30
        }
      ]
    },
    {
      "cell_type": "code",
      "source": [
        "from sklearn.metrics import mean_squared_error\n",
        "\n",
        "trainScore = np.sqrt(mean_squared_error(train_y, trainPredict))\n",
        "print('Train Score: %.2f RMSE' % (trainScore))\n",
        "testScore = np.sqrt(mean_squared_error(validation_y, testPredict))\n",
        "print('Test Score: %.2f RMSE' % (testScore))"
      ],
      "metadata": {
        "colab": {
          "base_uri": "https://localhost:8080/"
        },
        "id": "QO0pIoqu36me",
        "outputId": "7fd2b09f-6927-41fb-bf90-6b5879995617"
      },
      "execution_count": null,
      "outputs": [
        {
          "output_type": "stream",
          "name": "stdout",
          "text": [
            "Train Score: 0.05 RMSE\n",
            "Test Score: 0.05 RMSE\n"
          ]
        }
      ]
    },
    {
      "cell_type": "code",
      "source": [
        "v = X_test[11:]\n",
        "v.shape"
      ],
      "metadata": {
        "colab": {
          "base_uri": "https://localhost:8080/"
        },
        "id": "ghh2H9ws4CPm",
        "outputId": "c22ccefa-1a8e-463a-c331-3101992ba0d8"
      },
      "execution_count": null,
      "outputs": [
        {
          "output_type": "execute_result",
          "data": {
            "text/plain": [
              "(112780, 8)"
            ]
          },
          "metadata": {},
          "execution_count": 31
        }
      ]
    },
    {
      "cell_type": "code",
      "source": [
        "\n",
        "x_test = scaler.inverse_transform(v)\n",
        "\n",
        "pred = np.zeros((len(testPredict),1))\n",
        "\n",
        "for iter in range(len(testPredict)):\n",
        "  x = testPredict[iter][0]\n",
        "  y = testPredict[iter][1]\n",
        "  pred[iter] = ((math.atan2(y,x) + 2*math.pi) % (2*math.pi)) * (100 / (2*math.pi))\n",
        "\n",
        "\n",
        "  # if ((pred[iter] >= 80) & (x_test[iter][-1] <= 20)) :\n",
        "  #   pred[iter] = pred[iter] - 100\n",
        "  #   if abs(pred[iter]) >= 5:\n",
        "  #     pred[iter] = 0\n",
        "\n",
        "\n",
        "  # if ((pred[iter] <= 20) & (x_test[iter][-1] >= 150)):\n",
        "  #   pred[iter] = 100 - pred[iter]\n",
        "  #   if abs(pred[iter]) >= 5:\n",
        "  #       pred[iter] = 100\n",
        "\n",
        "\n",
        "\n",
        "\n",
        "  # if (pred[iter] > 100):\n",
        "  #  pred[iter] = pred[iter] - 100\n",
        "\n",
        "pred1=pd.DataFrame(pred).sort_index().reset_index()"
      ],
      "metadata": {
        "id": "XBtXpqWU0nw0"
      },
      "execution_count": null,
      "outputs": []
    },
    {
      "cell_type": "code",
      "source": [
        "actual = np.zeros((len(validation_y),1))\n",
        "\n",
        "for iter in range(len(validation_y)):\n",
        "  x =validation_y[iter][0]\n",
        "  y =validation_y[iter][1]\n",
        "  actual[iter] = ((math.atan2(y,x) + 2*math.pi) % (2*math.pi)) * (100 / (2*math.pi))"
      ],
      "metadata": {
        "id": "KIsIEir80qmo"
      },
      "execution_count": null,
      "outputs": []
    },
    {
      "cell_type": "code",
      "source": [
        "correct = 0\n",
        "for i in range(5):\n",
        "  correct = 0\n",
        "  for iter in range(len(actual)):\n",
        "    if (abs(actual[iter] - pred[iter]) <= (i+1)) or (actual[iter]>98) or(actual[iter]<3):\n",
        "      correct+=1\n",
        "\n",
        "  print(correct)\n",
        "  print(len(actual))\n",
        "\n",
        "  print(\"Precision \", i+1, \": \", correct * 100/len(actual))"
      ],
      "metadata": {
        "colab": {
          "base_uri": "https://localhost:8080/"
        },
        "id": "-bNRktP10tNK",
        "outputId": "d8816ab7-7f1a-415a-91cf-79cf95f60740"
      },
      "execution_count": null,
      "outputs": [
        {
          "output_type": "stream",
          "name": "stdout",
          "text": [
            "78759\n",
            "112780\n",
            "Precision  1 :  69.8341904593013\n",
            "105113\n",
            "112780\n",
            "Precision  2 :  93.20180883135308\n",
            "111451\n",
            "112780\n",
            "Precision  3 :  98.82159957439262\n",
            "112470\n",
            "112780\n",
            "Precision  4 :  99.7251285688952\n",
            "112685\n",
            "112780\n",
            "Precision  5 :  99.91576520659692\n"
          ]
        }
      ]
    },
    {
      "cell_type": "code",
      "source": [
        "perc_rmse = np.sqrt(mean_squared_error(actual, pred))\n",
        "print(\"Predicting Percentage RMSE: \", perc_rmse)\n",
        "rmse = 0\n",
        "length = len(actual)\n",
        "for i in range(len(actual)):\n",
        "\n",
        "    rmse = rmse + pow(pred[i] - actual[i], 2)\n",
        "rmse = rmse / length\n",
        "rmse = math.sqrt(rmse)\n",
        "print(length)\n",
        "print(len(actual))\n",
        "print(rmse)"
      ],
      "metadata": {
        "colab": {
          "base_uri": "https://localhost:8080/"
        },
        "id": "LfzR41e40wqK",
        "outputId": "3cd5f98c-369f-41bd-db46-f43568a33a04"
      },
      "execution_count": null,
      "outputs": [
        {
          "output_type": "stream",
          "name": "stdout",
          "text": [
            "Predicting Percentage RMSE:  8.89868425439125\n",
            "112780\n",
            "112780\n",
            "8.898684254391249\n"
          ]
        },
        {
          "output_type": "stream",
          "name": "stderr",
          "text": [
            "<ipython-input-41-25c0a31c81dc>:9: DeprecationWarning: Conversion of an array with ndim > 0 to a scalar is deprecated, and will error in future. Ensure you extract a single element from your array before performing this operation. (Deprecated NumPy 1.25.)\n",
            "  rmse = math.sqrt(rmse)\n"
          ]
        }
      ]
    },
    {
      "cell_type": "code",
      "source": [
        "correct = 0\n",
        "\n",
        "plt.figure()\n",
        "plt.scatter(pred, actual)\n",
        "for iter in range(len(actual)):\n",
        "  if actual[iter]<5 or actual[iter]>95:\n",
        "    correct+=1\n",
        "    continue\n",
        "  if (abs(actual[iter] - pred[iter]) <= 1):\n",
        "    correct+=1\n",
        "\n",
        "\n",
        "print(correct)\n",
        "print(len(actual))"
      ],
      "metadata": {
        "colab": {
          "base_uri": "https://localhost:8080/",
          "height": 465
        },
        "id": "Twk_YKQWJdO1",
        "outputId": "fd7a886b-a141-4005-fedd-3ae7f6d8129b"
      },
      "execution_count": null,
      "outputs": [
        {
          "output_type": "stream",
          "name": "stdout",
          "text": [
            "79876\n",
            "112780\n"
          ]
        },
        {
          "output_type": "display_data",
          "data": {
            "text/plain": [
              "<Figure size 640x480 with 1 Axes>"
            ],
            "image/png": "[encoded data removed]"
          },
          "metadata": {}
        }
      ]
    },
    {
      "cell_type": "code",
      "source": [
        "plt.scatter(actual, pred, facecolors='none', edgecolors='crimson',alpha=0.4)\n",
        "p1 = max(max(pred), max(actual))\n",
        "p2 = min(min(pred), min(actual))\n",
        "\n",
        "ci = 0.1 * np.std([p1,p2]) / np.mean([p1,p2])\n",
        "\n",
        "plt.plot([p1, p2], [p1, p2], 'b-', linewidth =3)\n",
        "plt.title('Actual vs Prediction')"
      ],
      "metadata": {
        "colab": {
          "base_uri": "https://localhost:8080/",
          "height": 469
        },
        "id": "FxfNpj92JhO5",
        "outputId": "253e03ff-00da-4903-c4bf-7c9188607640"
      },
      "execution_count": null,
      "outputs": [
        {
          "output_type": "execute_result",
          "data": {
            "text/plain": [
              "Text(0.5, 1.0, 'Actual vs Prediction')"
            ]
          },
          "metadata": {},
          "execution_count": 43
        },
        {
          "output_type": "display_data",
          "data": {
            "text/plain": [
              "<Figure size 640x480 with 1 Axes>"
            ],
            "image/png": "[encoded data removed]"
          },
          "metadata": {}
        }
      ]
    },
    {
      "cell_type": "code",
      "source": [
        "tf.keras.utils.plot_model(model, 'model_new.png')"
      ],
      "metadata": {
        "colab": {
          "base_uri": "https://localhost:8080/",
          "height": 758
        },
        "id": "-htzaM04vRDt",
        "outputId": "261964ef-ce65-4bf5-ab0b-9f7b47e989b2"
      },
      "execution_count": null,
      "outputs": [
        {
          "output_type": "execute_result",
          "data": {
            "image/png": "[encoded data removed]",
            "text/plain": [
              "<IPython.core.display.Image object>"
            ]
          },
          "metadata": {},
          "execution_count": 44
        }
      ]
    },
    {
      "cell_type": "code",
      "source": [
        "mlp_model.save(path+\"mlp_new_model_sd_sks\")"
      ],
      "metadata": {
        "colab": {
          "base_uri": "https://localhost:8080/"
        },
        "id": "1coCYCHwwwjl",
        "outputId": "0bb038da-e2ab-4490-8347-eb4e7d9e4018"
      },
      "execution_count": null,
      "outputs": [
        {
          "output_type": "stream",
          "name": "stderr",
          "text": [
            "WARNING:absl:Found untraced functions such as _update_step_xla while saving (showing 1 of 1). These functions will not be directly callable after loading.\n"
          ]
        }
      ]
    },
    {
      "cell_type": "code",
      "source": [],
      "metadata": {
        "id": "ALo9_9C-2IXR"
      },
      "execution_count": null,
      "outputs": []
    }
  ],
  "metadata": {
    "accelerator": "TPU",
    "colab": {
      "provenance": []
    },
    "kernelspec": {
      "display_name": "Python 3",
      "name": "python3"
    },
    "language_info": {
      "codemirror_mode": {
        "name": "ipython",
        "version": 3
      },
      "file_extension": ".py",
      "mimetype": "text/x-python",
      "name": "python",
      "nbconvert_exporter": "python",
      "pygments_lexer": "ipython3",
      "version": "3.8.10"
    }
  },
  "nbformat": 4,
  "nbformat_minor": 0
}