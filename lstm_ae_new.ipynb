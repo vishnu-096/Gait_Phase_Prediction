{
  "cells": [
    {
      "cell_type": "code",
      "execution_count": 39,
      "metadata": {
        "id": "oUvebjog04oW"
      },
      "outputs": [],
      "source": [
        "import numpy as np\n",
        "import pandas as pd\n",
        "import tensorflow as tf\n",
        "import matplotlib.pyplot as plt\n",
        "import math\n",
        "import time\n",
        "import os\n",
        "import sys\n",
        "import json\n",
        "\n",
        "import scipy as sp\n",
        "from scipy import signal\n",
        "\n",
        "from keras.models import Sequential\n",
        "from keras.layers import Dense\n",
        "from keras.layers import LSTM\n",
        "from keras.callbacks import EarlyStopping\n",
        "from sklearn.preprocessing import MinMaxScaler\n",
        "from sklearn.feature_selection import SelectKBest\n",
        "from sklearn.feature_selection import f_regression\n",
        "from sklearn import metrics\n",
        "from statsmodels.tsa.seasonal import seasonal_decompose\n",
        "from statsmodels.graphics.tsaplots import plot_acf\n",
        "\n",
        "from tensorflow.keras.models import Sequential\n",
        "from tensorflow.keras.layers import *\n",
        "from tensorflow.keras.callbacks import ModelCheckpoint\n",
        "from tensorflow.keras.losses import MeanSquaredError\n",
        "from tensorflow.keras.metrics import RootMeanSquaredError\n",
        "from tensorflow.keras.optimizers import Adam\n",
        "from tensorflow.keras.layers import LSTM, Dense, Dropout, TimeDistributed, Conv1D, MaxPooling1D, Flatten, Bidirectional, Input, Flatten, Activation, Reshape, RepeatVector, Concatenate\n",
        "from tensorflow.keras import Sequential\n",
        "from tensorflow.keras.layers import *\n",
        "from keras.callbacks import EarlyStopping\n",
        "import tensorflow as tf\n",
        "\n",
        "from sklearn.preprocessing import MinMaxScaler\n",
        "from sklearn.model_selection import train_test_split\n",
        "\n",
        "import os, warnings, random\n",
        "from sklearn.metrics import mean_squared_error\n",
        "from sklearn.model_selection import train_test_split\n",
        "import tensorflow as tf\n",
        "import tensorflow.keras.layers as L\n",
        "from tensorflow.keras.layers import *\n",
        "from tensorflow.keras import optimizers, Sequential, Model\n",
        "from tensorflow.keras.callbacks import LearningRateScheduler"
      ]
    },
    {
      "cell_type": "code",
      "execution_count": 40,
      "metadata": {
        "id": "ieOMqQ_o04oZ"
      },
      "outputs": [],
      "source": [
        "SEED = 13\n",
        "tf.random.set_seed(SEED)"
      ]
    },
    {
      "cell_type": "code",
      "execution_count": 41,
      "metadata": {
        "id": "PKm1uOiX04oa"
      },
      "outputs": [],
      "source": [
        "def encode_gait_percentage(df, name):\n",
        "  percent = df[name].values.tolist()\n",
        "  X = np.zeros((len(df[name]),1))\n",
        "  Y = np.zeros((len(df[name]),1))\n",
        "  for i in range (len(percent)):\n",
        "    phi = percent[i] * 2 * math.pi / 100\n",
        "    X[i] = math.cos(phi)\n",
        "    Y[i] = math.sin(phi)\n",
        "  df['X'] = X\n",
        "  df['Y'] = Y"
      ]
    },
    {
      "cell_type": "code",
      "execution_count": 42,
      "metadata": {
        "id": "PiqdGzio04oj"
      },
      "outputs": [],
      "source": [
        "def convert_data(d_x, d_y, look_back = 1, fore_cast = 1):\n",
        "    dataX = []\n",
        "    dataY = []\n",
        "\n",
        "    for i in range(look_back, len(d_x) - fore_cast):\n",
        "        dataX.append(d_x[i - look_back: i])\n",
        "        dataY.append(d_y[i + fore_cast,:])\n",
        "\n",
        "    return np.array(dataX), np.array(dataY)"
      ]
    },
    {
      "cell_type": "code",
      "execution_count": 43,
      "metadata": {
        "colab": {
          "base_uri": "https://localhost:8080/"
        },
        "id": "x1qm5sIrhOv3",
        "outputId": "6885c08a-2eff-4f94-8927-f2de93438843"
      },
      "outputs": [],
      "source": [
        "#from google.colab import drive\n",
        "\n",
        "#rive.mount('/content/drive')\n",
        "#path =path = '/content/drive/MyDrive/nmchr_lab/Subjects/inclined/new/right_based/'\n"
      ]
    },
    {
      "cell_type": "code",
      "execution_count": 44,
      "metadata": {},
      "outputs": [
        {
          "name": "stdout",
          "output_type": "stream",
          "text": [
            "c:\\Users\\Admin\\Desktop\\Neurorobotic Lab\\Data_Code\\Model\\Gait_Phase_Prediction\n"
          ]
        }
      ],
      "source": [
        "working_dir = os.getcwd()#os.path.dirname(os.getcwd())\n",
        "sys_platform = sys.platform\n",
        "excel_path_dict = {'linux' : \"/csvs/\", 'win32' : \"\\Data\\Incline\\\\right_based\\\\\"}\n",
        "excel_path_name = excel_path_dict[sys_platform]\n",
        "\n",
        "directory_path = working_dir \n",
        "print(directory_path)\n",
        "excel_path = directory_path + excel_path_name\n"
      ]
    },
    {
      "cell_type": "code",
      "execution_count": 45,
      "metadata": {
        "id": "QUcI8IV6hOv4"
      },
      "outputs": [],
      "source": [
        "\n",
        "\n",
        "sub1_file = ['TH\\TH_I_0.xlsx', 'TH\\TH_I_2.xlsx', 'TH\\TH_I_3.xlsx', 'TH\\TH_I_4.xlsx', 'TH\\TH_I_5.xlsx' ]\n",
        "sub2_file = ['JL\\JL_I_0.xlsx', 'JL\\JL_I_2.xlsx', 'JL\\JL_I_3.xlsx', 'JL\\JL_I_4.xlsx', 'JL\\JL_I_5.xlsx' ]\n",
        "sub3_file = ['SD\\SD_1_I.xlsx', 'SD\\SD_2_I.xlsx', 'SD\\SD_3_I.xlsx', 'SD\\SD_4_I.xlsx', 'SD\\SD_5_I.xlsx']\n",
        "sub4_file = ['PK\\PK_0_I.xlsx', 'PK\\PK_5_I.xlsx', 'PK\\PK_2_I.xlsx', 'PK\\PK_3_I.xlsx']\n",
        "sub5_file = ['SKS\\SKS_0_I.xlsx', 'SKS\\SKS_4_I.xlsx', 'SKS\\SKS_2_I.xlsx', 'SKS\\SKS_3_I.xlsx', 'SKS\\SKS_5_I.xlsx']\n",
        "sub6_file = ['SOE\\SOE_I_0.xlsx', 'SOE\\SOE_I_2.xlsx', 'SOE\\SOE_I_3.xlsx', 'SOE\\SOE_I_4.xlsx', 'SOE\\SOE_I_5.xlsx']\n",
        "sub7_file = ['VP\\VP_I_0.xlsx', 'VP\\VP_I_2.xlsx', 'VP\\VP_I_3.xlsx', 'VP\\VP_I_5.xlsx']\n",
        "\n",
        "file_name = sub1_file\n",
        "\n",
        "file_list=[]\n",
        "\n",
        "for i in range (len(file_name)):\n",
        "    file_list.append(pd.read_excel(excel_path + file_name[i], sheet_name='Sheet1'))\n",
        "\n",
        "import random\n",
        "random.shuffle(file_list)\n",
        "\n",
        "all_data = pd.concat(file_list, axis=0, ignore_index=True)\n"
      ]
    },
    {
      "cell_type": "code",
      "execution_count": 46,
      "metadata": {
        "colab": {
          "base_uri": "https://localhost:8080/"
        },
        "id": "-m7rgW5thOv4",
        "outputId": "74fb0611-366a-459c-ae78-e07832e9034c"
      },
      "outputs": [
        {
          "name": "stdout",
          "output_type": "stream",
          "text": [
            "<class 'pandas.core.frame.DataFrame'>\n",
            "RangeIndex: 297989 entries, 0 to 297988\n",
            "Data columns (total 13 columns):\n",
            " #   Column        Non-Null Count   Dtype  \n",
            "---  ------        --------------   -----  \n",
            " 0   n_lcop        297989 non-null  float64\n",
            " 1   n_rcop        297989 non-null  float64\n",
            " 2   l_ph_ank      297989 non-null  float64\n",
            " 3   l_ph_hip      297989 non-null  float64\n",
            " 4   l_ph_fo       297989 non-null  float64\n",
            " 5   r_ph_ank      297989 non-null  float64\n",
            " 6   r_ph_hip      297989 non-null  float64\n",
            " 7   r_ph_fo       297989 non-null  float64\n",
            " 8   n_lgrf        297989 non-null  float64\n",
            " 9   n_r_grf       297989 non-null  float64\n",
            " 10  st_sw_phase   297989 non-null  int64  \n",
            " 11  perc_new      297989 non-null  float64\n",
            " 12  strike_frame  297989 non-null  int64  \n",
            "dtypes: float64(11), int64(2)\n",
            "memory usage: 29.6 MB\n"
          ]
        }
      ],
      "source": [
        "all_data.info()"
      ]
    },
    {
      "cell_type": "code",
      "execution_count": 47,
      "metadata": {
        "colab": {
          "base_uri": "https://localhost:8080/",
          "height": 423
        },
        "id": "9zPHqQg4hOv5",
        "outputId": "a2c3c1d2-cb4f-4294-bf89-33c2ae58fcac"
      },
      "outputs": [
        {
          "data": {
            "text/html": [
              "<div>\n",
              "<style scoped>\n",
              "    .dataframe tbody tr th:only-of-type {\n",
              "        vertical-align: middle;\n",
              "    }\n",
              "\n",
              "    .dataframe tbody tr th {\n",
              "        vertical-align: top;\n",
              "    }\n",
              "\n",
              "    .dataframe thead th {\n",
              "        text-align: right;\n",
              "    }\n",
              "</style>\n",
              "<table border=\"1\" class=\"dataframe\">\n",
              "  <thead>\n",
              "    <tr style=\"text-align: right;\">\n",
              "      <th></th>\n",
              "      <th>n_lcop</th>\n",
              "      <th>n_rcop</th>\n",
              "      <th>l_ph_ank</th>\n",
              "      <th>l_ph_hip</th>\n",
              "      <th>l_ph_fo</th>\n",
              "      <th>r_ph_ank</th>\n",
              "      <th>r_ph_hip</th>\n",
              "      <th>r_ph_fo</th>\n",
              "      <th>n_lgrf</th>\n",
              "      <th>n_r_grf</th>\n",
              "      <th>st_sw_phase</th>\n",
              "      <th>perc_new</th>\n",
              "      <th>strike_frame</th>\n",
              "    </tr>\n",
              "  </thead>\n",
              "  <tbody>\n",
              "    <tr>\n",
              "      <th>0</th>\n",
              "      <td>0.000364</td>\n",
              "      <td>0.003788</td>\n",
              "      <td>0.0</td>\n",
              "      <td>335.708587</td>\n",
              "      <td>0.614113</td>\n",
              "      <td>0.000000</td>\n",
              "      <td>101.075047</td>\n",
              "      <td>298.016521</td>\n",
              "      <td>0.097159</td>\n",
              "      <td>2.276750</td>\n",
              "      <td>0</td>\n",
              "      <td>0.000000</td>\n",
              "      <td>1</td>\n",
              "    </tr>\n",
              "    <tr>\n",
              "      <th>1</th>\n",
              "      <td>0.000430</td>\n",
              "      <td>0.003753</td>\n",
              "      <td>0.0</td>\n",
              "      <td>334.412900</td>\n",
              "      <td>0.689073</td>\n",
              "      <td>0.000000</td>\n",
              "      <td>99.826256</td>\n",
              "      <td>306.219088</td>\n",
              "      <td>0.159518</td>\n",
              "      <td>2.227656</td>\n",
              "      <td>0</td>\n",
              "      <td>0.526316</td>\n",
              "      <td>2</td>\n",
              "    </tr>\n",
              "    <tr>\n",
              "      <th>2</th>\n",
              "      <td>0.000501</td>\n",
              "      <td>0.003709</td>\n",
              "      <td>0.0</td>\n",
              "      <td>333.205903</td>\n",
              "      <td>0.766017</td>\n",
              "      <td>0.000000</td>\n",
              "      <td>98.731376</td>\n",
              "      <td>321.457705</td>\n",
              "      <td>0.237671</td>\n",
              "      <td>2.165679</td>\n",
              "      <td>0</td>\n",
              "      <td>1.052632</td>\n",
              "      <td>3</td>\n",
              "    </tr>\n",
              "    <tr>\n",
              "      <th>3</th>\n",
              "      <td>0.000575</td>\n",
              "      <td>0.003656</td>\n",
              "      <td>0.0</td>\n",
              "      <td>332.074913</td>\n",
              "      <td>0.844150</td>\n",
              "      <td>0.000000</td>\n",
              "      <td>97.756857</td>\n",
              "      <td>349.705864</td>\n",
              "      <td>0.331411</td>\n",
              "      <td>2.090583</td>\n",
              "      <td>0</td>\n",
              "      <td>1.578947</td>\n",
              "      <td>4</td>\n",
              "    </tr>\n",
              "    <tr>\n",
              "      <th>4</th>\n",
              "      <td>0.000652</td>\n",
              "      <td>0.003593</td>\n",
              "      <td>0.0</td>\n",
              "      <td>331.006217</td>\n",
              "      <td>0.922499</td>\n",
              "      <td>0.000000</td>\n",
              "      <td>96.876378</td>\n",
              "      <td>25.073364</td>\n",
              "      <td>0.439191</td>\n",
              "      <td>2.002423</td>\n",
              "      <td>0</td>\n",
              "      <td>2.105263</td>\n",
              "      <td>5</td>\n",
              "    </tr>\n",
              "    <tr>\n",
              "      <th>...</th>\n",
              "      <td>...</td>\n",
              "      <td>...</td>\n",
              "      <td>...</td>\n",
              "      <td>...</td>\n",
              "      <td>...</td>\n",
              "      <td>...</td>\n",
              "      <td>...</td>\n",
              "      <td>...</td>\n",
              "      <td>...</td>\n",
              "      <td>...</td>\n",
              "      <td>...</td>\n",
              "      <td>...</td>\n",
              "      <td>...</td>\n",
              "    </tr>\n",
              "    <tr>\n",
              "      <th>296368</th>\n",
              "      <td>0.000060</td>\n",
              "      <td>0.003219</td>\n",
              "      <td>0.0</td>\n",
              "      <td>347.690075</td>\n",
              "      <td>359.392514</td>\n",
              "      <td>359.999655</td>\n",
              "      <td>117.825531</td>\n",
              "      <td>295.570418</td>\n",
              "      <td>0.000000</td>\n",
              "      <td>2.033766</td>\n",
              "      <td>0</td>\n",
              "      <td>97.333333</td>\n",
              "      <td>220</td>\n",
              "    </tr>\n",
              "    <tr>\n",
              "      <th>296369</th>\n",
              "      <td>0.000087</td>\n",
              "      <td>0.003258</td>\n",
              "      <td>0.0</td>\n",
              "      <td>346.240029</td>\n",
              "      <td>359.483626</td>\n",
              "      <td>359.999674</td>\n",
              "      <td>113.701475</td>\n",
              "      <td>295.924535</td>\n",
              "      <td>0.000000</td>\n",
              "      <td>2.040064</td>\n",
              "      <td>0</td>\n",
              "      <td>97.777778</td>\n",
              "      <td>221</td>\n",
              "    </tr>\n",
              "    <tr>\n",
              "      <th>296370</th>\n",
              "      <td>0.000118</td>\n",
              "      <td>0.003294</td>\n",
              "      <td>0.0</td>\n",
              "      <td>344.815322</td>\n",
              "      <td>359.595981</td>\n",
              "      <td>359.999697</td>\n",
              "      <td>110.429608</td>\n",
              "      <td>296.404137</td>\n",
              "      <td>0.000000</td>\n",
              "      <td>2.043643</td>\n",
              "      <td>0</td>\n",
              "      <td>98.222222</td>\n",
              "      <td>222</td>\n",
              "    </tr>\n",
              "    <tr>\n",
              "      <th>296371</th>\n",
              "      <td>0.000154</td>\n",
              "      <td>0.003328</td>\n",
              "      <td>0.0</td>\n",
              "      <td>343.422210</td>\n",
              "      <td>359.729012</td>\n",
              "      <td>359.999724</td>\n",
              "      <td>107.779162</td>\n",
              "      <td>297.051408</td>\n",
              "      <td>0.000000</td>\n",
              "      <td>2.043835</td>\n",
              "      <td>0</td>\n",
              "      <td>98.666667</td>\n",
              "      <td>223</td>\n",
              "    </tr>\n",
              "    <tr>\n",
              "      <th>296372</th>\n",
              "      <td>0.000195</td>\n",
              "      <td>0.003358</td>\n",
              "      <td>0.0</td>\n",
              "      <td>342.065876</td>\n",
              "      <td>359.881659</td>\n",
              "      <td>359.999756</td>\n",
              "      <td>105.590761</td>\n",
              "      <td>297.922714</td>\n",
              "      <td>0.052931</td>\n",
              "      <td>2.039982</td>\n",
              "      <td>0</td>\n",
              "      <td>99.111111</td>\n",
              "      <td>224</td>\n",
              "    </tr>\n",
              "  </tbody>\n",
              "</table>\n",
              "<p>296373 rows × 13 columns</p>\n",
              "</div>"
            ],
            "text/plain": [
              "          n_lcop    n_rcop  l_ph_ank    l_ph_hip     l_ph_fo    r_ph_ank  \\\n",
              "0       0.000364  0.003788       0.0  335.708587    0.614113    0.000000   \n",
              "1       0.000430  0.003753       0.0  334.412900    0.689073    0.000000   \n",
              "2       0.000501  0.003709       0.0  333.205903    0.766017    0.000000   \n",
              "3       0.000575  0.003656       0.0  332.074913    0.844150    0.000000   \n",
              "4       0.000652  0.003593       0.0  331.006217    0.922499    0.000000   \n",
              "...          ...       ...       ...         ...         ...         ...   \n",
              "296368  0.000060  0.003219       0.0  347.690075  359.392514  359.999655   \n",
              "296369  0.000087  0.003258       0.0  346.240029  359.483626  359.999674   \n",
              "296370  0.000118  0.003294       0.0  344.815322  359.595981  359.999697   \n",
              "296371  0.000154  0.003328       0.0  343.422210  359.729012  359.999724   \n",
              "296372  0.000195  0.003358       0.0  342.065876  359.881659  359.999756   \n",
              "\n",
              "          r_ph_hip     r_ph_fo    n_lgrf   n_r_grf  st_sw_phase   perc_new  \\\n",
              "0       101.075047  298.016521  0.097159  2.276750            0   0.000000   \n",
              "1        99.826256  306.219088  0.159518  2.227656            0   0.526316   \n",
              "2        98.731376  321.457705  0.237671  2.165679            0   1.052632   \n",
              "3        97.756857  349.705864  0.331411  2.090583            0   1.578947   \n",
              "4        96.876378   25.073364  0.439191  2.002423            0   2.105263   \n",
              "...            ...         ...       ...       ...          ...        ...   \n",
              "296368  117.825531  295.570418  0.000000  2.033766            0  97.333333   \n",
              "296369  113.701475  295.924535  0.000000  2.040064            0  97.777778   \n",
              "296370  110.429608  296.404137  0.000000  2.043643            0  98.222222   \n",
              "296371  107.779162  297.051408  0.000000  2.043835            0  98.666667   \n",
              "296372  105.590761  297.922714  0.052931  2.039982            0  99.111111   \n",
              "\n",
              "        strike_frame  \n",
              "0                  1  \n",
              "1                  2  \n",
              "2                  3  \n",
              "3                  4  \n",
              "4                  5  \n",
              "...              ...  \n",
              "296368           220  \n",
              "296369           221  \n",
              "296370           222  \n",
              "296371           223  \n",
              "296372           224  \n",
              "\n",
              "[296373 rows x 13 columns]"
            ]
          },
          "execution_count": 47,
          "metadata": {},
          "output_type": "execute_result"
        }
      ],
      "source": [
        "cycle = 0\n",
        "cycle_list = []\n",
        "\n",
        "start = 0\n",
        "\n",
        "for i in range(len(all_data) - 1):\n",
        "    if (all_data['perc_new'][i+1] == 0):\n",
        "        cycle += 1\n",
        "        cycle_list.append(all_data.iloc[start:i])\n",
        "        start = i+1\n",
        "\n",
        "random.shuffle(cycle_list)\n",
        "source_table = pd.concat(cycle_list, axis=0, ignore_index=True)\n",
        "\n",
        "source_table\n"
      ]
    },
    {
      "cell_type": "code",
      "execution_count": 48,
      "metadata": {},
      "outputs": [],
      "source": [
        "drop_list = [\"n_lgrf\",\"n_r_grf\",\"l_ph_ank\",\"r_ph_ank\"]"
      ]
    },
    {
      "cell_type": "code",
      "execution_count": 49,
      "metadata": {
        "colab": {
          "base_uri": "https://localhost:8080/",
          "height": 423
        },
        "id": "CX2LzKWuhOv6",
        "outputId": "4f35b670-47ce-4c70-d869-79ec202b1a6e"
      },
      "outputs": [
        {
          "data": {
            "text/html": [
              "<div>\n",
              "<style scoped>\n",
              "    .dataframe tbody tr th:only-of-type {\n",
              "        vertical-align: middle;\n",
              "    }\n",
              "\n",
              "    .dataframe tbody tr th {\n",
              "        vertical-align: top;\n",
              "    }\n",
              "\n",
              "    .dataframe thead th {\n",
              "        text-align: right;\n",
              "    }\n",
              "</style>\n",
              "<table border=\"1\" class=\"dataframe\">\n",
              "  <thead>\n",
              "    <tr style=\"text-align: right;\">\n",
              "      <th></th>\n",
              "      <th>n_lcop</th>\n",
              "      <th>n_rcop</th>\n",
              "      <th>l_ph_hip</th>\n",
              "      <th>l_ph_fo</th>\n",
              "      <th>r_ph_hip</th>\n",
              "      <th>r_ph_fo</th>\n",
              "      <th>st_sw_phase</th>\n",
              "      <th>perc_new</th>\n",
              "      <th>strike_frame</th>\n",
              "    </tr>\n",
              "  </thead>\n",
              "  <tbody>\n",
              "    <tr>\n",
              "      <th>0</th>\n",
              "      <td>0.000364</td>\n",
              "      <td>0.003788</td>\n",
              "      <td>335.708587</td>\n",
              "      <td>0.614113</td>\n",
              "      <td>101.075047</td>\n",
              "      <td>298.016521</td>\n",
              "      <td>0</td>\n",
              "      <td>0.000000</td>\n",
              "      <td>1</td>\n",
              "    </tr>\n",
              "    <tr>\n",
              "      <th>1</th>\n",
              "      <td>0.000430</td>\n",
              "      <td>0.003753</td>\n",
              "      <td>334.412900</td>\n",
              "      <td>0.689073</td>\n",
              "      <td>99.826256</td>\n",
              "      <td>306.219088</td>\n",
              "      <td>0</td>\n",
              "      <td>0.526316</td>\n",
              "      <td>2</td>\n",
              "    </tr>\n",
              "    <tr>\n",
              "      <th>2</th>\n",
              "      <td>0.000501</td>\n",
              "      <td>0.003709</td>\n",
              "      <td>333.205903</td>\n",
              "      <td>0.766017</td>\n",
              "      <td>98.731376</td>\n",
              "      <td>321.457705</td>\n",
              "      <td>0</td>\n",
              "      <td>1.052632</td>\n",
              "      <td>3</td>\n",
              "    </tr>\n",
              "    <tr>\n",
              "      <th>3</th>\n",
              "      <td>0.000575</td>\n",
              "      <td>0.003656</td>\n",
              "      <td>332.074913</td>\n",
              "      <td>0.844150</td>\n",
              "      <td>97.756857</td>\n",
              "      <td>349.705864</td>\n",
              "      <td>0</td>\n",
              "      <td>1.578947</td>\n",
              "      <td>4</td>\n",
              "    </tr>\n",
              "    <tr>\n",
              "      <th>4</th>\n",
              "      <td>0.000652</td>\n",
              "      <td>0.003593</td>\n",
              "      <td>331.006217</td>\n",
              "      <td>0.922499</td>\n",
              "      <td>96.876378</td>\n",
              "      <td>25.073364</td>\n",
              "      <td>0</td>\n",
              "      <td>2.105263</td>\n",
              "      <td>5</td>\n",
              "    </tr>\n",
              "    <tr>\n",
              "      <th>...</th>\n",
              "      <td>...</td>\n",
              "      <td>...</td>\n",
              "      <td>...</td>\n",
              "      <td>...</td>\n",
              "      <td>...</td>\n",
              "      <td>...</td>\n",
              "      <td>...</td>\n",
              "      <td>...</td>\n",
              "      <td>...</td>\n",
              "    </tr>\n",
              "    <tr>\n",
              "      <th>296368</th>\n",
              "      <td>0.000060</td>\n",
              "      <td>0.003219</td>\n",
              "      <td>347.690075</td>\n",
              "      <td>359.392514</td>\n",
              "      <td>117.825531</td>\n",
              "      <td>295.570418</td>\n",
              "      <td>0</td>\n",
              "      <td>97.333333</td>\n",
              "      <td>220</td>\n",
              "    </tr>\n",
              "    <tr>\n",
              "      <th>296369</th>\n",
              "      <td>0.000087</td>\n",
              "      <td>0.003258</td>\n",
              "      <td>346.240029</td>\n",
              "      <td>359.483626</td>\n",
              "      <td>113.701475</td>\n",
              "      <td>295.924535</td>\n",
              "      <td>0</td>\n",
              "      <td>97.777778</td>\n",
              "      <td>221</td>\n",
              "    </tr>\n",
              "    <tr>\n",
              "      <th>296370</th>\n",
              "      <td>0.000118</td>\n",
              "      <td>0.003294</td>\n",
              "      <td>344.815322</td>\n",
              "      <td>359.595981</td>\n",
              "      <td>110.429608</td>\n",
              "      <td>296.404137</td>\n",
              "      <td>0</td>\n",
              "      <td>98.222222</td>\n",
              "      <td>222</td>\n",
              "    </tr>\n",
              "    <tr>\n",
              "      <th>296371</th>\n",
              "      <td>0.000154</td>\n",
              "      <td>0.003328</td>\n",
              "      <td>343.422210</td>\n",
              "      <td>359.729012</td>\n",
              "      <td>107.779162</td>\n",
              "      <td>297.051408</td>\n",
              "      <td>0</td>\n",
              "      <td>98.666667</td>\n",
              "      <td>223</td>\n",
              "    </tr>\n",
              "    <tr>\n",
              "      <th>296372</th>\n",
              "      <td>0.000195</td>\n",
              "      <td>0.003358</td>\n",
              "      <td>342.065876</td>\n",
              "      <td>359.881659</td>\n",
              "      <td>105.590761</td>\n",
              "      <td>297.922714</td>\n",
              "      <td>0</td>\n",
              "      <td>99.111111</td>\n",
              "      <td>224</td>\n",
              "    </tr>\n",
              "  </tbody>\n",
              "</table>\n",
              "<p>296373 rows × 9 columns</p>\n",
              "</div>"
            ],
            "text/plain": [
              "          n_lcop    n_rcop    l_ph_hip     l_ph_fo    r_ph_hip     r_ph_fo  \\\n",
              "0       0.000364  0.003788  335.708587    0.614113  101.075047  298.016521   \n",
              "1       0.000430  0.003753  334.412900    0.689073   99.826256  306.219088   \n",
              "2       0.000501  0.003709  333.205903    0.766017   98.731376  321.457705   \n",
              "3       0.000575  0.003656  332.074913    0.844150   97.756857  349.705864   \n",
              "4       0.000652  0.003593  331.006217    0.922499   96.876378   25.073364   \n",
              "...          ...       ...         ...         ...         ...         ...   \n",
              "296368  0.000060  0.003219  347.690075  359.392514  117.825531  295.570418   \n",
              "296369  0.000087  0.003258  346.240029  359.483626  113.701475  295.924535   \n",
              "296370  0.000118  0.003294  344.815322  359.595981  110.429608  296.404137   \n",
              "296371  0.000154  0.003328  343.422210  359.729012  107.779162  297.051408   \n",
              "296372  0.000195  0.003358  342.065876  359.881659  105.590761  297.922714   \n",
              "\n",
              "        st_sw_phase   perc_new  strike_frame  \n",
              "0                 0   0.000000             1  \n",
              "1                 0   0.526316             2  \n",
              "2                 0   1.052632             3  \n",
              "3                 0   1.578947             4  \n",
              "4                 0   2.105263             5  \n",
              "...             ...        ...           ...  \n",
              "296368            0  97.333333           220  \n",
              "296369            0  97.777778           221  \n",
              "296370            0  98.222222           222  \n",
              "296371            0  98.666667           223  \n",
              "296372            0  99.111111           224  \n",
              "\n",
              "[296373 rows x 9 columns]"
            ]
          },
          "execution_count": 49,
          "metadata": {},
          "output_type": "execute_result"
        }
      ],
      "source": [
        "source_table = source_table.drop(drop_list, axis = 1)\n",
        "source_table"
      ]
    },
    {
      "cell_type": "code",
      "execution_count": 50,
      "metadata": {
        "id": "Uy980Nr0hOv6"
      },
      "outputs": [],
      "source": [
        "x = source_table\n",
        "x = x.drop(['perc_new'], axis=1)\n",
        "scaler = MinMaxScaler()\n",
        "x_scaled = scaler.fit_transform(x)\n",
        "x_scaled = pd.DataFrame(x_scaled)\n",
        "\n",
        "encode_gait_percentage(source_table, 'perc_new')\n",
        "y = source_table[[\"X\",\"Y\"]]\n",
        "y\n",
        "\n",
        "data_x = x_scaled\n"
      ]
    },
    {
      "cell_type": "code",
      "execution_count": 51,
      "metadata": {
        "id": "NZJUQdlrhOv7"
      },
      "outputs": [],
      "source": [
        "data_y = y.values.reshape(-1,2)"
      ]
    },
    {
      "cell_type": "code",
      "execution_count": 52,
      "metadata": {
        "colab": {
          "base_uri": "https://localhost:8080/"
        },
        "id": "nPuERZxWhOv7",
        "outputId": "08448f4b-7486-476d-908d-a7a3510037d2"
      },
      "outputs": [
        {
          "data": {
            "text/plain": [
              "numpy.ndarray"
            ]
          },
          "execution_count": 52,
          "metadata": {},
          "output_type": "execute_result"
        }
      ],
      "source": [
        "type(data_y)"
      ]
    },
    {
      "cell_type": "code",
      "execution_count": 53,
      "metadata": {
        "id": "BMTNkMouLdlD"
      },
      "outputs": [],
      "source": [
        "\n",
        "#data_x,data_y= shuffle_multiple_datasets_based_on_gait_cycle( file_name, excel_path)\n",
        "\n",
        "X_train, X_test,y_train, y_test = train_test_split(data_x, data_y ,\n",
        "                        test_size=0.25,\n",
        "                        shuffle=False)\n",
        "look_back = 10\n",
        "fore_cast = 1\n",
        "\n",
        "train_x, train_y = convert_data(X_train, y_train, look_back, fore_cast)\n",
        "validation_x, validation_y = convert_data(X_test, y_test, look_back, fore_cast)\n"
      ]
    },
    {
      "cell_type": "code",
      "execution_count": 54,
      "metadata": {
        "colab": {
          "base_uri": "https://localhost:8080/"
        },
        "id": "LCK0YESF04ok",
        "outputId": "dd829adb-96a0-4c13-e920-2d2fe6ed3ce0"
      },
      "outputs": [
        {
          "name": "stdout",
          "output_type": "stream",
          "text": [
            "(222268, 10, 8)\n",
            "(222268, 2)\n",
            "(74083, 10, 8)\n",
            "(74083, 2)\n"
          ]
        }
      ],
      "source": [
        "print(train_x.shape)\n",
        "print(train_y.shape)\n",
        "print(validation_x.shape)\n",
        "print(validation_y.shape)\n"
      ]
    },
    {
      "cell_type": "code",
      "execution_count": 55,
      "metadata": {
        "colab": {
          "base_uri": "https://localhost:8080/"
        },
        "id": "hhL-sk1EhOv8",
        "outputId": "e9afdfe4-71b4-4776-dff0-bea128c5bb13"
      },
      "outputs": [
        {
          "data": {
            "text/plain": [
              "(222268, 10, 8)"
            ]
          },
          "execution_count": 55,
          "metadata": {},
          "output_type": "execute_result"
        }
      ],
      "source": [
        "train_x.shape"
      ]
    },
    {
      "cell_type": "code",
      "execution_count": 56,
      "metadata": {
        "colab": {
          "base_uri": "https://localhost:8080/"
        },
        "id": "_pUL_UtrTApY",
        "outputId": "26d74cf0-dfb8-4ee7-ae8e-21bbc1cb63e0"
      },
      "outputs": [
        {
          "name": "stdout",
          "output_type": "stream",
          "text": [
            "(7407, 10, 8)\n",
            "(7407, 2)\n"
          ]
        }
      ],
      "source": [
        "n1=validation_x.shape[0]\n",
        "val_x=validation_x[1:int(n1/10),:]\n",
        "val_y=validation_y[1:int(n1/10),:]\n",
        "print(val_x.shape)\n",
        "print(val_y.shape)"
      ]
    },
    {
      "cell_type": "code",
      "execution_count": 57,
      "metadata": {
        "id": "amQi1sX8bxzx"
      },
      "outputs": [],
      "source": [
        "from keras import Model\n",
        "from keras.layers import Layer\n",
        "import keras.backend as K\n",
        "from keras.layers import Input, Dense, SimpleRNN\n",
        "from sklearn.preprocessing import MinMaxScaler\n",
        "from keras.models import Sequential\n",
        "from keras.metrics import mean_squared_error\n",
        "\n",
        "class attention(Layer):\n",
        "    def __init__(self,**kwargs):\n",
        "        super(attention,self).__init__(**kwargs)\n",
        "\n",
        "    def build(self,input_shape):\n",
        "        self.W=self.add_weight(name='attention_weight', shape=(input_shape[-1],1),\n",
        "                               initializer='random_normal', trainable=True)\n",
        "        self.b=self.add_weight(name='attention_bias', shape=(input_shape[1],1),\n",
        "                               initializer='zeros', trainable=True)\n",
        "        super(attention, self).build(input_shape)\n",
        "\n",
        "    def call(self,x):\n",
        "        # Alignment scores. Pass them through tanh function\n",
        "        e = K.tanh(K.dot(x,self.W)+self.b)\n",
        "        # Remove dimension of size 1\n",
        "        e = K.squeeze(e, axis=-1)\n",
        "        # Compute the weights\n",
        "        alpha = K.softmax(e)\n",
        "        # Reshape to tensorFlow format\n",
        "        alpha = K.expand_dims(alpha, axis=-1)\n",
        "        # Compute the context vector\n",
        "        context = x * alpha\n",
        "        context = K.sum(context, axis=1)\n",
        "        return context"
      ]
    },
    {
      "cell_type": "code",
      "execution_count": 58,
      "metadata": {
        "colab": {
          "base_uri": "https://localhost:8080/"
        },
        "id": "-8zWSAa3nHGO",
        "outputId": "8bf946f3-faf8-463d-9b52-c91641d39ad3"
      },
      "outputs": [
        {
          "name": "stdout",
          "output_type": "stream",
          "text": [
            "Model: \"model_2\"\n",
            "_________________________________________________________________\n",
            " Layer (type)                Output Shape              Param #   \n",
            "=================================================================\n",
            " input_2 (InputLayer)        [(None, 10, 8)]           0         \n",
            "                                                                 \n",
            " lstm_4 (LSTM)               (None, 10, 64)            18688     \n",
            "                                                                 \n",
            " lstm_5 (LSTM)               (None, 10, 32)            12416     \n",
            "                                                                 \n",
            " attention_1 (attention)     (None, 32)                42        \n",
            "                                                                 \n",
            " repeat_vector_1 (RepeatVect  (None, 10, 32)           0         \n",
            " or)                                                             \n",
            "                                                                 \n",
            " lstm_6 (LSTM)               (None, 10, 32)            8320      \n",
            "                                                                 \n",
            " lstm_7 (LSTM)               (None, 10, 64)            24832     \n",
            "                                                                 \n",
            " time_distributed_1 (TimeDis  (None, 10, 8)            520       \n",
            " tributed)                                                       \n",
            "                                                                 \n",
            "=================================================================\n",
            "Total params: 64,818\n",
            "Trainable params: 64,818\n",
            "Non-trainable params: 0\n",
            "_________________________________________________________________\n"
          ]
        }
      ],
      "source": [
        "\n",
        "lr = 0.001\n",
        "epochs = 30\n",
        "batch = 128\n",
        "\n",
        "x=Input(shape=(10, train_x.shape[2]))\n",
        "n_features=train_x.shape[2]\n",
        "# RNN_layer = SimpleRNN(hidden_units, return_sequences=True, activation=activation)(x)\n",
        "LSTM_layer1 = LSTM(64, return_sequences=True)(x)\n",
        "LSTM_layer2 = LSTM(32, return_sequences=True)(LSTM_layer1)\n",
        "attn_layer1 = attention()(LSTM_layer2)\n",
        "rep_layer = L.RepeatVector((10))(attn_layer1)\n",
        "# attn_layer2 = attention()(rep_layer)\n",
        "LSTM_layer3 = LSTM(32, return_sequences=True)(rep_layer)\n",
        "LSTM_layer4 = LSTM(64, return_sequences=True)(LSTM_layer3)\n",
        "lin_layer = L.TimeDistributed(L.Dense(n_features))(LSTM_layer4)\n",
        "# tmp_layer = Flatten()(rep_layer)\n",
        "# lin_layer = L.Dense(2)(tmp_layer)\n",
        "model=Model(x,lin_layer)\n",
        "model.summary()\n",
        "adam = optimizers.Adam(lr)\n",
        "model.compile(loss='mse', optimizer=adam)"
      ]
    },
    {
      "cell_type": "code",
      "execution_count": 59,
      "metadata": {
        "colab": {
          "base_uri": "https://localhost:8080/"
        },
        "id": "5-pm5CPkuTWk",
        "outputId": "3a67a8e4-58c0-49fb-d4f4-0149ee95790e"
      },
      "outputs": [
        {
          "name": "stdout",
          "output_type": "stream",
          "text": [
            "Epoch 1/30\n",
            "1737/1737 [==============================] - 46s 24ms/step - loss: 0.0118\n",
            "Epoch 2/30\n",
            "1737/1737 [==============================] - 42s 24ms/step - loss: 0.0029\n",
            "Epoch 3/30\n",
            "1737/1737 [==============================] - 40s 23ms/step - loss: 0.0019\n",
            "Epoch 4/30\n",
            "1737/1737 [==============================] - 40s 23ms/step - loss: 0.0013\n",
            "Epoch 5/30\n",
            "1737/1737 [==============================] - 40s 23ms/step - loss: 9.6620e-04\n",
            "Epoch 6/30\n",
            "1737/1737 [==============================] - 41s 23ms/step - loss: 7.5087e-04\n",
            "Epoch 7/30\n",
            "1737/1737 [==============================] - 41s 24ms/step - loss: 6.2994e-04\n",
            "Epoch 8/30\n",
            "1737/1737 [==============================] - 42s 24ms/step - loss: 5.4458e-04\n",
            "Epoch 9/30\n",
            "1737/1737 [==============================] - 42s 24ms/step - loss: 4.5842e-04\n",
            "Epoch 10/30\n",
            "1737/1737 [==============================] - 42s 24ms/step - loss: 4.1254e-04\n",
            "Epoch 11/30\n",
            "1737/1737 [==============================] - 43s 25ms/step - loss: 3.5845e-04\n",
            "Epoch 12/30\n",
            "1737/1737 [==============================] - 44s 25ms/step - loss: 3.2896e-04\n",
            "Epoch 13/30\n",
            "1737/1737 [==============================] - 44s 25ms/step - loss: 2.9197e-04\n",
            "Epoch 14/30\n",
            "1737/1737 [==============================] - 45s 26ms/step - loss: 2.7744e-04\n",
            "Epoch 15/30\n",
            "1737/1737 [==============================] - 45s 26ms/step - loss: 2.3679e-04\n",
            "Epoch 16/30\n",
            "1737/1737 [==============================] - 46s 27ms/step - loss: 2.2360e-04\n",
            "Epoch 17/30\n",
            "1737/1737 [==============================] - 46s 27ms/step - loss: 2.0087e-04\n",
            "Epoch 18/30\n",
            "1737/1737 [==============================] - 47s 27ms/step - loss: 1.8573e-04\n",
            "Epoch 19/30\n",
            "1737/1737 [==============================] - 48s 28ms/step - loss: 1.8176e-04\n",
            "Epoch 20/30\n",
            "1737/1737 [==============================] - 48s 28ms/step - loss: 1.5423e-04\n",
            "Epoch 21/30\n",
            "1737/1737 [==============================] - 49s 28ms/step - loss: 1.5332e-04\n",
            "Epoch 22/30\n",
            "1737/1737 [==============================] - 49s 28ms/step - loss: 1.5068e-04\n",
            "Epoch 23/30\n",
            "1737/1737 [==============================] - 50s 29ms/step - loss: 1.2492e-04\n",
            "Epoch 24/30\n",
            "1737/1737 [==============================] - 50s 29ms/step - loss: 1.2171e-04\n",
            "Epoch 25/30\n",
            "1737/1737 [==============================] - 51s 29ms/step - loss: 1.1481e-04\n",
            "Epoch 26/30\n",
            "1737/1737 [==============================] - 51s 29ms/step - loss: 1.1141e-04\n",
            "Epoch 27/30\n",
            "1737/1737 [==============================] - 52s 30ms/step - loss: 1.0540e-04\n",
            "Epoch 28/30\n",
            "1737/1737 [==============================] - 52s 30ms/step - loss: 1.0215e-04\n",
            "Epoch 29/30\n",
            "1737/1737 [==============================] - 53s 31ms/step - loss: 1.0015e-04\n",
            "Epoch 30/30\n",
            "1737/1737 [==============================] - 54s 31ms/step - loss: 7.9253e-05\n"
          ]
        }
      ],
      "source": [
        "model_history = model.fit( train_x, train_x, epochs=epochs, batch_size=batch,  verbose=1)"
      ]
    },
    {
      "cell_type": "code",
      "execution_count": 60,
      "metadata": {
        "colab": {
          "base_uri": "https://localhost:8080/"
        },
        "id": "WZTBKcUZ6YWk",
        "outputId": "33be785e-bc3a-46eb-dc72-ff5c50d0268f"
      },
      "outputs": [
        {
          "name": "stdout",
          "output_type": "stream",
          "text": [
            "6946/6946 [==============================] - 21s 3ms/step\n",
            "2316/2316 [==============================] - 8s 3ms/step\n",
            "Encoded time-series shape (222268, 32)\n",
            "Encoded time-series sample [-0.13815333 -0.15973684 -0.25814897 -0.26490897 -0.08706301  0.32453248\n",
            "  0.12504044 -0.51145494 -0.03713031 -0.55144805 -0.10739916 -0.4148514\n",
            " -0.19859211 -0.6727979   0.20661433 -0.32740784 -0.42530048  0.31008092\n",
            "  0.32668    -0.49918875  0.20034459 -0.41046157 -0.8186548   0.5559026\n",
            "  0.8586995   0.54466575  0.6975552  -0.34927294 -0.6458723  -0.21135695\n",
            "  0.10223921 -0.07771058]\n"
          ]
        }
      ],
      "source": [
        "encoder = Model(inputs=model.inputs, outputs=model.layers[3].output)\n",
        "train_encoded = encoder.predict(train_x)\n",
        "validation_encoded = encoder.predict(validation_x)\n",
        "print('Encoded time-series shape', train_encoded.shape)\n",
        "print('Encoded time-series sample', train_encoded[0])"
      ]
    },
    {
      "cell_type": "code",
      "execution_count": 61,
      "metadata": {
        "colab": {
          "base_uri": "https://localhost:8080/"
        },
        "id": "gqQpm8-DInAX",
        "outputId": "6fd29023-11e1-4055-85b5-a82116bf9389"
      },
      "outputs": [],
      "source": [
        "#model.save(path+\"autoen_new_model\")"
      ]
    },
    {
      "cell_type": "code",
      "execution_count": 62,
      "metadata": {
        "id": "MiLnoJ_WEU6x"
      },
      "outputs": [],
      "source": [
        "def step_decay(epoch):\n",
        "\tinitial_lrate = 0.001\n",
        "\tdrop = 0.005\n",
        "\tepochs_drop = 10\n",
        "\tlrate=initial_lrate - 0.00001\n",
        "\t# lrate = initial_lrate * math.pow(drop, math.floor((1+epoch)/epochs_drop))\n",
        "\treturn lrate\n"
      ]
    },
    {
      "cell_type": "code",
      "execution_count": 63,
      "metadata": {
        "colab": {
          "base_uri": "https://localhost:8080/"
        },
        "id": "272NzH1S7itN",
        "outputId": "b9bebc54-b04b-4667-cb2b-36e6205ee254"
      },
      "outputs": [
        {
          "name": "stdout",
          "output_type": "stream",
          "text": [
            "Model: \"sequential_1\"\n",
            "_________________________________________________________________\n",
            " Layer (type)                Output Shape              Param #   \n",
            "=================================================================\n",
            " dense_5 (Dense)             (None, 32)                1056      \n",
            "                                                                 \n",
            " dense_6 (Dense)             (None, 8)                 264       \n",
            "                                                                 \n",
            " dense_7 (Dense)             (None, 2)                 18        \n",
            "                                                                 \n",
            "=================================================================\n",
            "Total params: 1,338\n",
            "Trainable params: 1,338\n",
            "Non-trainable params: 0\n",
            "_________________________________________________________________\n"
          ]
        }
      ],
      "source": [
        "mlp_model = Sequential()\n",
        "mlp_model.add(L.Dense(32, kernel_initializer='glorot_normal', activation='relu', input_dim=(train_encoded.shape[1])))\n",
        "# mlp_model.add(L.Dense(32, kernel_initializer='glorot_normal', activation='relu', input_dim=(train_encoded.shape[1])))\n",
        "\n",
        "mlp_model.add(L.Dense(8, kernel_initializer='glorot_normal', activation='relu'))\n",
        "mlp_model.add(L.Dense(2))\n",
        "mlp_model.summary()\n",
        "\n",
        "initial_learning_rate = 0.001\n",
        "lr_schedule = tf.keras.optimizers.schedules.ExponentialDecay(\n",
        "    initial_learning_rate,\n",
        "    decay_steps=100000,\n",
        "    decay_rate=0.96,\n",
        "    staircase=True)\n",
        "adam = optimizers.Adam(lr_schedule)\n",
        "\n",
        "mlp_model.compile(loss='mse', optimizer=adam)\n",
        "lrate = LearningRateScheduler(step_decay)"
      ]
    },
    {
      "cell_type": "code",
      "execution_count": 64,
      "metadata": {
        "colab": {
          "base_uri": "https://localhost:8080/"
        },
        "id": "7U14GxFkEcz3",
        "outputId": "5108fd08-829f-490b-cff6-f62e78a5e01f"
      },
      "outputs": [
        {
          "name": "stdout",
          "output_type": "stream",
          "text": [
            "Epoch 1/50\n",
            "1737/1737 - 2s - loss: 0.0244 - 2s/epoch - 1ms/step\n",
            "Epoch 2/50\n",
            "1737/1737 - 2s - loss: 0.0045 - 2s/epoch - 975us/step\n",
            "Epoch 3/50\n",
            "1737/1737 - 2s - loss: 0.0040 - 2s/epoch - 957us/step\n",
            "Epoch 4/50\n",
            "1737/1737 - 2s - loss: 0.0038 - 2s/epoch - 956us/step\n",
            "Epoch 5/50\n",
            "1737/1737 - 2s - loss: 0.0036 - 2s/epoch - 936us/step\n",
            "Epoch 6/50\n",
            "1737/1737 - 2s - loss: 0.0035 - 2s/epoch - 925us/step\n",
            "Epoch 7/50\n",
            "1737/1737 - 2s - loss: 0.0034 - 2s/epoch - 919us/step\n",
            "Epoch 8/50\n",
            "1737/1737 - 2s - loss: 0.0034 - 2s/epoch - 938us/step\n",
            "Epoch 9/50\n",
            "1737/1737 - 2s - loss: 0.0033 - 2s/epoch - 919us/step\n",
            "Epoch 10/50\n",
            "1737/1737 - 2s - loss: 0.0032 - 2s/epoch - 931us/step\n",
            "Epoch 11/50\n",
            "1737/1737 - 2s - loss: 0.0032 - 2s/epoch - 950us/step\n",
            "Epoch 12/50\n",
            "1737/1737 - 2s - loss: 0.0032 - 2s/epoch - 920us/step\n",
            "Epoch 13/50\n",
            "1737/1737 - 2s - loss: 0.0031 - 2s/epoch - 961us/step\n",
            "Epoch 14/50\n",
            "1737/1737 - 2s - loss: 0.0031 - 2s/epoch - 909us/step\n",
            "Epoch 15/50\n",
            "1737/1737 - 2s - loss: 0.0031 - 2s/epoch - 923us/step\n",
            "Epoch 16/50\n",
            "1737/1737 - 2s - loss: 0.0030 - 2s/epoch - 917us/step\n",
            "Epoch 17/50\n",
            "1737/1737 - 2s - loss: 0.0030 - 2s/epoch - 915us/step\n",
            "Epoch 18/50\n",
            "1737/1737 - 2s - loss: 0.0030 - 2s/epoch - 921us/step\n",
            "Epoch 19/50\n",
            "1737/1737 - 2s - loss: 0.0030 - 2s/epoch - 919us/step\n",
            "Epoch 20/50\n",
            "1737/1737 - 2s - loss: 0.0030 - 2s/epoch - 897us/step\n",
            "Epoch 21/50\n",
            "1737/1737 - 2s - loss: 0.0029 - 2s/epoch - 916us/step\n",
            "Epoch 22/50\n",
            "1737/1737 - 2s - loss: 0.0029 - 2s/epoch - 899us/step\n",
            "Epoch 23/50\n",
            "1737/1737 - 2s - loss: 0.0029 - 2s/epoch - 896us/step\n",
            "Epoch 24/50\n",
            "1737/1737 - 2s - loss: 0.0029 - 2s/epoch - 897us/step\n",
            "Epoch 25/50\n",
            "1737/1737 - 2s - loss: 0.0029 - 2s/epoch - 918us/step\n",
            "Epoch 26/50\n",
            "1737/1737 - 2s - loss: 0.0029 - 2s/epoch - 917us/step\n",
            "Epoch 27/50\n",
            "1737/1737 - 2s - loss: 0.0029 - 2s/epoch - 912us/step\n",
            "Epoch 28/50\n",
            "1737/1737 - 2s - loss: 0.0029 - 2s/epoch - 941us/step\n",
            "Epoch 29/50\n",
            "1737/1737 - 2s - loss: 0.0028 - 2s/epoch - 919us/step\n",
            "Epoch 30/50\n",
            "1737/1737 - 2s - loss: 0.0028 - 2s/epoch - 923us/step\n",
            "Epoch 31/50\n",
            "1737/1737 - 2s - loss: 0.0028 - 2s/epoch - 943us/step\n",
            "Epoch 32/50\n",
            "1737/1737 - 2s - loss: 0.0028 - 2s/epoch - 915us/step\n",
            "Epoch 33/50\n",
            "1737/1737 - 2s - loss: 0.0028 - 2s/epoch - 921us/step\n",
            "Epoch 34/50\n",
            "1737/1737 - 2s - loss: 0.0028 - 2s/epoch - 908us/step\n",
            "Epoch 35/50\n",
            "1737/1737 - 2s - loss: 0.0028 - 2s/epoch - 940us/step\n",
            "Epoch 36/50\n",
            "1737/1737 - 2s - loss: 0.0028 - 2s/epoch - 915us/step\n",
            "Epoch 37/50\n",
            "1737/1737 - 2s - loss: 0.0028 - 2s/epoch - 927us/step\n",
            "Epoch 38/50\n",
            "1737/1737 - 2s - loss: 0.0028 - 2s/epoch - 929us/step\n",
            "Epoch 39/50\n",
            "1737/1737 - 2s - loss: 0.0028 - 2s/epoch - 922us/step\n",
            "Epoch 40/50\n",
            "1737/1737 - 2s - loss: 0.0028 - 2s/epoch - 915us/step\n",
            "Epoch 41/50\n",
            "1737/1737 - 2s - loss: 0.0028 - 2s/epoch - 940us/step\n",
            "Epoch 41: early stopping\n"
          ]
        }
      ],
      "source": [
        "epochs = 50\n",
        "# lrate = LearningRateScheduler(step_decay)\n",
        "monitor = EarlyStopping(monitor='loss', min_delta=1e-5, patience=3, verbose=1, mode='auto')\n",
        "# train_encoded_reshaped=np.reshape(train_encoded,(train_encoded.shape[0], train_encoded.shape[1]*train_encoded.shape[2]))\n",
        "\n",
        "# train_encoded_reshaped=np.reshape(train_encoded,(train_encoded.shape[0], train_encoded.shape[1]))\n",
        "train_encoded_reshaped = train_encoded\n",
        "callback_list = [monitor]\n",
        "mlp_history = mlp_model.fit(train_encoded_reshaped , train_y, callbacks=callback_list, epochs=epochs, batch_size=batch,  verbose=2)"
      ]
    },
    {
      "cell_type": "code",
      "execution_count": 65,
      "metadata": {
        "colab": {
          "base_uri": "https://localhost:8080/"
        },
        "id": "POslTp5TF9QW",
        "outputId": "7db67cd2-29ca-4739-f1f6-deeb91b47852"
      },
      "outputs": [
        {
          "name": "stdout",
          "output_type": "stream",
          "text": [
            "6946/6946 [==============================] - 7s 953us/step\n",
            "2316/2316 [==============================] - 2s 949us/step\n"
          ]
        }
      ],
      "source": [
        "val_encoded_reshaped = validation_encoded\n",
        "trainPredict = mlp_model.predict(train_encoded_reshaped)\n",
        "testPredict = mlp_model.predict(val_encoded_reshaped)"
      ]
    },
    {
      "cell_type": "code",
      "execution_count": 66,
      "metadata": {
        "colab": {
          "base_uri": "https://localhost:8080/"
        },
        "id": "I8TZkfOkLUf5",
        "outputId": "7d4a43a4-8591-4da3-bc74-ae73453c2d4f"
      },
      "outputs": [
        {
          "data": {
            "text/plain": [
              "(74083, 2)"
            ]
          },
          "execution_count": 66,
          "metadata": {},
          "output_type": "execute_result"
        }
      ],
      "source": [
        "testPredict.shape"
      ]
    },
    {
      "cell_type": "code",
      "execution_count": 67,
      "metadata": {
        "colab": {
          "base_uri": "https://localhost:8080/"
        },
        "id": "QO0pIoqu36me",
        "outputId": "84e4fe5c-6e90-4dc3-cf61-3eaf22e6c454"
      },
      "outputs": [
        {
          "name": "stdout",
          "output_type": "stream",
          "text": [
            "Train Score: 0.05 RMSE\n",
            "Test Score: 0.05 RMSE\n"
          ]
        }
      ],
      "source": [
        "from sklearn.metrics import mean_squared_error\n",
        "\n",
        "trainScore = np.sqrt(mean_squared_error(train_y, trainPredict))\n",
        "print('Train Score: %.2f RMSE' % (trainScore))\n",
        "testScore = np.sqrt(mean_squared_error(validation_y, testPredict))\n",
        "print('Test Score: %.2f RMSE' % (testScore))"
      ]
    },
    {
      "cell_type": "code",
      "execution_count": 68,
      "metadata": {
        "colab": {
          "base_uri": "https://localhost:8080/"
        },
        "id": "ghh2H9ws4CPm",
        "outputId": "89d615f6-1816-4631-cd49-3ad92bd23db0"
      },
      "outputs": [
        {
          "data": {
            "text/plain": [
              "(74083, 8)"
            ]
          },
          "execution_count": 68,
          "metadata": {},
          "output_type": "execute_result"
        }
      ],
      "source": [
        "v = X_test[11:]\n",
        "v.shape"
      ]
    },
    {
      "cell_type": "code",
      "execution_count": 69,
      "metadata": {
        "id": "XBtXpqWU0nw0"
      },
      "outputs": [],
      "source": [
        "\n",
        "x_test = scaler.inverse_transform(v)\n",
        "\n",
        "pred = np.zeros((len(testPredict),1))\n",
        "\n",
        "for iter in range(len(testPredict)):\n",
        "  x = testPredict[iter][0]\n",
        "  y = testPredict[iter][1]\n",
        "  pred[iter] = ((math.atan2(y,x) + 2*math.pi) % (2*math.pi)) * (100 / (2*math.pi))\n",
        "\n",
        "\n",
        "  if ((pred[iter] >= 80) & (x_test[iter][-1] <= 20)) :\n",
        "    pred[iter] = pred[iter] - 100\n",
        "    \n",
        "    if abs(pred[iter]) >= 5:\n",
        "        pred[iter] = 0\n",
        "\n",
        "\n",
        "  if ((pred[iter] <= 20) & (x_test[iter][-1] >= 150)):\n",
        "     pred[iter] = 100 - pred[iter]\n",
        "     if abs(pred[iter]) >= 5:\n",
        "         pred[iter] = 100\n",
        "\n",
        "\n",
        "\n",
        "\n",
        "  #if (pred[iter] > 100):\n",
        "  #  pred[iter] = pred[iter] - 100\n",
        "\n",
        "pred1=pd.DataFrame(pred).sort_index().reset_index()"
      ]
    },
    {
      "cell_type": "code",
      "execution_count": 70,
      "metadata": {
        "id": "KIsIEir80qmo"
      },
      "outputs": [],
      "source": [
        "actual = np.zeros((len(validation_y),1))\n",
        "\n",
        "for iter in range(len(validation_y)):\n",
        "  x =validation_y[iter][0]\n",
        "  y =validation_y[iter][1]\n",
        "  actual[iter] = ((math.atan2(y,x) + 2*math.pi) % (2*math.pi)) * (100 / (2*math.pi))"
      ]
    },
    {
      "cell_type": "code",
      "execution_count": 71,
      "metadata": {
        "colab": {
          "base_uri": "https://localhost:8080/"
        },
        "id": "-bNRktP10tNK",
        "outputId": "2d5daf3e-38d4-4f07-92ae-c2943035c461"
      },
      "outputs": [
        {
          "name": "stdout",
          "output_type": "stream",
          "text": [
            "49427\n",
            "74083\n",
            "Precision  1 :  66.71841043154299\n",
            "68269\n",
            "74083\n",
            "Precision  2 :  92.15204567849574\n",
            "72492\n",
            "74083\n",
            "Precision  3 :  97.85240878474144\n",
            "73729\n",
            "74083\n",
            "Precision  4 :  99.52215758001161\n",
            "73957\n",
            "74083\n",
            "Precision  5 :  99.8299204945804\n"
          ]
        }
      ],
      "source": [
        "correct = 0\n",
        "for i in range(5):\n",
        "  correct = 0\n",
        "  for iter in range(len(actual)):\n",
        "    #if (abs(actual[iter] - pred[iter]) <= (i+1)) or (actual[iter]>98) or(actual[iter]<3):\n",
        "      #correct+=1\n",
        "      if (abs(actual[iter] - pred[iter]) <= (i+1)):\n",
        "        correct+=1\n",
        "\n",
        "  print(correct)\n",
        "  print(len(actual))\n",
        "\n",
        "  print(\"Precision \", i+1, \": \", correct * 100/len(actual))"
      ]
    },
    {
      "cell_type": "code",
      "execution_count": 72,
      "metadata": {
        "colab": {
          "base_uri": "https://localhost:8080/"
        },
        "id": "LfzR41e40wqK",
        "outputId": "9738b4c0-aae4-49b7-d179-f5b03a8c95e3"
      },
      "outputs": [
        {
          "name": "stdout",
          "output_type": "stream",
          "text": [
            "Predicting Percentage RMSE:  1.1633869074632894\n"
          ]
        }
      ],
      "source": [
        "perc_rmse = np.sqrt(mean_squared_error(actual, pred))\n",
        "print(\"Predicting Percentage RMSE: \", perc_rmse)\n",
        "\n"
      ]
    },
    {
      "cell_type": "code",
      "execution_count": 73,
      "metadata": {},
      "outputs": [
        {
          "name": "stdout",
          "output_type": "stream",
          "text": [
            "74083\n",
            "74083\n",
            "1.1633869074632954\n"
          ]
        }
      ],
      "source": [
        "rmse = 0\n",
        "length = len(actual)\n",
        "for i in range(len(actual)):\n",
        "\n",
        "    rmse = rmse + pow(pred[i] - actual[i], 2)\n",
        "rmse = rmse / length\n",
        "rmse = math.sqrt(rmse)\n",
        "print(length)\n",
        "print(len(actual))\n",
        "print(rmse)"
      ]
    },
    {
      "cell_type": "code",
      "execution_count": 74,
      "metadata": {
        "colab": {
          "base_uri": "https://localhost:8080/",
          "height": 465
        },
        "id": "Twk_YKQWJdO1",
        "outputId": "4ebcc703-2d9b-465b-975f-af37c9b231f9"
      },
      "outputs": [
        {
          "name": "stdout",
          "output_type": "stream",
          "text": [
            "49914\n",
            "74083\n"
          ]
        },
        {
          "data": {
            "image/png": "[encoded data removed]",
            "text/plain": [
              "<Figure size 432x288 with 1 Axes>"
            ]
          },
          "metadata": {
            "needs_background": "light"
          },
          "output_type": "display_data"
        }
      ],
      "source": [
        "correct = 0\n",
        "\n",
        "plt.figure()\n",
        "plt.scatter(pred, actual)\n",
        "for iter in range(len(actual)):\n",
        "  if actual[iter]<2 or actual[iter]>98:\n",
        "    correct+=1\n",
        "    continue\n",
        "  if (abs(actual[iter] - pred[iter]) <= 1):\n",
        "    correct+=1\n",
        "\n",
        "\n",
        "print(correct)\n",
        "print(len(actual))"
      ]
    },
    {
      "cell_type": "code",
      "execution_count": 75,
      "metadata": {
        "colab": {
          "base_uri": "https://localhost:8080/",
          "height": 469
        },
        "id": "FxfNpj92JhO5",
        "outputId": "d984288f-565c-4d3f-ff2c-24227e053917"
      },
      "outputs": [
        {
          "data": {
            "text/plain": [
              "Text(0.5, 1.0, 'Actual vs Prediction')"
            ]
          },
          "execution_count": 75,
          "metadata": {},
          "output_type": "execute_result"
        },
        {
          "data": {
            "image/png": "[encoded data removed]",
            "text/plain": [
              "<Figure size 432x288 with 1 Axes>"
            ]
          },
          "metadata": {
            "needs_background": "light"
          },
          "output_type": "display_data"
        }
      ],
      "source": [
        "plt.scatter(actual, pred, facecolors='none', edgecolors='crimson',alpha=0.4)\n",
        "p1 = max(max(pred), max(actual))\n",
        "p2 = min(min(pred), min(actual))\n",
        "\n",
        "ci = 0.1 * np.std([p1,p2]) / np.mean([p1,p2])\n",
        "\n",
        "plt.plot([p1, p2], [p1, p2], 'b-', linewidth =3)\n",
        "plt.title('Actual vs Prediction')"
      ]
    },
    {
      "cell_type": "code",
      "execution_count": 76,
      "metadata": {},
      "outputs": [
        {
          "data": {
            "text/plain": [
              "[<matplotlib.lines.Line2D at 0x1418a6f34f0>]"
            ]
          },
          "execution_count": 76,
          "metadata": {},
          "output_type": "execute_result"
        },
        {
          "data": {
            "image/png": "[encoded data removed]",
            "text/plain": [
              "<Figure size 1440x360 with 1 Axes>"
            ]
          },
          "metadata": {
            "needs_background": "light"
          },
          "output_type": "display_data"
        }
      ],
      "source": [
        "predfig=plt.figure(figsize=(20,5))\n",
        "dif = abs(actual-pred)\n",
        "\n",
        "plt.plot(dif,'.')"
      ]
    }
  ],
  "metadata": {
    "accelerator": "TPU",
    "colab": {
      "provenance": []
    },
    "kernelspec": {
      "display_name": "Python 3",
      "name": "python3"
    },
    "language_info": {
      "codemirror_mode": {
        "name": "ipython",
        "version": 3
      },
      "file_extension": ".py",
      "mimetype": "text/x-python",
      "name": "python",
      "nbconvert_exporter": "python",
      "pygments_lexer": "ipython3",
      "version": "3.8.10"
    }
  },
  "nbformat": 4,
  "nbformat_minor": 0
}
