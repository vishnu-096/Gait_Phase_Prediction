{
  "cells": [
    {
      "cell_type": "code",
      "execution_count": null,
      "metadata": {
        "id": "oUvebjog04oW"
      },
      "outputs": [],
      "source": [
        "import numpy as np\n",
        "import pandas as pd\n",
        "import tensorflow as tf\n",
        "import matplotlib.pyplot as plt\n",
        "import math\n",
        "import time\n",
        "import os\n",
        "import sys\n",
        "import json\n",
        "\n",
        "import scipy as sp\n",
        "from scipy import signal\n",
        "\n",
        "from keras.models import Sequential\n",
        "from keras.layers import Dense\n",
        "from keras.layers import LSTM\n",
        "from keras.callbacks import EarlyStopping\n",
        "from sklearn.preprocessing import MinMaxScaler\n",
        "from sklearn.feature_selection import SelectKBest\n",
        "from sklearn.feature_selection import f_regression\n",
        "from sklearn import metrics\n",
        "from statsmodels.tsa.seasonal import seasonal_decompose\n",
        "from statsmodels.graphics.tsaplots import plot_acf\n",
        "\n",
        "from tensorflow.keras.models import Sequential\n",
        "from tensorflow.keras.layers import *\n",
        "from tensorflow.keras.callbacks import ModelCheckpoint\n",
        "from tensorflow.keras.losses import MeanSquaredError\n",
        "from tensorflow.keras.metrics import RootMeanSquaredError\n",
        "from tensorflow.keras.optimizers import Adam\n",
        "from tensorflow.keras.layers import LSTM, Dense, Dropout, TimeDistributed, Conv1D, MaxPooling1D, Flatten, Bidirectional, Input, Flatten, Activation, Reshape, RepeatVector, Concatenate\n",
        "from tensorflow.keras import Sequential\n",
        "from tensorflow.keras.layers import *\n",
        "from keras.callbacks import EarlyStopping\n",
        "import tensorflow as tf\n",
        "\n",
        "from sklearn.preprocessing import MinMaxScaler\n",
        "from sklearn.model_selection import train_test_split\n",
        "\n",
        "import os, warnings, random\n",
        "from sklearn.metrics import mean_squared_error\n",
        "from sklearn.model_selection import train_test_split\n",
        "import tensorflow as tf\n",
        "import tensorflow.keras.layers as L\n",
        "from tensorflow.keras.layers import *\n",
        "from tensorflow.keras import optimizers, Sequential, Model\n",
        "from tensorflow.keras.callbacks import LearningRateScheduler"
      ]
    },
    {
      "cell_type": "code",
      "execution_count": null,
      "metadata": {
        "id": "ieOMqQ_o04oZ"
      },
      "outputs": [],
      "source": [
        "SEED = 13\n",
        "tf.random.set_seed(SEED)"
      ]
    },
    {
      "cell_type": "code",
      "execution_count": null,
      "metadata": {
        "id": "PKm1uOiX04oa"
      },
      "outputs": [],
      "source": [
        "def encode_gait_percentage(df, name):\n",
        "  percent = df[name].values.tolist()\n",
        "  X = np.zeros((len(df[name]),1))\n",
        "  Y = np.zeros((len(df[name]),1))\n",
        "  for i in range (len(percent)):\n",
        "    phi = percent[i] * 2 * math.pi / 100\n",
        "    X[i] = math.cos(phi)\n",
        "    Y[i] = math.sin(phi)\n",
        "  df['X'] = X\n",
        "  df['Y'] = Y"
      ]
    },
    {
      "cell_type": "code",
      "execution_count": null,
      "metadata": {
        "id": "PiqdGzio04oj"
      },
      "outputs": [],
      "source": [
        "\n",
        "\n",
        "def convert_data(d_x, d_y, look_back = 1, fore_cast = 1):\n",
        "    dataX = []\n",
        "    dataY = []\n",
        "\n",
        "    for i in range(look_back, len(d_x) - fore_cast):\n",
        "        dataX.append(d_x[i - look_back: i])\n",
        "        dataY.append(d_y[i + fore_cast,:])\n",
        "\n",
        "    return np.array(dataX), np.array(dataY)"
      ]
    },
    {
      "cell_type": "code",
      "execution_count": null,
      "metadata": {
        "colab": {
          "base_uri": "https://localhost:8080/"
        },
        "id": "x1qm5sIrhOv3",
        "outputId": "a6ad35c0-8877-411b-ab8c-6fb94c7d8588"
      },
      "outputs": [
        {
          "output_type": "stream",
          "name": "stdout",
          "text": [
            "Drive already mounted at /content/drive; to attempt to forcibly remount, call drive.mount(\"/content/drive\", force_remount=True).\n"
          ]
        }
      ],
      "source": [
        "from google.colab import drive\n",
        "\n",
        "drive.mount('/content/drive')\n",
        "path =path = '/content/drive/MyDrive/nmchr_lab/Subjects/inclined/new/right_based/'\n"
      ]
    },
    {
      "cell_type": "code",
      "execution_count": null,
      "metadata": {
        "id": "QUcI8IV6hOv4"
      },
      "outputs": [],
      "source": [
        "file_name = ['SKS_2_I_r.xlsx',  'SKS_3_I_r.xlsx',  'SKS_4_I_r.xlsx','SKS_5_I_r.xlsx', 'SD_2_I_r.xlsx',  'SD_3_I_r.xlsx',  'SD_4_I_r.xlsx','SD_5_I_r.xlsx', 'SD_1_I_r.xlsx', 'PK_0_I_r.xls', 'PK_2_I_r.xls', 'PK_3_I_r.xls','PK_5_I_r.xls']\n",
        "# file_name = ['PK_0_I_r.xls', 'PK_2_I_r.xls', 'PK_3_I_r.xls','PK_5_I_r.xls']\n",
        "# file_name = ['TH_4_I_r.xlsx', 'TH_3_I_r.xlsx', 'TH_2_I_r.xlsx']\n",
        "# file_name = ['JJ_4_I_r.xlsx', 'JJ_6_I_r.xlsx', 'JJ_7_I_r.xlsx']\n",
        "# file_name = ['SKS_2_I_r.xlsx',  'SKS_3_I_r.xlsx',  'SKS_4_I_r.xlsx','SKS_5_I_r.xlsx', 'SKS_0_I_r.xlsx'];\n",
        "# file_name = ['SD_2_I_r.xlsx',  'SD_3_I_r.xlsx',  'SD_4_I_r.xlsx','SD_5_I_r.xlsx', 'SD_1_I_r.xlsx']\n",
        "# file_name = ['SD_1_I_r.xlsx', 'SD_2_I_r.xlsx', 'SD_3_I_r.xlsx','SD_5_I_r.xlsx','SD_4_I_r.xlsx', 'SKS_2_I_r.xlsx',  'SKS_3_I_r.xlsx',  'SKS_4_I_r.xlsx','SKS_5_I_r.xlsx', 'TH_4_I_r.xlsx', 'TH_3_I_r.xlsx', 'TH_2_I_r.xlsx', 'SKS_2_I_r.xlsx','JJ_4_I_r.xlsx', 'JJ_6_I_r.xlsx', 'JJ_7_I_r.xlsx']\n",
        "\n",
        "file_list=[]\n",
        "\n",
        "for i in range (len(file_name)):\n",
        "    file_list.append(pd.read_excel(path+ file_name[i], sheet_name='Sheet1'))\n",
        "\n",
        "import random\n",
        "random.shuffle(file_list)\n",
        "\n",
        "all_data = pd.concat(file_list, axis=0, ignore_index=True)\n"
      ]
    },
    {
      "cell_type": "code",
      "source": [
        "file_name"
      ],
      "metadata": {
        "colab": {
          "base_uri": "https://localhost:8080/"
        },
        "id": "TEonMTjyxFKa",
        "outputId": "91e29508-92b7-4dc9-93d5-f8a346aa6d1c"
      },
      "execution_count": null,
      "outputs": [
        {
          "output_type": "execute_result",
          "data": {
            "text/plain": [
              "['SKS_2_I_r.xlsx',\n",
              " 'SKS_3_I_r.xlsx',\n",
              " 'SKS_4_I_r.xlsx',\n",
              " 'SKS_5_I_r.xlsx',\n",
              " 'SD_2_I_r.xlsx',\n",
              " 'SD_3_I_r.xlsx',\n",
              " 'SD_4_I_r.xlsx',\n",
              " 'SD_5_I_r.xlsx',\n",
              " 'SD_1_I_r.xlsx',\n",
              " 'PK_0_I_r.xls',\n",
              " 'PK_2_I_r.xls',\n",
              " 'PK_3_I_r.xls',\n",
              " 'PK_5_I_r.xls']"
            ]
          },
          "metadata": {},
          "execution_count": 313
        }
      ]
    },
    {
      "cell_type": "code",
      "execution_count": null,
      "metadata": {
        "colab": {
          "base_uri": "https://localhost:8080/"
        },
        "id": "-m7rgW5thOv4",
        "outputId": "031c30d6-365c-47ee-c79a-20736caaf18c"
      },
      "outputs": [
        {
          "output_type": "stream",
          "name": "stdout",
          "text": [
            "<class 'pandas.core.frame.DataFrame'>\n",
            "RangeIndex: 597739 entries, 0 to 597738\n",
            "Data columns (total 13 columns):\n",
            " #   Column        Non-Null Count   Dtype  \n",
            "---  ------        --------------   -----  \n",
            " 0   l_ph_hip      597739 non-null  float64\n",
            " 1   l_ph_ank      597739 non-null  float64\n",
            " 2   l_ph_fo       597739 non-null  float64\n",
            " 3   r_ph_hip      597739 non-null  float64\n",
            " 4   r_ph_ank      597739 non-null  float64\n",
            " 5   r_ph_fo       597739 non-null  float64\n",
            " 6   n_lgrf        597739 non-null  float64\n",
            " 7   n_r_grf       597739 non-null  float64\n",
            " 8   n_lcop        597739 non-null  float64\n",
            " 9   n_rcop        597739 non-null  float64\n",
            " 10  strike_frame  597739 non-null  int64  \n",
            " 11  perc          597739 non-null  float64\n",
            " 12  st_sw_phase   597739 non-null  int64  \n",
            "dtypes: float64(11), int64(2)\n",
            "memory usage: 59.3 MB\n"
          ]
        }
      ],
      "source": [
        "all_data.info()"
      ]
    },
    {
      "cell_type": "code",
      "execution_count": null,
      "metadata": {
        "colab": {
          "base_uri": "https://localhost:8080/",
          "height": 467
        },
        "id": "9zPHqQg4hOv5",
        "outputId": "5d37c01b-0314-4f0f-8e95-7e56e50a45d3"
      },
      "outputs": [
        {
          "output_type": "execute_result",
          "data": {
            "text/plain": [
              "        l_ph_hip  l_ph_ank   l_ph_fo  r_ph_hip  r_ph_ank   r_ph_fo    n_lgrf  \\\n",
              "0       0.651352  0.734135  0.898711  0.977811  0.885476  0.724784  0.824944   \n",
              "1       0.631623  0.734453  0.849931  0.975582  0.864131  0.723783  0.824712   \n",
              "2       0.603437  0.734625  0.822012  0.973074  0.848355  0.722454  0.822871   \n",
              "3       0.563153  0.734671  0.804791  0.970258  0.836473  0.720786  0.818963   \n",
              "4       0.509810  0.734606  0.793261  0.967110  0.827338  0.718753  0.812509   \n",
              "...          ...       ...       ...       ...       ...       ...       ...   \n",
              "595003  0.693642  0.756817  0.914232  0.049463  0.050146  0.683452  0.922573   \n",
              "595004  0.689621  0.754755  0.884868  0.047151  0.005695  0.686527  0.930619   \n",
              "595005  0.685034  0.752943  0.861305  0.044570  0.961564  0.688873  0.936528   \n",
              "595006  0.679743  0.751323  0.842733  0.041691  0.923555  0.690568  0.940215   \n",
              "595007  0.673568  0.749851  0.828080  0.038487  0.893713  0.691671  0.941673   \n",
              "\n",
              "         n_r_grf    n_lcop    n_rcop  strike_frame       perc  st_sw_phase  \n",
              "0       0.043707  0.000000  0.000078             1   0.000000            1  \n",
              "1       0.058800  0.000000  0.000268             2   0.485437            1  \n",
              "2       0.075972  0.000000  0.000499             3   0.970874            1  \n",
              "3       0.094923  0.000000  0.000773             4   1.456311            1  \n",
              "4       0.115301  0.000000  0.001094             5   1.941748            1  \n",
              "...          ...       ...       ...           ...        ...          ...  \n",
              "595003  0.000000  0.160690  0.002811           201  97.087379            1  \n",
              "595004  0.000000  0.161710  0.003866           202  97.572816            1  \n",
              "595005  0.000000  0.162621  0.005077           203  98.058252            1  \n",
              "595006  0.000000  0.163413  0.006448           204  98.543689            1  \n",
              "595007  0.019459  0.164069  0.007982           205  99.029126            1  \n",
              "\n",
              "[595008 rows x 13 columns]"
            ],
            "text/html": [
              "\n",
              "\n",
              "  <div id=\"df-6127b252-4070-4fbf-b243-a3b8afa6f25b\">\n",
              "    <div class=\"colab-df-container\">\n",
              "      <div>\n",
              "<style scoped>\n",
              "    .dataframe tbody tr th:only-of-type {\n",
              "        vertical-align: middle;\n",
              "    }\n",
              "\n",
              "    .dataframe tbody tr th {\n",
              "        vertical-align: top;\n",
              "    }\n",
              "\n",
              "    .dataframe thead th {\n",
              "        text-align: right;\n",
              "    }\n",
              "</style>\n",
              "<table border=\"1\" class=\"dataframe\">\n",
              "  <thead>\n",
              "    <tr style=\"text-align: right;\">\n",
              "      <th></th>\n",
              "      <th>l_ph_hip</th>\n",
              "      <th>l_ph_ank</th>\n",
              "      <th>l_ph_fo</th>\n",
              "      <th>r_ph_hip</th>\n",
              "      <th>r_ph_ank</th>\n",
              "      <th>r_ph_fo</th>\n",
              "      <th>n_lgrf</th>\n",
              "      <th>n_r_grf</th>\n",
              "      <th>n_lcop</th>\n",
              "      <th>n_rcop</th>\n",
              "      <th>strike_frame</th>\n",
              "      <th>perc</th>\n",
              "      <th>st_sw_phase</th>\n",
              "    </tr>\n",
              "  </thead>\n",
              "  <tbody>\n",
              "    <tr>\n",
              "      <th>0</th>\n",
              "      <td>0.651352</td>\n",
              "      <td>0.734135</td>\n",
              "      <td>0.898711</td>\n",
              "      <td>0.977811</td>\n",
              "      <td>0.885476</td>\n",
              "      <td>0.724784</td>\n",
              "      <td>0.824944</td>\n",
              "      <td>0.043707</td>\n",
              "      <td>0.000000</td>\n",
              "      <td>0.000078</td>\n",
              "      <td>1</td>\n",
              "      <td>0.000000</td>\n",
              "      <td>1</td>\n",
              "    </tr>\n",
              "    <tr>\n",
              "      <th>1</th>\n",
              "      <td>0.631623</td>\n",
              "      <td>0.734453</td>\n",
              "      <td>0.849931</td>\n",
              "      <td>0.975582</td>\n",
              "      <td>0.864131</td>\n",
              "      <td>0.723783</td>\n",
              "      <td>0.824712</td>\n",
              "      <td>0.058800</td>\n",
              "      <td>0.000000</td>\n",
              "      <td>0.000268</td>\n",
              "      <td>2</td>\n",
              "      <td>0.485437</td>\n",
              "      <td>1</td>\n",
              "    </tr>\n",
              "    <tr>\n",
              "      <th>2</th>\n",
              "      <td>0.603437</td>\n",
              "      <td>0.734625</td>\n",
              "      <td>0.822012</td>\n",
              "      <td>0.973074</td>\n",
              "      <td>0.848355</td>\n",
              "      <td>0.722454</td>\n",
              "      <td>0.822871</td>\n",
              "      <td>0.075972</td>\n",
              "      <td>0.000000</td>\n",
              "      <td>0.000499</td>\n",
              "      <td>3</td>\n",
              "      <td>0.970874</td>\n",
              "      <td>1</td>\n",
              "    </tr>\n",
              "    <tr>\n",
              "      <th>3</th>\n",
              "      <td>0.563153</td>\n",
              "      <td>0.734671</td>\n",
              "      <td>0.804791</td>\n",
              "      <td>0.970258</td>\n",
              "      <td>0.836473</td>\n",
              "      <td>0.720786</td>\n",
              "      <td>0.818963</td>\n",
              "      <td>0.094923</td>\n",
              "      <td>0.000000</td>\n",
              "      <td>0.000773</td>\n",
              "      <td>4</td>\n",
              "      <td>1.456311</td>\n",
              "      <td>1</td>\n",
              "    </tr>\n",
              "    <tr>\n",
              "      <th>4</th>\n",
              "      <td>0.509810</td>\n",
              "      <td>0.734606</td>\n",
              "      <td>0.793261</td>\n",
              "      <td>0.967110</td>\n",
              "      <td>0.827338</td>\n",
              "      <td>0.718753</td>\n",
              "      <td>0.812509</td>\n",
              "      <td>0.115301</td>\n",
              "      <td>0.000000</td>\n",
              "      <td>0.001094</td>\n",
              "      <td>5</td>\n",
              "      <td>1.941748</td>\n",
              "      <td>1</td>\n",
              "    </tr>\n",
              "    <tr>\n",
              "      <th>...</th>\n",
              "      <td>...</td>\n",
              "      <td>...</td>\n",
              "      <td>...</td>\n",
              "      <td>...</td>\n",
              "      <td>...</td>\n",
              "      <td>...</td>\n",
              "      <td>...</td>\n",
              "      <td>...</td>\n",
              "      <td>...</td>\n",
              "      <td>...</td>\n",
              "      <td>...</td>\n",
              "      <td>...</td>\n",
              "      <td>...</td>\n",
              "    </tr>\n",
              "    <tr>\n",
              "      <th>595003</th>\n",
              "      <td>0.693642</td>\n",
              "      <td>0.756817</td>\n",
              "      <td>0.914232</td>\n",
              "      <td>0.049463</td>\n",
              "      <td>0.050146</td>\n",
              "      <td>0.683452</td>\n",
              "      <td>0.922573</td>\n",
              "      <td>0.000000</td>\n",
              "      <td>0.160690</td>\n",
              "      <td>0.002811</td>\n",
              "      <td>201</td>\n",
              "      <td>97.087379</td>\n",
              "      <td>1</td>\n",
              "    </tr>\n",
              "    <tr>\n",
              "      <th>595004</th>\n",
              "      <td>0.689621</td>\n",
              "      <td>0.754755</td>\n",
              "      <td>0.884868</td>\n",
              "      <td>0.047151</td>\n",
              "      <td>0.005695</td>\n",
              "      <td>0.686527</td>\n",
              "      <td>0.930619</td>\n",
              "      <td>0.000000</td>\n",
              "      <td>0.161710</td>\n",
              "      <td>0.003866</td>\n",
              "      <td>202</td>\n",
              "      <td>97.572816</td>\n",
              "      <td>1</td>\n",
              "    </tr>\n",
              "    <tr>\n",
              "      <th>595005</th>\n",
              "      <td>0.685034</td>\n",
              "      <td>0.752943</td>\n",
              "      <td>0.861305</td>\n",
              "      <td>0.044570</td>\n",
              "      <td>0.961564</td>\n",
              "      <td>0.688873</td>\n",
              "      <td>0.936528</td>\n",
              "      <td>0.000000</td>\n",
              "      <td>0.162621</td>\n",
              "      <td>0.005077</td>\n",
              "      <td>203</td>\n",
              "      <td>98.058252</td>\n",
              "      <td>1</td>\n",
              "    </tr>\n",
              "    <tr>\n",
              "      <th>595006</th>\n",
              "      <td>0.679743</td>\n",
              "      <td>0.751323</td>\n",
              "      <td>0.842733</td>\n",
              "      <td>0.041691</td>\n",
              "      <td>0.923555</td>\n",
              "      <td>0.690568</td>\n",
              "      <td>0.940215</td>\n",
              "      <td>0.000000</td>\n",
              "      <td>0.163413</td>\n",
              "      <td>0.006448</td>\n",
              "      <td>204</td>\n",
              "      <td>98.543689</td>\n",
              "      <td>1</td>\n",
              "    </tr>\n",
              "    <tr>\n",
              "      <th>595007</th>\n",
              "      <td>0.673568</td>\n",
              "      <td>0.749851</td>\n",
              "      <td>0.828080</td>\n",
              "      <td>0.038487</td>\n",
              "      <td>0.893713</td>\n",
              "      <td>0.691671</td>\n",
              "      <td>0.941673</td>\n",
              "      <td>0.019459</td>\n",
              "      <td>0.164069</td>\n",
              "      <td>0.007982</td>\n",
              "      <td>205</td>\n",
              "      <td>99.029126</td>\n",
              "      <td>1</td>\n",
              "    </tr>\n",
              "  </tbody>\n",
              "</table>\n",
              "<p>595008 rows × 13 columns</p>\n",
              "</div>\n",
              "      <button class=\"colab-df-convert\" onclick=\"convertToInteractive('df-6127b252-4070-4fbf-b243-a3b8afa6f25b')\"\n",
              "              title=\"Convert this dataframe to an interactive table.\"\n",
              "              style=\"display:none;\">\n",
              "\n",
              "  <svg xmlns=\"http://www.w3.org/2000/svg\" height=\"24px\"viewBox=\"0 0 24 24\"\n",
              "       width=\"24px\">\n",
              "    <path d=\"M0 0h24v24H0V0z\" fill=\"none\"/>\n",
              "    <path d=\"M18.56 5.44l.94 2.06.94-2.06 2.06-.94-2.06-.94-.94-2.06-.94 2.06-2.06.94zm-11 1L8.5 8.5l.94-2.06 2.06-.94-2.06-.94L8.5 2.5l-.94 2.06-2.06.94zm10 10l.94 2.06.94-2.06 2.06-.94-2.06-.94-.94-2.06-.94 2.06-2.06.94z\"/><path d=\"M17.41 7.96l-1.37-1.37c-.4-.4-.92-.59-1.43-.59-.52 0-1.04.2-1.43.59L10.3 9.45l-7.72 7.72c-.78.78-.78 2.05 0 2.83L4 21.41c.39.39.9.59 1.41.59.51 0 1.02-.2 1.41-.59l7.78-7.78 2.81-2.81c.8-.78.8-2.07 0-2.86zM5.41 20L4 18.59l7.72-7.72 1.47 1.35L5.41 20z\"/>\n",
              "  </svg>\n",
              "      </button>\n",
              "\n",
              "\n",
              "\n",
              "    <div id=\"df-4006ac02-0acf-434e-8b45-d1a40de50326\">\n",
              "      <button class=\"colab-df-quickchart\" onclick=\"quickchart('df-4006ac02-0acf-434e-8b45-d1a40de50326')\"\n",
              "              title=\"Suggest charts.\"\n",
              "              style=\"display:none;\">\n",
              "\n",
              "<svg xmlns=\"http://www.w3.org/2000/svg\" height=\"24px\"viewBox=\"0 0 24 24\"\n",
              "     width=\"24px\">\n",
              "    <g>\n",
              "        <path d=\"M19 3H5c-1.1 0-2 .9-2 2v14c0 1.1.9 2 2 2h14c1.1 0 2-.9 2-2V5c0-1.1-.9-2-2-2zM9 17H7v-7h2v7zm4 0h-2V7h2v10zm4 0h-2v-4h2v4z\"/>\n",
              "    </g>\n",
              "</svg>\n",
              "      </button>\n",
              "    </div>\n",
              "\n",
              "<style>\n",
              "  .colab-df-quickchart {\n",
              "    background-color: #E8F0FE;\n",
              "    border: none;\n",
              "    border-radius: 50%;\n",
              "    cursor: pointer;\n",
              "    display: none;\n",
              "    fill: #1967D2;\n",
              "    height: 32px;\n",
              "    padding: 0 0 0 0;\n",
              "    width: 32px;\n",
              "  }\n",
              "\n",
              "  .colab-df-quickchart:hover {\n",
              "    background-color: #E2EBFA;\n",
              "    box-shadow: 0px 1px 2px rgba(60, 64, 67, 0.3), 0px 1px 3px 1px rgba(60, 64, 67, 0.15);\n",
              "    fill: #174EA6;\n",
              "  }\n",
              "\n",
              "  [theme=dark] .colab-df-quickchart {\n",
              "    background-color: #3B4455;\n",
              "    fill: #D2E3FC;\n",
              "  }\n",
              "\n",
              "  [theme=dark] .colab-df-quickchart:hover {\n",
              "    background-color: #434B5C;\n",
              "    box-shadow: 0px 1px 3px 1px rgba(0, 0, 0, 0.15);\n",
              "    filter: drop-shadow(0px 1px 2px rgba(0, 0, 0, 0.3));\n",
              "    fill: #FFFFFF;\n",
              "  }\n",
              "</style>\n",
              "\n",
              "    <script>\n",
              "      async function quickchart(key) {\n",
              "        const containerElement = document.querySelector('#' + key);\n",
              "        const charts = await google.colab.kernel.invokeFunction(\n",
              "            'suggestCharts', [key], {});\n",
              "      }\n",
              "    </script>\n",
              "\n",
              "      <script>\n",
              "\n",
              "function displayQuickchartButton(domScope) {\n",
              "  let quickchartButtonEl =\n",
              "    domScope.querySelector('#df-4006ac02-0acf-434e-8b45-d1a40de50326 button.colab-df-quickchart');\n",
              "  quickchartButtonEl.style.display =\n",
              "    google.colab.kernel.accessAllowed ? 'block' : 'none';\n",
              "}\n",
              "\n",
              "        displayQuickchartButton(document);\n",
              "      </script>\n",
              "      <style>\n",
              "    .colab-df-container {\n",
              "      display:flex;\n",
              "      flex-wrap:wrap;\n",
              "      gap: 12px;\n",
              "    }\n",
              "\n",
              "    .colab-df-convert {\n",
              "      background-color: #E8F0FE;\n",
              "      border: none;\n",
              "      border-radius: 50%;\n",
              "      cursor: pointer;\n",
              "      display: none;\n",
              "      fill: #1967D2;\n",
              "      height: 32px;\n",
              "      padding: 0 0 0 0;\n",
              "      width: 32px;\n",
              "    }\n",
              "\n",
              "    .colab-df-convert:hover {\n",
              "      background-color: #E2EBFA;\n",
              "      box-shadow: 0px 1px 2px rgba(60, 64, 67, 0.3), 0px 1px 3px 1px rgba(60, 64, 67, 0.15);\n",
              "      fill: #174EA6;\n",
              "    }\n",
              "\n",
              "    [theme=dark] .colab-df-convert {\n",
              "      background-color: #3B4455;\n",
              "      fill: #D2E3FC;\n",
              "    }\n",
              "\n",
              "    [theme=dark] .colab-df-convert:hover {\n",
              "      background-color: #434B5C;\n",
              "      box-shadow: 0px 1px 3px 1px rgba(0, 0, 0, 0.15);\n",
              "      filter: drop-shadow(0px 1px 2px rgba(0, 0, 0, 0.3));\n",
              "      fill: #FFFFFF;\n",
              "    }\n",
              "  </style>\n",
              "\n",
              "      <script>\n",
              "        const buttonEl =\n",
              "          document.querySelector('#df-6127b252-4070-4fbf-b243-a3b8afa6f25b button.colab-df-convert');\n",
              "        buttonEl.style.display =\n",
              "          google.colab.kernel.accessAllowed ? 'block' : 'none';\n",
              "\n",
              "        async function convertToInteractive(key) {\n",
              "          const element = document.querySelector('#df-6127b252-4070-4fbf-b243-a3b8afa6f25b');\n",
              "          const dataTable =\n",
              "            await google.colab.kernel.invokeFunction('convertToInteractive',\n",
              "                                                     [key], {});\n",
              "          if (!dataTable) return;\n",
              "\n",
              "          const docLinkHtml = 'Like what you see? Visit the ' +\n",
              "            '<a target=\"_blank\" href=https://colab.research.google.com/notebooks/data_table.ipynb>data table notebook</a>'\n",
              "            + ' to learn more about interactive tables.';\n",
              "          element.innerHTML = '';\n",
              "          dataTable['output_type'] = 'display_data';\n",
              "          await google.colab.output.renderOutput(dataTable, element);\n",
              "          const docLink = document.createElement('div');\n",
              "          docLink.innerHTML = docLinkHtml;\n",
              "          element.appendChild(docLink);\n",
              "        }\n",
              "      </script>\n",
              "    </div>\n",
              "  </div>\n"
            ]
          },
          "metadata": {},
          "execution_count": 315
        }
      ],
      "source": [
        "cycle = 0\n",
        "cycle_list = []\n",
        "\n",
        "start = 0\n",
        "\n",
        "for i in range(len(all_data) - 1):\n",
        "    if (all_data['perc'][i+1] == 0):\n",
        "        cycle += 1\n",
        "        cycle_list.append(all_data.iloc[start:i])\n",
        "        start = i+1\n",
        "\n",
        "random.shuffle(cycle_list)\n",
        "source_table = pd.concat(cycle_list, axis=0, ignore_index=True)\n",
        "\n",
        "source_table\n"
      ]
    },
    {
      "cell_type": "code",
      "execution_count": null,
      "metadata": {
        "colab": {
          "base_uri": "https://localhost:8080/",
          "height": 423
        },
        "id": "CX2LzKWuhOv6",
        "outputId": "f1ffa118-174b-4086-81d0-a64c0d92e8bf"
      },
      "outputs": [
        {
          "output_type": "execute_result",
          "data": {
            "text/plain": [
              "        l_ph_hip   l_ph_fo  r_ph_hip   r_ph_fo    n_lcop    n_rcop  \\\n",
              "0       0.651352  0.898711  0.977811  0.724784  0.000000  0.000078   \n",
              "1       0.631623  0.849931  0.975582  0.723783  0.000000  0.000268   \n",
              "2       0.603437  0.822012  0.973074  0.722454  0.000000  0.000499   \n",
              "3       0.563153  0.804791  0.970258  0.720786  0.000000  0.000773   \n",
              "4       0.509810  0.793261  0.967110  0.718753  0.000000  0.001094   \n",
              "...          ...       ...       ...       ...       ...       ...   \n",
              "595003  0.693642  0.914232  0.049463  0.683452  0.160690  0.002811   \n",
              "595004  0.689621  0.884868  0.047151  0.686527  0.161710  0.003866   \n",
              "595005  0.685034  0.861305  0.044570  0.688873  0.162621  0.005077   \n",
              "595006  0.679743  0.842733  0.041691  0.690568  0.163413  0.006448   \n",
              "595007  0.673568  0.828080  0.038487  0.691671  0.164069  0.007982   \n",
              "\n",
              "        strike_frame       perc  st_sw_phase  \n",
              "0                  1   0.000000            1  \n",
              "1                  2   0.485437            1  \n",
              "2                  3   0.970874            1  \n",
              "3                  4   1.456311            1  \n",
              "4                  5   1.941748            1  \n",
              "...              ...        ...          ...  \n",
              "595003           201  97.087379            1  \n",
              "595004           202  97.572816            1  \n",
              "595005           203  98.058252            1  \n",
              "595006           204  98.543689            1  \n",
              "595007           205  99.029126            1  \n",
              "\n",
              "[595008 rows x 9 columns]"
            ],
            "text/html": [
              "\n",
              "\n",
              "  <div id=\"df-f51d7cc8-cfc4-434f-9843-f2d940c1826d\">\n",
              "    <div class=\"colab-df-container\">\n",
              "      <div>\n",
              "<style scoped>\n",
              "    .dataframe tbody tr th:only-of-type {\n",
              "        vertical-align: middle;\n",
              "    }\n",
              "\n",
              "    .dataframe tbody tr th {\n",
              "        vertical-align: top;\n",
              "    }\n",
              "\n",
              "    .dataframe thead th {\n",
              "        text-align: right;\n",
              "    }\n",
              "</style>\n",
              "<table border=\"1\" class=\"dataframe\">\n",
              "  <thead>\n",
              "    <tr style=\"text-align: right;\">\n",
              "      <th></th>\n",
              "      <th>l_ph_hip</th>\n",
              "      <th>l_ph_fo</th>\n",
              "      <th>r_ph_hip</th>\n",
              "      <th>r_ph_fo</th>\n",
              "      <th>n_lcop</th>\n",
              "      <th>n_rcop</th>\n",
              "      <th>strike_frame</th>\n",
              "      <th>perc</th>\n",
              "      <th>st_sw_phase</th>\n",
              "    </tr>\n",
              "  </thead>\n",
              "  <tbody>\n",
              "    <tr>\n",
              "      <th>0</th>\n",
              "      <td>0.651352</td>\n",
              "      <td>0.898711</td>\n",
              "      <td>0.977811</td>\n",
              "      <td>0.724784</td>\n",
              "      <td>0.000000</td>\n",
              "      <td>0.000078</td>\n",
              "      <td>1</td>\n",
              "      <td>0.000000</td>\n",
              "      <td>1</td>\n",
              "    </tr>\n",
              "    <tr>\n",
              "      <th>1</th>\n",
              "      <td>0.631623</td>\n",
              "      <td>0.849931</td>\n",
              "      <td>0.975582</td>\n",
              "      <td>0.723783</td>\n",
              "      <td>0.000000</td>\n",
              "      <td>0.000268</td>\n",
              "      <td>2</td>\n",
              "      <td>0.485437</td>\n",
              "      <td>1</td>\n",
              "    </tr>\n",
              "    <tr>\n",
              "      <th>2</th>\n",
              "      <td>0.603437</td>\n",
              "      <td>0.822012</td>\n",
              "      <td>0.973074</td>\n",
              "      <td>0.722454</td>\n",
              "      <td>0.000000</td>\n",
              "      <td>0.000499</td>\n",
              "      <td>3</td>\n",
              "      <td>0.970874</td>\n",
              "      <td>1</td>\n",
              "    </tr>\n",
              "    <tr>\n",
              "      <th>3</th>\n",
              "      <td>0.563153</td>\n",
              "      <td>0.804791</td>\n",
              "      <td>0.970258</td>\n",
              "      <td>0.720786</td>\n",
              "      <td>0.000000</td>\n",
              "      <td>0.000773</td>\n",
              "      <td>4</td>\n",
              "      <td>1.456311</td>\n",
              "      <td>1</td>\n",
              "    </tr>\n",
              "    <tr>\n",
              "      <th>4</th>\n",
              "      <td>0.509810</td>\n",
              "      <td>0.793261</td>\n",
              "      <td>0.967110</td>\n",
              "      <td>0.718753</td>\n",
              "      <td>0.000000</td>\n",
              "      <td>0.001094</td>\n",
              "      <td>5</td>\n",
              "      <td>1.941748</td>\n",
              "      <td>1</td>\n",
              "    </tr>\n",
              "    <tr>\n",
              "      <th>...</th>\n",
              "      <td>...</td>\n",
              "      <td>...</td>\n",
              "      <td>...</td>\n",
              "      <td>...</td>\n",
              "      <td>...</td>\n",
              "      <td>...</td>\n",
              "      <td>...</td>\n",
              "      <td>...</td>\n",
              "      <td>...</td>\n",
              "    </tr>\n",
              "    <tr>\n",
              "      <th>595003</th>\n",
              "      <td>0.693642</td>\n",
              "      <td>0.914232</td>\n",
              "      <td>0.049463</td>\n",
              "      <td>0.683452</td>\n",
              "      <td>0.160690</td>\n",
              "      <td>0.002811</td>\n",
              "      <td>201</td>\n",
              "      <td>97.087379</td>\n",
              "      <td>1</td>\n",
              "    </tr>\n",
              "    <tr>\n",
              "      <th>595004</th>\n",
              "      <td>0.689621</td>\n",
              "      <td>0.884868</td>\n",
              "      <td>0.047151</td>\n",
              "      <td>0.686527</td>\n",
              "      <td>0.161710</td>\n",
              "      <td>0.003866</td>\n",
              "      <td>202</td>\n",
              "      <td>97.572816</td>\n",
              "      <td>1</td>\n",
              "    </tr>\n",
              "    <tr>\n",
              "      <th>595005</th>\n",
              "      <td>0.685034</td>\n",
              "      <td>0.861305</td>\n",
              "      <td>0.044570</td>\n",
              "      <td>0.688873</td>\n",
              "      <td>0.162621</td>\n",
              "      <td>0.005077</td>\n",
              "      <td>203</td>\n",
              "      <td>98.058252</td>\n",
              "      <td>1</td>\n",
              "    </tr>\n",
              "    <tr>\n",
              "      <th>595006</th>\n",
              "      <td>0.679743</td>\n",
              "      <td>0.842733</td>\n",
              "      <td>0.041691</td>\n",
              "      <td>0.690568</td>\n",
              "      <td>0.163413</td>\n",
              "      <td>0.006448</td>\n",
              "      <td>204</td>\n",
              "      <td>98.543689</td>\n",
              "      <td>1</td>\n",
              "    </tr>\n",
              "    <tr>\n",
              "      <th>595007</th>\n",
              "      <td>0.673568</td>\n",
              "      <td>0.828080</td>\n",
              "      <td>0.038487</td>\n",
              "      <td>0.691671</td>\n",
              "      <td>0.164069</td>\n",
              "      <td>0.007982</td>\n",
              "      <td>205</td>\n",
              "      <td>99.029126</td>\n",
              "      <td>1</td>\n",
              "    </tr>\n",
              "  </tbody>\n",
              "</table>\n",
              "<p>595008 rows × 9 columns</p>\n",
              "</div>\n",
              "      <button class=\"colab-df-convert\" onclick=\"convertToInteractive('df-f51d7cc8-cfc4-434f-9843-f2d940c1826d')\"\n",
              "              title=\"Convert this dataframe to an interactive table.\"\n",
              "              style=\"display:none;\">\n",
              "\n",
              "  <svg xmlns=\"http://www.w3.org/2000/svg\" height=\"24px\"viewBox=\"0 0 24 24\"\n",
              "       width=\"24px\">\n",
              "    <path d=\"M0 0h24v24H0V0z\" fill=\"none\"/>\n",
              "    <path d=\"M18.56 5.44l.94 2.06.94-2.06 2.06-.94-2.06-.94-.94-2.06-.94 2.06-2.06.94zm-11 1L8.5 8.5l.94-2.06 2.06-.94-2.06-.94L8.5 2.5l-.94 2.06-2.06.94zm10 10l.94 2.06.94-2.06 2.06-.94-2.06-.94-.94-2.06-.94 2.06-2.06.94z\"/><path d=\"M17.41 7.96l-1.37-1.37c-.4-.4-.92-.59-1.43-.59-.52 0-1.04.2-1.43.59L10.3 9.45l-7.72 7.72c-.78.78-.78 2.05 0 2.83L4 21.41c.39.39.9.59 1.41.59.51 0 1.02-.2 1.41-.59l7.78-7.78 2.81-2.81c.8-.78.8-2.07 0-2.86zM5.41 20L4 18.59l7.72-7.72 1.47 1.35L5.41 20z\"/>\n",
              "  </svg>\n",
              "      </button>\n",
              "\n",
              "\n",
              "\n",
              "    <div id=\"df-e69406f0-07bc-4a92-b062-4065f7881d31\">\n",
              "      <button class=\"colab-df-quickchart\" onclick=\"quickchart('df-e69406f0-07bc-4a92-b062-4065f7881d31')\"\n",
              "              title=\"Suggest charts.\"\n",
              "              style=\"display:none;\">\n",
              "\n",
              "<svg xmlns=\"http://www.w3.org/2000/svg\" height=\"24px\"viewBox=\"0 0 24 24\"\n",
              "     width=\"24px\">\n",
              "    <g>\n",
              "        <path d=\"M19 3H5c-1.1 0-2 .9-2 2v14c0 1.1.9 2 2 2h14c1.1 0 2-.9 2-2V5c0-1.1-.9-2-2-2zM9 17H7v-7h2v7zm4 0h-2V7h2v10zm4 0h-2v-4h2v4z\"/>\n",
              "    </g>\n",
              "</svg>\n",
              "      </button>\n",
              "    </div>\n",
              "\n",
              "<style>\n",
              "  .colab-df-quickchart {\n",
              "    background-color: #E8F0FE;\n",
              "    border: none;\n",
              "    border-radius: 50%;\n",
              "    cursor: pointer;\n",
              "    display: none;\n",
              "    fill: #1967D2;\n",
              "    height: 32px;\n",
              "    padding: 0 0 0 0;\n",
              "    width: 32px;\n",
              "  }\n",
              "\n",
              "  .colab-df-quickchart:hover {\n",
              "    background-color: #E2EBFA;\n",
              "    box-shadow: 0px 1px 2px rgba(60, 64, 67, 0.3), 0px 1px 3px 1px rgba(60, 64, 67, 0.15);\n",
              "    fill: #174EA6;\n",
              "  }\n",
              "\n",
              "  [theme=dark] .colab-df-quickchart {\n",
              "    background-color: #3B4455;\n",
              "    fill: #D2E3FC;\n",
              "  }\n",
              "\n",
              "  [theme=dark] .colab-df-quickchart:hover {\n",
              "    background-color: #434B5C;\n",
              "    box-shadow: 0px 1px 3px 1px rgba(0, 0, 0, 0.15);\n",
              "    filter: drop-shadow(0px 1px 2px rgba(0, 0, 0, 0.3));\n",
              "    fill: #FFFFFF;\n",
              "  }\n",
              "</style>\n",
              "\n",
              "    <script>\n",
              "      async function quickchart(key) {\n",
              "        const containerElement = document.querySelector('#' + key);\n",
              "        const charts = await google.colab.kernel.invokeFunction(\n",
              "            'suggestCharts', [key], {});\n",
              "      }\n",
              "    </script>\n",
              "\n",
              "      <script>\n",
              "\n",
              "function displayQuickchartButton(domScope) {\n",
              "  let quickchartButtonEl =\n",
              "    domScope.querySelector('#df-e69406f0-07bc-4a92-b062-4065f7881d31 button.colab-df-quickchart');\n",
              "  quickchartButtonEl.style.display =\n",
              "    google.colab.kernel.accessAllowed ? 'block' : 'none';\n",
              "}\n",
              "\n",
              "        displayQuickchartButton(document);\n",
              "      </script>\n",
              "      <style>\n",
              "    .colab-df-container {\n",
              "      display:flex;\n",
              "      flex-wrap:wrap;\n",
              "      gap: 12px;\n",
              "    }\n",
              "\n",
              "    .colab-df-convert {\n",
              "      background-color: #E8F0FE;\n",
              "      border: none;\n",
              "      border-radius: 50%;\n",
              "      cursor: pointer;\n",
              "      display: none;\n",
              "      fill: #1967D2;\n",
              "      height: 32px;\n",
              "      padding: 0 0 0 0;\n",
              "      width: 32px;\n",
              "    }\n",
              "\n",
              "    .colab-df-convert:hover {\n",
              "      background-color: #E2EBFA;\n",
              "      box-shadow: 0px 1px 2px rgba(60, 64, 67, 0.3), 0px 1px 3px 1px rgba(60, 64, 67, 0.15);\n",
              "      fill: #174EA6;\n",
              "    }\n",
              "\n",
              "    [theme=dark] .colab-df-convert {\n",
              "      background-color: #3B4455;\n",
              "      fill: #D2E3FC;\n",
              "    }\n",
              "\n",
              "    [theme=dark] .colab-df-convert:hover {\n",
              "      background-color: #434B5C;\n",
              "      box-shadow: 0px 1px 3px 1px rgba(0, 0, 0, 0.15);\n",
              "      filter: drop-shadow(0px 1px 2px rgba(0, 0, 0, 0.3));\n",
              "      fill: #FFFFFF;\n",
              "    }\n",
              "  </style>\n",
              "\n",
              "      <script>\n",
              "        const buttonEl =\n",
              "          document.querySelector('#df-f51d7cc8-cfc4-434f-9843-f2d940c1826d button.colab-df-convert');\n",
              "        buttonEl.style.display =\n",
              "          google.colab.kernel.accessAllowed ? 'block' : 'none';\n",
              "\n",
              "        async function convertToInteractive(key) {\n",
              "          const element = document.querySelector('#df-f51d7cc8-cfc4-434f-9843-f2d940c1826d');\n",
              "          const dataTable =\n",
              "            await google.colab.kernel.invokeFunction('convertToInteractive',\n",
              "                                                     [key], {});\n",
              "          if (!dataTable) return;\n",
              "\n",
              "          const docLinkHtml = 'Like what you see? Visit the ' +\n",
              "            '<a target=\"_blank\" href=https://colab.research.google.com/notebooks/data_table.ipynb>data table notebook</a>'\n",
              "            + ' to learn more about interactive tables.';\n",
              "          element.innerHTML = '';\n",
              "          dataTable['output_type'] = 'display_data';\n",
              "          await google.colab.output.renderOutput(dataTable, element);\n",
              "          const docLink = document.createElement('div');\n",
              "          docLink.innerHTML = docLinkHtml;\n",
              "          element.appendChild(docLink);\n",
              "        }\n",
              "      </script>\n",
              "    </div>\n",
              "  </div>\n"
            ]
          },
          "metadata": {},
          "execution_count": 316
        }
      ],
      "source": [
        "source_table = source_table.drop([\"n_lgrf\",\"n_r_grf\",\"l_ph_ank\",\"r_ph_ank\"], axis = 1)#,'l_ph_hip','l_ph_fo','n_lcop'], axis = 1)\n",
        "source_table"
      ]
    },
    {
      "cell_type": "code",
      "execution_count": null,
      "metadata": {
        "id": "Uy980Nr0hOv6"
      },
      "outputs": [],
      "source": [
        "x = source_table\n",
        "x = x.drop(['perc'], axis=1)\n",
        "scaler = MinMaxScaler()\n",
        "x_scaled = scaler.fit_transform(x)\n",
        "x_scaled = pd.DataFrame(x_scaled)\n",
        "\n",
        "encode_gait_percentage(source_table, 'perc')\n",
        "y = source_table[[\"X\",\"Y\"]]\n",
        "y\n",
        "\n",
        "data_x = x_scaled\n"
      ]
    },
    {
      "cell_type": "code",
      "execution_count": null,
      "metadata": {
        "id": "NZJUQdlrhOv7"
      },
      "outputs": [],
      "source": [
        "data_y = y.values.reshape(-1,2)"
      ]
    },
    {
      "cell_type": "code",
      "execution_count": null,
      "metadata": {
        "colab": {
          "base_uri": "https://localhost:8080/"
        },
        "id": "nPuERZxWhOv7",
        "outputId": "3f1420d3-e7c2-4eca-94a6-9f28ca933a9d"
      },
      "outputs": [
        {
          "output_type": "execute_result",
          "data": {
            "text/plain": [
              "numpy.ndarray"
            ]
          },
          "metadata": {},
          "execution_count": 319
        }
      ],
      "source": [
        "type(data_y)"
      ]
    },
    {
      "cell_type": "code",
      "execution_count": null,
      "metadata": {
        "id": "BMTNkMouLdlD"
      },
      "outputs": [],
      "source": [
        "\n",
        "\n",
        "#data_x,data_y= shuffle_multiple_datasets_based_on_gait_cycle( file_name, excel_path)\n",
        "\n",
        "X_train, X_test,y_train, y_test = train_test_split(data_x, data_y ,\n",
        "                        test_size=0.25,\n",
        "                        shuffle=False)\n",
        "look_back = 10\n",
        "fore_cast = 1\n",
        "\n",
        "train_x, train_y = convert_data(X_train, y_train, look_back, fore_cast)\n",
        "validation_x, validation_y = convert_data(X_test, y_test, look_back, fore_cast)\n"
      ]
    },
    {
      "cell_type": "code",
      "execution_count": null,
      "metadata": {
        "colab": {
          "base_uri": "https://localhost:8080/"
        },
        "id": "LCK0YESF04ok",
        "outputId": "cb3905f0-a174-4d1f-bb90-06f1b674bda4"
      },
      "outputs": [
        {
          "output_type": "stream",
          "name": "stdout",
          "text": [
            "(446245, 10, 8)\n",
            "(446245, 2)\n",
            "(148741, 10, 8)\n",
            "(148741, 2)\n"
          ]
        }
      ],
      "source": [
        "print(train_x.shape)\n",
        "print(train_y.shape)\n",
        "print(validation_x.shape)\n",
        "print(validation_y.shape)\n"
      ]
    },
    {
      "cell_type": "code",
      "execution_count": null,
      "metadata": {
        "colab": {
          "base_uri": "https://localhost:8080/"
        },
        "id": "hhL-sk1EhOv8",
        "outputId": "7e9f2d76-6a8d-436c-d8db-102d76e03bdf"
      },
      "outputs": [
        {
          "output_type": "execute_result",
          "data": {
            "text/plain": [
              "(446245, 10, 8)"
            ]
          },
          "metadata": {},
          "execution_count": 322
        }
      ],
      "source": [
        "train_x.shape"
      ]
    },
    {
      "cell_type": "code",
      "execution_count": null,
      "metadata": {
        "colab": {
          "base_uri": "https://localhost:8080/"
        },
        "id": "_pUL_UtrTApY",
        "outputId": "e8c08922-11a0-4068-bcd7-5a8b192ae5db"
      },
      "outputs": [
        {
          "output_type": "stream",
          "name": "stdout",
          "text": [
            "(14873, 10, 8)\n",
            "(14873, 2)\n"
          ]
        }
      ],
      "source": [
        "\n",
        "\n",
        "n1=validation_x.shape[0]\n",
        "val_x=validation_x[1:int(n1/10),:]\n",
        "val_y=validation_y[1:int(n1/10),:]\n",
        "print(val_x.shape)\n",
        "print(val_y.shape)"
      ]
    },
    {
      "cell_type": "code",
      "source": [
        "from keras import Model\n",
        "from keras.layers import Layer\n",
        "import keras.backend as K\n",
        "from keras.layers import Input, Dense, SimpleRNN\n",
        "from sklearn.preprocessing import MinMaxScaler\n",
        "from keras.models import Sequential\n",
        "from keras.metrics import mean_squared_error\n",
        "\n",
        "class attention(Layer):\n",
        "    def __init__(self,**kwargs):\n",
        "        super(attention,self).__init__(**kwargs)\n",
        "\n",
        "    def build(self,input_shape):\n",
        "        self.W=self.add_weight(name='attention_weight', shape=(input_shape[-1],1),\n",
        "                               initializer='random_normal', trainable=True)\n",
        "        self.b=self.add_weight(name='attention_bias', shape=(input_shape[1],1),\n",
        "                               initializer='zeros', trainable=True)\n",
        "        super(attention, self).build(input_shape)\n",
        "\n",
        "    def call(self,x):\n",
        "        # Alignment scores. Pass them through tanh function\n",
        "        print(x.shape)\n",
        "        e = K.tanh(K.dot(x,self.W)+self.b)\n",
        "        # Remove dimension of size 1\n",
        "        e = K.squeeze(e, axis=-1)\n",
        "        # Compute the weights\n",
        "        alpha = K.softmax(e)\n",
        "        # Reshape to tensorFlow format\n",
        "        alpha = K.expand_dims(alpha, axis=-1)\n",
        "        # Compute the context vector\n",
        "        context = x * alpha\n",
        "        context = K.sum(context, axis=1)\n",
        "        return context"
      ],
      "metadata": {
        "id": "amQi1sX8bxzx"
      },
      "execution_count": null,
      "outputs": []
    },
    {
      "cell_type": "code",
      "source": [
        "import tensorflow as tf\n",
        "lr = 0.001\n",
        "epochs = 30\n",
        "batch = 128\n",
        "n_features=train_x.shape[2]\n",
        "seq_len = train_x.shape[1]\n",
        "x=Input(shape=(seq_len, train_x.shape[2]))\n",
        "\n",
        "\n",
        "l1=tf.keras.layers.AveragePooling1D(\n",
        "    pool_size=2,\n",
        "    strides=1)(x)\n",
        "att1 = attention()(x)\n",
        "rep_layer = L.RepeatVector((seq_len))(att1);\n",
        "\n",
        "l2=L.Dense(n_features)(x)\n",
        "print(l1.shape)\n",
        "print(l2.shape)\n",
        "\n",
        "inp=tf.concat([l1,rep_layer,l2],1)\n",
        "print(inp.shape)\n",
        "inp = L.MaxPooling1D(pool_size=2,strides=1)(inp)\n",
        "\n",
        "# RNN_layer = SimpleRNN(hidden_units, return_sequences=True, activation=activation)(x)\n",
        "LSTM_layer2 = LSTM(32, return_sequences=True)(inp)\n",
        "# attn_layer1 = attention()(LSTM_layer2)\n",
        "tmp_layer = L.Flatten()(LSTM_layer2)\n",
        "lin_layer1= L.Dense(32)(tmp_layer)\n",
        "lin_layer2 = L.Dense(2)(lin_layer1)\n",
        "# rep_layer = L.RepeatVector((10))(attn_layer1)\n",
        "# attn_layer2 = attention()(rep_layer)\n",
        "# LSTM_layer3 = LSTM(32, return_sequences=True)(rep_layer)\n",
        "# LSTM_layer4 = LSTM(64, return_sequences=True)(LSTM_layer3)\n",
        "# lin_layer = L.TimeDistributed(L.Dense(n_features))(LSTM_layer4)\n",
        "# tmp_layer = Flatten()(rep_layer)\n",
        "# lin_layer = L.Dense(2)(tmp_layer)\n",
        "model=Model(x,lin_layer2)\n",
        "model.summary()\n",
        "adam = optimizers.Adam(lr)\n",
        "model.compile(loss='mse', optimizer=adam)"
      ],
      "metadata": {
        "colab": {
          "base_uri": "https://localhost:8080/"
        },
        "id": "_s_0epwZvjEX",
        "outputId": "033b6d55-1974-404d-f553-9838e5d8ceda"
      },
      "execution_count": null,
      "outputs": [
        {
          "output_type": "stream",
          "name": "stdout",
          "text": [
            "(None, 10, 8)\n",
            "(None, 9, 8)\n",
            "(None, 10, 8)\n",
            "(None, 29, 8)\n",
            "Model: \"model_22\"\n",
            "__________________________________________________________________________________________________\n",
            " Layer (type)                   Output Shape         Param #     Connected to                     \n",
            "==================================================================================================\n",
            " input_23 (InputLayer)          [(None, 10, 8)]      0           []                               \n",
            "                                                                                                  \n",
            " attention_22 (attention)       (None, 8)            18          ['input_23[0][0]']               \n",
            "                                                                                                  \n",
            " average_pooling1d_22 (AverageP  (None, 9, 8)        0           ['input_23[0][0]']               \n",
            " ooling1D)                                                                                        \n",
            "                                                                                                  \n",
            " repeat_vector_22 (RepeatVector  (None, 10, 8)       0           ['attention_22[0][0]']           \n",
            " )                                                                                                \n",
            "                                                                                                  \n",
            " dense_66 (Dense)               (None, 10, 8)        72          ['input_23[0][0]']               \n",
            "                                                                                                  \n",
            " tf.concat_22 (TFOpLambda)      (None, 29, 8)        0           ['average_pooling1d_22[0][0]',   \n",
            "                                                                  'repeat_vector_22[0][0]',       \n",
            "                                                                  'dense_66[0][0]']               \n",
            "                                                                                                  \n",
            " max_pooling1d_11 (MaxPooling1D  (None, 28, 8)       0           ['tf.concat_22[0][0]']           \n",
            " )                                                                                                \n",
            "                                                                                                  \n",
            " lstm_22 (LSTM)                 (None, 28, 32)       5248        ['max_pooling1d_11[0][0]']       \n",
            "                                                                                                  \n",
            " flatten_22 (Flatten)           (None, 896)          0           ['lstm_22[0][0]']                \n",
            "                                                                                                  \n",
            " dense_67 (Dense)               (None, 32)           28704       ['flatten_22[0][0]']             \n",
            "                                                                                                  \n",
            " dense_68 (Dense)               (None, 2)            66          ['dense_67[0][0]']               \n",
            "                                                                                                  \n",
            "==================================================================================================\n",
            "Total params: 34,108\n",
            "Trainable params: 34,108\n",
            "Non-trainable params: 0\n",
            "__________________________________________________________________________________________________\n"
          ]
        }
      ]
    },
    {
      "cell_type": "code",
      "source": [
        "model_history = model.fit( train_x, train_y, epochs=epochs, batch_size=batch,  verbose=1)"
      ],
      "metadata": {
        "colab": {
          "base_uri": "https://localhost:8080/"
        },
        "id": "5-pm5CPkuTWk",
        "outputId": "98d5c57c-270b-466e-d0e5-dddf11fef4f8"
      },
      "execution_count": null,
      "outputs": [
        {
          "output_type": "stream",
          "name": "stdout",
          "text": [
            "Epoch 1/30\n",
            "(None, 10, 8)\n",
            "(None, 10, 8)\n",
            "3487/3487 [==============================] - 110s 31ms/step - loss: 0.0181\n",
            "Epoch 2/30\n",
            "3487/3487 [==============================] - 107s 31ms/step - loss: 0.0056\n",
            "Epoch 3/30\n",
            "3487/3487 [==============================] - 106s 30ms/step - loss: 0.0045\n",
            "Epoch 4/30\n",
            "3487/3487 [==============================] - 106s 30ms/step - loss: 0.0038\n",
            "Epoch 5/30\n",
            "3487/3487 [==============================] - 107s 31ms/step - loss: 0.0034\n",
            "Epoch 6/30\n",
            "3487/3487 [==============================] - 106s 30ms/step - loss: 0.0033\n",
            "Epoch 7/30\n",
            "3487/3487 [==============================] - 105s 30ms/step - loss: 0.0031\n",
            "Epoch 8/30\n",
            "3487/3487 [==============================] - 104s 30ms/step - loss: 0.0030\n",
            "Epoch 9/30\n",
            "3487/3487 [==============================] - 106s 30ms/step - loss: 0.0028\n",
            "Epoch 10/30\n",
            "3487/3487 [==============================] - 106s 30ms/step - loss: 0.0028\n",
            "Epoch 11/30\n",
            "3487/3487 [==============================] - 104s 30ms/step - loss: 0.0027\n",
            "Epoch 12/30\n",
            "3487/3487 [==============================] - 105s 30ms/step - loss: 0.0026\n",
            "Epoch 13/30\n",
            "3487/3487 [==============================] - 107s 31ms/step - loss: 0.0025\n",
            "Epoch 14/30\n",
            "3487/3487 [==============================] - 107s 31ms/step - loss: 0.0024\n",
            "Epoch 15/30\n",
            "3487/3487 [==============================] - 105s 30ms/step - loss: 0.0024\n",
            "Epoch 16/30\n",
            "3487/3487 [==============================] - 106s 30ms/step - loss: 0.0024\n",
            "Epoch 17/30\n",
            "3487/3487 [==============================] - 107s 31ms/step - loss: 0.0023\n",
            "Epoch 18/30\n",
            "3487/3487 [==============================] - 106s 30ms/step - loss: 0.0023\n",
            "Epoch 19/30\n",
            "3487/3487 [==============================] - 98s 28ms/step - loss: 0.0023\n",
            "Epoch 20/30\n",
            "3487/3487 [==============================] - 98s 28ms/step - loss: 0.0022\n",
            "Epoch 21/30\n",
            "3487/3487 [==============================] - 96s 28ms/step - loss: 0.0022\n",
            "Epoch 22/30\n",
            "3487/3487 [==============================] - 98s 28ms/step - loss: 0.0022\n",
            "Epoch 23/30\n",
            "3487/3487 [==============================] - 96s 27ms/step - loss: 0.0021\n",
            "Epoch 24/30\n",
            "3487/3487 [==============================] - 98s 28ms/step - loss: 0.0021\n",
            "Epoch 25/30\n",
            "3487/3487 [==============================] - 102s 29ms/step - loss: 0.0021\n",
            "Epoch 26/30\n",
            "3487/3487 [==============================] - 96s 27ms/step - loss: 0.0021\n",
            "Epoch 27/30\n",
            "3487/3487 [==============================] - 98s 28ms/step - loss: 0.0020\n",
            "Epoch 28/30\n",
            "3487/3487 [==============================] - 95s 27ms/step - loss: 0.0020\n",
            "Epoch 29/30\n",
            "3487/3487 [==============================] - 98s 28ms/step - loss: 0.0020\n",
            "Epoch 30/30\n",
            "3487/3487 [==============================] - 96s 27ms/step - loss: 0.0020\n"
          ]
        }
      ]
    },
    {
      "cell_type": "code",
      "source": [
        "model.save(path+\"cnn_new_model_all_sub_ex_th 2_leg_\")"
      ],
      "metadata": {
        "colab": {
          "base_uri": "https://localhost:8080/"
        },
        "id": "gqQpm8-DInAX",
        "outputId": "3bfdaf67-dbfe-4431-98ca-e18059c1bd4d"
      },
      "execution_count": null,
      "outputs": [
        {
          "output_type": "stream",
          "name": "stdout",
          "text": [
            "(None, 10, 8)\n",
            "(None, 10, 8)\n",
            "(None, 10, 8)\n",
            "(None, 10, 8)\n",
            "(None, 10, 8)\n"
          ]
        },
        {
          "output_type": "stream",
          "name": "stderr",
          "text": [
            "WARNING:absl:Found untraced functions such as _update_step_xla, lstm_cell_23_layer_call_fn, lstm_cell_23_layer_call_and_return_conditional_losses while saving (showing 3 of 3). These functions will not be directly callable after loading.\n"
          ]
        }
      ]
    },
    {
      "cell_type": "code",
      "source": [
        "model = tf.keras.models.load_model(path+\"cnn_new_model_sd_sks_th\")"
      ],
      "metadata": {
        "id": "Jw9laCHEOilj"
      },
      "execution_count": null,
      "outputs": []
    },
    {
      "cell_type": "code",
      "source": [
        "def step_decay(epoch):\n",
        "\tinitial_lrate = 0.001\n",
        "\tdrop = 0.005\n",
        "\tepochs_drop = 10\n",
        "\tlrate=initial_lrate - 0.00001\n",
        "\t# lrate = initial_lrate * math.pow(drop, math.floor((1+epoch)/epochs_drop))\n",
        "\treturn lrate\n"
      ],
      "metadata": {
        "id": "MiLnoJ_WEU6x"
      },
      "execution_count": null,
      "outputs": []
    },
    {
      "cell_type": "code",
      "source": [
        "# trainPredict = model.predict(train_x)\n",
        "testPredict = model.predict(validation_x)"
      ],
      "metadata": {
        "colab": {
          "base_uri": "https://localhost:8080/"
        },
        "id": "U9VdiCTVBa4z",
        "outputId": "e1f90020-28ee-4eb6-ec97-da58f60c5daf"
      },
      "execution_count": null,
      "outputs": [
        {
          "output_type": "stream",
          "name": "stdout",
          "text": [
            "(None, 10, 8)\n",
            "4649/4649 [==============================] - 27s 6ms/step\n"
          ]
        }
      ]
    },
    {
      "cell_type": "code",
      "source": [
        "\n",
        "testPredict.shape"
      ],
      "metadata": {
        "colab": {
          "base_uri": "https://localhost:8080/"
        },
        "id": "I8TZkfOkLUf5",
        "outputId": "49e61544-b074-4ed4-d710-f3c1f79da93b"
      },
      "execution_count": null,
      "outputs": [
        {
          "output_type": "execute_result",
          "data": {
            "text/plain": [
              "(148741, 2)"
            ]
          },
          "metadata": {},
          "execution_count": 331
        }
      ]
    },
    {
      "cell_type": "code",
      "source": [
        "from sklearn.metrics import mean_squared_error\n",
        "\n",
        "# trainScore = np.sqrt(mean_squared_error(train_y, trainPredict))\n",
        "# print('Train Score: %.2f RMSE' % (trainScore))\n",
        "testScore = np.sqrt(mean_squared_error(validation_y, testPredict))\n",
        "print('Test Score: %.2f RMSE' % (testScore))"
      ],
      "metadata": {
        "colab": {
          "base_uri": "https://localhost:8080/"
        },
        "id": "QO0pIoqu36me",
        "outputId": "642b7a5f-50c6-4dad-9f98-bfb04ed955e6"
      },
      "execution_count": null,
      "outputs": [
        {
          "output_type": "stream",
          "name": "stdout",
          "text": [
            "Test Score: 0.05 RMSE\n"
          ]
        }
      ]
    },
    {
      "cell_type": "code",
      "source": [
        "v = X_test[11:]\n",
        "v.shape"
      ],
      "metadata": {
        "colab": {
          "base_uri": "https://localhost:8080/"
        },
        "id": "ghh2H9ws4CPm",
        "outputId": "96677196-0828-45c7-f7d6-ee351a350b71"
      },
      "execution_count": null,
      "outputs": [
        {
          "output_type": "execute_result",
          "data": {
            "text/plain": [
              "(148741, 8)"
            ]
          },
          "metadata": {},
          "execution_count": 333
        }
      ]
    },
    {
      "cell_type": "code",
      "source": [
        "\n",
        "x_test = scaler.inverse_transform(v)\n",
        "\n",
        "pred = np.zeros((len(testPredict),1))\n",
        "\n",
        "for iter in range(len(testPredict)):\n",
        "  x = testPredict[iter][0]\n",
        "  y = testPredict[iter][1]\n",
        "  pred[iter] = ((math.atan2(y,x) + 2*math.pi) % (2*math.pi)) * (100 / (2*math.pi))\n",
        "\n",
        "\n",
        "  # if ((pred[iter] >= 80) & (x_test[iter][-1] <= 20)) :\n",
        "  #   pred[iter] = pred[iter] - 100\n",
        "  #   if abs(pred[iter]) >= 5:\n",
        "  #     pred[iter] = 0\n",
        "\n",
        "\n",
        "  # if ((pred[iter] <= 20) & (x_test[iter][-1] >= 150)):\n",
        "  #   pred[iter] = 100 - pred[iter]\n",
        "  #   if abs(pred[iter]) >= 5:\n",
        "  #       pred[iter] = 100\n",
        "\n",
        "\n",
        "\n",
        "\n",
        "  # if (pred[iter] > 100):\n",
        "  #  pred[iter] = pred[iter] - 100\n",
        "\n",
        "pred1=pd.DataFrame(pred).sort_index().reset_index()"
      ],
      "metadata": {
        "id": "XBtXpqWU0nw0"
      },
      "execution_count": null,
      "outputs": []
    },
    {
      "cell_type": "code",
      "source": [
        "actual = np.zeros((len(validation_y),1))\n",
        "\n",
        "for iter in range(len(validation_y)):\n",
        "  x =validation_y[iter][0]\n",
        "  y =validation_y[iter][1]\n",
        "  actual[iter] = ((math.atan2(y,x) + 2*math.pi) % (2*math.pi)) * (100 / (2*math.pi))"
      ],
      "metadata": {
        "id": "KIsIEir80qmo"
      },
      "execution_count": null,
      "outputs": []
    },
    {
      "cell_type": "code",
      "source": [
        "correct = 0\n",
        "for i in range(5):\n",
        "  correct = 0\n",
        "  for iter in range(len(actual)):\n",
        "    if (abs(actual[iter] - pred[iter]) <= (i+1)) or (actual[iter]>98) or(actual[iter]<3):\n",
        "      correct+=1\n",
        "\n",
        "  print(correct)\n",
        "  print(len(actual))\n",
        "\n",
        "  print(\"Precision \", i+1, \": \", correct * 100/len(actual))"
      ],
      "metadata": {
        "colab": {
          "base_uri": "https://localhost:8080/"
        },
        "id": "-bNRktP10tNK",
        "outputId": "9568b5ae-c2ee-48bc-ca61-d2a75502cd89"
      },
      "execution_count": null,
      "outputs": [
        {
          "output_type": "stream",
          "name": "stdout",
          "text": [
            "108078\n",
            "148741\n",
            "Precision  1 :  72.66187534035673\n",
            "139086\n",
            "148741\n",
            "Precision  2 :  93.50885095568808\n",
            "146361\n",
            "148741\n",
            "Precision  3 :  98.39990318741974\n",
            "148150\n",
            "148741\n",
            "Precision  4 :  99.6026650351954\n",
            "148580\n",
            "148741\n",
            "Precision  5 :  99.89175815679604\n"
          ]
        }
      ]
    },
    {
      "cell_type": "code",
      "source": [
        "perc_rmse = np.sqrt(mean_squared_error(actual, pred))\n",
        "print(\"Predicting Percentage RMSE: \", perc_rmse)\n",
        "rmse = 0\n",
        "length = len(actual)\n",
        "for i in range(len(actual)):\n",
        "  if abs (pred[i] - actual[i]) >= 90:\n",
        "    length -= 1\n",
        "  else:\n",
        "    rmse = rmse + pow(pred[i] - actual[i], 2)\n",
        "rmse = rmse / length\n",
        "rmse = math.sqrt(rmse)\n",
        "print(length)\n",
        "print(len(actual))\n",
        "print(rmse)"
      ],
      "metadata": {
        "colab": {
          "base_uri": "https://localhost:8080/"
        },
        "id": "LfzR41e40wqK",
        "outputId": "53330be1-aea7-479a-e161-0bd27be42d96"
      },
      "execution_count": null,
      "outputs": [
        {
          "output_type": "stream",
          "name": "stdout",
          "text": [
            "Predicting Percentage RMSE:  9.452779617957061\n",
            "147396\n",
            "148741\n",
            "1.0695665706101516\n"
          ]
        },
        {
          "output_type": "stream",
          "name": "stderr",
          "text": [
            "<ipython-input-337-21bf04cfed5a>:11: DeprecationWarning: Conversion of an array with ndim > 0 to a scalar is deprecated, and will error in future. Ensure you extract a single element from your array before performing this operation. (Deprecated NumPy 1.25.)\n",
            "  rmse = math.sqrt(rmse)\n"
          ]
        }
      ]
    },
    {
      "cell_type": "code",
      "source": [
        "correct = 0\n",
        "\n",
        "plt.figure()\n",
        "plt.scatter(pred, actual)\n",
        "for iter in range(len(actual)):\n",
        "  if actual[iter]<5 or actual[iter]>95:\n",
        "    correct+=1\n",
        "    continue\n",
        "  if (abs(actual[iter] - pred[iter]) <= 1):\n",
        "    correct+=1\n",
        "\n",
        "\n",
        "print(correct)\n",
        "print(len(actual))"
      ],
      "metadata": {
        "colab": {
          "base_uri": "https://localhost:8080/",
          "height": 465
        },
        "id": "Twk_YKQWJdO1",
        "outputId": "d2d1c382-015e-4e1a-ec15-2d2906a3c740"
      },
      "execution_count": null,
      "outputs": [
        {
          "output_type": "stream",
          "name": "stdout",
          "text": [
            "109302\n",
            "148741\n"
          ]
        },
        {
          "output_type": "display_data",
          "data": {
            "text/plain": [
              "<Figure size 640x480 with 1 Axes>"
            ],
            "image/png": "[encoded data removed]"
          },
          "metadata": {}
        }
      ]
    },
    {
      "cell_type": "code",
      "source": [
        "plt.scatter(actual, pred, facecolors='none', edgecolors='crimson',alpha=0.4)\n",
        "p1 = max(max(pred), max(actual))\n",
        "p2 = min(min(pred), min(actual))\n",
        "\n",
        "ci = 0.1 * np.std([p1,p2]) / np.mean([p1,p2])\n",
        "\n",
        "plt.plot([p1, p2], [p1, p2], 'b-', linewidth =3)\n",
        "plt.title('Actual vs Prediction')"
      ],
      "metadata": {
        "colab": {
          "base_uri": "https://localhost:8080/",
          "height": 469
        },
        "id": "FxfNpj92JhO5",
        "outputId": "3a675597-48aa-47fa-f331-ca7b98fa3ec0"
      },
      "execution_count": null,
      "outputs": [
        {
          "output_type": "execute_result",
          "data": {
            "text/plain": [
              "Text(0.5, 1.0, 'Actual vs Prediction')"
            ]
          },
          "metadata": {},
          "execution_count": 339
        },
        {
          "output_type": "display_data",
          "data": {
            "text/plain": [
              "<Figure size 640x480 with 1 Axes>"
            ],
            "image/png": "[encoded data removed]"
          },
          "metadata": {}
        }
      ]
    },
    {
      "cell_type": "code",
      "source": [
        "tf.keras.utils.plot_model(model, 'model_new.png')"
      ],
      "metadata": {
        "colab": {
          "base_uri": "https://localhost:8080/",
          "height": 758
        },
        "id": "-htzaM04vRDt",
        "outputId": "83ab0d6f-8467-40b4-c030-4f35b45811be"
      },
      "execution_count": null,
      "outputs": [
        {
          "output_type": "execute_result",
          "data": {
            "image/png": "[encoded data removed]",
            "text/plain": [
              "<IPython.core.display.Image object>"
            ]
          },
          "metadata": {},
          "execution_count": 281
        }
      ]
    },
    {
      "cell_type": "code",
      "source": [
        "file_name = ['PK_0_I_r.xls', 'PK_2_I_r.xls', 'PK_3_I_r.xls','PK_5_I_r.xls']\n",
        "\n",
        "\n",
        "for i in range (len(file_name)):\n",
        "    file_list.append(pd.read_excel(path+ file_name[i], sheet_name='Sheet1'))\n",
        "\n",
        "import random\n",
        "random.shuffle(file_list)\n",
        "\n",
        "all_data = pd.concat(file_list, axis=0, ignore_index=True)\n",
        "\n",
        "cycle = 0\n",
        "cycle_list = []\n",
        "\n",
        "start = 0\n",
        "\n",
        "for i in range(len(all_data) - 1):\n",
        "    if (all_data['perc'][i+1] == 0):\n",
        "        cycle += 1\n",
        "        cycle_list.append(all_data.iloc[start:i])\n",
        "        start = i+1\n",
        "\n",
        "random.shuffle(cycle_list)\n",
        "source_table = pd.concat(cycle_list, axis=0, ignore_index=True)\n",
        "\n",
        "source_table\n",
        "source_table = source_table.drop([\"n_lgrf\",\"n_r_grf\",\"l_ph_ank\",\"r_ph_ank\"], axis = 1)#,'l_ph_hip','l_ph_fo','n_lcop'], axis = 1)\n",
        "\n",
        "x = source_table\n",
        "x = x.drop(['perc'], axis=1)\n",
        "scaler = MinMaxScaler()\n",
        "x_scaled = scaler.fit_transform(x)\n",
        "x_scaled = pd.DataFrame(x_scaled)\n",
        "\n",
        "encode_gait_percentage(source_table, 'perc')\n",
        "y = source_table[[\"X\",\"Y\"]]\n",
        "y\n",
        "\n",
        "data_x = x_scaled\n",
        "data_y = y.values.reshape(-1,2)\n",
        "look_back=10\n",
        "fore_cast=1\n",
        "val_new_x, val_new_y = convert_data(data_x, data_y, look_back, fore_cast)\n"
      ],
      "metadata": {
        "id": "ALo9_9C-2IXR"
      },
      "execution_count": null,
      "outputs": []
    },
    {
      "cell_type": "code",
      "source": [
        "testPredict = model.predict(val_new_x)"
      ],
      "metadata": {
        "colab": {
          "base_uri": "https://localhost:8080/"
        },
        "id": "k7bivVWJgiwE",
        "outputId": "016735f8-154d-4002-c6f6-ac47eb8b97cf"
      },
      "execution_count": null,
      "outputs": [
        {
          "output_type": "stream",
          "name": "stdout",
          "text": [
            "35853/35853 [==============================] - 236s 7ms/step\n"
          ]
        }
      ]
    },
    {
      "cell_type": "code",
      "source": [
        "v = val_new_x[11:]\n",
        "v.shape\n",
        "\n",
        "pred = np.zeros((len(testPredict),1))\n",
        "\n",
        "for iter in range(len(testPredict)):\n",
        "  x = testPredict[iter][0]\n",
        "  y = testPredict[iter][1]\n",
        "  pred[iter] = ((math.atan2(y,x) + 2*math.pi) % (2*math.pi)) * (100 / (2*math.pi))\n",
        "\n",
        "  # pred1=pd.DataFrame(pred).sort_index().reset_index()\n",
        "\n",
        "actual = np.zeros((len(val_new_y),1))\n",
        "\n",
        "for iter in range(len(val_new_x)):\n",
        "  x =val_new_y[iter][0]\n",
        "  y =val_new_y[iter][1]\n",
        "  actual[iter] = ((math.atan2(y,x) + 2*math.pi) % (2*math.pi)) * (100 / (2*math.pi))\n",
        "\n",
        "\n",
        "\n",
        "correct = 0\n",
        "for i in range(5):\n",
        "  correct = 0\n",
        "  for iter in range(len(actual)):\n",
        "    if (abs(actual[iter] - pred[iter]) <= (i+1)) or (actual[iter]>98) or(actual[iter]<3):\n",
        "      correct+=1\n",
        "\n",
        "  print(correct)\n",
        "  print(len(actual))\n",
        "\n",
        "  print(\"Precision \", i+1, \": \", correct * 100/len(actual))"
      ],
      "metadata": {
        "colab": {
          "base_uri": "https://localhost:8080/"
        },
        "id": "QTpp3bDpgjMB",
        "outputId": "d833160c-afaa-4c01-ca3b-8db785cdf38c"
      },
      "execution_count": null,
      "outputs": [
        {
          "output_type": "stream",
          "name": "stdout",
          "text": [
            "671947\n",
            "1147286\n",
            "Precision  1 :  58.56839532601287\n",
            "872502\n",
            "1147286\n",
            "Precision  2 :  76.04921527849203\n",
            "939596\n",
            "1147286\n",
            "Precision  3 :  81.89727757507718\n",
            "975049\n",
            "1147286\n",
            "Precision  4 :  84.9874399234367\n",
            "997114\n",
            "1147286\n",
            "Precision  5 :  86.91067440899654\n"
          ]
        }
      ]
    },
    {
      "cell_type": "code",
      "source": [
        "perc_rmse = np.sqrt(mean_squared_error(actual, pred))\n",
        "print(\"Predicting Percentage RMSE: \", perc_rmse)\n",
        "rmse = 0\n",
        "length = len(actual)\n",
        "for i in range(len(actual)):\n",
        "  if abs (pred[i] - actual[i]) >= 90:\n",
        "    length -= 1\n",
        "  else:\n",
        "    rmse = rmse + pow(pred[i] - actual[i], 2)\n",
        "rmse = rmse / length\n",
        "rmse = math.sqrt(rmse)\n",
        "print(length)\n",
        "print(len(actual))\n",
        "print(rmse)"
      ],
      "metadata": {
        "colab": {
          "base_uri": "https://localhost:8080/"
        },
        "id": "0MF6dayJmPHg",
        "outputId": "e8682984-5a4d-49ee-8007-e8b9328a060a"
      },
      "execution_count": null,
      "outputs": [
        {
          "output_type": "stream",
          "name": "stdout",
          "text": [
            "Predicting Percentage RMSE:  12.209285477150495\n",
            "1135419\n",
            "1147286\n",
            "7.128382042631977\n"
          ]
        },
        {
          "output_type": "stream",
          "name": "stderr",
          "text": [
            "<ipython-input-40-21bf04cfed5a>:11: DeprecationWarning: Conversion of an array with ndim > 0 to a scalar is deprecated, and will error in future. Ensure you extract a single element from your array before performing this operation. (Deprecated NumPy 1.25.)\n",
            "  rmse = math.sqrt(rmse)\n"
          ]
        }
      ]
    },
    {
      "cell_type": "code",
      "source": [
        "plt.scatter(actual, pred, facecolors='none', edgecolors='crimson',alpha=0.4)\n",
        "p1 = max(max(pred), max(actual))\n",
        "p2 = min(min(pred), min(actual))\n",
        "\n",
        "ci = 0.1 * np.std([p1,p2]) / np.mean([p1,p2])\n",
        "\n",
        "plt.plot([p1, p2], [p1, p2], 'b-', linewidth =3)\n",
        "plt.title('Actual vs Prediction')"
      ],
      "metadata": {
        "colab": {
          "base_uri": "https://localhost:8080/",
          "height": 469
        },
        "id": "JZYGhlAOsibw",
        "outputId": "425a0cfd-8e5e-4c97-9f56-c2bf12e6c5ba"
      },
      "execution_count": null,
      "outputs": [
        {
          "output_type": "execute_result",
          "data": {
            "text/plain": [
              "Text(0.5, 1.0, 'Actual vs Prediction')"
            ]
          },
          "metadata": {},
          "execution_count": 41
        },
        {
          "output_type": "display_data",
          "data": {
            "text/plain": [
              "<Figure size 640x480 with 1 Axes>"
            ],
            "image/png": "[encoded data removed]"
          },
          "metadata": {}
        }
      ]
    },
    {
      "cell_type": "code",
      "source": [],
      "metadata": {
        "id": "qOi80H9bsnv4"
      },
      "execution_count": null,
      "outputs": []
    }
  ],
  "metadata": {
    "accelerator": "TPU",
    "colab": {
      "provenance": []
    },
    "kernelspec": {
      "display_name": "Python 3",
      "name": "python3"
    },
    "language_info": {
      "codemirror_mode": {
        "name": "ipython",
        "version": 3
      },
      "file_extension": ".py",
      "mimetype": "text/x-python",
      "name": "python",
      "nbconvert_exporter": "python",
      "pygments_lexer": "ipython3",
      "version": "3.8.10"
    }
  },
  "nbformat": 4,
  "nbformat_minor": 0
}