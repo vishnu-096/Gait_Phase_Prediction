{
  "cells": [
    {
      "cell_type": "code",
      "execution_count": 1,
      "metadata": {
        "id": "oUvebjog04oW"
      },
      "outputs": [],
      "source": [
        "import numpy as np\n",
        "import pandas as pd\n",
        "import tensorflow as tf\n",
        "import matplotlib.pyplot as plt\n",
        "import math\n",
        "import time\n",
        "import os\n",
        "import sys\n",
        "import json\n",
        "\n",
        "import scipy as sp\n",
        "from scipy import signal\n",
        "\n",
        "from keras.models import Sequential\n",
        "from keras.layers import Dense\n",
        "from keras.layers import LSTM\n",
        "from keras.callbacks import EarlyStopping\n",
        "from sklearn.preprocessing import MinMaxScaler\n",
        "from sklearn.feature_selection import SelectKBest\n",
        "from sklearn.feature_selection import f_regression\n",
        "from sklearn import metrics\n",
        "from statsmodels.tsa.seasonal import seasonal_decompose\n",
        "from statsmodels.graphics.tsaplots import plot_acf\n",
        "\n",
        "from tensorflow.keras.models import Sequential\n",
        "from tensorflow.keras.layers import *\n",
        "from tensorflow.keras.callbacks import ModelCheckpoint\n",
        "from tensorflow.keras.losses import MeanSquaredError\n",
        "from tensorflow.keras.metrics import RootMeanSquaredError\n",
        "from tensorflow.keras.optimizers import Adam\n",
        "from tensorflow.keras.layers import LSTM, Dense, Dropout, TimeDistributed, Conv1D, MaxPooling1D, Flatten, Bidirectional, Input, Flatten, Activation, Reshape, RepeatVector, Concatenate\n",
        "from tensorflow.keras import Sequential\n",
        "from tensorflow.keras.layers import *\n",
        "from keras.callbacks import EarlyStopping\n",
        "import tensorflow as tf\n",
        "\n",
        "from sklearn.preprocessing import MinMaxScaler\n",
        "from sklearn.model_selection import train_test_split\n",
        "\n",
        "import os, warnings, random\n",
        "from sklearn.metrics import mean_squared_error\n",
        "from sklearn.model_selection import train_test_split\n",
        "import tensorflow as tf\n",
        "import tensorflow.keras.layers as L\n",
        "from tensorflow.keras.layers import *\n",
        "from tensorflow.keras import optimizers, Sequential, Model\n",
        "from tensorflow.keras.callbacks import LearningRateScheduler"
      ]
    },
    {
      "cell_type": "code",
      "execution_count": 2,
      "metadata": {
        "id": "ieOMqQ_o04oZ"
      },
      "outputs": [],
      "source": [
        "SEED = 13\n",
        "tf.random.set_seed(SEED)"
      ]
    },
    {
      "cell_type": "code",
      "execution_count": 3,
      "metadata": {
        "id": "PKm1uOiX04oa"
      },
      "outputs": [],
      "source": [
        "def encode_gait_percentage(df, name):\n",
        "  percent = df[name].values.tolist()\n",
        "  X = np.zeros((len(df[name]),1))\n",
        "  Y = np.zeros((len(df[name]),1))\n",
        "  for i in range (len(percent)):\n",
        "    phi = percent[i] * 2 * math.pi / 100\n",
        "    X[i] = math.cos(phi)\n",
        "    Y[i] = math.sin(phi)\n",
        "  df['X'] = X\n",
        "  df['Y'] = Y"
      ]
    },
    {
      "cell_type": "code",
      "execution_count": 4,
      "metadata": {
        "id": "PiqdGzio04oj"
      },
      "outputs": [],
      "source": [
        "\n",
        "\n",
        "def convert_data(d_x, d_y, look_back = 1, fore_cast = 1):\n",
        "    dataX = []\n",
        "    dataY = []\n",
        "\n",
        "    for i in range(look_back, len(d_x) - fore_cast):\n",
        "        dataX.append(d_x[i - look_back: i])\n",
        "        dataY.append(d_y[i + fore_cast,:])\n",
        "\n",
        "    return np.array(dataX), np.array(dataY)"
      ]
    },
    {
      "cell_type": "code",
      "execution_count": 5,
      "metadata": {
        "colab": {
          "base_uri": "https://localhost:8080/"
        },
        "id": "x1qm5sIrhOv3",
        "outputId": "a6ad35c0-8877-411b-ab8c-6fb94c7d8588"
      },
      "outputs": [],
      "source": [
        "#from google.colab import drive\n",
        "\n",
        "#drive.mount('/content/drive')\n",
        "#path =path = '/content/drive/MyDrive/nmchr_lab/Subjects/inclined/new/right_based/'\n"
      ]
    },
    {
      "cell_type": "code",
      "execution_count": 6,
      "metadata": {},
      "outputs": [
        {
          "name": "stdout",
          "output_type": "stream",
          "text": [
            "c:\\Users\\Admin\\Desktop\\Neurorobotic Lab\\Data_Code\\Model\\Gait_Phase_Prediction\n"
          ]
        }
      ],
      "source": [
        "working_dir = os.getcwd()#os.path.dirname(os.getcwd())\n",
        "sys_platform = sys.platform\n",
        "excel_path_dict = {'linux' : \"/csvs/\", 'win32' : \"\\Data\\Incline\\\\right_based\\\\\"}\n",
        "excel_path_name = excel_path_dict[sys_platform]\n",
        "\n",
        "directory_path = working_dir \n",
        "print(directory_path)\n",
        "excel_path = directory_path + excel_path_name\n"
      ]
    },
    {
      "cell_type": "code",
      "execution_count": 7,
      "metadata": {},
      "outputs": [],
      "source": [
        "# ---------------------------------------------------- #\n",
        "#  -> Provide Number of Trainning Subj and Test Subj.  #\n",
        "#  -> List all the file name per each subj.            #\n",
        "# ---------------------------------------------------- #\n",
        "\n",
        "no_subj_train = 4\n",
        "no_subj_test  = 1\n",
        "\n",
        "sub1_file = ['TH\\TH_4_I_r.xlsx', 'TH\\TH_2_I_r.xlsx', 'TH\\TH_3_I_r.xlsx']\n",
        "sub2_file = ['JJ\\JJ_4_I_r.xlsx', 'JJ\\JJ_6_I_r.xlsx', 'JJ\\JJ_7_I_r.xlsx']\n",
        "sub3_file = ['SD\\SD_1_I_r.xls', 'SD\\SD_4_I_r.xls', 'SD\\SD_2_I_r.xls', 'SD\\SD_3_I_r.xls', 'SD\\SD_5_I_r.xls']\n",
        "sub4_file = ['PK\\PK_0_I_r.xls', 'PK\\PK_5_I_r.xls', 'PK\\PK_2_I_r.xls', 'PK\\PK_3_I_r.xls']\n",
        "sub5_file = ['SKS\\SKS_0_I_r.xls', 'SKS\\SKS_4_I_r.xls', 'SKS\\SKS_2_I_r.xls', 'SKS\\SKS_3_I_r.xls', 'SKS\\SKS_5_I_r.xls']\n",
        "sub6_file = ['SOE\\SOE_I_0.xlsx', 'SOE\\SOE_I_2.xlsx', 'SOE\\SOE_I_3.xlsx', 'SOE\\SOE_I_4.xlsx', 'SOE\\SOE_I_5.xlsx']\n",
        "sub7_file = ['VP\\VP_I_0.xlsx', 'VP\\VP_I_2.xlsx', 'VP\\VP_I_3.xlsx', 'VP\\VP_I_5.xlsx']\n"
      ]
    },
    {
      "cell_type": "code",
      "execution_count": 8,
      "metadata": {
        "id": "QUcI8IV6hOv4"
      },
      "outputs": [],
      "source": [
        "#file_name = ['SKS_2_I_r.xlsx',  'SKS_3_I_r.xlsx',  'SKS_4_I_r.xlsx','SKS_5_I_r.xlsx', 'SD_2_I_r.xlsx',  'SD_3_I_r.xlsx',  'SD_4_I_r.xlsx','SD_5_I_r.xlsx', 'SD_1_I_r.xlsx', 'PK_0_I_r.xls', 'PK_2_I_r.xls', 'PK_3_I_r.xls','PK_5_I_r.xls']\n",
        "# file_name = ['PK_0_I_r.xls', 'PK_2_I_r.xls', 'PK_3_I_r.xls','PK_5_I_r.xls']\n",
        "# file_name = ['TH_4_I_r.xlsx', 'TH_3_I_r.xlsx', 'TH_2_I_r.xlsx']\n",
        "# file_name = ['JJ_4_I_r.xlsx', 'JJ_6_I_r.xlsx', 'JJ_7_I_r.xlsx']\n",
        "# file_name = ['SKS_2_I_r.xlsx',  'SKS_3_I_r.xlsx',  'SKS_4_I_r.xlsx','SKS_5_I_r.xlsx', 'SKS_0_I_r.xlsx'];\n",
        "# file_name = ['SD_2_I_r.xlsx',  'SD_3_I_r.xlsx',  'SD_4_I_r.xlsx','SD_5_I_r.xlsx', 'SD_1_I_r.xlsx']\n",
        "# file_name = ['SD_1_I_r.xlsx', 'SD_2_I_r.xlsx', 'SD_3_I_r.xlsx','SD_5_I_r.xlsx','SD_4_I_r.xlsx', 'SKS_2_I_r.xlsx',  'SKS_3_I_r.xlsx',  'SKS_4_I_r.xlsx','SKS_5_I_r.xlsx', 'TH_4_I_r.xlsx', 'TH_3_I_r.xlsx', 'TH_2_I_r.xlsx', 'SKS_2_I_r.xlsx','JJ_4_I_r.xlsx', 'JJ_6_I_r.xlsx', 'JJ_7_I_r.xlsx']\n",
        "\n",
        "#file_list=[]\n",
        "\n",
        "#for i in range (len(file_name)):\n",
        "#    file_list.append(pd.read_excel(path+ file_name[i], sheet_name='Sheet1'))\n",
        "\n",
        "#import random\n",
        "#random.shuffle(file_list)\n",
        "\n",
        "#all_data = pd.concat(file_list, axis=0, ignore_index=True)\n"
      ]
    },
    {
      "cell_type": "code",
      "execution_count": 70,
      "metadata": {},
      "outputs": [
        {
          "name": "stdout",
          "output_type": "stream",
          "text": [
            "Number of all subject:  5\n"
          ]
        }
      ],
      "source": [
        "# ---------------------------------------------------- #\n",
        "#  -> Concat all Subj into a list                      #\n",
        "#  -> Randomly shuffle the subj list                   #\n",
        "# ---------------------------------------------------- #\n",
        "\n",
        "#list1 = [sub1_file, sub2_file, sub3_file, sub4_file, sub5_file]\n",
        "list1 = [sub5_file, sub6_file, sub7_file, sub3_file, sub4_file]\n",
        "print(\"Number of all subject: \", len(list1))\n",
        "\n",
        "import random\n",
        "random.shuffle(list1)"
      ]
    },
    {
      "cell_type": "code",
      "execution_count": 71,
      "metadata": {},
      "outputs": [
        {
          "name": "stdout",
          "output_type": "stream",
          "text": [
            "Test Subj:  ['SKS\\\\SKS_0_I_r.xls', 'SKS\\\\SKS_4_I_r.xls', 'SKS\\\\SKS_2_I_r.xls', 'SKS\\\\SKS_3_I_r.xls', 'SKS\\\\SKS_5_I_r.xls']\n"
          ]
        }
      ],
      "source": [
        "# ---------------------------------------------------- #\n",
        "#  -> Randomly choose (n) number Subj for testing by   #\n",
        "#      poping an element from the list                 #\n",
        "# ---------------------------------------------------- #\n",
        "\n",
        "test_sub = list1.pop()\n",
        "\n",
        "print(\"Test Subj: \", test_sub)"
      ]
    },
    {
      "cell_type": "code",
      "execution_count": 72,
      "metadata": {},
      "outputs": [],
      "source": [
        "file_list = []\n",
        "\n",
        "for i in range (len(list1)):\n",
        "    for j in range(len(list1[i])):\n",
        "        file_list.append(pd.read_excel(excel_path + list1[i][j], sheet_name='Sheet1'))"
      ]
    },
    {
      "cell_type": "code",
      "execution_count": 73,
      "metadata": {},
      "outputs": [],
      "source": [
        "random.shuffle(file_list)\n",
        "\n",
        "all_data = pd.concat(file_list, axis = 0, ignore_index = True)"
      ]
    },
    {
      "cell_type": "code",
      "execution_count": 74,
      "metadata": {
        "colab": {
          "base_uri": "https://localhost:8080/"
        },
        "id": "TEonMTjyxFKa",
        "outputId": "91e29508-92b7-4dc9-93d5-f8a346aa6d1c"
      },
      "outputs": [],
      "source": [
        "#file_name"
      ]
    },
    {
      "cell_type": "code",
      "execution_count": 75,
      "metadata": {
        "colab": {
          "base_uri": "https://localhost:8080/"
        },
        "id": "-m7rgW5thOv4",
        "outputId": "031c30d6-365c-47ee-c79a-20736caaf18c"
      },
      "outputs": [
        {
          "name": "stdout",
          "output_type": "stream",
          "text": [
            "<class 'pandas.core.frame.DataFrame'>\n",
            "RangeIndex: 803238 entries, 0 to 803237\n",
            "Data columns (total 13 columns):\n",
            " #   Column        Non-Null Count   Dtype  \n",
            "---  ------        --------------   -----  \n",
            " 0   l_ph_hip      803238 non-null  float64\n",
            " 1   l_ph_ank      803238 non-null  float64\n",
            " 2   l_ph_fo       803238 non-null  float64\n",
            " 3   r_ph_hip      803238 non-null  float64\n",
            " 4   r_ph_ank      803238 non-null  float64\n",
            " 5   r_ph_fo       803238 non-null  float64\n",
            " 6   n_lgrf        803238 non-null  float64\n",
            " 7   n_r_grf       803238 non-null  float64\n",
            " 8   n_lcop        803238 non-null  float64\n",
            " 9   n_rcop        803238 non-null  float64\n",
            " 10  perc_new      803238 non-null  float64\n",
            " 11  st_sw_phase   803238 non-null  int64  \n",
            " 12  strike_frame  803238 non-null  int64  \n",
            "dtypes: float64(11), int64(2)\n",
            "memory usage: 79.7 MB\n"
          ]
        }
      ],
      "source": [
        "all_data.info()"
      ]
    },
    {
      "cell_type": "code",
      "execution_count": 76,
      "metadata": {
        "colab": {
          "base_uri": "https://localhost:8080/",
          "height": 467
        },
        "id": "9zPHqQg4hOv5",
        "outputId": "5d37c01b-0314-4f0f-8e95-7e56e50a45d3"
      },
      "outputs": [
        {
          "data": {
            "text/html": [
              "<div>\n",
              "<style scoped>\n",
              "    .dataframe tbody tr th:only-of-type {\n",
              "        vertical-align: middle;\n",
              "    }\n",
              "\n",
              "    .dataframe tbody tr th {\n",
              "        vertical-align: top;\n",
              "    }\n",
              "\n",
              "    .dataframe thead th {\n",
              "        text-align: right;\n",
              "    }\n",
              "</style>\n",
              "<table border=\"1\" class=\"dataframe\">\n",
              "  <thead>\n",
              "    <tr style=\"text-align: right;\">\n",
              "      <th></th>\n",
              "      <th>l_ph_hip</th>\n",
              "      <th>l_ph_ank</th>\n",
              "      <th>l_ph_fo</th>\n",
              "      <th>r_ph_hip</th>\n",
              "      <th>r_ph_ank</th>\n",
              "      <th>r_ph_fo</th>\n",
              "      <th>n_lgrf</th>\n",
              "      <th>n_r_grf</th>\n",
              "      <th>n_lcop</th>\n",
              "      <th>n_rcop</th>\n",
              "      <th>perc_new</th>\n",
              "      <th>st_sw_phase</th>\n",
              "      <th>strike_frame</th>\n",
              "    </tr>\n",
              "  </thead>\n",
              "  <tbody>\n",
              "    <tr>\n",
              "      <th>0</th>\n",
              "      <td>0.484865</td>\n",
              "      <td>0.000000</td>\n",
              "      <td>280.379839</td>\n",
              "      <td>332.010540</td>\n",
              "      <td>0.000000</td>\n",
              "      <td>240.919628</td>\n",
              "      <td>0.057804</td>\n",
              "      <td>2.739097</td>\n",
              "      <td>0.000000</td>\n",
              "      <td>0.000000</td>\n",
              "      <td>0.000000</td>\n",
              "      <td>0</td>\n",
              "      <td>1</td>\n",
              "    </tr>\n",
              "    <tr>\n",
              "      <th>1</th>\n",
              "      <td>359.015774</td>\n",
              "      <td>0.000000</td>\n",
              "      <td>280.470177</td>\n",
              "      <td>330.082283</td>\n",
              "      <td>0.000000</td>\n",
              "      <td>238.237663</td>\n",
              "      <td>0.129445</td>\n",
              "      <td>2.722757</td>\n",
              "      <td>0.000000</td>\n",
              "      <td>0.000000</td>\n",
              "      <td>0.460829</td>\n",
              "      <td>0</td>\n",
              "      <td>2</td>\n",
              "    </tr>\n",
              "    <tr>\n",
              "      <th>2</th>\n",
              "      <td>357.386330</td>\n",
              "      <td>0.000000</td>\n",
              "      <td>280.816420</td>\n",
              "      <td>328.520849</td>\n",
              "      <td>0.000000</td>\n",
              "      <td>235.070332</td>\n",
              "      <td>0.226329</td>\n",
              "      <td>2.695043</td>\n",
              "      <td>0.000000</td>\n",
              "      <td>0.000000</td>\n",
              "      <td>0.921659</td>\n",
              "      <td>0</td>\n",
              "      <td>3</td>\n",
              "    </tr>\n",
              "    <tr>\n",
              "      <th>3</th>\n",
              "      <td>355.594313</td>\n",
              "      <td>0.000000</td>\n",
              "      <td>281.577480</td>\n",
              "      <td>327.319213</td>\n",
              "      <td>0.000000</td>\n",
              "      <td>231.284724</td>\n",
              "      <td>0.351683</td>\n",
              "      <td>2.654948</td>\n",
              "      <td>0.000000</td>\n",
              "      <td>0.000000</td>\n",
              "      <td>1.382488</td>\n",
              "      <td>0</td>\n",
              "      <td>4</td>\n",
              "    </tr>\n",
              "    <tr>\n",
              "      <th>4</th>\n",
              "      <td>353.640905</td>\n",
              "      <td>0.000000</td>\n",
              "      <td>283.097646</td>\n",
              "      <td>326.470790</td>\n",
              "      <td>0.000000</td>\n",
              "      <td>226.709359</td>\n",
              "      <td>0.507461</td>\n",
              "      <td>2.601536</td>\n",
              "      <td>0.000000</td>\n",
              "      <td>0.000000</td>\n",
              "      <td>1.843318</td>\n",
              "      <td>0</td>\n",
              "      <td>5</td>\n",
              "    </tr>\n",
              "    <tr>\n",
              "      <th>...</th>\n",
              "      <td>...</td>\n",
              "      <td>...</td>\n",
              "      <td>...</td>\n",
              "      <td>...</td>\n",
              "      <td>...</td>\n",
              "      <td>...</td>\n",
              "      <td>...</td>\n",
              "      <td>...</td>\n",
              "      <td>...</td>\n",
              "      <td>...</td>\n",
              "      <td>...</td>\n",
              "      <td>...</td>\n",
              "      <td>...</td>\n",
              "    </tr>\n",
              "    <tr>\n",
              "      <th>799505</th>\n",
              "      <td>0.694630</td>\n",
              "      <td>0.758269</td>\n",
              "      <td>0.767228</td>\n",
              "      <td>0.932109</td>\n",
              "      <td>0.843790</td>\n",
              "      <td>0.136109</td>\n",
              "      <td>0.878002</td>\n",
              "      <td>0.000000</td>\n",
              "      <td>0.089612</td>\n",
              "      <td>0.001499</td>\n",
              "      <td>97.718631</td>\n",
              "      <td>0</td>\n",
              "      <td>258</td>\n",
              "    </tr>\n",
              "    <tr>\n",
              "      <th>799506</th>\n",
              "      <td>0.693517</td>\n",
              "      <td>0.756137</td>\n",
              "      <td>0.764659</td>\n",
              "      <td>0.933367</td>\n",
              "      <td>0.849906</td>\n",
              "      <td>0.110203</td>\n",
              "      <td>0.879757</td>\n",
              "      <td>0.000000</td>\n",
              "      <td>0.091121</td>\n",
              "      <td>0.002110</td>\n",
              "      <td>98.098859</td>\n",
              "      <td>0</td>\n",
              "      <td>259</td>\n",
              "    </tr>\n",
              "    <tr>\n",
              "      <th>799507</th>\n",
              "      <td>0.692117</td>\n",
              "      <td>0.754055</td>\n",
              "      <td>0.762243</td>\n",
              "      <td>0.934359</td>\n",
              "      <td>0.856242</td>\n",
              "      <td>0.068894</td>\n",
              "      <td>0.881320</td>\n",
              "      <td>0.000000</td>\n",
              "      <td>0.092584</td>\n",
              "      <td>0.002816</td>\n",
              "      <td>98.479087</td>\n",
              "      <td>0</td>\n",
              "      <td>260</td>\n",
              "    </tr>\n",
              "    <tr>\n",
              "      <th>799508</th>\n",
              "      <td>0.690404</td>\n",
              "      <td>0.751997</td>\n",
              "      <td>0.759939</td>\n",
              "      <td>0.935044</td>\n",
              "      <td>0.862730</td>\n",
              "      <td>0.008705</td>\n",
              "      <td>0.882663</td>\n",
              "      <td>0.016638</td>\n",
              "      <td>0.093996</td>\n",
              "      <td>0.003618</td>\n",
              "      <td>98.859316</td>\n",
              "      <td>0</td>\n",
              "      <td>261</td>\n",
              "    </tr>\n",
              "    <tr>\n",
              "      <th>799509</th>\n",
              "      <td>0.688347</td>\n",
              "      <td>0.749939</td>\n",
              "      <td>0.757717</td>\n",
              "      <td>0.935389</td>\n",
              "      <td>0.869296</td>\n",
              "      <td>0.941014</td>\n",
              "      <td>0.883726</td>\n",
              "      <td>0.026319</td>\n",
              "      <td>0.095351</td>\n",
              "      <td>0.004520</td>\n",
              "      <td>99.239544</td>\n",
              "      <td>0</td>\n",
              "      <td>262</td>\n",
              "    </tr>\n",
              "  </tbody>\n",
              "</table>\n",
              "<p>799510 rows × 13 columns</p>\n",
              "</div>"
            ],
            "text/plain": [
              "          l_ph_hip  l_ph_ank     l_ph_fo    r_ph_hip  r_ph_ank     r_ph_fo  \\\n",
              "0         0.484865  0.000000  280.379839  332.010540  0.000000  240.919628   \n",
              "1       359.015774  0.000000  280.470177  330.082283  0.000000  238.237663   \n",
              "2       357.386330  0.000000  280.816420  328.520849  0.000000  235.070332   \n",
              "3       355.594313  0.000000  281.577480  327.319213  0.000000  231.284724   \n",
              "4       353.640905  0.000000  283.097646  326.470790  0.000000  226.709359   \n",
              "...            ...       ...         ...         ...       ...         ...   \n",
              "799505    0.694630  0.758269    0.767228    0.932109  0.843790    0.136109   \n",
              "799506    0.693517  0.756137    0.764659    0.933367  0.849906    0.110203   \n",
              "799507    0.692117  0.754055    0.762243    0.934359  0.856242    0.068894   \n",
              "799508    0.690404  0.751997    0.759939    0.935044  0.862730    0.008705   \n",
              "799509    0.688347  0.749939    0.757717    0.935389  0.869296    0.941014   \n",
              "\n",
              "          n_lgrf   n_r_grf    n_lcop    n_rcop   perc_new  st_sw_phase  \\\n",
              "0       0.057804  2.739097  0.000000  0.000000   0.000000            0   \n",
              "1       0.129445  2.722757  0.000000  0.000000   0.460829            0   \n",
              "2       0.226329  2.695043  0.000000  0.000000   0.921659            0   \n",
              "3       0.351683  2.654948  0.000000  0.000000   1.382488            0   \n",
              "4       0.507461  2.601536  0.000000  0.000000   1.843318            0   \n",
              "...          ...       ...       ...       ...        ...          ...   \n",
              "799505  0.878002  0.000000  0.089612  0.001499  97.718631            0   \n",
              "799506  0.879757  0.000000  0.091121  0.002110  98.098859            0   \n",
              "799507  0.881320  0.000000  0.092584  0.002816  98.479087            0   \n",
              "799508  0.882663  0.016638  0.093996  0.003618  98.859316            0   \n",
              "799509  0.883726  0.026319  0.095351  0.004520  99.239544            0   \n",
              "\n",
              "        strike_frame  \n",
              "0                  1  \n",
              "1                  2  \n",
              "2                  3  \n",
              "3                  4  \n",
              "4                  5  \n",
              "...              ...  \n",
              "799505           258  \n",
              "799506           259  \n",
              "799507           260  \n",
              "799508           261  \n",
              "799509           262  \n",
              "\n",
              "[799510 rows x 13 columns]"
            ]
          },
          "execution_count": 76,
          "metadata": {},
          "output_type": "execute_result"
        }
      ],
      "source": [
        "cycle = 0\n",
        "cycle_list = []\n",
        "\n",
        "start = 0\n",
        "\n",
        "for i in range(len(all_data) - 1):\n",
        "    if (all_data['perc_new'][i+1] == 0):\n",
        "        cycle += 1\n",
        "        cycle_list.append(all_data.iloc[start:i])\n",
        "        start = i+1\n",
        "\n",
        "random.shuffle(cycle_list)\n",
        "source_table = pd.concat(cycle_list, axis=0, ignore_index=True)\n",
        "\n",
        "source_table"
      ]
    },
    {
      "cell_type": "code",
      "execution_count": 77,
      "metadata": {},
      "outputs": [],
      "source": [
        "drop_list = [\"n_lgrf\",\"n_r_grf\",\"l_ph_ank\",\"r_ph_ank\"]"
      ]
    },
    {
      "cell_type": "code",
      "execution_count": 78,
      "metadata": {
        "colab": {
          "base_uri": "https://localhost:8080/",
          "height": 423
        },
        "id": "CX2LzKWuhOv6",
        "outputId": "f1ffa118-174b-4086-81d0-a64c0d92e8bf"
      },
      "outputs": [
        {
          "data": {
            "text/html": [
              "<div>\n",
              "<style scoped>\n",
              "    .dataframe tbody tr th:only-of-type {\n",
              "        vertical-align: middle;\n",
              "    }\n",
              "\n",
              "    .dataframe tbody tr th {\n",
              "        vertical-align: top;\n",
              "    }\n",
              "\n",
              "    .dataframe thead th {\n",
              "        text-align: right;\n",
              "    }\n",
              "</style>\n",
              "<table border=\"1\" class=\"dataframe\">\n",
              "  <thead>\n",
              "    <tr style=\"text-align: right;\">\n",
              "      <th></th>\n",
              "      <th>l_ph_hip</th>\n",
              "      <th>l_ph_fo</th>\n",
              "      <th>r_ph_hip</th>\n",
              "      <th>r_ph_fo</th>\n",
              "      <th>n_lcop</th>\n",
              "      <th>n_rcop</th>\n",
              "      <th>perc_new</th>\n",
              "      <th>st_sw_phase</th>\n",
              "      <th>strike_frame</th>\n",
              "    </tr>\n",
              "  </thead>\n",
              "  <tbody>\n",
              "    <tr>\n",
              "      <th>0</th>\n",
              "      <td>0.484865</td>\n",
              "      <td>280.379839</td>\n",
              "      <td>332.010540</td>\n",
              "      <td>240.919628</td>\n",
              "      <td>0.000000</td>\n",
              "      <td>0.000000</td>\n",
              "      <td>0.000000</td>\n",
              "      <td>0</td>\n",
              "      <td>1</td>\n",
              "    </tr>\n",
              "    <tr>\n",
              "      <th>1</th>\n",
              "      <td>359.015774</td>\n",
              "      <td>280.470177</td>\n",
              "      <td>330.082283</td>\n",
              "      <td>238.237663</td>\n",
              "      <td>0.000000</td>\n",
              "      <td>0.000000</td>\n",
              "      <td>0.460829</td>\n",
              "      <td>0</td>\n",
              "      <td>2</td>\n",
              "    </tr>\n",
              "    <tr>\n",
              "      <th>2</th>\n",
              "      <td>357.386330</td>\n",
              "      <td>280.816420</td>\n",
              "      <td>328.520849</td>\n",
              "      <td>235.070332</td>\n",
              "      <td>0.000000</td>\n",
              "      <td>0.000000</td>\n",
              "      <td>0.921659</td>\n",
              "      <td>0</td>\n",
              "      <td>3</td>\n",
              "    </tr>\n",
              "    <tr>\n",
              "      <th>3</th>\n",
              "      <td>355.594313</td>\n",
              "      <td>281.577480</td>\n",
              "      <td>327.319213</td>\n",
              "      <td>231.284724</td>\n",
              "      <td>0.000000</td>\n",
              "      <td>0.000000</td>\n",
              "      <td>1.382488</td>\n",
              "      <td>0</td>\n",
              "      <td>4</td>\n",
              "    </tr>\n",
              "    <tr>\n",
              "      <th>4</th>\n",
              "      <td>353.640905</td>\n",
              "      <td>283.097646</td>\n",
              "      <td>326.470790</td>\n",
              "      <td>226.709359</td>\n",
              "      <td>0.000000</td>\n",
              "      <td>0.000000</td>\n",
              "      <td>1.843318</td>\n",
              "      <td>0</td>\n",
              "      <td>5</td>\n",
              "    </tr>\n",
              "    <tr>\n",
              "      <th>...</th>\n",
              "      <td>...</td>\n",
              "      <td>...</td>\n",
              "      <td>...</td>\n",
              "      <td>...</td>\n",
              "      <td>...</td>\n",
              "      <td>...</td>\n",
              "      <td>...</td>\n",
              "      <td>...</td>\n",
              "      <td>...</td>\n",
              "    </tr>\n",
              "    <tr>\n",
              "      <th>799505</th>\n",
              "      <td>0.694630</td>\n",
              "      <td>0.767228</td>\n",
              "      <td>0.932109</td>\n",
              "      <td>0.136109</td>\n",
              "      <td>0.089612</td>\n",
              "      <td>0.001499</td>\n",
              "      <td>97.718631</td>\n",
              "      <td>0</td>\n",
              "      <td>258</td>\n",
              "    </tr>\n",
              "    <tr>\n",
              "      <th>799506</th>\n",
              "      <td>0.693517</td>\n",
              "      <td>0.764659</td>\n",
              "      <td>0.933367</td>\n",
              "      <td>0.110203</td>\n",
              "      <td>0.091121</td>\n",
              "      <td>0.002110</td>\n",
              "      <td>98.098859</td>\n",
              "      <td>0</td>\n",
              "      <td>259</td>\n",
              "    </tr>\n",
              "    <tr>\n",
              "      <th>799507</th>\n",
              "      <td>0.692117</td>\n",
              "      <td>0.762243</td>\n",
              "      <td>0.934359</td>\n",
              "      <td>0.068894</td>\n",
              "      <td>0.092584</td>\n",
              "      <td>0.002816</td>\n",
              "      <td>98.479087</td>\n",
              "      <td>0</td>\n",
              "      <td>260</td>\n",
              "    </tr>\n",
              "    <tr>\n",
              "      <th>799508</th>\n",
              "      <td>0.690404</td>\n",
              "      <td>0.759939</td>\n",
              "      <td>0.935044</td>\n",
              "      <td>0.008705</td>\n",
              "      <td>0.093996</td>\n",
              "      <td>0.003618</td>\n",
              "      <td>98.859316</td>\n",
              "      <td>0</td>\n",
              "      <td>261</td>\n",
              "    </tr>\n",
              "    <tr>\n",
              "      <th>799509</th>\n",
              "      <td>0.688347</td>\n",
              "      <td>0.757717</td>\n",
              "      <td>0.935389</td>\n",
              "      <td>0.941014</td>\n",
              "      <td>0.095351</td>\n",
              "      <td>0.004520</td>\n",
              "      <td>99.239544</td>\n",
              "      <td>0</td>\n",
              "      <td>262</td>\n",
              "    </tr>\n",
              "  </tbody>\n",
              "</table>\n",
              "<p>799510 rows × 9 columns</p>\n",
              "</div>"
            ],
            "text/plain": [
              "          l_ph_hip     l_ph_fo    r_ph_hip     r_ph_fo    n_lcop    n_rcop  \\\n",
              "0         0.484865  280.379839  332.010540  240.919628  0.000000  0.000000   \n",
              "1       359.015774  280.470177  330.082283  238.237663  0.000000  0.000000   \n",
              "2       357.386330  280.816420  328.520849  235.070332  0.000000  0.000000   \n",
              "3       355.594313  281.577480  327.319213  231.284724  0.000000  0.000000   \n",
              "4       353.640905  283.097646  326.470790  226.709359  0.000000  0.000000   \n",
              "...            ...         ...         ...         ...       ...       ...   \n",
              "799505    0.694630    0.767228    0.932109    0.136109  0.089612  0.001499   \n",
              "799506    0.693517    0.764659    0.933367    0.110203  0.091121  0.002110   \n",
              "799507    0.692117    0.762243    0.934359    0.068894  0.092584  0.002816   \n",
              "799508    0.690404    0.759939    0.935044    0.008705  0.093996  0.003618   \n",
              "799509    0.688347    0.757717    0.935389    0.941014  0.095351  0.004520   \n",
              "\n",
              "         perc_new  st_sw_phase  strike_frame  \n",
              "0        0.000000            0             1  \n",
              "1        0.460829            0             2  \n",
              "2        0.921659            0             3  \n",
              "3        1.382488            0             4  \n",
              "4        1.843318            0             5  \n",
              "...           ...          ...           ...  \n",
              "799505  97.718631            0           258  \n",
              "799506  98.098859            0           259  \n",
              "799507  98.479087            0           260  \n",
              "799508  98.859316            0           261  \n",
              "799509  99.239544            0           262  \n",
              "\n",
              "[799510 rows x 9 columns]"
            ]
          },
          "execution_count": 78,
          "metadata": {},
          "output_type": "execute_result"
        }
      ],
      "source": [
        "source_table = source_table.drop(drop_list, axis = 1)\n",
        "source_table"
      ]
    },
    {
      "cell_type": "code",
      "execution_count": 79,
      "metadata": {
        "id": "Uy980Nr0hOv6"
      },
      "outputs": [],
      "source": [
        "x = source_table\n",
        "x = x.drop(['perc_new'], axis=1)\n",
        "scaler = MinMaxScaler()\n",
        "x_scaled = scaler.fit_transform(x)\n",
        "x_scaled = pd.DataFrame(x_scaled)\n",
        "\n",
        "encode_gait_percentage(source_table, 'perc_new')\n",
        "y = source_table[[\"X\",\"Y\"]]\n",
        "y\n",
        "\n",
        "data_x = x_scaled"
      ]
    },
    {
      "cell_type": "code",
      "execution_count": 80,
      "metadata": {
        "id": "NZJUQdlrhOv7"
      },
      "outputs": [],
      "source": [
        "data_y = y.values.reshape(-1,2)"
      ]
    },
    {
      "cell_type": "code",
      "execution_count": 81,
      "metadata": {
        "colab": {
          "base_uri": "https://localhost:8080/"
        },
        "id": "nPuERZxWhOv7",
        "outputId": "3f1420d3-e7c2-4eca-94a6-9f28ca933a9d"
      },
      "outputs": [
        {
          "data": {
            "text/plain": [
              "numpy.ndarray"
            ]
          },
          "execution_count": 81,
          "metadata": {},
          "output_type": "execute_result"
        }
      ],
      "source": [
        "type(data_y)"
      ]
    },
    {
      "cell_type": "code",
      "execution_count": 82,
      "metadata": {
        "id": "BMTNkMouLdlD"
      },
      "outputs": [],
      "source": [
        "\n",
        "\n",
        "#data_x,data_y= shuffle_multiple_datasets_based_on_gait_cycle( file_name, excel_path)\n",
        "\n",
        "X_train, X_test,y_train, y_test = train_test_split(data_x, data_y ,\n",
        "                        test_size=0.25,\n",
        "                        shuffle=False)\n",
        "look_back = 10\n",
        "fore_cast = 1\n",
        "\n",
        "train_x, train_y = convert_data(X_train, y_train, look_back, fore_cast)\n",
        "validation_x, validation_y = convert_data(X_test, y_test, look_back, fore_cast)\n"
      ]
    },
    {
      "cell_type": "code",
      "execution_count": 83,
      "metadata": {
        "colab": {
          "base_uri": "https://localhost:8080/"
        },
        "id": "LCK0YESF04ok",
        "outputId": "cb3905f0-a174-4d1f-bb90-06f1b674bda4"
      },
      "outputs": [
        {
          "name": "stdout",
          "output_type": "stream",
          "text": [
            "(599621, 10, 8)\n",
            "(599621, 2)\n",
            "(199867, 10, 8)\n",
            "(199867, 2)\n"
          ]
        }
      ],
      "source": [
        "print(train_x.shape)\n",
        "print(train_y.shape)\n",
        "print(validation_x.shape)\n",
        "print(validation_y.shape)\n"
      ]
    },
    {
      "cell_type": "code",
      "execution_count": 84,
      "metadata": {
        "colab": {
          "base_uri": "https://localhost:8080/"
        },
        "id": "hhL-sk1EhOv8",
        "outputId": "7e9f2d76-6a8d-436c-d8db-102d76e03bdf"
      },
      "outputs": [
        {
          "data": {
            "text/plain": [
              "(599621, 10, 8)"
            ]
          },
          "execution_count": 84,
          "metadata": {},
          "output_type": "execute_result"
        }
      ],
      "source": [
        "train_x.shape"
      ]
    },
    {
      "cell_type": "code",
      "execution_count": 85,
      "metadata": {
        "colab": {
          "base_uri": "https://localhost:8080/"
        },
        "id": "_pUL_UtrTApY",
        "outputId": "e8c08922-11a0-4068-bcd7-5a8b192ae5db"
      },
      "outputs": [
        {
          "name": "stdout",
          "output_type": "stream",
          "text": [
            "(19985, 10, 8)\n",
            "(19985, 2)\n"
          ]
        }
      ],
      "source": [
        "\n",
        "\n",
        "n1=validation_x.shape[0]\n",
        "val_x=validation_x[1:int(n1/10),:]\n",
        "val_y=validation_y[1:int(n1/10),:]\n",
        "print(val_x.shape)\n",
        "print(val_y.shape)"
      ]
    },
    {
      "cell_type": "code",
      "execution_count": 86,
      "metadata": {
        "id": "amQi1sX8bxzx"
      },
      "outputs": [],
      "source": [
        "from keras import Model\n",
        "from keras.layers import Layer\n",
        "import keras.backend as K\n",
        "from keras.layers import Input, Dense, SimpleRNN\n",
        "from sklearn.preprocessing import MinMaxScaler\n",
        "from keras.models import Sequential\n",
        "from keras.metrics import mean_squared_error\n",
        "\n",
        "class attention(Layer):\n",
        "    def __init__(self,**kwargs):\n",
        "        super(attention,self).__init__(**kwargs)\n",
        "\n",
        "    def build(self,input_shape):\n",
        "        self.W=self.add_weight(name='attention_weight', shape=(input_shape[-1],1),\n",
        "                               initializer='random_normal', trainable=True)\n",
        "        self.b=self.add_weight(name='attention_bias', shape=(input_shape[1],1),\n",
        "                               initializer='zeros', trainable=True)\n",
        "        super(attention, self).build(input_shape)\n",
        "\n",
        "    def call(self,x):\n",
        "        # Alignment scores. Pass them through tanh function\n",
        "        print(x.shape)\n",
        "        e = K.tanh(K.dot(x,self.W)+self.b)\n",
        "        # Remove dimension of size 1\n",
        "        e = K.squeeze(e, axis=-1)\n",
        "        # Compute the weights\n",
        "        alpha = K.softmax(e)\n",
        "        # Reshape to tensorFlow format\n",
        "        alpha = K.expand_dims(alpha, axis=-1)\n",
        "        # Compute the context vector\n",
        "        context = x * alpha\n",
        "        context = K.sum(context, axis=1)\n",
        "        return context"
      ]
    },
    {
      "cell_type": "code",
      "execution_count": 87,
      "metadata": {
        "colab": {
          "base_uri": "https://localhost:8080/"
        },
        "id": "_s_0epwZvjEX",
        "outputId": "033b6d55-1974-404d-f553-9838e5d8ceda"
      },
      "outputs": [
        {
          "name": "stdout",
          "output_type": "stream",
          "text": [
            "(None, 10, 8)\n",
            "(None, 9, 8)\n",
            "(None, 10, 8)\n",
            "(None, 29, 8)\n"
          ]
        },
        {
          "name": "stdout",
          "output_type": "stream",
          "text": [
            "Model: \"model_1\"\n",
            "__________________________________________________________________________________________________\n",
            " Layer (type)                   Output Shape         Param #     Connected to                     \n",
            "==================================================================================================\n",
            " input_2 (InputLayer)           [(None, 10, 8)]      0           []                               \n",
            "                                                                                                  \n",
            " attention_1 (attention)        (None, 8)            18          ['input_2[0][0]']                \n",
            "                                                                                                  \n",
            " average_pooling1d_1 (AveragePo  (None, 9, 8)        0           ['input_2[0][0]']                \n",
            " oling1D)                                                                                         \n",
            "                                                                                                  \n",
            " repeat_vector_1 (RepeatVector)  (None, 10, 8)       0           ['attention_1[0][0]']            \n",
            "                                                                                                  \n",
            " dense_3 (Dense)                (None, 10, 8)        72          ['input_2[0][0]']                \n",
            "                                                                                                  \n",
            " tf.concat_1 (TFOpLambda)       (None, 29, 8)        0           ['average_pooling1d_1[0][0]',    \n",
            "                                                                  'repeat_vector_1[0][0]',        \n",
            "                                                                  'dense_3[0][0]']                \n",
            "                                                                                                  \n",
            " max_pooling1d_1 (MaxPooling1D)  (None, 28, 8)       0           ['tf.concat_1[0][0]']            \n",
            "                                                                                                  \n",
            " lstm_1 (LSTM)                  (None, 28, 32)       5248        ['max_pooling1d_1[0][0]']        \n",
            "                                                                                                  \n",
            " flatten_1 (Flatten)            (None, 896)          0           ['lstm_1[0][0]']                 \n",
            "                                                                                                  \n",
            " dense_4 (Dense)                (None, 32)           28704       ['flatten_1[0][0]']              \n",
            "                                                                                                  \n",
            " dense_5 (Dense)                (None, 2)            66          ['dense_4[0][0]']                \n",
            "                                                                                                  \n",
            "==================================================================================================\n",
            "Total params: 34,108\n",
            "Trainable params: 34,108\n",
            "Non-trainable params: 0\n",
            "__________________________________________________________________________________________________\n"
          ]
        }
      ],
      "source": [
        "import tensorflow as tf\n",
        "lr = 0.001\n",
        "epochs = 30\n",
        "batch = 128\n",
        "n_features=train_x.shape[2]\n",
        "seq_len = train_x.shape[1]\n",
        "x=Input(shape=(seq_len, train_x.shape[2]))\n",
        "\n",
        "\n",
        "l1=tf.keras.layers.AveragePooling1D(\n",
        "    pool_size=2,\n",
        "    strides=1)(x)\n",
        "att1 = attention()(x)\n",
        "rep_layer = L.RepeatVector((seq_len))(att1);\n",
        "\n",
        "l2=L.Dense(n_features)(x)\n",
        "print(l1.shape)\n",
        "print(l2.shape)\n",
        "\n",
        "inp=tf.concat([l1,rep_layer,l2],1)\n",
        "print(inp.shape)\n",
        "inp = L.MaxPooling1D(pool_size=2,strides=1)(inp)\n",
        "\n",
        "# RNN_layer = SimpleRNN(hidden_units, return_sequences=True, activation=activation)(x)\n",
        "LSTM_layer2 = LSTM(32, return_sequences=True)(inp)\n",
        "# attn_layer1 = attention()(LSTM_layer2)\n",
        "tmp_layer = L.Flatten()(LSTM_layer2)\n",
        "lin_layer1= L.Dense(32)(tmp_layer)\n",
        "lin_layer2 = L.Dense(2)(lin_layer1)\n",
        "# rep_layer = L.RepeatVector((10))(attn_layer1)\n",
        "# attn_layer2 = attention()(rep_layer)\n",
        "# LSTM_layer3 = LSTM(32, return_sequences=True)(rep_layer)\n",
        "# LSTM_layer4 = LSTM(64, return_sequences=True)(LSTM_layer3)\n",
        "# lin_layer = L.TimeDistributed(L.Dense(n_features))(LSTM_layer4)\n",
        "# tmp_layer = Flatten()(rep_layer)\n",
        "# lin_layer = L.Dense(2)(tmp_layer)\n",
        "model=Model(x,lin_layer2)\n",
        "model.summary()\n",
        "adam = optimizers.Adam(lr)\n",
        "model.compile(loss='mse', optimizer=adam)"
      ]
    },
    {
      "cell_type": "code",
      "execution_count": 88,
      "metadata": {
        "colab": {
          "base_uri": "https://localhost:8080/"
        },
        "id": "5-pm5CPkuTWk",
        "outputId": "98d5c57c-270b-466e-d0e5-dddf11fef4f8"
      },
      "outputs": [
        {
          "name": "stdout",
          "output_type": "stream",
          "text": [
            "Epoch 1/30\n",
            "(None, 10, 8)\n",
            "(None, 10, 8)\n",
            "4685/4685 [==============================] - 48s 10ms/step - loss: 0.0275\n",
            "Epoch 2/30\n",
            "4685/4685 [==============================] - 47s 10ms/step - loss: 0.0119\n",
            "Epoch 3/30\n",
            "4685/4685 [==============================] - 47s 10ms/step - loss: 0.0102\n",
            "Epoch 4/30\n",
            "4685/4685 [==============================] - 47s 10ms/step - loss: 0.0088\n",
            "Epoch 5/30\n",
            "4685/4685 [==============================] - 47s 10ms/step - loss: 0.0078\n",
            "Epoch 6/30\n",
            "4685/4685 [==============================] - 47s 10ms/step - loss: 0.0073\n",
            "Epoch 7/30\n",
            "4685/4685 [==============================] - 47s 10ms/step - loss: 0.0068\n",
            "Epoch 8/30\n",
            "4685/4685 [==============================] - 46s 10ms/step - loss: 0.0065\n",
            "Epoch 9/30\n",
            "4685/4685 [==============================] - 44s 9ms/step - loss: 0.0063\n",
            "Epoch 10/30\n",
            "4685/4685 [==============================] - 48s 10ms/step - loss: 0.0061\n",
            "Epoch 11/30\n",
            "4685/4685 [==============================] - 47s 10ms/step - loss: 0.0059\n",
            "Epoch 12/30\n",
            "4685/4685 [==============================] - 49s 11ms/step - loss: 0.0058\n",
            "Epoch 13/30\n",
            "4685/4685 [==============================] - 49s 10ms/step - loss: 0.0057\n",
            "Epoch 14/30\n",
            "4685/4685 [==============================] - 50s 11ms/step - loss: 0.0055\n",
            "Epoch 15/30\n",
            "4685/4685 [==============================] - 48s 10ms/step - loss: 0.0054\n",
            "Epoch 16/30\n",
            "4685/4685 [==============================] - 49s 10ms/step - loss: 0.0053\n",
            "Epoch 17/30\n",
            "4685/4685 [==============================] - 49s 11ms/step - loss: 0.0052\n",
            "Epoch 18/30\n",
            "4685/4685 [==============================] - 50s 11ms/step - loss: 0.0050\n",
            "Epoch 19/30\n",
            "4685/4685 [==============================] - 44s 9ms/step - loss: 0.0050\n",
            "Epoch 20/30\n",
            "4685/4685 [==============================] - 50s 11ms/step - loss: 0.0049\n",
            "Epoch 21/30\n",
            "4685/4685 [==============================] - 57s 12ms/step - loss: 0.0048\n",
            "Epoch 22/30\n",
            "4685/4685 [==============================] - 49s 10ms/step - loss: 0.0047\n",
            "Epoch 23/30\n",
            "4685/4685 [==============================] - 47s 10ms/step - loss: 0.0046\n",
            "Epoch 24/30\n",
            "4685/4685 [==============================] - 51s 11ms/step - loss: 0.0046\n",
            "Epoch 25/30\n",
            "4685/4685 [==============================] - 49s 10ms/step - loss: 0.0045\n",
            "Epoch 26/30\n",
            "4685/4685 [==============================] - 48s 10ms/step - loss: 0.0045\n",
            "Epoch 27/30\n",
            "4685/4685 [==============================] - 48s 10ms/step - loss: 0.0044\n",
            "Epoch 28/30\n",
            "4685/4685 [==============================] - 48s 10ms/step - loss: 0.0044\n",
            "Epoch 29/30\n",
            "4685/4685 [==============================] - 48s 10ms/step - loss: 0.0043\n",
            "Epoch 30/30\n",
            "4685/4685 [==============================] - 49s 10ms/step - loss: 0.0043\n"
          ]
        }
      ],
      "source": [
        "model_history = model.fit( train_x, train_y, epochs=epochs, batch_size=batch,  verbose=1)"
      ]
    },
    {
      "cell_type": "code",
      "execution_count": 89,
      "metadata": {
        "colab": {
          "base_uri": "https://localhost:8080/"
        },
        "id": "gqQpm8-DInAX",
        "outputId": "3bfdaf67-dbfe-4431-98ca-e18059c1bd4d"
      },
      "outputs": [],
      "source": [
        "#model.save(path+\"cnn_new_model_all_sub_ex_th 2_leg_\")"
      ]
    },
    {
      "cell_type": "code",
      "execution_count": 90,
      "metadata": {
        "id": "Jw9laCHEOilj"
      },
      "outputs": [],
      "source": [
        "#model = tf.keras.models.load_model(path+\"cnn_new_model_sd_sks_th\")"
      ]
    },
    {
      "cell_type": "code",
      "execution_count": 91,
      "metadata": {
        "id": "MiLnoJ_WEU6x"
      },
      "outputs": [],
      "source": [
        "def step_decay(epoch):\n",
        "\tinitial_lrate = 0.001\n",
        "\tdrop = 0.005\n",
        "\tepochs_drop = 10\n",
        "\tlrate=initial_lrate - 0.00001\n",
        "\t# lrate = initial_lrate * math.pow(drop, math.floor((1+epoch)/epochs_drop))\n",
        "\treturn lrate\n"
      ]
    },
    {
      "cell_type": "code",
      "execution_count": 92,
      "metadata": {
        "colab": {
          "base_uri": "https://localhost:8080/"
        },
        "id": "U9VdiCTVBa4z",
        "outputId": "e1f90020-28ee-4eb6-ec97-da58f60c5daf"
      },
      "outputs": [
        {
          "name": "stdout",
          "output_type": "stream",
          "text": [
            "(None, 10, 8)\n",
            "6246/6246 [==============================] - 16s 3ms/step\n"
          ]
        }
      ],
      "source": [
        "# trainPredict = model.predict(train_x)\n",
        "testPredict = model.predict(validation_x)"
      ]
    },
    {
      "cell_type": "code",
      "execution_count": 93,
      "metadata": {
        "colab": {
          "base_uri": "https://localhost:8080/"
        },
        "id": "I8TZkfOkLUf5",
        "outputId": "49e61544-b074-4ed4-d710-f3c1f79da93b"
      },
      "outputs": [
        {
          "data": {
            "text/plain": [
              "(199867, 2)"
            ]
          },
          "execution_count": 93,
          "metadata": {},
          "output_type": "execute_result"
        }
      ],
      "source": [
        "\n",
        "testPredict.shape"
      ]
    },
    {
      "cell_type": "code",
      "execution_count": 94,
      "metadata": {
        "colab": {
          "base_uri": "https://localhost:8080/"
        },
        "id": "QO0pIoqu36me",
        "outputId": "642b7a5f-50c6-4dad-9f98-bfb04ed955e6"
      },
      "outputs": [
        {
          "name": "stdout",
          "output_type": "stream",
          "text": [
            "Test Score: 0.07 RMSE\n"
          ]
        }
      ],
      "source": [
        "from sklearn.metrics import mean_squared_error\n",
        "\n",
        "# trainScore = np.sqrt(mean_squared_error(train_y, trainPredict))\n",
        "# print('Train Score: %.2f RMSE' % (trainScore))\n",
        "testScore = np.sqrt(mean_squared_error(validation_y, testPredict))\n",
        "print('Test Score: %.2f RMSE' % (testScore))"
      ]
    },
    {
      "cell_type": "code",
      "execution_count": 95,
      "metadata": {
        "colab": {
          "base_uri": "https://localhost:8080/"
        },
        "id": "ghh2H9ws4CPm",
        "outputId": "96677196-0828-45c7-f7d6-ee351a350b71"
      },
      "outputs": [
        {
          "data": {
            "text/plain": [
              "(199867, 8)"
            ]
          },
          "execution_count": 95,
          "metadata": {},
          "output_type": "execute_result"
        }
      ],
      "source": [
        "v = X_test[11:]\n",
        "v.shape"
      ]
    },
    {
      "cell_type": "code",
      "execution_count": 96,
      "metadata": {},
      "outputs": [],
      "source": [
        "\n",
        "x_test = scaler.inverse_transform(v)\n",
        "\n",
        "pred = np.zeros((len(testPredict),1))\n",
        "\n",
        "for iter in range(len(testPredict)):\n",
        "  x = testPredict[iter][0]\n",
        "  y = testPredict[iter][1]\n",
        "  pred[iter] = ((math.atan2(y,x) + 2*math.pi) % (2*math.pi)) * (100 / (2*math.pi))\n",
        "\n",
        "\n",
        "  if ((pred[iter] >= 80) & (x_test[iter][-1] <= 20)) :\n",
        "    pred[iter] = pred[iter] - 100\n",
        "    \n",
        "    if abs(pred[iter]) >= 5:\n",
        "        pred[iter] = 0\n",
        "\n",
        "\n",
        "  if ((pred[iter] <= 20) & (x_test[iter][-1] >= 150)):\n",
        "     pred[iter] = 100 - pred[iter]\n",
        "     if abs(pred[iter]) >= 5:\n",
        "         pred[iter] = 100\n",
        "\n",
        "\n",
        "\n",
        "\n",
        "  #if (pred[iter] > 100):\n",
        "  #  pred[iter] = pred[iter] - 100\n",
        "\n",
        "pred1=pd.DataFrame(pred).sort_index().reset_index()"
      ]
    },
    {
      "cell_type": "code",
      "execution_count": 97,
      "metadata": {
        "id": "XBtXpqWU0nw0"
      },
      "outputs": [],
      "source": [
        "\n",
        "#x_test = scaler.inverse_transform(v)\n",
        "\n",
        "#pred = np.zeros((len(testPredict),1))\n",
        "\n",
        "#for iter in range(len(testPredict)):\n",
        "#  x = testPredict[iter][0]\n",
        "#  y = testPredict[iter][1]\n",
        "#  pred[iter] = ((math.atan2(y,x) + 2*math.pi) % (2*math.pi)) * (100 / (2*math.pi))\n",
        "\n",
        "\n",
        "  # if ((pred[iter] >= 80) & (x_test[iter][-1] <= 20)) :\n",
        "  #   pred[iter] = pred[iter] - 100\n",
        "  #   if abs(pred[iter]) >= 5:\n",
        "  #     pred[iter] = 0\n",
        "\n",
        "\n",
        "  # if ((pred[iter] <= 20) & (x_test[iter][-1] >= 150)):\n",
        "  #   pred[iter] = 100 - pred[iter]\n",
        "  #   if abs(pred[iter]) >= 5:\n",
        "  #       pred[iter] = 100\n",
        "\n",
        "\n",
        "\n",
        "\n",
        "  # if (pred[iter] > 100):\n",
        "  #  pred[iter] = pred[iter] - 100\n",
        "\n",
        "#pred1=pd.DataFrame(pred).sort_index().reset_index()"
      ]
    },
    {
      "cell_type": "code",
      "execution_count": 98,
      "metadata": {
        "id": "KIsIEir80qmo"
      },
      "outputs": [],
      "source": [
        "actual = np.zeros((len(validation_y),1))\n",
        "\n",
        "for iter in range(len(validation_y)):\n",
        "  x =validation_y[iter][0]\n",
        "  y =validation_y[iter][1]\n",
        "  actual[iter] = ((math.atan2(y,x) + 2*math.pi) % (2*math.pi)) * (100 / (2*math.pi))"
      ]
    },
    {
      "cell_type": "code",
      "execution_count": 99,
      "metadata": {},
      "outputs": [
        {
          "name": "stdout",
          "output_type": "stream",
          "text": [
            "116211\n",
            "199867\n",
            "Precision  1 :  58.14416587030375\n",
            "169942\n",
            "199867\n",
            "Precision  2 :  85.02754331630534\n",
            "189258\n",
            "199867\n",
            "Precision  3 :  94.6919701601565\n",
            "196012\n",
            "199867\n",
            "Precision  4 :  98.0712173595441\n",
            "198172\n",
            "199867\n",
            "Precision  5 :  99.15193603746492\n"
          ]
        }
      ],
      "source": [
        "correct = 0\n",
        "for i in range(5):\n",
        "  correct = 0\n",
        "  for iter in range(len(actual)):\n",
        "    #if (abs(actual[iter] - pred[iter]) <= (i+1)) or (actual[iter]>98) or(actual[iter]<3):\n",
        "      #correct+=1\n",
        "      if (abs(actual[iter] - pred[iter]) <= (i+1)):\n",
        "        correct+=1\n",
        "\n",
        "  print(correct)\n",
        "  print(len(actual))\n",
        "\n",
        "  print(\"Precision \", i+1, \": \", correct * 100/len(actual))"
      ]
    },
    {
      "cell_type": "code",
      "execution_count": 100,
      "metadata": {
        "colab": {
          "base_uri": "https://localhost:8080/"
        },
        "id": "-bNRktP10tNK",
        "outputId": "9568b5ae-c2ee-48bc-ca61-d2a75502cd89"
      },
      "outputs": [],
      "source": [
        "#correct = 0\n",
        "#for i in range(5):\n",
        "#  correct = 0\n",
        "#  for iter in range(len(actual)):\n",
        "#    if (abs(actual[iter] - pred[iter]) <= (i+1)) or (actual[iter]>98) or(actual[iter]<3):\n",
        "#      correct+=1\n",
        "\n",
        "#  print(correct)\n",
        "#  print(len(actual))\n",
        "\n",
        "#  print(\"Precision \", i+1, \": \", correct * 100/len(actual))"
      ]
    },
    {
      "cell_type": "code",
      "execution_count": 101,
      "metadata": {},
      "outputs": [
        {
          "name": "stdout",
          "output_type": "stream",
          "text": [
            "Predicting Percentage RMSE:  1.5568887661586301\n"
          ]
        }
      ],
      "source": [
        "perc_rmse = np.sqrt(mean_squared_error(actual, pred))\n",
        "print(\"Predicting Percentage RMSE: \", perc_rmse)"
      ]
    },
    {
      "cell_type": "code",
      "execution_count": 102,
      "metadata": {},
      "outputs": [
        {
          "name": "stdout",
          "output_type": "stream",
          "text": [
            "199867\n",
            "199867\n",
            "1.5568887661586137\n"
          ]
        }
      ],
      "source": [
        "rmse = 0\n",
        "length = len(actual)\n",
        "for i in range(len(actual)):\n",
        "\n",
        "    rmse = rmse + pow(pred[i] - actual[i], 2)\n",
        "rmse = rmse / length\n",
        "rmse = math.sqrt(rmse)\n",
        "print(length)\n",
        "print(len(actual))\n",
        "print(rmse)"
      ]
    },
    {
      "cell_type": "code",
      "execution_count": 103,
      "metadata": {
        "colab": {
          "base_uri": "https://localhost:8080/"
        },
        "id": "LfzR41e40wqK",
        "outputId": "53330be1-aea7-479a-e161-0bd27be42d96"
      },
      "outputs": [],
      "source": [
        "#rmse = 0\n",
        "#length = len(actual)\n",
        "#for i in range(len(actual)):\n",
        "#  if abs (pred[i] - actual[i]) >= 90:\n",
        "#    length -= 1\n",
        "#  else:\n",
        "#    rmse = rmse + pow(pred[i] - actual[i], 2)\n",
        "#rmse = rmse / length\n",
        "#rmse = math.sqrt(rmse)\n",
        "#print(length)\n",
        "#print(len(actual))\n",
        "#print(rmse)"
      ]
    },
    {
      "cell_type": "code",
      "execution_count": 104,
      "metadata": {
        "colab": {
          "base_uri": "https://localhost:8080/",
          "height": 465
        },
        "id": "Twk_YKQWJdO1",
        "outputId": "d2d1c382-015e-4e1a-ec15-2d2906a3c740"
      },
      "outputs": [
        {
          "name": "stdout",
          "output_type": "stream",
          "text": [
            "122147\n",
            "199867\n"
          ]
        },
        {
          "data": {
            "image/png": "[encoded data removed]",
            "text/plain": [
              "<Figure size 432x288 with 1 Axes>"
            ]
          },
          "metadata": {
            "needs_background": "light"
          },
          "output_type": "display_data"
        }
      ],
      "source": [
        "correct = 0\n",
        "\n",
        "plt.figure()\n",
        "plt.scatter(pred, actual)\n",
        "for iter in range(len(actual)):\n",
        "  if actual[iter]<5 or actual[iter]>95:\n",
        "    correct+=1\n",
        "    continue\n",
        "  if (abs(actual[iter] - pred[iter]) <= 1):\n",
        "    correct+=1\n",
        "\n",
        "\n",
        "print(correct)\n",
        "print(len(actual))"
      ]
    },
    {
      "cell_type": "code",
      "execution_count": 105,
      "metadata": {
        "colab": {
          "base_uri": "https://localhost:8080/",
          "height": 469
        },
        "id": "FxfNpj92JhO5",
        "outputId": "3a675597-48aa-47fa-f331-ca7b98fa3ec0"
      },
      "outputs": [
        {
          "data": {
            "text/plain": [
              "Text(0.5, 1.0, 'Actual vs Prediction')"
            ]
          },
          "execution_count": 105,
          "metadata": {},
          "output_type": "execute_result"
        },
        {
          "data": {
            "image/png": "[encoded data removed]",
            "text/plain": [
              "<Figure size 432x288 with 1 Axes>"
            ]
          },
          "metadata": {
            "needs_background": "light"
          },
          "output_type": "display_data"
        }
      ],
      "source": [
        "plt.scatter(actual, pred, facecolors='none', edgecolors='crimson',alpha=0.4)\n",
        "p1 = max(max(pred), max(actual))\n",
        "p2 = min(min(pred), min(actual))\n",
        "\n",
        "ci = 0.1 * np.std([p1,p2]) / np.mean([p1,p2])\n",
        "\n",
        "plt.plot([p1, p2], [p1, p2], 'b-', linewidth =3)\n",
        "plt.title('Actual vs Prediction')"
      ]
    },
    {
      "cell_type": "code",
      "execution_count": 106,
      "metadata": {},
      "outputs": [
        {
          "data": {
            "text/plain": [
              "[<matplotlib.lines.Line2D at 0x1ebf8fc7f10>]"
            ]
          },
          "execution_count": 106,
          "metadata": {},
          "output_type": "execute_result"
        },
        {
          "data": {
            "image/png": "[encoded data removed]",
            "text/plain": [
              "<Figure size 1440x360 with 1 Axes>"
            ]
          },
          "metadata": {
            "needs_background": "light"
          },
          "output_type": "display_data"
        }
      ],
      "source": [
        "predfig=plt.figure(figsize=(20,5))\n",
        "dif = abs(actual-pred)\n",
        "\n",
        "plt.plot(dif,'.')"
      ]
    },
    {
      "cell_type": "code",
      "execution_count": 107,
      "metadata": {
        "colab": {
          "base_uri": "https://localhost:8080/",
          "height": 758
        },
        "id": "-htzaM04vRDt",
        "outputId": "83ab0d6f-8467-40b4-c030-4f35b45811be"
      },
      "outputs": [
        {
          "name": "stdout",
          "output_type": "stream",
          "text": [
            "You must install pydot (`pip install pydot`) and install graphviz (see instructions at https://graphviz.gitlab.io/download/) for plot_model to work.\n"
          ]
        }
      ],
      "source": [
        "tf.keras.utils.plot_model(model, 'model_new.png')"
      ]
    },
    {
      "cell_type": "markdown",
      "metadata": {},
      "source": [
        "***TESTING ON OTHER SUBJECT***"
      ]
    },
    {
      "cell_type": "code",
      "execution_count": 108,
      "metadata": {},
      "outputs": [],
      "source": [
        "test_file_list = []\n",
        "\n",
        "for i in range(len(test_sub)):\n",
        "    test_file_list.append(pd.read_excel(excel_path + test_sub[i], sheet_name='Sheet1'))"
      ]
    },
    {
      "cell_type": "code",
      "execution_count": 109,
      "metadata": {},
      "outputs": [],
      "source": [
        "## if there are multiple subject to test:\n",
        "# random.shuffle(test_file_list)\n",
        "\n",
        "all_test = pd.concat(test_file_list, axis = 0, ignore_index = True)"
      ]
    },
    {
      "cell_type": "code",
      "execution_count": 110,
      "metadata": {},
      "outputs": [
        {
          "name": "stdout",
          "output_type": "stream",
          "text": [
            "<class 'pandas.core.frame.DataFrame'>\n",
            "RangeIndex: 295263 entries, 0 to 295262\n",
            "Data columns (total 13 columns):\n",
            " #   Column        Non-Null Count   Dtype  \n",
            "---  ------        --------------   -----  \n",
            " 0   l_ph_hip      295263 non-null  float64\n",
            " 1   l_ph_ank      295263 non-null  float64\n",
            " 2   l_ph_fo       295263 non-null  float64\n",
            " 3   r_ph_hip      295263 non-null  float64\n",
            " 4   r_ph_ank      295263 non-null  float64\n",
            " 5   r_ph_fo       295263 non-null  float64\n",
            " 6   n_lgrf        295263 non-null  float64\n",
            " 7   n_r_grf       295263 non-null  float64\n",
            " 8   n_lcop        295263 non-null  float64\n",
            " 9   n_rcop        295263 non-null  float64\n",
            " 10  perc_new      295263 non-null  float64\n",
            " 11  st_sw_phase   295263 non-null  int64  \n",
            " 12  strike_frame  295263 non-null  int64  \n",
            "dtypes: float64(11), int64(2)\n",
            "memory usage: 29.3 MB\n"
          ]
        }
      ],
      "source": [
        "all_test.info()"
      ]
    },
    {
      "cell_type": "code",
      "execution_count": 111,
      "metadata": {},
      "outputs": [
        {
          "data": {
            "text/html": [
              "<div>\n",
              "<style scoped>\n",
              "    .dataframe tbody tr th:only-of-type {\n",
              "        vertical-align: middle;\n",
              "    }\n",
              "\n",
              "    .dataframe tbody tr th {\n",
              "        vertical-align: top;\n",
              "    }\n",
              "\n",
              "    .dataframe thead th {\n",
              "        text-align: right;\n",
              "    }\n",
              "</style>\n",
              "<table border=\"1\" class=\"dataframe\">\n",
              "  <thead>\n",
              "    <tr style=\"text-align: right;\">\n",
              "      <th></th>\n",
              "      <th>l_ph_hip</th>\n",
              "      <th>l_ph_ank</th>\n",
              "      <th>l_ph_fo</th>\n",
              "      <th>r_ph_hip</th>\n",
              "      <th>r_ph_ank</th>\n",
              "      <th>r_ph_fo</th>\n",
              "      <th>n_lgrf</th>\n",
              "      <th>n_r_grf</th>\n",
              "      <th>n_lcop</th>\n",
              "      <th>n_rcop</th>\n",
              "      <th>perc_new</th>\n",
              "      <th>st_sw_phase</th>\n",
              "      <th>strike_frame</th>\n",
              "    </tr>\n",
              "  </thead>\n",
              "  <tbody>\n",
              "    <tr>\n",
              "      <th>0</th>\n",
              "      <td>0.667644</td>\n",
              "      <td>0.745372</td>\n",
              "      <td>0.806413</td>\n",
              "      <td>0.981309</td>\n",
              "      <td>0.898270</td>\n",
              "      <td>0.714573</td>\n",
              "      <td>0.897445</td>\n",
              "      <td>0.036973</td>\n",
              "      <td>0.171359</td>\n",
              "      <td>0.009193</td>\n",
              "      <td>0.000000</td>\n",
              "      <td>0</td>\n",
              "      <td>1</td>\n",
              "    </tr>\n",
              "    <tr>\n",
              "      <th>1</th>\n",
              "      <td>0.652177</td>\n",
              "      <td>0.744517</td>\n",
              "      <td>0.797888</td>\n",
              "      <td>0.975148</td>\n",
              "      <td>0.879422</td>\n",
              "      <td>0.711622</td>\n",
              "      <td>0.893389</td>\n",
              "      <td>0.059517</td>\n",
              "      <td>0.171548</td>\n",
              "      <td>0.011271</td>\n",
              "      <td>0.512821</td>\n",
              "      <td>0</td>\n",
              "      <td>2</td>\n",
              "    </tr>\n",
              "    <tr>\n",
              "      <th>2</th>\n",
              "      <td>0.630887</td>\n",
              "      <td>0.743679</td>\n",
              "      <td>0.790980</td>\n",
              "      <td>0.968967</td>\n",
              "      <td>0.864716</td>\n",
              "      <td>0.708073</td>\n",
              "      <td>0.886241</td>\n",
              "      <td>0.087298</td>\n",
              "      <td>0.171481</td>\n",
              "      <td>0.013553</td>\n",
              "      <td>1.025641</td>\n",
              "      <td>0</td>\n",
              "      <td>3</td>\n",
              "    </tr>\n",
              "    <tr>\n",
              "      <th>3</th>\n",
              "      <td>0.600858</td>\n",
              "      <td>0.742849</td>\n",
              "      <td>0.785273</td>\n",
              "      <td>0.962779</td>\n",
              "      <td>0.853196</td>\n",
              "      <td>0.703749</td>\n",
              "      <td>0.875707</td>\n",
              "      <td>0.119944</td>\n",
              "      <td>0.171138</td>\n",
              "      <td>0.016028</td>\n",
              "      <td>1.538462</td>\n",
              "      <td>0</td>\n",
              "      <td>4</td>\n",
              "    </tr>\n",
              "    <tr>\n",
              "      <th>4</th>\n",
              "      <td>0.558940</td>\n",
              "      <td>0.742019</td>\n",
              "      <td>0.780471</td>\n",
              "      <td>0.956599</td>\n",
              "      <td>0.844110</td>\n",
              "      <td>0.698391</td>\n",
              "      <td>0.861492</td>\n",
              "      <td>0.156588</td>\n",
              "      <td>0.170495</td>\n",
              "      <td>0.018676</td>\n",
              "      <td>2.051282</td>\n",
              "      <td>0</td>\n",
              "      <td>5</td>\n",
              "    </tr>\n",
              "    <tr>\n",
              "      <th>...</th>\n",
              "      <td>...</td>\n",
              "      <td>...</td>\n",
              "      <td>...</td>\n",
              "      <td>...</td>\n",
              "      <td>...</td>\n",
              "      <td>...</td>\n",
              "      <td>...</td>\n",
              "      <td>...</td>\n",
              "      <td>...</td>\n",
              "      <td>...</td>\n",
              "      <td>...</td>\n",
              "      <td>...</td>\n",
              "      <td>...</td>\n",
              "    </tr>\n",
              "    <tr>\n",
              "      <th>293675</th>\n",
              "      <td>0.739027</td>\n",
              "      <td>0.092401</td>\n",
              "      <td>0.160030</td>\n",
              "      <td>0.980535</td>\n",
              "      <td>0.079295</td>\n",
              "      <td>0.692459</td>\n",
              "      <td>0.772815</td>\n",
              "      <td>0.000000</td>\n",
              "      <td>0.148629</td>\n",
              "      <td>0.003479</td>\n",
              "      <td>97.570850</td>\n",
              "      <td>1</td>\n",
              "      <td>242</td>\n",
              "    </tr>\n",
              "    <tr>\n",
              "      <th>293676</th>\n",
              "      <td>0.736934</td>\n",
              "      <td>0.031373</td>\n",
              "      <td>0.154547</td>\n",
              "      <td>0.975209</td>\n",
              "      <td>0.051339</td>\n",
              "      <td>0.690302</td>\n",
              "      <td>0.772163</td>\n",
              "      <td>0.000000</td>\n",
              "      <td>0.149926</td>\n",
              "      <td>0.004767</td>\n",
              "      <td>97.975709</td>\n",
              "      <td>1</td>\n",
              "      <td>243</td>\n",
              "    </tr>\n",
              "    <tr>\n",
              "      <th>293677</th>\n",
              "      <td>0.734666</td>\n",
              "      <td>0.953588</td>\n",
              "      <td>0.148071</td>\n",
              "      <td>0.969941</td>\n",
              "      <td>0.021670</td>\n",
              "      <td>0.687477</td>\n",
              "      <td>0.771591</td>\n",
              "      <td>0.000000</td>\n",
              "      <td>0.151204</td>\n",
              "      <td>0.006242</td>\n",
              "      <td>98.380567</td>\n",
              "      <td>1</td>\n",
              "      <td>244</td>\n",
              "    </tr>\n",
              "    <tr>\n",
              "      <th>293678</th>\n",
              "      <td>0.732177</td>\n",
              "      <td>0.887606</td>\n",
              "      <td>0.140339</td>\n",
              "      <td>0.964742</td>\n",
              "      <td>0.992415</td>\n",
              "      <td>0.683853</td>\n",
              "      <td>0.770985</td>\n",
              "      <td>0.000000</td>\n",
              "      <td>0.152461</td>\n",
              "      <td>0.007912</td>\n",
              "      <td>98.785425</td>\n",
              "      <td>1</td>\n",
              "      <td>245</td>\n",
              "    </tr>\n",
              "    <tr>\n",
              "      <th>293679</th>\n",
              "      <td>0.729398</td>\n",
              "      <td>0.845205</td>\n",
              "      <td>0.131015</td>\n",
              "      <td>0.959617</td>\n",
              "      <td>0.965566</td>\n",
              "      <td>0.679251</td>\n",
              "      <td>0.770206</td>\n",
              "      <td>0.017706</td>\n",
              "      <td>0.153692</td>\n",
              "      <td>0.009777</td>\n",
              "      <td>99.190283</td>\n",
              "      <td>1</td>\n",
              "      <td>246</td>\n",
              "    </tr>\n",
              "  </tbody>\n",
              "</table>\n",
              "<p>293680 rows × 13 columns</p>\n",
              "</div>"
            ],
            "text/plain": [
              "        l_ph_hip  l_ph_ank   l_ph_fo  r_ph_hip  r_ph_ank   r_ph_fo    n_lgrf  \\\n",
              "0       0.667644  0.745372  0.806413  0.981309  0.898270  0.714573  0.897445   \n",
              "1       0.652177  0.744517  0.797888  0.975148  0.879422  0.711622  0.893389   \n",
              "2       0.630887  0.743679  0.790980  0.968967  0.864716  0.708073  0.886241   \n",
              "3       0.600858  0.742849  0.785273  0.962779  0.853196  0.703749  0.875707   \n",
              "4       0.558940  0.742019  0.780471  0.956599  0.844110  0.698391  0.861492   \n",
              "...          ...       ...       ...       ...       ...       ...       ...   \n",
              "293675  0.739027  0.092401  0.160030  0.980535  0.079295  0.692459  0.772815   \n",
              "293676  0.736934  0.031373  0.154547  0.975209  0.051339  0.690302  0.772163   \n",
              "293677  0.734666  0.953588  0.148071  0.969941  0.021670  0.687477  0.771591   \n",
              "293678  0.732177  0.887606  0.140339  0.964742  0.992415  0.683853  0.770985   \n",
              "293679  0.729398  0.845205  0.131015  0.959617  0.965566  0.679251  0.770206   \n",
              "\n",
              "         n_r_grf    n_lcop    n_rcop   perc_new  st_sw_phase  strike_frame  \n",
              "0       0.036973  0.171359  0.009193   0.000000            0             1  \n",
              "1       0.059517  0.171548  0.011271   0.512821            0             2  \n",
              "2       0.087298  0.171481  0.013553   1.025641            0             3  \n",
              "3       0.119944  0.171138  0.016028   1.538462            0             4  \n",
              "4       0.156588  0.170495  0.018676   2.051282            0             5  \n",
              "...          ...       ...       ...        ...          ...           ...  \n",
              "293675  0.000000  0.148629  0.003479  97.570850            1           242  \n",
              "293676  0.000000  0.149926  0.004767  97.975709            1           243  \n",
              "293677  0.000000  0.151204  0.006242  98.380567            1           244  \n",
              "293678  0.000000  0.152461  0.007912  98.785425            1           245  \n",
              "293679  0.017706  0.153692  0.009777  99.190283            1           246  \n",
              "\n",
              "[293680 rows x 13 columns]"
            ]
          },
          "execution_count": 111,
          "metadata": {},
          "output_type": "execute_result"
        }
      ],
      "source": [
        "cycle = 0\n",
        "cycle_list = []\n",
        "\n",
        "start = 0\n",
        "\n",
        "for i in range(len(all_test) - 1):\n",
        "    if (all_test['perc_new'][i+1] == 0):\n",
        "        cycle += 1\n",
        "        cycle_list.append(all_test.iloc[start:i])\n",
        "        start = i+1\n",
        "\n",
        "random.shuffle(cycle_list)\n",
        "test_table = pd.concat(cycle_list, axis=0, ignore_index=True)\n",
        "\n",
        "test_table"
      ]
    },
    {
      "cell_type": "code",
      "execution_count": 112,
      "metadata": {},
      "outputs": [
        {
          "data": {
            "text/html": [
              "<div>\n",
              "<style scoped>\n",
              "    .dataframe tbody tr th:only-of-type {\n",
              "        vertical-align: middle;\n",
              "    }\n",
              "\n",
              "    .dataframe tbody tr th {\n",
              "        vertical-align: top;\n",
              "    }\n",
              "\n",
              "    .dataframe thead th {\n",
              "        text-align: right;\n",
              "    }\n",
              "</style>\n",
              "<table border=\"1\" class=\"dataframe\">\n",
              "  <thead>\n",
              "    <tr style=\"text-align: right;\">\n",
              "      <th></th>\n",
              "      <th>l_ph_hip</th>\n",
              "      <th>l_ph_fo</th>\n",
              "      <th>r_ph_hip</th>\n",
              "      <th>r_ph_fo</th>\n",
              "      <th>n_lcop</th>\n",
              "      <th>n_rcop</th>\n",
              "      <th>perc_new</th>\n",
              "      <th>st_sw_phase</th>\n",
              "      <th>strike_frame</th>\n",
              "    </tr>\n",
              "  </thead>\n",
              "  <tbody>\n",
              "    <tr>\n",
              "      <th>0</th>\n",
              "      <td>0.667644</td>\n",
              "      <td>0.806413</td>\n",
              "      <td>0.981309</td>\n",
              "      <td>0.714573</td>\n",
              "      <td>0.171359</td>\n",
              "      <td>0.009193</td>\n",
              "      <td>0.000000</td>\n",
              "      <td>0</td>\n",
              "      <td>1</td>\n",
              "    </tr>\n",
              "    <tr>\n",
              "      <th>1</th>\n",
              "      <td>0.652177</td>\n",
              "      <td>0.797888</td>\n",
              "      <td>0.975148</td>\n",
              "      <td>0.711622</td>\n",
              "      <td>0.171548</td>\n",
              "      <td>0.011271</td>\n",
              "      <td>0.512821</td>\n",
              "      <td>0</td>\n",
              "      <td>2</td>\n",
              "    </tr>\n",
              "    <tr>\n",
              "      <th>2</th>\n",
              "      <td>0.630887</td>\n",
              "      <td>0.790980</td>\n",
              "      <td>0.968967</td>\n",
              "      <td>0.708073</td>\n",
              "      <td>0.171481</td>\n",
              "      <td>0.013553</td>\n",
              "      <td>1.025641</td>\n",
              "      <td>0</td>\n",
              "      <td>3</td>\n",
              "    </tr>\n",
              "    <tr>\n",
              "      <th>3</th>\n",
              "      <td>0.600858</td>\n",
              "      <td>0.785273</td>\n",
              "      <td>0.962779</td>\n",
              "      <td>0.703749</td>\n",
              "      <td>0.171138</td>\n",
              "      <td>0.016028</td>\n",
              "      <td>1.538462</td>\n",
              "      <td>0</td>\n",
              "      <td>4</td>\n",
              "    </tr>\n",
              "    <tr>\n",
              "      <th>4</th>\n",
              "      <td>0.558940</td>\n",
              "      <td>0.780471</td>\n",
              "      <td>0.956599</td>\n",
              "      <td>0.698391</td>\n",
              "      <td>0.170495</td>\n",
              "      <td>0.018676</td>\n",
              "      <td>2.051282</td>\n",
              "      <td>0</td>\n",
              "      <td>5</td>\n",
              "    </tr>\n",
              "    <tr>\n",
              "      <th>...</th>\n",
              "      <td>...</td>\n",
              "      <td>...</td>\n",
              "      <td>...</td>\n",
              "      <td>...</td>\n",
              "      <td>...</td>\n",
              "      <td>...</td>\n",
              "      <td>...</td>\n",
              "      <td>...</td>\n",
              "      <td>...</td>\n",
              "    </tr>\n",
              "    <tr>\n",
              "      <th>293675</th>\n",
              "      <td>0.739027</td>\n",
              "      <td>0.160030</td>\n",
              "      <td>0.980535</td>\n",
              "      <td>0.692459</td>\n",
              "      <td>0.148629</td>\n",
              "      <td>0.003479</td>\n",
              "      <td>97.570850</td>\n",
              "      <td>1</td>\n",
              "      <td>242</td>\n",
              "    </tr>\n",
              "    <tr>\n",
              "      <th>293676</th>\n",
              "      <td>0.736934</td>\n",
              "      <td>0.154547</td>\n",
              "      <td>0.975209</td>\n",
              "      <td>0.690302</td>\n",
              "      <td>0.149926</td>\n",
              "      <td>0.004767</td>\n",
              "      <td>97.975709</td>\n",
              "      <td>1</td>\n",
              "      <td>243</td>\n",
              "    </tr>\n",
              "    <tr>\n",
              "      <th>293677</th>\n",
              "      <td>0.734666</td>\n",
              "      <td>0.148071</td>\n",
              "      <td>0.969941</td>\n",
              "      <td>0.687477</td>\n",
              "      <td>0.151204</td>\n",
              "      <td>0.006242</td>\n",
              "      <td>98.380567</td>\n",
              "      <td>1</td>\n",
              "      <td>244</td>\n",
              "    </tr>\n",
              "    <tr>\n",
              "      <th>293678</th>\n",
              "      <td>0.732177</td>\n",
              "      <td>0.140339</td>\n",
              "      <td>0.964742</td>\n",
              "      <td>0.683853</td>\n",
              "      <td>0.152461</td>\n",
              "      <td>0.007912</td>\n",
              "      <td>98.785425</td>\n",
              "      <td>1</td>\n",
              "      <td>245</td>\n",
              "    </tr>\n",
              "    <tr>\n",
              "      <th>293679</th>\n",
              "      <td>0.729398</td>\n",
              "      <td>0.131015</td>\n",
              "      <td>0.959617</td>\n",
              "      <td>0.679251</td>\n",
              "      <td>0.153692</td>\n",
              "      <td>0.009777</td>\n",
              "      <td>99.190283</td>\n",
              "      <td>1</td>\n",
              "      <td>246</td>\n",
              "    </tr>\n",
              "  </tbody>\n",
              "</table>\n",
              "<p>293680 rows × 9 columns</p>\n",
              "</div>"
            ],
            "text/plain": [
              "        l_ph_hip   l_ph_fo  r_ph_hip   r_ph_fo    n_lcop    n_rcop   perc_new  \\\n",
              "0       0.667644  0.806413  0.981309  0.714573  0.171359  0.009193   0.000000   \n",
              "1       0.652177  0.797888  0.975148  0.711622  0.171548  0.011271   0.512821   \n",
              "2       0.630887  0.790980  0.968967  0.708073  0.171481  0.013553   1.025641   \n",
              "3       0.600858  0.785273  0.962779  0.703749  0.171138  0.016028   1.538462   \n",
              "4       0.558940  0.780471  0.956599  0.698391  0.170495  0.018676   2.051282   \n",
              "...          ...       ...       ...       ...       ...       ...        ...   \n",
              "293675  0.739027  0.160030  0.980535  0.692459  0.148629  0.003479  97.570850   \n",
              "293676  0.736934  0.154547  0.975209  0.690302  0.149926  0.004767  97.975709   \n",
              "293677  0.734666  0.148071  0.969941  0.687477  0.151204  0.006242  98.380567   \n",
              "293678  0.732177  0.140339  0.964742  0.683853  0.152461  0.007912  98.785425   \n",
              "293679  0.729398  0.131015  0.959617  0.679251  0.153692  0.009777  99.190283   \n",
              "\n",
              "        st_sw_phase  strike_frame  \n",
              "0                 0             1  \n",
              "1                 0             2  \n",
              "2                 0             3  \n",
              "3                 0             4  \n",
              "4                 0             5  \n",
              "...             ...           ...  \n",
              "293675            1           242  \n",
              "293676            1           243  \n",
              "293677            1           244  \n",
              "293678            1           245  \n",
              "293679            1           246  \n",
              "\n",
              "[293680 rows x 9 columns]"
            ]
          },
          "execution_count": 112,
          "metadata": {},
          "output_type": "execute_result"
        }
      ],
      "source": [
        "test_table = test_table.drop(drop_list, axis = 1)\n",
        "test_table"
      ]
    },
    {
      "cell_type": "code",
      "execution_count": 113,
      "metadata": {},
      "outputs": [],
      "source": [
        "x_test = test_table\n",
        "x_test = x_test.drop(['perc_new'], axis=1)\n",
        "scaler2 = MinMaxScaler()\n",
        "x_test_scaled = scaler2.fit_transform(x_test)\n",
        "x_test_scaled = pd.DataFrame(x_test_scaled)\n",
        "\n",
        "encode_gait_percentage(test_table, 'perc_new')\n",
        "y_test = test_table[[\"X\",\"Y\"]]\n",
        "y_test\n",
        "\n",
        "data_x_test = x_test_scaled"
      ]
    },
    {
      "cell_type": "code",
      "execution_count": 114,
      "metadata": {},
      "outputs": [],
      "source": [
        "#data_y_test = y_test.values.reshape(-1, 2)\n",
        "data_y_test = y_test.values"
      ]
    },
    {
      "cell_type": "code",
      "execution_count": 115,
      "metadata": {},
      "outputs": [],
      "source": [
        "test_x, test_y = convert_data(data_x_test, data_y_test, look_back, fore_cast)"
      ]
    },
    {
      "cell_type": "code",
      "execution_count": 116,
      "metadata": {},
      "outputs": [
        {
          "data": {
            "text/plain": [
              "(293669, 8)"
            ]
          },
          "execution_count": 116,
          "metadata": {},
          "output_type": "execute_result"
        }
      ],
      "source": [
        "check_point = data_x_test[11:]\n",
        "check_point.shape"
      ]
    },
    {
      "cell_type": "code",
      "execution_count": 117,
      "metadata": {},
      "outputs": [
        {
          "name": "stdout",
          "output_type": "stream",
          "text": [
            "9178/9178 [==============================] - 27s 3ms/step\n"
          ]
        }
      ],
      "source": [
        "crossPredict = model.predict(test_x)"
      ]
    },
    {
      "cell_type": "code",
      "execution_count": 118,
      "metadata": {},
      "outputs": [
        {
          "name": "stdout",
          "output_type": "stream",
          "text": [
            "Test Score: 0.732 RMSE\n"
          ]
        }
      ],
      "source": [
        "score = np.sqrt(mean_squared_error(test_y, crossPredict))\n",
        "print('Test Score: %.3f RMSE' % (score))"
      ]
    },
    {
      "cell_type": "code",
      "execution_count": 143,
      "metadata": {},
      "outputs": [],
      "source": [
        "\n",
        "check_point_test = scaler2.inverse_transform(check_point)\n",
        "\n",
        "predict = np.zeros((len(crossPredict),1))\n",
        "\n",
        "for iter in range(len(crossPredict)):\n",
        "  x = crossPredict[iter][0]\n",
        "  y = crossPredict[iter][1]\n",
        "  predict[iter] = ((math.atan2(y,x) + 2*math.pi) % (2*math.pi)) * (100 / (2*math.pi))\n",
        "\n",
        "\n",
        "  if ((predict[iter] >= 80) & (check_point_test[iter][-1] <= 20)) :\n",
        "    predict[iter] = predict[iter] - 100\n",
        "    \n",
        "    #if abs(predict[iter]) >= 5:\n",
        "    #    predict[iter] = 0\n",
        "\n",
        "\n",
        "  if ((predict[iter] <= 20) & (check_point_test[iter][-1] >= 150)):\n",
        "     predict[iter] = 100 - predict[iter]\n",
        "     #if abs(predict[iter]) >= 5:\n",
        "     #    predict[iter] = 100"
      ]
    },
    {
      "cell_type": "code",
      "execution_count": 144,
      "metadata": {},
      "outputs": [],
      "source": [
        "actual2 = np.zeros((len(test_y),1))\n",
        "\n",
        "for iter in range(len(test_y)):\n",
        "  x = test_y[iter][0]\n",
        "  y = test_y[iter][1]\n",
        "  actual2[iter] = ((math.atan2(y,x) + 2*math.pi) % (2*math.pi)) * (100 / (2*math.pi))"
      ]
    },
    {
      "cell_type": "code",
      "execution_count": 145,
      "metadata": {},
      "outputs": [
        {
          "name": "stdout",
          "output_type": "stream",
          "text": [
            "14717\n",
            "293669\n",
            "Precision  1 :  5.011424426820672\n",
            "31230\n",
            "293669\n",
            "Precision  2 :  10.634421746932771\n",
            "41909\n",
            "293669\n",
            "Precision  3 :  14.270828722132741\n",
            "49300\n",
            "293669\n",
            "Precision  4 :  16.787607816963998\n",
            "56411\n",
            "293669\n",
            "Precision  5 :  19.209041471861177\n"
          ]
        }
      ],
      "source": [
        "correct = 0\n",
        "for i in range(5):\n",
        "  correct = 0\n",
        "  for iter in range(len(actual2)):\n",
        "    #if (abs(actual[iter] - pred[iter]) <= (i+1)) or (actual[iter]>98) or(actual[iter]<3):\n",
        "      #correct+=1\n",
        "      if (abs(actual2[iter] - predict[iter]) <= (i+1)):\n",
        "        correct+=1\n",
        "\n",
        "  print(correct)\n",
        "  print(len(actual2))\n",
        "\n",
        "  print(\"Precision \", i+1, \": \", correct * 100/len(actual2))"
      ]
    },
    {
      "cell_type": "code",
      "execution_count": 146,
      "metadata": {},
      "outputs": [
        {
          "name": "stdout",
          "output_type": "stream",
          "text": [
            "Predicting Percentage RMSE:  26.234385064831795\n"
          ]
        }
      ],
      "source": [
        "perc_rmse_cross = np.sqrt(mean_squared_error(actual2, predict))\n",
        "print(\"Predicting Percentage RMSE: \", perc_rmse_cross)"
      ]
    },
    {
      "cell_type": "code",
      "execution_count": 147,
      "metadata": {},
      "outputs": [
        {
          "name": "stdout",
          "output_type": "stream",
          "text": [
            "293669\n",
            "293669\n",
            "26.234385064831702\n"
          ]
        }
      ],
      "source": [
        "rmse = 0\n",
        "length = len(actual2)\n",
        "for i in range(len(actual2)):\n",
        "\n",
        "    rmse = rmse + pow(predict[i] - actual2[i], 2)\n",
        "rmse = rmse / length\n",
        "rmse = math.sqrt(rmse)\n",
        "print(length)\n",
        "print(len(actual2))\n",
        "print(rmse)"
      ]
    },
    {
      "cell_type": "code",
      "execution_count": 148,
      "metadata": {},
      "outputs": [
        {
          "data": {
            "text/plain": [
              "Text(0.5, 1.0, 'Actual vs Prediction')"
            ]
          },
          "execution_count": 148,
          "metadata": {},
          "output_type": "execute_result"
        },
        {
          "data": {
            "image/png": "[encoded data removed]",
            "text/plain": [
              "<Figure size 432x288 with 1 Axes>"
            ]
          },
          "metadata": {
            "needs_background": "light"
          },
          "output_type": "display_data"
        }
      ],
      "source": [
        "plt.scatter(actual2, predict, facecolors='none', edgecolors='crimson',alpha=0.4)\n",
        "p1 = max(max(predict), max(actual2))\n",
        "p2 = min(min(predict), min(actual2))\n",
        "\n",
        "ci = 0.1 * np.std([p1,p2]) / np.mean([p1,p2])\n",
        "\n",
        "plt.plot([p1, p2], [p1, p2], 'b-', linewidth =3)\n",
        "plt.title('Actual vs Prediction')"
      ]
    },
    {
      "cell_type": "code",
      "execution_count": 149,
      "metadata": {},
      "outputs": [
        {
          "data": {
            "text/plain": [
              "[<matplotlib.lines.Line2D at 0x1ec63e36e80>]"
            ]
          },
          "execution_count": 149,
          "metadata": {},
          "output_type": "execute_result"
        },
        {
          "data": {
            "image/png": "[encoded data removed]",
            "text/plain": [
              "<Figure size 1440x360 with 1 Axes>"
            ]
          },
          "metadata": {
            "needs_background": "light"
          },
          "output_type": "display_data"
        }
      ],
      "source": [
        "predfig=plt.figure(figsize=(20,5))\n",
        "dif = abs(actual2-predict)\n",
        "\n",
        "plt.plot(dif,'.')"
      ]
    },
    {
      "cell_type": "code",
      "execution_count": 150,
      "metadata": {
        "id": "ALo9_9C-2IXR"
      },
      "outputs": [
        {
          "data": {
            "text/plain": [
              "'file_name = [\\'PK_0_I_r.xls\\', \\'PK_2_I_r.xls\\', \\'PK_3_I_r.xls\\',\\'PK_5_I_r.xls\\']\\n\\n\\nfor i in range (len(file_name)):\\n    file_list.append(pd.read_excel(path+ file_name[i], sheet_name=\\'Sheet1\\'))\\n\\nimport random\\nrandom.shuffle(file_list)\\n\\nall_data = pd.concat(file_list, axis=0, ignore_index=True)\\n\\ncycle = 0\\ncycle_list = []\\n\\nstart = 0\\n\\nfor i in range(len(all_data) - 1):\\n    if (all_data[\\'perc\\'][i+1] == 0):\\n        cycle += 1\\n        cycle_list.append(all_data.iloc[start:i])\\n        start = i+1\\n\\nrandom.shuffle(cycle_list)\\nsource_table = pd.concat(cycle_list, axis=0, ignore_index=True)\\n\\nsource_table\\nsource_table = source_table.drop([\"n_lgrf\",\"n_r_grf\",\"l_ph_ank\",\"r_ph_ank\"], axis = 1)#,\\'l_ph_hip\\',\\'l_ph_fo\\',\\'n_lcop\\'], axis = 1)\\n\\nx = source_table\\nx = x.drop([\\'perc\\'], axis=1)\\nscaler = MinMaxScaler()\\nx_scaled = scaler.fit_transform(x)\\nx_scaled = pd.DataFrame(x_scaled)\\n\\nencode_gait_percentage(source_table, \\'perc\\')\\ny = source_table[[\"X\",\"Y\"]]\\ny\\n\\ndata_x = x_scaled\\ndata_y = y.values.reshape(-1,2)\\nlook_back=10\\nfore_cast=1\\nval_new_x, val_new_y = convert_data(data_x, data_y, look_back, fore_cast)'"
            ]
          },
          "execution_count": 150,
          "metadata": {},
          "output_type": "execute_result"
        }
      ],
      "source": [
        "\"\"\"file_name = ['PK_0_I_r.xls', 'PK_2_I_r.xls', 'PK_3_I_r.xls','PK_5_I_r.xls']\n",
        "\n",
        "\n",
        "for i in range (len(file_name)):\n",
        "    file_list.append(pd.read_excel(path+ file_name[i], sheet_name='Sheet1'))\n",
        "\n",
        "import random\n",
        "random.shuffle(file_list)\n",
        "\n",
        "all_data = pd.concat(file_list, axis=0, ignore_index=True)\n",
        "\n",
        "cycle = 0\n",
        "cycle_list = []\n",
        "\n",
        "start = 0\n",
        "\n",
        "for i in range(len(all_data) - 1):\n",
        "    if (all_data['perc'][i+1] == 0):\n",
        "        cycle += 1\n",
        "        cycle_list.append(all_data.iloc[start:i])\n",
        "        start = i+1\n",
        "\n",
        "random.shuffle(cycle_list)\n",
        "source_table = pd.concat(cycle_list, axis=0, ignore_index=True)\n",
        "\n",
        "source_table\n",
        "source_table = source_table.drop([\"n_lgrf\",\"n_r_grf\",\"l_ph_ank\",\"r_ph_ank\"], axis = 1)#,'l_ph_hip','l_ph_fo','n_lcop'], axis = 1)\n",
        "\n",
        "x = source_table\n",
        "x = x.drop(['perc'], axis=1)\n",
        "scaler = MinMaxScaler()\n",
        "x_scaled = scaler.fit_transform(x)\n",
        "x_scaled = pd.DataFrame(x_scaled)\n",
        "\n",
        "encode_gait_percentage(source_table, 'perc')\n",
        "y = source_table[[\"X\",\"Y\"]]\n",
        "y\n",
        "\n",
        "data_x = x_scaled\n",
        "data_y = y.values.reshape(-1,2)\n",
        "look_back=10\n",
        "fore_cast=1\n",
        "val_new_x, val_new_y = convert_data(data_x, data_y, look_back, fore_cast)\"\"\"\n"
      ]
    },
    {
      "cell_type": "code",
      "execution_count": 151,
      "metadata": {
        "colab": {
          "base_uri": "https://localhost:8080/"
        },
        "id": "k7bivVWJgiwE",
        "outputId": "016735f8-154d-4002-c6f6-ac47eb8b97cf"
      },
      "outputs": [],
      "source": [
        "#testPredict = model.predict(val_new_x)"
      ]
    },
    {
      "cell_type": "code",
      "execution_count": 152,
      "metadata": {
        "colab": {
          "base_uri": "https://localhost:8080/"
        },
        "id": "QTpp3bDpgjMB",
        "outputId": "d833160c-afaa-4c01-ca3b-8db785cdf38c"
      },
      "outputs": [
        {
          "data": {
            "text/plain": [
              "'v = val_new_x[11:]\\nv.shape\\n\\npred = np.zeros((len(testPredict),1))\\n\\nfor iter in range(len(testPredict)):\\n  x = testPredict[iter][0]\\n  y = testPredict[iter][1]\\n  pred[iter] = ((math.atan2(y,x) + 2*math.pi) % (2*math.pi)) * (100 / (2*math.pi))\\n\\n  # pred1=pd.DataFrame(pred).sort_index().reset_index()\\n\\nactual = np.zeros((len(val_new_y),1))\\n\\nfor iter in range(len(val_new_x)):\\n  x =val_new_y[iter][0]\\n  y =val_new_y[iter][1]\\n  actual[iter] = ((math.atan2(y,x) + 2*math.pi) % (2*math.pi)) * (100 / (2*math.pi))\\n\\n\\n\\ncorrect = 0\\nfor i in range(5):\\n  correct = 0\\n  for iter in range(len(actual)):\\n    if (abs(actual[iter] - pred[iter]) <= (i+1)) or (actual[iter]>98) or(actual[iter]<3):\\n      correct+=1\\n\\n  print(correct)\\n  print(len(actual))\\n\\n  print(\"Precision \", i+1, \": \", correct * 100/len(actual))'"
            ]
          },
          "execution_count": 152,
          "metadata": {},
          "output_type": "execute_result"
        }
      ],
      "source": [
        "\"\"\"v = val_new_x[11:]\n",
        "v.shape\n",
        "\n",
        "pred = np.zeros((len(testPredict),1))\n",
        "\n",
        "for iter in range(len(testPredict)):\n",
        "  x = testPredict[iter][0]\n",
        "  y = testPredict[iter][1]\n",
        "  pred[iter] = ((math.atan2(y,x) + 2*math.pi) % (2*math.pi)) * (100 / (2*math.pi))\n",
        "\n",
        "  # pred1=pd.DataFrame(pred).sort_index().reset_index()\n",
        "\n",
        "actual = np.zeros((len(val_new_y),1))\n",
        "\n",
        "for iter in range(len(val_new_x)):\n",
        "  x =val_new_y[iter][0]\n",
        "  y =val_new_y[iter][1]\n",
        "  actual[iter] = ((math.atan2(y,x) + 2*math.pi) % (2*math.pi)) * (100 / (2*math.pi))\n",
        "\n",
        "\n",
        "\n",
        "correct = 0\n",
        "for i in range(5):\n",
        "  correct = 0\n",
        "  for iter in range(len(actual)):\n",
        "    if (abs(actual[iter] - pred[iter]) <= (i+1)) or (actual[iter]>98) or(actual[iter]<3):\n",
        "      correct+=1\n",
        "\n",
        "  print(correct)\n",
        "  print(len(actual))\n",
        "\n",
        "  print(\"Precision \", i+1, \": \", correct * 100/len(actual))\"\"\""
      ]
    },
    {
      "cell_type": "code",
      "execution_count": 153,
      "metadata": {
        "colab": {
          "base_uri": "https://localhost:8080/"
        },
        "id": "0MF6dayJmPHg",
        "outputId": "e8682984-5a4d-49ee-8007-e8b9328a060a"
      },
      "outputs": [
        {
          "data": {
            "text/plain": [
              "'perc_rmse = np.sqrt(mean_squared_error(actual, pred))\\nprint(\"Predicting Percentage RMSE: \", perc_rmse)\\nrmse = 0\\nlength = len(actual)\\nfor i in range(len(actual)):\\n  if abs (pred[i] - actual[i]) >= 90:\\n    length -= 1\\n  else:\\n    rmse = rmse + pow(pred[i] - actual[i], 2)\\nrmse = rmse / length\\nrmse = math.sqrt(rmse)\\nprint(length)\\nprint(len(actual))\\nprint(rmse)'"
            ]
          },
          "execution_count": 153,
          "metadata": {},
          "output_type": "execute_result"
        }
      ],
      "source": [
        "\"\"\"perc_rmse = np.sqrt(mean_squared_error(actual, pred))\n",
        "print(\"Predicting Percentage RMSE: \", perc_rmse)\n",
        "rmse = 0\n",
        "length = len(actual)\n",
        "for i in range(len(actual)):\n",
        "  if abs (pred[i] - actual[i]) >= 90:\n",
        "    length -= 1\n",
        "  else:\n",
        "    rmse = rmse + pow(pred[i] - actual[i], 2)\n",
        "rmse = rmse / length\n",
        "rmse = math.sqrt(rmse)\n",
        "print(length)\n",
        "print(len(actual))\n",
        "print(rmse)\"\"\""
      ]
    },
    {
      "cell_type": "code",
      "execution_count": 154,
      "metadata": {
        "colab": {
          "base_uri": "https://localhost:8080/",
          "height": 469
        },
        "id": "JZYGhlAOsibw",
        "outputId": "425a0cfd-8e5e-4c97-9f56-c2bf12e6c5ba"
      },
      "outputs": [
        {
          "data": {
            "text/plain": [
              "\"plt.scatter(actual, pred, facecolors='none', edgecolors='crimson',alpha=0.4)\\np1 = max(max(pred), max(actual))\\np2 = min(min(pred), min(actual))\\n\\nci = 0.1 * np.std([p1,p2]) / np.mean([p1,p2])\\n\\nplt.plot([p1, p2], [p1, p2], 'b-', linewidth =3)\\nplt.title('Actual vs Prediction') \""
            ]
          },
          "execution_count": 154,
          "metadata": {},
          "output_type": "execute_result"
        }
      ],
      "source": [
        "\"\"\"plt.scatter(actual, pred, facecolors='none', edgecolors='crimson',alpha=0.4)\n",
        "p1 = max(max(pred), max(actual))\n",
        "p2 = min(min(pred), min(actual))\n",
        "\n",
        "ci = 0.1 * np.std([p1,p2]) / np.mean([p1,p2])\n",
        "\n",
        "plt.plot([p1, p2], [p1, p2], 'b-', linewidth =3)\n",
        "plt.title('Actual vs Prediction') \"\"\""
      ]
    },
    {
      "cell_type": "code",
      "execution_count": null,
      "metadata": {
        "id": "qOi80H9bsnv4"
      },
      "outputs": [],
      "source": []
    }
  ],
  "metadata": {
    "accelerator": "TPU",
    "colab": {
      "provenance": []
    },
    "kernelspec": {
      "display_name": "Python 3",
      "name": "python3"
    },
    "language_info": {
      "codemirror_mode": {
        "name": "ipython",
        "version": 3
      },
      "file_extension": ".py",
      "mimetype": "text/x-python",
      "name": "python",
      "nbconvert_exporter": "python",
      "pygments_lexer": "ipython3",
      "version": "3.8.10"
    }
  },
  "nbformat": 4,
  "nbformat_minor": 0
}
