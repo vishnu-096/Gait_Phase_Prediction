{
 "cells": [
  {
   "cell_type": "code",
   "execution_count": 1,
   "metadata": {},
   "outputs": [
    {
     "name": "stderr",
     "output_type": "stream",
     "text": [
      "2024-02-04 21:36:53.357806: E external/local_xla/xla/stream_executor/cuda/cuda_dnn.cc:9261] Unable to register cuDNN factory: Attempting to register factory for plugin cuDNN when one has already been registered\n",
      "2024-02-04 21:36:53.357879: E external/local_xla/xla/stream_executor/cuda/cuda_fft.cc:607] Unable to register cuFFT factory: Attempting to register factory for plugin cuFFT when one has already been registered\n",
      "2024-02-04 21:36:53.361491: E external/local_xla/xla/stream_executor/cuda/cuda_blas.cc:1515] Unable to register cuBLAS factory: Attempting to register factory for plugin cuBLAS when one has already been registered\n",
      "2024-02-04 21:36:53.383349: I tensorflow/core/platform/cpu_feature_guard.cc:182] This TensorFlow binary is optimized to use available CPU instructions in performance-critical operations.\n",
      "To enable the following instructions: AVX2 FMA, in other operations, rebuild TensorFlow with the appropriate compiler flags.\n",
      "2024-02-04 21:36:54.190862: W tensorflow/compiler/tf2tensorrt/utils/py_utils.cc:38] TF-TRT Warning: Could not find TensorRT\n"
     ]
    }
   ],
   "source": [
    "import numpy as np\n",
    "import pandas as pd\n",
    "import tensorflow as tf\n",
    "import matplotlib.pyplot as plt\n",
    "import math\n",
    "import time\n",
    "import os\n",
    "import sys\n",
    "import json\n",
    "import pickle\n",
    "\n",
    "import scipy as sp\n",
    "from scipy import signal\n",
    "\n",
    "from torch import nn\n",
    "from torch import optim\n",
    "from torch.nn import functional as F\n",
    "from torch.utils.data import DataLoader\n",
    "from torch.utils.data import Dataset\n",
    "\n",
    "from tensorflow import keras\n",
    "\n",
    "from keras.models import Sequential\n",
    "from keras.layers import Dense\n",
    "from keras.layers import LSTM\n",
    "from keras.layers import Conv2D, MaxPool2D, Dropout,Flatten, Conv1D, MaxPool1D\n",
    "from keras.callbacks import EarlyStopping\n",
    "from sklearn.preprocessing import MinMaxScaler\n",
    "from sklearn.feature_selection import SelectKBest\n",
    "from sklearn.feature_selection import f_regression\n",
    "from sklearn import metrics\n",
    "\n",
    "#from statsmodels.tsa.seasonal import seasonal_decompose\n",
    "#from statsmodels.graphics.tsaplots import plot_acf\n",
    "\n",
    "from sklearn.preprocessing import MinMaxScaler\n",
    "from sklearn.model_selection import train_test_split\n",
    "\n",
    "import os, warnings, random\n",
    "from sklearn.metrics import mean_squared_error\n",
    "from sklearn.model_selection import train_test_split\n",
    "import keras.layers as L\n",
    "\n",
    "from keras import Model\n",
    "from keras.layers import Layer\n",
    "from tensorflow.python.keras import backend as K\n",
    "#from keras.backend import backend as K\n",
    "#import keras.backend as K\n",
    "from keras.layers import Input, Dense, SimpleRNN\n",
    "from sklearn.preprocessing import MinMaxScaler\n",
    "from keras.models import Sequential\n",
    "from keras.metrics import mean_squared_error\n",
    "\n",
    "from tensorflow.python.keras import optimizers as optimizers\n"
   ]
  },
  {
   "cell_type": "code",
   "execution_count": 2,
   "metadata": {},
   "outputs": [
    {
     "name": "stdout",
     "output_type": "stream",
     "text": [
      "Num GPUs Available:  1\n"
     ]
    },
    {
     "name": "stderr",
     "output_type": "stream",
     "text": [
      "2024-02-04 21:36:58.084634: I external/local_xla/xla/stream_executor/cuda/cuda_executor.cc:887] could not open file to read NUMA node: /sys/bus/pci/devices/0000:01:00.0/numa_node\n",
      "Your kernel may have been built without NUMA support.\n",
      "2024-02-04 21:36:58.086276: I external/local_xla/xla/stream_executor/cuda/cuda_executor.cc:887] could not open file to read NUMA node: /sys/bus/pci/devices/0000:01:00.0/numa_node\n",
      "Your kernel may have been built without NUMA support.\n",
      "2024-02-04 21:36:58.086630: I external/local_xla/xla/stream_executor/cuda/cuda_executor.cc:887] could not open file to read NUMA node: /sys/bus/pci/devices/0000:01:00.0/numa_node\n",
      "Your kernel may have been built without NUMA support.\n"
     ]
    }
   ],
   "source": [
    "gpus = tf.config.list_physical_devices('GPU')\n",
    "if gpus:\n",
    "    for gpu in gpus:\n",
    "        tf.config.experimental.set_virtual_device_configuration(gpu,[tf.config.experimental.VirtualDeviceConfiguration(memory_limit=4096)])\n",
    "print(\"Num GPUs Available: \", len(tf.config.list_physical_devices('GPU')))\n",
    "os.environ['TF_CPP_MIN_LOG_LEVEL'] = '2'"
   ]
  },
  {
   "cell_type": "code",
   "execution_count": 3,
   "metadata": {},
   "outputs": [],
   "source": [
    "def encode_phase(df, name):\n",
    "    phase = df[name].values.tolist()\n",
    "    x = np.zeros((len(df[name]),1))\n",
    "    y = np.zeros((len(df[name]),1))\n",
    "    for i in range (len(phase)): \n",
    "        phi = math.radians(phase[i])\n",
    "        x[i] = math.cos(phi)\n",
    "        y[i] = math.sin(phi)\n",
    "\n",
    "    name_x = name[0] + '_ph_hip_x'\n",
    "    name_y = name[0] + '_ph_hip_y'\n",
    "\n",
    "    df[name_x] = x\n",
    "    df[name_y] = y"
   ]
  },
  {
   "cell_type": "code",
   "execution_count": 4,
   "metadata": {},
   "outputs": [],
   "source": [
    "def encode_gait_percentage(df, name):\n",
    "    percent = df[name].values.tolist()\n",
    "    X = np.zeros((len(df[name]),1))\n",
    "    Y = np.zeros((len(df[name]),1))\n",
    "    for i in range (len(percent)):\n",
    "        phi = percent[i] * 2 * math.pi / 100\n",
    "        X[i] = math.cos(phi)\n",
    "        Y[i] = math.sin(phi)\n",
    "    df['X'] = X\n",
    "    df['Y'] = Y\n",
    "  \n",
    "def convert_data(d_x, d_y, look_back = 10, fore_cast = 5):\n",
    "    dataX = []\n",
    "    dataY = []\n",
    "\n",
    "    for i in range(look_back, len(d_x) - fore_cast):\n",
    "        dataX.append(d_x[i - look_back: i])\n",
    "        dataY.append(d_y[i + fore_cast,:])\n",
    "\n",
    "    return np.array(dataX), np.array(dataY)\n",
    "\n",
    "def get_train_data_from_df(all_data, test_ratio):\n",
    "    all_data.info()\n",
    "    cycle = 0\n",
    "    cycle_list = []\n",
    "\n",
    "    start = 0\n",
    "\n",
    "    for i in range(len(all_data) - 1):\n",
    "        if (all_data['perc'][i+1] == 0):\n",
    "            cycle += 1\n",
    "            cycle_list.append(all_data.iloc[start:i])\n",
    "            start = i+1\n",
    "\n",
    "    random.shuffle(cycle_list)\n",
    "    source_table = pd.concat(cycle_list, axis=0, ignore_index=True)\n",
    "\n",
    "    # For hip: source_table = source_table.drop([\"lgrf\", \"rgrf\", \"lcop\",\"rcop\"], axis = 1)\n",
    "\n",
    "    # all features:  \"lcop\", \"rcop\", \"lgrf\", \"rgrf\", \"l_ph_hip\", \"r_ph_hip\", \"st_sw_phase_l\", \"st_sw_phase_r\", \"st_l_l\", \"st_l_r\", \"leg_len\", \"weight\"\n",
    "\n",
    "    drop_list = [\"lgrf\", \"rgrf\",\"lcop\",\"l_ph_hip\", \"r_ph_hip\", \"st_sw_phase_l\", \"st_l_l\"]\n",
    "    source_table = source_table.drop([\"lgrf\", \"rgrf\",\"lcop\",\"rcop\", \"st_sw_phase_l\", \"st_sw_phase_r\", \"leg_len\", \"weight\"], axis = 1)\n",
    "    source_table\n",
    "    x = source_table\n",
    "    x = x.drop(['perc'], axis=1)\n",
    "    # scaler = MinMaxScaler()\n",
    "    # x_scaled = scaler.fit_transform(x)\n",
    "    # x_scaled = pd.DataFrame(x_scaled)\n",
    "\n",
    "    encode_gait_percentage(source_table, 'perc')\n",
    "    y = source_table[[\"X\",\"Y\"]]\n",
    "    # data_x = x_scaled\n",
    "    data_x=x.values\n",
    "    x.info()\n",
    "    data_y = y.values.reshape(-1,2)\n",
    "\n",
    "    X_train, X_test,y_train, y_test = train_test_split(data_x, data_y ,\n",
    "                            test_size=0.25,\n",
    "                            shuffle=False)\n",
    "    look_back = 10\n",
    "    fore_cast = 1\n",
    "\n",
    "    train_x, train_y = convert_data(X_train, y_train, look_back, fore_cast)\n",
    "    validation_x, validation_y = convert_data(X_test, y_test, look_back, fore_cast)\n",
    "\n",
    "    return train_x, train_y, validation_x, validation_y\n",
    "\n",
    "\n",
    "import random\n",
    "def get_data_frames_from_files(path, file_names, subject_dict, subjects):\n",
    "    file_list=[]\n",
    "    for i in range (len(file_names)):\n",
    "\n",
    "        subject = file_names[i].split('_')[0]\n",
    "        if not subject in subjects:\n",
    "            continue\n",
    "        else:\n",
    "            print(file_names[i])\n",
    "        leg_len = subject_dict[subject][0]\n",
    "        weight = subject_dict[subject][1]\n",
    "        tmp=pd.read_excel(path+ file_names[i], sheet_name='Sheet1')\n",
    "        perc_column = tmp['perc']\n",
    "        tmp = tmp.drop(columns=['perc'])\n",
    "        scaler = MinMaxScaler()\n",
    "\n",
    "    # Normalize each column separately\n",
    "        normalized_data = scaler.fit_transform(tmp)\n",
    "        column_names = tmp.columns\n",
    "\n",
    "        normalized_df = pd.DataFrame(normalized_data, columns=column_names)\n",
    "        tmp['l_ph_hip']=tmp['l_ph_hip']/300\n",
    "        tmp['r_ph_hip']=tmp['r_ph_hip']/300\n",
    "        tmp['l_ph_fo']=tmp['l_ph_fo']/300\n",
    "        tmp['r_ph_fo']=tmp['r_ph_fo']/300\n",
    "        tmp['lcop']= tmp['lcop']*1000\n",
    "        tmp['rcop']=tmp['rcop']*1000\n",
    "        tmp['strike_frame']=tmp['strike_frame']/400\n",
    "        tmp['st_sw_phase']=tmp['st_sw_phase']/200\n",
    "        normalized_df =tmp\n",
    "        normalized_df['leg_len']=leg_len\n",
    "        normalized_df['weight']=weight\n",
    "        normalized_df['perc']= perc_column\n",
    "        # normalized_df.insert(tmp.columns.get_loc('col1'), 'perc', perc_column)\n",
    "\n",
    "        file_list.append(normalized_df)\n",
    "\n",
    "    random.shuffle(file_list)\n",
    "\n",
    "    all_data = pd.concat(file_list, axis=0, ignore_index=True)\n",
    "    return all_data\n",
    "\n",
    "\n",
    "seq_len=10\n",
    "n_features=11\n",
    "#train_x=np.zeros((10,10,11))\n",
    "#encoder_model().summary()\n",
    "#decoder_model().summary()\n",
    "\n",
    "def get_lr_metric(optimizer):\n",
    "    def lr(y_true, y_pred):\n",
    "        curLR = optimizer.lr\n",
    "        return curLR\n",
    "    return lr\n",
    "\n",
    "def train_mlp_model(train_x, train_y, look_back):\n",
    "    epochs = 30\n",
    "    batch_size = 32                                                                \n",
    "    learning_rate = 1e-2\n",
    "\n",
    "    # learning rate scheduler\n",
    "    use_lr_scheduler = True\n",
    "    lr_factor = 0.5\n",
    "    lr_patience = 8\n",
    "    lr_threshold = 0.01\n",
    "    lr_min_rate = 1e-6\n",
    "\n",
    "    lr_schedule = tf.keras.optimizers.schedules.ExponentialDecay(\n",
    "    initial_learning_rate=1e-3,\n",
    "    decay_steps=10000,\n",
    "    decay_rate=0.1)\n",
    "    optimizer = tf.keras.optimizers.Adam(learning_rate=lr_schedule)\n",
    "\n",
    "    mlp_model = Sequential()\n",
    "    mlp_model.add(LSTM(64, input_shape=(look_back, train_x.shape[2]), return_sequences = True, dropout=0.1))\n",
    "    #model.add(LSTM(64, return_sequences = True))\n",
    "    mlp_model.add(LSTM(32))\n",
    "    mlp_model.add(Dense(2))\n",
    "\n",
    "    print(mlp_model.summary())\n",
    "\n",
    "    monitor = EarlyStopping(monitor='loss', min_delta=1e-5, patience=5, verbose=1, mode='auto')\n",
    "\n",
    "    #optimizer = tf.keras.optimizers.Adam(learning_rate=1e-2)\n",
    "    mlp_model.compile(loss='mean_squared_error', optimizer=optimizer, metrics=['accuracy','mae','mse'])\n",
    "    history = mlp_model.fit(train_x, train_y, epochs=epochs, batch_size=batch_size, callbacks=monitor,verbose=1)\n",
    "   \n",
    "    return mlp_model\n",
    "\n",
    "def test_model_get_results(mlp_model, validation_x, validation_y, display_flag, tag, file):\n",
    "    print(\"validation_x shape\",validation_x.shape)\n",
    "    testPredict = mlp_model.predict(validation_x)\n",
    "    print(validation_y.shape)\n",
    "    print(testPredict.shape)\n",
    "    testScore = np.sqrt(mean_squared_error(validation_y, testPredict))\n",
    "    # print(testScore)\n",
    "    # print('Test Score: %.2f RMSE' % (testScore))\n",
    "    pred = np.zeros((len(testPredict),1))\n",
    "\n",
    "    for iter in range(len(testPredict)):\n",
    "        x = testPredict[iter][0]\n",
    "        y = testPredict[iter][1]\n",
    "        pred[iter] = ((math.atan2(y,x) + 2*math.pi) % (2*math.pi)) * (100 / (2*math.pi))\n",
    "\n",
    "    actual = np.zeros((len(validation_y),1))\n",
    "\n",
    "    for iter in range(len(validation_y)):\n",
    "        x =validation_y[iter][0]\n",
    "        y =validation_y[iter][1]\n",
    "        # st_frame = validation_x[0,9,7]\n",
    "\n",
    "        actual[iter] = ((math.atan2(y,x) + 2*math.pi) % (2*math.pi)) * (100 / (2*math.pi))\n",
    "        # if st_frame>100 and pred[iter]<15:\n",
    "        #     pred[iter]=100-pred[iter]\n",
    "        # if st_frame<90 and pred[iter]>85:\n",
    "        #     pred[iter]=100-pred[iter]\n",
    "\n",
    "\n",
    "    cor_actual=[]\n",
    "    cor_pred=[]\n",
    "    prec_list=[]\n",
    "\n",
    "    for i in range(5):\n",
    "        correct = 0\n",
    "        for iter in range(len(actual)):\n",
    "            # if (actual[iter]>98) or(actual[iter]<3):\n",
    "            #     correct+=1\n",
    "            #     continue\n",
    "            if (abs(actual[iter] - pred[iter]) <= (i+1)):\n",
    "                correct+=1\n",
    "            cor_pred.append(pred[iter])\n",
    "            cor_actual.append(actual[iter])\n",
    "        prec=correct * 100/len(actual)\n",
    "        print(\"Precision \", i+1, \": \", prec)\n",
    "        # file.write(str(prec))\n",
    "        # file.write(\"\\n\")\n",
    "        prec_list.append(prec)\n",
    "\n",
    "    rmse = 0\n",
    "    length = len(actual)\n",
    "    for i in range(len(actual)):\n",
    "        if abs (pred[i] - actual[i]) >=90:\n",
    "            length -= 1\n",
    "        else:\n",
    "            rmse = rmse + pow(pred[i] - actual[i], 2)\n",
    "    rmse = rmse / length\n",
    "    rmse = math.sqrt(rmse)\n",
    "\n",
    "    if os.path.exists(result_pkl_file):\n",
    "        with open(result_pkl_file,'rb') as pkl_file:\n",
    "            res_dict=pickle.load(pkl_file)\n",
    "    else:\n",
    "        res_dict={}\n",
    "    result={}\n",
    "    result['rmse']=rmse\n",
    "    result['prec_list']=prec_list\n",
    "    res_dict[tag]=result\n",
    "    with open(result_pkl_file, 'wb')as pkl_file:\n",
    "        pickle.dump(res_dict, pkl_file)\n",
    "\n",
    "\n",
    "    print(rmse)\n",
    "    # file.write(\"rmse \"+str(rmse))\n",
    "    # file.write(\"\\n\")\n",
    "    if display_flag:\n",
    "        plt.scatter(cor_actual, cor_pred, facecolors='none', edgecolors='crimson',alpha=0.4)\n",
    "        p1 = max(max(cor_pred), max(cor_actual))\n",
    "        p2 = min(min(cor_pred), min(cor_actual))\n",
    "\n",
    "        ci = 0.1 * np.std([p1,p2]) / np.mean([p1,p2])\n",
    "\n",
    "        plt.plot([p1, p2], [p1, p2], 'b-', linewidth =3)\n",
    "        plt.title('Actual vs Prediction')\n",
    "        plt.savefig(result_path+tag+\"__res.png\")\n",
    "\n",
    "    return prec_list, rmse\n"
   ]
  },
  {
   "cell_type": "code",
   "execution_count": 5,
   "metadata": {},
   "outputs": [
    {
     "name": "stdout",
     "output_type": "stream",
     "text": [
      "Subject combination : ['AK', 'SD', 'PH', 'YC', 'JL', 'JS', 'PK', 'SOE', 'TH', 'SKS', 'VN']\n",
      "All Data Info: \n",
      "<class 'pandas.core.frame.DataFrame'>\n",
      "RangeIndex: 572285 entries, 0 to 572284\n",
      "Data columns (total 13 columns):\n",
      " #   Column         Non-Null Count   Dtype  \n",
      "---  ------         --------------   -----  \n",
      " 0   lcop           572285 non-null  float64\n",
      " 1   rcop           572285 non-null  float64\n",
      " 2   lgrf           572285 non-null  float64\n",
      " 3   rgrf           572285 non-null  float64\n",
      " 4   l_ph_hip       572285 non-null  float64\n",
      " 5   r_ph_hip       572285 non-null  float64\n",
      " 6   st_sw_phase_l  572285 non-null  float64\n",
      " 7   st_sw_phase_r  572285 non-null  float64\n",
      " 8   st_l_l         572285 non-null  float64\n",
      " 9   st_l_r         572285 non-null  float64\n",
      " 10  leg_len        572285 non-null  float64\n",
      " 11  weight         572285 non-null  float64\n",
      " 12  perc           572285 non-null  float64\n",
      "dtypes: float64(13)\n",
      "memory usage: 56.8 MB\n",
      "<class 'pandas.core.frame.DataFrame'>\n",
      "RangeIndex: 572285 entries, 0 to 572284\n",
      "Data columns (total 13 columns):\n",
      " #   Column         Non-Null Count   Dtype  \n",
      "---  ------         --------------   -----  \n",
      " 0   lcop           572285 non-null  float64\n",
      " 1   rcop           572285 non-null  float64\n",
      " 2   lgrf           572285 non-null  float64\n",
      " 3   rgrf           572285 non-null  float64\n",
      " 4   l_ph_hip       572285 non-null  float64\n",
      " 5   r_ph_hip       572285 non-null  float64\n",
      " 6   st_sw_phase_l  572285 non-null  float64\n",
      " 7   st_sw_phase_r  572285 non-null  float64\n",
      " 8   st_l_l         572285 non-null  float64\n",
      " 9   st_l_r         572285 non-null  float64\n",
      " 10  leg_len        572285 non-null  float64\n",
      " 11  weight         572285 non-null  float64\n",
      " 12  perc           572285 non-null  float64\n",
      "dtypes: float64(13)\n",
      "memory usage: 56.8 MB\n",
      "<class 'pandas.core.frame.DataFrame'>\n",
      "RangeIndex: 569529 entries, 0 to 569528\n",
      "Data columns (total 4 columns):\n",
      " #   Column    Non-Null Count   Dtype  \n",
      "---  ------    --------------   -----  \n",
      " 0   l_ph_hip  569529 non-null  float64\n",
      " 1   r_ph_hip  569529 non-null  float64\n",
      " 2   st_l_l    569529 non-null  float64\n",
      " 3   st_l_r    569529 non-null  float64\n",
      "dtypes: float64(4)\n",
      "memory usage: 17.4 MB\n",
      "Nan in train x at indices: []\n",
      "Nan in train y at indices: []\n",
      "(427135, 10, 4)\n",
      "(142372, 10, 4)\n",
      "SSS\n",
      "OKAY till here 1\n"
     ]
    },
    {
     "name": "stderr",
     "output_type": "stream",
     "text": [
      "2024-02-04 21:37:01.905553: I external/local_xla/xla/stream_executor/cuda/cuda_executor.cc:887] could not open file to read NUMA node: /sys/bus/pci/devices/0000:01:00.0/numa_node\n",
      "Your kernel may have been built without NUMA support.\n",
      "2024-02-04 21:37:01.906035: I external/local_xla/xla/stream_executor/cuda/cuda_executor.cc:887] could not open file to read NUMA node: /sys/bus/pci/devices/0000:01:00.0/numa_node\n",
      "Your kernel may have been built without NUMA support.\n",
      "2024-02-04 21:37:01.906373: I external/local_xla/xla/stream_executor/cuda/cuda_executor.cc:887] could not open file to read NUMA node: /sys/bus/pci/devices/0000:01:00.0/numa_node\n",
      "Your kernel may have been built without NUMA support.\n",
      "2024-02-04 21:37:06.789790: I external/local_xla/xla/stream_executor/cuda/cuda_executor.cc:887] could not open file to read NUMA node: /sys/bus/pci/devices/0000:01:00.0/numa_node\n",
      "Your kernel may have been built without NUMA support.\n",
      "2024-02-04 21:37:06.789837: I tensorflow/core/common_runtime/gpu/gpu_device.cc:2022] Could not identify NUMA node of platform GPU id 0, defaulting to 0.  Your kernel may not have been built with NUMA support.\n",
      "2024-02-04 21:37:06.790665: I external/local_xla/xla/stream_executor/cuda/cuda_executor.cc:887] could not open file to read NUMA node: /sys/bus/pci/devices/0000:01:00.0/numa_node\n",
      "Your kernel may have been built without NUMA support.\n",
      "2024-02-04 21:37:06.791171: I external/local_xla/xla/stream_executor/cuda/cuda_executor.cc:887] could not open file to read NUMA node: /sys/bus/pci/devices/0000:01:00.0/numa_node\n",
      "Your kernel may have been built without NUMA support.\n",
      "2024-02-04 21:37:06.791332: I tensorflow/core/common_runtime/gpu/gpu_device.cc:1929] Created device /job:localhost/replica:0/task:0/device:GPU:0 with 4096 MB memory:  -> device: 0, name: NVIDIA GeForce RTX 3050 Laptop GPU, pci bus id: 0000:01:00.0, compute capability: 8.6\n",
      "2024-02-04 21:37:07.185029: I external/local_xla/xla/stream_executor/cuda/cuda_driver.cc:1101] failed to allocate 4.00GiB (4294967296 bytes) from device: CUDA_ERROR_OUT_OF_MEMORY: out of memory\n",
      "2024-02-04 21:37:07.454315: I external/local_xla/xla/stream_executor/cuda/cuda_driver.cc:1101] failed to allocate 3.60GiB (3865470464 bytes) from device: CUDA_ERROR_OUT_OF_MEMORY: out of memory\n",
      "/home/hikikomori/miniconda3/envs/clean_gait_phase/lib/python3.10/site-packages/keras/src/layers/rnn/rnn.py:205: UserWarning: Do not pass an `input_shape`/`input_dim` argument to a layer. When using Sequential models, prefer using an `Input(shape)` object as the first layer in the model instead.\n",
      "  super().__init__(**kwargs)\n"
     ]
    },
    {
     "data": {
      "text/html": [
       "<pre style=\"white-space:pre;overflow-x:auto;line-height:normal;font-family:Menlo,'DejaVu Sans Mono',consolas,'Courier New',monospace\"><span style=\"font-weight: bold\">Model: \"sequential\"</span>\n",
       "</pre>\n"
      ],
      "text/plain": [
       "\u001b[1mModel: \"sequential\"\u001b[0m\n"
      ]
     },
     "metadata": {},
     "output_type": "display_data"
    },
    {
     "data": {
      "text/html": [
       "<pre style=\"white-space:pre;overflow-x:auto;line-height:normal;font-family:Menlo,'DejaVu Sans Mono',consolas,'Courier New',monospace\">┏━━━━━━━━━━━━━━━━━━━━━━━━━━━━━━━━━┳━━━━━━━━━━━━━━━━━━━━━━━━━━━┳━━━━━━━━━━━━┓\n",
       "┃<span style=\"font-weight: bold\"> Layer (type)                    </span>┃<span style=\"font-weight: bold\"> Output Shape              </span>┃<span style=\"font-weight: bold\">    Param # </span>┃\n",
       "┡━━━━━━━━━━━━━━━━━━━━━━━━━━━━━━━━━╇━━━━━━━━━━━━━━━━━━━━━━━━━━━╇━━━━━━━━━━━━┩\n",
       "│ lstm (<span style=\"color: #0087ff; text-decoration-color: #0087ff\">LSTM</span>)                     │ (<span style=\"color: #00d7ff; text-decoration-color: #00d7ff\">None</span>, <span style=\"color: #00af00; text-decoration-color: #00af00\">10</span>, <span style=\"color: #00af00; text-decoration-color: #00af00\">64</span>)            │     <span style=\"color: #00af00; text-decoration-color: #00af00\">17,664</span> │\n",
       "├─────────────────────────────────┼───────────────────────────┼────────────┤\n",
       "│ lstm_1 (<span style=\"color: #0087ff; text-decoration-color: #0087ff\">LSTM</span>)                   │ (<span style=\"color: #00d7ff; text-decoration-color: #00d7ff\">None</span>, <span style=\"color: #00af00; text-decoration-color: #00af00\">32</span>)                │     <span style=\"color: #00af00; text-decoration-color: #00af00\">12,416</span> │\n",
       "├─────────────────────────────────┼───────────────────────────┼────────────┤\n",
       "│ dense (<span style=\"color: #0087ff; text-decoration-color: #0087ff\">Dense</span>)                   │ (<span style=\"color: #00d7ff; text-decoration-color: #00d7ff\">None</span>, <span style=\"color: #00af00; text-decoration-color: #00af00\">2</span>)                 │         <span style=\"color: #00af00; text-decoration-color: #00af00\">66</span> │\n",
       "└─────────────────────────────────┴───────────────────────────┴────────────┘\n",
       "</pre>\n"
      ],
      "text/plain": [
       "┏━━━━━━━━━━━━━━━━━━━━━━━━━━━━━━━━━┳━━━━━━━━━━━━━━━━━━━━━━━━━━━┳━━━━━━━━━━━━┓\n",
       "┃\u001b[1m \u001b[0m\u001b[1mLayer (type)                   \u001b[0m\u001b[1m \u001b[0m┃\u001b[1m \u001b[0m\u001b[1mOutput Shape             \u001b[0m\u001b[1m \u001b[0m┃\u001b[1m \u001b[0m\u001b[1m   Param #\u001b[0m\u001b[1m \u001b[0m┃\n",
       "┡━━━━━━━━━━━━━━━━━━━━━━━━━━━━━━━━━╇━━━━━━━━━━━━━━━━━━━━━━━━━━━╇━━━━━━━━━━━━┩\n",
       "│ lstm (\u001b[38;5;33mLSTM\u001b[0m)                     │ (\u001b[38;5;45mNone\u001b[0m, \u001b[38;5;34m10\u001b[0m, \u001b[38;5;34m64\u001b[0m)            │     \u001b[38;5;34m17,664\u001b[0m │\n",
       "├─────────────────────────────────┼───────────────────────────┼────────────┤\n",
       "│ lstm_1 (\u001b[38;5;33mLSTM\u001b[0m)                   │ (\u001b[38;5;45mNone\u001b[0m, \u001b[38;5;34m32\u001b[0m)                │     \u001b[38;5;34m12,416\u001b[0m │\n",
       "├─────────────────────────────────┼───────────────────────────┼────────────┤\n",
       "│ dense (\u001b[38;5;33mDense\u001b[0m)                   │ (\u001b[38;5;45mNone\u001b[0m, \u001b[38;5;34m2\u001b[0m)                 │         \u001b[38;5;34m66\u001b[0m │\n",
       "└─────────────────────────────────┴───────────────────────────┴────────────┘\n"
      ]
     },
     "metadata": {},
     "output_type": "display_data"
    },
    {
     "data": {
      "text/html": [
       "<pre style=\"white-space:pre;overflow-x:auto;line-height:normal;font-family:Menlo,'DejaVu Sans Mono',consolas,'Courier New',monospace\"><span style=\"font-weight: bold\"> Total params: </span><span style=\"color: #00af00; text-decoration-color: #00af00\">30,146</span> (117.76 KB)\n",
       "</pre>\n"
      ],
      "text/plain": [
       "\u001b[1m Total params: \u001b[0m\u001b[38;5;34m30,146\u001b[0m (117.76 KB)\n"
      ]
     },
     "metadata": {},
     "output_type": "display_data"
    },
    {
     "data": {
      "text/html": [
       "<pre style=\"white-space:pre;overflow-x:auto;line-height:normal;font-family:Menlo,'DejaVu Sans Mono',consolas,'Courier New',monospace\"><span style=\"font-weight: bold\"> Trainable params: </span><span style=\"color: #00af00; text-decoration-color: #00af00\">30,146</span> (117.76 KB)\n",
       "</pre>\n"
      ],
      "text/plain": [
       "\u001b[1m Trainable params: \u001b[0m\u001b[38;5;34m30,146\u001b[0m (117.76 KB)\n"
      ]
     },
     "metadata": {},
     "output_type": "display_data"
    },
    {
     "data": {
      "text/html": [
       "<pre style=\"white-space:pre;overflow-x:auto;line-height:normal;font-family:Menlo,'DejaVu Sans Mono',consolas,'Courier New',monospace\"><span style=\"font-weight: bold\"> Non-trainable params: </span><span style=\"color: #00af00; text-decoration-color: #00af00\">0</span> (0.00 B)\n",
       "</pre>\n"
      ],
      "text/plain": [
       "\u001b[1m Non-trainable params: \u001b[0m\u001b[38;5;34m0\u001b[0m (0.00 B)\n"
      ]
     },
     "metadata": {},
     "output_type": "display_data"
    },
    {
     "name": "stdout",
     "output_type": "stream",
     "text": [
      "None\n",
      "Epoch 1/30\n"
     ]
    },
    {
     "name": "stderr",
     "output_type": "stream",
     "text": [
      "2024-02-04 21:37:12.752170: I external/local_xla/xla/stream_executor/cuda/cuda_dnn.cc:454] Loaded cuDNN version 8902\n"
     ]
    },
    {
     "name": "stdout",
     "output_type": "stream",
     "text": [
      "\u001b[1m13348/13348\u001b[0m \u001b[32m━━━━━━━━━━━━━━━━━━━━\u001b[0m\u001b[37m\u001b[0m \u001b[1m554s\u001b[0m 41ms/step - accuracy: 0.9431 - loss: 0.0389 - mae: 0.1229 - mse: 0.0389\n",
      "Epoch 2/30\n",
      "\u001b[1m13348/13348\u001b[0m \u001b[32m━━━━━━━━━━━━━━━━━━━━\u001b[0m\u001b[37m\u001b[0m \u001b[1m538s\u001b[0m 40ms/step - accuracy: 0.9673 - loss: 0.0141 - mae: 0.0750 - mse: 0.0141\n",
      "Epoch 3/30\n",
      "\u001b[1m13348/13348\u001b[0m \u001b[32m━━━━━━━━━━━━━━━━━━━━\u001b[0m\u001b[37m\u001b[0m \u001b[1m664s\u001b[0m 50ms/step - accuracy: 0.9687 - loss: 0.0138 - mae: 0.0740 - mse: 0.0138\n",
      "Epoch 4/30\n",
      "\u001b[1m13348/13348\u001b[0m \u001b[32m━━━━━━━━━━━━━━━━━━━━\u001b[0m\u001b[37m\u001b[0m \u001b[1m673s\u001b[0m 50ms/step - accuracy: 0.9681 - loss: 0.0136 - mae: 0.0736 - mse: 0.0136\n",
      "Epoch 5/30\n",
      "\u001b[1m13348/13348\u001b[0m \u001b[32m━━━━━━━━━━━━━━━━━━━━\u001b[0m\u001b[37m\u001b[0m \u001b[1m534s\u001b[0m 40ms/step - accuracy: 0.9681 - loss: 0.0137 - mae: 0.0738 - mse: 0.0137\n",
      "Epoch 6/30\n",
      "\u001b[1m13348/13348\u001b[0m \u001b[32m━━━━━━━━━━━━━━━━━━━━\u001b[0m\u001b[37m\u001b[0m \u001b[1m532s\u001b[0m 40ms/step - accuracy: 0.9678 - loss: 0.0135 - mae: 0.0737 - mse: 0.0135\n",
      "Epoch 7/30\n",
      "\u001b[1m13348/13348\u001b[0m \u001b[32m━━━━━━━━━━━━━━━━━━━━\u001b[0m\u001b[37m\u001b[0m \u001b[1m540s\u001b[0m 40ms/step - accuracy: 0.9683 - loss: 0.0138 - mae: 0.0740 - mse: 0.0138\n",
      "Epoch 8/30\n",
      "\u001b[1m13348/13348\u001b[0m \u001b[32m━━━━━━━━━━━━━━━━━━━━\u001b[0m\u001b[37m\u001b[0m \u001b[1m669s\u001b[0m 50ms/step - accuracy: 0.9676 - loss: 0.0137 - mae: 0.0739 - mse: 0.0137\n",
      "Epoch 9/30\n",
      "\u001b[1m13348/13348\u001b[0m \u001b[32m━━━━━━━━━━━━━━━━━━━━\u001b[0m\u001b[37m\u001b[0m \u001b[1m609s\u001b[0m 46ms/step - accuracy: 0.9678 - loss: 0.0137 - mae: 0.0737 - mse: 0.0137\n",
      "Epoch 10/30\n",
      "\u001b[1m13348/13348\u001b[0m \u001b[32m━━━━━━━━━━━━━━━━━━━━\u001b[0m\u001b[37m\u001b[0m \u001b[1m721s\u001b[0m 54ms/step - accuracy: 0.9677 - loss: 0.0137 - mae: 0.0739 - mse: 0.0137\n",
      "Epoch 11/30\n",
      "\u001b[1m13348/13348\u001b[0m \u001b[32m━━━━━━━━━━━━━━━━━━━━\u001b[0m\u001b[37m\u001b[0m \u001b[1m921s\u001b[0m 69ms/step - accuracy: 0.9675 - loss: 0.0138 - mae: 0.0740 - mse: 0.0138\n",
      "Epoch 11: early stopping\n",
      "validation_x shape (142372, 10, 4)\n",
      "\u001b[1m4450/4450\u001b[0m \u001b[32m━━━━━━━━━━━━━━━━━━━━\u001b[0m\u001b[37m\u001b[0m \u001b[1m116s\u001b[0m 26ms/step\n",
      "(142372, 2)\n",
      "(142372, 2)\n",
      "Precision  1 :  18.63357963644537\n",
      "Precision  2 :  33.701149102351586\n",
      "Precision  3 :  45.715449667069365\n",
      "Precision  4 :  55.50108167336274\n",
      "Precision  5 :  63.258224931868625\n"
     ]
    },
    {
     "name": "stderr",
     "output_type": "stream",
     "text": [
      "/tmp/ipykernel_32075/128050465.py:217: DeprecationWarning: Conversion of an array with ndim > 0 to a scalar is deprecated, and will error in future. Ensure you extract a single element from your array before performing this operation. (Deprecated NumPy 1.25.)\n",
      "  rmse = math.sqrt(rmse)\n"
     ]
    },
    {
     "name": "stdout",
     "output_type": "stream",
     "text": [
      "6.353265465891123\n",
      "testing on : VP\n",
      "<class 'pandas.core.frame.DataFrame'>\n",
      "RangeIndex: 54773 entries, 0 to 54772\n",
      "Data columns (total 13 columns):\n",
      " #   Column         Non-Null Count  Dtype  \n",
      "---  ------         --------------  -----  \n",
      " 0   lcop           54773 non-null  float64\n",
      " 1   rcop           54773 non-null  float64\n",
      " 2   lgrf           54773 non-null  float64\n",
      " 3   rgrf           54773 non-null  float64\n",
      " 4   l_ph_hip       54773 non-null  float64\n",
      " 5   r_ph_hip       54773 non-null  float64\n",
      " 6   st_sw_phase_l  54773 non-null  float64\n",
      " 7   st_sw_phase_r  54773 non-null  float64\n",
      " 8   st_l_l         54773 non-null  float64\n",
      " 9   st_l_r         54773 non-null  float64\n",
      " 10  leg_len        54773 non-null  float64\n",
      " 11  weight         54773 non-null  float64\n",
      " 12  perc           54773 non-null  float64\n",
      "dtypes: float64(13)\n",
      "memory usage: 5.4 MB\n",
      "<class 'pandas.core.frame.DataFrame'>\n",
      "RangeIndex: 54286 entries, 0 to 54285\n",
      "Data columns (total 4 columns):\n",
      " #   Column    Non-Null Count  Dtype  \n",
      "---  ------    --------------  -----  \n",
      " 0   l_ph_hip  54286 non-null  float64\n",
      " 1   r_ph_hip  54286 non-null  float64\n",
      " 2   st_l_l    54286 non-null  float64\n",
      " 3   st_l_r    54286 non-null  float64\n",
      "dtypes: float64(4)\n",
      "memory usage: 1.7 MB\n",
      "validation_x shape (40703, 10, 4)\n",
      "\u001b[1m1272/1272\u001b[0m \u001b[32m━━━━━━━━━━━━━━━━━━━━\u001b[0m\u001b[37m\u001b[0m \u001b[1m20s\u001b[0m 16ms/step\n",
      "(40703, 2)\n",
      "(40703, 2)\n",
      "Precision  1 :  16.389455322703487\n",
      "Precision  2 :  31.388349753089454\n",
      "Precision  3 :  44.88858315111908\n",
      "Precision  4 :  57.12601036778616\n",
      "Precision  5 :  68.1153723312778\n"
     ]
    },
    {
     "name": "stderr",
     "output_type": "stream",
     "text": [
      "/tmp/ipykernel_32075/128050465.py:217: DeprecationWarning: Conversion of an array with ndim > 0 to a scalar is deprecated, and will error in future. Ensure you extract a single element from your array before performing this operation. (Deprecated NumPy 1.25.)\n",
      "  rmse = math.sqrt(rmse)\n"
     ]
    },
    {
     "name": "stdout",
     "output_type": "stream",
     "text": [
      "4.859660166778593\n",
      "Subject combination : ['VP', 'SD', 'PH', 'YC', 'JL', 'JS', 'PK', 'SOE', 'TH', 'SKS', 'VN']\n",
      "All Data Info: \n",
      "<class 'pandas.core.frame.DataFrame'>\n",
      "RangeIndex: 569770 entries, 0 to 569769\n",
      "Data columns (total 13 columns):\n",
      " #   Column         Non-Null Count   Dtype  \n",
      "---  ------         --------------   -----  \n",
      " 0   lcop           569770 non-null  float64\n",
      " 1   rcop           569770 non-null  float64\n",
      " 2   lgrf           569770 non-null  float64\n",
      " 3   rgrf           569770 non-null  float64\n",
      " 4   l_ph_hip       569770 non-null  float64\n",
      " 5   r_ph_hip       569770 non-null  float64\n",
      " 6   st_sw_phase_l  569770 non-null  float64\n",
      " 7   st_sw_phase_r  569770 non-null  float64\n",
      " 8   st_l_l         569770 non-null  float64\n",
      " 9   st_l_r         569770 non-null  float64\n",
      " 10  leg_len        569770 non-null  float64\n",
      " 11  weight         569770 non-null  float64\n",
      " 12  perc           569770 non-null  float64\n",
      "dtypes: float64(13)\n",
      "memory usage: 56.5 MB\n",
      "<class 'pandas.core.frame.DataFrame'>\n",
      "RangeIndex: 569770 entries, 0 to 569769\n",
      "Data columns (total 13 columns):\n",
      " #   Column         Non-Null Count   Dtype  \n",
      "---  ------         --------------   -----  \n",
      " 0   lcop           569770 non-null  float64\n",
      " 1   rcop           569770 non-null  float64\n",
      " 2   lgrf           569770 non-null  float64\n",
      " 3   rgrf           569770 non-null  float64\n",
      " 4   l_ph_hip       569770 non-null  float64\n",
      " 5   r_ph_hip       569770 non-null  float64\n",
      " 6   st_sw_phase_l  569770 non-null  float64\n",
      " 7   st_sw_phase_r  569770 non-null  float64\n",
      " 8   st_l_l         569770 non-null  float64\n",
      " 9   st_l_r         569770 non-null  float64\n",
      " 10  leg_len        569770 non-null  float64\n",
      " 11  weight         569770 non-null  float64\n",
      " 12  perc           569770 non-null  float64\n",
      "dtypes: float64(13)\n",
      "memory usage: 56.5 MB\n",
      "<class 'pandas.core.frame.DataFrame'>\n",
      "RangeIndex: 567047 entries, 0 to 567046\n",
      "Data columns (total 4 columns):\n",
      " #   Column    Non-Null Count   Dtype  \n",
      "---  ------    --------------   -----  \n",
      " 0   l_ph_hip  567047 non-null  float64\n",
      " 1   r_ph_hip  567047 non-null  float64\n",
      " 2   st_l_l    567047 non-null  float64\n",
      " 3   st_l_r    567047 non-null  float64\n",
      "dtypes: float64(4)\n",
      "memory usage: 17.3 MB\n",
      "Nan in train x at indices: []\n",
      "Nan in train y at indices: []\n",
      "(425274, 10, 4)\n",
      "(141751, 10, 4)\n",
      "SSS\n",
      "OKAY till here 1\n"
     ]
    },
    {
     "name": "stderr",
     "output_type": "stream",
     "text": [
      "/home/hikikomori/miniconda3/envs/clean_gait_phase/lib/python3.10/site-packages/keras/src/layers/rnn/rnn.py:205: UserWarning: Do not pass an `input_shape`/`input_dim` argument to a layer. When using Sequential models, prefer using an `Input(shape)` object as the first layer in the model instead.\n",
      "  super().__init__(**kwargs)\n"
     ]
    },
    {
     "data": {
      "text/html": [
       "<pre style=\"white-space:pre;overflow-x:auto;line-height:normal;font-family:Menlo,'DejaVu Sans Mono',consolas,'Courier New',monospace\"><span style=\"font-weight: bold\">Model: \"sequential_1\"</span>\n",
       "</pre>\n"
      ],
      "text/plain": [
       "\u001b[1mModel: \"sequential_1\"\u001b[0m\n"
      ]
     },
     "metadata": {},
     "output_type": "display_data"
    },
    {
     "data": {
      "text/html": [
       "<pre style=\"white-space:pre;overflow-x:auto;line-height:normal;font-family:Menlo,'DejaVu Sans Mono',consolas,'Courier New',monospace\">┏━━━━━━━━━━━━━━━━━━━━━━━━━━━━━━━━━┳━━━━━━━━━━━━━━━━━━━━━━━━━━━┳━━━━━━━━━━━━┓\n",
       "┃<span style=\"font-weight: bold\"> Layer (type)                    </span>┃<span style=\"font-weight: bold\"> Output Shape              </span>┃<span style=\"font-weight: bold\">    Param # </span>┃\n",
       "┡━━━━━━━━━━━━━━━━━━━━━━━━━━━━━━━━━╇━━━━━━━━━━━━━━━━━━━━━━━━━━━╇━━━━━━━━━━━━┩\n",
       "│ lstm_2 (<span style=\"color: #0087ff; text-decoration-color: #0087ff\">LSTM</span>)                   │ (<span style=\"color: #00d7ff; text-decoration-color: #00d7ff\">None</span>, <span style=\"color: #00af00; text-decoration-color: #00af00\">10</span>, <span style=\"color: #00af00; text-decoration-color: #00af00\">64</span>)            │     <span style=\"color: #00af00; text-decoration-color: #00af00\">17,664</span> │\n",
       "├─────────────────────────────────┼───────────────────────────┼────────────┤\n",
       "│ lstm_3 (<span style=\"color: #0087ff; text-decoration-color: #0087ff\">LSTM</span>)                   │ (<span style=\"color: #00d7ff; text-decoration-color: #00d7ff\">None</span>, <span style=\"color: #00af00; text-decoration-color: #00af00\">32</span>)                │     <span style=\"color: #00af00; text-decoration-color: #00af00\">12,416</span> │\n",
       "├─────────────────────────────────┼───────────────────────────┼────────────┤\n",
       "│ dense_1 (<span style=\"color: #0087ff; text-decoration-color: #0087ff\">Dense</span>)                 │ (<span style=\"color: #00d7ff; text-decoration-color: #00d7ff\">None</span>, <span style=\"color: #00af00; text-decoration-color: #00af00\">2</span>)                 │         <span style=\"color: #00af00; text-decoration-color: #00af00\">66</span> │\n",
       "└─────────────────────────────────┴───────────────────────────┴────────────┘\n",
       "</pre>\n"
      ],
      "text/plain": [
       "┏━━━━━━━━━━━━━━━━━━━━━━━━━━━━━━━━━┳━━━━━━━━━━━━━━━━━━━━━━━━━━━┳━━━━━━━━━━━━┓\n",
       "┃\u001b[1m \u001b[0m\u001b[1mLayer (type)                   \u001b[0m\u001b[1m \u001b[0m┃\u001b[1m \u001b[0m\u001b[1mOutput Shape             \u001b[0m\u001b[1m \u001b[0m┃\u001b[1m \u001b[0m\u001b[1m   Param #\u001b[0m\u001b[1m \u001b[0m┃\n",
       "┡━━━━━━━━━━━━━━━━━━━━━━━━━━━━━━━━━╇━━━━━━━━━━━━━━━━━━━━━━━━━━━╇━━━━━━━━━━━━┩\n",
       "│ lstm_2 (\u001b[38;5;33mLSTM\u001b[0m)                   │ (\u001b[38;5;45mNone\u001b[0m, \u001b[38;5;34m10\u001b[0m, \u001b[38;5;34m64\u001b[0m)            │     \u001b[38;5;34m17,664\u001b[0m │\n",
       "├─────────────────────────────────┼───────────────────────────┼────────────┤\n",
       "│ lstm_3 (\u001b[38;5;33mLSTM\u001b[0m)                   │ (\u001b[38;5;45mNone\u001b[0m, \u001b[38;5;34m32\u001b[0m)                │     \u001b[38;5;34m12,416\u001b[0m │\n",
       "├─────────────────────────────────┼───────────────────────────┼────────────┤\n",
       "│ dense_1 (\u001b[38;5;33mDense\u001b[0m)                 │ (\u001b[38;5;45mNone\u001b[0m, \u001b[38;5;34m2\u001b[0m)                 │         \u001b[38;5;34m66\u001b[0m │\n",
       "└─────────────────────────────────┴───────────────────────────┴────────────┘\n"
      ]
     },
     "metadata": {},
     "output_type": "display_data"
    },
    {
     "data": {
      "text/html": [
       "<pre style=\"white-space:pre;overflow-x:auto;line-height:normal;font-family:Menlo,'DejaVu Sans Mono',consolas,'Courier New',monospace\"><span style=\"font-weight: bold\"> Total params: </span><span style=\"color: #00af00; text-decoration-color: #00af00\">30,146</span> (117.76 KB)\n",
       "</pre>\n"
      ],
      "text/plain": [
       "\u001b[1m Total params: \u001b[0m\u001b[38;5;34m30,146\u001b[0m (117.76 KB)\n"
      ]
     },
     "metadata": {},
     "output_type": "display_data"
    },
    {
     "data": {
      "text/html": [
       "<pre style=\"white-space:pre;overflow-x:auto;line-height:normal;font-family:Menlo,'DejaVu Sans Mono',consolas,'Courier New',monospace\"><span style=\"font-weight: bold\"> Trainable params: </span><span style=\"color: #00af00; text-decoration-color: #00af00\">30,146</span> (117.76 KB)\n",
       "</pre>\n"
      ],
      "text/plain": [
       "\u001b[1m Trainable params: \u001b[0m\u001b[38;5;34m30,146\u001b[0m (117.76 KB)\n"
      ]
     },
     "metadata": {},
     "output_type": "display_data"
    },
    {
     "data": {
      "text/html": [
       "<pre style=\"white-space:pre;overflow-x:auto;line-height:normal;font-family:Menlo,'DejaVu Sans Mono',consolas,'Courier New',monospace\"><span style=\"font-weight: bold\"> Non-trainable params: </span><span style=\"color: #00af00; text-decoration-color: #00af00\">0</span> (0.00 B)\n",
       "</pre>\n"
      ],
      "text/plain": [
       "\u001b[1m Non-trainable params: \u001b[0m\u001b[38;5;34m0\u001b[0m (0.00 B)\n"
      ]
     },
     "metadata": {},
     "output_type": "display_data"
    },
    {
     "name": "stdout",
     "output_type": "stream",
     "text": [
      "None\n",
      "Epoch 1/30\n",
      "\u001b[1m13290/13290\u001b[0m \u001b[32m━━━━━━━━━━━━━━━━━━━━\u001b[0m\u001b[37m\u001b[0m \u001b[1m923s\u001b[0m 69ms/step - accuracy: 0.9456 - loss: 0.0374 - mae: 0.1211 - mse: 0.0374\n",
      "Epoch 2/30\n",
      "\u001b[1m13290/13290\u001b[0m \u001b[32m━━━━━━━━━━━━━━━━━━━━\u001b[0m\u001b[37m\u001b[0m \u001b[1m614s\u001b[0m 46ms/step - accuracy: 0.9663 - loss: 0.0146 - mae: 0.0780 - mse: 0.0146\n",
      "Epoch 3/30\n",
      "\u001b[1m13290/13290\u001b[0m \u001b[32m━━━━━━━━━━━━━━━━━━━━\u001b[0m\u001b[37m\u001b[0m \u001b[1m537s\u001b[0m 40ms/step - accuracy: 0.9664 - loss: 0.0142 - mae: 0.0768 - mse: 0.0142\n",
      "Epoch 4/30\n",
      "\u001b[1m13290/13290\u001b[0m \u001b[32m━━━━━━━━━━━━━━━━━━━━\u001b[0m\u001b[37m\u001b[0m \u001b[1m533s\u001b[0m 40ms/step - accuracy: 0.9667 - loss: 0.0142 - mae: 0.0768 - mse: 0.0142\n",
      "Epoch 5/30\n",
      "\u001b[1m13290/13290\u001b[0m \u001b[32m━━━━━━━━━━━━━━━━━━━━\u001b[0m\u001b[37m\u001b[0m \u001b[1m534s\u001b[0m 40ms/step - accuracy: 0.9662 - loss: 0.0142 - mae: 0.0769 - mse: 0.0142\n",
      "Epoch 6/30\n",
      "\u001b[1m13290/13290\u001b[0m \u001b[32m━━━━━━━━━━━━━━━━━━━━\u001b[0m\u001b[37m\u001b[0m \u001b[1m534s\u001b[0m 40ms/step - accuracy: 0.9668 - loss: 0.0144 - mae: 0.0770 - mse: 0.0144\n",
      "Epoch 7/30\n",
      "\u001b[1m13290/13290\u001b[0m \u001b[32m━━━━━━━━━━━━━━━━━━━━\u001b[0m\u001b[37m\u001b[0m \u001b[1m533s\u001b[0m 40ms/step - accuracy: 0.9669 - loss: 0.0143 - mae: 0.0768 - mse: 0.0143\n",
      "Epoch 8/30\n",
      "\u001b[1m13290/13290\u001b[0m \u001b[32m━━━━━━━━━━━━━━━━━━━━\u001b[0m\u001b[37m\u001b[0m \u001b[1m532s\u001b[0m 40ms/step - accuracy: 0.9671 - loss: 0.0143 - mae: 0.0768 - mse: 0.0143\n",
      "Epoch 9/30\n",
      "\u001b[1m13290/13290\u001b[0m \u001b[32m━━━━━━━━━━━━━━━━━━━━\u001b[0m\u001b[37m\u001b[0m \u001b[1m539s\u001b[0m 41ms/step - accuracy: 0.9667 - loss: 0.0144 - mae: 0.0772 - mse: 0.0144\n",
      "Epoch 10/30\n",
      "\u001b[1m13290/13290\u001b[0m \u001b[32m━━━━━━━━━━━━━━━━━━━━\u001b[0m\u001b[37m\u001b[0m \u001b[1m542s\u001b[0m 41ms/step - accuracy: 0.9668 - loss: 0.0142 - mae: 0.0769 - mse: 0.0142\n",
      "Epoch 11/30\n",
      "\u001b[1m13290/13290\u001b[0m \u001b[32m━━━━━━━━━━━━━━━━━━━━\u001b[0m\u001b[37m\u001b[0m \u001b[1m539s\u001b[0m 41ms/step - accuracy: 0.9667 - loss: 0.0144 - mae: 0.0771 - mse: 0.0144\n",
      "Epoch 12/30\n",
      "\u001b[1m13290/13290\u001b[0m \u001b[32m━━━━━━━━━━━━━━━━━━━━\u001b[0m\u001b[37m\u001b[0m \u001b[1m532s\u001b[0m 40ms/step - accuracy: 0.9667 - loss: 0.0143 - mae: 0.0768 - mse: 0.0143\n",
      "Epoch 12: early stopping\n",
      "validation_x shape (141751, 10, 4)\n",
      "\u001b[1m4430/4430\u001b[0m \u001b[32m━━━━━━━━━━━━━━━━━━━━\u001b[0m\u001b[37m\u001b[0m \u001b[1m53s\u001b[0m 12ms/step\n",
      "(141751, 2)\n",
      "(141751, 2)\n",
      "Precision  1 :  17.930032239631466\n",
      "Precision  2 :  33.11369937425486\n",
      "Precision  3 :  44.56758682478431\n",
      "Precision  4 :  53.5968000225748\n",
      "Precision  5 :  60.713504666633746\n"
     ]
    },
    {
     "name": "stderr",
     "output_type": "stream",
     "text": [
      "/tmp/ipykernel_32075/128050465.py:217: DeprecationWarning: Conversion of an array with ndim > 0 to a scalar is deprecated, and will error in future. Ensure you extract a single element from your array before performing this operation. (Deprecated NumPy 1.25.)\n",
      "  rmse = math.sqrt(rmse)\n"
     ]
    },
    {
     "name": "stdout",
     "output_type": "stream",
     "text": [
      "6.130642903844616\n",
      "testing on : AK\n",
      "<class 'pandas.core.frame.DataFrame'>\n",
      "RangeIndex: 57288 entries, 0 to 57287\n",
      "Data columns (total 13 columns):\n",
      " #   Column         Non-Null Count  Dtype  \n",
      "---  ------         --------------  -----  \n",
      " 0   lcop           57288 non-null  float64\n",
      " 1   rcop           57288 non-null  float64\n",
      " 2   lgrf           57288 non-null  float64\n",
      " 3   rgrf           57288 non-null  float64\n",
      " 4   l_ph_hip       57288 non-null  float64\n",
      " 5   r_ph_hip       57288 non-null  float64\n",
      " 6   st_sw_phase_l  57288 non-null  float64\n",
      " 7   st_sw_phase_r  57288 non-null  float64\n",
      " 8   st_l_l         57288 non-null  float64\n",
      " 9   st_l_r         57288 non-null  float64\n",
      " 10  leg_len        57288 non-null  float64\n",
      " 11  weight         57288 non-null  float64\n",
      " 12  perc           57288 non-null  float64\n",
      "dtypes: float64(13)\n",
      "memory usage: 5.7 MB\n",
      "<class 'pandas.core.frame.DataFrame'>\n",
      "RangeIndex: 56821 entries, 0 to 56820\n",
      "Data columns (total 4 columns):\n",
      " #   Column    Non-Null Count  Dtype  \n",
      "---  ------    --------------  -----  \n",
      " 0   l_ph_hip  56821 non-null  float64\n",
      " 1   r_ph_hip  56821 non-null  float64\n",
      " 2   st_l_l    56821 non-null  float64\n",
      " 3   st_l_r    56821 non-null  float64\n",
      "dtypes: float64(4)\n",
      "memory usage: 1.7 MB\n",
      "validation_x shape (42604, 10, 4)\n",
      "\u001b[1m1332/1332\u001b[0m \u001b[32m━━━━━━━━━━━━━━━━━━━━\u001b[0m\u001b[37m\u001b[0m \u001b[1m16s\u001b[0m 12ms/step\n",
      "(42604, 2)\n",
      "(42604, 2)\n",
      "Precision  1 :  22.305417331705943\n",
      "Precision  2 :  39.2944324476575\n",
      "Precision  3 :  51.950521077833066\n",
      "Precision  4 :  61.25950614965731\n",
      "Precision  5 :  68.07107313867243\n",
      "4.777595855329618\n"
     ]
    },
    {
     "name": "stderr",
     "output_type": "stream",
     "text": [
      "/tmp/ipykernel_32075/128050465.py:217: DeprecationWarning: Conversion of an array with ndim > 0 to a scalar is deprecated, and will error in future. Ensure you extract a single element from your array before performing this operation. (Deprecated NumPy 1.25.)\n",
      "  rmse = math.sqrt(rmse)\n"
     ]
    },
    {
     "name": "stdout",
     "output_type": "stream",
     "text": [
      "Subject combination : ['VP', 'AK', 'PH', 'YC', 'JL', 'JS', 'PK', 'SOE', 'TH', 'SKS', 'VN']\n",
      "All Data Info: \n",
      "<class 'pandas.core.frame.DataFrame'>\n",
      "RangeIndex: 579277 entries, 0 to 579276\n",
      "Data columns (total 13 columns):\n",
      " #   Column         Non-Null Count   Dtype  \n",
      "---  ------         --------------   -----  \n",
      " 0   lcop           579277 non-null  float64\n",
      " 1   rcop           579277 non-null  float64\n",
      " 2   lgrf           579277 non-null  float64\n",
      " 3   rgrf           579277 non-null  float64\n",
      " 4   l_ph_hip       579277 non-null  float64\n",
      " 5   r_ph_hip       579277 non-null  float64\n",
      " 6   st_sw_phase_l  579277 non-null  float64\n",
      " 7   st_sw_phase_r  579277 non-null  float64\n",
      " 8   st_l_l         579277 non-null  float64\n",
      " 9   st_l_r         579277 non-null  float64\n",
      " 10  leg_len        579277 non-null  float64\n",
      " 11  weight         579277 non-null  float64\n",
      " 12  perc           579277 non-null  float64\n",
      "dtypes: float64(13)\n",
      "memory usage: 57.5 MB\n",
      "<class 'pandas.core.frame.DataFrame'>\n",
      "RangeIndex: 579277 entries, 0 to 579276\n",
      "Data columns (total 13 columns):\n",
      " #   Column         Non-Null Count   Dtype  \n",
      "---  ------         --------------   -----  \n",
      " 0   lcop           579277 non-null  float64\n",
      " 1   rcop           579277 non-null  float64\n",
      " 2   lgrf           579277 non-null  float64\n",
      " 3   rgrf           579277 non-null  float64\n",
      " 4   l_ph_hip       579277 non-null  float64\n",
      " 5   r_ph_hip       579277 non-null  float64\n",
      " 6   st_sw_phase_l  579277 non-null  float64\n",
      " 7   st_sw_phase_r  579277 non-null  float64\n",
      " 8   st_l_l         579277 non-null  float64\n",
      " 9   st_l_r         579277 non-null  float64\n",
      " 10  leg_len        579277 non-null  float64\n",
      " 11  weight         579277 non-null  float64\n",
      " 12  perc           579277 non-null  float64\n",
      "dtypes: float64(13)\n",
      "memory usage: 57.5 MB\n",
      "<class 'pandas.core.frame.DataFrame'>\n",
      "RangeIndex: 576431 entries, 0 to 576430\n",
      "Data columns (total 4 columns):\n",
      " #   Column    Non-Null Count   Dtype  \n",
      "---  ------    --------------   -----  \n",
      " 0   l_ph_hip  576431 non-null  float64\n",
      " 1   r_ph_hip  576431 non-null  float64\n",
      " 2   st_l_l    576431 non-null  float64\n",
      " 3   st_l_r    576431 non-null  float64\n",
      "dtypes: float64(4)\n",
      "memory usage: 17.6 MB\n",
      "Nan in train x at indices: []\n",
      "Nan in train y at indices: []\n",
      "(432312, 10, 4)\n",
      "(144097, 10, 4)\n",
      "SSS\n",
      "OKAY till here 1\n"
     ]
    },
    {
     "name": "stderr",
     "output_type": "stream",
     "text": [
      "/home/hikikomori/miniconda3/envs/clean_gait_phase/lib/python3.10/site-packages/keras/src/layers/rnn/rnn.py:205: UserWarning: Do not pass an `input_shape`/`input_dim` argument to a layer. When using Sequential models, prefer using an `Input(shape)` object as the first layer in the model instead.\n",
      "  super().__init__(**kwargs)\n"
     ]
    },
    {
     "data": {
      "text/html": [
       "<pre style=\"white-space:pre;overflow-x:auto;line-height:normal;font-family:Menlo,'DejaVu Sans Mono',consolas,'Courier New',monospace\"><span style=\"font-weight: bold\">Model: \"sequential_2\"</span>\n",
       "</pre>\n"
      ],
      "text/plain": [
       "\u001b[1mModel: \"sequential_2\"\u001b[0m\n"
      ]
     },
     "metadata": {},
     "output_type": "display_data"
    },
    {
     "data": {
      "text/html": [
       "<pre style=\"white-space:pre;overflow-x:auto;line-height:normal;font-family:Menlo,'DejaVu Sans Mono',consolas,'Courier New',monospace\">┏━━━━━━━━━━━━━━━━━━━━━━━━━━━━━━━━━┳━━━━━━━━━━━━━━━━━━━━━━━━━━━┳━━━━━━━━━━━━┓\n",
       "┃<span style=\"font-weight: bold\"> Layer (type)                    </span>┃<span style=\"font-weight: bold\"> Output Shape              </span>┃<span style=\"font-weight: bold\">    Param # </span>┃\n",
       "┡━━━━━━━━━━━━━━━━━━━━━━━━━━━━━━━━━╇━━━━━━━━━━━━━━━━━━━━━━━━━━━╇━━━━━━━━━━━━┩\n",
       "│ lstm_4 (<span style=\"color: #0087ff; text-decoration-color: #0087ff\">LSTM</span>)                   │ (<span style=\"color: #00d7ff; text-decoration-color: #00d7ff\">None</span>, <span style=\"color: #00af00; text-decoration-color: #00af00\">10</span>, <span style=\"color: #00af00; text-decoration-color: #00af00\">64</span>)            │     <span style=\"color: #00af00; text-decoration-color: #00af00\">17,664</span> │\n",
       "├─────────────────────────────────┼───────────────────────────┼────────────┤\n",
       "│ lstm_5 (<span style=\"color: #0087ff; text-decoration-color: #0087ff\">LSTM</span>)                   │ (<span style=\"color: #00d7ff; text-decoration-color: #00d7ff\">None</span>, <span style=\"color: #00af00; text-decoration-color: #00af00\">32</span>)                │     <span style=\"color: #00af00; text-decoration-color: #00af00\">12,416</span> │\n",
       "├─────────────────────────────────┼───────────────────────────┼────────────┤\n",
       "│ dense_2 (<span style=\"color: #0087ff; text-decoration-color: #0087ff\">Dense</span>)                 │ (<span style=\"color: #00d7ff; text-decoration-color: #00d7ff\">None</span>, <span style=\"color: #00af00; text-decoration-color: #00af00\">2</span>)                 │         <span style=\"color: #00af00; text-decoration-color: #00af00\">66</span> │\n",
       "└─────────────────────────────────┴───────────────────────────┴────────────┘\n",
       "</pre>\n"
      ],
      "text/plain": [
       "┏━━━━━━━━━━━━━━━━━━━━━━━━━━━━━━━━━┳━━━━━━━━━━━━━━━━━━━━━━━━━━━┳━━━━━━━━━━━━┓\n",
       "┃\u001b[1m \u001b[0m\u001b[1mLayer (type)                   \u001b[0m\u001b[1m \u001b[0m┃\u001b[1m \u001b[0m\u001b[1mOutput Shape             \u001b[0m\u001b[1m \u001b[0m┃\u001b[1m \u001b[0m\u001b[1m   Param #\u001b[0m\u001b[1m \u001b[0m┃\n",
       "┡━━━━━━━━━━━━━━━━━━━━━━━━━━━━━━━━━╇━━━━━━━━━━━━━━━━━━━━━━━━━━━╇━━━━━━━━━━━━┩\n",
       "│ lstm_4 (\u001b[38;5;33mLSTM\u001b[0m)                   │ (\u001b[38;5;45mNone\u001b[0m, \u001b[38;5;34m10\u001b[0m, \u001b[38;5;34m64\u001b[0m)            │     \u001b[38;5;34m17,664\u001b[0m │\n",
       "├─────────────────────────────────┼───────────────────────────┼────────────┤\n",
       "│ lstm_5 (\u001b[38;5;33mLSTM\u001b[0m)                   │ (\u001b[38;5;45mNone\u001b[0m, \u001b[38;5;34m32\u001b[0m)                │     \u001b[38;5;34m12,416\u001b[0m │\n",
       "├─────────────────────────────────┼───────────────────────────┼────────────┤\n",
       "│ dense_2 (\u001b[38;5;33mDense\u001b[0m)                 │ (\u001b[38;5;45mNone\u001b[0m, \u001b[38;5;34m2\u001b[0m)                 │         \u001b[38;5;34m66\u001b[0m │\n",
       "└─────────────────────────────────┴───────────────────────────┴────────────┘\n"
      ]
     },
     "metadata": {},
     "output_type": "display_data"
    },
    {
     "data": {
      "text/html": [
       "<pre style=\"white-space:pre;overflow-x:auto;line-height:normal;font-family:Menlo,'DejaVu Sans Mono',consolas,'Courier New',monospace\"><span style=\"font-weight: bold\"> Total params: </span><span style=\"color: #00af00; text-decoration-color: #00af00\">30,146</span> (117.76 KB)\n",
       "</pre>\n"
      ],
      "text/plain": [
       "\u001b[1m Total params: \u001b[0m\u001b[38;5;34m30,146\u001b[0m (117.76 KB)\n"
      ]
     },
     "metadata": {},
     "output_type": "display_data"
    },
    {
     "data": {
      "text/html": [
       "<pre style=\"white-space:pre;overflow-x:auto;line-height:normal;font-family:Menlo,'DejaVu Sans Mono',consolas,'Courier New',monospace\"><span style=\"font-weight: bold\"> Trainable params: </span><span style=\"color: #00af00; text-decoration-color: #00af00\">30,146</span> (117.76 KB)\n",
       "</pre>\n"
      ],
      "text/plain": [
       "\u001b[1m Trainable params: \u001b[0m\u001b[38;5;34m30,146\u001b[0m (117.76 KB)\n"
      ]
     },
     "metadata": {},
     "output_type": "display_data"
    },
    {
     "data": {
      "text/html": [
       "<pre style=\"white-space:pre;overflow-x:auto;line-height:normal;font-family:Menlo,'DejaVu Sans Mono',consolas,'Courier New',monospace\"><span style=\"font-weight: bold\"> Non-trainable params: </span><span style=\"color: #00af00; text-decoration-color: #00af00\">0</span> (0.00 B)\n",
       "</pre>\n"
      ],
      "text/plain": [
       "\u001b[1m Non-trainable params: \u001b[0m\u001b[38;5;34m0\u001b[0m (0.00 B)\n"
      ]
     },
     "metadata": {},
     "output_type": "display_data"
    },
    {
     "name": "stdout",
     "output_type": "stream",
     "text": [
      "None\n",
      "Epoch 1/30\n",
      "\u001b[1m13510/13510\u001b[0m \u001b[32m━━━━━━━━━━━━━━━━━━━━\u001b[0m\u001b[37m\u001b[0m \u001b[1m541s\u001b[0m 40ms/step - accuracy: 0.9442 - loss: 0.0402 - mae: 0.1252 - mse: 0.0402\n",
      "Epoch 2/30\n",
      "\u001b[1m13510/13510\u001b[0m \u001b[32m━━━━━━━━━━━━━━━━━━━━\u001b[0m\u001b[37m\u001b[0m \u001b[1m539s\u001b[0m 40ms/step - accuracy: 0.9670 - loss: 0.0148 - mae: 0.0778 - mse: 0.0148\n",
      "Epoch 3/30\n",
      "\u001b[1m13510/13510\u001b[0m \u001b[32m━━━━━━━━━━━━━━━━━━━━\u001b[0m\u001b[37m\u001b[0m \u001b[1m537s\u001b[0m 40ms/step - accuracy: 0.9664 - loss: 0.0146 - mae: 0.0772 - mse: 0.0146\n",
      "Epoch 4/30\n",
      "\u001b[1m13510/13510\u001b[0m \u001b[32m━━━━━━━━━━━━━━━━━━━━\u001b[0m\u001b[37m\u001b[0m \u001b[1m536s\u001b[0m 40ms/step - accuracy: 0.9665 - loss: 0.0145 - mae: 0.0769 - mse: 0.0145\n",
      "Epoch 5/30\n",
      "\u001b[1m13510/13510\u001b[0m \u001b[32m━━━━━━━━━━━━━━━━━━━━\u001b[0m\u001b[37m\u001b[0m \u001b[1m536s\u001b[0m 40ms/step - accuracy: 0.9669 - loss: 0.0145 - mae: 0.0770 - mse: 0.0145\n",
      "Epoch 6/30\n",
      "\u001b[1m13510/13510\u001b[0m \u001b[32m━━━━━━━━━━━━━━━━━━━━\u001b[0m\u001b[37m\u001b[0m \u001b[1m545s\u001b[0m 40ms/step - accuracy: 0.9665 - loss: 0.0145 - mae: 0.0769 - mse: 0.0145\n",
      "Epoch 7/30\n",
      "\u001b[1m13510/13510\u001b[0m \u001b[32m━━━━━━━━━━━━━━━━━━━━\u001b[0m\u001b[37m\u001b[0m \u001b[1m546s\u001b[0m 40ms/step - accuracy: 0.9670 - loss: 0.0142 - mae: 0.0765 - mse: 0.0142\n",
      "Epoch 8/30\n",
      "\u001b[1m13510/13510\u001b[0m \u001b[32m━━━━━━━━━━━━━━━━━━━━\u001b[0m\u001b[37m\u001b[0m \u001b[1m548s\u001b[0m 41ms/step - accuracy: 0.9674 - loss: 0.0147 - mae: 0.0772 - mse: 0.0147\n",
      "Epoch 9/30\n",
      "\u001b[1m13510/13510\u001b[0m \u001b[32m━━━━━━━━━━━━━━━━━━━━\u001b[0m\u001b[37m\u001b[0m \u001b[1m547s\u001b[0m 41ms/step - accuracy: 0.9666 - loss: 0.0146 - mae: 0.0769 - mse: 0.0146\n",
      "Epoch 10/30\n",
      "\u001b[1m13510/13510\u001b[0m \u001b[32m━━━━━━━━━━━━━━━━━━━━\u001b[0m\u001b[37m\u001b[0m \u001b[1m547s\u001b[0m 41ms/step - accuracy: 0.9666 - loss: 0.0145 - mae: 0.0769 - mse: 0.0145\n",
      "Epoch 11/30\n",
      "\u001b[1m13510/13510\u001b[0m \u001b[32m━━━━━━━━━━━━━━━━━━━━\u001b[0m\u001b[37m\u001b[0m \u001b[1m549s\u001b[0m 41ms/step - accuracy: 0.9668 - loss: 0.0145 - mae: 0.0767 - mse: 0.0145\n",
      "Epoch 12/30\n",
      "\u001b[1m13510/13510\u001b[0m \u001b[32m━━━━━━━━━━━━━━━━━━━━\u001b[0m\u001b[37m\u001b[0m \u001b[1m547s\u001b[0m 40ms/step - accuracy: 0.9671 - loss: 0.0144 - mae: 0.0766 - mse: 0.0144\n",
      "Epoch 12: early stopping\n",
      "validation_x shape (144097, 10, 4)\n",
      "\u001b[1m4504/4504\u001b[0m \u001b[32m━━━━━━━━━━━━━━━━━━━━\u001b[0m\u001b[37m\u001b[0m \u001b[1m53s\u001b[0m 12ms/step\n",
      "(144097, 2)\n",
      "(144097, 2)\n",
      "Precision  1 :  15.267493424568173\n",
      "Precision  2 :  28.893731305995267\n",
      "Precision  3 :  40.09313170988987\n",
      "Precision  4 :  48.4860892315593\n",
      "Precision  5 :  55.29677925286439\n"
     ]
    },
    {
     "name": "stderr",
     "output_type": "stream",
     "text": [
      "/tmp/ipykernel_32075/128050465.py:217: DeprecationWarning: Conversion of an array with ndim > 0 to a scalar is deprecated, and will error in future. Ensure you extract a single element from your array before performing this operation. (Deprecated NumPy 1.25.)\n",
      "  rmse = math.sqrt(rmse)\n"
     ]
    },
    {
     "name": "stdout",
     "output_type": "stream",
     "text": [
      "6.838364070552977\n",
      "testing on : SD\n",
      "<class 'pandas.core.frame.DataFrame'>\n",
      "RangeIndex: 47781 entries, 0 to 47780\n",
      "Data columns (total 13 columns):\n",
      " #   Column         Non-Null Count  Dtype  \n",
      "---  ------         --------------  -----  \n",
      " 0   lcop           47781 non-null  float64\n",
      " 1   rcop           47781 non-null  float64\n",
      " 2   lgrf           47781 non-null  float64\n",
      " 3   rgrf           47781 non-null  float64\n",
      " 4   l_ph_hip       47781 non-null  float64\n",
      " 5   r_ph_hip       47781 non-null  float64\n",
      " 6   st_sw_phase_l  47781 non-null  float64\n",
      " 7   st_sw_phase_r  47781 non-null  float64\n",
      " 8   st_l_l         47781 non-null  float64\n",
      " 9   st_l_r         47781 non-null  float64\n",
      " 10  leg_len        47781 non-null  float64\n",
      " 11  weight         47781 non-null  float64\n",
      " 12  perc           47781 non-null  float64\n",
      "dtypes: float64(13)\n",
      "memory usage: 4.7 MB\n",
      "<class 'pandas.core.frame.DataFrame'>\n",
      "RangeIndex: 47365 entries, 0 to 47364\n",
      "Data columns (total 4 columns):\n",
      " #   Column    Non-Null Count  Dtype  \n",
      "---  ------    --------------  -----  \n",
      " 0   l_ph_hip  47365 non-null  float64\n",
      " 1   r_ph_hip  47365 non-null  float64\n",
      " 2   st_l_l    47365 non-null  float64\n",
      " 3   st_l_r    47365 non-null  float64\n",
      "dtypes: float64(4)\n",
      "memory usage: 1.4 MB\n",
      "validation_x shape (35512, 10, 4)\n",
      "\u001b[1m1110/1110\u001b[0m \u001b[32m━━━━━━━━━━━━━━━━━━━━\u001b[0m\u001b[37m\u001b[0m \u001b[1m13s\u001b[0m 12ms/step\n",
      "(35512, 2)\n",
      "(35512, 2)\n",
      "Precision  1 :  2.9173237215589096\n",
      "Precision  2 :  9.58267627844109\n",
      "Precision  3 :  21.350529398513178\n",
      "Precision  4 :  34.081437260644286\n",
      "Precision  5 :  45.03548096418112\n",
      "7.296786638526262\n"
     ]
    },
    {
     "name": "stderr",
     "output_type": "stream",
     "text": [
      "/tmp/ipykernel_32075/128050465.py:217: DeprecationWarning: Conversion of an array with ndim > 0 to a scalar is deprecated, and will error in future. Ensure you extract a single element from your array before performing this operation. (Deprecated NumPy 1.25.)\n",
      "  rmse = math.sqrt(rmse)\n"
     ]
    },
    {
     "name": "stdout",
     "output_type": "stream",
     "text": [
      "Subject combination : ['VP', 'AK', 'SD', 'YC', 'JL', 'JS', 'PK', 'SOE', 'TH', 'SKS', 'VN']\n",
      "All Data Info: \n",
      "<class 'pandas.core.frame.DataFrame'>\n",
      "RangeIndex: 567615 entries, 0 to 567614\n",
      "Data columns (total 13 columns):\n",
      " #   Column         Non-Null Count   Dtype  \n",
      "---  ------         --------------   -----  \n",
      " 0   lcop           567615 non-null  float64\n",
      " 1   rcop           567615 non-null  float64\n",
      " 2   lgrf           567615 non-null  float64\n",
      " 3   rgrf           567615 non-null  float64\n",
      " 4   l_ph_hip       567615 non-null  float64\n",
      " 5   r_ph_hip       567615 non-null  float64\n",
      " 6   st_sw_phase_l  567615 non-null  float64\n",
      " 7   st_sw_phase_r  567615 non-null  float64\n",
      " 8   st_l_l         567615 non-null  float64\n",
      " 9   st_l_r         567615 non-null  float64\n",
      " 10  leg_len        567615 non-null  float64\n",
      " 11  weight         567615 non-null  float64\n",
      " 12  perc           567615 non-null  float64\n",
      "dtypes: float64(13)\n",
      "memory usage: 56.3 MB\n",
      "<class 'pandas.core.frame.DataFrame'>\n",
      "RangeIndex: 567615 entries, 0 to 567614\n",
      "Data columns (total 13 columns):\n",
      " #   Column         Non-Null Count   Dtype  \n",
      "---  ------         --------------   -----  \n",
      " 0   lcop           567615 non-null  float64\n",
      " 1   rcop           567615 non-null  float64\n",
      " 2   lgrf           567615 non-null  float64\n",
      " 3   rgrf           567615 non-null  float64\n",
      " 4   l_ph_hip       567615 non-null  float64\n",
      " 5   r_ph_hip       567615 non-null  float64\n",
      " 6   st_sw_phase_l  567615 non-null  float64\n",
      " 7   st_sw_phase_r  567615 non-null  float64\n",
      " 8   st_l_l         567615 non-null  float64\n",
      " 9   st_l_r         567615 non-null  float64\n",
      " 10  leg_len        567615 non-null  float64\n",
      " 11  weight         567615 non-null  float64\n",
      " 12  perc           567615 non-null  float64\n",
      "dtypes: float64(13)\n",
      "memory usage: 56.3 MB\n",
      "<class 'pandas.core.frame.DataFrame'>\n",
      "RangeIndex: 564915 entries, 0 to 564914\n",
      "Data columns (total 4 columns):\n",
      " #   Column    Non-Null Count   Dtype  \n",
      "---  ------    --------------   -----  \n",
      " 0   l_ph_hip  564915 non-null  float64\n",
      " 1   r_ph_hip  564915 non-null  float64\n",
      " 2   st_l_l    564915 non-null  float64\n",
      " 3   st_l_r    564915 non-null  float64\n",
      "dtypes: float64(4)\n",
      "memory usage: 17.2 MB\n",
      "Nan in train x at indices: []\n",
      "Nan in train y at indices: []\n",
      "(423675, 10, 4)\n",
      "(141218, 10, 4)\n",
      "SSS\n",
      "OKAY till here 1\n"
     ]
    },
    {
     "name": "stderr",
     "output_type": "stream",
     "text": [
      "/home/hikikomori/miniconda3/envs/clean_gait_phase/lib/python3.10/site-packages/keras/src/layers/rnn/rnn.py:205: UserWarning: Do not pass an `input_shape`/`input_dim` argument to a layer. When using Sequential models, prefer using an `Input(shape)` object as the first layer in the model instead.\n",
      "  super().__init__(**kwargs)\n"
     ]
    },
    {
     "data": {
      "text/html": [
       "<pre style=\"white-space:pre;overflow-x:auto;line-height:normal;font-family:Menlo,'DejaVu Sans Mono',consolas,'Courier New',monospace\"><span style=\"font-weight: bold\">Model: \"sequential_3\"</span>\n",
       "</pre>\n"
      ],
      "text/plain": [
       "\u001b[1mModel: \"sequential_3\"\u001b[0m\n"
      ]
     },
     "metadata": {},
     "output_type": "display_data"
    },
    {
     "data": {
      "text/html": [
       "<pre style=\"white-space:pre;overflow-x:auto;line-height:normal;font-family:Menlo,'DejaVu Sans Mono',consolas,'Courier New',monospace\">┏━━━━━━━━━━━━━━━━━━━━━━━━━━━━━━━━━┳━━━━━━━━━━━━━━━━━━━━━━━━━━━┳━━━━━━━━━━━━┓\n",
       "┃<span style=\"font-weight: bold\"> Layer (type)                    </span>┃<span style=\"font-weight: bold\"> Output Shape              </span>┃<span style=\"font-weight: bold\">    Param # </span>┃\n",
       "┡━━━━━━━━━━━━━━━━━━━━━━━━━━━━━━━━━╇━━━━━━━━━━━━━━━━━━━━━━━━━━━╇━━━━━━━━━━━━┩\n",
       "│ lstm_6 (<span style=\"color: #0087ff; text-decoration-color: #0087ff\">LSTM</span>)                   │ (<span style=\"color: #00d7ff; text-decoration-color: #00d7ff\">None</span>, <span style=\"color: #00af00; text-decoration-color: #00af00\">10</span>, <span style=\"color: #00af00; text-decoration-color: #00af00\">64</span>)            │     <span style=\"color: #00af00; text-decoration-color: #00af00\">17,664</span> │\n",
       "├─────────────────────────────────┼───────────────────────────┼────────────┤\n",
       "│ lstm_7 (<span style=\"color: #0087ff; text-decoration-color: #0087ff\">LSTM</span>)                   │ (<span style=\"color: #00d7ff; text-decoration-color: #00d7ff\">None</span>, <span style=\"color: #00af00; text-decoration-color: #00af00\">32</span>)                │     <span style=\"color: #00af00; text-decoration-color: #00af00\">12,416</span> │\n",
       "├─────────────────────────────────┼───────────────────────────┼────────────┤\n",
       "│ dense_3 (<span style=\"color: #0087ff; text-decoration-color: #0087ff\">Dense</span>)                 │ (<span style=\"color: #00d7ff; text-decoration-color: #00d7ff\">None</span>, <span style=\"color: #00af00; text-decoration-color: #00af00\">2</span>)                 │         <span style=\"color: #00af00; text-decoration-color: #00af00\">66</span> │\n",
       "└─────────────────────────────────┴───────────────────────────┴────────────┘\n",
       "</pre>\n"
      ],
      "text/plain": [
       "┏━━━━━━━━━━━━━━━━━━━━━━━━━━━━━━━━━┳━━━━━━━━━━━━━━━━━━━━━━━━━━━┳━━━━━━━━━━━━┓\n",
       "┃\u001b[1m \u001b[0m\u001b[1mLayer (type)                   \u001b[0m\u001b[1m \u001b[0m┃\u001b[1m \u001b[0m\u001b[1mOutput Shape             \u001b[0m\u001b[1m \u001b[0m┃\u001b[1m \u001b[0m\u001b[1m   Param #\u001b[0m\u001b[1m \u001b[0m┃\n",
       "┡━━━━━━━━━━━━━━━━━━━━━━━━━━━━━━━━━╇━━━━━━━━━━━━━━━━━━━━━━━━━━━╇━━━━━━━━━━━━┩\n",
       "│ lstm_6 (\u001b[38;5;33mLSTM\u001b[0m)                   │ (\u001b[38;5;45mNone\u001b[0m, \u001b[38;5;34m10\u001b[0m, \u001b[38;5;34m64\u001b[0m)            │     \u001b[38;5;34m17,664\u001b[0m │\n",
       "├─────────────────────────────────┼───────────────────────────┼────────────┤\n",
       "│ lstm_7 (\u001b[38;5;33mLSTM\u001b[0m)                   │ (\u001b[38;5;45mNone\u001b[0m, \u001b[38;5;34m32\u001b[0m)                │     \u001b[38;5;34m12,416\u001b[0m │\n",
       "├─────────────────────────────────┼───────────────────────────┼────────────┤\n",
       "│ dense_3 (\u001b[38;5;33mDense\u001b[0m)                 │ (\u001b[38;5;45mNone\u001b[0m, \u001b[38;5;34m2\u001b[0m)                 │         \u001b[38;5;34m66\u001b[0m │\n",
       "└─────────────────────────────────┴───────────────────────────┴────────────┘\n"
      ]
     },
     "metadata": {},
     "output_type": "display_data"
    },
    {
     "data": {
      "text/html": [
       "<pre style=\"white-space:pre;overflow-x:auto;line-height:normal;font-family:Menlo,'DejaVu Sans Mono',consolas,'Courier New',monospace\"><span style=\"font-weight: bold\"> Total params: </span><span style=\"color: #00af00; text-decoration-color: #00af00\">30,146</span> (117.76 KB)\n",
       "</pre>\n"
      ],
      "text/plain": [
       "\u001b[1m Total params: \u001b[0m\u001b[38;5;34m30,146\u001b[0m (117.76 KB)\n"
      ]
     },
     "metadata": {},
     "output_type": "display_data"
    },
    {
     "data": {
      "text/html": [
       "<pre style=\"white-space:pre;overflow-x:auto;line-height:normal;font-family:Menlo,'DejaVu Sans Mono',consolas,'Courier New',monospace\"><span style=\"font-weight: bold\"> Trainable params: </span><span style=\"color: #00af00; text-decoration-color: #00af00\">30,146</span> (117.76 KB)\n",
       "</pre>\n"
      ],
      "text/plain": [
       "\u001b[1m Trainable params: \u001b[0m\u001b[38;5;34m30,146\u001b[0m (117.76 KB)\n"
      ]
     },
     "metadata": {},
     "output_type": "display_data"
    },
    {
     "data": {
      "text/html": [
       "<pre style=\"white-space:pre;overflow-x:auto;line-height:normal;font-family:Menlo,'DejaVu Sans Mono',consolas,'Courier New',monospace\"><span style=\"font-weight: bold\"> Non-trainable params: </span><span style=\"color: #00af00; text-decoration-color: #00af00\">0</span> (0.00 B)\n",
       "</pre>\n"
      ],
      "text/plain": [
       "\u001b[1m Non-trainable params: \u001b[0m\u001b[38;5;34m0\u001b[0m (0.00 B)\n"
      ]
     },
     "metadata": {},
     "output_type": "display_data"
    },
    {
     "name": "stdout",
     "output_type": "stream",
     "text": [
      "None\n",
      "Epoch 1/30\n",
      "\u001b[1m13240/13240\u001b[0m \u001b[32m━━━━━━━━━━━━━━━━━━━━\u001b[0m\u001b[37m\u001b[0m \u001b[1m534s\u001b[0m 40ms/step - accuracy: 0.9442 - loss: 0.0414 - mae: 0.1281 - mse: 0.0414\n",
      "Epoch 2/30\n",
      "\u001b[1m13240/13240\u001b[0m \u001b[32m━━━━━━━━━━━━━━━━━━━━\u001b[0m\u001b[37m\u001b[0m \u001b[1m548s\u001b[0m 41ms/step - accuracy: 0.9657 - loss: 0.0158 - mae: 0.0807 - mse: 0.0158\n",
      "Epoch 3/30\n",
      "\u001b[1m13240/13240\u001b[0m \u001b[32m━━━━━━━━━━━━━━━━━━━━\u001b[0m\u001b[37m\u001b[0m \u001b[1m537s\u001b[0m 41ms/step - accuracy: 0.9660 - loss: 0.0153 - mae: 0.0797 - mse: 0.0153\n",
      "Epoch 4/30\n",
      "\u001b[1m13240/13240\u001b[0m \u001b[32m━━━━━━━━━━━━━━━━━━━━\u001b[0m\u001b[37m\u001b[0m \u001b[1m532s\u001b[0m 40ms/step - accuracy: 0.9655 - loss: 0.0156 - mae: 0.0800 - mse: 0.0156\n",
      "Epoch 5/30\n",
      "\u001b[1m13240/13240\u001b[0m \u001b[32m━━━━━━━━━━━━━━━━━━━━\u001b[0m\u001b[37m\u001b[0m \u001b[1m532s\u001b[0m 40ms/step - accuracy: 0.9659 - loss: 0.0154 - mae: 0.0798 - mse: 0.0154\n",
      "Epoch 6/30\n",
      "\u001b[1m13240/13240\u001b[0m \u001b[32m━━━━━━━━━━━━━━━━━━━━\u001b[0m\u001b[37m\u001b[0m \u001b[1m530s\u001b[0m 40ms/step - accuracy: 0.9659 - loss: 0.0154 - mae: 0.0798 - mse: 0.0154\n",
      "Epoch 7/30\n",
      "\u001b[1m13240/13240\u001b[0m \u001b[32m━━━━━━━━━━━━━━━━━━━━\u001b[0m\u001b[37m\u001b[0m \u001b[1m541s\u001b[0m 41ms/step - accuracy: 0.9663 - loss: 0.0152 - mae: 0.0796 - mse: 0.0152\n",
      "Epoch 8/30\n",
      "\u001b[1m13240/13240\u001b[0m \u001b[32m━━━━━━━━━━━━━━━━━━━━\u001b[0m\u001b[37m\u001b[0m \u001b[1m541s\u001b[0m 41ms/step - accuracy: 0.9666 - loss: 0.0152 - mae: 0.0794 - mse: 0.0152\n",
      "Epoch 8: early stopping\n",
      "validation_x shape (141218, 10, 4)\n",
      "\u001b[1m4414/4414\u001b[0m \u001b[32m━━━━━━━━━━━━━━━━━━━━\u001b[0m\u001b[37m\u001b[0m \u001b[1m52s\u001b[0m 12ms/step\n",
      "(141218, 2)\n",
      "(141218, 2)\n",
      "Precision  1 :  15.228936821085131\n",
      "Precision  2 :  28.8851279581923\n",
      "Precision  3 :  40.17972213173958\n",
      "Precision  4 :  49.4795281054823\n",
      "Precision  5 :  57.722103414578875\n"
     ]
    },
    {
     "name": "stderr",
     "output_type": "stream",
     "text": [
      "/tmp/ipykernel_32075/128050465.py:217: DeprecationWarning: Conversion of an array with ndim > 0 to a scalar is deprecated, and will error in future. Ensure you extract a single element from your array before performing this operation. (Deprecated NumPy 1.25.)\n",
      "  rmse = math.sqrt(rmse)\n"
     ]
    },
    {
     "name": "stdout",
     "output_type": "stream",
     "text": [
      "6.228728480897723\n",
      "testing on : PH\n",
      "<class 'pandas.core.frame.DataFrame'>\n",
      "RangeIndex: 59443 entries, 0 to 59442\n",
      "Data columns (total 13 columns):\n",
      " #   Column         Non-Null Count  Dtype  \n",
      "---  ------         --------------  -----  \n",
      " 0   lcop           59443 non-null  float64\n",
      " 1   rcop           59443 non-null  float64\n",
      " 2   lgrf           59443 non-null  float64\n",
      " 3   rgrf           59443 non-null  float64\n",
      " 4   l_ph_hip       59443 non-null  float64\n",
      " 5   r_ph_hip       59443 non-null  float64\n",
      " 6   st_sw_phase_l  59443 non-null  float64\n",
      " 7   st_sw_phase_r  59443 non-null  float64\n",
      " 8   st_l_l         59443 non-null  float64\n",
      " 9   st_l_r         59443 non-null  float64\n",
      " 10  leg_len        59443 non-null  float64\n",
      " 11  weight         59443 non-null  float64\n",
      " 12  perc           59443 non-null  float64\n",
      "dtypes: float64(13)\n",
      "memory usage: 5.9 MB\n",
      "<class 'pandas.core.frame.DataFrame'>\n",
      "RangeIndex: 58909 entries, 0 to 58908\n",
      "Data columns (total 4 columns):\n",
      " #   Column    Non-Null Count  Dtype  \n",
      "---  ------    --------------  -----  \n",
      " 0   l_ph_hip  58909 non-null  float64\n",
      " 1   r_ph_hip  58909 non-null  float64\n",
      " 2   st_l_l    58909 non-null  float64\n",
      " 3   st_l_r    58909 non-null  float64\n",
      "dtypes: float64(4)\n",
      "memory usage: 1.8 MB\n",
      "validation_x shape (44170, 10, 4)\n",
      "\u001b[1m1381/1381\u001b[0m \u001b[32m━━━━━━━━━━━━━━━━━━━━\u001b[0m\u001b[37m\u001b[0m \u001b[1m16s\u001b[0m 12ms/step\n",
      "(44170, 2)\n",
      "(44170, 2)\n",
      "Precision  1 :  14.265338465021507\n",
      "Precision  2 :  30.29884537016074\n",
      "Precision  3 :  42.73488793298619\n",
      "Precision  4 :  51.72288883857822\n",
      "Precision  5 :  58.037129273262394\n",
      "6.134773141394972\n"
     ]
    },
    {
     "name": "stderr",
     "output_type": "stream",
     "text": [
      "/tmp/ipykernel_32075/128050465.py:217: DeprecationWarning: Conversion of an array with ndim > 0 to a scalar is deprecated, and will error in future. Ensure you extract a single element from your array before performing this operation. (Deprecated NumPy 1.25.)\n",
      "  rmse = math.sqrt(rmse)\n"
     ]
    },
    {
     "name": "stdout",
     "output_type": "stream",
     "text": [
      "Subject combination : ['VP', 'AK', 'SD', 'PH', 'JL', 'JS', 'PK', 'SOE', 'TH', 'SKS', 'VN']\n",
      "All Data Info: \n",
      "<class 'pandas.core.frame.DataFrame'>\n",
      "RangeIndex: 577457 entries, 0 to 577456\n",
      "Data columns (total 13 columns):\n",
      " #   Column         Non-Null Count   Dtype  \n",
      "---  ------         --------------   -----  \n",
      " 0   lcop           577457 non-null  float64\n",
      " 1   rcop           577457 non-null  float64\n",
      " 2   lgrf           577457 non-null  float64\n",
      " 3   rgrf           577457 non-null  float64\n",
      " 4   l_ph_hip       577457 non-null  float64\n",
      " 5   r_ph_hip       577457 non-null  float64\n",
      " 6   st_sw_phase_l  577457 non-null  float64\n",
      " 7   st_sw_phase_r  577457 non-null  float64\n",
      " 8   st_l_l         577457 non-null  float64\n",
      " 9   st_l_r         577457 non-null  float64\n",
      " 10  leg_len        577457 non-null  float64\n",
      " 11  weight         577457 non-null  float64\n",
      " 12  perc           577457 non-null  float64\n",
      "dtypes: float64(13)\n",
      "memory usage: 57.3 MB\n",
      "<class 'pandas.core.frame.DataFrame'>\n",
      "RangeIndex: 577457 entries, 0 to 577456\n",
      "Data columns (total 13 columns):\n",
      " #   Column         Non-Null Count   Dtype  \n",
      "---  ------         --------------   -----  \n",
      " 0   lcop           577457 non-null  float64\n",
      " 1   rcop           577457 non-null  float64\n",
      " 2   lgrf           577457 non-null  float64\n",
      " 3   rgrf           577457 non-null  float64\n",
      " 4   l_ph_hip       577457 non-null  float64\n",
      " 5   r_ph_hip       577457 non-null  float64\n",
      " 6   st_sw_phase_l  577457 non-null  float64\n",
      " 7   st_sw_phase_r  577457 non-null  float64\n",
      " 8   st_l_l         577457 non-null  float64\n",
      " 9   st_l_r         577457 non-null  float64\n",
      " 10  leg_len        577457 non-null  float64\n",
      " 11  weight         577457 non-null  float64\n",
      " 12  perc           577457 non-null  float64\n",
      "dtypes: float64(13)\n",
      "memory usage: 57.3 MB\n",
      "<class 'pandas.core.frame.DataFrame'>\n",
      "RangeIndex: 574711 entries, 0 to 574710\n",
      "Data columns (total 4 columns):\n",
      " #   Column    Non-Null Count   Dtype  \n",
      "---  ------    --------------   -----  \n",
      " 0   l_ph_hip  574711 non-null  float64\n",
      " 1   r_ph_hip  574711 non-null  float64\n",
      " 2   st_l_l    574711 non-null  float64\n",
      " 3   st_l_r    574711 non-null  float64\n",
      "dtypes: float64(4)\n",
      "memory usage: 17.5 MB\n",
      "Nan in train x at indices: []\n",
      "Nan in train y at indices: []\n",
      "(431022, 10, 4)\n",
      "(143667, 10, 4)\n",
      "SSS\n",
      "OKAY till here 1\n"
     ]
    },
    {
     "name": "stderr",
     "output_type": "stream",
     "text": [
      "/home/hikikomori/miniconda3/envs/clean_gait_phase/lib/python3.10/site-packages/keras/src/layers/rnn/rnn.py:205: UserWarning: Do not pass an `input_shape`/`input_dim` argument to a layer. When using Sequential models, prefer using an `Input(shape)` object as the first layer in the model instead.\n",
      "  super().__init__(**kwargs)\n"
     ]
    },
    {
     "data": {
      "text/html": [
       "<pre style=\"white-space:pre;overflow-x:auto;line-height:normal;font-family:Menlo,'DejaVu Sans Mono',consolas,'Courier New',monospace\"><span style=\"font-weight: bold\">Model: \"sequential_4\"</span>\n",
       "</pre>\n"
      ],
      "text/plain": [
       "\u001b[1mModel: \"sequential_4\"\u001b[0m\n"
      ]
     },
     "metadata": {},
     "output_type": "display_data"
    },
    {
     "data": {
      "text/html": [
       "<pre style=\"white-space:pre;overflow-x:auto;line-height:normal;font-family:Menlo,'DejaVu Sans Mono',consolas,'Courier New',monospace\">┏━━━━━━━━━━━━━━━━━━━━━━━━━━━━━━━━━┳━━━━━━━━━━━━━━━━━━━━━━━━━━━┳━━━━━━━━━━━━┓\n",
       "┃<span style=\"font-weight: bold\"> Layer (type)                    </span>┃<span style=\"font-weight: bold\"> Output Shape              </span>┃<span style=\"font-weight: bold\">    Param # </span>┃\n",
       "┡━━━━━━━━━━━━━━━━━━━━━━━━━━━━━━━━━╇━━━━━━━━━━━━━━━━━━━━━━━━━━━╇━━━━━━━━━━━━┩\n",
       "│ lstm_8 (<span style=\"color: #0087ff; text-decoration-color: #0087ff\">LSTM</span>)                   │ (<span style=\"color: #00d7ff; text-decoration-color: #00d7ff\">None</span>, <span style=\"color: #00af00; text-decoration-color: #00af00\">10</span>, <span style=\"color: #00af00; text-decoration-color: #00af00\">64</span>)            │     <span style=\"color: #00af00; text-decoration-color: #00af00\">17,664</span> │\n",
       "├─────────────────────────────────┼───────────────────────────┼────────────┤\n",
       "│ lstm_9 (<span style=\"color: #0087ff; text-decoration-color: #0087ff\">LSTM</span>)                   │ (<span style=\"color: #00d7ff; text-decoration-color: #00d7ff\">None</span>, <span style=\"color: #00af00; text-decoration-color: #00af00\">32</span>)                │     <span style=\"color: #00af00; text-decoration-color: #00af00\">12,416</span> │\n",
       "├─────────────────────────────────┼───────────────────────────┼────────────┤\n",
       "│ dense_4 (<span style=\"color: #0087ff; text-decoration-color: #0087ff\">Dense</span>)                 │ (<span style=\"color: #00d7ff; text-decoration-color: #00d7ff\">None</span>, <span style=\"color: #00af00; text-decoration-color: #00af00\">2</span>)                 │         <span style=\"color: #00af00; text-decoration-color: #00af00\">66</span> │\n",
       "└─────────────────────────────────┴───────────────────────────┴────────────┘\n",
       "</pre>\n"
      ],
      "text/plain": [
       "┏━━━━━━━━━━━━━━━━━━━━━━━━━━━━━━━━━┳━━━━━━━━━━━━━━━━━━━━━━━━━━━┳━━━━━━━━━━━━┓\n",
       "┃\u001b[1m \u001b[0m\u001b[1mLayer (type)                   \u001b[0m\u001b[1m \u001b[0m┃\u001b[1m \u001b[0m\u001b[1mOutput Shape             \u001b[0m\u001b[1m \u001b[0m┃\u001b[1m \u001b[0m\u001b[1m   Param #\u001b[0m\u001b[1m \u001b[0m┃\n",
       "┡━━━━━━━━━━━━━━━━━━━━━━━━━━━━━━━━━╇━━━━━━━━━━━━━━━━━━━━━━━━━━━╇━━━━━━━━━━━━┩\n",
       "│ lstm_8 (\u001b[38;5;33mLSTM\u001b[0m)                   │ (\u001b[38;5;45mNone\u001b[0m, \u001b[38;5;34m10\u001b[0m, \u001b[38;5;34m64\u001b[0m)            │     \u001b[38;5;34m17,664\u001b[0m │\n",
       "├─────────────────────────────────┼───────────────────────────┼────────────┤\n",
       "│ lstm_9 (\u001b[38;5;33mLSTM\u001b[0m)                   │ (\u001b[38;5;45mNone\u001b[0m, \u001b[38;5;34m32\u001b[0m)                │     \u001b[38;5;34m12,416\u001b[0m │\n",
       "├─────────────────────────────────┼───────────────────────────┼────────────┤\n",
       "│ dense_4 (\u001b[38;5;33mDense\u001b[0m)                 │ (\u001b[38;5;45mNone\u001b[0m, \u001b[38;5;34m2\u001b[0m)                 │         \u001b[38;5;34m66\u001b[0m │\n",
       "└─────────────────────────────────┴───────────────────────────┴────────────┘\n"
      ]
     },
     "metadata": {},
     "output_type": "display_data"
    },
    {
     "data": {
      "text/html": [
       "<pre style=\"white-space:pre;overflow-x:auto;line-height:normal;font-family:Menlo,'DejaVu Sans Mono',consolas,'Courier New',monospace\"><span style=\"font-weight: bold\"> Total params: </span><span style=\"color: #00af00; text-decoration-color: #00af00\">30,146</span> (117.76 KB)\n",
       "</pre>\n"
      ],
      "text/plain": [
       "\u001b[1m Total params: \u001b[0m\u001b[38;5;34m30,146\u001b[0m (117.76 KB)\n"
      ]
     },
     "metadata": {},
     "output_type": "display_data"
    },
    {
     "data": {
      "text/html": [
       "<pre style=\"white-space:pre;overflow-x:auto;line-height:normal;font-family:Menlo,'DejaVu Sans Mono',consolas,'Courier New',monospace\"><span style=\"font-weight: bold\"> Trainable params: </span><span style=\"color: #00af00; text-decoration-color: #00af00\">30,146</span> (117.76 KB)\n",
       "</pre>\n"
      ],
      "text/plain": [
       "\u001b[1m Trainable params: \u001b[0m\u001b[38;5;34m30,146\u001b[0m (117.76 KB)\n"
      ]
     },
     "metadata": {},
     "output_type": "display_data"
    },
    {
     "data": {
      "text/html": [
       "<pre style=\"white-space:pre;overflow-x:auto;line-height:normal;font-family:Menlo,'DejaVu Sans Mono',consolas,'Courier New',monospace\"><span style=\"font-weight: bold\"> Non-trainable params: </span><span style=\"color: #00af00; text-decoration-color: #00af00\">0</span> (0.00 B)\n",
       "</pre>\n"
      ],
      "text/plain": [
       "\u001b[1m Non-trainable params: \u001b[0m\u001b[38;5;34m0\u001b[0m (0.00 B)\n"
      ]
     },
     "metadata": {},
     "output_type": "display_data"
    },
    {
     "name": "stdout",
     "output_type": "stream",
     "text": [
      "None\n",
      "Epoch 1/30\n",
      "\u001b[1m13470/13470\u001b[0m \u001b[32m━━━━━━━━━━━━━━━━━━━━\u001b[0m\u001b[37m\u001b[0m \u001b[1m548s\u001b[0m 41ms/step - accuracy: 0.9441 - loss: 0.0378 - mae: 0.1228 - mse: 0.0378\n",
      "Epoch 2/30\n",
      "\u001b[1m13470/13470\u001b[0m \u001b[32m━━━━━━━━━━━━━━━━━━━━\u001b[0m\u001b[37m\u001b[0m \u001b[1m544s\u001b[0m 40ms/step - accuracy: 0.9659 - loss: 0.0155 - mae: 0.0798 - mse: 0.0155\n",
      "Epoch 3/30\n",
      "\u001b[1m13470/13470\u001b[0m \u001b[32m━━━━━━━━━━━━━━━━━━━━\u001b[0m\u001b[37m\u001b[0m \u001b[1m544s\u001b[0m 40ms/step - accuracy: 0.9665 - loss: 0.0152 - mae: 0.0789 - mse: 0.0152\n",
      "Epoch 4/30\n",
      "\u001b[1m13470/13470\u001b[0m \u001b[32m━━━━━━━━━━━━━━━━━━━━\u001b[0m\u001b[37m\u001b[0m \u001b[1m544s\u001b[0m 40ms/step - accuracy: 0.9668 - loss: 0.0150 - mae: 0.0788 - mse: 0.0150\n",
      "Epoch 5/30\n",
      "\u001b[1m13470/13470\u001b[0m \u001b[32m━━━━━━━━━━━━━━━━━━━━\u001b[0m\u001b[37m\u001b[0m \u001b[1m546s\u001b[0m 41ms/step - accuracy: 0.9665 - loss: 0.0152 - mae: 0.0789 - mse: 0.0152\n",
      "Epoch 6/30\n",
      "\u001b[1m13470/13470\u001b[0m \u001b[32m━━━━━━━━━━━━━━━━━━━━\u001b[0m\u001b[37m\u001b[0m \u001b[1m537s\u001b[0m 40ms/step - accuracy: 0.9663 - loss: 0.0149 - mae: 0.0787 - mse: 0.0149\n",
      "Epoch 7/30\n",
      "\u001b[1m13470/13470\u001b[0m \u001b[32m━━━━━━━━━━━━━━━━━━━━\u001b[0m\u001b[37m\u001b[0m \u001b[1m536s\u001b[0m 40ms/step - accuracy: 0.9670 - loss: 0.0152 - mae: 0.0789 - mse: 0.0152\n",
      "Epoch 8/30\n",
      "\u001b[1m13470/13470\u001b[0m \u001b[32m━━━━━━━━━━━━━━━━━━━━\u001b[0m\u001b[37m\u001b[0m \u001b[1m541s\u001b[0m 40ms/step - accuracy: 0.9668 - loss: 0.0150 - mae: 0.0787 - mse: 0.0150\n",
      "Epoch 9/30\n",
      "\u001b[1m13470/13470\u001b[0m \u001b[32m━━━━━━━━━━━━━━━━━━━━\u001b[0m\u001b[37m\u001b[0m \u001b[1m538s\u001b[0m 40ms/step - accuracy: 0.9670 - loss: 0.0151 - mae: 0.0788 - mse: 0.0151\n",
      "Epoch 10/30\n",
      "\u001b[1m13470/13470\u001b[0m \u001b[32m━━━━━━━━━━━━━━━━━━━━\u001b[0m\u001b[37m\u001b[0m \u001b[1m535s\u001b[0m 40ms/step - accuracy: 0.9666 - loss: 0.0151 - mae: 0.0788 - mse: 0.0151\n",
      "Epoch 11/30\n",
      "\u001b[1m13470/13470\u001b[0m \u001b[32m━━━━━━━━━━━━━━━━━━━━\u001b[0m\u001b[37m\u001b[0m \u001b[1m538s\u001b[0m 40ms/step - accuracy: 0.9670 - loss: 0.0152 - mae: 0.0790 - mse: 0.0152\n",
      "Epoch 12/30\n",
      "\u001b[1m13470/13470\u001b[0m \u001b[32m━━━━━━━━━━━━━━━━━━━━\u001b[0m\u001b[37m\u001b[0m \u001b[1m543s\u001b[0m 40ms/step - accuracy: 0.9665 - loss: 0.0150 - mae: 0.0787 - mse: 0.0150\n",
      "Epoch 13/30\n",
      "\u001b[1m13470/13470\u001b[0m \u001b[32m━━━━━━━━━━━━━━━━━━━━\u001b[0m\u001b[37m\u001b[0m \u001b[1m545s\u001b[0m 40ms/step - accuracy: 0.9663 - loss: 0.0151 - mae: 0.0788 - mse: 0.0151\n",
      "Epoch 14/30\n",
      "\u001b[1m13470/13470\u001b[0m \u001b[32m━━━━━━━━━━━━━━━━━━━━\u001b[0m\u001b[37m\u001b[0m \u001b[1m548s\u001b[0m 41ms/step - accuracy: 0.9658 - loss: 0.0152 - mae: 0.0788 - mse: 0.0152\n",
      "Epoch 15/30\n",
      "\u001b[1m13470/13470\u001b[0m \u001b[32m━━━━━━━━━━━━━━━━━━━━\u001b[0m\u001b[37m\u001b[0m \u001b[1m547s\u001b[0m 41ms/step - accuracy: 0.9665 - loss: 0.0151 - mae: 0.0787 - mse: 0.0151\n",
      "Epoch 15: early stopping\n",
      "validation_x shape (143667, 10, 4)\n",
      "\u001b[1m4490/4490\u001b[0m \u001b[32m━━━━━━━━━━━━━━━━━━━━\u001b[0m\u001b[37m\u001b[0m \u001b[1m54s\u001b[0m 12ms/step\n",
      "(143667, 2)\n",
      "(143667, 2)\n",
      "Precision  1 :  23.285096786318363\n",
      "Precision  2 :  40.91336214997181\n",
      "Precision  3 :  53.296164046023094\n",
      "Precision  4 :  62.35113143588994\n",
      "Precision  5 :  69.08963088252696\n"
     ]
    },
    {
     "name": "stderr",
     "output_type": "stream",
     "text": [
      "/tmp/ipykernel_32075/128050465.py:217: DeprecationWarning: Conversion of an array with ndim > 0 to a scalar is deprecated, and will error in future. Ensure you extract a single element from your array before performing this operation. (Deprecated NumPy 1.25.)\n",
      "  rmse = math.sqrt(rmse)\n"
     ]
    },
    {
     "name": "stdout",
     "output_type": "stream",
     "text": [
      "5.25734808029851\n",
      "testing on : YC\n",
      "<class 'pandas.core.frame.DataFrame'>\n",
      "RangeIndex: 49601 entries, 0 to 49600\n",
      "Data columns (total 13 columns):\n",
      " #   Column         Non-Null Count  Dtype  \n",
      "---  ------         --------------  -----  \n",
      " 0   lcop           49601 non-null  float64\n",
      " 1   rcop           49601 non-null  float64\n",
      " 2   lgrf           49601 non-null  float64\n",
      " 3   rgrf           49601 non-null  float64\n",
      " 4   l_ph_hip       49601 non-null  float64\n",
      " 5   r_ph_hip       49601 non-null  float64\n",
      " 6   st_sw_phase_l  49601 non-null  float64\n",
      " 7   st_sw_phase_r  49601 non-null  float64\n",
      " 8   st_l_l         49601 non-null  float64\n",
      " 9   st_l_r         49601 non-null  float64\n",
      " 10  leg_len        49601 non-null  float64\n",
      " 11  weight         49601 non-null  float64\n",
      " 12  perc           49601 non-null  float64\n",
      "dtypes: float64(13)\n",
      "memory usage: 4.9 MB\n",
      "<class 'pandas.core.frame.DataFrame'>\n",
      "RangeIndex: 49180 entries, 0 to 49179\n",
      "Data columns (total 4 columns):\n",
      " #   Column    Non-Null Count  Dtype  \n",
      "---  ------    --------------  -----  \n",
      " 0   l_ph_hip  49180 non-null  float64\n",
      " 1   r_ph_hip  49180 non-null  float64\n",
      " 2   st_l_l    49180 non-null  float64\n",
      " 3   st_l_r    49180 non-null  float64\n",
      "dtypes: float64(4)\n",
      "memory usage: 1.5 MB\n",
      "validation_x shape (36874, 10, 4)\n",
      "\u001b[1m1153/1153\u001b[0m \u001b[32m━━━━━━━━━━━━━━━━━━━━\u001b[0m\u001b[37m\u001b[0m \u001b[1m14s\u001b[0m 12ms/step\n",
      "(36874, 2)\n",
      "(36874, 2)\n",
      "Precision  1 :  11.653197374844064\n",
      "Precision  2 :  22.427726853609588\n",
      "Precision  3 :  32.26392580137767\n",
      "Precision  4 :  39.881759505342515\n",
      "Precision  5 :  49.31930357433422\n",
      "11.279967711114582\n"
     ]
    },
    {
     "name": "stderr",
     "output_type": "stream",
     "text": [
      "/tmp/ipykernel_32075/128050465.py:217: DeprecationWarning: Conversion of an array with ndim > 0 to a scalar is deprecated, and will error in future. Ensure you extract a single element from your array before performing this operation. (Deprecated NumPy 1.25.)\n",
      "  rmse = math.sqrt(rmse)\n"
     ]
    },
    {
     "name": "stdout",
     "output_type": "stream",
     "text": [
      "Subject combination : ['VP', 'AK', 'SD', 'PH', 'YC', 'JS', 'PK', 'SOE', 'TH', 'SKS', 'VN']\n",
      "All Data Info: \n",
      "<class 'pandas.core.frame.DataFrame'>\n",
      "RangeIndex: 581777 entries, 0 to 581776\n",
      "Data columns (total 13 columns):\n",
      " #   Column         Non-Null Count   Dtype  \n",
      "---  ------         --------------   -----  \n",
      " 0   lcop           581777 non-null  float64\n",
      " 1   rcop           581777 non-null  float64\n",
      " 2   lgrf           581777 non-null  float64\n",
      " 3   rgrf           581777 non-null  float64\n",
      " 4   l_ph_hip       581777 non-null  float64\n",
      " 5   r_ph_hip       581777 non-null  float64\n",
      " 6   st_sw_phase_l  581777 non-null  float64\n",
      " 7   st_sw_phase_r  581777 non-null  float64\n",
      " 8   st_l_l         581777 non-null  float64\n",
      " 9   st_l_r         581777 non-null  float64\n",
      " 10  leg_len        581777 non-null  float64\n",
      " 11  weight         581777 non-null  float64\n",
      " 12  perc           581777 non-null  float64\n",
      "dtypes: float64(13)\n",
      "memory usage: 57.7 MB\n",
      "<class 'pandas.core.frame.DataFrame'>\n",
      "RangeIndex: 581777 entries, 0 to 581776\n",
      "Data columns (total 13 columns):\n",
      " #   Column         Non-Null Count   Dtype  \n",
      "---  ------         --------------   -----  \n",
      " 0   lcop           581777 non-null  float64\n",
      " 1   rcop           581777 non-null  float64\n",
      " 2   lgrf           581777 non-null  float64\n",
      " 3   rgrf           581777 non-null  float64\n",
      " 4   l_ph_hip       581777 non-null  float64\n",
      " 5   r_ph_hip       581777 non-null  float64\n",
      " 6   st_sw_phase_l  581777 non-null  float64\n",
      " 7   st_sw_phase_r  581777 non-null  float64\n",
      " 8   st_l_l         581777 non-null  float64\n",
      " 9   st_l_r         581777 non-null  float64\n",
      " 10  leg_len        581777 non-null  float64\n",
      " 11  weight         581777 non-null  float64\n",
      " 12  perc           581777 non-null  float64\n",
      "dtypes: float64(13)\n",
      "memory usage: 57.7 MB\n",
      "<class 'pandas.core.frame.DataFrame'>\n",
      "RangeIndex: 578933 entries, 0 to 578932\n",
      "Data columns (total 4 columns):\n",
      " #   Column    Non-Null Count   Dtype  \n",
      "---  ------    --------------   -----  \n",
      " 0   l_ph_hip  578933 non-null  float64\n",
      " 1   r_ph_hip  578933 non-null  float64\n",
      " 2   st_l_l    578933 non-null  float64\n",
      " 3   st_l_r    578933 non-null  float64\n",
      "dtypes: float64(4)\n",
      "memory usage: 17.7 MB\n",
      "Nan in train x at indices: []\n",
      "Nan in train y at indices: []\n",
      "(434188, 10, 4)\n",
      "(144723, 10, 4)\n",
      "SSS\n",
      "OKAY till here 1\n"
     ]
    },
    {
     "name": "stderr",
     "output_type": "stream",
     "text": [
      "/home/hikikomori/miniconda3/envs/clean_gait_phase/lib/python3.10/site-packages/keras/src/layers/rnn/rnn.py:205: UserWarning: Do not pass an `input_shape`/`input_dim` argument to a layer. When using Sequential models, prefer using an `Input(shape)` object as the first layer in the model instead.\n",
      "  super().__init__(**kwargs)\n"
     ]
    },
    {
     "data": {
      "text/html": [
       "<pre style=\"white-space:pre;overflow-x:auto;line-height:normal;font-family:Menlo,'DejaVu Sans Mono',consolas,'Courier New',monospace\"><span style=\"font-weight: bold\">Model: \"sequential_5\"</span>\n",
       "</pre>\n"
      ],
      "text/plain": [
       "\u001b[1mModel: \"sequential_5\"\u001b[0m\n"
      ]
     },
     "metadata": {},
     "output_type": "display_data"
    },
    {
     "data": {
      "text/html": [
       "<pre style=\"white-space:pre;overflow-x:auto;line-height:normal;font-family:Menlo,'DejaVu Sans Mono',consolas,'Courier New',monospace\">┏━━━━━━━━━━━━━━━━━━━━━━━━━━━━━━━━━┳━━━━━━━━━━━━━━━━━━━━━━━━━━━┳━━━━━━━━━━━━┓\n",
       "┃<span style=\"font-weight: bold\"> Layer (type)                    </span>┃<span style=\"font-weight: bold\"> Output Shape              </span>┃<span style=\"font-weight: bold\">    Param # </span>┃\n",
       "┡━━━━━━━━━━━━━━━━━━━━━━━━━━━━━━━━━╇━━━━━━━━━━━━━━━━━━━━━━━━━━━╇━━━━━━━━━━━━┩\n",
       "│ lstm_10 (<span style=\"color: #0087ff; text-decoration-color: #0087ff\">LSTM</span>)                  │ (<span style=\"color: #00d7ff; text-decoration-color: #00d7ff\">None</span>, <span style=\"color: #00af00; text-decoration-color: #00af00\">10</span>, <span style=\"color: #00af00; text-decoration-color: #00af00\">64</span>)            │     <span style=\"color: #00af00; text-decoration-color: #00af00\">17,664</span> │\n",
       "├─────────────────────────────────┼───────────────────────────┼────────────┤\n",
       "│ lstm_11 (<span style=\"color: #0087ff; text-decoration-color: #0087ff\">LSTM</span>)                  │ (<span style=\"color: #00d7ff; text-decoration-color: #00d7ff\">None</span>, <span style=\"color: #00af00; text-decoration-color: #00af00\">32</span>)                │     <span style=\"color: #00af00; text-decoration-color: #00af00\">12,416</span> │\n",
       "├─────────────────────────────────┼───────────────────────────┼────────────┤\n",
       "│ dense_5 (<span style=\"color: #0087ff; text-decoration-color: #0087ff\">Dense</span>)                 │ (<span style=\"color: #00d7ff; text-decoration-color: #00d7ff\">None</span>, <span style=\"color: #00af00; text-decoration-color: #00af00\">2</span>)                 │         <span style=\"color: #00af00; text-decoration-color: #00af00\">66</span> │\n",
       "└─────────────────────────────────┴───────────────────────────┴────────────┘\n",
       "</pre>\n"
      ],
      "text/plain": [
       "┏━━━━━━━━━━━━━━━━━━━━━━━━━━━━━━━━━┳━━━━━━━━━━━━━━━━━━━━━━━━━━━┳━━━━━━━━━━━━┓\n",
       "┃\u001b[1m \u001b[0m\u001b[1mLayer (type)                   \u001b[0m\u001b[1m \u001b[0m┃\u001b[1m \u001b[0m\u001b[1mOutput Shape             \u001b[0m\u001b[1m \u001b[0m┃\u001b[1m \u001b[0m\u001b[1m   Param #\u001b[0m\u001b[1m \u001b[0m┃\n",
       "┡━━━━━━━━━━━━━━━━━━━━━━━━━━━━━━━━━╇━━━━━━━━━━━━━━━━━━━━━━━━━━━╇━━━━━━━━━━━━┩\n",
       "│ lstm_10 (\u001b[38;5;33mLSTM\u001b[0m)                  │ (\u001b[38;5;45mNone\u001b[0m, \u001b[38;5;34m10\u001b[0m, \u001b[38;5;34m64\u001b[0m)            │     \u001b[38;5;34m17,664\u001b[0m │\n",
       "├─────────────────────────────────┼───────────────────────────┼────────────┤\n",
       "│ lstm_11 (\u001b[38;5;33mLSTM\u001b[0m)                  │ (\u001b[38;5;45mNone\u001b[0m, \u001b[38;5;34m32\u001b[0m)                │     \u001b[38;5;34m12,416\u001b[0m │\n",
       "├─────────────────────────────────┼───────────────────────────┼────────────┤\n",
       "│ dense_5 (\u001b[38;5;33mDense\u001b[0m)                 │ (\u001b[38;5;45mNone\u001b[0m, \u001b[38;5;34m2\u001b[0m)                 │         \u001b[38;5;34m66\u001b[0m │\n",
       "└─────────────────────────────────┴───────────────────────────┴────────────┘\n"
      ]
     },
     "metadata": {},
     "output_type": "display_data"
    },
    {
     "data": {
      "text/html": [
       "<pre style=\"white-space:pre;overflow-x:auto;line-height:normal;font-family:Menlo,'DejaVu Sans Mono',consolas,'Courier New',monospace\"><span style=\"font-weight: bold\"> Total params: </span><span style=\"color: #00af00; text-decoration-color: #00af00\">30,146</span> (117.76 KB)\n",
       "</pre>\n"
      ],
      "text/plain": [
       "\u001b[1m Total params: \u001b[0m\u001b[38;5;34m30,146\u001b[0m (117.76 KB)\n"
      ]
     },
     "metadata": {},
     "output_type": "display_data"
    },
    {
     "data": {
      "text/html": [
       "<pre style=\"white-space:pre;overflow-x:auto;line-height:normal;font-family:Menlo,'DejaVu Sans Mono',consolas,'Courier New',monospace\"><span style=\"font-weight: bold\"> Trainable params: </span><span style=\"color: #00af00; text-decoration-color: #00af00\">30,146</span> (117.76 KB)\n",
       "</pre>\n"
      ],
      "text/plain": [
       "\u001b[1m Trainable params: \u001b[0m\u001b[38;5;34m30,146\u001b[0m (117.76 KB)\n"
      ]
     },
     "metadata": {},
     "output_type": "display_data"
    },
    {
     "data": {
      "text/html": [
       "<pre style=\"white-space:pre;overflow-x:auto;line-height:normal;font-family:Menlo,'DejaVu Sans Mono',consolas,'Courier New',monospace\"><span style=\"font-weight: bold\"> Non-trainable params: </span><span style=\"color: #00af00; text-decoration-color: #00af00\">0</span> (0.00 B)\n",
       "</pre>\n"
      ],
      "text/plain": [
       "\u001b[1m Non-trainable params: \u001b[0m\u001b[38;5;34m0\u001b[0m (0.00 B)\n"
      ]
     },
     "metadata": {},
     "output_type": "display_data"
    },
    {
     "name": "stdout",
     "output_type": "stream",
     "text": [
      "None\n",
      "Epoch 1/30\n",
      "\u001b[1m13569/13569\u001b[0m \u001b[32m━━━━━━━━━━━━━━━━━━━━\u001b[0m\u001b[37m\u001b[0m \u001b[1m558s\u001b[0m 41ms/step - accuracy: 0.9453 - loss: 0.0399 - mae: 0.1252 - mse: 0.0399\n",
      "Epoch 2/30\n",
      "\u001b[1m13569/13569\u001b[0m \u001b[32m━━━━━━━━━━━━━━━━━━━━\u001b[0m\u001b[37m\u001b[0m \u001b[1m557s\u001b[0m 41ms/step - accuracy: 0.9676 - loss: 0.0149 - mae: 0.0783 - mse: 0.0149\n",
      "Epoch 3/30\n",
      "\u001b[1m13569/13569\u001b[0m \u001b[32m━━━━━━━━━━━━━━━━━━━━\u001b[0m\u001b[37m\u001b[0m \u001b[1m555s\u001b[0m 41ms/step - accuracy: 0.9674 - loss: 0.0146 - mae: 0.0773 - mse: 0.0146\n",
      "Epoch 4/30\n",
      "\u001b[1m13569/13569\u001b[0m \u001b[32m━━━━━━━━━━━━━━━━━━━━\u001b[0m\u001b[37m\u001b[0m \u001b[1m548s\u001b[0m 40ms/step - accuracy: 0.9681 - loss: 0.0146 - mae: 0.0772 - mse: 0.0146\n",
      "Epoch 5/30\n",
      "\u001b[1m13569/13569\u001b[0m \u001b[32m━━━━━━━━━━━━━━━━━━━━\u001b[0m\u001b[37m\u001b[0m \u001b[1m548s\u001b[0m 40ms/step - accuracy: 0.9670 - loss: 0.0147 - mae: 0.0774 - mse: 0.0147\n",
      "Epoch 6/30\n",
      "\u001b[1m13569/13569\u001b[0m \u001b[32m━━━━━━━━━━━━━━━━━━━━\u001b[0m\u001b[37m\u001b[0m \u001b[1m549s\u001b[0m 40ms/step - accuracy: 0.9680 - loss: 0.0148 - mae: 0.0775 - mse: 0.0148\n",
      "Epoch 7/30\n",
      "\u001b[1m13569/13569\u001b[0m \u001b[32m━━━━━━━━━━━━━━━━━━━━\u001b[0m\u001b[37m\u001b[0m \u001b[1m549s\u001b[0m 40ms/step - accuracy: 0.9676 - loss: 0.0147 - mae: 0.0775 - mse: 0.0147\n",
      "Epoch 8/30\n",
      "\u001b[1m13569/13569\u001b[0m \u001b[32m━━━━━━━━━━━━━━━━━━━━\u001b[0m\u001b[37m\u001b[0m \u001b[1m549s\u001b[0m 40ms/step - accuracy: 0.9675 - loss: 0.0145 - mae: 0.0772 - mse: 0.0145\n",
      "Epoch 8: early stopping\n",
      "validation_x shape (144723, 10, 4)\n",
      "\u001b[1m4523/4523\u001b[0m \u001b[32m━━━━━━━━━━━━━━━━━━━━\u001b[0m\u001b[37m\u001b[0m \u001b[1m55s\u001b[0m 12ms/step\n",
      "(144723, 2)\n",
      "(144723, 2)\n",
      "Precision  1 :  15.513083614905716\n",
      "Precision  2 :  28.86894273888739\n",
      "Precision  3 :  40.50427368144663\n",
      "Precision  4 :  49.581614532589846\n",
      "Precision  5 :  57.14502877911597\n"
     ]
    },
    {
     "name": "stderr",
     "output_type": "stream",
     "text": [
      "/tmp/ipykernel_32075/128050465.py:217: DeprecationWarning: Conversion of an array with ndim > 0 to a scalar is deprecated, and will error in future. Ensure you extract a single element from your array before performing this operation. (Deprecated NumPy 1.25.)\n",
      "  rmse = math.sqrt(rmse)\n"
     ]
    },
    {
     "name": "stdout",
     "output_type": "stream",
     "text": [
      "7.1704064053974506\n",
      "testing on : JL\n",
      "<class 'pandas.core.frame.DataFrame'>\n",
      "RangeIndex: 45281 entries, 0 to 45280\n",
      "Data columns (total 13 columns):\n",
      " #   Column         Non-Null Count  Dtype  \n",
      "---  ------         --------------  -----  \n",
      " 0   lcop           45281 non-null  float64\n",
      " 1   rcop           45281 non-null  float64\n",
      " 2   lgrf           45281 non-null  float64\n",
      " 3   rgrf           45281 non-null  float64\n",
      " 4   l_ph_hip       45281 non-null  float64\n",
      " 5   r_ph_hip       45281 non-null  float64\n",
      " 6   st_sw_phase_l  45281 non-null  float64\n",
      " 7   st_sw_phase_r  45281 non-null  float64\n",
      " 8   st_l_l         45281 non-null  float64\n",
      " 9   st_l_r         45281 non-null  float64\n",
      " 10  leg_len        45281 non-null  float64\n",
      " 11  weight         45281 non-null  float64\n",
      " 12  perc           45281 non-null  float64\n",
      "dtypes: float64(13)\n",
      "memory usage: 4.5 MB\n",
      "<class 'pandas.core.frame.DataFrame'>\n",
      "RangeIndex: 44834 entries, 0 to 44833\n",
      "Data columns (total 4 columns):\n",
      " #   Column    Non-Null Count  Dtype  \n",
      "---  ------    --------------  -----  \n",
      " 0   l_ph_hip  44834 non-null  float64\n",
      " 1   r_ph_hip  44834 non-null  float64\n",
      " 2   st_l_l    44834 non-null  float64\n",
      " 3   st_l_r    44834 non-null  float64\n",
      "dtypes: float64(4)\n",
      "memory usage: 1.4 MB\n",
      "validation_x shape (33614, 10, 4)\n",
      "\u001b[1m1051/1051\u001b[0m \u001b[32m━━━━━━━━━━━━━━━━━━━━\u001b[0m\u001b[37m\u001b[0m \u001b[1m13s\u001b[0m 12ms/step\n",
      "(33614, 2)\n",
      "(33614, 2)\n",
      "Precision  1 :  22.118760040459332\n",
      "Precision  2 :  41.583863866246205\n",
      "Precision  3 :  55.402510858570835\n",
      "Precision  4 :  64.68138275718451\n",
      "Precision  5 :  71.95513774022729\n",
      "4.692980533636899\n"
     ]
    },
    {
     "name": "stderr",
     "output_type": "stream",
     "text": [
      "/tmp/ipykernel_32075/128050465.py:217: DeprecationWarning: Conversion of an array with ndim > 0 to a scalar is deprecated, and will error in future. Ensure you extract a single element from your array before performing this operation. (Deprecated NumPy 1.25.)\n",
      "  rmse = math.sqrt(rmse)\n"
     ]
    },
    {
     "name": "stdout",
     "output_type": "stream",
     "text": [
      "Subject combination : ['VP', 'AK', 'SD', 'PH', 'YC', 'JL', 'PK', 'SOE', 'TH', 'SKS', 'VN']\n",
      "All Data Info: \n",
      "<class 'pandas.core.frame.DataFrame'>\n",
      "RangeIndex: 567546 entries, 0 to 567545\n",
      "Data columns (total 13 columns):\n",
      " #   Column         Non-Null Count   Dtype  \n",
      "---  ------         --------------   -----  \n",
      " 0   lcop           567546 non-null  float64\n",
      " 1   rcop           567546 non-null  float64\n",
      " 2   lgrf           567546 non-null  float64\n",
      " 3   rgrf           567546 non-null  float64\n",
      " 4   l_ph_hip       567546 non-null  float64\n",
      " 5   r_ph_hip       567546 non-null  float64\n",
      " 6   st_sw_phase_l  567546 non-null  float64\n",
      " 7   st_sw_phase_r  567546 non-null  float64\n",
      " 8   st_l_l         567546 non-null  float64\n",
      " 9   st_l_r         567546 non-null  float64\n",
      " 10  leg_len        567546 non-null  float64\n",
      " 11  weight         567546 non-null  float64\n",
      " 12  perc           567546 non-null  float64\n",
      "dtypes: float64(13)\n",
      "memory usage: 56.3 MB\n",
      "<class 'pandas.core.frame.DataFrame'>\n",
      "RangeIndex: 567546 entries, 0 to 567545\n",
      "Data columns (total 13 columns):\n",
      " #   Column         Non-Null Count   Dtype  \n",
      "---  ------         --------------   -----  \n",
      " 0   lcop           567546 non-null  float64\n",
      " 1   rcop           567546 non-null  float64\n",
      " 2   lgrf           567546 non-null  float64\n",
      " 3   rgrf           567546 non-null  float64\n",
      " 4   l_ph_hip       567546 non-null  float64\n",
      " 5   r_ph_hip       567546 non-null  float64\n",
      " 6   st_sw_phase_l  567546 non-null  float64\n",
      " 7   st_sw_phase_r  567546 non-null  float64\n",
      " 8   st_l_l         567546 non-null  float64\n",
      " 9   st_l_r         567546 non-null  float64\n",
      " 10  leg_len        567546 non-null  float64\n",
      " 11  weight         567546 non-null  float64\n",
      " 12  perc           567546 non-null  float64\n",
      "dtypes: float64(13)\n",
      "memory usage: 56.3 MB\n",
      "<class 'pandas.core.frame.DataFrame'>\n",
      "RangeIndex: 564816 entries, 0 to 564815\n",
      "Data columns (total 4 columns):\n",
      " #   Column    Non-Null Count   Dtype  \n",
      "---  ------    --------------   -----  \n",
      " 0   l_ph_hip  564816 non-null  float64\n",
      " 1   r_ph_hip  564816 non-null  float64\n",
      " 2   st_l_l    564816 non-null  float64\n",
      " 3   st_l_r    564816 non-null  float64\n",
      "dtypes: float64(4)\n",
      "memory usage: 17.2 MB\n",
      "Nan in train x at indices: []\n",
      "Nan in train y at indices: []\n",
      "(423601, 10, 4)\n",
      "(141193, 10, 4)\n",
      "SSS\n",
      "OKAY till here 1\n"
     ]
    },
    {
     "name": "stderr",
     "output_type": "stream",
     "text": [
      "/home/hikikomori/miniconda3/envs/clean_gait_phase/lib/python3.10/site-packages/keras/src/layers/rnn/rnn.py:205: UserWarning: Do not pass an `input_shape`/`input_dim` argument to a layer. When using Sequential models, prefer using an `Input(shape)` object as the first layer in the model instead.\n",
      "  super().__init__(**kwargs)\n"
     ]
    },
    {
     "data": {
      "text/html": [
       "<pre style=\"white-space:pre;overflow-x:auto;line-height:normal;font-family:Menlo,'DejaVu Sans Mono',consolas,'Courier New',monospace\"><span style=\"font-weight: bold\">Model: \"sequential_6\"</span>\n",
       "</pre>\n"
      ],
      "text/plain": [
       "\u001b[1mModel: \"sequential_6\"\u001b[0m\n"
      ]
     },
     "metadata": {},
     "output_type": "display_data"
    },
    {
     "data": {
      "text/html": [
       "<pre style=\"white-space:pre;overflow-x:auto;line-height:normal;font-family:Menlo,'DejaVu Sans Mono',consolas,'Courier New',monospace\">┏━━━━━━━━━━━━━━━━━━━━━━━━━━━━━━━━━┳━━━━━━━━━━━━━━━━━━━━━━━━━━━┳━━━━━━━━━━━━┓\n",
       "┃<span style=\"font-weight: bold\"> Layer (type)                    </span>┃<span style=\"font-weight: bold\"> Output Shape              </span>┃<span style=\"font-weight: bold\">    Param # </span>┃\n",
       "┡━━━━━━━━━━━━━━━━━━━━━━━━━━━━━━━━━╇━━━━━━━━━━━━━━━━━━━━━━━━━━━╇━━━━━━━━━━━━┩\n",
       "│ lstm_12 (<span style=\"color: #0087ff; text-decoration-color: #0087ff\">LSTM</span>)                  │ (<span style=\"color: #00d7ff; text-decoration-color: #00d7ff\">None</span>, <span style=\"color: #00af00; text-decoration-color: #00af00\">10</span>, <span style=\"color: #00af00; text-decoration-color: #00af00\">64</span>)            │     <span style=\"color: #00af00; text-decoration-color: #00af00\">17,664</span> │\n",
       "├─────────────────────────────────┼───────────────────────────┼────────────┤\n",
       "│ lstm_13 (<span style=\"color: #0087ff; text-decoration-color: #0087ff\">LSTM</span>)                  │ (<span style=\"color: #00d7ff; text-decoration-color: #00d7ff\">None</span>, <span style=\"color: #00af00; text-decoration-color: #00af00\">32</span>)                │     <span style=\"color: #00af00; text-decoration-color: #00af00\">12,416</span> │\n",
       "├─────────────────────────────────┼───────────────────────────┼────────────┤\n",
       "│ dense_6 (<span style=\"color: #0087ff; text-decoration-color: #0087ff\">Dense</span>)                 │ (<span style=\"color: #00d7ff; text-decoration-color: #00d7ff\">None</span>, <span style=\"color: #00af00; text-decoration-color: #00af00\">2</span>)                 │         <span style=\"color: #00af00; text-decoration-color: #00af00\">66</span> │\n",
       "└─────────────────────────────────┴───────────────────────────┴────────────┘\n",
       "</pre>\n"
      ],
      "text/plain": [
       "┏━━━━━━━━━━━━━━━━━━━━━━━━━━━━━━━━━┳━━━━━━━━━━━━━━━━━━━━━━━━━━━┳━━━━━━━━━━━━┓\n",
       "┃\u001b[1m \u001b[0m\u001b[1mLayer (type)                   \u001b[0m\u001b[1m \u001b[0m┃\u001b[1m \u001b[0m\u001b[1mOutput Shape             \u001b[0m\u001b[1m \u001b[0m┃\u001b[1m \u001b[0m\u001b[1m   Param #\u001b[0m\u001b[1m \u001b[0m┃\n",
       "┡━━━━━━━━━━━━━━━━━━━━━━━━━━━━━━━━━╇━━━━━━━━━━━━━━━━━━━━━━━━━━━╇━━━━━━━━━━━━┩\n",
       "│ lstm_12 (\u001b[38;5;33mLSTM\u001b[0m)                  │ (\u001b[38;5;45mNone\u001b[0m, \u001b[38;5;34m10\u001b[0m, \u001b[38;5;34m64\u001b[0m)            │     \u001b[38;5;34m17,664\u001b[0m │\n",
       "├─────────────────────────────────┼───────────────────────────┼────────────┤\n",
       "│ lstm_13 (\u001b[38;5;33mLSTM\u001b[0m)                  │ (\u001b[38;5;45mNone\u001b[0m, \u001b[38;5;34m32\u001b[0m)                │     \u001b[38;5;34m12,416\u001b[0m │\n",
       "├─────────────────────────────────┼───────────────────────────┼────────────┤\n",
       "│ dense_6 (\u001b[38;5;33mDense\u001b[0m)                 │ (\u001b[38;5;45mNone\u001b[0m, \u001b[38;5;34m2\u001b[0m)                 │         \u001b[38;5;34m66\u001b[0m │\n",
       "└─────────────────────────────────┴───────────────────────────┴────────────┘\n"
      ]
     },
     "metadata": {},
     "output_type": "display_data"
    },
    {
     "data": {
      "text/html": [
       "<pre style=\"white-space:pre;overflow-x:auto;line-height:normal;font-family:Menlo,'DejaVu Sans Mono',consolas,'Courier New',monospace\"><span style=\"font-weight: bold\"> Total params: </span><span style=\"color: #00af00; text-decoration-color: #00af00\">30,146</span> (117.76 KB)\n",
       "</pre>\n"
      ],
      "text/plain": [
       "\u001b[1m Total params: \u001b[0m\u001b[38;5;34m30,146\u001b[0m (117.76 KB)\n"
      ]
     },
     "metadata": {},
     "output_type": "display_data"
    },
    {
     "data": {
      "text/html": [
       "<pre style=\"white-space:pre;overflow-x:auto;line-height:normal;font-family:Menlo,'DejaVu Sans Mono',consolas,'Courier New',monospace\"><span style=\"font-weight: bold\"> Trainable params: </span><span style=\"color: #00af00; text-decoration-color: #00af00\">30,146</span> (117.76 KB)\n",
       "</pre>\n"
      ],
      "text/plain": [
       "\u001b[1m Trainable params: \u001b[0m\u001b[38;5;34m30,146\u001b[0m (117.76 KB)\n"
      ]
     },
     "metadata": {},
     "output_type": "display_data"
    },
    {
     "data": {
      "text/html": [
       "<pre style=\"white-space:pre;overflow-x:auto;line-height:normal;font-family:Menlo,'DejaVu Sans Mono',consolas,'Courier New',monospace\"><span style=\"font-weight: bold\"> Non-trainable params: </span><span style=\"color: #00af00; text-decoration-color: #00af00\">0</span> (0.00 B)\n",
       "</pre>\n"
      ],
      "text/plain": [
       "\u001b[1m Non-trainable params: \u001b[0m\u001b[38;5;34m0\u001b[0m (0.00 B)\n"
      ]
     },
     "metadata": {},
     "output_type": "display_data"
    },
    {
     "name": "stdout",
     "output_type": "stream",
     "text": [
      "None\n",
      "Epoch 1/30\n",
      "\u001b[1m13238/13238\u001b[0m \u001b[32m━━━━━━━━━━━━━━━━━━━━\u001b[0m\u001b[37m\u001b[0m \u001b[1m532s\u001b[0m 40ms/step - accuracy: 0.9439 - loss: 0.0392 - mae: 0.1249 - mse: 0.0392\n",
      "Epoch 2/30\n",
      "\u001b[1m13238/13238\u001b[0m \u001b[32m━━━━━━━━━━━━━━━━━━━━\u001b[0m\u001b[37m\u001b[0m \u001b[1m540s\u001b[0m 41ms/step - accuracy: 0.9680 - loss: 0.0151 - mae: 0.0791 - mse: 0.0151\n",
      "Epoch 3/30\n",
      "\u001b[1m13238/13238\u001b[0m \u001b[32m━━━━━━━━━━━━━━━━━━━━\u001b[0m\u001b[37m\u001b[0m \u001b[1m541s\u001b[0m 41ms/step - accuracy: 0.9675 - loss: 0.0147 - mae: 0.0780 - mse: 0.0147\n",
      "Epoch 4/30\n",
      "\u001b[1m13238/13238\u001b[0m \u001b[32m━━━━━━━━━━━━━━━━━━━━\u001b[0m\u001b[37m\u001b[0m \u001b[1m542s\u001b[0m 41ms/step - accuracy: 0.9677 - loss: 0.0149 - mae: 0.0783 - mse: 0.0149\n",
      "Epoch 5/30\n",
      "\u001b[1m13238/13238\u001b[0m \u001b[32m━━━━━━━━━━━━━━━━━━━━\u001b[0m\u001b[37m\u001b[0m \u001b[1m542s\u001b[0m 41ms/step - accuracy: 0.9686 - loss: 0.0148 - mae: 0.0781 - mse: 0.0148\n",
      "Epoch 6/30\n",
      "\u001b[1m13238/13238\u001b[0m \u001b[32m━━━━━━━━━━━━━━━━━━━━\u001b[0m\u001b[37m\u001b[0m \u001b[1m543s\u001b[0m 41ms/step - accuracy: 0.9682 - loss: 0.0149 - mae: 0.0783 - mse: 0.0149\n",
      "Epoch 7/30\n",
      "\u001b[1m13238/13238\u001b[0m \u001b[32m━━━━━━━━━━━━━━━━━━━━\u001b[0m\u001b[37m\u001b[0m \u001b[1m538s\u001b[0m 41ms/step - accuracy: 0.9684 - loss: 0.0148 - mae: 0.0780 - mse: 0.0148\n",
      "Epoch 8/30\n",
      "\u001b[1m13238/13238\u001b[0m \u001b[32m━━━━━━━━━━━━━━━━━━━━\u001b[0m\u001b[37m\u001b[0m \u001b[1m535s\u001b[0m 40ms/step - accuracy: 0.9676 - loss: 0.0148 - mae: 0.0781 - mse: 0.0148\n",
      "Epoch 8: early stopping\n",
      "validation_x shape (141193, 10, 4)\n",
      "\u001b[1m4413/4413\u001b[0m \u001b[32m━━━━━━━━━━━━━━━━━━━━\u001b[0m\u001b[37m\u001b[0m \u001b[1m53s\u001b[0m 12ms/step\n",
      "(141193, 2)\n",
      "(141193, 2)\n",
      "Precision  1 :  15.359118369890858\n",
      "Precision  2 :  29.97032430786229\n",
      "Precision  3 :  41.94471397307232\n",
      "Precision  4 :  50.87504338033755\n",
      "Precision  5 :  58.18631235259539\n"
     ]
    },
    {
     "name": "stderr",
     "output_type": "stream",
     "text": [
      "/tmp/ipykernel_32075/128050465.py:217: DeprecationWarning: Conversion of an array with ndim > 0 to a scalar is deprecated, and will error in future. Ensure you extract a single element from your array before performing this operation. (Deprecated NumPy 1.25.)\n",
      "  rmse = math.sqrt(rmse)\n"
     ]
    },
    {
     "name": "stdout",
     "output_type": "stream",
     "text": [
      "6.680645851862161\n",
      "testing on : JS\n",
      "<class 'pandas.core.frame.DataFrame'>\n",
      "RangeIndex: 59512 entries, 0 to 59511\n",
      "Data columns (total 13 columns):\n",
      " #   Column         Non-Null Count  Dtype  \n",
      "---  ------         --------------  -----  \n",
      " 0   lcop           59512 non-null  float64\n",
      " 1   rcop           59512 non-null  float64\n",
      " 2   lgrf           59512 non-null  float64\n",
      " 3   rgrf           59512 non-null  float64\n",
      " 4   l_ph_hip       59512 non-null  float64\n",
      " 5   r_ph_hip       59512 non-null  float64\n",
      " 6   st_sw_phase_l  59512 non-null  float64\n",
      " 7   st_sw_phase_r  59512 non-null  float64\n",
      " 8   st_l_l         59512 non-null  float64\n",
      " 9   st_l_r         59512 non-null  float64\n",
      " 10  leg_len        59512 non-null  float64\n",
      " 11  weight         59512 non-null  float64\n",
      " 12  perc           59512 non-null  float64\n",
      "dtypes: float64(13)\n",
      "memory usage: 5.9 MB\n",
      "<class 'pandas.core.frame.DataFrame'>\n",
      "RangeIndex: 58965 entries, 0 to 58964\n",
      "Data columns (total 4 columns):\n",
      " #   Column    Non-Null Count  Dtype  \n",
      "---  ------    --------------  -----  \n",
      " 0   l_ph_hip  58965 non-null  float64\n",
      " 1   r_ph_hip  58965 non-null  float64\n",
      " 2   st_l_l    58965 non-null  float64\n",
      " 3   st_l_r    58965 non-null  float64\n",
      "dtypes: float64(4)\n",
      "memory usage: 1.8 MB\n",
      "validation_x shape (44212, 10, 4)\n",
      "\u001b[1m1382/1382\u001b[0m \u001b[32m━━━━━━━━━━━━━━━━━━━━\u001b[0m\u001b[37m\u001b[0m \u001b[1m17s\u001b[0m 12ms/step\n",
      "(44212, 2)\n",
      "(44212, 2)\n",
      "Precision  1 :  15.210802497059621\n",
      "Precision  2 :  28.727494797792456\n",
      "Precision  3 :  40.25603908441147\n",
      "Precision  4 :  48.923369221025965\n",
      "Precision  5 :  56.51859223740161\n",
      "5.833019756149657\n"
     ]
    },
    {
     "name": "stderr",
     "output_type": "stream",
     "text": [
      "/tmp/ipykernel_32075/128050465.py:217: DeprecationWarning: Conversion of an array with ndim > 0 to a scalar is deprecated, and will error in future. Ensure you extract a single element from your array before performing this operation. (Deprecated NumPy 1.25.)\n",
      "  rmse = math.sqrt(rmse)\n"
     ]
    },
    {
     "name": "stdout",
     "output_type": "stream",
     "text": [
      "Subject combination : ['VP', 'AK', 'SD', 'PH', 'YC', 'JL', 'JS', 'SOE', 'TH', 'SKS', 'VN']\n",
      "All Data Info: \n",
      "<class 'pandas.core.frame.DataFrame'>\n",
      "RangeIndex: 600143 entries, 0 to 600142\n",
      "Data columns (total 13 columns):\n",
      " #   Column         Non-Null Count   Dtype  \n",
      "---  ------         --------------   -----  \n",
      " 0   lcop           600143 non-null  float64\n",
      " 1   rcop           600143 non-null  float64\n",
      " 2   lgrf           600143 non-null  float64\n",
      " 3   rgrf           600143 non-null  float64\n",
      " 4   l_ph_hip       600143 non-null  float64\n",
      " 5   r_ph_hip       600143 non-null  float64\n",
      " 6   st_sw_phase_l  600143 non-null  float64\n",
      " 7   st_sw_phase_r  600143 non-null  float64\n",
      " 8   st_l_l         600143 non-null  float64\n",
      " 9   st_l_r         600143 non-null  float64\n",
      " 10  leg_len        600143 non-null  float64\n",
      " 11  weight         600143 non-null  float64\n",
      " 12  perc           600143 non-null  float64\n",
      "dtypes: float64(13)\n",
      "memory usage: 59.5 MB\n",
      "<class 'pandas.core.frame.DataFrame'>\n",
      "RangeIndex: 600143 entries, 0 to 600142\n",
      "Data columns (total 13 columns):\n",
      " #   Column         Non-Null Count   Dtype  \n",
      "---  ------         --------------   -----  \n",
      " 0   lcop           600143 non-null  float64\n",
      " 1   rcop           600143 non-null  float64\n",
      " 2   lgrf           600143 non-null  float64\n",
      " 3   rgrf           600143 non-null  float64\n",
      " 4   l_ph_hip       600143 non-null  float64\n",
      " 5   r_ph_hip       600143 non-null  float64\n",
      " 6   st_sw_phase_l  600143 non-null  float64\n",
      " 7   st_sw_phase_r  600143 non-null  float64\n",
      " 8   st_l_l         600143 non-null  float64\n",
      " 9   st_l_r         600143 non-null  float64\n",
      " 10  leg_len        600143 non-null  float64\n",
      " 11  weight         600143 non-null  float64\n",
      " 12  perc           600143 non-null  float64\n",
      "dtypes: float64(13)\n",
      "memory usage: 59.5 MB\n",
      "<class 'pandas.core.frame.DataFrame'>\n",
      "RangeIndex: 597281 entries, 0 to 597280\n",
      "Data columns (total 4 columns):\n",
      " #   Column    Non-Null Count   Dtype  \n",
      "---  ------    --------------   -----  \n",
      " 0   l_ph_hip  597281 non-null  float64\n",
      " 1   r_ph_hip  597281 non-null  float64\n",
      " 2   st_l_l    597281 non-null  float64\n",
      " 3   st_l_r    597281 non-null  float64\n",
      "dtypes: float64(4)\n",
      "memory usage: 18.2 MB\n",
      "Nan in train x at indices: []\n",
      "Nan in train y at indices: []\n",
      "(447949, 10, 4)\n",
      "(149310, 10, 4)\n",
      "SSS\n",
      "OKAY till here 1\n"
     ]
    },
    {
     "name": "stderr",
     "output_type": "stream",
     "text": [
      "/home/hikikomori/miniconda3/envs/clean_gait_phase/lib/python3.10/site-packages/keras/src/layers/rnn/rnn.py:205: UserWarning: Do not pass an `input_shape`/`input_dim` argument to a layer. When using Sequential models, prefer using an `Input(shape)` object as the first layer in the model instead.\n",
      "  super().__init__(**kwargs)\n"
     ]
    },
    {
     "data": {
      "text/html": [
       "<pre style=\"white-space:pre;overflow-x:auto;line-height:normal;font-family:Menlo,'DejaVu Sans Mono',consolas,'Courier New',monospace\"><span style=\"font-weight: bold\">Model: \"sequential_7\"</span>\n",
       "</pre>\n"
      ],
      "text/plain": [
       "\u001b[1mModel: \"sequential_7\"\u001b[0m\n"
      ]
     },
     "metadata": {},
     "output_type": "display_data"
    },
    {
     "data": {
      "text/html": [
       "<pre style=\"white-space:pre;overflow-x:auto;line-height:normal;font-family:Menlo,'DejaVu Sans Mono',consolas,'Courier New',monospace\">┏━━━━━━━━━━━━━━━━━━━━━━━━━━━━━━━━━┳━━━━━━━━━━━━━━━━━━━━━━━━━━━┳━━━━━━━━━━━━┓\n",
       "┃<span style=\"font-weight: bold\"> Layer (type)                    </span>┃<span style=\"font-weight: bold\"> Output Shape              </span>┃<span style=\"font-weight: bold\">    Param # </span>┃\n",
       "┡━━━━━━━━━━━━━━━━━━━━━━━━━━━━━━━━━╇━━━━━━━━━━━━━━━━━━━━━━━━━━━╇━━━━━━━━━━━━┩\n",
       "│ lstm_14 (<span style=\"color: #0087ff; text-decoration-color: #0087ff\">LSTM</span>)                  │ (<span style=\"color: #00d7ff; text-decoration-color: #00d7ff\">None</span>, <span style=\"color: #00af00; text-decoration-color: #00af00\">10</span>, <span style=\"color: #00af00; text-decoration-color: #00af00\">64</span>)            │     <span style=\"color: #00af00; text-decoration-color: #00af00\">17,664</span> │\n",
       "├─────────────────────────────────┼───────────────────────────┼────────────┤\n",
       "│ lstm_15 (<span style=\"color: #0087ff; text-decoration-color: #0087ff\">LSTM</span>)                  │ (<span style=\"color: #00d7ff; text-decoration-color: #00d7ff\">None</span>, <span style=\"color: #00af00; text-decoration-color: #00af00\">32</span>)                │     <span style=\"color: #00af00; text-decoration-color: #00af00\">12,416</span> │\n",
       "├─────────────────────────────────┼───────────────────────────┼────────────┤\n",
       "│ dense_7 (<span style=\"color: #0087ff; text-decoration-color: #0087ff\">Dense</span>)                 │ (<span style=\"color: #00d7ff; text-decoration-color: #00d7ff\">None</span>, <span style=\"color: #00af00; text-decoration-color: #00af00\">2</span>)                 │         <span style=\"color: #00af00; text-decoration-color: #00af00\">66</span> │\n",
       "└─────────────────────────────────┴───────────────────────────┴────────────┘\n",
       "</pre>\n"
      ],
      "text/plain": [
       "┏━━━━━━━━━━━━━━━━━━━━━━━━━━━━━━━━━┳━━━━━━━━━━━━━━━━━━━━━━━━━━━┳━━━━━━━━━━━━┓\n",
       "┃\u001b[1m \u001b[0m\u001b[1mLayer (type)                   \u001b[0m\u001b[1m \u001b[0m┃\u001b[1m \u001b[0m\u001b[1mOutput Shape             \u001b[0m\u001b[1m \u001b[0m┃\u001b[1m \u001b[0m\u001b[1m   Param #\u001b[0m\u001b[1m \u001b[0m┃\n",
       "┡━━━━━━━━━━━━━━━━━━━━━━━━━━━━━━━━━╇━━━━━━━━━━━━━━━━━━━━━━━━━━━╇━━━━━━━━━━━━┩\n",
       "│ lstm_14 (\u001b[38;5;33mLSTM\u001b[0m)                  │ (\u001b[38;5;45mNone\u001b[0m, \u001b[38;5;34m10\u001b[0m, \u001b[38;5;34m64\u001b[0m)            │     \u001b[38;5;34m17,664\u001b[0m │\n",
       "├─────────────────────────────────┼───────────────────────────┼────────────┤\n",
       "│ lstm_15 (\u001b[38;5;33mLSTM\u001b[0m)                  │ (\u001b[38;5;45mNone\u001b[0m, \u001b[38;5;34m32\u001b[0m)                │     \u001b[38;5;34m12,416\u001b[0m │\n",
       "├─────────────────────────────────┼───────────────────────────┼────────────┤\n",
       "│ dense_7 (\u001b[38;5;33mDense\u001b[0m)                 │ (\u001b[38;5;45mNone\u001b[0m, \u001b[38;5;34m2\u001b[0m)                 │         \u001b[38;5;34m66\u001b[0m │\n",
       "└─────────────────────────────────┴───────────────────────────┴────────────┘\n"
      ]
     },
     "metadata": {},
     "output_type": "display_data"
    },
    {
     "data": {
      "text/html": [
       "<pre style=\"white-space:pre;overflow-x:auto;line-height:normal;font-family:Menlo,'DejaVu Sans Mono',consolas,'Courier New',monospace\"><span style=\"font-weight: bold\"> Total params: </span><span style=\"color: #00af00; text-decoration-color: #00af00\">30,146</span> (117.76 KB)\n",
       "</pre>\n"
      ],
      "text/plain": [
       "\u001b[1m Total params: \u001b[0m\u001b[38;5;34m30,146\u001b[0m (117.76 KB)\n"
      ]
     },
     "metadata": {},
     "output_type": "display_data"
    },
    {
     "data": {
      "text/html": [
       "<pre style=\"white-space:pre;overflow-x:auto;line-height:normal;font-family:Menlo,'DejaVu Sans Mono',consolas,'Courier New',monospace\"><span style=\"font-weight: bold\"> Trainable params: </span><span style=\"color: #00af00; text-decoration-color: #00af00\">30,146</span> (117.76 KB)\n",
       "</pre>\n"
      ],
      "text/plain": [
       "\u001b[1m Trainable params: \u001b[0m\u001b[38;5;34m30,146\u001b[0m (117.76 KB)\n"
      ]
     },
     "metadata": {},
     "output_type": "display_data"
    },
    {
     "data": {
      "text/html": [
       "<pre style=\"white-space:pre;overflow-x:auto;line-height:normal;font-family:Menlo,'DejaVu Sans Mono',consolas,'Courier New',monospace\"><span style=\"font-weight: bold\"> Non-trainable params: </span><span style=\"color: #00af00; text-decoration-color: #00af00\">0</span> (0.00 B)\n",
       "</pre>\n"
      ],
      "text/plain": [
       "\u001b[1m Non-trainable params: \u001b[0m\u001b[38;5;34m0\u001b[0m (0.00 B)\n"
      ]
     },
     "metadata": {},
     "output_type": "display_data"
    },
    {
     "name": "stdout",
     "output_type": "stream",
     "text": [
      "None\n",
      "Epoch 1/30\n",
      "\u001b[1m13999/13999\u001b[0m \u001b[32m━━━━━━━━━━━━━━━━━━━━\u001b[0m\u001b[37m\u001b[0m \u001b[1m567s\u001b[0m 40ms/step - accuracy: 0.9467 - loss: 0.0385 - mae: 0.1219 - mse: 0.0385\n",
      "Epoch 2/30\n",
      "\u001b[1m13999/13999\u001b[0m \u001b[32m━━━━━━━━━━━━━━━━━━━━\u001b[0m\u001b[37m\u001b[0m \u001b[1m565s\u001b[0m 40ms/step - accuracy: 0.9674 - loss: 0.0149 - mae: 0.0772 - mse: 0.0149\n",
      "Epoch 3/30\n",
      "\u001b[1m13999/13999\u001b[0m \u001b[32m━━━━━━━━━━━━━━━━━━━━\u001b[0m\u001b[37m\u001b[0m \u001b[1m566s\u001b[0m 40ms/step - accuracy: 0.9677 - loss: 0.0144 - mae: 0.0763 - mse: 0.0144\n",
      "Epoch 4/30\n",
      "\u001b[1m13999/13999\u001b[0m \u001b[32m━━━━━━━━━━━━━━━━━━━━\u001b[0m\u001b[37m\u001b[0m \u001b[1m565s\u001b[0m 40ms/step - accuracy: 0.9676 - loss: 0.0146 - mae: 0.0766 - mse: 0.0146\n",
      "Epoch 5/30\n",
      "\u001b[1m13999/13999\u001b[0m \u001b[32m━━━━━━━━━━━━━━━━━━━━\u001b[0m\u001b[37m\u001b[0m \u001b[1m573s\u001b[0m 41ms/step - accuracy: 0.9672 - loss: 0.0144 - mae: 0.0762 - mse: 0.0144\n",
      "Epoch 6/30\n",
      "\u001b[1m13999/13999\u001b[0m \u001b[32m━━━━━━━━━━━━━━━━━━━━\u001b[0m\u001b[37m\u001b[0m \u001b[1m567s\u001b[0m 40ms/step - accuracy: 0.9679 - loss: 0.0146 - mae: 0.0765 - mse: 0.0146\n",
      "Epoch 7/30\n",
      "\u001b[1m13999/13999\u001b[0m \u001b[32m━━━━━━━━━━━━━━━━━━━━\u001b[0m\u001b[37m\u001b[0m \u001b[1m698s\u001b[0m 50ms/step - accuracy: 0.9679 - loss: 0.0144 - mae: 0.0762 - mse: 0.0144\n",
      "Epoch 8/30\n",
      "\u001b[1m13999/13999\u001b[0m \u001b[32m━━━━━━━━━━━━━━━━━━━━\u001b[0m\u001b[37m\u001b[0m \u001b[1m780s\u001b[0m 56ms/step - accuracy: 0.9676 - loss: 0.0143 - mae: 0.0760 - mse: 0.0143\n",
      "Epoch 9/30\n",
      "\u001b[1m13999/13999\u001b[0m \u001b[32m━━━━━━━━━━━━━━━━━━━━\u001b[0m\u001b[37m\u001b[0m \u001b[1m785s\u001b[0m 56ms/step - accuracy: 0.9676 - loss: 0.0146 - mae: 0.0765 - mse: 0.0146\n",
      "Epoch 10/30\n",
      "\u001b[1m13999/13999\u001b[0m \u001b[32m━━━━━━━━━━━━━━━━━━━━\u001b[0m\u001b[37m\u001b[0m \u001b[1m800s\u001b[0m 57ms/step - accuracy: 0.9681 - loss: 0.0144 - mae: 0.0763 - mse: 0.0144\n",
      "Epoch 11/30\n",
      "\u001b[1m13999/13999\u001b[0m \u001b[32m━━━━━━━━━━━━━━━━━━━━\u001b[0m\u001b[37m\u001b[0m \u001b[1m3383s\u001b[0m 242ms/step - accuracy: 0.9676 - loss: 0.0145 - mae: 0.0763 - mse: 0.0145\n",
      "Epoch 12/30\n",
      "\u001b[1m13999/13999\u001b[0m \u001b[32m━━━━━━━━━━━━━━━━━━━━\u001b[0m\u001b[37m\u001b[0m \u001b[1m599s\u001b[0m 43ms/step - accuracy: 0.9673 - loss: 0.0147 - mae: 0.0767 - mse: 0.0147\n",
      "Epoch 13/30\n",
      "\u001b[1m13999/13999\u001b[0m \u001b[32m━━━━━━━━━━━━━━━━━━━━\u001b[0m\u001b[37m\u001b[0m \u001b[1m601s\u001b[0m 43ms/step - accuracy: 0.9675 - loss: 0.0146 - mae: 0.0766 - mse: 0.0146\n",
      "Epoch 13: early stopping\n",
      "validation_x shape (149310, 10, 4)\n",
      "\u001b[1m4666/4666\u001b[0m \u001b[32m━━━━━━━━━━━━━━━━━━━━\u001b[0m\u001b[37m\u001b[0m \u001b[1m56s\u001b[0m 12ms/step\n",
      "(149310, 2)\n",
      "(149310, 2)\n",
      "Precision  1 :  14.091487509209028\n",
      "Precision  2 :  27.761034090148016\n",
      "Precision  3 :  39.2277811265153\n",
      "Precision  4 :  48.57209831893376\n",
      "Precision  5 :  56.382693724465874\n"
     ]
    },
    {
     "name": "stderr",
     "output_type": "stream",
     "text": [
      "/tmp/ipykernel_32075/128050465.py:217: DeprecationWarning: Conversion of an array with ndim > 0 to a scalar is deprecated, and will error in future. Ensure you extract a single element from your array before performing this operation. (Deprecated NumPy 1.25.)\n",
      "  rmse = math.sqrt(rmse)\n"
     ]
    },
    {
     "name": "stdout",
     "output_type": "stream",
     "text": [
      "6.3333491816401235\n",
      "testing on : PK\n",
      "<class 'pandas.core.frame.DataFrame'>\n",
      "RangeIndex: 26915 entries, 0 to 26914\n",
      "Data columns (total 13 columns):\n",
      " #   Column         Non-Null Count  Dtype  \n",
      "---  ------         --------------  -----  \n",
      " 0   lcop           26915 non-null  float64\n",
      " 1   rcop           26915 non-null  float64\n",
      " 2   lgrf           26915 non-null  float64\n",
      " 3   rgrf           26915 non-null  float64\n",
      " 4   l_ph_hip       26915 non-null  float64\n",
      " 5   r_ph_hip       26915 non-null  float64\n",
      " 6   st_sw_phase_l  26915 non-null  float64\n",
      " 7   st_sw_phase_r  26915 non-null  float64\n",
      " 8   st_l_l         26915 non-null  float64\n",
      " 9   st_l_r         26915 non-null  float64\n",
      " 10  leg_len        26915 non-null  float64\n",
      " 11  weight         26915 non-null  float64\n",
      " 12  perc           26915 non-null  float64\n",
      "dtypes: float64(13)\n",
      "memory usage: 2.7 MB\n",
      "<class 'pandas.core.frame.DataFrame'>\n",
      "RangeIndex: 26544 entries, 0 to 26543\n",
      "Data columns (total 4 columns):\n",
      " #   Column    Non-Null Count  Dtype  \n",
      "---  ------    --------------  -----  \n",
      " 0   l_ph_hip  26544 non-null  float64\n",
      " 1   r_ph_hip  26544 non-null  float64\n",
      " 2   st_l_l    26544 non-null  float64\n",
      " 3   st_l_r    26544 non-null  float64\n",
      "dtypes: float64(4)\n",
      "memory usage: 829.6 KB\n",
      "validation_x shape (19897, 10, 4)\n",
      "\u001b[1m622/622\u001b[0m \u001b[32m━━━━━━━━━━━━━━━━━━━━\u001b[0m\u001b[37m\u001b[0m \u001b[1m7s\u001b[0m 12ms/step\n",
      "(19897, 2)\n",
      "(19897, 2)\n",
      "Precision  1 :  10.086947781072524\n",
      "Precision  2 :  19.15866713574911\n",
      "Precision  3 :  27.154847464441875\n",
      "Precision  4 :  34.7288535960195\n",
      "Precision  5 :  43.33316580389003\n",
      "8.61640930244954\n"
     ]
    },
    {
     "name": "stderr",
     "output_type": "stream",
     "text": [
      "/tmp/ipykernel_32075/128050465.py:217: DeprecationWarning: Conversion of an array with ndim > 0 to a scalar is deprecated, and will error in future. Ensure you extract a single element from your array before performing this operation. (Deprecated NumPy 1.25.)\n",
      "  rmse = math.sqrt(rmse)\n"
     ]
    },
    {
     "name": "stdout",
     "output_type": "stream",
     "text": [
      "Subject combination : ['VP', 'AK', 'SD', 'PH', 'YC', 'JL', 'JS', 'PK', 'TH', 'SKS', 'VN']\n",
      "All Data Info: \n",
      "<class 'pandas.core.frame.DataFrame'>\n",
      "RangeIndex: 574311 entries, 0 to 574310\n",
      "Data columns (total 13 columns):\n",
      " #   Column         Non-Null Count   Dtype  \n",
      "---  ------         --------------   -----  \n",
      " 0   lcop           574311 non-null  float64\n",
      " 1   rcop           574311 non-null  float64\n",
      " 2   lgrf           574311 non-null  float64\n",
      " 3   rgrf           574311 non-null  float64\n",
      " 4   l_ph_hip       574311 non-null  float64\n",
      " 5   r_ph_hip       574311 non-null  float64\n",
      " 6   st_sw_phase_l  574311 non-null  float64\n",
      " 7   st_sw_phase_r  574311 non-null  float64\n",
      " 8   st_l_l         574311 non-null  float64\n",
      " 9   st_l_r         574311 non-null  float64\n",
      " 10  leg_len        574311 non-null  float64\n",
      " 11  weight         574311 non-null  float64\n",
      " 12  perc           574311 non-null  float64\n",
      "dtypes: float64(13)\n",
      "memory usage: 57.0 MB\n",
      "<class 'pandas.core.frame.DataFrame'>\n",
      "RangeIndex: 574311 entries, 0 to 574310\n",
      "Data columns (total 13 columns):\n",
      " #   Column         Non-Null Count   Dtype  \n",
      "---  ------         --------------   -----  \n",
      " 0   lcop           574311 non-null  float64\n",
      " 1   rcop           574311 non-null  float64\n",
      " 2   lgrf           574311 non-null  float64\n",
      " 3   rgrf           574311 non-null  float64\n",
      " 4   l_ph_hip       574311 non-null  float64\n",
      " 5   r_ph_hip       574311 non-null  float64\n",
      " 6   st_sw_phase_l  574311 non-null  float64\n",
      " 7   st_sw_phase_r  574311 non-null  float64\n",
      " 8   st_l_l         574311 non-null  float64\n",
      " 9   st_l_r         574311 non-null  float64\n",
      " 10  leg_len        574311 non-null  float64\n",
      " 11  weight         574311 non-null  float64\n",
      " 12  perc           574311 non-null  float64\n",
      "dtypes: float64(13)\n",
      "memory usage: 57.0 MB\n",
      "<class 'pandas.core.frame.DataFrame'>\n",
      "RangeIndex: 571500 entries, 0 to 571499\n",
      "Data columns (total 4 columns):\n",
      " #   Column    Non-Null Count   Dtype  \n",
      "---  ------    --------------   -----  \n",
      " 0   l_ph_hip  571500 non-null  float64\n",
      " 1   r_ph_hip  571500 non-null  float64\n",
      " 2   st_l_l    571500 non-null  float64\n",
      " 3   st_l_r    571500 non-null  float64\n",
      "dtypes: float64(4)\n",
      "memory usage: 17.4 MB\n",
      "Nan in train x at indices: []\n",
      "Nan in train y at indices: []\n",
      "(428614, 10, 4)\n",
      "(142864, 10, 4)\n",
      "SSS\n",
      "OKAY till here 1\n"
     ]
    },
    {
     "name": "stderr",
     "output_type": "stream",
     "text": [
      "/home/hikikomori/miniconda3/envs/clean_gait_phase/lib/python3.10/site-packages/keras/src/layers/rnn/rnn.py:205: UserWarning: Do not pass an `input_shape`/`input_dim` argument to a layer. When using Sequential models, prefer using an `Input(shape)` object as the first layer in the model instead.\n",
      "  super().__init__(**kwargs)\n"
     ]
    },
    {
     "data": {
      "text/html": [
       "<pre style=\"white-space:pre;overflow-x:auto;line-height:normal;font-family:Menlo,'DejaVu Sans Mono',consolas,'Courier New',monospace\"><span style=\"font-weight: bold\">Model: \"sequential_8\"</span>\n",
       "</pre>\n"
      ],
      "text/plain": [
       "\u001b[1mModel: \"sequential_8\"\u001b[0m\n"
      ]
     },
     "metadata": {},
     "output_type": "display_data"
    },
    {
     "data": {
      "text/html": [
       "<pre style=\"white-space:pre;overflow-x:auto;line-height:normal;font-family:Menlo,'DejaVu Sans Mono',consolas,'Courier New',monospace\">┏━━━━━━━━━━━━━━━━━━━━━━━━━━━━━━━━━┳━━━━━━━━━━━━━━━━━━━━━━━━━━━┳━━━━━━━━━━━━┓\n",
       "┃<span style=\"font-weight: bold\"> Layer (type)                    </span>┃<span style=\"font-weight: bold\"> Output Shape              </span>┃<span style=\"font-weight: bold\">    Param # </span>┃\n",
       "┡━━━━━━━━━━━━━━━━━━━━━━━━━━━━━━━━━╇━━━━━━━━━━━━━━━━━━━━━━━━━━━╇━━━━━━━━━━━━┩\n",
       "│ lstm_16 (<span style=\"color: #0087ff; text-decoration-color: #0087ff\">LSTM</span>)                  │ (<span style=\"color: #00d7ff; text-decoration-color: #00d7ff\">None</span>, <span style=\"color: #00af00; text-decoration-color: #00af00\">10</span>, <span style=\"color: #00af00; text-decoration-color: #00af00\">64</span>)            │     <span style=\"color: #00af00; text-decoration-color: #00af00\">17,664</span> │\n",
       "├─────────────────────────────────┼───────────────────────────┼────────────┤\n",
       "│ lstm_17 (<span style=\"color: #0087ff; text-decoration-color: #0087ff\">LSTM</span>)                  │ (<span style=\"color: #00d7ff; text-decoration-color: #00d7ff\">None</span>, <span style=\"color: #00af00; text-decoration-color: #00af00\">32</span>)                │     <span style=\"color: #00af00; text-decoration-color: #00af00\">12,416</span> │\n",
       "├─────────────────────────────────┼───────────────────────────┼────────────┤\n",
       "│ dense_8 (<span style=\"color: #0087ff; text-decoration-color: #0087ff\">Dense</span>)                 │ (<span style=\"color: #00d7ff; text-decoration-color: #00d7ff\">None</span>, <span style=\"color: #00af00; text-decoration-color: #00af00\">2</span>)                 │         <span style=\"color: #00af00; text-decoration-color: #00af00\">66</span> │\n",
       "└─────────────────────────────────┴───────────────────────────┴────────────┘\n",
       "</pre>\n"
      ],
      "text/plain": [
       "┏━━━━━━━━━━━━━━━━━━━━━━━━━━━━━━━━━┳━━━━━━━━━━━━━━━━━━━━━━━━━━━┳━━━━━━━━━━━━┓\n",
       "┃\u001b[1m \u001b[0m\u001b[1mLayer (type)                   \u001b[0m\u001b[1m \u001b[0m┃\u001b[1m \u001b[0m\u001b[1mOutput Shape             \u001b[0m\u001b[1m \u001b[0m┃\u001b[1m \u001b[0m\u001b[1m   Param #\u001b[0m\u001b[1m \u001b[0m┃\n",
       "┡━━━━━━━━━━━━━━━━━━━━━━━━━━━━━━━━━╇━━━━━━━━━━━━━━━━━━━━━━━━━━━╇━━━━━━━━━━━━┩\n",
       "│ lstm_16 (\u001b[38;5;33mLSTM\u001b[0m)                  │ (\u001b[38;5;45mNone\u001b[0m, \u001b[38;5;34m10\u001b[0m, \u001b[38;5;34m64\u001b[0m)            │     \u001b[38;5;34m17,664\u001b[0m │\n",
       "├─────────────────────────────────┼───────────────────────────┼────────────┤\n",
       "│ lstm_17 (\u001b[38;5;33mLSTM\u001b[0m)                  │ (\u001b[38;5;45mNone\u001b[0m, \u001b[38;5;34m32\u001b[0m)                │     \u001b[38;5;34m12,416\u001b[0m │\n",
       "├─────────────────────────────────┼───────────────────────────┼────────────┤\n",
       "│ dense_8 (\u001b[38;5;33mDense\u001b[0m)                 │ (\u001b[38;5;45mNone\u001b[0m, \u001b[38;5;34m2\u001b[0m)                 │         \u001b[38;5;34m66\u001b[0m │\n",
       "└─────────────────────────────────┴───────────────────────────┴────────────┘\n"
      ]
     },
     "metadata": {},
     "output_type": "display_data"
    },
    {
     "data": {
      "text/html": [
       "<pre style=\"white-space:pre;overflow-x:auto;line-height:normal;font-family:Menlo,'DejaVu Sans Mono',consolas,'Courier New',monospace\"><span style=\"font-weight: bold\"> Total params: </span><span style=\"color: #00af00; text-decoration-color: #00af00\">30,146</span> (117.76 KB)\n",
       "</pre>\n"
      ],
      "text/plain": [
       "\u001b[1m Total params: \u001b[0m\u001b[38;5;34m30,146\u001b[0m (117.76 KB)\n"
      ]
     },
     "metadata": {},
     "output_type": "display_data"
    },
    {
     "data": {
      "text/html": [
       "<pre style=\"white-space:pre;overflow-x:auto;line-height:normal;font-family:Menlo,'DejaVu Sans Mono',consolas,'Courier New',monospace\"><span style=\"font-weight: bold\"> Trainable params: </span><span style=\"color: #00af00; text-decoration-color: #00af00\">30,146</span> (117.76 KB)\n",
       "</pre>\n"
      ],
      "text/plain": [
       "\u001b[1m Trainable params: \u001b[0m\u001b[38;5;34m30,146\u001b[0m (117.76 KB)\n"
      ]
     },
     "metadata": {},
     "output_type": "display_data"
    },
    {
     "data": {
      "text/html": [
       "<pre style=\"white-space:pre;overflow-x:auto;line-height:normal;font-family:Menlo,'DejaVu Sans Mono',consolas,'Courier New',monospace\"><span style=\"font-weight: bold\"> Non-trainable params: </span><span style=\"color: #00af00; text-decoration-color: #00af00\">0</span> (0.00 B)\n",
       "</pre>\n"
      ],
      "text/plain": [
       "\u001b[1m Non-trainable params: \u001b[0m\u001b[38;5;34m0\u001b[0m (0.00 B)\n"
      ]
     },
     "metadata": {},
     "output_type": "display_data"
    },
    {
     "name": "stdout",
     "output_type": "stream",
     "text": [
      "None\n",
      "Epoch 1/30\n",
      "\u001b[1m13395/13395\u001b[0m \u001b[32m━━━━━━━━━━━━━━━━━━━━\u001b[0m\u001b[37m\u001b[0m \u001b[1m568s\u001b[0m 42ms/step - accuracy: 0.9475 - loss: 0.0381 - mae: 0.1212 - mse: 0.0381\n",
      "Epoch 2/30\n",
      "\u001b[1m13395/13395\u001b[0m \u001b[32m━━━━━━━━━━━━━━━━━━━━\u001b[0m\u001b[37m\u001b[0m \u001b[1m552s\u001b[0m 41ms/step - accuracy: 0.9691 - loss: 0.0148 - mae: 0.0776 - mse: 0.0148\n",
      "Epoch 3/30\n",
      "\u001b[1m13395/13395\u001b[0m \u001b[32m━━━━━━━━━━━━━━━━━━━━\u001b[0m\u001b[37m\u001b[0m \u001b[1m552s\u001b[0m 41ms/step - accuracy: 0.9685 - loss: 0.0144 - mae: 0.0765 - mse: 0.0144\n",
      "Epoch 4/30\n",
      "\u001b[1m13395/13395\u001b[0m \u001b[32m━━━━━━━━━━━━━━━━━━━━\u001b[0m\u001b[37m\u001b[0m \u001b[1m554s\u001b[0m 41ms/step - accuracy: 0.9696 - loss: 0.0144 - mae: 0.0765 - mse: 0.0144\n",
      "Epoch 5/30\n",
      "\u001b[1m13395/13395\u001b[0m \u001b[32m━━━━━━━━━━━━━━━━━━━━\u001b[0m\u001b[37m\u001b[0m \u001b[1m567s\u001b[0m 42ms/step - accuracy: 0.9691 - loss: 0.0144 - mae: 0.0766 - mse: 0.0144\n",
      "Epoch 6/30\n",
      "\u001b[1m13395/13395\u001b[0m \u001b[32m━━━━━━━━━━━━━━━━━━━━\u001b[0m\u001b[37m\u001b[0m \u001b[1m570s\u001b[0m 43ms/step - accuracy: 0.9686 - loss: 0.0145 - mae: 0.0767 - mse: 0.0145\n",
      "Epoch 7/30\n",
      "\u001b[1m13395/13395\u001b[0m \u001b[32m━━━━━━━━━━━━━━━━━━━━\u001b[0m\u001b[37m\u001b[0m \u001b[1m572s\u001b[0m 43ms/step - accuracy: 0.9680 - loss: 0.0144 - mae: 0.0764 - mse: 0.0144\n",
      "Epoch 8/30\n",
      "\u001b[1m13395/13395\u001b[0m \u001b[32m━━━━━━━━━━━━━━━━━━━━\u001b[0m\u001b[37m\u001b[0m \u001b[1m571s\u001b[0m 43ms/step - accuracy: 0.9690 - loss: 0.0145 - mae: 0.0766 - mse: 0.0145\n",
      "Epoch 9/30\n",
      "\u001b[1m13395/13395\u001b[0m \u001b[32m━━━━━━━━━━━━━━━━━━━━\u001b[0m\u001b[37m\u001b[0m \u001b[1m551s\u001b[0m 41ms/step - accuracy: 0.9687 - loss: 0.0144 - mae: 0.0767 - mse: 0.0144\n",
      "Epoch 9: early stopping\n",
      "validation_x shape (142864, 10, 4)\n",
      "\u001b[1m4465/4465\u001b[0m \u001b[32m━━━━━━━━━━━━━━━━━━━━\u001b[0m\u001b[37m\u001b[0m \u001b[1m55s\u001b[0m 12ms/step\n",
      "(142864, 2)\n",
      "(142864, 2)\n",
      "Precision  1 :  15.63374958002016\n",
      "Precision  2 :  29.13890133273603\n",
      "Precision  3 :  39.80918915892037\n",
      "Precision  4 :  48.217885541494006\n",
      "Precision  5 :  55.14475305185351\n"
     ]
    },
    {
     "name": "stderr",
     "output_type": "stream",
     "text": [
      "/tmp/ipykernel_32075/128050465.py:217: DeprecationWarning: Conversion of an array with ndim > 0 to a scalar is deprecated, and will error in future. Ensure you extract a single element from your array before performing this operation. (Deprecated NumPy 1.25.)\n",
      "  rmse = math.sqrt(rmse)\n"
     ]
    },
    {
     "name": "stdout",
     "output_type": "stream",
     "text": [
      "6.712151572622978\n",
      "testing on : SOE\n",
      "<class 'pandas.core.frame.DataFrame'>\n",
      "RangeIndex: 52747 entries, 0 to 52746\n",
      "Data columns (total 13 columns):\n",
      " #   Column         Non-Null Count  Dtype  \n",
      "---  ------         --------------  -----  \n",
      " 0   lcop           52747 non-null  float64\n",
      " 1   rcop           52747 non-null  float64\n",
      " 2   lgrf           52747 non-null  float64\n",
      " 3   rgrf           52747 non-null  float64\n",
      " 4   l_ph_hip       52747 non-null  float64\n",
      " 5   r_ph_hip       52747 non-null  float64\n",
      " 6   st_sw_phase_l  52747 non-null  float64\n",
      " 7   st_sw_phase_r  52747 non-null  float64\n",
      " 8   st_l_l         52747 non-null  float64\n",
      " 9   st_l_r         52747 non-null  float64\n",
      " 10  leg_len        52747 non-null  float64\n",
      " 11  weight         52747 non-null  float64\n",
      " 12  perc           52747 non-null  float64\n",
      "dtypes: float64(13)\n",
      "memory usage: 5.2 MB\n",
      "<class 'pandas.core.frame.DataFrame'>\n",
      "RangeIndex: 52236 entries, 0 to 52235\n",
      "Data columns (total 4 columns):\n",
      " #   Column    Non-Null Count  Dtype  \n",
      "---  ------    --------------  -----  \n",
      " 0   l_ph_hip  52236 non-null  float64\n",
      " 1   r_ph_hip  52236 non-null  float64\n",
      " 2   st_l_l    52236 non-null  float64\n",
      " 3   st_l_r    52236 non-null  float64\n",
      "dtypes: float64(4)\n",
      "memory usage: 1.6 MB\n",
      "validation_x shape (39166, 10, 4)\n",
      "\u001b[1m1224/1224\u001b[0m \u001b[32m━━━━━━━━━━━━━━━━━━━━\u001b[0m\u001b[37m\u001b[0m \u001b[1m16s\u001b[0m 13ms/step\n",
      "(39166, 2)\n",
      "(39166, 2)\n",
      "Precision  1 :  8.185671245468008\n",
      "Precision  2 :  16.598580401368533\n",
      "Precision  3 :  25.29234540162386\n",
      "Precision  4 :  33.444824592759026\n",
      "Precision  5 :  40.101108103967725\n",
      "11.27068638598743\n"
     ]
    },
    {
     "name": "stderr",
     "output_type": "stream",
     "text": [
      "/tmp/ipykernel_32075/128050465.py:217: DeprecationWarning: Conversion of an array with ndim > 0 to a scalar is deprecated, and will error in future. Ensure you extract a single element from your array before performing this operation. (Deprecated NumPy 1.25.)\n",
      "  rmse = math.sqrt(rmse)\n"
     ]
    },
    {
     "name": "stdout",
     "output_type": "stream",
     "text": [
      "Subject combination : ['VP', 'AK', 'SD', 'PH', 'YC', 'JL', 'JS', 'PK', 'SOE', 'SKS', 'VN']\n",
      "All Data Info: \n",
      "<class 'pandas.core.frame.DataFrame'>\n",
      "RangeIndex: 567438 entries, 0 to 567437\n",
      "Data columns (total 13 columns):\n",
      " #   Column         Non-Null Count   Dtype  \n",
      "---  ------         --------------   -----  \n",
      " 0   lcop           567438 non-null  float64\n",
      " 1   rcop           567438 non-null  float64\n",
      " 2   lgrf           567438 non-null  float64\n",
      " 3   rgrf           567438 non-null  float64\n",
      " 4   l_ph_hip       567438 non-null  float64\n",
      " 5   r_ph_hip       567438 non-null  float64\n",
      " 6   st_sw_phase_l  567438 non-null  float64\n",
      " 7   st_sw_phase_r  567438 non-null  float64\n",
      " 8   st_l_l         567438 non-null  float64\n",
      " 9   st_l_r         567438 non-null  float64\n",
      " 10  leg_len        567438 non-null  float64\n",
      " 11  weight         567438 non-null  float64\n",
      " 12  perc           567438 non-null  float64\n",
      "dtypes: float64(13)\n",
      "memory usage: 56.3 MB\n",
      "<class 'pandas.core.frame.DataFrame'>\n",
      "RangeIndex: 567438 entries, 0 to 567437\n",
      "Data columns (total 13 columns):\n",
      " #   Column         Non-Null Count   Dtype  \n",
      "---  ------         --------------   -----  \n",
      " 0   lcop           567438 non-null  float64\n",
      " 1   rcop           567438 non-null  float64\n",
      " 2   lgrf           567438 non-null  float64\n",
      " 3   rgrf           567438 non-null  float64\n",
      " 4   l_ph_hip       567438 non-null  float64\n",
      " 5   r_ph_hip       567438 non-null  float64\n",
      " 6   st_sw_phase_l  567438 non-null  float64\n",
      " 7   st_sw_phase_r  567438 non-null  float64\n",
      " 8   st_l_l         567438 non-null  float64\n",
      " 9   st_l_r         567438 non-null  float64\n",
      " 10  leg_len        567438 non-null  float64\n",
      " 11  weight         567438 non-null  float64\n",
      " 12  perc           567438 non-null  float64\n",
      "dtypes: float64(13)\n",
      "memory usage: 56.3 MB\n",
      "<class 'pandas.core.frame.DataFrame'>\n",
      "RangeIndex: 564651 entries, 0 to 564650\n",
      "Data columns (total 4 columns):\n",
      " #   Column    Non-Null Count   Dtype  \n",
      "---  ------    --------------   -----  \n",
      " 0   l_ph_hip  564651 non-null  float64\n",
      " 1   r_ph_hip  564651 non-null  float64\n",
      " 2   st_l_l    564651 non-null  float64\n",
      " 3   st_l_r    564651 non-null  float64\n",
      "dtypes: float64(4)\n",
      "memory usage: 17.2 MB\n",
      "Nan in train x at indices: []\n",
      "Nan in train y at indices: []\n",
      "(423477, 10, 4)\n",
      "(141152, 10, 4)\n",
      "SSS\n",
      "OKAY till here 1\n"
     ]
    },
    {
     "name": "stderr",
     "output_type": "stream",
     "text": [
      "/home/hikikomori/miniconda3/envs/clean_gait_phase/lib/python3.10/site-packages/keras/src/layers/rnn/rnn.py:205: UserWarning: Do not pass an `input_shape`/`input_dim` argument to a layer. When using Sequential models, prefer using an `Input(shape)` object as the first layer in the model instead.\n",
      "  super().__init__(**kwargs)\n"
     ]
    },
    {
     "data": {
      "text/html": [
       "<pre style=\"white-space:pre;overflow-x:auto;line-height:normal;font-family:Menlo,'DejaVu Sans Mono',consolas,'Courier New',monospace\"><span style=\"font-weight: bold\">Model: \"sequential_9\"</span>\n",
       "</pre>\n"
      ],
      "text/plain": [
       "\u001b[1mModel: \"sequential_9\"\u001b[0m\n"
      ]
     },
     "metadata": {},
     "output_type": "display_data"
    },
    {
     "data": {
      "text/html": [
       "<pre style=\"white-space:pre;overflow-x:auto;line-height:normal;font-family:Menlo,'DejaVu Sans Mono',consolas,'Courier New',monospace\">┏━━━━━━━━━━━━━━━━━━━━━━━━━━━━━━━━━┳━━━━━━━━━━━━━━━━━━━━━━━━━━━┳━━━━━━━━━━━━┓\n",
       "┃<span style=\"font-weight: bold\"> Layer (type)                    </span>┃<span style=\"font-weight: bold\"> Output Shape              </span>┃<span style=\"font-weight: bold\">    Param # </span>┃\n",
       "┡━━━━━━━━━━━━━━━━━━━━━━━━━━━━━━━━━╇━━━━━━━━━━━━━━━━━━━━━━━━━━━╇━━━━━━━━━━━━┩\n",
       "│ lstm_18 (<span style=\"color: #0087ff; text-decoration-color: #0087ff\">LSTM</span>)                  │ (<span style=\"color: #00d7ff; text-decoration-color: #00d7ff\">None</span>, <span style=\"color: #00af00; text-decoration-color: #00af00\">10</span>, <span style=\"color: #00af00; text-decoration-color: #00af00\">64</span>)            │     <span style=\"color: #00af00; text-decoration-color: #00af00\">17,664</span> │\n",
       "├─────────────────────────────────┼───────────────────────────┼────────────┤\n",
       "│ lstm_19 (<span style=\"color: #0087ff; text-decoration-color: #0087ff\">LSTM</span>)                  │ (<span style=\"color: #00d7ff; text-decoration-color: #00d7ff\">None</span>, <span style=\"color: #00af00; text-decoration-color: #00af00\">32</span>)                │     <span style=\"color: #00af00; text-decoration-color: #00af00\">12,416</span> │\n",
       "├─────────────────────────────────┼───────────────────────────┼────────────┤\n",
       "│ dense_9 (<span style=\"color: #0087ff; text-decoration-color: #0087ff\">Dense</span>)                 │ (<span style=\"color: #00d7ff; text-decoration-color: #00d7ff\">None</span>, <span style=\"color: #00af00; text-decoration-color: #00af00\">2</span>)                 │         <span style=\"color: #00af00; text-decoration-color: #00af00\">66</span> │\n",
       "└─────────────────────────────────┴───────────────────────────┴────────────┘\n",
       "</pre>\n"
      ],
      "text/plain": [
       "┏━━━━━━━━━━━━━━━━━━━━━━━━━━━━━━━━━┳━━━━━━━━━━━━━━━━━━━━━━━━━━━┳━━━━━━━━━━━━┓\n",
       "┃\u001b[1m \u001b[0m\u001b[1mLayer (type)                   \u001b[0m\u001b[1m \u001b[0m┃\u001b[1m \u001b[0m\u001b[1mOutput Shape             \u001b[0m\u001b[1m \u001b[0m┃\u001b[1m \u001b[0m\u001b[1m   Param #\u001b[0m\u001b[1m \u001b[0m┃\n",
       "┡━━━━━━━━━━━━━━━━━━━━━━━━━━━━━━━━━╇━━━━━━━━━━━━━━━━━━━━━━━━━━━╇━━━━━━━━━━━━┩\n",
       "│ lstm_18 (\u001b[38;5;33mLSTM\u001b[0m)                  │ (\u001b[38;5;45mNone\u001b[0m, \u001b[38;5;34m10\u001b[0m, \u001b[38;5;34m64\u001b[0m)            │     \u001b[38;5;34m17,664\u001b[0m │\n",
       "├─────────────────────────────────┼───────────────────────────┼────────────┤\n",
       "│ lstm_19 (\u001b[38;5;33mLSTM\u001b[0m)                  │ (\u001b[38;5;45mNone\u001b[0m, \u001b[38;5;34m32\u001b[0m)                │     \u001b[38;5;34m12,416\u001b[0m │\n",
       "├─────────────────────────────────┼───────────────────────────┼────────────┤\n",
       "│ dense_9 (\u001b[38;5;33mDense\u001b[0m)                 │ (\u001b[38;5;45mNone\u001b[0m, \u001b[38;5;34m2\u001b[0m)                 │         \u001b[38;5;34m66\u001b[0m │\n",
       "└─────────────────────────────────┴───────────────────────────┴────────────┘\n"
      ]
     },
     "metadata": {},
     "output_type": "display_data"
    },
    {
     "data": {
      "text/html": [
       "<pre style=\"white-space:pre;overflow-x:auto;line-height:normal;font-family:Menlo,'DejaVu Sans Mono',consolas,'Courier New',monospace\"><span style=\"font-weight: bold\"> Total params: </span><span style=\"color: #00af00; text-decoration-color: #00af00\">30,146</span> (117.76 KB)\n",
       "</pre>\n"
      ],
      "text/plain": [
       "\u001b[1m Total params: \u001b[0m\u001b[38;5;34m30,146\u001b[0m (117.76 KB)\n"
      ]
     },
     "metadata": {},
     "output_type": "display_data"
    },
    {
     "data": {
      "text/html": [
       "<pre style=\"white-space:pre;overflow-x:auto;line-height:normal;font-family:Menlo,'DejaVu Sans Mono',consolas,'Courier New',monospace\"><span style=\"font-weight: bold\"> Trainable params: </span><span style=\"color: #00af00; text-decoration-color: #00af00\">30,146</span> (117.76 KB)\n",
       "</pre>\n"
      ],
      "text/plain": [
       "\u001b[1m Trainable params: \u001b[0m\u001b[38;5;34m30,146\u001b[0m (117.76 KB)\n"
      ]
     },
     "metadata": {},
     "output_type": "display_data"
    },
    {
     "data": {
      "text/html": [
       "<pre style=\"white-space:pre;overflow-x:auto;line-height:normal;font-family:Menlo,'DejaVu Sans Mono',consolas,'Courier New',monospace\"><span style=\"font-weight: bold\"> Non-trainable params: </span><span style=\"color: #00af00; text-decoration-color: #00af00\">0</span> (0.00 B)\n",
       "</pre>\n"
      ],
      "text/plain": [
       "\u001b[1m Non-trainable params: \u001b[0m\u001b[38;5;34m0\u001b[0m (0.00 B)\n"
      ]
     },
     "metadata": {},
     "output_type": "display_data"
    },
    {
     "name": "stdout",
     "output_type": "stream",
     "text": [
      "None\n",
      "Epoch 1/30\n",
      "\u001b[1m13234/13234\u001b[0m \u001b[32m━━━━━━━━━━━━━━━━━━━━\u001b[0m\u001b[37m\u001b[0m \u001b[1m554s\u001b[0m 42ms/step - accuracy: 0.9474 - loss: 0.0376 - mae: 0.1218 - mse: 0.0376\n",
      "Epoch 2/30\n",
      "\u001b[1m13234/13234\u001b[0m \u001b[32m━━━━━━━━━━━━━━━━━━━━\u001b[0m\u001b[37m\u001b[0m \u001b[1m555s\u001b[0m 42ms/step - accuracy: 0.9679 - loss: 0.0138 - mae: 0.0760 - mse: 0.0138\n",
      "Epoch 3/30\n",
      "\u001b[1m13234/13234\u001b[0m \u001b[32m━━━━━━━━━━━━━━━━━━━━\u001b[0m\u001b[37m\u001b[0m \u001b[1m576s\u001b[0m 43ms/step - accuracy: 0.9693 - loss: 0.0133 - mae: 0.0749 - mse: 0.0133\n",
      "Epoch 4/30\n",
      "\u001b[1m13234/13234\u001b[0m \u001b[32m━━━━━━━━━━━━━━━━━━━━\u001b[0m\u001b[37m\u001b[0m \u001b[1m542s\u001b[0m 41ms/step - accuracy: 0.9679 - loss: 0.0133 - mae: 0.0748 - mse: 0.0133\n",
      "Epoch 5/30\n",
      "\u001b[1m13234/13234\u001b[0m \u001b[32m━━━━━━━━━━━━━━━━━━━━\u001b[0m\u001b[37m\u001b[0m \u001b[1m550s\u001b[0m 42ms/step - accuracy: 0.9684 - loss: 0.0134 - mae: 0.0750 - mse: 0.0134\n",
      "Epoch 6/30\n",
      "\u001b[1m13234/13234\u001b[0m \u001b[32m━━━━━━━━━━━━━━━━━━━━\u001b[0m\u001b[37m\u001b[0m \u001b[1m557s\u001b[0m 42ms/step - accuracy: 0.9682 - loss: 0.0135 - mae: 0.0751 - mse: 0.0135\n",
      "Epoch 7/30\n",
      "\u001b[1m13234/13234\u001b[0m \u001b[32m━━━━━━━━━━━━━━━━━━━━\u001b[0m\u001b[37m\u001b[0m \u001b[1m556s\u001b[0m 42ms/step - accuracy: 0.9686 - loss: 0.0135 - mae: 0.0750 - mse: 0.0135\n",
      "Epoch 8/30\n",
      "\u001b[1m13234/13234\u001b[0m \u001b[32m━━━━━━━━━━━━━━━━━━━━\u001b[0m\u001b[37m\u001b[0m \u001b[1m556s\u001b[0m 42ms/step - accuracy: 0.9685 - loss: 0.0134 - mae: 0.0748 - mse: 0.0134\n",
      "Epoch 9/30\n",
      "\u001b[1m13234/13234\u001b[0m \u001b[32m━━━━━━━━━━━━━━━━━━━━\u001b[0m\u001b[37m\u001b[0m \u001b[1m538s\u001b[0m 41ms/step - accuracy: 0.9688 - loss: 0.0132 - mae: 0.0749 - mse: 0.0132\n",
      "Epoch 10/30\n",
      "\u001b[1m13234/13234\u001b[0m \u001b[32m━━━━━━━━━━━━━━━━━━━━\u001b[0m\u001b[37m\u001b[0m \u001b[1m534s\u001b[0m 40ms/step - accuracy: 0.9687 - loss: 0.0133 - mae: 0.0749 - mse: 0.0133\n",
      "Epoch 11/30\n",
      "\u001b[1m13234/13234\u001b[0m \u001b[32m━━━━━━━━━━━━━━━━━━━━\u001b[0m\u001b[37m\u001b[0m \u001b[1m535s\u001b[0m 40ms/step - accuracy: 0.9685 - loss: 0.0133 - mae: 0.0748 - mse: 0.0133\n",
      "Epoch 12/30\n",
      "\u001b[1m13234/13234\u001b[0m \u001b[32m━━━━━━━━━━━━━━━━━━━━\u001b[0m\u001b[37m\u001b[0m \u001b[1m538s\u001b[0m 41ms/step - accuracy: 0.9689 - loss: 0.0133 - mae: 0.0748 - mse: 0.0133\n",
      "Epoch 13/30\n",
      "\u001b[1m13234/13234\u001b[0m \u001b[32m━━━━━━━━━━━━━━━━━━━━\u001b[0m\u001b[37m\u001b[0m \u001b[1m559s\u001b[0m 42ms/step - accuracy: 0.9690 - loss: 0.0133 - mae: 0.0749 - mse: 0.0133\n",
      "Epoch 14/30\n",
      "\u001b[1m13234/13234\u001b[0m \u001b[32m━━━━━━━━━━━━━━━━━━━━\u001b[0m\u001b[37m\u001b[0m \u001b[1m748s\u001b[0m 57ms/step - accuracy: 0.9687 - loss: 0.0132 - mae: 0.0747 - mse: 0.0132\n",
      "Epoch 14: early stopping\n",
      "validation_x shape (141152, 10, 4)\n",
      "\u001b[1m4411/4411\u001b[0m \u001b[32m━━━━━━━━━━━━━━━━━━━━\u001b[0m\u001b[37m\u001b[0m \u001b[1m67s\u001b[0m 15ms/step\n",
      "(141152, 2)\n",
      "(141152, 2)\n",
      "Precision  1 :  9.724977329403764\n",
      "Precision  2 :  20.658580820675585\n",
      "Precision  3 :  32.16319995465881\n",
      "Precision  4 :  43.330593969621404\n",
      "Precision  5 :  53.35737361142598\n"
     ]
    },
    {
     "name": "stderr",
     "output_type": "stream",
     "text": [
      "/tmp/ipykernel_32075/128050465.py:217: DeprecationWarning: Conversion of an array with ndim > 0 to a scalar is deprecated, and will error in future. Ensure you extract a single element from your array before performing this operation. (Deprecated NumPy 1.25.)\n",
      "  rmse = math.sqrt(rmse)\n"
     ]
    },
    {
     "name": "stdout",
     "output_type": "stream",
     "text": [
      "7.621203422044127\n",
      "testing on : TH\n",
      "<class 'pandas.core.frame.DataFrame'>\n",
      "RangeIndex: 59620 entries, 0 to 59619\n",
      "Data columns (total 13 columns):\n",
      " #   Column         Non-Null Count  Dtype  \n",
      "---  ------         --------------  -----  \n",
      " 0   lcop           59620 non-null  float64\n",
      " 1   rcop           59620 non-null  float64\n",
      " 2   lgrf           59620 non-null  float64\n",
      " 3   rgrf           59620 non-null  float64\n",
      " 4   l_ph_hip       59620 non-null  float64\n",
      " 5   r_ph_hip       59620 non-null  float64\n",
      " 6   st_sw_phase_l  59620 non-null  float64\n",
      " 7   st_sw_phase_r  59620 non-null  float64\n",
      " 8   st_l_l         59620 non-null  float64\n",
      " 9   st_l_r         59620 non-null  float64\n",
      " 10  leg_len        59620 non-null  float64\n",
      " 11  weight         59620 non-null  float64\n",
      " 12  perc           59620 non-null  float64\n",
      "dtypes: float64(13)\n",
      "memory usage: 5.9 MB\n",
      "<class 'pandas.core.frame.DataFrame'>\n",
      "RangeIndex: 59133 entries, 0 to 59132\n",
      "Data columns (total 4 columns):\n",
      " #   Column    Non-Null Count  Dtype  \n",
      "---  ------    --------------  -----  \n",
      " 0   l_ph_hip  59133 non-null  float64\n",
      " 1   r_ph_hip  59133 non-null  float64\n",
      " 2   st_l_l    59133 non-null  float64\n",
      " 3   st_l_r    59133 non-null  float64\n",
      "dtypes: float64(4)\n",
      "memory usage: 1.8 MB\n",
      "validation_x shape (44338, 10, 4)\n",
      "\u001b[1m1386/1386\u001b[0m \u001b[32m━━━━━━━━━━━━━━━━━━━━\u001b[0m\u001b[37m\u001b[0m \u001b[1m21s\u001b[0m 15ms/step\n",
      "(44338, 2)\n",
      "(44338, 2)\n",
      "Precision  1 :  16.63809824529749\n",
      "Precision  2 :  30.57196986783346\n",
      "Precision  3 :  42.36772069105508\n",
      "Precision  4 :  50.4240155171636\n",
      "Precision  5 :  56.696287608823134\n",
      "7.248432985796066\n"
     ]
    },
    {
     "name": "stderr",
     "output_type": "stream",
     "text": [
      "/tmp/ipykernel_32075/128050465.py:217: DeprecationWarning: Conversion of an array with ndim > 0 to a scalar is deprecated, and will error in future. Ensure you extract a single element from your array before performing this operation. (Deprecated NumPy 1.25.)\n",
      "  rmse = math.sqrt(rmse)\n"
     ]
    }
   ],
   "source": [
    "file_names = ['JL_I_0_new_.xlsx', 'JL_I_2_new_.xlsx','JL_I_3_new_.xlsx','JL_I_5_new_.xlsx','JL_I_4_new_.xlsx',\n",
    "              'JS_I_1_new_.xlsx', 'JS_I_2_new_.xlsx','JS_I_3_new_.xlsx','JS_I_5_new_.xlsx','JS_I_4_new_.xlsx',\n",
    "              'AK_I_0_new_.xlsx', 'AK_I_2_new_.xlsx','AK_I_3_new_.xlsx','AK_I_5_new_.xlsx','AK_I_4_new_.xlsx',\n",
    "              'VN_I_0_new_.xlsx', 'VN_I_2_new_.xlsx','VN_I_3_new_.xlsx','VN_I_5_new_.xlsx','VN_I_4_new_.xlsx',\n",
    "              'VP_I_0_new_.xlsx', 'VP_I_2_new_.xlsx','VP_I_3_new_.xlsx','VP_I_5_new_.xlsx','VP_I_4_new_.xlsx',\n",
    "             'SOE_I_0_new_.xlsx', 'SOE_I_2_new_.xlsx','SOE_I_3_new_.xlsx','SOE_I_5_new_.xlsx', 'SOE_I_4_new_.xlsx', 'SD_I_3_new_.xlsx', 'SD_I_4_new_.xlsx','SD_I_5_new_.xlsx',\n",
    "             'SD_I_1_new_.xlsx','SD_I_2_new_.xlsx','TH_I_0_new_.xlsx', 'TH_I_2_new_.xlsx', 'TH_I_3_new_.xlsx','TH_I_4_new_.xlsx', 'TH_I_5_new_.xlsx'\n",
    "             ,'PK_I_0_new_.xlsx', 'PK_I_2_new_.xlsx', 'PK_I_3_new_.xlsx','PK_I_5_new_.xlsx',\n",
    "              'SKS_0_I_new_.xlsx', 'SKS_2_I_new_.xlsx','SKS_3_I_new_.xlsx','SKS_4_I_new_.xlsx','SKS_5_I_new_.xlsx',\n",
    "            'PH_I_0_new_.xlsx',  'PH_I_2_new_.xlsx',  'PH_I_3_new_.xlsx',  'PH_I_4_new_.xlsx',  'PH_I_5_new_.xlsx',\n",
    "            'YC_I_0_new_.xlsx',  'YC_I_2_new_.xlsx',  'YC_I_3_new_.xlsx',  'YC_I_4_new_.xlsx',  'YC_I_5_new_.xlsx'\n",
    "              ]\n",
    "subject_dict = {'VN':[0.90,0.63],'AK':[0.80,0.57],'JS':[0.89,0.64],'JL':[0.79,0.63],'SKS':[0.83, 0.58],'VP':[0.93, 0.77],'SOE':[0.90, 0.83],\n",
    "                'SD':[0.83, 0.70], 'TH':[0.66, 0.52], 'PK':[0.90, 0.88], 'PH':[0.95,0.80], 'YC':[0.82,0.79]}\n",
    "subject_names = ['VP','AK', 'SD','PH', 'YC','JL','JS', 'PK', 'SOE', 'TH','SKS', 'VN']#,'VN','AK' 'SOE'\n",
    "sub_comb_list=[]\n",
    "test_sub_list=[]\n",
    "acc_list=[]\n",
    "rmse_list=[]\n",
    "test_acc_list=[]\n",
    "test_rmse_list=[]\n",
    "\n",
    "\n",
    "#path=\"/home/vtp/Gait_Phase_Prediction/Subject_data/Final_files/\"\n",
    "#result_path = \"/home/vtp/Gait_Phase_Prediction/Results/final/\"\n",
    "\n",
    "path = \"/home/hikikomori/Gait_Phase_Prediction/Data/Final Data/\"\n",
    "result_path = \"/home/hikikomori/Gait_Phase_Prediction/Results/final/\"\n",
    "\n",
    "result_pkl_file=result_path+'results_ver_cnn_2.pkl'\n",
    "pkl_file=path+\"all_sub_cnn_2.pkl\"\n",
    "# pkl_file=path+\"good_sub_data.pkl\"\n",
    "\n",
    "for sub in subject_names:\n",
    "\n",
    "  test_sub_list.append(sub)\n",
    "  tmp=subject_names.copy()\n",
    "  tmp.remove(sub)\n",
    "  sub_comb_list.append(tmp)\n",
    "\n",
    "df_dict={}\n",
    "\n",
    "if os.path.exists(pkl_file):\n",
    "    # File is already in pickle format, read to dict\n",
    "    with open(pkl_file, 'rb') as file:\n",
    "        df_dict = pickle.load(file)\n",
    "    \n",
    "else:\n",
    "    # File is not in pickle format/ does not exist, convert and save it as a pickle file\n",
    "\n",
    "    for file_name in file_names:\n",
    "        subject = file_name.split('_')[0]\n",
    "        if subject not in subject_names:\n",
    "            continue\n",
    "        leg_len = subject_dict[subject][0]\n",
    "        weight = subject_dict[subject][1]\n",
    "        print(\"Reading file :\", file_name)\n",
    "        tmp=pd.read_excel(path+ file_name, sheet_name='Sheet1')\n",
    "\n",
    "        #### Add r_ph_hip_l and r\n",
    "        #encode_phase(tmp, 'r_ph_hip')\n",
    "    \n",
    "        perc_column = tmp['perc']\n",
    "        st_sw_col_l = tmp['st_sw_phase_l']\n",
    "        st_sw_col_r= tmp['st_sw_phase_r']\n",
    "        lhip_col = tmp['lhip_ang']\n",
    "        rhip_col = tmp['rhip_ang']\n",
    "        lhip_df=tmp['l_ph_hip']\n",
    "        rhip_df=tmp['r_ph_hip']\n",
    "        #r_hip_ph_x = tmp['r_ph_hip_x']\n",
    "        #r_hip_ph_y = tmp['r_ph_hip_y']\n",
    "\n",
    "        \n",
    "        st_l_l_col = tmp[['st_l_l']]\n",
    "        st_l_r_col = tmp[['st_l_r']]\n",
    "\n",
    "        tmp = tmp.drop(columns=['perc', 'st_sw_phase_l', 'st_sw_phase_r', 'lhip_ang', 'rhip_ang','l_ph_hip','r_ph_hip', 'st_l_l', 'st_l_r'])#, 'r_ph_hip_x', 'r_ph_hip_y'])\n",
    "\n",
    "        scaler = MinMaxScaler()\n",
    "        tmp['l_ph_hip'] = lhip_df\n",
    "        tmp['r_ph_hip'] = rhip_df\n",
    "        tmp['st_sw_phase_l'] = st_sw_col_l\n",
    "        tmp['st_sw_phase_r'] = st_sw_col_l\n",
    "        #tmp['r_ph_hip_x'] = r_hip_ph_x\n",
    "        #tmp['r_ph_hip_y'] = r_hip_ph_y\n",
    "        tmp['st_l_l'] = scaler.fit_transform( st_l_l_col)\n",
    "        tmp['st_l_r'] = scaler.fit_transform( st_l_r_col)\n",
    "\n",
    "        column_names = tmp.columns\n",
    "\n",
    "\n",
    "        tmp['l_ph_hip']=tmp['l_ph_hip']/300\n",
    "        tmp['r_ph_hip']=tmp['r_ph_hip']/300\n",
    "        #tmp['r_ph_hip_x'] = tmp['r_ph_hip_x'] / 300\n",
    "        #tmp['r_ph_hip_y'] = tmp['r_ph_hip_y'] / 300\n",
    "        # tmp['l_ph_fo']=tmp['l_ph_fo']/300\n",
    "        # tmp['r_ph_fo']=tmp['r_ph_fo']/300\n",
    "        tmp['lcop']= tmp['lcop']*1000\n",
    "        tmp['rcop']=tmp['rcop']*1000\n",
    "        tmp['st_sw_phase_l']=tmp['st_sw_phase_l']/200\n",
    "        tmp['st_sw_phase_r']=tmp['st_sw_phase_r']/200\n",
    "\n",
    "        normalized_df =tmp\n",
    "\n",
    "        normalized_df['leg_len']=leg_len\n",
    "        normalized_df['weight']=weight\n",
    "        normalized_df['perc']= perc_column\n",
    "\n",
    "        df_dict[subject] = normalized_df\n",
    "    with open(pkl_file,'wb') as pickle_file:\n",
    "        pickle.dump(df_dict, pickle_file)\n",
    "\n",
    "#sub_cnt_file='sub_cnt.pkl'\n",
    "\n",
    "with open(result_path+\"all_results_cnn_2.txt\",\"w\") as file:  \n",
    "    for sub_iter, sub_comb in enumerate(sub_comb_list):\n",
    "    #for a_ in range(len(subject_names)):\n",
    "        #sub_file=open(sub_cnt_file,'rb')\n",
    "        #cnt=pickle.load(sub_file)\n",
    "        #sub_file.close()\n",
    "        #if cnt==len(subject_names):\n",
    "        #    print(\"Done with all subjects !!\")\n",
    "        #    break\n",
    "        #sub_comb=sub_comb_list[cnt]\n",
    "        #sub_iter=cnt\n",
    "        print(\"Subject combination :\",sub_comb)\n",
    "        sub_tag=test_sub_list[sub_iter]\n",
    "        # all_data=get_data_frames_from_files(path, file_names, subject_dict, sub_comb)\n",
    "        file_list=[]\n",
    "        for sub in sub_comb:\n",
    "          tmp_df=df_dict[sub]\n",
    "          file_list.append(tmp_df)\n",
    "        random.shuffle(file_list)\n",
    "        \n",
    "        all_data = pd.concat(file_list, axis=0, ignore_index=True)\n",
    "        print(\"All Data Info: \")\n",
    "        all_data.info()\n",
    "        train_x, train_y, validation_x, validation_y = get_train_data_from_df(all_data, 0.25)\n",
    "        print(\"Nan in train x at indices:\",np.argwhere(np.isnan(train_x)))\n",
    "        print(\"Nan in train y at indices:\",np.argwhere(np.isnan(train_y)))\n",
    "\n",
    "        print(train_x.shape)\n",
    "        print(validation_x.shape)\n",
    "        print(\"SSS\")\n",
    "        seq_len = train_x.shape[1]\n",
    "        n_features = train_x.shape[2]\n",
    "     \n",
    "        mlp_model=[]\n",
    "        print(\"OKAY till here 1\")\n",
    "\n",
    "        look_back = 10\n",
    "\n",
    "        mlp_model = train_mlp_model(train_x, train_y, look_back)\n",
    "        file.write(\"Training Result :\")\n",
    "        file.write(\"\\n\")\n",
    "        acc, rmse=test_model_get_results(mlp_model, validation_x, validation_y, False, sub_tag, file)\n",
    "        acc_list.append(acc)\n",
    "        rmse_list.append(rmse)\n",
    "        print(\"testing on :\", test_sub_list[sub_iter])\n",
    "        file.write(\"Testing  Result :\")\n",
    "        file.write(test_sub_list[sub_iter])\n",
    "        file.write(\"\\n\")\n",
    "        # all_data=get_data_frames_from_files(path, file_names, subject_dict, [test_sub_list[sub_iter]])\n",
    "        all_data = df_dict[test_sub_list[sub_iter]]\n",
    "        test_x, test_y, validation_x, validation_y = get_train_data_from_df(all_data, 0.25)\n",
    "        acc, rmse=test_model_get_results(mlp_model, test_x, test_y, True, sub_tag, file)\n",
    "        # tf.keras.backend.clear_session()\n",
    "\n",
    "        test_acc_list.append(acc)\n",
    "        test_rmse_list.append(rmse)\n",
    "        # break\n",
    "        # file.write(acc)\n",
    "        file.write(\"\\n\")\n",
    "        #cnt=cnt+1\n",
    "        #sub_file=open(sub_cnt_file,'wb')\n",
    "        #pickle.dump(cnt, sub_file)\n",
    "        #sub_file.close()\n",
    "        # if sub_iter>=5:\n",
    "        # break\n",
    "    file.close()\n"
   ]
  },
  {
   "cell_type": "code",
   "execution_count": null,
   "metadata": {},
   "outputs": [
    {
     "name": "stdout",
     "output_type": "stream",
     "text": [
      "{'VP': {'rmse': 5.8427562468088565, 'prec_list': [10.85915043117215, 27.339508144362824, 49.47546863867528, 71.17902857283246, 84.94951232095914]}, 'AK': {'rmse': 1.9297164656753376, 'prec_list': [41.296591869308045, 70.10139892967797, 86.75945920570838, 94.16721434607079, 96.79372828842362]}, 'SD': {'rmse': 2.3068117510901263, 'prec_list': [41.18044604640685, 64.56972291056545, 77.80750168956972, 86.77911691822483, 92.21389952692047]}, 'PH': {'rmse': 1.74826790337621, 'prec_list': [46.70817296807788, 76.80552411138783, 89.44532488114105, 94.12044374009508, 96.29612859406838]}, 'YC': {'rmse': 10.786383597340192, 'prec_list': [9.760264685144003, 21.009383305309974, 34.373813527146496, 46.88669523241308, 57.59613820035798]}, 'JL': {'rmse': 2.39928991842349, 'prec_list': [39.224727791991434, 63.96441958707681, 79.97858035342416, 88.54048908193015, 93.07728922472779]}, 'JS': {'rmse': 2.181442599964781, 'prec_list': [34.77336469736723, 63.978105491721706, 82.49796435356917, 91.82348683615308, 95.8631140866733]}, 'PK': {'rmse': 4.728497942786402, 'prec_list': [29.848720912700408, 52.40488515856662, 67.40212092275218, 78.02181233351762, 84.67608182138011]}, 'SOE': {'rmse': 3.0581345634071586, 'prec_list': [27.684726548536997, 50.32681407343104, 67.40029617525404, 78.94347137823623, 86.64402798345503]}, 'TH': {'rmse': 4.918508330034941, 'prec_list': [24.441788082457485, 46.61013126437818, 64.5653840949073, 75.8198385132392, 82.71911227389599]}, 'SKS': {'rmse': 2.222993552969851, 'prec_list': [38.022611905860636, 66.5597600369174, 81.94277803414859, 90.24688509460083, 94.65159206275958]}, 'VN': {'rmse': 1.8195129810863067, 'prec_list': [44.106876114296725, 73.25687852358695, 87.99932539873753, 94.66824073627909, 97.14740037584927]}}\n"
     ]
    }
   ],
   "source": [
    "personInfo = pickle.load(open(result_pkl_file, \"rb\"))\n",
    "print(personInfo)"
   ]
  }
 ],
 "metadata": {
  "kernelspec": {
   "display_name": "gait_phase",
   "language": "python",
   "name": "python3"
  },
  "language_info": {
   "codemirror_mode": {
    "name": "ipython",
    "version": 3
   },
   "file_extension": ".py",
   "mimetype": "text/x-python",
   "name": "python",
   "nbconvert_exporter": "python",
   "pygments_lexer": "ipython3",
   "version": "3.10.13"
  }
 },
 "nbformat": 4,
 "nbformat_minor": 2
}
