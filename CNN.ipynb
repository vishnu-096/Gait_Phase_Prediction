{
 "cells": [
  {
   "cell_type": "code",
   "execution_count": 34,
   "metadata": {},
   "outputs": [],
   "source": [
    "import numpy as np\n",
    "import pandas as pd\n",
    "import tensorflow as tf\n",
    "import matplotlib.pyplot as plt\n",
    "import math\n",
    "import time\n",
    "import os\n",
    "import sys\n",
    "import json\n",
    "import pickle\n",
    "\n",
    "import scipy as sp\n",
    "from scipy import signal\n",
    "\n",
    "from torch import nn\n",
    "from torch import optim\n",
    "from torch.nn import functional as F\n",
    "from torch.utils.data import DataLoader\n",
    "from torch.utils.data import Dataset\n",
    "\n",
    "from tensorflow import keras\n",
    "\n",
    "from keras.models import Sequential\n",
    "from keras.layers import Dense\n",
    "from keras.layers import LSTM\n",
    "from keras.layers import Conv2D, MaxPool2D, Dropout,Flatten, Conv1D, MaxPool1D\n",
    "from keras.callbacks import EarlyStopping\n",
    "from sklearn.preprocessing import MinMaxScaler\n",
    "from sklearn.feature_selection import SelectKBest\n",
    "from sklearn.feature_selection import f_regression\n",
    "from sklearn import metrics\n",
    "\n",
    "#from statsmodels.tsa.seasonal import seasonal_decompose\n",
    "#from statsmodels.graphics.tsaplots import plot_acf\n",
    "\n",
    "from sklearn.preprocessing import MinMaxScaler\n",
    "from sklearn.model_selection import train_test_split\n",
    "\n",
    "import os, warnings, random\n",
    "from sklearn.metrics import mean_squared_error\n",
    "from sklearn.model_selection import train_test_split\n",
    "import keras.layers as L\n",
    "\n",
    "from keras import Model\n",
    "from keras.layers import Layer\n",
    "from tensorflow.python.keras import backend as K\n",
    "#from keras.backend import backend as K\n",
    "#import keras.backend as K\n",
    "from keras.layers import Input, Dense, SimpleRNN\n",
    "from sklearn.preprocessing import MinMaxScaler\n",
    "from keras.models import Sequential\n",
    "from keras.metrics import mean_squared_error\n",
    "\n",
    "from tensorflow.python.keras import optimizers as optimizers\n"
   ]
  },
  {
   "cell_type": "code",
   "execution_count": 35,
   "metadata": {},
   "outputs": [
    {
     "name": "stdout",
     "output_type": "stream",
     "text": [
      "Num GPUs Available:  1\n"
     ]
    }
   ],
   "source": [
    "gpus = tf.config.list_physical_devices('GPU')\n",
    "if gpus:\n",
    "    for gpu in gpus:\n",
    "        tf.config.experimental.set_virtual_device_configuration(gpu,[tf.config.experimental.VirtualDeviceConfiguration(memory_limit=4096)])\n",
    "print(\"Num GPUs Available: \", len(tf.config.list_physical_devices('GPU')))\n",
    "os.environ['TF_CPP_MIN_LOG_LEVEL'] = '2'"
   ]
  },
  {
   "cell_type": "code",
   "execution_count": 36,
   "metadata": {},
   "outputs": [],
   "source": [
    "def encode_phase(df, name):\n",
    "    phase = df[name].values.tolist()\n",
    "    x = np.zeros((len(df[name]),1))\n",
    "    y = np.zeros((len(df[name]),1))\n",
    "    for i in range (len(phase)): \n",
    "        phi = math.radians(phase[i])\n",
    "        x[i] = math.cos(phi)\n",
    "        y[i] = math.sin(phi)\n",
    "\n",
    "    name_x = name[0] + '_ph_hip_x'\n",
    "    name_y = name[0] + '_ph_hip_y'\n",
    "\n",
    "    df[name_x] = x\n",
    "    df[name_y] = y"
   ]
  },
  {
   "cell_type": "code",
   "execution_count": 37,
   "metadata": {},
   "outputs": [],
   "source": [
    "def encode_gait_percentage(df, name):\n",
    "    percent = df[name].values.tolist()\n",
    "    X = np.zeros((len(df[name]),1))\n",
    "    Y = np.zeros((len(df[name]),1))\n",
    "    for i in range (len(percent)):\n",
    "        phi = percent[i] * 2 * math.pi / 100\n",
    "        X[i] = math.cos(phi)\n",
    "        Y[i] = math.sin(phi)\n",
    "    df['X'] = X\n",
    "    df['Y'] = Y\n",
    "  \n",
    "def convert_data(d_x, d_y, look_back = 10, fore_cast = 5):\n",
    "    dataX = []\n",
    "    dataY = []\n",
    "\n",
    "    for i in range(look_back, len(d_x) - fore_cast):\n",
    "        dataX.append(d_x[i - look_back: i])\n",
    "        dataY.append(d_y[i + fore_cast,:])\n",
    "\n",
    "    return np.array(dataX), np.array(dataY)\n",
    "\n",
    "def get_train_data_from_df(all_data, test_ratio):\n",
    "    all_data.info()\n",
    "    cycle = 0\n",
    "    cycle_list = []\n",
    "\n",
    "    start = 0\n",
    "\n",
    "    for i in range(len(all_data) - 1):\n",
    "        if (all_data['perc'][i+1] == 0):\n",
    "            cycle += 1\n",
    "            cycle_list.append(all_data.iloc[start:i])\n",
    "            start = i+1\n",
    "\n",
    "    random.shuffle(cycle_list)\n",
    "    source_table = pd.concat(cycle_list, axis=0, ignore_index=True)\n",
    "\n",
    "    # For hip: source_table = source_table.drop([\"lgrf\", \"rgrf\", \"lcop\",\"rcop\"], axis = 1)\n",
    "\n",
    "    # all features:  \"lcop\", \"rcop\", \"lgrf\", \"rgrf\", \"l_ph_hip\", \"r_ph_hip\", \"st_sw_phase_l\", \"st_sw_phase_r\", \"st_l_l\", \"st_l_r\", \"leg_len\", \"weight\"\n",
    "\n",
    "    drop_list = [\"lgrf\", \"rgrf\",\"lcop\", \"rcop\", \"l_ph_hip\", \"r_ph_hip\", \"st_sw_phase_l\", \"st_l_l\", \"st_l_r\"]\n",
    "    source_table = source_table.drop([\"lgrf\", \"rgrf\", \"st_sw_phase_l\", \"st_sw_phase_r\", \"leg_len\", \"weight\", \"rcop\",\"r_ph_hip\",\"st_l_r\"], axis = 1)\n",
    "    source_table\n",
    "    x = source_table\n",
    "    x = x.drop(['perc'], axis=1)\n",
    "    # scaler = MinMaxScaler()\n",
    "    # x_scaled = scaler.fit_transform(x)\n",
    "    # x_scaled = pd.DataFrame(x_scaled)\n",
    "\n",
    "    encode_gait_percentage(source_table, 'perc')\n",
    "    y = source_table[[\"X\",\"Y\"]]\n",
    "    # data_x = x_scaled\n",
    "    data_x=x.values\n",
    "    x.info()\n",
    "    data_y = y.values.reshape(-1,2)\n",
    "\n",
    "    X_train, X_test,y_train, y_test = train_test_split(data_x, data_y ,\n",
    "                            test_size=0.25,\n",
    "                            shuffle=False)\n",
    "    look_back = 10\n",
    "    fore_cast = 1\n",
    "\n",
    "    train_x, train_y = convert_data(X_train, y_train, look_back, fore_cast)\n",
    "    validation_x, validation_y = convert_data(X_test, y_test, look_back, fore_cast)\n",
    "\n",
    "    return train_x, train_y, validation_x, validation_y\n",
    "\n",
    "\n",
    "import random\n",
    "def get_data_frames_from_files(path, file_names, subject_dict, subjects):\n",
    "    file_list=[]\n",
    "    for i in range (len(file_names)):\n",
    "\n",
    "        subject = file_names[i].split('_')[0]\n",
    "        if not subject in subjects:\n",
    "            continue\n",
    "        else:\n",
    "            print(file_names[i])\n",
    "        leg_len = subject_dict[subject][0]\n",
    "        weight = subject_dict[subject][1]\n",
    "        tmp=pd.read_excel(path+ file_names[i], sheet_name='Sheet1')\n",
    "        perc_column = tmp['perc']\n",
    "        tmp = tmp.drop(columns=['perc'])\n",
    "        scaler = MinMaxScaler()\n",
    "\n",
    "    # Normalize each column separately\n",
    "        normalized_data = scaler.fit_transform(tmp)\n",
    "        column_names = tmp.columns\n",
    "\n",
    "        normalized_df = pd.DataFrame(normalized_data, columns=column_names)\n",
    "        tmp['l_ph_hip']=tmp['l_ph_hip']/300\n",
    "        tmp['r_ph_hip']=tmp['r_ph_hip']/300\n",
    "        tmp['l_ph_fo']=tmp['l_ph_fo']/300\n",
    "        tmp['r_ph_fo']=tmp['r_ph_fo']/300\n",
    "        tmp['lcop']= tmp['lcop']*1000\n",
    "        tmp['rcop']=tmp['rcop']*1000\n",
    "        tmp['strike_frame']=tmp['strike_frame']/400\n",
    "        tmp['st_sw_phase']=tmp['st_sw_phase']/200\n",
    "        normalized_df =tmp\n",
    "        normalized_df['leg_len']=leg_len\n",
    "        normalized_df['weight']=weight\n",
    "        normalized_df['perc']= perc_column\n",
    "        # normalized_df.insert(tmp.columns.get_loc('col1'), 'perc', perc_column)\n",
    "\n",
    "        file_list.append(normalized_df)\n",
    "\n",
    "    random.shuffle(file_list)\n",
    "\n",
    "    all_data = pd.concat(file_list, axis=0, ignore_index=True)\n",
    "    return all_data\n",
    "\n",
    "\n",
    "seq_len=10\n",
    "n_features=11\n",
    "#train_x=np.zeros((10,10,11))\n",
    "#encoder_model().summary()\n",
    "#decoder_model().summary()\n",
    "\n",
    "def get_lr_metric(optimizer):\n",
    "    def lr(y_true, y_pred):\n",
    "        curLR = optimizer.lr\n",
    "        return curLR\n",
    "    return lr\n",
    "\n",
    "def custom_loss(y_true, y_pred):\n",
    "    #angle_true = ((math.atan2(y_true[:,1],y_true[:,0]) + 2*math.pi) % (2*math.pi))\n",
    "    #angle_pred = ((math.atan2(y_pred[:,1],y_pred[:,0]) + 2*math.pi) % (2*math.pi)) \n",
    "\n",
    "    angle_true = ((K.math_ops.atan2(y_true[:,1],y_true[:,0]) + 2*math.pi) % (2*math.pi))\n",
    "    angle_pred = ((K.math_ops.atan2(y_pred[:,1],y_pred[:,0]) + 2*math.pi) % (2*math.pi)) \n",
    "\n",
    "    #angle_true = tf.make_ndarray(y_true)\n",
    "    #angle_pred = tf.make_ndarray(y_pred)\n",
    "    \n",
    "    #print(\"y_true: \", y_true.size())\n",
    "    #print(\"info: \", y_true.info())\n",
    "    #print(\"y_pred: \", y_pred.shape())\n",
    "    #print(\"y_true:\", y_true.shape)\n",
    "    #a = K.argmax(y_true, axis=1)\n",
    "    print(\"ang_pred: \",angle_pred)\n",
    "    #print(angle_pred.shape)\n",
    "    loss = tf.keras.losses.mean_squared_error(angle_true, angle_pred)\n",
    "    return loss\n",
    "\n",
    "def train_mlp_model(train_x, train_y, look_back):\n",
    "    epochs = 30\n",
    "    batch_size = 32                                                                \n",
    "    learning_rate = 1e-2\n",
    "\n",
    "    # learning rate scheduler\n",
    "    use_lr_scheduler = True\n",
    "    lr_factor = 0.5\n",
    "    lr_patience = 8\n",
    "    lr_threshold = 0.01\n",
    "    lr_min_rate = 1e-6\n",
    "\n",
    "    lr_schedule = tf.keras.optimizers.schedules.ExponentialDecay(\n",
    "    initial_learning_rate=1e-3,\n",
    "    decay_steps=10000,\n",
    "    decay_rate=0.1)\n",
    "    optimizer = tf.keras.optimizers.Adam(learning_rate=lr_schedule)\n",
    "\n",
    "    mlp_model = Sequential()\n",
    "    mlp_model.add(Conv1D(100, kernel_size=3, strides=1,input_shape=(look_back, train_x.shape[2]), activation='relu'))\n",
    "    mlp_model.add(MaxPool1D(pool_size=3, strides=1))\n",
    "    mlp_model.add(Dropout(0.1))\n",
    "    mlp_model.add(Conv1D(32, kernel_size = 2, strides = 1, activation='tanh'))\n",
    "    mlp_model.add(MaxPool1D(pool_size=2, strides=1))\n",
    "    mlp_model.add(Dropout(0.1))\n",
    "    #mlp_model.add(Conv1D(8, kernel_size = 2, strides = 1, activation = 'tanh'))\n",
    "    #mlp_model.add(MaxPool1D(pool_size=2, strides=1))\n",
    "    #mlp_model.add(Dropout(0.2))\n",
    "    mlp_model.add(Flatten())\n",
    "    mlp_model.add(Dense(2))\n",
    "\n",
    "    print(mlp_model.summary())\n",
    "\n",
    "    monitor = EarlyStopping(monitor='loss', min_delta=1e-5, patience=2, verbose=1, mode='auto')\n",
    "\n",
    "    #optimizer = tf.keras.optimizers.Adam(learning_rate=1e-2)\n",
    "    mlp_model.compile(loss='mean_squared_error', optimizer=optimizer, metrics=['accuracy','mae','mse'])\n",
    "    history = mlp_model.fit(train_x, train_y, epochs=epochs, batch_size=batch_size, callbacks=monitor,verbose=1)\n",
    "   \n",
    "    return mlp_model\n",
    "\n",
    "def test_model_get_results(mlp_model, validation_x, validation_y, display_flag, tag, file):\n",
    "    print(\"validation_x shape\",validation_x.shape)\n",
    "    testPredict = mlp_model.predict(validation_x)\n",
    "    print(validation_y.shape)\n",
    "    print(testPredict.shape)\n",
    "    testScore = np.sqrt(mean_squared_error(validation_y, testPredict))\n",
    "    # print(testScore)\n",
    "    # print('Test Score: %.2f RMSE' % (testScore))\n",
    "    pred = np.zeros((len(testPredict),1))\n",
    "    ang_pred = np.zeros((len(testPredict),1))\n",
    "\n",
    "    for iter in range(len(testPredict)):\n",
    "        x = testPredict[iter][0]\n",
    "        y = testPredict[iter][1]\n",
    "        pred[iter] = ((math.atan2(y,x) + 2*math.pi) % (2*math.pi)) * (100 / (2*math.pi))\n",
    "        ang_pred[iter] = ((math.atan2(y,x) + 2*math.pi) % (2*math.pi))\n",
    "\n",
    "    actual = np.zeros((len(validation_y),1))\n",
    "    ang_act = np.zeros((len(validation_y),1))\n",
    "\n",
    "    for iter in range(len(validation_y)):\n",
    "        x =validation_y[iter][0]\n",
    "        y =validation_y[iter][1]\n",
    "        # st_frame = validation_x[0,9,7]\n",
    "\n",
    "        actual[iter] = ((math.atan2(y,x) + 2*math.pi) % (2*math.pi)) * (100 / (2*math.pi))\n",
    "        ang_act[iter] = ((math.atan2(y,x) + 2*math.pi) % (2*math.pi))\n",
    "        # if st_frame>100 and pred[iter]<15:\n",
    "        #     pred[iter]=100-pred[iter]\n",
    "        # if st_frame<90 and pred[iter]>85:\n",
    "        #     pred[iter]=100-pred[iter]\n",
    "\n",
    "\n",
    "    cor_actual=[]\n",
    "    cor_pred=[]\n",
    "    prec_list=[]\n",
    "\n",
    "    for i in range(5):\n",
    "        correct = 0\n",
    "        for iter in range(len(actual)):\n",
    "            # if (actual[iter]>98) or(actual[iter]<3):\n",
    "            #     correct+=1\n",
    "            #     continue\n",
    "            if (abs(actual[iter] - pred[iter]) <= (i+1)):\n",
    "                correct+=1\n",
    "            cor_pred.append(pred[iter])\n",
    "            cor_actual.append(actual[iter])\n",
    "        prec=correct * 100/len(actual)\n",
    "        print(\"Precision \", i+1, \": \", prec)\n",
    "        # file.write(str(prec))\n",
    "        # file.write(\"\\n\")\n",
    "        prec_list.append(prec)\n",
    "\n",
    "    rmse = 0\n",
    "    length = len(actual)\n",
    "    for i in range(len(actual)):\n",
    "        if abs (pred[i] - actual[i]) >=90:\n",
    "            length -= 1\n",
    "        else:\n",
    "            rmse = rmse + pow(pred[i] - actual[i], 2)\n",
    "    rmse = rmse / length\n",
    "    rmse = math.sqrt(rmse)\n",
    "\n",
    "    if os.path.exists(result_pkl_file):\n",
    "        with open(result_pkl_file,'rb') as pkl_file:\n",
    "            res_dict=pickle.load(pkl_file)\n",
    "    else:\n",
    "        res_dict={}\n",
    "    result={}\n",
    "    result['rmse']=rmse\n",
    "    result['prec_list']=prec_list\n",
    "    res_dict[tag]=result\n",
    "    with open(result_pkl_file, 'wb')as pkl_file:\n",
    "        pickle.dump(res_dict, pkl_file)\n",
    "\n",
    "\n",
    "    print(rmse)\n",
    "    # file.write(\"rmse \"+str(rmse))\n",
    "    # file.write(\"\\n\")\n",
    "    if display_flag:\n",
    "        plt.scatter(cor_actual, cor_pred, facecolors='none', edgecolors='crimson',alpha=0.4)\n",
    "        p1 = max(max(cor_pred), max(cor_actual))\n",
    "        p2 = min(min(cor_pred), min(cor_actual))\n",
    "\n",
    "        ci = 0.1 * np.std([p1,p2]) / np.mean([p1,p2])\n",
    "\n",
    "        plt.plot([p1, p2], [p1, p2], 'b-', linewidth =3)\n",
    "        plt.title('Actual vs Prediction')\n",
    "        plt.savefig(result_path+tag+\"__res.png\")\n",
    "\n",
    "    return prec_list, rmse\n"
   ]
  },
  {
   "cell_type": "code",
   "execution_count": 38,
   "metadata": {},
   "outputs": [
    {
     "name": "stdout",
     "output_type": "stream",
     "text": [
      "Subject combination : ['AK', 'SD', 'PH', 'YC', 'JL', 'JS', 'PK', 'SOE', 'TH', 'SKS', 'VN']\n",
      "All Data Info: \n",
      "<class 'pandas.core.frame.DataFrame'>\n",
      "RangeIndex: 572285 entries, 0 to 572284\n",
      "Data columns (total 13 columns):\n",
      " #   Column         Non-Null Count   Dtype  \n",
      "---  ------         --------------   -----  \n",
      " 0   lcop           572285 non-null  float64\n",
      " 1   rcop           572285 non-null  float64\n",
      " 2   lgrf           572285 non-null  float64\n",
      " 3   rgrf           572285 non-null  float64\n",
      " 4   l_ph_hip       572285 non-null  float64\n",
      " 5   r_ph_hip       572285 non-null  float64\n",
      " 6   st_sw_phase_l  572285 non-null  float64\n",
      " 7   st_sw_phase_r  572285 non-null  float64\n",
      " 8   st_l_l         572285 non-null  float64\n",
      " 9   st_l_r         572285 non-null  float64\n",
      " 10  leg_len        572285 non-null  float64\n",
      " 11  weight         572285 non-null  float64\n",
      " 12  perc           572285 non-null  float64\n",
      "dtypes: float64(13)\n",
      "memory usage: 56.8 MB\n",
      "<class 'pandas.core.frame.DataFrame'>\n",
      "RangeIndex: 572285 entries, 0 to 572284\n",
      "Data columns (total 13 columns):\n",
      " #   Column         Non-Null Count   Dtype  \n",
      "---  ------         --------------   -----  \n",
      " 0   lcop           572285 non-null  float64\n",
      " 1   rcop           572285 non-null  float64\n",
      " 2   lgrf           572285 non-null  float64\n",
      " 3   rgrf           572285 non-null  float64\n",
      " 4   l_ph_hip       572285 non-null  float64\n",
      " 5   r_ph_hip       572285 non-null  float64\n",
      " 6   st_sw_phase_l  572285 non-null  float64\n",
      " 7   st_sw_phase_r  572285 non-null  float64\n",
      " 8   st_l_l         572285 non-null  float64\n",
      " 9   st_l_r         572285 non-null  float64\n",
      " 10  leg_len        572285 non-null  float64\n",
      " 11  weight         572285 non-null  float64\n",
      " 12  perc           572285 non-null  float64\n",
      "dtypes: float64(13)\n",
      "memory usage: 56.8 MB\n",
      "<class 'pandas.core.frame.DataFrame'>\n",
      "RangeIndex: 569445 entries, 0 to 569444\n",
      "Data columns (total 3 columns):\n",
      " #   Column    Non-Null Count   Dtype  \n",
      "---  ------    --------------   -----  \n",
      " 0   lcop      569445 non-null  float64\n",
      " 1   l_ph_hip  569445 non-null  float64\n",
      " 2   st_l_l    569445 non-null  float64\n",
      "dtypes: float64(3)\n",
      "memory usage: 13.0 MB\n",
      "Nan in train x at indices: []\n",
      "Nan in train y at indices: []\n",
      "(427072, 10, 3)\n",
      "(142351, 10, 3)\n",
      "SSS\n",
      "OKAY till here 1\n"
     ]
    },
    {
     "name": "stderr",
     "output_type": "stream",
     "text": [
      "/home/hikikomori/miniconda3/envs/clean_gait_phase/lib/python3.10/site-packages/keras/src/layers/convolutional/base_conv.py:99: UserWarning: Do not pass an `input_shape`/`input_dim` argument to a layer. When using Sequential models, prefer using an `Input(shape)` object as the first layer in the model instead.\n",
      "  super().__init__(\n"
     ]
    },
    {
     "data": {
      "text/html": [
       "<pre style=\"white-space:pre;overflow-x:auto;line-height:normal;font-family:Menlo,'DejaVu Sans Mono',consolas,'Courier New',monospace\"><span style=\"font-weight: bold\">Model: \"sequential_36\"</span>\n",
       "</pre>\n"
      ],
      "text/plain": [
       "\u001b[1mModel: \"sequential_36\"\u001b[0m\n"
      ]
     },
     "metadata": {},
     "output_type": "display_data"
    },
    {
     "data": {
      "text/html": [
       "<pre style=\"white-space:pre;overflow-x:auto;line-height:normal;font-family:Menlo,'DejaVu Sans Mono',consolas,'Courier New',monospace\">┏━━━━━━━━━━━━━━━━━━━━━━━━━━━━━━━━━┳━━━━━━━━━━━━━━━━━━━━━━━━━━━┳━━━━━━━━━━━━┓\n",
       "┃<span style=\"font-weight: bold\"> Layer (type)                    </span>┃<span style=\"font-weight: bold\"> Output Shape              </span>┃<span style=\"font-weight: bold\">    Param # </span>┃\n",
       "┡━━━━━━━━━━━━━━━━━━━━━━━━━━━━━━━━━╇━━━━━━━━━━━━━━━━━━━━━━━━━━━╇━━━━━━━━━━━━┩\n",
       "│ conv1d_72 (<span style=\"color: #0087ff; text-decoration-color: #0087ff\">Conv1D</span>)              │ (<span style=\"color: #00d7ff; text-decoration-color: #00d7ff\">None</span>, <span style=\"color: #00af00; text-decoration-color: #00af00\">8</span>, <span style=\"color: #00af00; text-decoration-color: #00af00\">100</span>)            │      <span style=\"color: #00af00; text-decoration-color: #00af00\">1,000</span> │\n",
       "├─────────────────────────────────┼───────────────────────────┼────────────┤\n",
       "│ max_pooling1d_72 (<span style=\"color: #0087ff; text-decoration-color: #0087ff\">MaxPooling1D</span>) │ (<span style=\"color: #00d7ff; text-decoration-color: #00d7ff\">None</span>, <span style=\"color: #00af00; text-decoration-color: #00af00\">6</span>, <span style=\"color: #00af00; text-decoration-color: #00af00\">100</span>)            │          <span style=\"color: #00af00; text-decoration-color: #00af00\">0</span> │\n",
       "├─────────────────────────────────┼───────────────────────────┼────────────┤\n",
       "│ dropout_72 (<span style=\"color: #0087ff; text-decoration-color: #0087ff\">Dropout</span>)            │ (<span style=\"color: #00d7ff; text-decoration-color: #00d7ff\">None</span>, <span style=\"color: #00af00; text-decoration-color: #00af00\">6</span>, <span style=\"color: #00af00; text-decoration-color: #00af00\">100</span>)            │          <span style=\"color: #00af00; text-decoration-color: #00af00\">0</span> │\n",
       "├─────────────────────────────────┼───────────────────────────┼────────────┤\n",
       "│ conv1d_73 (<span style=\"color: #0087ff; text-decoration-color: #0087ff\">Conv1D</span>)              │ (<span style=\"color: #00d7ff; text-decoration-color: #00d7ff\">None</span>, <span style=\"color: #00af00; text-decoration-color: #00af00\">5</span>, <span style=\"color: #00af00; text-decoration-color: #00af00\">32</span>)             │      <span style=\"color: #00af00; text-decoration-color: #00af00\">6,432</span> │\n",
       "├─────────────────────────────────┼───────────────────────────┼────────────┤\n",
       "│ max_pooling1d_73 (<span style=\"color: #0087ff; text-decoration-color: #0087ff\">MaxPooling1D</span>) │ (<span style=\"color: #00d7ff; text-decoration-color: #00d7ff\">None</span>, <span style=\"color: #00af00; text-decoration-color: #00af00\">4</span>, <span style=\"color: #00af00; text-decoration-color: #00af00\">32</span>)             │          <span style=\"color: #00af00; text-decoration-color: #00af00\">0</span> │\n",
       "├─────────────────────────────────┼───────────────────────────┼────────────┤\n",
       "│ dropout_73 (<span style=\"color: #0087ff; text-decoration-color: #0087ff\">Dropout</span>)            │ (<span style=\"color: #00d7ff; text-decoration-color: #00d7ff\">None</span>, <span style=\"color: #00af00; text-decoration-color: #00af00\">4</span>, <span style=\"color: #00af00; text-decoration-color: #00af00\">32</span>)             │          <span style=\"color: #00af00; text-decoration-color: #00af00\">0</span> │\n",
       "├─────────────────────────────────┼───────────────────────────┼────────────┤\n",
       "│ flatten_36 (<span style=\"color: #0087ff; text-decoration-color: #0087ff\">Flatten</span>)            │ (<span style=\"color: #00d7ff; text-decoration-color: #00d7ff\">None</span>, <span style=\"color: #00af00; text-decoration-color: #00af00\">128</span>)               │          <span style=\"color: #00af00; text-decoration-color: #00af00\">0</span> │\n",
       "├─────────────────────────────────┼───────────────────────────┼────────────┤\n",
       "│ dense_36 (<span style=\"color: #0087ff; text-decoration-color: #0087ff\">Dense</span>)                │ (<span style=\"color: #00d7ff; text-decoration-color: #00d7ff\">None</span>, <span style=\"color: #00af00; text-decoration-color: #00af00\">2</span>)                 │        <span style=\"color: #00af00; text-decoration-color: #00af00\">258</span> │\n",
       "└─────────────────────────────────┴───────────────────────────┴────────────┘\n",
       "</pre>\n"
      ],
      "text/plain": [
       "┏━━━━━━━━━━━━━━━━━━━━━━━━━━━━━━━━━┳━━━━━━━━━━━━━━━━━━━━━━━━━━━┳━━━━━━━━━━━━┓\n",
       "┃\u001b[1m \u001b[0m\u001b[1mLayer (type)                   \u001b[0m\u001b[1m \u001b[0m┃\u001b[1m \u001b[0m\u001b[1mOutput Shape             \u001b[0m\u001b[1m \u001b[0m┃\u001b[1m \u001b[0m\u001b[1m   Param #\u001b[0m\u001b[1m \u001b[0m┃\n",
       "┡━━━━━━━━━━━━━━━━━━━━━━━━━━━━━━━━━╇━━━━━━━━━━━━━━━━━━━━━━━━━━━╇━━━━━━━━━━━━┩\n",
       "│ conv1d_72 (\u001b[38;5;33mConv1D\u001b[0m)              │ (\u001b[38;5;45mNone\u001b[0m, \u001b[38;5;34m8\u001b[0m, \u001b[38;5;34m100\u001b[0m)            │      \u001b[38;5;34m1,000\u001b[0m │\n",
       "├─────────────────────────────────┼───────────────────────────┼────────────┤\n",
       "│ max_pooling1d_72 (\u001b[38;5;33mMaxPooling1D\u001b[0m) │ (\u001b[38;5;45mNone\u001b[0m, \u001b[38;5;34m6\u001b[0m, \u001b[38;5;34m100\u001b[0m)            │          \u001b[38;5;34m0\u001b[0m │\n",
       "├─────────────────────────────────┼───────────────────────────┼────────────┤\n",
       "│ dropout_72 (\u001b[38;5;33mDropout\u001b[0m)            │ (\u001b[38;5;45mNone\u001b[0m, \u001b[38;5;34m6\u001b[0m, \u001b[38;5;34m100\u001b[0m)            │          \u001b[38;5;34m0\u001b[0m │\n",
       "├─────────────────────────────────┼───────────────────────────┼────────────┤\n",
       "│ conv1d_73 (\u001b[38;5;33mConv1D\u001b[0m)              │ (\u001b[38;5;45mNone\u001b[0m, \u001b[38;5;34m5\u001b[0m, \u001b[38;5;34m32\u001b[0m)             │      \u001b[38;5;34m6,432\u001b[0m │\n",
       "├─────────────────────────────────┼───────────────────────────┼────────────┤\n",
       "│ max_pooling1d_73 (\u001b[38;5;33mMaxPooling1D\u001b[0m) │ (\u001b[38;5;45mNone\u001b[0m, \u001b[38;5;34m4\u001b[0m, \u001b[38;5;34m32\u001b[0m)             │          \u001b[38;5;34m0\u001b[0m │\n",
       "├─────────────────────────────────┼───────────────────────────┼────────────┤\n",
       "│ dropout_73 (\u001b[38;5;33mDropout\u001b[0m)            │ (\u001b[38;5;45mNone\u001b[0m, \u001b[38;5;34m4\u001b[0m, \u001b[38;5;34m32\u001b[0m)             │          \u001b[38;5;34m0\u001b[0m │\n",
       "├─────────────────────────────────┼───────────────────────────┼────────────┤\n",
       "│ flatten_36 (\u001b[38;5;33mFlatten\u001b[0m)            │ (\u001b[38;5;45mNone\u001b[0m, \u001b[38;5;34m128\u001b[0m)               │          \u001b[38;5;34m0\u001b[0m │\n",
       "├─────────────────────────────────┼───────────────────────────┼────────────┤\n",
       "│ dense_36 (\u001b[38;5;33mDense\u001b[0m)                │ (\u001b[38;5;45mNone\u001b[0m, \u001b[38;5;34m2\u001b[0m)                 │        \u001b[38;5;34m258\u001b[0m │\n",
       "└─────────────────────────────────┴───────────────────────────┴────────────┘\n"
      ]
     },
     "metadata": {},
     "output_type": "display_data"
    },
    {
     "data": {
      "text/html": [
       "<pre style=\"white-space:pre;overflow-x:auto;line-height:normal;font-family:Menlo,'DejaVu Sans Mono',consolas,'Courier New',monospace\"><span style=\"font-weight: bold\"> Total params: </span><span style=\"color: #00af00; text-decoration-color: #00af00\">7,690</span> (30.04 KB)\n",
       "</pre>\n"
      ],
      "text/plain": [
       "\u001b[1m Total params: \u001b[0m\u001b[38;5;34m7,690\u001b[0m (30.04 KB)\n"
      ]
     },
     "metadata": {},
     "output_type": "display_data"
    },
    {
     "data": {
      "text/html": [
       "<pre style=\"white-space:pre;overflow-x:auto;line-height:normal;font-family:Menlo,'DejaVu Sans Mono',consolas,'Courier New',monospace\"><span style=\"font-weight: bold\"> Trainable params: </span><span style=\"color: #00af00; text-decoration-color: #00af00\">7,690</span> (30.04 KB)\n",
       "</pre>\n"
      ],
      "text/plain": [
       "\u001b[1m Trainable params: \u001b[0m\u001b[38;5;34m7,690\u001b[0m (30.04 KB)\n"
      ]
     },
     "metadata": {},
     "output_type": "display_data"
    },
    {
     "data": {
      "text/html": [
       "<pre style=\"white-space:pre;overflow-x:auto;line-height:normal;font-family:Menlo,'DejaVu Sans Mono',consolas,'Courier New',monospace\"><span style=\"font-weight: bold\"> Non-trainable params: </span><span style=\"color: #00af00; text-decoration-color: #00af00\">0</span> (0.00 B)\n",
       "</pre>\n"
      ],
      "text/plain": [
       "\u001b[1m Non-trainable params: \u001b[0m\u001b[38;5;34m0\u001b[0m (0.00 B)\n"
      ]
     },
     "metadata": {},
     "output_type": "display_data"
    },
    {
     "name": "stdout",
     "output_type": "stream",
     "text": [
      "None\n",
      "Epoch 1/30\n",
      "\u001b[1m13346/13346\u001b[0m \u001b[32m━━━━━━━━━━━━━━━━━━━━\u001b[0m\u001b[37m\u001b[0m \u001b[1m75s\u001b[0m 5ms/step - accuracy: 0.9586 - loss: 0.0287 - mae: 0.1216 - mse: 0.0287\n",
      "Epoch 2/30\n",
      "\u001b[1m13346/13346\u001b[0m \u001b[32m━━━━━━━━━━━━━━━━━━━━\u001b[0m\u001b[37m\u001b[0m \u001b[1m72s\u001b[0m 5ms/step - accuracy: 0.9662 - loss: 0.0158 - mae: 0.0942 - mse: 0.0158\n",
      "Epoch 3/30\n",
      "\u001b[1m13346/13346\u001b[0m \u001b[32m━━━━━━━━━━━━━━━━━━━━\u001b[0m\u001b[37m\u001b[0m \u001b[1m72s\u001b[0m 5ms/step - accuracy: 0.9662 - loss: 0.0157 - mae: 0.0937 - mse: 0.0157\n",
      "Epoch 4/30\n",
      "\u001b[1m13346/13346\u001b[0m \u001b[32m━━━━━━━━━━━━━━━━━━━━\u001b[0m\u001b[37m\u001b[0m \u001b[1m72s\u001b[0m 5ms/step - accuracy: 0.9664 - loss: 0.0157 - mae: 0.0937 - mse: 0.0157\n",
      "Epoch 5/30\n",
      "\u001b[1m13346/13346\u001b[0m \u001b[32m━━━━━━━━━━━━━━━━━━━━\u001b[0m\u001b[37m\u001b[0m \u001b[1m73s\u001b[0m 5ms/step - accuracy: 0.9667 - loss: 0.0158 - mae: 0.0938 - mse: 0.0158\n",
      "Epoch 6/30\n",
      "\u001b[1m13346/13346\u001b[0m \u001b[32m━━━━━━━━━━━━━━━━━━━━\u001b[0m\u001b[37m\u001b[0m \u001b[1m73s\u001b[0m 5ms/step - accuracy: 0.9663 - loss: 0.0158 - mae: 0.0939 - mse: 0.0158\n",
      "Epoch 7/30\n",
      "\u001b[1m13346/13346\u001b[0m \u001b[32m━━━━━━━━━━━━━━━━━━━━\u001b[0m\u001b[37m\u001b[0m \u001b[1m87s\u001b[0m 7ms/step - accuracy: 0.9667 - loss: 0.0157 - mae: 0.0937 - mse: 0.0157\n",
      "Epoch 7: early stopping\n",
      "validation_x shape (142351, 10, 3)\n",
      "\u001b[1m4449/4449\u001b[0m \u001b[32m━━━━━━━━━━━━━━━━━━━━\u001b[0m\u001b[37m\u001b[0m \u001b[1m12s\u001b[0m 2ms/step\n",
      "(142351, 2)\n",
      "(142351, 2)\n",
      "Precision  1 :  37.09071239401199\n",
      "Precision  2 :  65.68411883302541\n",
      "Precision  3 :  82.49959606887201\n",
      "Precision  4 :  90.60421071857591\n",
      "Precision  5 :  94.48475950291885\n"
     ]
    },
    {
     "name": "stderr",
     "output_type": "stream",
     "text": [
      "/tmp/ipykernel_364/3673594883.py:248: DeprecationWarning: Conversion of an array with ndim > 0 to a scalar is deprecated, and will error in future. Ensure you extract a single element from your array before performing this operation. (Deprecated NumPy 1.25.)\n",
      "  rmse = math.sqrt(rmse)\n"
     ]
    },
    {
     "name": "stdout",
     "output_type": "stream",
     "text": [
      "2.6909062255250595\n",
      "testing on : VP\n",
      "<class 'pandas.core.frame.DataFrame'>\n",
      "RangeIndex: 54773 entries, 0 to 54772\n",
      "Data columns (total 13 columns):\n",
      " #   Column         Non-Null Count  Dtype  \n",
      "---  ------         --------------  -----  \n",
      " 0   lcop           54773 non-null  float64\n",
      " 1   rcop           54773 non-null  float64\n",
      " 2   lgrf           54773 non-null  float64\n",
      " 3   rgrf           54773 non-null  float64\n",
      " 4   l_ph_hip       54773 non-null  float64\n",
      " 5   r_ph_hip       54773 non-null  float64\n",
      " 6   st_sw_phase_l  54773 non-null  float64\n",
      " 7   st_sw_phase_r  54773 non-null  float64\n",
      " 8   st_l_l         54773 non-null  float64\n",
      " 9   st_l_r         54773 non-null  float64\n",
      " 10  leg_len        54773 non-null  float64\n",
      " 11  weight         54773 non-null  float64\n",
      " 12  perc           54773 non-null  float64\n",
      "dtypes: float64(13)\n",
      "memory usage: 5.4 MB\n",
      "<class 'pandas.core.frame.DataFrame'>\n",
      "RangeIndex: 54286 entries, 0 to 54285\n",
      "Data columns (total 3 columns):\n",
      " #   Column    Non-Null Count  Dtype  \n",
      "---  ------    --------------  -----  \n",
      " 0   lcop      54286 non-null  float64\n",
      " 1   l_ph_hip  54286 non-null  float64\n",
      " 2   st_l_l    54286 non-null  float64\n",
      "dtypes: float64(3)\n",
      "memory usage: 1.2 MB\n",
      "validation_x shape (40703, 10, 3)\n",
      "\u001b[1m1272/1272\u001b[0m \u001b[32m━━━━━━━━━━━━━━━━━━━━\u001b[0m\u001b[37m\u001b[0m \u001b[1m3s\u001b[0m 2ms/step\n",
      "(40703, 2)\n",
      "(40703, 2)\n",
      "Precision  1 :  27.77927916861165\n",
      "Precision  2 :  51.4998894430386\n",
      "Precision  3 :  70.62133012308675\n",
      "Precision  4 :  83.0282780139056\n",
      "Precision  5 :  90.07689850870943\n"
     ]
    },
    {
     "name": "stderr",
     "output_type": "stream",
     "text": [
      "/tmp/ipykernel_364/3673594883.py:248: DeprecationWarning: Conversion of an array with ndim > 0 to a scalar is deprecated, and will error in future. Ensure you extract a single element from your array before performing this operation. (Deprecated NumPy 1.25.)\n",
      "  rmse = math.sqrt(rmse)\n"
     ]
    },
    {
     "name": "stdout",
     "output_type": "stream",
     "text": [
      "3.177005671444675\n",
      "Subject combination : ['VP', 'SD', 'PH', 'YC', 'JL', 'JS', 'PK', 'SOE', 'TH', 'SKS', 'VN']\n",
      "All Data Info: \n",
      "<class 'pandas.core.frame.DataFrame'>\n",
      "RangeIndex: 569770 entries, 0 to 569769\n",
      "Data columns (total 13 columns):\n",
      " #   Column         Non-Null Count   Dtype  \n",
      "---  ------         --------------   -----  \n",
      " 0   lcop           569770 non-null  float64\n",
      " 1   rcop           569770 non-null  float64\n",
      " 2   lgrf           569770 non-null  float64\n",
      " 3   rgrf           569770 non-null  float64\n",
      " 4   l_ph_hip       569770 non-null  float64\n",
      " 5   r_ph_hip       569770 non-null  float64\n",
      " 6   st_sw_phase_l  569770 non-null  float64\n",
      " 7   st_sw_phase_r  569770 non-null  float64\n",
      " 8   st_l_l         569770 non-null  float64\n",
      " 9   st_l_r         569770 non-null  float64\n",
      " 10  leg_len        569770 non-null  float64\n",
      " 11  weight         569770 non-null  float64\n",
      " 12  perc           569770 non-null  float64\n",
      "dtypes: float64(13)\n",
      "memory usage: 56.5 MB\n",
      "<class 'pandas.core.frame.DataFrame'>\n",
      "RangeIndex: 569770 entries, 0 to 569769\n",
      "Data columns (total 13 columns):\n",
      " #   Column         Non-Null Count   Dtype  \n",
      "---  ------         --------------   -----  \n",
      " 0   lcop           569770 non-null  float64\n",
      " 1   rcop           569770 non-null  float64\n",
      " 2   lgrf           569770 non-null  float64\n",
      " 3   rgrf           569770 non-null  float64\n",
      " 4   l_ph_hip       569770 non-null  float64\n",
      " 5   r_ph_hip       569770 non-null  float64\n",
      " 6   st_sw_phase_l  569770 non-null  float64\n",
      " 7   st_sw_phase_r  569770 non-null  float64\n",
      " 8   st_l_l         569770 non-null  float64\n",
      " 9   st_l_r         569770 non-null  float64\n",
      " 10  leg_len        569770 non-null  float64\n",
      " 11  weight         569770 non-null  float64\n",
      " 12  perc           569770 non-null  float64\n",
      "dtypes: float64(13)\n",
      "memory usage: 56.5 MB\n",
      "<class 'pandas.core.frame.DataFrame'>\n",
      "RangeIndex: 566958 entries, 0 to 566957\n",
      "Data columns (total 3 columns):\n",
      " #   Column    Non-Null Count   Dtype  \n",
      "---  ------    --------------   -----  \n",
      " 0   lcop      566958 non-null  float64\n",
      " 1   l_ph_hip  566958 non-null  float64\n",
      " 2   st_l_l    566958 non-null  float64\n",
      "dtypes: float64(3)\n",
      "memory usage: 13.0 MB\n",
      "Nan in train x at indices: []\n",
      "Nan in train y at indices: []\n",
      "(425207, 10, 3)\n",
      "(141729, 10, 3)\n",
      "SSS\n",
      "OKAY till here 1\n"
     ]
    },
    {
     "name": "stderr",
     "output_type": "stream",
     "text": [
      "/home/hikikomori/miniconda3/envs/clean_gait_phase/lib/python3.10/site-packages/keras/src/layers/convolutional/base_conv.py:99: UserWarning: Do not pass an `input_shape`/`input_dim` argument to a layer. When using Sequential models, prefer using an `Input(shape)` object as the first layer in the model instead.\n",
      "  super().__init__(\n"
     ]
    },
    {
     "data": {
      "text/html": [
       "<pre style=\"white-space:pre;overflow-x:auto;line-height:normal;font-family:Menlo,'DejaVu Sans Mono',consolas,'Courier New',monospace\"><span style=\"font-weight: bold\">Model: \"sequential_37\"</span>\n",
       "</pre>\n"
      ],
      "text/plain": [
       "\u001b[1mModel: \"sequential_37\"\u001b[0m\n"
      ]
     },
     "metadata": {},
     "output_type": "display_data"
    },
    {
     "data": {
      "text/html": [
       "<pre style=\"white-space:pre;overflow-x:auto;line-height:normal;font-family:Menlo,'DejaVu Sans Mono',consolas,'Courier New',monospace\">┏━━━━━━━━━━━━━━━━━━━━━━━━━━━━━━━━━┳━━━━━━━━━━━━━━━━━━━━━━━━━━━┳━━━━━━━━━━━━┓\n",
       "┃<span style=\"font-weight: bold\"> Layer (type)                    </span>┃<span style=\"font-weight: bold\"> Output Shape              </span>┃<span style=\"font-weight: bold\">    Param # </span>┃\n",
       "┡━━━━━━━━━━━━━━━━━━━━━━━━━━━━━━━━━╇━━━━━━━━━━━━━━━━━━━━━━━━━━━╇━━━━━━━━━━━━┩\n",
       "│ conv1d_74 (<span style=\"color: #0087ff; text-decoration-color: #0087ff\">Conv1D</span>)              │ (<span style=\"color: #00d7ff; text-decoration-color: #00d7ff\">None</span>, <span style=\"color: #00af00; text-decoration-color: #00af00\">8</span>, <span style=\"color: #00af00; text-decoration-color: #00af00\">100</span>)            │      <span style=\"color: #00af00; text-decoration-color: #00af00\">1,000</span> │\n",
       "├─────────────────────────────────┼───────────────────────────┼────────────┤\n",
       "│ max_pooling1d_74 (<span style=\"color: #0087ff; text-decoration-color: #0087ff\">MaxPooling1D</span>) │ (<span style=\"color: #00d7ff; text-decoration-color: #00d7ff\">None</span>, <span style=\"color: #00af00; text-decoration-color: #00af00\">6</span>, <span style=\"color: #00af00; text-decoration-color: #00af00\">100</span>)            │          <span style=\"color: #00af00; text-decoration-color: #00af00\">0</span> │\n",
       "├─────────────────────────────────┼───────────────────────────┼────────────┤\n",
       "│ dropout_74 (<span style=\"color: #0087ff; text-decoration-color: #0087ff\">Dropout</span>)            │ (<span style=\"color: #00d7ff; text-decoration-color: #00d7ff\">None</span>, <span style=\"color: #00af00; text-decoration-color: #00af00\">6</span>, <span style=\"color: #00af00; text-decoration-color: #00af00\">100</span>)            │          <span style=\"color: #00af00; text-decoration-color: #00af00\">0</span> │\n",
       "├─────────────────────────────────┼───────────────────────────┼────────────┤\n",
       "│ conv1d_75 (<span style=\"color: #0087ff; text-decoration-color: #0087ff\">Conv1D</span>)              │ (<span style=\"color: #00d7ff; text-decoration-color: #00d7ff\">None</span>, <span style=\"color: #00af00; text-decoration-color: #00af00\">5</span>, <span style=\"color: #00af00; text-decoration-color: #00af00\">32</span>)             │      <span style=\"color: #00af00; text-decoration-color: #00af00\">6,432</span> │\n",
       "├─────────────────────────────────┼───────────────────────────┼────────────┤\n",
       "│ max_pooling1d_75 (<span style=\"color: #0087ff; text-decoration-color: #0087ff\">MaxPooling1D</span>) │ (<span style=\"color: #00d7ff; text-decoration-color: #00d7ff\">None</span>, <span style=\"color: #00af00; text-decoration-color: #00af00\">4</span>, <span style=\"color: #00af00; text-decoration-color: #00af00\">32</span>)             │          <span style=\"color: #00af00; text-decoration-color: #00af00\">0</span> │\n",
       "├─────────────────────────────────┼───────────────────────────┼────────────┤\n",
       "│ dropout_75 (<span style=\"color: #0087ff; text-decoration-color: #0087ff\">Dropout</span>)            │ (<span style=\"color: #00d7ff; text-decoration-color: #00d7ff\">None</span>, <span style=\"color: #00af00; text-decoration-color: #00af00\">4</span>, <span style=\"color: #00af00; text-decoration-color: #00af00\">32</span>)             │          <span style=\"color: #00af00; text-decoration-color: #00af00\">0</span> │\n",
       "├─────────────────────────────────┼───────────────────────────┼────────────┤\n",
       "│ flatten_37 (<span style=\"color: #0087ff; text-decoration-color: #0087ff\">Flatten</span>)            │ (<span style=\"color: #00d7ff; text-decoration-color: #00d7ff\">None</span>, <span style=\"color: #00af00; text-decoration-color: #00af00\">128</span>)               │          <span style=\"color: #00af00; text-decoration-color: #00af00\">0</span> │\n",
       "├─────────────────────────────────┼───────────────────────────┼────────────┤\n",
       "│ dense_37 (<span style=\"color: #0087ff; text-decoration-color: #0087ff\">Dense</span>)                │ (<span style=\"color: #00d7ff; text-decoration-color: #00d7ff\">None</span>, <span style=\"color: #00af00; text-decoration-color: #00af00\">2</span>)                 │        <span style=\"color: #00af00; text-decoration-color: #00af00\">258</span> │\n",
       "└─────────────────────────────────┴───────────────────────────┴────────────┘\n",
       "</pre>\n"
      ],
      "text/plain": [
       "┏━━━━━━━━━━━━━━━━━━━━━━━━━━━━━━━━━┳━━━━━━━━━━━━━━━━━━━━━━━━━━━┳━━━━━━━━━━━━┓\n",
       "┃\u001b[1m \u001b[0m\u001b[1mLayer (type)                   \u001b[0m\u001b[1m \u001b[0m┃\u001b[1m \u001b[0m\u001b[1mOutput Shape             \u001b[0m\u001b[1m \u001b[0m┃\u001b[1m \u001b[0m\u001b[1m   Param #\u001b[0m\u001b[1m \u001b[0m┃\n",
       "┡━━━━━━━━━━━━━━━━━━━━━━━━━━━━━━━━━╇━━━━━━━━━━━━━━━━━━━━━━━━━━━╇━━━━━━━━━━━━┩\n",
       "│ conv1d_74 (\u001b[38;5;33mConv1D\u001b[0m)              │ (\u001b[38;5;45mNone\u001b[0m, \u001b[38;5;34m8\u001b[0m, \u001b[38;5;34m100\u001b[0m)            │      \u001b[38;5;34m1,000\u001b[0m │\n",
       "├─────────────────────────────────┼───────────────────────────┼────────────┤\n",
       "│ max_pooling1d_74 (\u001b[38;5;33mMaxPooling1D\u001b[0m) │ (\u001b[38;5;45mNone\u001b[0m, \u001b[38;5;34m6\u001b[0m, \u001b[38;5;34m100\u001b[0m)            │          \u001b[38;5;34m0\u001b[0m │\n",
       "├─────────────────────────────────┼───────────────────────────┼────────────┤\n",
       "│ dropout_74 (\u001b[38;5;33mDropout\u001b[0m)            │ (\u001b[38;5;45mNone\u001b[0m, \u001b[38;5;34m6\u001b[0m, \u001b[38;5;34m100\u001b[0m)            │          \u001b[38;5;34m0\u001b[0m │\n",
       "├─────────────────────────────────┼───────────────────────────┼────────────┤\n",
       "│ conv1d_75 (\u001b[38;5;33mConv1D\u001b[0m)              │ (\u001b[38;5;45mNone\u001b[0m, \u001b[38;5;34m5\u001b[0m, \u001b[38;5;34m32\u001b[0m)             │      \u001b[38;5;34m6,432\u001b[0m │\n",
       "├─────────────────────────────────┼───────────────────────────┼────────────┤\n",
       "│ max_pooling1d_75 (\u001b[38;5;33mMaxPooling1D\u001b[0m) │ (\u001b[38;5;45mNone\u001b[0m, \u001b[38;5;34m4\u001b[0m, \u001b[38;5;34m32\u001b[0m)             │          \u001b[38;5;34m0\u001b[0m │\n",
       "├─────────────────────────────────┼───────────────────────────┼────────────┤\n",
       "│ dropout_75 (\u001b[38;5;33mDropout\u001b[0m)            │ (\u001b[38;5;45mNone\u001b[0m, \u001b[38;5;34m4\u001b[0m, \u001b[38;5;34m32\u001b[0m)             │          \u001b[38;5;34m0\u001b[0m │\n",
       "├─────────────────────────────────┼───────────────────────────┼────────────┤\n",
       "│ flatten_37 (\u001b[38;5;33mFlatten\u001b[0m)            │ (\u001b[38;5;45mNone\u001b[0m, \u001b[38;5;34m128\u001b[0m)               │          \u001b[38;5;34m0\u001b[0m │\n",
       "├─────────────────────────────────┼───────────────────────────┼────────────┤\n",
       "│ dense_37 (\u001b[38;5;33mDense\u001b[0m)                │ (\u001b[38;5;45mNone\u001b[0m, \u001b[38;5;34m2\u001b[0m)                 │        \u001b[38;5;34m258\u001b[0m │\n",
       "└─────────────────────────────────┴───────────────────────────┴────────────┘\n"
      ]
     },
     "metadata": {},
     "output_type": "display_data"
    },
    {
     "data": {
      "text/html": [
       "<pre style=\"white-space:pre;overflow-x:auto;line-height:normal;font-family:Menlo,'DejaVu Sans Mono',consolas,'Courier New',monospace\"><span style=\"font-weight: bold\"> Total params: </span><span style=\"color: #00af00; text-decoration-color: #00af00\">7,690</span> (30.04 KB)\n",
       "</pre>\n"
      ],
      "text/plain": [
       "\u001b[1m Total params: \u001b[0m\u001b[38;5;34m7,690\u001b[0m (30.04 KB)\n"
      ]
     },
     "metadata": {},
     "output_type": "display_data"
    },
    {
     "data": {
      "text/html": [
       "<pre style=\"white-space:pre;overflow-x:auto;line-height:normal;font-family:Menlo,'DejaVu Sans Mono',consolas,'Courier New',monospace\"><span style=\"font-weight: bold\"> Trainable params: </span><span style=\"color: #00af00; text-decoration-color: #00af00\">7,690</span> (30.04 KB)\n",
       "</pre>\n"
      ],
      "text/plain": [
       "\u001b[1m Trainable params: \u001b[0m\u001b[38;5;34m7,690\u001b[0m (30.04 KB)\n"
      ]
     },
     "metadata": {},
     "output_type": "display_data"
    },
    {
     "data": {
      "text/html": [
       "<pre style=\"white-space:pre;overflow-x:auto;line-height:normal;font-family:Menlo,'DejaVu Sans Mono',consolas,'Courier New',monospace\"><span style=\"font-weight: bold\"> Non-trainable params: </span><span style=\"color: #00af00; text-decoration-color: #00af00\">0</span> (0.00 B)\n",
       "</pre>\n"
      ],
      "text/plain": [
       "\u001b[1m Non-trainable params: \u001b[0m\u001b[38;5;34m0\u001b[0m (0.00 B)\n"
      ]
     },
     "metadata": {},
     "output_type": "display_data"
    },
    {
     "name": "stdout",
     "output_type": "stream",
     "text": [
      "None\n",
      "Epoch 1/30\n",
      "\u001b[1m13288/13288\u001b[0m \u001b[32m━━━━━━━━━━━━━━━━━━━━\u001b[0m\u001b[37m\u001b[0m \u001b[1m80s\u001b[0m 6ms/step - accuracy: 0.9564 - loss: 0.0300 - mae: 0.1234 - mse: 0.0300\n",
      "Epoch 2/30\n",
      "\u001b[1m13288/13288\u001b[0m \u001b[32m━━━━━━━━━━━━━━━━━━━━\u001b[0m\u001b[37m\u001b[0m \u001b[1m69s\u001b[0m 5ms/step - accuracy: 0.9654 - loss: 0.0164 - mae: 0.0956 - mse: 0.0164\n",
      "Epoch 3/30\n",
      "\u001b[1m13288/13288\u001b[0m \u001b[32m━━━━━━━━━━━━━━━━━━━━\u001b[0m\u001b[37m\u001b[0m \u001b[1m73s\u001b[0m 5ms/step - accuracy: 0.9654 - loss: 0.0162 - mae: 0.0951 - mse: 0.0162\n",
      "Epoch 4/30\n",
      "\u001b[1m13288/13288\u001b[0m \u001b[32m━━━━━━━━━━━━━━━━━━━━\u001b[0m\u001b[37m\u001b[0m \u001b[1m83s\u001b[0m 6ms/step - accuracy: 0.9654 - loss: 0.0163 - mae: 0.0952 - mse: 0.0163\n",
      "Epoch 5/30\n",
      "\u001b[1m13288/13288\u001b[0m \u001b[32m━━━━━━━━━━━━━━━━━━━━\u001b[0m\u001b[37m\u001b[0m \u001b[1m72s\u001b[0m 5ms/step - accuracy: 0.9651 - loss: 0.0162 - mae: 0.0950 - mse: 0.0162\n",
      "Epoch 5: early stopping\n",
      "validation_x shape (141729, 10, 3)\n",
      "\u001b[1m4430/4430\u001b[0m \u001b[32m━━━━━━━━━━━━━━━━━━━━\u001b[0m\u001b[37m\u001b[0m \u001b[1m7s\u001b[0m 1ms/step\n",
      "(141729, 2)\n",
      "(141729, 2)\n",
      "Precision  1 :  35.49591121083194\n",
      "Precision  2 :  62.51367045558778\n",
      "Precision  3 :  79.91025125415405\n",
      "Precision  4 :  89.038940513233\n",
      "Precision  5 :  93.89680305371519\n"
     ]
    },
    {
     "name": "stderr",
     "output_type": "stream",
     "text": [
      "/tmp/ipykernel_364/3673594883.py:248: DeprecationWarning: Conversion of an array with ndim > 0 to a scalar is deprecated, and will error in future. Ensure you extract a single element from your array before performing this operation. (Deprecated NumPy 1.25.)\n",
      "  rmse = math.sqrt(rmse)\n"
     ]
    },
    {
     "name": "stdout",
     "output_type": "stream",
     "text": [
      "2.4561924638441357\n",
      "testing on : AK\n",
      "<class 'pandas.core.frame.DataFrame'>\n",
      "RangeIndex: 57288 entries, 0 to 57287\n",
      "Data columns (total 13 columns):\n",
      " #   Column         Non-Null Count  Dtype  \n",
      "---  ------         --------------  -----  \n",
      " 0   lcop           57288 non-null  float64\n",
      " 1   rcop           57288 non-null  float64\n",
      " 2   lgrf           57288 non-null  float64\n",
      " 3   rgrf           57288 non-null  float64\n",
      " 4   l_ph_hip       57288 non-null  float64\n",
      " 5   r_ph_hip       57288 non-null  float64\n",
      " 6   st_sw_phase_l  57288 non-null  float64\n",
      " 7   st_sw_phase_r  57288 non-null  float64\n",
      " 8   st_l_l         57288 non-null  float64\n",
      " 9   st_l_r         57288 non-null  float64\n",
      " 10  leg_len        57288 non-null  float64\n",
      " 11  weight         57288 non-null  float64\n",
      " 12  perc           57288 non-null  float64\n",
      "dtypes: float64(13)\n",
      "memory usage: 5.7 MB\n",
      "<class 'pandas.core.frame.DataFrame'>\n",
      "RangeIndex: 56821 entries, 0 to 56820\n",
      "Data columns (total 3 columns):\n",
      " #   Column    Non-Null Count  Dtype  \n",
      "---  ------    --------------  -----  \n",
      " 0   lcop      56821 non-null  float64\n",
      " 1   l_ph_hip  56821 non-null  float64\n",
      " 2   st_l_l    56821 non-null  float64\n",
      "dtypes: float64(3)\n",
      "memory usage: 1.3 MB\n",
      "validation_x shape (42604, 10, 3)\n",
      "\u001b[1m1332/1332\u001b[0m \u001b[32m━━━━━━━━━━━━━━━━━━━━\u001b[0m\u001b[37m\u001b[0m \u001b[1m2s\u001b[0m 2ms/step\n",
      "(42604, 2)\n",
      "(42604, 2)\n",
      "Precision  1 :  29.43620317341095\n",
      "Precision  2 :  56.44070979250775\n",
      "Precision  3 :  76.76509247957938\n",
      "Precision  4 :  89.19819735236128\n",
      "Precision  5 :  95.30091071260914\n"
     ]
    },
    {
     "name": "stderr",
     "output_type": "stream",
     "text": [
      "/tmp/ipykernel_364/3673594883.py:248: DeprecationWarning: Conversion of an array with ndim > 0 to a scalar is deprecated, and will error in future. Ensure you extract a single element from your array before performing this operation. (Deprecated NumPy 1.25.)\n",
      "  rmse = math.sqrt(rmse)\n"
     ]
    },
    {
     "name": "stdout",
     "output_type": "stream",
     "text": [
      "2.4921120307853797\n",
      "Subject combination : ['VP', 'AK', 'PH', 'YC', 'JL', 'JS', 'PK', 'SOE', 'TH', 'SKS', 'VN']\n",
      "All Data Info: \n",
      "<class 'pandas.core.frame.DataFrame'>\n",
      "RangeIndex: 579277 entries, 0 to 579276\n",
      "Data columns (total 13 columns):\n",
      " #   Column         Non-Null Count   Dtype  \n",
      "---  ------         --------------   -----  \n",
      " 0   lcop           579277 non-null  float64\n",
      " 1   rcop           579277 non-null  float64\n",
      " 2   lgrf           579277 non-null  float64\n",
      " 3   rgrf           579277 non-null  float64\n",
      " 4   l_ph_hip       579277 non-null  float64\n",
      " 5   r_ph_hip       579277 non-null  float64\n",
      " 6   st_sw_phase_l  579277 non-null  float64\n",
      " 7   st_sw_phase_r  579277 non-null  float64\n",
      " 8   st_l_l         579277 non-null  float64\n",
      " 9   st_l_r         579277 non-null  float64\n",
      " 10  leg_len        579277 non-null  float64\n",
      " 11  weight         579277 non-null  float64\n",
      " 12  perc           579277 non-null  float64\n",
      "dtypes: float64(13)\n",
      "memory usage: 57.5 MB\n",
      "<class 'pandas.core.frame.DataFrame'>\n",
      "RangeIndex: 579277 entries, 0 to 579276\n",
      "Data columns (total 13 columns):\n",
      " #   Column         Non-Null Count   Dtype  \n",
      "---  ------         --------------   -----  \n",
      " 0   lcop           579277 non-null  float64\n",
      " 1   rcop           579277 non-null  float64\n",
      " 2   lgrf           579277 non-null  float64\n",
      " 3   rgrf           579277 non-null  float64\n",
      " 4   l_ph_hip       579277 non-null  float64\n",
      " 5   r_ph_hip       579277 non-null  float64\n",
      " 6   st_sw_phase_l  579277 non-null  float64\n",
      " 7   st_sw_phase_r  579277 non-null  float64\n",
      " 8   st_l_l         579277 non-null  float64\n",
      " 9   st_l_r         579277 non-null  float64\n",
      " 10  leg_len        579277 non-null  float64\n",
      " 11  weight         579277 non-null  float64\n",
      " 12  perc           579277 non-null  float64\n",
      "dtypes: float64(13)\n",
      "memory usage: 57.5 MB\n",
      "<class 'pandas.core.frame.DataFrame'>\n",
      "RangeIndex: 576430 entries, 0 to 576429\n",
      "Data columns (total 3 columns):\n",
      " #   Column    Non-Null Count   Dtype  \n",
      "---  ------    --------------   -----  \n",
      " 0   lcop      576430 non-null  float64\n",
      " 1   l_ph_hip  576430 non-null  float64\n",
      " 2   st_l_l    576430 non-null  float64\n",
      "dtypes: float64(3)\n",
      "memory usage: 13.2 MB\n",
      "Nan in train x at indices: []\n",
      "Nan in train y at indices: []\n",
      "(432311, 10, 3)\n",
      "(144097, 10, 3)\n",
      "SSS\n",
      "OKAY till here 1\n"
     ]
    },
    {
     "name": "stderr",
     "output_type": "stream",
     "text": [
      "/home/hikikomori/miniconda3/envs/clean_gait_phase/lib/python3.10/site-packages/keras/src/layers/convolutional/base_conv.py:99: UserWarning: Do not pass an `input_shape`/`input_dim` argument to a layer. When using Sequential models, prefer using an `Input(shape)` object as the first layer in the model instead.\n",
      "  super().__init__(\n"
     ]
    },
    {
     "data": {
      "text/html": [
       "<pre style=\"white-space:pre;overflow-x:auto;line-height:normal;font-family:Menlo,'DejaVu Sans Mono',consolas,'Courier New',monospace\"><span style=\"font-weight: bold\">Model: \"sequential_38\"</span>\n",
       "</pre>\n"
      ],
      "text/plain": [
       "\u001b[1mModel: \"sequential_38\"\u001b[0m\n"
      ]
     },
     "metadata": {},
     "output_type": "display_data"
    },
    {
     "data": {
      "text/html": [
       "<pre style=\"white-space:pre;overflow-x:auto;line-height:normal;font-family:Menlo,'DejaVu Sans Mono',consolas,'Courier New',monospace\">┏━━━━━━━━━━━━━━━━━━━━━━━━━━━━━━━━━┳━━━━━━━━━━━━━━━━━━━━━━━━━━━┳━━━━━━━━━━━━┓\n",
       "┃<span style=\"font-weight: bold\"> Layer (type)                    </span>┃<span style=\"font-weight: bold\"> Output Shape              </span>┃<span style=\"font-weight: bold\">    Param # </span>┃\n",
       "┡━━━━━━━━━━━━━━━━━━━━━━━━━━━━━━━━━╇━━━━━━━━━━━━━━━━━━━━━━━━━━━╇━━━━━━━━━━━━┩\n",
       "│ conv1d_76 (<span style=\"color: #0087ff; text-decoration-color: #0087ff\">Conv1D</span>)              │ (<span style=\"color: #00d7ff; text-decoration-color: #00d7ff\">None</span>, <span style=\"color: #00af00; text-decoration-color: #00af00\">8</span>, <span style=\"color: #00af00; text-decoration-color: #00af00\">100</span>)            │      <span style=\"color: #00af00; text-decoration-color: #00af00\">1,000</span> │\n",
       "├─────────────────────────────────┼───────────────────────────┼────────────┤\n",
       "│ max_pooling1d_76 (<span style=\"color: #0087ff; text-decoration-color: #0087ff\">MaxPooling1D</span>) │ (<span style=\"color: #00d7ff; text-decoration-color: #00d7ff\">None</span>, <span style=\"color: #00af00; text-decoration-color: #00af00\">6</span>, <span style=\"color: #00af00; text-decoration-color: #00af00\">100</span>)            │          <span style=\"color: #00af00; text-decoration-color: #00af00\">0</span> │\n",
       "├─────────────────────────────────┼───────────────────────────┼────────────┤\n",
       "│ dropout_76 (<span style=\"color: #0087ff; text-decoration-color: #0087ff\">Dropout</span>)            │ (<span style=\"color: #00d7ff; text-decoration-color: #00d7ff\">None</span>, <span style=\"color: #00af00; text-decoration-color: #00af00\">6</span>, <span style=\"color: #00af00; text-decoration-color: #00af00\">100</span>)            │          <span style=\"color: #00af00; text-decoration-color: #00af00\">0</span> │\n",
       "├─────────────────────────────────┼───────────────────────────┼────────────┤\n",
       "│ conv1d_77 (<span style=\"color: #0087ff; text-decoration-color: #0087ff\">Conv1D</span>)              │ (<span style=\"color: #00d7ff; text-decoration-color: #00d7ff\">None</span>, <span style=\"color: #00af00; text-decoration-color: #00af00\">5</span>, <span style=\"color: #00af00; text-decoration-color: #00af00\">32</span>)             │      <span style=\"color: #00af00; text-decoration-color: #00af00\">6,432</span> │\n",
       "├─────────────────────────────────┼───────────────────────────┼────────────┤\n",
       "│ max_pooling1d_77 (<span style=\"color: #0087ff; text-decoration-color: #0087ff\">MaxPooling1D</span>) │ (<span style=\"color: #00d7ff; text-decoration-color: #00d7ff\">None</span>, <span style=\"color: #00af00; text-decoration-color: #00af00\">4</span>, <span style=\"color: #00af00; text-decoration-color: #00af00\">32</span>)             │          <span style=\"color: #00af00; text-decoration-color: #00af00\">0</span> │\n",
       "├─────────────────────────────────┼───────────────────────────┼────────────┤\n",
       "│ dropout_77 (<span style=\"color: #0087ff; text-decoration-color: #0087ff\">Dropout</span>)            │ (<span style=\"color: #00d7ff; text-decoration-color: #00d7ff\">None</span>, <span style=\"color: #00af00; text-decoration-color: #00af00\">4</span>, <span style=\"color: #00af00; text-decoration-color: #00af00\">32</span>)             │          <span style=\"color: #00af00; text-decoration-color: #00af00\">0</span> │\n",
       "├─────────────────────────────────┼───────────────────────────┼────────────┤\n",
       "│ flatten_38 (<span style=\"color: #0087ff; text-decoration-color: #0087ff\">Flatten</span>)            │ (<span style=\"color: #00d7ff; text-decoration-color: #00d7ff\">None</span>, <span style=\"color: #00af00; text-decoration-color: #00af00\">128</span>)               │          <span style=\"color: #00af00; text-decoration-color: #00af00\">0</span> │\n",
       "├─────────────────────────────────┼───────────────────────────┼────────────┤\n",
       "│ dense_38 (<span style=\"color: #0087ff; text-decoration-color: #0087ff\">Dense</span>)                │ (<span style=\"color: #00d7ff; text-decoration-color: #00d7ff\">None</span>, <span style=\"color: #00af00; text-decoration-color: #00af00\">2</span>)                 │        <span style=\"color: #00af00; text-decoration-color: #00af00\">258</span> │\n",
       "└─────────────────────────────────┴───────────────────────────┴────────────┘\n",
       "</pre>\n"
      ],
      "text/plain": [
       "┏━━━━━━━━━━━━━━━━━━━━━━━━━━━━━━━━━┳━━━━━━━━━━━━━━━━━━━━━━━━━━━┳━━━━━━━━━━━━┓\n",
       "┃\u001b[1m \u001b[0m\u001b[1mLayer (type)                   \u001b[0m\u001b[1m \u001b[0m┃\u001b[1m \u001b[0m\u001b[1mOutput Shape             \u001b[0m\u001b[1m \u001b[0m┃\u001b[1m \u001b[0m\u001b[1m   Param #\u001b[0m\u001b[1m \u001b[0m┃\n",
       "┡━━━━━━━━━━━━━━━━━━━━━━━━━━━━━━━━━╇━━━━━━━━━━━━━━━━━━━━━━━━━━━╇━━━━━━━━━━━━┩\n",
       "│ conv1d_76 (\u001b[38;5;33mConv1D\u001b[0m)              │ (\u001b[38;5;45mNone\u001b[0m, \u001b[38;5;34m8\u001b[0m, \u001b[38;5;34m100\u001b[0m)            │      \u001b[38;5;34m1,000\u001b[0m │\n",
       "├─────────────────────────────────┼───────────────────────────┼────────────┤\n",
       "│ max_pooling1d_76 (\u001b[38;5;33mMaxPooling1D\u001b[0m) │ (\u001b[38;5;45mNone\u001b[0m, \u001b[38;5;34m6\u001b[0m, \u001b[38;5;34m100\u001b[0m)            │          \u001b[38;5;34m0\u001b[0m │\n",
       "├─────────────────────────────────┼───────────────────────────┼────────────┤\n",
       "│ dropout_76 (\u001b[38;5;33mDropout\u001b[0m)            │ (\u001b[38;5;45mNone\u001b[0m, \u001b[38;5;34m6\u001b[0m, \u001b[38;5;34m100\u001b[0m)            │          \u001b[38;5;34m0\u001b[0m │\n",
       "├─────────────────────────────────┼───────────────────────────┼────────────┤\n",
       "│ conv1d_77 (\u001b[38;5;33mConv1D\u001b[0m)              │ (\u001b[38;5;45mNone\u001b[0m, \u001b[38;5;34m5\u001b[0m, \u001b[38;5;34m32\u001b[0m)             │      \u001b[38;5;34m6,432\u001b[0m │\n",
       "├─────────────────────────────────┼───────────────────────────┼────────────┤\n",
       "│ max_pooling1d_77 (\u001b[38;5;33mMaxPooling1D\u001b[0m) │ (\u001b[38;5;45mNone\u001b[0m, \u001b[38;5;34m4\u001b[0m, \u001b[38;5;34m32\u001b[0m)             │          \u001b[38;5;34m0\u001b[0m │\n",
       "├─────────────────────────────────┼───────────────────────────┼────────────┤\n",
       "│ dropout_77 (\u001b[38;5;33mDropout\u001b[0m)            │ (\u001b[38;5;45mNone\u001b[0m, \u001b[38;5;34m4\u001b[0m, \u001b[38;5;34m32\u001b[0m)             │          \u001b[38;5;34m0\u001b[0m │\n",
       "├─────────────────────────────────┼───────────────────────────┼────────────┤\n",
       "│ flatten_38 (\u001b[38;5;33mFlatten\u001b[0m)            │ (\u001b[38;5;45mNone\u001b[0m, \u001b[38;5;34m128\u001b[0m)               │          \u001b[38;5;34m0\u001b[0m │\n",
       "├─────────────────────────────────┼───────────────────────────┼────────────┤\n",
       "│ dense_38 (\u001b[38;5;33mDense\u001b[0m)                │ (\u001b[38;5;45mNone\u001b[0m, \u001b[38;5;34m2\u001b[0m)                 │        \u001b[38;5;34m258\u001b[0m │\n",
       "└─────────────────────────────────┴───────────────────────────┴────────────┘\n"
      ]
     },
     "metadata": {},
     "output_type": "display_data"
    },
    {
     "data": {
      "text/html": [
       "<pre style=\"white-space:pre;overflow-x:auto;line-height:normal;font-family:Menlo,'DejaVu Sans Mono',consolas,'Courier New',monospace\"><span style=\"font-weight: bold\"> Total params: </span><span style=\"color: #00af00; text-decoration-color: #00af00\">7,690</span> (30.04 KB)\n",
       "</pre>\n"
      ],
      "text/plain": [
       "\u001b[1m Total params: \u001b[0m\u001b[38;5;34m7,690\u001b[0m (30.04 KB)\n"
      ]
     },
     "metadata": {},
     "output_type": "display_data"
    },
    {
     "data": {
      "text/html": [
       "<pre style=\"white-space:pre;overflow-x:auto;line-height:normal;font-family:Menlo,'DejaVu Sans Mono',consolas,'Courier New',monospace\"><span style=\"font-weight: bold\"> Trainable params: </span><span style=\"color: #00af00; text-decoration-color: #00af00\">7,690</span> (30.04 KB)\n",
       "</pre>\n"
      ],
      "text/plain": [
       "\u001b[1m Trainable params: \u001b[0m\u001b[38;5;34m7,690\u001b[0m (30.04 KB)\n"
      ]
     },
     "metadata": {},
     "output_type": "display_data"
    },
    {
     "data": {
      "text/html": [
       "<pre style=\"white-space:pre;overflow-x:auto;line-height:normal;font-family:Menlo,'DejaVu Sans Mono',consolas,'Courier New',monospace\"><span style=\"font-weight: bold\"> Non-trainable params: </span><span style=\"color: #00af00; text-decoration-color: #00af00\">0</span> (0.00 B)\n",
       "</pre>\n"
      ],
      "text/plain": [
       "\u001b[1m Non-trainable params: \u001b[0m\u001b[38;5;34m0\u001b[0m (0.00 B)\n"
      ]
     },
     "metadata": {},
     "output_type": "display_data"
    },
    {
     "name": "stdout",
     "output_type": "stream",
     "text": [
      "None\n",
      "Epoch 1/30\n",
      "\u001b[1m13510/13510\u001b[0m \u001b[32m━━━━━━━━━━━━━━━━━━━━\u001b[0m\u001b[37m\u001b[0m \u001b[1m77s\u001b[0m 6ms/step - accuracy: 0.9572 - loss: 0.0291 - mae: 0.1230 - mse: 0.0291\n",
      "Epoch 2/30\n",
      "\u001b[1m13510/13510\u001b[0m \u001b[32m━━━━━━━━━━━━━━━━━━━━\u001b[0m\u001b[37m\u001b[0m \u001b[1m73s\u001b[0m 5ms/step - accuracy: 0.9660 - loss: 0.0168 - mae: 0.0970 - mse: 0.0168\n",
      "Epoch 3/30\n",
      "\u001b[1m13510/13510\u001b[0m \u001b[32m━━━━━━━━━━━━━━━━━━━━\u001b[0m\u001b[37m\u001b[0m \u001b[1m75s\u001b[0m 6ms/step - accuracy: 0.9668 - loss: 0.0166 - mae: 0.0963 - mse: 0.0166\n",
      "Epoch 4/30\n",
      "\u001b[1m13510/13510\u001b[0m \u001b[32m━━━━━━━━━━━━━━━━━━━━\u001b[0m\u001b[37m\u001b[0m \u001b[1m74s\u001b[0m 5ms/step - accuracy: 0.9665 - loss: 0.0166 - mae: 0.0962 - mse: 0.0166\n",
      "Epoch 5/30\n",
      "\u001b[1m13510/13510\u001b[0m \u001b[32m━━━━━━━━━━━━━━━━━━━━\u001b[0m\u001b[37m\u001b[0m \u001b[1m73s\u001b[0m 5ms/step - accuracy: 0.9669 - loss: 0.0165 - mae: 0.0962 - mse: 0.0165\n",
      "Epoch 6/30\n",
      "\u001b[1m13510/13510\u001b[0m \u001b[32m━━━━━━━━━━━━━━━━━━━━\u001b[0m\u001b[37m\u001b[0m \u001b[1m73s\u001b[0m 5ms/step - accuracy: 0.9664 - loss: 0.0166 - mae: 0.0962 - mse: 0.0166\n",
      "Epoch 6: early stopping\n",
      "validation_x shape (144097, 10, 3)\n",
      "\u001b[1m4504/4504\u001b[0m \u001b[32m━━━━━━━━━━━━━━━━━━━━\u001b[0m\u001b[37m\u001b[0m \u001b[1m6s\u001b[0m 1ms/step\n",
      "(144097, 2)\n",
      "(144097, 2)\n",
      "Precision  1 :  36.367863314295235\n",
      "Precision  2 :  64.34415706086872\n",
      "Precision  3 :  81.17656856145513\n",
      "Precision  4 :  89.5875694844445\n",
      "Precision  5 :  93.9839136137463\n"
     ]
    },
    {
     "name": "stderr",
     "output_type": "stream",
     "text": [
      "/tmp/ipykernel_364/3673594883.py:248: DeprecationWarning: Conversion of an array with ndim > 0 to a scalar is deprecated, and will error in future. Ensure you extract a single element from your array before performing this operation. (Deprecated NumPy 1.25.)\n",
      "  rmse = math.sqrt(rmse)\n"
     ]
    },
    {
     "name": "stdout",
     "output_type": "stream",
     "text": [
      "2.549523356257073\n",
      "testing on : SD\n",
      "<class 'pandas.core.frame.DataFrame'>\n",
      "RangeIndex: 47781 entries, 0 to 47780\n",
      "Data columns (total 13 columns):\n",
      " #   Column         Non-Null Count  Dtype  \n",
      "---  ------         --------------  -----  \n",
      " 0   lcop           47781 non-null  float64\n",
      " 1   rcop           47781 non-null  float64\n",
      " 2   lgrf           47781 non-null  float64\n",
      " 3   rgrf           47781 non-null  float64\n",
      " 4   l_ph_hip       47781 non-null  float64\n",
      " 5   r_ph_hip       47781 non-null  float64\n",
      " 6   st_sw_phase_l  47781 non-null  float64\n",
      " 7   st_sw_phase_r  47781 non-null  float64\n",
      " 8   st_l_l         47781 non-null  float64\n",
      " 9   st_l_r         47781 non-null  float64\n",
      " 10  leg_len        47781 non-null  float64\n",
      " 11  weight         47781 non-null  float64\n",
      " 12  perc           47781 non-null  float64\n",
      "dtypes: float64(13)\n",
      "memory usage: 4.7 MB\n",
      "<class 'pandas.core.frame.DataFrame'>\n",
      "RangeIndex: 47365 entries, 0 to 47364\n",
      "Data columns (total 3 columns):\n",
      " #   Column    Non-Null Count  Dtype  \n",
      "---  ------    --------------  -----  \n",
      " 0   lcop      47365 non-null  float64\n",
      " 1   l_ph_hip  47365 non-null  float64\n",
      " 2   st_l_l    47365 non-null  float64\n",
      "dtypes: float64(3)\n",
      "memory usage: 1.1 MB\n",
      "validation_x shape (35512, 10, 3)\n",
      "\u001b[1m1110/1110\u001b[0m \u001b[32m━━━━━━━━━━━━━━━━━━━━\u001b[0m\u001b[37m\u001b[0m \u001b[1m2s\u001b[0m 2ms/step\n",
      "(35512, 2)\n",
      "(35512, 2)\n",
      "Precision  1 :  35.5119396260419\n",
      "Precision  2 :  66.14665465194864\n",
      "Precision  3 :  85.43027708943455\n",
      "Precision  4 :  93.73732822707817\n",
      "Precision  5 :  96.23225951790944\n",
      "2.0592519750834866\n"
     ]
    },
    {
     "name": "stderr",
     "output_type": "stream",
     "text": [
      "/tmp/ipykernel_364/3673594883.py:248: DeprecationWarning: Conversion of an array with ndim > 0 to a scalar is deprecated, and will error in future. Ensure you extract a single element from your array before performing this operation. (Deprecated NumPy 1.25.)\n",
      "  rmse = math.sqrt(rmse)\n"
     ]
    },
    {
     "name": "stdout",
     "output_type": "stream",
     "text": [
      "Subject combination : ['VP', 'AK', 'SD', 'YC', 'JL', 'JS', 'PK', 'SOE', 'TH', 'SKS', 'VN']\n",
      "All Data Info: \n",
      "<class 'pandas.core.frame.DataFrame'>\n",
      "RangeIndex: 567615 entries, 0 to 567614\n",
      "Data columns (total 13 columns):\n",
      " #   Column         Non-Null Count   Dtype  \n",
      "---  ------         --------------   -----  \n",
      " 0   lcop           567615 non-null  float64\n",
      " 1   rcop           567615 non-null  float64\n",
      " 2   lgrf           567615 non-null  float64\n",
      " 3   rgrf           567615 non-null  float64\n",
      " 4   l_ph_hip       567615 non-null  float64\n",
      " 5   r_ph_hip       567615 non-null  float64\n",
      " 6   st_sw_phase_l  567615 non-null  float64\n",
      " 7   st_sw_phase_r  567615 non-null  float64\n",
      " 8   st_l_l         567615 non-null  float64\n",
      " 9   st_l_r         567615 non-null  float64\n",
      " 10  leg_len        567615 non-null  float64\n",
      " 11  weight         567615 non-null  float64\n",
      " 12  perc           567615 non-null  float64\n",
      "dtypes: float64(13)\n",
      "memory usage: 56.3 MB\n",
      "<class 'pandas.core.frame.DataFrame'>\n",
      "RangeIndex: 567615 entries, 0 to 567614\n",
      "Data columns (total 13 columns):\n",
      " #   Column         Non-Null Count   Dtype  \n",
      "---  ------         --------------   -----  \n",
      " 0   lcop           567615 non-null  float64\n",
      " 1   rcop           567615 non-null  float64\n",
      " 2   lgrf           567615 non-null  float64\n",
      " 3   rgrf           567615 non-null  float64\n",
      " 4   l_ph_hip       567615 non-null  float64\n",
      " 5   r_ph_hip       567615 non-null  float64\n",
      " 6   st_sw_phase_l  567615 non-null  float64\n",
      " 7   st_sw_phase_r  567615 non-null  float64\n",
      " 8   st_l_l         567615 non-null  float64\n",
      " 9   st_l_r         567615 non-null  float64\n",
      " 10  leg_len        567615 non-null  float64\n",
      " 11  weight         567615 non-null  float64\n",
      " 12  perc           567615 non-null  float64\n",
      "dtypes: float64(13)\n",
      "memory usage: 56.3 MB\n",
      "<class 'pandas.core.frame.DataFrame'>\n",
      "RangeIndex: 564827 entries, 0 to 564826\n",
      "Data columns (total 3 columns):\n",
      " #   Column    Non-Null Count   Dtype  \n",
      "---  ------    --------------   -----  \n",
      " 0   lcop      564827 non-null  float64\n",
      " 1   l_ph_hip  564827 non-null  float64\n",
      " 2   st_l_l    564827 non-null  float64\n",
      "dtypes: float64(3)\n",
      "memory usage: 12.9 MB\n",
      "Nan in train x at indices: []\n",
      "Nan in train y at indices: []\n",
      "(423609, 10, 3)\n",
      "(141196, 10, 3)\n",
      "SSS\n",
      "OKAY till here 1\n"
     ]
    },
    {
     "name": "stderr",
     "output_type": "stream",
     "text": [
      "/home/hikikomori/miniconda3/envs/clean_gait_phase/lib/python3.10/site-packages/keras/src/layers/convolutional/base_conv.py:99: UserWarning: Do not pass an `input_shape`/`input_dim` argument to a layer. When using Sequential models, prefer using an `Input(shape)` object as the first layer in the model instead.\n",
      "  super().__init__(\n"
     ]
    },
    {
     "data": {
      "text/html": [
       "<pre style=\"white-space:pre;overflow-x:auto;line-height:normal;font-family:Menlo,'DejaVu Sans Mono',consolas,'Courier New',monospace\"><span style=\"font-weight: bold\">Model: \"sequential_39\"</span>\n",
       "</pre>\n"
      ],
      "text/plain": [
       "\u001b[1mModel: \"sequential_39\"\u001b[0m\n"
      ]
     },
     "metadata": {},
     "output_type": "display_data"
    },
    {
     "data": {
      "text/html": [
       "<pre style=\"white-space:pre;overflow-x:auto;line-height:normal;font-family:Menlo,'DejaVu Sans Mono',consolas,'Courier New',monospace\">┏━━━━━━━━━━━━━━━━━━━━━━━━━━━━━━━━━┳━━━━━━━━━━━━━━━━━━━━━━━━━━━┳━━━━━━━━━━━━┓\n",
       "┃<span style=\"font-weight: bold\"> Layer (type)                    </span>┃<span style=\"font-weight: bold\"> Output Shape              </span>┃<span style=\"font-weight: bold\">    Param # </span>┃\n",
       "┡━━━━━━━━━━━━━━━━━━━━━━━━━━━━━━━━━╇━━━━━━━━━━━━━━━━━━━━━━━━━━━╇━━━━━━━━━━━━┩\n",
       "│ conv1d_78 (<span style=\"color: #0087ff; text-decoration-color: #0087ff\">Conv1D</span>)              │ (<span style=\"color: #00d7ff; text-decoration-color: #00d7ff\">None</span>, <span style=\"color: #00af00; text-decoration-color: #00af00\">8</span>, <span style=\"color: #00af00; text-decoration-color: #00af00\">100</span>)            │      <span style=\"color: #00af00; text-decoration-color: #00af00\">1,000</span> │\n",
       "├─────────────────────────────────┼───────────────────────────┼────────────┤\n",
       "│ max_pooling1d_78 (<span style=\"color: #0087ff; text-decoration-color: #0087ff\">MaxPooling1D</span>) │ (<span style=\"color: #00d7ff; text-decoration-color: #00d7ff\">None</span>, <span style=\"color: #00af00; text-decoration-color: #00af00\">6</span>, <span style=\"color: #00af00; text-decoration-color: #00af00\">100</span>)            │          <span style=\"color: #00af00; text-decoration-color: #00af00\">0</span> │\n",
       "├─────────────────────────────────┼───────────────────────────┼────────────┤\n",
       "│ dropout_78 (<span style=\"color: #0087ff; text-decoration-color: #0087ff\">Dropout</span>)            │ (<span style=\"color: #00d7ff; text-decoration-color: #00d7ff\">None</span>, <span style=\"color: #00af00; text-decoration-color: #00af00\">6</span>, <span style=\"color: #00af00; text-decoration-color: #00af00\">100</span>)            │          <span style=\"color: #00af00; text-decoration-color: #00af00\">0</span> │\n",
       "├─────────────────────────────────┼───────────────────────────┼────────────┤\n",
       "│ conv1d_79 (<span style=\"color: #0087ff; text-decoration-color: #0087ff\">Conv1D</span>)              │ (<span style=\"color: #00d7ff; text-decoration-color: #00d7ff\">None</span>, <span style=\"color: #00af00; text-decoration-color: #00af00\">5</span>, <span style=\"color: #00af00; text-decoration-color: #00af00\">32</span>)             │      <span style=\"color: #00af00; text-decoration-color: #00af00\">6,432</span> │\n",
       "├─────────────────────────────────┼───────────────────────────┼────────────┤\n",
       "│ max_pooling1d_79 (<span style=\"color: #0087ff; text-decoration-color: #0087ff\">MaxPooling1D</span>) │ (<span style=\"color: #00d7ff; text-decoration-color: #00d7ff\">None</span>, <span style=\"color: #00af00; text-decoration-color: #00af00\">4</span>, <span style=\"color: #00af00; text-decoration-color: #00af00\">32</span>)             │          <span style=\"color: #00af00; text-decoration-color: #00af00\">0</span> │\n",
       "├─────────────────────────────────┼───────────────────────────┼────────────┤\n",
       "│ dropout_79 (<span style=\"color: #0087ff; text-decoration-color: #0087ff\">Dropout</span>)            │ (<span style=\"color: #00d7ff; text-decoration-color: #00d7ff\">None</span>, <span style=\"color: #00af00; text-decoration-color: #00af00\">4</span>, <span style=\"color: #00af00; text-decoration-color: #00af00\">32</span>)             │          <span style=\"color: #00af00; text-decoration-color: #00af00\">0</span> │\n",
       "├─────────────────────────────────┼───────────────────────────┼────────────┤\n",
       "│ flatten_39 (<span style=\"color: #0087ff; text-decoration-color: #0087ff\">Flatten</span>)            │ (<span style=\"color: #00d7ff; text-decoration-color: #00d7ff\">None</span>, <span style=\"color: #00af00; text-decoration-color: #00af00\">128</span>)               │          <span style=\"color: #00af00; text-decoration-color: #00af00\">0</span> │\n",
       "├─────────────────────────────────┼───────────────────────────┼────────────┤\n",
       "│ dense_39 (<span style=\"color: #0087ff; text-decoration-color: #0087ff\">Dense</span>)                │ (<span style=\"color: #00d7ff; text-decoration-color: #00d7ff\">None</span>, <span style=\"color: #00af00; text-decoration-color: #00af00\">2</span>)                 │        <span style=\"color: #00af00; text-decoration-color: #00af00\">258</span> │\n",
       "└─────────────────────────────────┴───────────────────────────┴────────────┘\n",
       "</pre>\n"
      ],
      "text/plain": [
       "┏━━━━━━━━━━━━━━━━━━━━━━━━━━━━━━━━━┳━━━━━━━━━━━━━━━━━━━━━━━━━━━┳━━━━━━━━━━━━┓\n",
       "┃\u001b[1m \u001b[0m\u001b[1mLayer (type)                   \u001b[0m\u001b[1m \u001b[0m┃\u001b[1m \u001b[0m\u001b[1mOutput Shape             \u001b[0m\u001b[1m \u001b[0m┃\u001b[1m \u001b[0m\u001b[1m   Param #\u001b[0m\u001b[1m \u001b[0m┃\n",
       "┡━━━━━━━━━━━━━━━━━━━━━━━━━━━━━━━━━╇━━━━━━━━━━━━━━━━━━━━━━━━━━━╇━━━━━━━━━━━━┩\n",
       "│ conv1d_78 (\u001b[38;5;33mConv1D\u001b[0m)              │ (\u001b[38;5;45mNone\u001b[0m, \u001b[38;5;34m8\u001b[0m, \u001b[38;5;34m100\u001b[0m)            │      \u001b[38;5;34m1,000\u001b[0m │\n",
       "├─────────────────────────────────┼───────────────────────────┼────────────┤\n",
       "│ max_pooling1d_78 (\u001b[38;5;33mMaxPooling1D\u001b[0m) │ (\u001b[38;5;45mNone\u001b[0m, \u001b[38;5;34m6\u001b[0m, \u001b[38;5;34m100\u001b[0m)            │          \u001b[38;5;34m0\u001b[0m │\n",
       "├─────────────────────────────────┼───────────────────────────┼────────────┤\n",
       "│ dropout_78 (\u001b[38;5;33mDropout\u001b[0m)            │ (\u001b[38;5;45mNone\u001b[0m, \u001b[38;5;34m6\u001b[0m, \u001b[38;5;34m100\u001b[0m)            │          \u001b[38;5;34m0\u001b[0m │\n",
       "├─────────────────────────────────┼───────────────────────────┼────────────┤\n",
       "│ conv1d_79 (\u001b[38;5;33mConv1D\u001b[0m)              │ (\u001b[38;5;45mNone\u001b[0m, \u001b[38;5;34m5\u001b[0m, \u001b[38;5;34m32\u001b[0m)             │      \u001b[38;5;34m6,432\u001b[0m │\n",
       "├─────────────────────────────────┼───────────────────────────┼────────────┤\n",
       "│ max_pooling1d_79 (\u001b[38;5;33mMaxPooling1D\u001b[0m) │ (\u001b[38;5;45mNone\u001b[0m, \u001b[38;5;34m4\u001b[0m, \u001b[38;5;34m32\u001b[0m)             │          \u001b[38;5;34m0\u001b[0m │\n",
       "├─────────────────────────────────┼───────────────────────────┼────────────┤\n",
       "│ dropout_79 (\u001b[38;5;33mDropout\u001b[0m)            │ (\u001b[38;5;45mNone\u001b[0m, \u001b[38;5;34m4\u001b[0m, \u001b[38;5;34m32\u001b[0m)             │          \u001b[38;5;34m0\u001b[0m │\n",
       "├─────────────────────────────────┼───────────────────────────┼────────────┤\n",
       "│ flatten_39 (\u001b[38;5;33mFlatten\u001b[0m)            │ (\u001b[38;5;45mNone\u001b[0m, \u001b[38;5;34m128\u001b[0m)               │          \u001b[38;5;34m0\u001b[0m │\n",
       "├─────────────────────────────────┼───────────────────────────┼────────────┤\n",
       "│ dense_39 (\u001b[38;5;33mDense\u001b[0m)                │ (\u001b[38;5;45mNone\u001b[0m, \u001b[38;5;34m2\u001b[0m)                 │        \u001b[38;5;34m258\u001b[0m │\n",
       "└─────────────────────────────────┴───────────────────────────┴────────────┘\n"
      ]
     },
     "metadata": {},
     "output_type": "display_data"
    },
    {
     "data": {
      "text/html": [
       "<pre style=\"white-space:pre;overflow-x:auto;line-height:normal;font-family:Menlo,'DejaVu Sans Mono',consolas,'Courier New',monospace\"><span style=\"font-weight: bold\"> Total params: </span><span style=\"color: #00af00; text-decoration-color: #00af00\">7,690</span> (30.04 KB)\n",
       "</pre>\n"
      ],
      "text/plain": [
       "\u001b[1m Total params: \u001b[0m\u001b[38;5;34m7,690\u001b[0m (30.04 KB)\n"
      ]
     },
     "metadata": {},
     "output_type": "display_data"
    },
    {
     "data": {
      "text/html": [
       "<pre style=\"white-space:pre;overflow-x:auto;line-height:normal;font-family:Menlo,'DejaVu Sans Mono',consolas,'Courier New',monospace\"><span style=\"font-weight: bold\"> Trainable params: </span><span style=\"color: #00af00; text-decoration-color: #00af00\">7,690</span> (30.04 KB)\n",
       "</pre>\n"
      ],
      "text/plain": [
       "\u001b[1m Trainable params: \u001b[0m\u001b[38;5;34m7,690\u001b[0m (30.04 KB)\n"
      ]
     },
     "metadata": {},
     "output_type": "display_data"
    },
    {
     "data": {
      "text/html": [
       "<pre style=\"white-space:pre;overflow-x:auto;line-height:normal;font-family:Menlo,'DejaVu Sans Mono',consolas,'Courier New',monospace\"><span style=\"font-weight: bold\"> Non-trainable params: </span><span style=\"color: #00af00; text-decoration-color: #00af00\">0</span> (0.00 B)\n",
       "</pre>\n"
      ],
      "text/plain": [
       "\u001b[1m Non-trainable params: \u001b[0m\u001b[38;5;34m0\u001b[0m (0.00 B)\n"
      ]
     },
     "metadata": {},
     "output_type": "display_data"
    },
    {
     "name": "stdout",
     "output_type": "stream",
     "text": [
      "None\n",
      "Epoch 1/30\n",
      "\u001b[1m13238/13238\u001b[0m \u001b[32m━━━━━━━━━━━━━━━━━━━━\u001b[0m\u001b[37m\u001b[0m \u001b[1m77s\u001b[0m 6ms/step - accuracy: 0.9545 - loss: 0.0353 - mae: 0.1309 - mse: 0.0353\n",
      "Epoch 2/30\n",
      "\u001b[1m13238/13238\u001b[0m \u001b[32m━━━━━━━━━━━━━━━━━━━━\u001b[0m\u001b[37m\u001b[0m \u001b[1m68s\u001b[0m 5ms/step - accuracy: 0.9650 - loss: 0.0167 - mae: 0.0972 - mse: 0.0167\n",
      "Epoch 3/30\n",
      "\u001b[1m13238/13238\u001b[0m \u001b[32m━━━━━━━━━━━━━━━━━━━━\u001b[0m\u001b[37m\u001b[0m \u001b[1m72s\u001b[0m 5ms/step - accuracy: 0.9661 - loss: 0.0166 - mae: 0.0967 - mse: 0.0166\n",
      "Epoch 4/30\n",
      "\u001b[1m13238/13238\u001b[0m \u001b[32m━━━━━━━━━━━━━━━━━━━━\u001b[0m\u001b[37m\u001b[0m \u001b[1m71s\u001b[0m 5ms/step - accuracy: 0.9663 - loss: 0.0166 - mae: 0.0967 - mse: 0.0166\n",
      "Epoch 5/30\n",
      "\u001b[1m13238/13238\u001b[0m \u001b[32m━━━━━━━━━━━━━━━━━━━━\u001b[0m\u001b[37m\u001b[0m \u001b[1m72s\u001b[0m 5ms/step - accuracy: 0.9666 - loss: 0.0165 - mae: 0.0964 - mse: 0.0165\n",
      "Epoch 6/30\n",
      "\u001b[1m13238/13238\u001b[0m \u001b[32m━━━━━━━━━━━━━━━━━━━━\u001b[0m\u001b[37m\u001b[0m \u001b[1m72s\u001b[0m 5ms/step - accuracy: 0.9664 - loss: 0.0166 - mae: 0.0967 - mse: 0.0166\n",
      "Epoch 6: early stopping\n",
      "validation_x shape (141196, 10, 3)\n",
      "\u001b[1m4413/4413\u001b[0m \u001b[32m━━━━━━━━━━━━━━━━━━━━\u001b[0m\u001b[37m\u001b[0m \u001b[1m6s\u001b[0m 1ms/step\n",
      "(141196, 2)\n",
      "(141196, 2)\n",
      "Precision  1 :  36.25527635343777\n",
      "Precision  2 :  63.68523187625712\n",
      "Precision  3 :  81.03628997988612\n",
      "Precision  4 :  89.97492846822855\n",
      "Precision  5 :  94.24629592906315\n"
     ]
    },
    {
     "name": "stderr",
     "output_type": "stream",
     "text": [
      "/tmp/ipykernel_364/3673594883.py:248: DeprecationWarning: Conversion of an array with ndim > 0 to a scalar is deprecated, and will error in future. Ensure you extract a single element from your array before performing this operation. (Deprecated NumPy 1.25.)\n",
      "  rmse = math.sqrt(rmse)\n"
     ]
    },
    {
     "name": "stdout",
     "output_type": "stream",
     "text": [
      "2.475859191438987\n",
      "testing on : PH\n",
      "<class 'pandas.core.frame.DataFrame'>\n",
      "RangeIndex: 59443 entries, 0 to 59442\n",
      "Data columns (total 13 columns):\n",
      " #   Column         Non-Null Count  Dtype  \n",
      "---  ------         --------------  -----  \n",
      " 0   lcop           59443 non-null  float64\n",
      " 1   rcop           59443 non-null  float64\n",
      " 2   lgrf           59443 non-null  float64\n",
      " 3   rgrf           59443 non-null  float64\n",
      " 4   l_ph_hip       59443 non-null  float64\n",
      " 5   r_ph_hip       59443 non-null  float64\n",
      " 6   st_sw_phase_l  59443 non-null  float64\n",
      " 7   st_sw_phase_r  59443 non-null  float64\n",
      " 8   st_l_l         59443 non-null  float64\n",
      " 9   st_l_r         59443 non-null  float64\n",
      " 10  leg_len        59443 non-null  float64\n",
      " 11  weight         59443 non-null  float64\n",
      " 12  perc           59443 non-null  float64\n",
      "dtypes: float64(13)\n",
      "memory usage: 5.9 MB\n",
      "<class 'pandas.core.frame.DataFrame'>\n",
      "RangeIndex: 58909 entries, 0 to 58908\n",
      "Data columns (total 3 columns):\n",
      " #   Column    Non-Null Count  Dtype  \n",
      "---  ------    --------------  -----  \n",
      " 0   lcop      58909 non-null  float64\n",
      " 1   l_ph_hip  58909 non-null  float64\n",
      " 2   st_l_l    58909 non-null  float64\n",
      "dtypes: float64(3)\n",
      "memory usage: 1.3 MB\n",
      "validation_x shape (44170, 10, 3)\n",
      "\u001b[1m1381/1381\u001b[0m \u001b[32m━━━━━━━━━━━━━━━━━━━━\u001b[0m\u001b[37m\u001b[0m \u001b[1m3s\u001b[0m 2ms/step\n",
      "(44170, 2)\n",
      "(44170, 2)\n",
      "Precision  1 :  47.747339823409554\n",
      "Precision  2 :  76.30971247453023\n",
      "Precision  3 :  89.41589314014037\n",
      "Precision  4 :  94.0729001584786\n",
      "Precision  5 :  96.35499207606973\n"
     ]
    },
    {
     "name": "stderr",
     "output_type": "stream",
     "text": [
      "/tmp/ipykernel_364/3673594883.py:248: DeprecationWarning: Conversion of an array with ndim > 0 to a scalar is deprecated, and will error in future. Ensure you extract a single element from your array before performing this operation. (Deprecated NumPy 1.25.)\n",
      "  rmse = math.sqrt(rmse)\n"
     ]
    },
    {
     "name": "stdout",
     "output_type": "stream",
     "text": [
      "1.931391060280362\n",
      "Subject combination : ['VP', 'AK', 'SD', 'PH', 'JL', 'JS', 'PK', 'SOE', 'TH', 'SKS', 'VN']\n",
      "All Data Info: \n",
      "<class 'pandas.core.frame.DataFrame'>\n",
      "RangeIndex: 577457 entries, 0 to 577456\n",
      "Data columns (total 13 columns):\n",
      " #   Column         Non-Null Count   Dtype  \n",
      "---  ------         --------------   -----  \n",
      " 0   lcop           577457 non-null  float64\n",
      " 1   rcop           577457 non-null  float64\n",
      " 2   lgrf           577457 non-null  float64\n",
      " 3   rgrf           577457 non-null  float64\n",
      " 4   l_ph_hip       577457 non-null  float64\n",
      " 5   r_ph_hip       577457 non-null  float64\n",
      " 6   st_sw_phase_l  577457 non-null  float64\n",
      " 7   st_sw_phase_r  577457 non-null  float64\n",
      " 8   st_l_l         577457 non-null  float64\n",
      " 9   st_l_r         577457 non-null  float64\n",
      " 10  leg_len        577457 non-null  float64\n",
      " 11  weight         577457 non-null  float64\n",
      " 12  perc           577457 non-null  float64\n",
      "dtypes: float64(13)\n",
      "memory usage: 57.3 MB\n",
      "<class 'pandas.core.frame.DataFrame'>\n",
      "RangeIndex: 577457 entries, 0 to 577456\n",
      "Data columns (total 13 columns):\n",
      " #   Column         Non-Null Count   Dtype  \n",
      "---  ------         --------------   -----  \n",
      " 0   lcop           577457 non-null  float64\n",
      " 1   rcop           577457 non-null  float64\n",
      " 2   lgrf           577457 non-null  float64\n",
      " 3   rgrf           577457 non-null  float64\n",
      " 4   l_ph_hip       577457 non-null  float64\n",
      " 5   r_ph_hip       577457 non-null  float64\n",
      " 6   st_sw_phase_l  577457 non-null  float64\n",
      " 7   st_sw_phase_r  577457 non-null  float64\n",
      " 8   st_l_l         577457 non-null  float64\n",
      " 9   st_l_r         577457 non-null  float64\n",
      " 10  leg_len        577457 non-null  float64\n",
      " 11  weight         577457 non-null  float64\n",
      " 12  perc           577457 non-null  float64\n",
      "dtypes: float64(13)\n",
      "memory usage: 57.3 MB\n",
      "<class 'pandas.core.frame.DataFrame'>\n",
      "RangeIndex: 574661 entries, 0 to 574660\n",
      "Data columns (total 3 columns):\n",
      " #   Column    Non-Null Count   Dtype  \n",
      "---  ------    --------------   -----  \n",
      " 0   lcop      574661 non-null  float64\n",
      " 1   l_ph_hip  574661 non-null  float64\n",
      " 2   st_l_l    574661 non-null  float64\n",
      "dtypes: float64(3)\n",
      "memory usage: 13.2 MB\n",
      "Nan in train x at indices: []\n",
      "Nan in train y at indices: []\n",
      "(430984, 10, 3)\n",
      "(143655, 10, 3)\n",
      "SSS\n",
      "OKAY till here 1\n"
     ]
    },
    {
     "name": "stderr",
     "output_type": "stream",
     "text": [
      "/home/hikikomori/miniconda3/envs/clean_gait_phase/lib/python3.10/site-packages/keras/src/layers/convolutional/base_conv.py:99: UserWarning: Do not pass an `input_shape`/`input_dim` argument to a layer. When using Sequential models, prefer using an `Input(shape)` object as the first layer in the model instead.\n",
      "  super().__init__(\n"
     ]
    },
    {
     "data": {
      "text/html": [
       "<pre style=\"white-space:pre;overflow-x:auto;line-height:normal;font-family:Menlo,'DejaVu Sans Mono',consolas,'Courier New',monospace\"><span style=\"font-weight: bold\">Model: \"sequential_40\"</span>\n",
       "</pre>\n"
      ],
      "text/plain": [
       "\u001b[1mModel: \"sequential_40\"\u001b[0m\n"
      ]
     },
     "metadata": {},
     "output_type": "display_data"
    },
    {
     "data": {
      "text/html": [
       "<pre style=\"white-space:pre;overflow-x:auto;line-height:normal;font-family:Menlo,'DejaVu Sans Mono',consolas,'Courier New',monospace\">┏━━━━━━━━━━━━━━━━━━━━━━━━━━━━━━━━━┳━━━━━━━━━━━━━━━━━━━━━━━━━━━┳━━━━━━━━━━━━┓\n",
       "┃<span style=\"font-weight: bold\"> Layer (type)                    </span>┃<span style=\"font-weight: bold\"> Output Shape              </span>┃<span style=\"font-weight: bold\">    Param # </span>┃\n",
       "┡━━━━━━━━━━━━━━━━━━━━━━━━━━━━━━━━━╇━━━━━━━━━━━━━━━━━━━━━━━━━━━╇━━━━━━━━━━━━┩\n",
       "│ conv1d_80 (<span style=\"color: #0087ff; text-decoration-color: #0087ff\">Conv1D</span>)              │ (<span style=\"color: #00d7ff; text-decoration-color: #00d7ff\">None</span>, <span style=\"color: #00af00; text-decoration-color: #00af00\">8</span>, <span style=\"color: #00af00; text-decoration-color: #00af00\">100</span>)            │      <span style=\"color: #00af00; text-decoration-color: #00af00\">1,000</span> │\n",
       "├─────────────────────────────────┼───────────────────────────┼────────────┤\n",
       "│ max_pooling1d_80 (<span style=\"color: #0087ff; text-decoration-color: #0087ff\">MaxPooling1D</span>) │ (<span style=\"color: #00d7ff; text-decoration-color: #00d7ff\">None</span>, <span style=\"color: #00af00; text-decoration-color: #00af00\">6</span>, <span style=\"color: #00af00; text-decoration-color: #00af00\">100</span>)            │          <span style=\"color: #00af00; text-decoration-color: #00af00\">0</span> │\n",
       "├─────────────────────────────────┼───────────────────────────┼────────────┤\n",
       "│ dropout_80 (<span style=\"color: #0087ff; text-decoration-color: #0087ff\">Dropout</span>)            │ (<span style=\"color: #00d7ff; text-decoration-color: #00d7ff\">None</span>, <span style=\"color: #00af00; text-decoration-color: #00af00\">6</span>, <span style=\"color: #00af00; text-decoration-color: #00af00\">100</span>)            │          <span style=\"color: #00af00; text-decoration-color: #00af00\">0</span> │\n",
       "├─────────────────────────────────┼───────────────────────────┼────────────┤\n",
       "│ conv1d_81 (<span style=\"color: #0087ff; text-decoration-color: #0087ff\">Conv1D</span>)              │ (<span style=\"color: #00d7ff; text-decoration-color: #00d7ff\">None</span>, <span style=\"color: #00af00; text-decoration-color: #00af00\">5</span>, <span style=\"color: #00af00; text-decoration-color: #00af00\">32</span>)             │      <span style=\"color: #00af00; text-decoration-color: #00af00\">6,432</span> │\n",
       "├─────────────────────────────────┼───────────────────────────┼────────────┤\n",
       "│ max_pooling1d_81 (<span style=\"color: #0087ff; text-decoration-color: #0087ff\">MaxPooling1D</span>) │ (<span style=\"color: #00d7ff; text-decoration-color: #00d7ff\">None</span>, <span style=\"color: #00af00; text-decoration-color: #00af00\">4</span>, <span style=\"color: #00af00; text-decoration-color: #00af00\">32</span>)             │          <span style=\"color: #00af00; text-decoration-color: #00af00\">0</span> │\n",
       "├─────────────────────────────────┼───────────────────────────┼────────────┤\n",
       "│ dropout_81 (<span style=\"color: #0087ff; text-decoration-color: #0087ff\">Dropout</span>)            │ (<span style=\"color: #00d7ff; text-decoration-color: #00d7ff\">None</span>, <span style=\"color: #00af00; text-decoration-color: #00af00\">4</span>, <span style=\"color: #00af00; text-decoration-color: #00af00\">32</span>)             │          <span style=\"color: #00af00; text-decoration-color: #00af00\">0</span> │\n",
       "├─────────────────────────────────┼───────────────────────────┼────────────┤\n",
       "│ flatten_40 (<span style=\"color: #0087ff; text-decoration-color: #0087ff\">Flatten</span>)            │ (<span style=\"color: #00d7ff; text-decoration-color: #00d7ff\">None</span>, <span style=\"color: #00af00; text-decoration-color: #00af00\">128</span>)               │          <span style=\"color: #00af00; text-decoration-color: #00af00\">0</span> │\n",
       "├─────────────────────────────────┼───────────────────────────┼────────────┤\n",
       "│ dense_40 (<span style=\"color: #0087ff; text-decoration-color: #0087ff\">Dense</span>)                │ (<span style=\"color: #00d7ff; text-decoration-color: #00d7ff\">None</span>, <span style=\"color: #00af00; text-decoration-color: #00af00\">2</span>)                 │        <span style=\"color: #00af00; text-decoration-color: #00af00\">258</span> │\n",
       "└─────────────────────────────────┴───────────────────────────┴────────────┘\n",
       "</pre>\n"
      ],
      "text/plain": [
       "┏━━━━━━━━━━━━━━━━━━━━━━━━━━━━━━━━━┳━━━━━━━━━━━━━━━━━━━━━━━━━━━┳━━━━━━━━━━━━┓\n",
       "┃\u001b[1m \u001b[0m\u001b[1mLayer (type)                   \u001b[0m\u001b[1m \u001b[0m┃\u001b[1m \u001b[0m\u001b[1mOutput Shape             \u001b[0m\u001b[1m \u001b[0m┃\u001b[1m \u001b[0m\u001b[1m   Param #\u001b[0m\u001b[1m \u001b[0m┃\n",
       "┡━━━━━━━━━━━━━━━━━━━━━━━━━━━━━━━━━╇━━━━━━━━━━━━━━━━━━━━━━━━━━━╇━━━━━━━━━━━━┩\n",
       "│ conv1d_80 (\u001b[38;5;33mConv1D\u001b[0m)              │ (\u001b[38;5;45mNone\u001b[0m, \u001b[38;5;34m8\u001b[0m, \u001b[38;5;34m100\u001b[0m)            │      \u001b[38;5;34m1,000\u001b[0m │\n",
       "├─────────────────────────────────┼───────────────────────────┼────────────┤\n",
       "│ max_pooling1d_80 (\u001b[38;5;33mMaxPooling1D\u001b[0m) │ (\u001b[38;5;45mNone\u001b[0m, \u001b[38;5;34m6\u001b[0m, \u001b[38;5;34m100\u001b[0m)            │          \u001b[38;5;34m0\u001b[0m │\n",
       "├─────────────────────────────────┼───────────────────────────┼────────────┤\n",
       "│ dropout_80 (\u001b[38;5;33mDropout\u001b[0m)            │ (\u001b[38;5;45mNone\u001b[0m, \u001b[38;5;34m6\u001b[0m, \u001b[38;5;34m100\u001b[0m)            │          \u001b[38;5;34m0\u001b[0m │\n",
       "├─────────────────────────────────┼───────────────────────────┼────────────┤\n",
       "│ conv1d_81 (\u001b[38;5;33mConv1D\u001b[0m)              │ (\u001b[38;5;45mNone\u001b[0m, \u001b[38;5;34m5\u001b[0m, \u001b[38;5;34m32\u001b[0m)             │      \u001b[38;5;34m6,432\u001b[0m │\n",
       "├─────────────────────────────────┼───────────────────────────┼────────────┤\n",
       "│ max_pooling1d_81 (\u001b[38;5;33mMaxPooling1D\u001b[0m) │ (\u001b[38;5;45mNone\u001b[0m, \u001b[38;5;34m4\u001b[0m, \u001b[38;5;34m32\u001b[0m)             │          \u001b[38;5;34m0\u001b[0m │\n",
       "├─────────────────────────────────┼───────────────────────────┼────────────┤\n",
       "│ dropout_81 (\u001b[38;5;33mDropout\u001b[0m)            │ (\u001b[38;5;45mNone\u001b[0m, \u001b[38;5;34m4\u001b[0m, \u001b[38;5;34m32\u001b[0m)             │          \u001b[38;5;34m0\u001b[0m │\n",
       "├─────────────────────────────────┼───────────────────────────┼────────────┤\n",
       "│ flatten_40 (\u001b[38;5;33mFlatten\u001b[0m)            │ (\u001b[38;5;45mNone\u001b[0m, \u001b[38;5;34m128\u001b[0m)               │          \u001b[38;5;34m0\u001b[0m │\n",
       "├─────────────────────────────────┼───────────────────────────┼────────────┤\n",
       "│ dense_40 (\u001b[38;5;33mDense\u001b[0m)                │ (\u001b[38;5;45mNone\u001b[0m, \u001b[38;5;34m2\u001b[0m)                 │        \u001b[38;5;34m258\u001b[0m │\n",
       "└─────────────────────────────────┴───────────────────────────┴────────────┘\n"
      ]
     },
     "metadata": {},
     "output_type": "display_data"
    },
    {
     "data": {
      "text/html": [
       "<pre style=\"white-space:pre;overflow-x:auto;line-height:normal;font-family:Menlo,'DejaVu Sans Mono',consolas,'Courier New',monospace\"><span style=\"font-weight: bold\"> Total params: </span><span style=\"color: #00af00; text-decoration-color: #00af00\">7,690</span> (30.04 KB)\n",
       "</pre>\n"
      ],
      "text/plain": [
       "\u001b[1m Total params: \u001b[0m\u001b[38;5;34m7,690\u001b[0m (30.04 KB)\n"
      ]
     },
     "metadata": {},
     "output_type": "display_data"
    },
    {
     "data": {
      "text/html": [
       "<pre style=\"white-space:pre;overflow-x:auto;line-height:normal;font-family:Menlo,'DejaVu Sans Mono',consolas,'Courier New',monospace\"><span style=\"font-weight: bold\"> Trainable params: </span><span style=\"color: #00af00; text-decoration-color: #00af00\">7,690</span> (30.04 KB)\n",
       "</pre>\n"
      ],
      "text/plain": [
       "\u001b[1m Trainable params: \u001b[0m\u001b[38;5;34m7,690\u001b[0m (30.04 KB)\n"
      ]
     },
     "metadata": {},
     "output_type": "display_data"
    },
    {
     "data": {
      "text/html": [
       "<pre style=\"white-space:pre;overflow-x:auto;line-height:normal;font-family:Menlo,'DejaVu Sans Mono',consolas,'Courier New',monospace\"><span style=\"font-weight: bold\"> Non-trainable params: </span><span style=\"color: #00af00; text-decoration-color: #00af00\">0</span> (0.00 B)\n",
       "</pre>\n"
      ],
      "text/plain": [
       "\u001b[1m Non-trainable params: \u001b[0m\u001b[38;5;34m0\u001b[0m (0.00 B)\n"
      ]
     },
     "metadata": {},
     "output_type": "display_data"
    },
    {
     "name": "stdout",
     "output_type": "stream",
     "text": [
      "None\n",
      "Epoch 1/30\n",
      "\u001b[1m13469/13469\u001b[0m \u001b[32m━━━━━━━━━━━━━━━━━━━━\u001b[0m\u001b[37m\u001b[0m \u001b[1m81s\u001b[0m 6ms/step - accuracy: 0.9573 - loss: 0.0283 - mae: 0.1208 - mse: 0.0283\n",
      "Epoch 2/30\n",
      "\u001b[1m13469/13469\u001b[0m \u001b[32m━━━━━━━━━━━━━━━━━━━━\u001b[0m\u001b[37m\u001b[0m \u001b[1m73s\u001b[0m 5ms/step - accuracy: 0.9657 - loss: 0.0156 - mae: 0.0940 - mse: 0.0156\n",
      "Epoch 3/30\n",
      "\u001b[1m13469/13469\u001b[0m \u001b[32m━━━━━━━━━━━━━━━━━━━━\u001b[0m\u001b[37m\u001b[0m \u001b[1m75s\u001b[0m 6ms/step - accuracy: 0.9657 - loss: 0.0155 - mae: 0.0937 - mse: 0.0155\n",
      "Epoch 4/30\n",
      "\u001b[1m13469/13469\u001b[0m \u001b[32m━━━━━━━━━━━━━━━━━━━━\u001b[0m\u001b[37m\u001b[0m \u001b[1m75s\u001b[0m 6ms/step - accuracy: 0.9662 - loss: 0.0155 - mae: 0.0935 - mse: 0.0155\n",
      "Epoch 5/30\n",
      "\u001b[1m13469/13469\u001b[0m \u001b[32m━━━━━━━━━━━━━━━━━━━━\u001b[0m\u001b[37m\u001b[0m \u001b[1m75s\u001b[0m 6ms/step - accuracy: 0.9659 - loss: 0.0154 - mae: 0.0933 - mse: 0.0154\n",
      "Epoch 5: early stopping\n",
      "validation_x shape (143655, 10, 3)\n",
      "\u001b[1m4490/4490\u001b[0m \u001b[32m━━━━━━━━━━━━━━━━━━━━\u001b[0m\u001b[37m\u001b[0m \u001b[1m7s\u001b[0m 1ms/step\n",
      "(143655, 2)\n",
      "(143655, 2)\n",
      "Precision  1 :  35.2901047648881\n",
      "Precision  2 :  64.09383592635133\n",
      "Precision  3 :  81.4277261494553\n",
      "Precision  4 :  89.50332393581846\n",
      "Precision  5 :  94.08304618704535\n"
     ]
    },
    {
     "name": "stderr",
     "output_type": "stream",
     "text": [
      "/tmp/ipykernel_364/3673594883.py:248: DeprecationWarning: Conversion of an array with ndim > 0 to a scalar is deprecated, and will error in future. Ensure you extract a single element from your array before performing this operation. (Deprecated NumPy 1.25.)\n",
      "  rmse = math.sqrt(rmse)\n"
     ]
    },
    {
     "name": "stdout",
     "output_type": "stream",
     "text": [
      "2.5093445899367146\n",
      "testing on : YC\n",
      "<class 'pandas.core.frame.DataFrame'>\n",
      "RangeIndex: 49601 entries, 0 to 49600\n",
      "Data columns (total 13 columns):\n",
      " #   Column         Non-Null Count  Dtype  \n",
      "---  ------         --------------  -----  \n",
      " 0   lcop           49601 non-null  float64\n",
      " 1   rcop           49601 non-null  float64\n",
      " 2   lgrf           49601 non-null  float64\n",
      " 3   rgrf           49601 non-null  float64\n",
      " 4   l_ph_hip       49601 non-null  float64\n",
      " 5   r_ph_hip       49601 non-null  float64\n",
      " 6   st_sw_phase_l  49601 non-null  float64\n",
      " 7   st_sw_phase_r  49601 non-null  float64\n",
      " 8   st_l_l         49601 non-null  float64\n",
      " 9   st_l_r         49601 non-null  float64\n",
      " 10  leg_len        49601 non-null  float64\n",
      " 11  weight         49601 non-null  float64\n",
      " 12  perc           49601 non-null  float64\n",
      "dtypes: float64(13)\n",
      "memory usage: 4.9 MB\n",
      "<class 'pandas.core.frame.DataFrame'>\n",
      "RangeIndex: 49180 entries, 0 to 49179\n",
      "Data columns (total 3 columns):\n",
      " #   Column    Non-Null Count  Dtype  \n",
      "---  ------    --------------  -----  \n",
      " 0   lcop      49180 non-null  float64\n",
      " 1   l_ph_hip  49180 non-null  float64\n",
      " 2   st_l_l    49180 non-null  float64\n",
      "dtypes: float64(3)\n",
      "memory usage: 1.1 MB\n",
      "validation_x shape (36874, 10, 3)\n",
      "\u001b[1m1153/1153\u001b[0m \u001b[32m━━━━━━━━━━━━━━━━━━━━\u001b[0m\u001b[37m\u001b[0m \u001b[1m2s\u001b[0m 1ms/step\n",
      "(36874, 2)\n",
      "(36874, 2)\n",
      "Precision  1 :  29.999457612409827\n",
      "Precision  2 :  56.98324022346369\n",
      "Precision  3 :  75.94239843792374\n",
      "Precision  4 :  86.07962249823724\n",
      "Precision  5 :  90.6166946900255\n",
      "3.7948883749234184\n"
     ]
    },
    {
     "name": "stderr",
     "output_type": "stream",
     "text": [
      "/tmp/ipykernel_364/3673594883.py:248: DeprecationWarning: Conversion of an array with ndim > 0 to a scalar is deprecated, and will error in future. Ensure you extract a single element from your array before performing this operation. (Deprecated NumPy 1.25.)\n",
      "  rmse = math.sqrt(rmse)\n"
     ]
    },
    {
     "name": "stdout",
     "output_type": "stream",
     "text": [
      "Subject combination : ['VP', 'AK', 'SD', 'PH', 'YC', 'JS', 'PK', 'SOE', 'TH', 'SKS', 'VN']\n",
      "All Data Info: \n",
      "<class 'pandas.core.frame.DataFrame'>\n",
      "RangeIndex: 581777 entries, 0 to 581776\n",
      "Data columns (total 13 columns):\n",
      " #   Column         Non-Null Count   Dtype  \n",
      "---  ------         --------------   -----  \n",
      " 0   lcop           581777 non-null  float64\n",
      " 1   rcop           581777 non-null  float64\n",
      " 2   lgrf           581777 non-null  float64\n",
      " 3   rgrf           581777 non-null  float64\n",
      " 4   l_ph_hip       581777 non-null  float64\n",
      " 5   r_ph_hip       581777 non-null  float64\n",
      " 6   st_sw_phase_l  581777 non-null  float64\n",
      " 7   st_sw_phase_r  581777 non-null  float64\n",
      " 8   st_l_l         581777 non-null  float64\n",
      " 9   st_l_r         581777 non-null  float64\n",
      " 10  leg_len        581777 non-null  float64\n",
      " 11  weight         581777 non-null  float64\n",
      " 12  perc           581777 non-null  float64\n",
      "dtypes: float64(13)\n",
      "memory usage: 57.7 MB\n",
      "<class 'pandas.core.frame.DataFrame'>\n",
      "RangeIndex: 581777 entries, 0 to 581776\n",
      "Data columns (total 13 columns):\n",
      " #   Column         Non-Null Count   Dtype  \n",
      "---  ------         --------------   -----  \n",
      " 0   lcop           581777 non-null  float64\n",
      " 1   rcop           581777 non-null  float64\n",
      " 2   lgrf           581777 non-null  float64\n",
      " 3   rgrf           581777 non-null  float64\n",
      " 4   l_ph_hip       581777 non-null  float64\n",
      " 5   r_ph_hip       581777 non-null  float64\n",
      " 6   st_sw_phase_l  581777 non-null  float64\n",
      " 7   st_sw_phase_r  581777 non-null  float64\n",
      " 8   st_l_l         581777 non-null  float64\n",
      " 9   st_l_r         581777 non-null  float64\n",
      " 10  leg_len        581777 non-null  float64\n",
      " 11  weight         581777 non-null  float64\n",
      " 12  perc           581777 non-null  float64\n",
      "dtypes: float64(13)\n",
      "memory usage: 57.7 MB\n",
      "<class 'pandas.core.frame.DataFrame'>\n",
      "RangeIndex: 578933 entries, 0 to 578932\n",
      "Data columns (total 3 columns):\n",
      " #   Column    Non-Null Count   Dtype  \n",
      "---  ------    --------------   -----  \n",
      " 0   lcop      578933 non-null  float64\n",
      " 1   l_ph_hip  578933 non-null  float64\n",
      " 2   st_l_l    578933 non-null  float64\n",
      "dtypes: float64(3)\n",
      "memory usage: 13.3 MB\n",
      "Nan in train x at indices: []\n",
      "Nan in train y at indices: []\n",
      "(434188, 10, 3)\n",
      "(144723, 10, 3)\n",
      "SSS\n",
      "OKAY till here 1\n"
     ]
    },
    {
     "name": "stderr",
     "output_type": "stream",
     "text": [
      "/home/hikikomori/miniconda3/envs/clean_gait_phase/lib/python3.10/site-packages/keras/src/layers/convolutional/base_conv.py:99: UserWarning: Do not pass an `input_shape`/`input_dim` argument to a layer. When using Sequential models, prefer using an `Input(shape)` object as the first layer in the model instead.\n",
      "  super().__init__(\n"
     ]
    },
    {
     "data": {
      "text/html": [
       "<pre style=\"white-space:pre;overflow-x:auto;line-height:normal;font-family:Menlo,'DejaVu Sans Mono',consolas,'Courier New',monospace\"><span style=\"font-weight: bold\">Model: \"sequential_41\"</span>\n",
       "</pre>\n"
      ],
      "text/plain": [
       "\u001b[1mModel: \"sequential_41\"\u001b[0m\n"
      ]
     },
     "metadata": {},
     "output_type": "display_data"
    },
    {
     "data": {
      "text/html": [
       "<pre style=\"white-space:pre;overflow-x:auto;line-height:normal;font-family:Menlo,'DejaVu Sans Mono',consolas,'Courier New',monospace\">┏━━━━━━━━━━━━━━━━━━━━━━━━━━━━━━━━━┳━━━━━━━━━━━━━━━━━━━━━━━━━━━┳━━━━━━━━━━━━┓\n",
       "┃<span style=\"font-weight: bold\"> Layer (type)                    </span>┃<span style=\"font-weight: bold\"> Output Shape              </span>┃<span style=\"font-weight: bold\">    Param # </span>┃\n",
       "┡━━━━━━━━━━━━━━━━━━━━━━━━━━━━━━━━━╇━━━━━━━━━━━━━━━━━━━━━━━━━━━╇━━━━━━━━━━━━┩\n",
       "│ conv1d_82 (<span style=\"color: #0087ff; text-decoration-color: #0087ff\">Conv1D</span>)              │ (<span style=\"color: #00d7ff; text-decoration-color: #00d7ff\">None</span>, <span style=\"color: #00af00; text-decoration-color: #00af00\">8</span>, <span style=\"color: #00af00; text-decoration-color: #00af00\">100</span>)            │      <span style=\"color: #00af00; text-decoration-color: #00af00\">1,000</span> │\n",
       "├─────────────────────────────────┼───────────────────────────┼────────────┤\n",
       "│ max_pooling1d_82 (<span style=\"color: #0087ff; text-decoration-color: #0087ff\">MaxPooling1D</span>) │ (<span style=\"color: #00d7ff; text-decoration-color: #00d7ff\">None</span>, <span style=\"color: #00af00; text-decoration-color: #00af00\">6</span>, <span style=\"color: #00af00; text-decoration-color: #00af00\">100</span>)            │          <span style=\"color: #00af00; text-decoration-color: #00af00\">0</span> │\n",
       "├─────────────────────────────────┼───────────────────────────┼────────────┤\n",
       "│ dropout_82 (<span style=\"color: #0087ff; text-decoration-color: #0087ff\">Dropout</span>)            │ (<span style=\"color: #00d7ff; text-decoration-color: #00d7ff\">None</span>, <span style=\"color: #00af00; text-decoration-color: #00af00\">6</span>, <span style=\"color: #00af00; text-decoration-color: #00af00\">100</span>)            │          <span style=\"color: #00af00; text-decoration-color: #00af00\">0</span> │\n",
       "├─────────────────────────────────┼───────────────────────────┼────────────┤\n",
       "│ conv1d_83 (<span style=\"color: #0087ff; text-decoration-color: #0087ff\">Conv1D</span>)              │ (<span style=\"color: #00d7ff; text-decoration-color: #00d7ff\">None</span>, <span style=\"color: #00af00; text-decoration-color: #00af00\">5</span>, <span style=\"color: #00af00; text-decoration-color: #00af00\">32</span>)             │      <span style=\"color: #00af00; text-decoration-color: #00af00\">6,432</span> │\n",
       "├─────────────────────────────────┼───────────────────────────┼────────────┤\n",
       "│ max_pooling1d_83 (<span style=\"color: #0087ff; text-decoration-color: #0087ff\">MaxPooling1D</span>) │ (<span style=\"color: #00d7ff; text-decoration-color: #00d7ff\">None</span>, <span style=\"color: #00af00; text-decoration-color: #00af00\">4</span>, <span style=\"color: #00af00; text-decoration-color: #00af00\">32</span>)             │          <span style=\"color: #00af00; text-decoration-color: #00af00\">0</span> │\n",
       "├─────────────────────────────────┼───────────────────────────┼────────────┤\n",
       "│ dropout_83 (<span style=\"color: #0087ff; text-decoration-color: #0087ff\">Dropout</span>)            │ (<span style=\"color: #00d7ff; text-decoration-color: #00d7ff\">None</span>, <span style=\"color: #00af00; text-decoration-color: #00af00\">4</span>, <span style=\"color: #00af00; text-decoration-color: #00af00\">32</span>)             │          <span style=\"color: #00af00; text-decoration-color: #00af00\">0</span> │\n",
       "├─────────────────────────────────┼───────────────────────────┼────────────┤\n",
       "│ flatten_41 (<span style=\"color: #0087ff; text-decoration-color: #0087ff\">Flatten</span>)            │ (<span style=\"color: #00d7ff; text-decoration-color: #00d7ff\">None</span>, <span style=\"color: #00af00; text-decoration-color: #00af00\">128</span>)               │          <span style=\"color: #00af00; text-decoration-color: #00af00\">0</span> │\n",
       "├─────────────────────────────────┼───────────────────────────┼────────────┤\n",
       "│ dense_41 (<span style=\"color: #0087ff; text-decoration-color: #0087ff\">Dense</span>)                │ (<span style=\"color: #00d7ff; text-decoration-color: #00d7ff\">None</span>, <span style=\"color: #00af00; text-decoration-color: #00af00\">2</span>)                 │        <span style=\"color: #00af00; text-decoration-color: #00af00\">258</span> │\n",
       "└─────────────────────────────────┴───────────────────────────┴────────────┘\n",
       "</pre>\n"
      ],
      "text/plain": [
       "┏━━━━━━━━━━━━━━━━━━━━━━━━━━━━━━━━━┳━━━━━━━━━━━━━━━━━━━━━━━━━━━┳━━━━━━━━━━━━┓\n",
       "┃\u001b[1m \u001b[0m\u001b[1mLayer (type)                   \u001b[0m\u001b[1m \u001b[0m┃\u001b[1m \u001b[0m\u001b[1mOutput Shape             \u001b[0m\u001b[1m \u001b[0m┃\u001b[1m \u001b[0m\u001b[1m   Param #\u001b[0m\u001b[1m \u001b[0m┃\n",
       "┡━━━━━━━━━━━━━━━━━━━━━━━━━━━━━━━━━╇━━━━━━━━━━━━━━━━━━━━━━━━━━━╇━━━━━━━━━━━━┩\n",
       "│ conv1d_82 (\u001b[38;5;33mConv1D\u001b[0m)              │ (\u001b[38;5;45mNone\u001b[0m, \u001b[38;5;34m8\u001b[0m, \u001b[38;5;34m100\u001b[0m)            │      \u001b[38;5;34m1,000\u001b[0m │\n",
       "├─────────────────────────────────┼───────────────────────────┼────────────┤\n",
       "│ max_pooling1d_82 (\u001b[38;5;33mMaxPooling1D\u001b[0m) │ (\u001b[38;5;45mNone\u001b[0m, \u001b[38;5;34m6\u001b[0m, \u001b[38;5;34m100\u001b[0m)            │          \u001b[38;5;34m0\u001b[0m │\n",
       "├─────────────────────────────────┼───────────────────────────┼────────────┤\n",
       "│ dropout_82 (\u001b[38;5;33mDropout\u001b[0m)            │ (\u001b[38;5;45mNone\u001b[0m, \u001b[38;5;34m6\u001b[0m, \u001b[38;5;34m100\u001b[0m)            │          \u001b[38;5;34m0\u001b[0m │\n",
       "├─────────────────────────────────┼───────────────────────────┼────────────┤\n",
       "│ conv1d_83 (\u001b[38;5;33mConv1D\u001b[0m)              │ (\u001b[38;5;45mNone\u001b[0m, \u001b[38;5;34m5\u001b[0m, \u001b[38;5;34m32\u001b[0m)             │      \u001b[38;5;34m6,432\u001b[0m │\n",
       "├─────────────────────────────────┼───────────────────────────┼────────────┤\n",
       "│ max_pooling1d_83 (\u001b[38;5;33mMaxPooling1D\u001b[0m) │ (\u001b[38;5;45mNone\u001b[0m, \u001b[38;5;34m4\u001b[0m, \u001b[38;5;34m32\u001b[0m)             │          \u001b[38;5;34m0\u001b[0m │\n",
       "├─────────────────────────────────┼───────────────────────────┼────────────┤\n",
       "│ dropout_83 (\u001b[38;5;33mDropout\u001b[0m)            │ (\u001b[38;5;45mNone\u001b[0m, \u001b[38;5;34m4\u001b[0m, \u001b[38;5;34m32\u001b[0m)             │          \u001b[38;5;34m0\u001b[0m │\n",
       "├─────────────────────────────────┼───────────────────────────┼────────────┤\n",
       "│ flatten_41 (\u001b[38;5;33mFlatten\u001b[0m)            │ (\u001b[38;5;45mNone\u001b[0m, \u001b[38;5;34m128\u001b[0m)               │          \u001b[38;5;34m0\u001b[0m │\n",
       "├─────────────────────────────────┼───────────────────────────┼────────────┤\n",
       "│ dense_41 (\u001b[38;5;33mDense\u001b[0m)                │ (\u001b[38;5;45mNone\u001b[0m, \u001b[38;5;34m2\u001b[0m)                 │        \u001b[38;5;34m258\u001b[0m │\n",
       "└─────────────────────────────────┴───────────────────────────┴────────────┘\n"
      ]
     },
     "metadata": {},
     "output_type": "display_data"
    },
    {
     "data": {
      "text/html": [
       "<pre style=\"white-space:pre;overflow-x:auto;line-height:normal;font-family:Menlo,'DejaVu Sans Mono',consolas,'Courier New',monospace\"><span style=\"font-weight: bold\"> Total params: </span><span style=\"color: #00af00; text-decoration-color: #00af00\">7,690</span> (30.04 KB)\n",
       "</pre>\n"
      ],
      "text/plain": [
       "\u001b[1m Total params: \u001b[0m\u001b[38;5;34m7,690\u001b[0m (30.04 KB)\n"
      ]
     },
     "metadata": {},
     "output_type": "display_data"
    },
    {
     "data": {
      "text/html": [
       "<pre style=\"white-space:pre;overflow-x:auto;line-height:normal;font-family:Menlo,'DejaVu Sans Mono',consolas,'Courier New',monospace\"><span style=\"font-weight: bold\"> Trainable params: </span><span style=\"color: #00af00; text-decoration-color: #00af00\">7,690</span> (30.04 KB)\n",
       "</pre>\n"
      ],
      "text/plain": [
       "\u001b[1m Trainable params: \u001b[0m\u001b[38;5;34m7,690\u001b[0m (30.04 KB)\n"
      ]
     },
     "metadata": {},
     "output_type": "display_data"
    },
    {
     "data": {
      "text/html": [
       "<pre style=\"white-space:pre;overflow-x:auto;line-height:normal;font-family:Menlo,'DejaVu Sans Mono',consolas,'Courier New',monospace\"><span style=\"font-weight: bold\"> Non-trainable params: </span><span style=\"color: #00af00; text-decoration-color: #00af00\">0</span> (0.00 B)\n",
       "</pre>\n"
      ],
      "text/plain": [
       "\u001b[1m Non-trainable params: \u001b[0m\u001b[38;5;34m0\u001b[0m (0.00 B)\n"
      ]
     },
     "metadata": {},
     "output_type": "display_data"
    },
    {
     "name": "stdout",
     "output_type": "stream",
     "text": [
      "None\n",
      "Epoch 1/30\n",
      "\u001b[1m13569/13569\u001b[0m \u001b[32m━━━━━━━━━━━━━━━━━━━━\u001b[0m\u001b[37m\u001b[0m \u001b[1m81s\u001b[0m 6ms/step - accuracy: 0.9589 - loss: 0.0303 - mae: 0.1244 - mse: 0.0303\n",
      "Epoch 2/30\n",
      "\u001b[1m13569/13569\u001b[0m \u001b[32m━━━━━━━━━━━━━━━━━━━━\u001b[0m\u001b[37m\u001b[0m \u001b[1m71s\u001b[0m 5ms/step - accuracy: 0.9667 - loss: 0.0168 - mae: 0.0970 - mse: 0.0168\n",
      "Epoch 3/30\n",
      "\u001b[1m13569/13569\u001b[0m \u001b[32m━━━━━━━━━━━━━━━━━━━━\u001b[0m\u001b[37m\u001b[0m \u001b[1m74s\u001b[0m 5ms/step - accuracy: 0.9664 - loss: 0.0166 - mae: 0.0963 - mse: 0.0166\n",
      "Epoch 4/30\n",
      "\u001b[1m13569/13569\u001b[0m \u001b[32m━━━━━━━━━━━━━━━━━━━━\u001b[0m\u001b[37m\u001b[0m \u001b[1m74s\u001b[0m 5ms/step - accuracy: 0.9669 - loss: 0.0166 - mae: 0.0963 - mse: 0.0166\n",
      "Epoch 5/30\n",
      "\u001b[1m13569/13569\u001b[0m \u001b[32m━━━━━━━━━━━━━━━━━━━━\u001b[0m\u001b[37m\u001b[0m \u001b[1m73s\u001b[0m 5ms/step - accuracy: 0.9668 - loss: 0.0166 - mae: 0.0962 - mse: 0.0166\n",
      "Epoch 6/30\n",
      "\u001b[1m13569/13569\u001b[0m \u001b[32m━━━━━━━━━━━━━━━━━━━━\u001b[0m\u001b[37m\u001b[0m \u001b[1m73s\u001b[0m 5ms/step - accuracy: 0.9673 - loss: 0.0166 - mae: 0.0963 - mse: 0.0166\n",
      "Epoch 7/30\n",
      "\u001b[1m13569/13569\u001b[0m \u001b[32m━━━━━━━━━━━━━━━━━━━━\u001b[0m\u001b[37m\u001b[0m \u001b[1m73s\u001b[0m 5ms/step - accuracy: 0.9665 - loss: 0.0166 - mae: 0.0963 - mse: 0.0166\n",
      "Epoch 7: early stopping\n",
      "validation_x shape (144723, 10, 3)\n",
      "\u001b[1m4523/4523\u001b[0m \u001b[32m━━━━━━━━━━━━━━━━━━━━\u001b[0m\u001b[37m\u001b[0m \u001b[1m7s\u001b[0m 1ms/step\n",
      "(144723, 2)\n",
      "(144723, 2)\n",
      "Precision  1 :  36.3998811522702\n",
      "Precision  2 :  64.32702473000145\n",
      "Precision  3 :  81.52608776766651\n",
      "Precision  4 :  89.9380195269584\n",
      "Precision  5 :  94.02237377611023\n"
     ]
    },
    {
     "name": "stderr",
     "output_type": "stream",
     "text": [
      "/tmp/ipykernel_364/3673594883.py:248: DeprecationWarning: Conversion of an array with ndim > 0 to a scalar is deprecated, and will error in future. Ensure you extract a single element from your array before performing this operation. (Deprecated NumPy 1.25.)\n",
      "  rmse = math.sqrt(rmse)\n"
     ]
    },
    {
     "name": "stdout",
     "output_type": "stream",
     "text": [
      "2.5065896026043335\n",
      "testing on : JL\n",
      "<class 'pandas.core.frame.DataFrame'>\n",
      "RangeIndex: 45281 entries, 0 to 45280\n",
      "Data columns (total 13 columns):\n",
      " #   Column         Non-Null Count  Dtype  \n",
      "---  ------         --------------  -----  \n",
      " 0   lcop           45281 non-null  float64\n",
      " 1   rcop           45281 non-null  float64\n",
      " 2   lgrf           45281 non-null  float64\n",
      " 3   rgrf           45281 non-null  float64\n",
      " 4   l_ph_hip       45281 non-null  float64\n",
      " 5   r_ph_hip       45281 non-null  float64\n",
      " 6   st_sw_phase_l  45281 non-null  float64\n",
      " 7   st_sw_phase_r  45281 non-null  float64\n",
      " 8   st_l_l         45281 non-null  float64\n",
      " 9   st_l_r         45281 non-null  float64\n",
      " 10  leg_len        45281 non-null  float64\n",
      " 11  weight         45281 non-null  float64\n",
      " 12  perc           45281 non-null  float64\n",
      "dtypes: float64(13)\n",
      "memory usage: 4.5 MB\n",
      "<class 'pandas.core.frame.DataFrame'>\n",
      "RangeIndex: 44834 entries, 0 to 44833\n",
      "Data columns (total 3 columns):\n",
      " #   Column    Non-Null Count  Dtype  \n",
      "---  ------    --------------  -----  \n",
      " 0   lcop      44834 non-null  float64\n",
      " 1   l_ph_hip  44834 non-null  float64\n",
      " 2   st_l_l    44834 non-null  float64\n",
      "dtypes: float64(3)\n",
      "memory usage: 1.0 MB\n",
      "validation_x shape (33614, 10, 3)\n",
      "\u001b[1m1051/1051\u001b[0m \u001b[32m━━━━━━━━━━━━━━━━━━━━\u001b[0m\u001b[37m\u001b[0m \u001b[1m2s\u001b[0m 2ms/step\n",
      "(33614, 2)\n",
      "(33614, 2)\n",
      "Precision  1 :  34.42613196882252\n",
      "Precision  2 :  63.37537930624145\n",
      "Precision  3 :  83.12607841970608\n",
      "Precision  4 :  93.45510799071815\n",
      "Precision  5 :  97.20057119057536\n",
      "2.1532363813180933\n"
     ]
    },
    {
     "name": "stderr",
     "output_type": "stream",
     "text": [
      "/tmp/ipykernel_364/3673594883.py:248: DeprecationWarning: Conversion of an array with ndim > 0 to a scalar is deprecated, and will error in future. Ensure you extract a single element from your array before performing this operation. (Deprecated NumPy 1.25.)\n",
      "  rmse = math.sqrt(rmse)\n"
     ]
    },
    {
     "name": "stdout",
     "output_type": "stream",
     "text": [
      "Subject combination : ['VP', 'AK', 'SD', 'PH', 'YC', 'JL', 'PK', 'SOE', 'TH', 'SKS', 'VN']\n",
      "All Data Info: \n",
      "<class 'pandas.core.frame.DataFrame'>\n",
      "RangeIndex: 567546 entries, 0 to 567545\n",
      "Data columns (total 13 columns):\n",
      " #   Column         Non-Null Count   Dtype  \n",
      "---  ------         --------------   -----  \n",
      " 0   lcop           567546 non-null  float64\n",
      " 1   rcop           567546 non-null  float64\n",
      " 2   lgrf           567546 non-null  float64\n",
      " 3   rgrf           567546 non-null  float64\n",
      " 4   l_ph_hip       567546 non-null  float64\n",
      " 5   r_ph_hip       567546 non-null  float64\n",
      " 6   st_sw_phase_l  567546 non-null  float64\n",
      " 7   st_sw_phase_r  567546 non-null  float64\n",
      " 8   st_l_l         567546 non-null  float64\n",
      " 9   st_l_r         567546 non-null  float64\n",
      " 10  leg_len        567546 non-null  float64\n",
      " 11  weight         567546 non-null  float64\n",
      " 12  perc           567546 non-null  float64\n",
      "dtypes: float64(13)\n",
      "memory usage: 56.3 MB\n",
      "<class 'pandas.core.frame.DataFrame'>\n",
      "RangeIndex: 567546 entries, 0 to 567545\n",
      "Data columns (total 13 columns):\n",
      " #   Column         Non-Null Count   Dtype  \n",
      "---  ------         --------------   -----  \n",
      " 0   lcop           567546 non-null  float64\n",
      " 1   rcop           567546 non-null  float64\n",
      " 2   lgrf           567546 non-null  float64\n",
      " 3   rgrf           567546 non-null  float64\n",
      " 4   l_ph_hip       567546 non-null  float64\n",
      " 5   r_ph_hip       567546 non-null  float64\n",
      " 6   st_sw_phase_l  567546 non-null  float64\n",
      " 7   st_sw_phase_r  567546 non-null  float64\n",
      " 8   st_l_l         567546 non-null  float64\n",
      " 9   st_l_r         567546 non-null  float64\n",
      " 10  leg_len        567546 non-null  float64\n",
      " 11  weight         567546 non-null  float64\n",
      " 12  perc           567546 non-null  float64\n",
      "dtypes: float64(13)\n",
      "memory usage: 56.3 MB\n",
      "<class 'pandas.core.frame.DataFrame'>\n",
      "RangeIndex: 564816 entries, 0 to 564815\n",
      "Data columns (total 3 columns):\n",
      " #   Column    Non-Null Count   Dtype  \n",
      "---  ------    --------------   -----  \n",
      " 0   lcop      564816 non-null  float64\n",
      " 1   l_ph_hip  564816 non-null  float64\n",
      " 2   st_l_l    564816 non-null  float64\n",
      "dtypes: float64(3)\n",
      "memory usage: 12.9 MB\n",
      "Nan in train x at indices: []\n",
      "Nan in train y at indices: []\n",
      "(423601, 10, 3)\n",
      "(141193, 10, 3)\n",
      "SSS\n",
      "OKAY till here 1\n"
     ]
    },
    {
     "name": "stderr",
     "output_type": "stream",
     "text": [
      "/home/hikikomori/miniconda3/envs/clean_gait_phase/lib/python3.10/site-packages/keras/src/layers/convolutional/base_conv.py:99: UserWarning: Do not pass an `input_shape`/`input_dim` argument to a layer. When using Sequential models, prefer using an `Input(shape)` object as the first layer in the model instead.\n",
      "  super().__init__(\n"
     ]
    },
    {
     "data": {
      "text/html": [
       "<pre style=\"white-space:pre;overflow-x:auto;line-height:normal;font-family:Menlo,'DejaVu Sans Mono',consolas,'Courier New',monospace\"><span style=\"font-weight: bold\">Model: \"sequential_42\"</span>\n",
       "</pre>\n"
      ],
      "text/plain": [
       "\u001b[1mModel: \"sequential_42\"\u001b[0m\n"
      ]
     },
     "metadata": {},
     "output_type": "display_data"
    },
    {
     "data": {
      "text/html": [
       "<pre style=\"white-space:pre;overflow-x:auto;line-height:normal;font-family:Menlo,'DejaVu Sans Mono',consolas,'Courier New',monospace\">┏━━━━━━━━━━━━━━━━━━━━━━━━━━━━━━━━━┳━━━━━━━━━━━━━━━━━━━━━━━━━━━┳━━━━━━━━━━━━┓\n",
       "┃<span style=\"font-weight: bold\"> Layer (type)                    </span>┃<span style=\"font-weight: bold\"> Output Shape              </span>┃<span style=\"font-weight: bold\">    Param # </span>┃\n",
       "┡━━━━━━━━━━━━━━━━━━━━━━━━━━━━━━━━━╇━━━━━━━━━━━━━━━━━━━━━━━━━━━╇━━━━━━━━━━━━┩\n",
       "│ conv1d_84 (<span style=\"color: #0087ff; text-decoration-color: #0087ff\">Conv1D</span>)              │ (<span style=\"color: #00d7ff; text-decoration-color: #00d7ff\">None</span>, <span style=\"color: #00af00; text-decoration-color: #00af00\">8</span>, <span style=\"color: #00af00; text-decoration-color: #00af00\">100</span>)            │      <span style=\"color: #00af00; text-decoration-color: #00af00\">1,000</span> │\n",
       "├─────────────────────────────────┼───────────────────────────┼────────────┤\n",
       "│ max_pooling1d_84 (<span style=\"color: #0087ff; text-decoration-color: #0087ff\">MaxPooling1D</span>) │ (<span style=\"color: #00d7ff; text-decoration-color: #00d7ff\">None</span>, <span style=\"color: #00af00; text-decoration-color: #00af00\">6</span>, <span style=\"color: #00af00; text-decoration-color: #00af00\">100</span>)            │          <span style=\"color: #00af00; text-decoration-color: #00af00\">0</span> │\n",
       "├─────────────────────────────────┼───────────────────────────┼────────────┤\n",
       "│ dropout_84 (<span style=\"color: #0087ff; text-decoration-color: #0087ff\">Dropout</span>)            │ (<span style=\"color: #00d7ff; text-decoration-color: #00d7ff\">None</span>, <span style=\"color: #00af00; text-decoration-color: #00af00\">6</span>, <span style=\"color: #00af00; text-decoration-color: #00af00\">100</span>)            │          <span style=\"color: #00af00; text-decoration-color: #00af00\">0</span> │\n",
       "├─────────────────────────────────┼───────────────────────────┼────────────┤\n",
       "│ conv1d_85 (<span style=\"color: #0087ff; text-decoration-color: #0087ff\">Conv1D</span>)              │ (<span style=\"color: #00d7ff; text-decoration-color: #00d7ff\">None</span>, <span style=\"color: #00af00; text-decoration-color: #00af00\">5</span>, <span style=\"color: #00af00; text-decoration-color: #00af00\">32</span>)             │      <span style=\"color: #00af00; text-decoration-color: #00af00\">6,432</span> │\n",
       "├─────────────────────────────────┼───────────────────────────┼────────────┤\n",
       "│ max_pooling1d_85 (<span style=\"color: #0087ff; text-decoration-color: #0087ff\">MaxPooling1D</span>) │ (<span style=\"color: #00d7ff; text-decoration-color: #00d7ff\">None</span>, <span style=\"color: #00af00; text-decoration-color: #00af00\">4</span>, <span style=\"color: #00af00; text-decoration-color: #00af00\">32</span>)             │          <span style=\"color: #00af00; text-decoration-color: #00af00\">0</span> │\n",
       "├─────────────────────────────────┼───────────────────────────┼────────────┤\n",
       "│ dropout_85 (<span style=\"color: #0087ff; text-decoration-color: #0087ff\">Dropout</span>)            │ (<span style=\"color: #00d7ff; text-decoration-color: #00d7ff\">None</span>, <span style=\"color: #00af00; text-decoration-color: #00af00\">4</span>, <span style=\"color: #00af00; text-decoration-color: #00af00\">32</span>)             │          <span style=\"color: #00af00; text-decoration-color: #00af00\">0</span> │\n",
       "├─────────────────────────────────┼───────────────────────────┼────────────┤\n",
       "│ flatten_42 (<span style=\"color: #0087ff; text-decoration-color: #0087ff\">Flatten</span>)            │ (<span style=\"color: #00d7ff; text-decoration-color: #00d7ff\">None</span>, <span style=\"color: #00af00; text-decoration-color: #00af00\">128</span>)               │          <span style=\"color: #00af00; text-decoration-color: #00af00\">0</span> │\n",
       "├─────────────────────────────────┼───────────────────────────┼────────────┤\n",
       "│ dense_42 (<span style=\"color: #0087ff; text-decoration-color: #0087ff\">Dense</span>)                │ (<span style=\"color: #00d7ff; text-decoration-color: #00d7ff\">None</span>, <span style=\"color: #00af00; text-decoration-color: #00af00\">2</span>)                 │        <span style=\"color: #00af00; text-decoration-color: #00af00\">258</span> │\n",
       "└─────────────────────────────────┴───────────────────────────┴────────────┘\n",
       "</pre>\n"
      ],
      "text/plain": [
       "┏━━━━━━━━━━━━━━━━━━━━━━━━━━━━━━━━━┳━━━━━━━━━━━━━━━━━━━━━━━━━━━┳━━━━━━━━━━━━┓\n",
       "┃\u001b[1m \u001b[0m\u001b[1mLayer (type)                   \u001b[0m\u001b[1m \u001b[0m┃\u001b[1m \u001b[0m\u001b[1mOutput Shape             \u001b[0m\u001b[1m \u001b[0m┃\u001b[1m \u001b[0m\u001b[1m   Param #\u001b[0m\u001b[1m \u001b[0m┃\n",
       "┡━━━━━━━━━━━━━━━━━━━━━━━━━━━━━━━━━╇━━━━━━━━━━━━━━━━━━━━━━━━━━━╇━━━━━━━━━━━━┩\n",
       "│ conv1d_84 (\u001b[38;5;33mConv1D\u001b[0m)              │ (\u001b[38;5;45mNone\u001b[0m, \u001b[38;5;34m8\u001b[0m, \u001b[38;5;34m100\u001b[0m)            │      \u001b[38;5;34m1,000\u001b[0m │\n",
       "├─────────────────────────────────┼───────────────────────────┼────────────┤\n",
       "│ max_pooling1d_84 (\u001b[38;5;33mMaxPooling1D\u001b[0m) │ (\u001b[38;5;45mNone\u001b[0m, \u001b[38;5;34m6\u001b[0m, \u001b[38;5;34m100\u001b[0m)            │          \u001b[38;5;34m0\u001b[0m │\n",
       "├─────────────────────────────────┼───────────────────────────┼────────────┤\n",
       "│ dropout_84 (\u001b[38;5;33mDropout\u001b[0m)            │ (\u001b[38;5;45mNone\u001b[0m, \u001b[38;5;34m6\u001b[0m, \u001b[38;5;34m100\u001b[0m)            │          \u001b[38;5;34m0\u001b[0m │\n",
       "├─────────────────────────────────┼───────────────────────────┼────────────┤\n",
       "│ conv1d_85 (\u001b[38;5;33mConv1D\u001b[0m)              │ (\u001b[38;5;45mNone\u001b[0m, \u001b[38;5;34m5\u001b[0m, \u001b[38;5;34m32\u001b[0m)             │      \u001b[38;5;34m6,432\u001b[0m │\n",
       "├─────────────────────────────────┼───────────────────────────┼────────────┤\n",
       "│ max_pooling1d_85 (\u001b[38;5;33mMaxPooling1D\u001b[0m) │ (\u001b[38;5;45mNone\u001b[0m, \u001b[38;5;34m4\u001b[0m, \u001b[38;5;34m32\u001b[0m)             │          \u001b[38;5;34m0\u001b[0m │\n",
       "├─────────────────────────────────┼───────────────────────────┼────────────┤\n",
       "│ dropout_85 (\u001b[38;5;33mDropout\u001b[0m)            │ (\u001b[38;5;45mNone\u001b[0m, \u001b[38;5;34m4\u001b[0m, \u001b[38;5;34m32\u001b[0m)             │          \u001b[38;5;34m0\u001b[0m │\n",
       "├─────────────────────────────────┼───────────────────────────┼────────────┤\n",
       "│ flatten_42 (\u001b[38;5;33mFlatten\u001b[0m)            │ (\u001b[38;5;45mNone\u001b[0m, \u001b[38;5;34m128\u001b[0m)               │          \u001b[38;5;34m0\u001b[0m │\n",
       "├─────────────────────────────────┼───────────────────────────┼────────────┤\n",
       "│ dense_42 (\u001b[38;5;33mDense\u001b[0m)                │ (\u001b[38;5;45mNone\u001b[0m, \u001b[38;5;34m2\u001b[0m)                 │        \u001b[38;5;34m258\u001b[0m │\n",
       "└─────────────────────────────────┴───────────────────────────┴────────────┘\n"
      ]
     },
     "metadata": {},
     "output_type": "display_data"
    },
    {
     "data": {
      "text/html": [
       "<pre style=\"white-space:pre;overflow-x:auto;line-height:normal;font-family:Menlo,'DejaVu Sans Mono',consolas,'Courier New',monospace\"><span style=\"font-weight: bold\"> Total params: </span><span style=\"color: #00af00; text-decoration-color: #00af00\">7,690</span> (30.04 KB)\n",
       "</pre>\n"
      ],
      "text/plain": [
       "\u001b[1m Total params: \u001b[0m\u001b[38;5;34m7,690\u001b[0m (30.04 KB)\n"
      ]
     },
     "metadata": {},
     "output_type": "display_data"
    },
    {
     "data": {
      "text/html": [
       "<pre style=\"white-space:pre;overflow-x:auto;line-height:normal;font-family:Menlo,'DejaVu Sans Mono',consolas,'Courier New',monospace\"><span style=\"font-weight: bold\"> Trainable params: </span><span style=\"color: #00af00; text-decoration-color: #00af00\">7,690</span> (30.04 KB)\n",
       "</pre>\n"
      ],
      "text/plain": [
       "\u001b[1m Trainable params: \u001b[0m\u001b[38;5;34m7,690\u001b[0m (30.04 KB)\n"
      ]
     },
     "metadata": {},
     "output_type": "display_data"
    },
    {
     "data": {
      "text/html": [
       "<pre style=\"white-space:pre;overflow-x:auto;line-height:normal;font-family:Menlo,'DejaVu Sans Mono',consolas,'Courier New',monospace\"><span style=\"font-weight: bold\"> Non-trainable params: </span><span style=\"color: #00af00; text-decoration-color: #00af00\">0</span> (0.00 B)\n",
       "</pre>\n"
      ],
      "text/plain": [
       "\u001b[1m Non-trainable params: \u001b[0m\u001b[38;5;34m0\u001b[0m (0.00 B)\n"
      ]
     },
     "metadata": {},
     "output_type": "display_data"
    },
    {
     "name": "stdout",
     "output_type": "stream",
     "text": [
      "None\n",
      "Epoch 1/30\n",
      "\u001b[1m13238/13238\u001b[0m \u001b[32m━━━━━━━━━━━━━━━━━━━━\u001b[0m\u001b[37m\u001b[0m \u001b[1m79s\u001b[0m 6ms/step - accuracy: 0.9576 - loss: 0.0300 - mae: 0.1230 - mse: 0.0300\n",
      "Epoch 2/30\n",
      "\u001b[1m13238/13238\u001b[0m \u001b[32m━━━━━━━━━━━━━━━━━━━━\u001b[0m\u001b[37m\u001b[0m \u001b[1m70s\u001b[0m 5ms/step - accuracy: 0.9680 - loss: 0.0161 - mae: 0.0945 - mse: 0.0161\n",
      "Epoch 3/30\n",
      "\u001b[1m13238/13238\u001b[0m \u001b[32m━━━━━━━━━━━━━━━━━━━━\u001b[0m\u001b[37m\u001b[0m \u001b[1m73s\u001b[0m 5ms/step - accuracy: 0.9680 - loss: 0.0157 - mae: 0.0936 - mse: 0.0157\n",
      "Epoch 4/30\n",
      "\u001b[1m13238/13238\u001b[0m \u001b[32m━━━━━━━━━━━━━━━━━━━━\u001b[0m\u001b[37m\u001b[0m \u001b[1m72s\u001b[0m 5ms/step - accuracy: 0.9679 - loss: 0.0158 - mae: 0.0938 - mse: 0.0158\n",
      "Epoch 5/30\n",
      "\u001b[1m13238/13238\u001b[0m \u001b[32m━━━━━━━━━━━━━━━━━━━━\u001b[0m\u001b[37m\u001b[0m \u001b[1m73s\u001b[0m 5ms/step - accuracy: 0.9674 - loss: 0.0159 - mae: 0.0938 - mse: 0.0159\n",
      "Epoch 5: early stopping\n",
      "validation_x shape (141193, 10, 3)\n",
      "\u001b[1m4413/4413\u001b[0m \u001b[32m━━━━━━━━━━━━━━━━━━━━\u001b[0m\u001b[37m\u001b[0m \u001b[1m7s\u001b[0m 1ms/step\n",
      "(141193, 2)\n",
      "(141193, 2)\n",
      "Precision  1 :  34.6341532512235\n",
      "Precision  2 :  62.22121493275162\n",
      "Precision  3 :  80.06062623501165\n",
      "Precision  4 :  88.81318478961421\n",
      "Precision  5 :  93.4274362043444\n"
     ]
    },
    {
     "name": "stderr",
     "output_type": "stream",
     "text": [
      "/tmp/ipykernel_364/3673594883.py:248: DeprecationWarning: Conversion of an array with ndim > 0 to a scalar is deprecated, and will error in future. Ensure you extract a single element from your array before performing this operation. (Deprecated NumPy 1.25.)\n",
      "  rmse = math.sqrt(rmse)\n"
     ]
    },
    {
     "name": "stdout",
     "output_type": "stream",
     "text": [
      "2.6169678330547366\n",
      "testing on : JS\n",
      "<class 'pandas.core.frame.DataFrame'>\n",
      "RangeIndex: 59512 entries, 0 to 59511\n",
      "Data columns (total 13 columns):\n",
      " #   Column         Non-Null Count  Dtype  \n",
      "---  ------         --------------  -----  \n",
      " 0   lcop           59512 non-null  float64\n",
      " 1   rcop           59512 non-null  float64\n",
      " 2   lgrf           59512 non-null  float64\n",
      " 3   rgrf           59512 non-null  float64\n",
      " 4   l_ph_hip       59512 non-null  float64\n",
      " 5   r_ph_hip       59512 non-null  float64\n",
      " 6   st_sw_phase_l  59512 non-null  float64\n",
      " 7   st_sw_phase_r  59512 non-null  float64\n",
      " 8   st_l_l         59512 non-null  float64\n",
      " 9   st_l_r         59512 non-null  float64\n",
      " 10  leg_len        59512 non-null  float64\n",
      " 11  weight         59512 non-null  float64\n",
      " 12  perc           59512 non-null  float64\n",
      "dtypes: float64(13)\n",
      "memory usage: 5.9 MB\n",
      "<class 'pandas.core.frame.DataFrame'>\n",
      "RangeIndex: 58965 entries, 0 to 58964\n",
      "Data columns (total 3 columns):\n",
      " #   Column    Non-Null Count  Dtype  \n",
      "---  ------    --------------  -----  \n",
      " 0   lcop      58965 non-null  float64\n",
      " 1   l_ph_hip  58965 non-null  float64\n",
      " 2   st_l_l    58965 non-null  float64\n",
      "dtypes: float64(3)\n",
      "memory usage: 1.3 MB\n",
      "validation_x shape (44212, 10, 3)\n",
      "\u001b[1m1382/1382\u001b[0m \u001b[32m━━━━━━━━━━━━━━━━━━━━\u001b[0m\u001b[37m\u001b[0m \u001b[1m2s\u001b[0m 2ms/step\n",
      "(44212, 2)\n",
      "(44212, 2)\n",
      "Precision  1 :  30.466841581471094\n",
      "Precision  2 :  57.330588980367324\n",
      "Precision  3 :  77.59205645526102\n",
      "Precision  4 :  88.92608341626708\n",
      "Precision  5 :  94.57160951777797\n"
     ]
    },
    {
     "name": "stderr",
     "output_type": "stream",
     "text": [
      "/tmp/ipykernel_364/3673594883.py:248: DeprecationWarning: Conversion of an array with ndim > 0 to a scalar is deprecated, and will error in future. Ensure you extract a single element from your array before performing this operation. (Deprecated NumPy 1.25.)\n",
      "  rmse = math.sqrt(rmse)\n"
     ]
    },
    {
     "name": "stdout",
     "output_type": "stream",
     "text": [
      "2.549310584144812\n",
      "Subject combination : ['VP', 'AK', 'SD', 'PH', 'YC', 'JL', 'JS', 'SOE', 'TH', 'SKS', 'VN']\n",
      "All Data Info: \n",
      "<class 'pandas.core.frame.DataFrame'>\n",
      "RangeIndex: 600143 entries, 0 to 600142\n",
      "Data columns (total 13 columns):\n",
      " #   Column         Non-Null Count   Dtype  \n",
      "---  ------         --------------   -----  \n",
      " 0   lcop           600143 non-null  float64\n",
      " 1   rcop           600143 non-null  float64\n",
      " 2   lgrf           600143 non-null  float64\n",
      " 3   rgrf           600143 non-null  float64\n",
      " 4   l_ph_hip       600143 non-null  float64\n",
      " 5   r_ph_hip       600143 non-null  float64\n",
      " 6   st_sw_phase_l  600143 non-null  float64\n",
      " 7   st_sw_phase_r  600143 non-null  float64\n",
      " 8   st_l_l         600143 non-null  float64\n",
      " 9   st_l_r         600143 non-null  float64\n",
      " 10  leg_len        600143 non-null  float64\n",
      " 11  weight         600143 non-null  float64\n",
      " 12  perc           600143 non-null  float64\n",
      "dtypes: float64(13)\n",
      "memory usage: 59.5 MB\n",
      "<class 'pandas.core.frame.DataFrame'>\n",
      "RangeIndex: 600143 entries, 0 to 600142\n",
      "Data columns (total 13 columns):\n",
      " #   Column         Non-Null Count   Dtype  \n",
      "---  ------         --------------   -----  \n",
      " 0   lcop           600143 non-null  float64\n",
      " 1   rcop           600143 non-null  float64\n",
      " 2   lgrf           600143 non-null  float64\n",
      " 3   rgrf           600143 non-null  float64\n",
      " 4   l_ph_hip       600143 non-null  float64\n",
      " 5   r_ph_hip       600143 non-null  float64\n",
      " 6   st_sw_phase_l  600143 non-null  float64\n",
      " 7   st_sw_phase_r  600143 non-null  float64\n",
      " 8   st_l_l         600143 non-null  float64\n",
      " 9   st_l_r         600143 non-null  float64\n",
      " 10  leg_len        600143 non-null  float64\n",
      " 11  weight         600143 non-null  float64\n",
      " 12  perc           600143 non-null  float64\n",
      "dtypes: float64(13)\n",
      "memory usage: 59.5 MB\n",
      "<class 'pandas.core.frame.DataFrame'>\n",
      "RangeIndex: 597227 entries, 0 to 597226\n",
      "Data columns (total 3 columns):\n",
      " #   Column    Non-Null Count   Dtype  \n",
      "---  ------    --------------   -----  \n",
      " 0   lcop      597227 non-null  float64\n",
      " 1   l_ph_hip  597227 non-null  float64\n",
      " 2   st_l_l    597227 non-null  float64\n",
      "dtypes: float64(3)\n",
      "memory usage: 13.7 MB\n",
      "Nan in train x at indices: []\n",
      "Nan in train y at indices: []\n",
      "(447909, 10, 3)\n",
      "(149296, 10, 3)\n",
      "SSS\n",
      "OKAY till here 1\n"
     ]
    },
    {
     "name": "stderr",
     "output_type": "stream",
     "text": [
      "/home/hikikomori/miniconda3/envs/clean_gait_phase/lib/python3.10/site-packages/keras/src/layers/convolutional/base_conv.py:99: UserWarning: Do not pass an `input_shape`/`input_dim` argument to a layer. When using Sequential models, prefer using an `Input(shape)` object as the first layer in the model instead.\n",
      "  super().__init__(\n"
     ]
    },
    {
     "data": {
      "text/html": [
       "<pre style=\"white-space:pre;overflow-x:auto;line-height:normal;font-family:Menlo,'DejaVu Sans Mono',consolas,'Courier New',monospace\"><span style=\"font-weight: bold\">Model: \"sequential_43\"</span>\n",
       "</pre>\n"
      ],
      "text/plain": [
       "\u001b[1mModel: \"sequential_43\"\u001b[0m\n"
      ]
     },
     "metadata": {},
     "output_type": "display_data"
    },
    {
     "data": {
      "text/html": [
       "<pre style=\"white-space:pre;overflow-x:auto;line-height:normal;font-family:Menlo,'DejaVu Sans Mono',consolas,'Courier New',monospace\">┏━━━━━━━━━━━━━━━━━━━━━━━━━━━━━━━━━┳━━━━━━━━━━━━━━━━━━━━━━━━━━━┳━━━━━━━━━━━━┓\n",
       "┃<span style=\"font-weight: bold\"> Layer (type)                    </span>┃<span style=\"font-weight: bold\"> Output Shape              </span>┃<span style=\"font-weight: bold\">    Param # </span>┃\n",
       "┡━━━━━━━━━━━━━━━━━━━━━━━━━━━━━━━━━╇━━━━━━━━━━━━━━━━━━━━━━━━━━━╇━━━━━━━━━━━━┩\n",
       "│ conv1d_86 (<span style=\"color: #0087ff; text-decoration-color: #0087ff\">Conv1D</span>)              │ (<span style=\"color: #00d7ff; text-decoration-color: #00d7ff\">None</span>, <span style=\"color: #00af00; text-decoration-color: #00af00\">8</span>, <span style=\"color: #00af00; text-decoration-color: #00af00\">100</span>)            │      <span style=\"color: #00af00; text-decoration-color: #00af00\">1,000</span> │\n",
       "├─────────────────────────────────┼───────────────────────────┼────────────┤\n",
       "│ max_pooling1d_86 (<span style=\"color: #0087ff; text-decoration-color: #0087ff\">MaxPooling1D</span>) │ (<span style=\"color: #00d7ff; text-decoration-color: #00d7ff\">None</span>, <span style=\"color: #00af00; text-decoration-color: #00af00\">6</span>, <span style=\"color: #00af00; text-decoration-color: #00af00\">100</span>)            │          <span style=\"color: #00af00; text-decoration-color: #00af00\">0</span> │\n",
       "├─────────────────────────────────┼───────────────────────────┼────────────┤\n",
       "│ dropout_86 (<span style=\"color: #0087ff; text-decoration-color: #0087ff\">Dropout</span>)            │ (<span style=\"color: #00d7ff; text-decoration-color: #00d7ff\">None</span>, <span style=\"color: #00af00; text-decoration-color: #00af00\">6</span>, <span style=\"color: #00af00; text-decoration-color: #00af00\">100</span>)            │          <span style=\"color: #00af00; text-decoration-color: #00af00\">0</span> │\n",
       "├─────────────────────────────────┼───────────────────────────┼────────────┤\n",
       "│ conv1d_87 (<span style=\"color: #0087ff; text-decoration-color: #0087ff\">Conv1D</span>)              │ (<span style=\"color: #00d7ff; text-decoration-color: #00d7ff\">None</span>, <span style=\"color: #00af00; text-decoration-color: #00af00\">5</span>, <span style=\"color: #00af00; text-decoration-color: #00af00\">32</span>)             │      <span style=\"color: #00af00; text-decoration-color: #00af00\">6,432</span> │\n",
       "├─────────────────────────────────┼───────────────────────────┼────────────┤\n",
       "│ max_pooling1d_87 (<span style=\"color: #0087ff; text-decoration-color: #0087ff\">MaxPooling1D</span>) │ (<span style=\"color: #00d7ff; text-decoration-color: #00d7ff\">None</span>, <span style=\"color: #00af00; text-decoration-color: #00af00\">4</span>, <span style=\"color: #00af00; text-decoration-color: #00af00\">32</span>)             │          <span style=\"color: #00af00; text-decoration-color: #00af00\">0</span> │\n",
       "├─────────────────────────────────┼───────────────────────────┼────────────┤\n",
       "│ dropout_87 (<span style=\"color: #0087ff; text-decoration-color: #0087ff\">Dropout</span>)            │ (<span style=\"color: #00d7ff; text-decoration-color: #00d7ff\">None</span>, <span style=\"color: #00af00; text-decoration-color: #00af00\">4</span>, <span style=\"color: #00af00; text-decoration-color: #00af00\">32</span>)             │          <span style=\"color: #00af00; text-decoration-color: #00af00\">0</span> │\n",
       "├─────────────────────────────────┼───────────────────────────┼────────────┤\n",
       "│ flatten_43 (<span style=\"color: #0087ff; text-decoration-color: #0087ff\">Flatten</span>)            │ (<span style=\"color: #00d7ff; text-decoration-color: #00d7ff\">None</span>, <span style=\"color: #00af00; text-decoration-color: #00af00\">128</span>)               │          <span style=\"color: #00af00; text-decoration-color: #00af00\">0</span> │\n",
       "├─────────────────────────────────┼───────────────────────────┼────────────┤\n",
       "│ dense_43 (<span style=\"color: #0087ff; text-decoration-color: #0087ff\">Dense</span>)                │ (<span style=\"color: #00d7ff; text-decoration-color: #00d7ff\">None</span>, <span style=\"color: #00af00; text-decoration-color: #00af00\">2</span>)                 │        <span style=\"color: #00af00; text-decoration-color: #00af00\">258</span> │\n",
       "└─────────────────────────────────┴───────────────────────────┴────────────┘\n",
       "</pre>\n"
      ],
      "text/plain": [
       "┏━━━━━━━━━━━━━━━━━━━━━━━━━━━━━━━━━┳━━━━━━━━━━━━━━━━━━━━━━━━━━━┳━━━━━━━━━━━━┓\n",
       "┃\u001b[1m \u001b[0m\u001b[1mLayer (type)                   \u001b[0m\u001b[1m \u001b[0m┃\u001b[1m \u001b[0m\u001b[1mOutput Shape             \u001b[0m\u001b[1m \u001b[0m┃\u001b[1m \u001b[0m\u001b[1m   Param #\u001b[0m\u001b[1m \u001b[0m┃\n",
       "┡━━━━━━━━━━━━━━━━━━━━━━━━━━━━━━━━━╇━━━━━━━━━━━━━━━━━━━━━━━━━━━╇━━━━━━━━━━━━┩\n",
       "│ conv1d_86 (\u001b[38;5;33mConv1D\u001b[0m)              │ (\u001b[38;5;45mNone\u001b[0m, \u001b[38;5;34m8\u001b[0m, \u001b[38;5;34m100\u001b[0m)            │      \u001b[38;5;34m1,000\u001b[0m │\n",
       "├─────────────────────────────────┼───────────────────────────┼────────────┤\n",
       "│ max_pooling1d_86 (\u001b[38;5;33mMaxPooling1D\u001b[0m) │ (\u001b[38;5;45mNone\u001b[0m, \u001b[38;5;34m6\u001b[0m, \u001b[38;5;34m100\u001b[0m)            │          \u001b[38;5;34m0\u001b[0m │\n",
       "├─────────────────────────────────┼───────────────────────────┼────────────┤\n",
       "│ dropout_86 (\u001b[38;5;33mDropout\u001b[0m)            │ (\u001b[38;5;45mNone\u001b[0m, \u001b[38;5;34m6\u001b[0m, \u001b[38;5;34m100\u001b[0m)            │          \u001b[38;5;34m0\u001b[0m │\n",
       "├─────────────────────────────────┼───────────────────────────┼────────────┤\n",
       "│ conv1d_87 (\u001b[38;5;33mConv1D\u001b[0m)              │ (\u001b[38;5;45mNone\u001b[0m, \u001b[38;5;34m5\u001b[0m, \u001b[38;5;34m32\u001b[0m)             │      \u001b[38;5;34m6,432\u001b[0m │\n",
       "├─────────────────────────────────┼───────────────────────────┼────────────┤\n",
       "│ max_pooling1d_87 (\u001b[38;5;33mMaxPooling1D\u001b[0m) │ (\u001b[38;5;45mNone\u001b[0m, \u001b[38;5;34m4\u001b[0m, \u001b[38;5;34m32\u001b[0m)             │          \u001b[38;5;34m0\u001b[0m │\n",
       "├─────────────────────────────────┼───────────────────────────┼────────────┤\n",
       "│ dropout_87 (\u001b[38;5;33mDropout\u001b[0m)            │ (\u001b[38;5;45mNone\u001b[0m, \u001b[38;5;34m4\u001b[0m, \u001b[38;5;34m32\u001b[0m)             │          \u001b[38;5;34m0\u001b[0m │\n",
       "├─────────────────────────────────┼───────────────────────────┼────────────┤\n",
       "│ flatten_43 (\u001b[38;5;33mFlatten\u001b[0m)            │ (\u001b[38;5;45mNone\u001b[0m, \u001b[38;5;34m128\u001b[0m)               │          \u001b[38;5;34m0\u001b[0m │\n",
       "├─────────────────────────────────┼───────────────────────────┼────────────┤\n",
       "│ dense_43 (\u001b[38;5;33mDense\u001b[0m)                │ (\u001b[38;5;45mNone\u001b[0m, \u001b[38;5;34m2\u001b[0m)                 │        \u001b[38;5;34m258\u001b[0m │\n",
       "└─────────────────────────────────┴───────────────────────────┴────────────┘\n"
      ]
     },
     "metadata": {},
     "output_type": "display_data"
    },
    {
     "data": {
      "text/html": [
       "<pre style=\"white-space:pre;overflow-x:auto;line-height:normal;font-family:Menlo,'DejaVu Sans Mono',consolas,'Courier New',monospace\"><span style=\"font-weight: bold\"> Total params: </span><span style=\"color: #00af00; text-decoration-color: #00af00\">7,690</span> (30.04 KB)\n",
       "</pre>\n"
      ],
      "text/plain": [
       "\u001b[1m Total params: \u001b[0m\u001b[38;5;34m7,690\u001b[0m (30.04 KB)\n"
      ]
     },
     "metadata": {},
     "output_type": "display_data"
    },
    {
     "data": {
      "text/html": [
       "<pre style=\"white-space:pre;overflow-x:auto;line-height:normal;font-family:Menlo,'DejaVu Sans Mono',consolas,'Courier New',monospace\"><span style=\"font-weight: bold\"> Trainable params: </span><span style=\"color: #00af00; text-decoration-color: #00af00\">7,690</span> (30.04 KB)\n",
       "</pre>\n"
      ],
      "text/plain": [
       "\u001b[1m Trainable params: \u001b[0m\u001b[38;5;34m7,690\u001b[0m (30.04 KB)\n"
      ]
     },
     "metadata": {},
     "output_type": "display_data"
    },
    {
     "data": {
      "text/html": [
       "<pre style=\"white-space:pre;overflow-x:auto;line-height:normal;font-family:Menlo,'DejaVu Sans Mono',consolas,'Courier New',monospace\"><span style=\"font-weight: bold\"> Non-trainable params: </span><span style=\"color: #00af00; text-decoration-color: #00af00\">0</span> (0.00 B)\n",
       "</pre>\n"
      ],
      "text/plain": [
       "\u001b[1m Non-trainable params: \u001b[0m\u001b[38;5;34m0\u001b[0m (0.00 B)\n"
      ]
     },
     "metadata": {},
     "output_type": "display_data"
    },
    {
     "name": "stdout",
     "output_type": "stream",
     "text": [
      "None\n",
      "Epoch 1/30\n",
      "\u001b[1m13998/13998\u001b[0m \u001b[32m━━━━━━━━━━━━━━━━━━━━\u001b[0m\u001b[37m\u001b[0m \u001b[1m84s\u001b[0m 6ms/step - accuracy: 0.9587 - loss: 0.0288 - mae: 0.1216 - mse: 0.0288\n",
      "Epoch 2/30\n",
      "\u001b[1m13998/13998\u001b[0m \u001b[32m━━━━━━━━━━━━━━━━━━━━\u001b[0m\u001b[37m\u001b[0m \u001b[1m74s\u001b[0m 5ms/step - accuracy: 0.9669 - loss: 0.0162 - mae: 0.0955 - mse: 0.0162\n",
      "Epoch 3/30\n",
      "\u001b[1m13998/13998\u001b[0m \u001b[32m━━━━━━━━━━━━━━━━━━━━\u001b[0m\u001b[37m\u001b[0m \u001b[1m76s\u001b[0m 5ms/step - accuracy: 0.9669 - loss: 0.0161 - mae: 0.0952 - mse: 0.0161\n",
      "Epoch 4/30\n",
      "\u001b[1m13998/13998\u001b[0m \u001b[32m━━━━━━━━━━━━━━━━━━━━\u001b[0m\u001b[37m\u001b[0m \u001b[1m78s\u001b[0m 6ms/step - accuracy: 0.9667 - loss: 0.0160 - mae: 0.0949 - mse: 0.0160\n",
      "Epoch 5/30\n",
      "\u001b[1m13998/13998\u001b[0m \u001b[32m━━━━━━━━━━━━━━━━━━━━\u001b[0m\u001b[37m\u001b[0m \u001b[1m78s\u001b[0m 6ms/step - accuracy: 0.9672 - loss: 0.0160 - mae: 0.0951 - mse: 0.0160\n",
      "Epoch 5: early stopping\n",
      "validation_x shape (149296, 10, 3)\n",
      "\u001b[1m4666/4666\u001b[0m \u001b[32m━━━━━━━━━━━━━━━━━━━━\u001b[0m\u001b[37m\u001b[0m \u001b[1m7s\u001b[0m 2ms/step\n",
      "(149296, 2)\n",
      "(149296, 2)\n",
      "Precision  1 :  36.96817061408209\n",
      "Precision  2 :  64.5241667559747\n",
      "Precision  3 :  81.51658450326867\n",
      "Precision  4 :  90.27100525131283\n",
      "Precision  5 :  94.33541421069553\n"
     ]
    },
    {
     "name": "stderr",
     "output_type": "stream",
     "text": [
      "/tmp/ipykernel_364/3673594883.py:248: DeprecationWarning: Conversion of an array with ndim > 0 to a scalar is deprecated, and will error in future. Ensure you extract a single element from your array before performing this operation. (Deprecated NumPy 1.25.)\n",
      "  rmse = math.sqrt(rmse)\n"
     ]
    },
    {
     "name": "stdout",
     "output_type": "stream",
     "text": [
      "2.5401878291868556\n",
      "testing on : PK\n",
      "<class 'pandas.core.frame.DataFrame'>\n",
      "RangeIndex: 26915 entries, 0 to 26914\n",
      "Data columns (total 13 columns):\n",
      " #   Column         Non-Null Count  Dtype  \n",
      "---  ------         --------------  -----  \n",
      " 0   lcop           26915 non-null  float64\n",
      " 1   rcop           26915 non-null  float64\n",
      " 2   lgrf           26915 non-null  float64\n",
      " 3   rgrf           26915 non-null  float64\n",
      " 4   l_ph_hip       26915 non-null  float64\n",
      " 5   r_ph_hip       26915 non-null  float64\n",
      " 6   st_sw_phase_l  26915 non-null  float64\n",
      " 7   st_sw_phase_r  26915 non-null  float64\n",
      " 8   st_l_l         26915 non-null  float64\n",
      " 9   st_l_r         26915 non-null  float64\n",
      " 10  leg_len        26915 non-null  float64\n",
      " 11  weight         26915 non-null  float64\n",
      " 12  perc           26915 non-null  float64\n",
      "dtypes: float64(13)\n",
      "memory usage: 2.7 MB\n",
      "<class 'pandas.core.frame.DataFrame'>\n",
      "RangeIndex: 26544 entries, 0 to 26543\n",
      "Data columns (total 3 columns):\n",
      " #   Column    Non-Null Count  Dtype  \n",
      "---  ------    --------------  -----  \n",
      " 0   lcop      26544 non-null  float64\n",
      " 1   l_ph_hip  26544 non-null  float64\n",
      " 2   st_l_l    26544 non-null  float64\n",
      "dtypes: float64(3)\n",
      "memory usage: 622.2 KB\n",
      "validation_x shape (19897, 10, 3)\n",
      "\u001b[1m622/622\u001b[0m \u001b[32m━━━━━━━━━━━━━━━━━━━━\u001b[0m\u001b[37m\u001b[0m \u001b[1m1s\u001b[0m 2ms/step\n",
      "(19897, 2)\n",
      "(19897, 2)\n",
      "Precision  1 :  44.7806201939991\n",
      "Precision  2 :  73.31758556566317\n",
      "Precision  3 :  85.89737146303463\n",
      "Precision  4 :  90.7825300296527\n",
      "Precision  5 :  93.31557521234357\n",
      "4.032692265182361\n"
     ]
    },
    {
     "name": "stderr",
     "output_type": "stream",
     "text": [
      "/tmp/ipykernel_364/3673594883.py:248: DeprecationWarning: Conversion of an array with ndim > 0 to a scalar is deprecated, and will error in future. Ensure you extract a single element from your array before performing this operation. (Deprecated NumPy 1.25.)\n",
      "  rmse = math.sqrt(rmse)\n"
     ]
    },
    {
     "name": "stdout",
     "output_type": "stream",
     "text": [
      "Subject combination : ['VP', 'AK', 'SD', 'PH', 'YC', 'JL', 'JS', 'PK', 'TH', 'SKS', 'VN']\n",
      "All Data Info: \n",
      "<class 'pandas.core.frame.DataFrame'>\n",
      "RangeIndex: 574311 entries, 0 to 574310\n",
      "Data columns (total 13 columns):\n",
      " #   Column         Non-Null Count   Dtype  \n",
      "---  ------         --------------   -----  \n",
      " 0   lcop           574311 non-null  float64\n",
      " 1   rcop           574311 non-null  float64\n",
      " 2   lgrf           574311 non-null  float64\n",
      " 3   rgrf           574311 non-null  float64\n",
      " 4   l_ph_hip       574311 non-null  float64\n",
      " 5   r_ph_hip       574311 non-null  float64\n",
      " 6   st_sw_phase_l  574311 non-null  float64\n",
      " 7   st_sw_phase_r  574311 non-null  float64\n",
      " 8   st_l_l         574311 non-null  float64\n",
      " 9   st_l_r         574311 non-null  float64\n",
      " 10  leg_len        574311 non-null  float64\n",
      " 11  weight         574311 non-null  float64\n",
      " 12  perc           574311 non-null  float64\n",
      "dtypes: float64(13)\n",
      "memory usage: 57.0 MB\n",
      "<class 'pandas.core.frame.DataFrame'>\n",
      "RangeIndex: 574311 entries, 0 to 574310\n",
      "Data columns (total 13 columns):\n",
      " #   Column         Non-Null Count   Dtype  \n",
      "---  ------         --------------   -----  \n",
      " 0   lcop           574311 non-null  float64\n",
      " 1   rcop           574311 non-null  float64\n",
      " 2   lgrf           574311 non-null  float64\n",
      " 3   rgrf           574311 non-null  float64\n",
      " 4   l_ph_hip       574311 non-null  float64\n",
      " 5   r_ph_hip       574311 non-null  float64\n",
      " 6   st_sw_phase_l  574311 non-null  float64\n",
      " 7   st_sw_phase_r  574311 non-null  float64\n",
      " 8   st_l_l         574311 non-null  float64\n",
      " 9   st_l_r         574311 non-null  float64\n",
      " 10  leg_len        574311 non-null  float64\n",
      " 11  weight         574311 non-null  float64\n",
      " 12  perc           574311 non-null  float64\n",
      "dtypes: float64(13)\n",
      "memory usage: 57.0 MB\n",
      "<class 'pandas.core.frame.DataFrame'>\n",
      "RangeIndex: 571569 entries, 0 to 571568\n",
      "Data columns (total 3 columns):\n",
      " #   Column    Non-Null Count   Dtype  \n",
      "---  ------    --------------   -----  \n",
      " 0   lcop      571569 non-null  float64\n",
      " 1   l_ph_hip  571569 non-null  float64\n",
      " 2   st_l_l    571569 non-null  float64\n",
      "dtypes: float64(3)\n",
      "memory usage: 13.1 MB\n",
      "Nan in train x at indices: []\n",
      "Nan in train y at indices: []\n",
      "(428665, 10, 3)\n",
      "(142882, 10, 3)\n",
      "SSS\n",
      "OKAY till here 1\n"
     ]
    },
    {
     "name": "stderr",
     "output_type": "stream",
     "text": [
      "/home/hikikomori/miniconda3/envs/clean_gait_phase/lib/python3.10/site-packages/keras/src/layers/convolutional/base_conv.py:99: UserWarning: Do not pass an `input_shape`/`input_dim` argument to a layer. When using Sequential models, prefer using an `Input(shape)` object as the first layer in the model instead.\n",
      "  super().__init__(\n"
     ]
    },
    {
     "data": {
      "text/html": [
       "<pre style=\"white-space:pre;overflow-x:auto;line-height:normal;font-family:Menlo,'DejaVu Sans Mono',consolas,'Courier New',monospace\"><span style=\"font-weight: bold\">Model: \"sequential_44\"</span>\n",
       "</pre>\n"
      ],
      "text/plain": [
       "\u001b[1mModel: \"sequential_44\"\u001b[0m\n"
      ]
     },
     "metadata": {},
     "output_type": "display_data"
    },
    {
     "data": {
      "text/html": [
       "<pre style=\"white-space:pre;overflow-x:auto;line-height:normal;font-family:Menlo,'DejaVu Sans Mono',consolas,'Courier New',monospace\">┏━━━━━━━━━━━━━━━━━━━━━━━━━━━━━━━━━┳━━━━━━━━━━━━━━━━━━━━━━━━━━━┳━━━━━━━━━━━━┓\n",
       "┃<span style=\"font-weight: bold\"> Layer (type)                    </span>┃<span style=\"font-weight: bold\"> Output Shape              </span>┃<span style=\"font-weight: bold\">    Param # </span>┃\n",
       "┡━━━━━━━━━━━━━━━━━━━━━━━━━━━━━━━━━╇━━━━━━━━━━━━━━━━━━━━━━━━━━━╇━━━━━━━━━━━━┩\n",
       "│ conv1d_88 (<span style=\"color: #0087ff; text-decoration-color: #0087ff\">Conv1D</span>)              │ (<span style=\"color: #00d7ff; text-decoration-color: #00d7ff\">None</span>, <span style=\"color: #00af00; text-decoration-color: #00af00\">8</span>, <span style=\"color: #00af00; text-decoration-color: #00af00\">100</span>)            │      <span style=\"color: #00af00; text-decoration-color: #00af00\">1,000</span> │\n",
       "├─────────────────────────────────┼───────────────────────────┼────────────┤\n",
       "│ max_pooling1d_88 (<span style=\"color: #0087ff; text-decoration-color: #0087ff\">MaxPooling1D</span>) │ (<span style=\"color: #00d7ff; text-decoration-color: #00d7ff\">None</span>, <span style=\"color: #00af00; text-decoration-color: #00af00\">6</span>, <span style=\"color: #00af00; text-decoration-color: #00af00\">100</span>)            │          <span style=\"color: #00af00; text-decoration-color: #00af00\">0</span> │\n",
       "├─────────────────────────────────┼───────────────────────────┼────────────┤\n",
       "│ dropout_88 (<span style=\"color: #0087ff; text-decoration-color: #0087ff\">Dropout</span>)            │ (<span style=\"color: #00d7ff; text-decoration-color: #00d7ff\">None</span>, <span style=\"color: #00af00; text-decoration-color: #00af00\">6</span>, <span style=\"color: #00af00; text-decoration-color: #00af00\">100</span>)            │          <span style=\"color: #00af00; text-decoration-color: #00af00\">0</span> │\n",
       "├─────────────────────────────────┼───────────────────────────┼────────────┤\n",
       "│ conv1d_89 (<span style=\"color: #0087ff; text-decoration-color: #0087ff\">Conv1D</span>)              │ (<span style=\"color: #00d7ff; text-decoration-color: #00d7ff\">None</span>, <span style=\"color: #00af00; text-decoration-color: #00af00\">5</span>, <span style=\"color: #00af00; text-decoration-color: #00af00\">32</span>)             │      <span style=\"color: #00af00; text-decoration-color: #00af00\">6,432</span> │\n",
       "├─────────────────────────────────┼───────────────────────────┼────────────┤\n",
       "│ max_pooling1d_89 (<span style=\"color: #0087ff; text-decoration-color: #0087ff\">MaxPooling1D</span>) │ (<span style=\"color: #00d7ff; text-decoration-color: #00d7ff\">None</span>, <span style=\"color: #00af00; text-decoration-color: #00af00\">4</span>, <span style=\"color: #00af00; text-decoration-color: #00af00\">32</span>)             │          <span style=\"color: #00af00; text-decoration-color: #00af00\">0</span> │\n",
       "├─────────────────────────────────┼───────────────────────────┼────────────┤\n",
       "│ dropout_89 (<span style=\"color: #0087ff; text-decoration-color: #0087ff\">Dropout</span>)            │ (<span style=\"color: #00d7ff; text-decoration-color: #00d7ff\">None</span>, <span style=\"color: #00af00; text-decoration-color: #00af00\">4</span>, <span style=\"color: #00af00; text-decoration-color: #00af00\">32</span>)             │          <span style=\"color: #00af00; text-decoration-color: #00af00\">0</span> │\n",
       "├─────────────────────────────────┼───────────────────────────┼────────────┤\n",
       "│ flatten_44 (<span style=\"color: #0087ff; text-decoration-color: #0087ff\">Flatten</span>)            │ (<span style=\"color: #00d7ff; text-decoration-color: #00d7ff\">None</span>, <span style=\"color: #00af00; text-decoration-color: #00af00\">128</span>)               │          <span style=\"color: #00af00; text-decoration-color: #00af00\">0</span> │\n",
       "├─────────────────────────────────┼───────────────────────────┼────────────┤\n",
       "│ dense_44 (<span style=\"color: #0087ff; text-decoration-color: #0087ff\">Dense</span>)                │ (<span style=\"color: #00d7ff; text-decoration-color: #00d7ff\">None</span>, <span style=\"color: #00af00; text-decoration-color: #00af00\">2</span>)                 │        <span style=\"color: #00af00; text-decoration-color: #00af00\">258</span> │\n",
       "└─────────────────────────────────┴───────────────────────────┴────────────┘\n",
       "</pre>\n"
      ],
      "text/plain": [
       "┏━━━━━━━━━━━━━━━━━━━━━━━━━━━━━━━━━┳━━━━━━━━━━━━━━━━━━━━━━━━━━━┳━━━━━━━━━━━━┓\n",
       "┃\u001b[1m \u001b[0m\u001b[1mLayer (type)                   \u001b[0m\u001b[1m \u001b[0m┃\u001b[1m \u001b[0m\u001b[1mOutput Shape             \u001b[0m\u001b[1m \u001b[0m┃\u001b[1m \u001b[0m\u001b[1m   Param #\u001b[0m\u001b[1m \u001b[0m┃\n",
       "┡━━━━━━━━━━━━━━━━━━━━━━━━━━━━━━━━━╇━━━━━━━━━━━━━━━━━━━━━━━━━━━╇━━━━━━━━━━━━┩\n",
       "│ conv1d_88 (\u001b[38;5;33mConv1D\u001b[0m)              │ (\u001b[38;5;45mNone\u001b[0m, \u001b[38;5;34m8\u001b[0m, \u001b[38;5;34m100\u001b[0m)            │      \u001b[38;5;34m1,000\u001b[0m │\n",
       "├─────────────────────────────────┼───────────────────────────┼────────────┤\n",
       "│ max_pooling1d_88 (\u001b[38;5;33mMaxPooling1D\u001b[0m) │ (\u001b[38;5;45mNone\u001b[0m, \u001b[38;5;34m6\u001b[0m, \u001b[38;5;34m100\u001b[0m)            │          \u001b[38;5;34m0\u001b[0m │\n",
       "├─────────────────────────────────┼───────────────────────────┼────────────┤\n",
       "│ dropout_88 (\u001b[38;5;33mDropout\u001b[0m)            │ (\u001b[38;5;45mNone\u001b[0m, \u001b[38;5;34m6\u001b[0m, \u001b[38;5;34m100\u001b[0m)            │          \u001b[38;5;34m0\u001b[0m │\n",
       "├─────────────────────────────────┼───────────────────────────┼────────────┤\n",
       "│ conv1d_89 (\u001b[38;5;33mConv1D\u001b[0m)              │ (\u001b[38;5;45mNone\u001b[0m, \u001b[38;5;34m5\u001b[0m, \u001b[38;5;34m32\u001b[0m)             │      \u001b[38;5;34m6,432\u001b[0m │\n",
       "├─────────────────────────────────┼───────────────────────────┼────────────┤\n",
       "│ max_pooling1d_89 (\u001b[38;5;33mMaxPooling1D\u001b[0m) │ (\u001b[38;5;45mNone\u001b[0m, \u001b[38;5;34m4\u001b[0m, \u001b[38;5;34m32\u001b[0m)             │          \u001b[38;5;34m0\u001b[0m │\n",
       "├─────────────────────────────────┼───────────────────────────┼────────────┤\n",
       "│ dropout_89 (\u001b[38;5;33mDropout\u001b[0m)            │ (\u001b[38;5;45mNone\u001b[0m, \u001b[38;5;34m4\u001b[0m, \u001b[38;5;34m32\u001b[0m)             │          \u001b[38;5;34m0\u001b[0m │\n",
       "├─────────────────────────────────┼───────────────────────────┼────────────┤\n",
       "│ flatten_44 (\u001b[38;5;33mFlatten\u001b[0m)            │ (\u001b[38;5;45mNone\u001b[0m, \u001b[38;5;34m128\u001b[0m)               │          \u001b[38;5;34m0\u001b[0m │\n",
       "├─────────────────────────────────┼───────────────────────────┼────────────┤\n",
       "│ dense_44 (\u001b[38;5;33mDense\u001b[0m)                │ (\u001b[38;5;45mNone\u001b[0m, \u001b[38;5;34m2\u001b[0m)                 │        \u001b[38;5;34m258\u001b[0m │\n",
       "└─────────────────────────────────┴───────────────────────────┴────────────┘\n"
      ]
     },
     "metadata": {},
     "output_type": "display_data"
    },
    {
     "data": {
      "text/html": [
       "<pre style=\"white-space:pre;overflow-x:auto;line-height:normal;font-family:Menlo,'DejaVu Sans Mono',consolas,'Courier New',monospace\"><span style=\"font-weight: bold\"> Total params: </span><span style=\"color: #00af00; text-decoration-color: #00af00\">7,690</span> (30.04 KB)\n",
       "</pre>\n"
      ],
      "text/plain": [
       "\u001b[1m Total params: \u001b[0m\u001b[38;5;34m7,690\u001b[0m (30.04 KB)\n"
      ]
     },
     "metadata": {},
     "output_type": "display_data"
    },
    {
     "data": {
      "text/html": [
       "<pre style=\"white-space:pre;overflow-x:auto;line-height:normal;font-family:Menlo,'DejaVu Sans Mono',consolas,'Courier New',monospace\"><span style=\"font-weight: bold\"> Trainable params: </span><span style=\"color: #00af00; text-decoration-color: #00af00\">7,690</span> (30.04 KB)\n",
       "</pre>\n"
      ],
      "text/plain": [
       "\u001b[1m Trainable params: \u001b[0m\u001b[38;5;34m7,690\u001b[0m (30.04 KB)\n"
      ]
     },
     "metadata": {},
     "output_type": "display_data"
    },
    {
     "data": {
      "text/html": [
       "<pre style=\"white-space:pre;overflow-x:auto;line-height:normal;font-family:Menlo,'DejaVu Sans Mono',consolas,'Courier New',monospace\"><span style=\"font-weight: bold\"> Non-trainable params: </span><span style=\"color: #00af00; text-decoration-color: #00af00\">0</span> (0.00 B)\n",
       "</pre>\n"
      ],
      "text/plain": [
       "\u001b[1m Non-trainable params: \u001b[0m\u001b[38;5;34m0\u001b[0m (0.00 B)\n"
      ]
     },
     "metadata": {},
     "output_type": "display_data"
    },
    {
     "name": "stdout",
     "output_type": "stream",
     "text": [
      "None\n",
      "Epoch 1/30\n",
      "\u001b[1m13396/13396\u001b[0m \u001b[32m━━━━━━━━━━━━━━━━━━━━\u001b[0m\u001b[37m\u001b[0m \u001b[1m80s\u001b[0m 6ms/step - accuracy: 0.9555 - loss: 0.0316 - mae: 0.1245 - mse: 0.0316\n",
      "Epoch 2/30\n",
      "\u001b[1m13396/13396\u001b[0m \u001b[32m━━━━━━━━━━━━━━━━━━━━\u001b[0m\u001b[37m\u001b[0m \u001b[1m73s\u001b[0m 5ms/step - accuracy: 0.9682 - loss: 0.0160 - mae: 0.0947 - mse: 0.0160\n",
      "Epoch 3/30\n",
      "\u001b[1m13396/13396\u001b[0m \u001b[32m━━━━━━━━━━━━━━━━━━━━\u001b[0m\u001b[37m\u001b[0m \u001b[1m75s\u001b[0m 6ms/step - accuracy: 0.9686 - loss: 0.0159 - mae: 0.0941 - mse: 0.0159\n",
      "Epoch 4/30\n",
      "\u001b[1m13396/13396\u001b[0m \u001b[32m━━━━━━━━━━━━━━━━━━━━\u001b[0m\u001b[37m\u001b[0m \u001b[1m76s\u001b[0m 6ms/step - accuracy: 0.9681 - loss: 0.0159 - mae: 0.0941 - mse: 0.0159\n",
      "Epoch 5/30\n",
      "\u001b[1m13396/13396\u001b[0m \u001b[32m━━━━━━━━━━━━━━━━━━━━\u001b[0m\u001b[37m\u001b[0m \u001b[1m75s\u001b[0m 6ms/step - accuracy: 0.9681 - loss: 0.0159 - mae: 0.0943 - mse: 0.0159\n",
      "Epoch 5: early stopping\n",
      "validation_x shape (142882, 10, 3)\n",
      "\u001b[1m4466/4466\u001b[0m \u001b[32m━━━━━━━━━━━━━━━━━━━━\u001b[0m\u001b[37m\u001b[0m \u001b[1m7s\u001b[0m 1ms/step\n",
      "(142882, 2)\n",
      "(142882, 2)\n",
      "Precision  1 :  37.65624781288056\n",
      "Precision  2 :  65.55269383127336\n",
      "Precision  3 :  82.31127783765625\n",
      "Precision  4 :  90.91628056718132\n",
      "Precision  5 :  94.69282344871992\n"
     ]
    },
    {
     "name": "stderr",
     "output_type": "stream",
     "text": [
      "/tmp/ipykernel_364/3673594883.py:248: DeprecationWarning: Conversion of an array with ndim > 0 to a scalar is deprecated, and will error in future. Ensure you extract a single element from your array before performing this operation. (Deprecated NumPy 1.25.)\n",
      "  rmse = math.sqrt(rmse)\n"
     ]
    },
    {
     "name": "stdout",
     "output_type": "stream",
     "text": [
      "2.434288227275646\n",
      "testing on : SOE\n",
      "<class 'pandas.core.frame.DataFrame'>\n",
      "RangeIndex: 52747 entries, 0 to 52746\n",
      "Data columns (total 13 columns):\n",
      " #   Column         Non-Null Count  Dtype  \n",
      "---  ------         --------------  -----  \n",
      " 0   lcop           52747 non-null  float64\n",
      " 1   rcop           52747 non-null  float64\n",
      " 2   lgrf           52747 non-null  float64\n",
      " 3   rgrf           52747 non-null  float64\n",
      " 4   l_ph_hip       52747 non-null  float64\n",
      " 5   r_ph_hip       52747 non-null  float64\n",
      " 6   st_sw_phase_l  52747 non-null  float64\n",
      " 7   st_sw_phase_r  52747 non-null  float64\n",
      " 8   st_l_l         52747 non-null  float64\n",
      " 9   st_l_r         52747 non-null  float64\n",
      " 10  leg_len        52747 non-null  float64\n",
      " 11  weight         52747 non-null  float64\n",
      " 12  perc           52747 non-null  float64\n",
      "dtypes: float64(13)\n",
      "memory usage: 5.2 MB\n",
      "<class 'pandas.core.frame.DataFrame'>\n",
      "RangeIndex: 52236 entries, 0 to 52235\n",
      "Data columns (total 3 columns):\n",
      " #   Column    Non-Null Count  Dtype  \n",
      "---  ------    --------------  -----  \n",
      " 0   lcop      52236 non-null  float64\n",
      " 1   l_ph_hip  52236 non-null  float64\n",
      " 2   st_l_l    52236 non-null  float64\n",
      "dtypes: float64(3)\n",
      "memory usage: 1.2 MB\n",
      "validation_x shape (39166, 10, 3)\n",
      "\u001b[1m1224/1224\u001b[0m \u001b[32m━━━━━━━━━━━━━━━━━━━━\u001b[0m\u001b[37m\u001b[0m \u001b[1m2s\u001b[0m 2ms/step\n",
      "(39166, 2)\n",
      "(39166, 2)\n",
      "Precision  1 :  25.04978808149926\n",
      "Precision  2 :  48.48082520553541\n",
      "Precision  3 :  66.3228310269111\n",
      "Precision  4 :  78.73665934739314\n",
      "Precision  5 :  86.72062503191543\n"
     ]
    },
    {
     "name": "stderr",
     "output_type": "stream",
     "text": [
      "/tmp/ipykernel_364/3673594883.py:248: DeprecationWarning: Conversion of an array with ndim > 0 to a scalar is deprecated, and will error in future. Ensure you extract a single element from your array before performing this operation. (Deprecated NumPy 1.25.)\n",
      "  rmse = math.sqrt(rmse)\n"
     ]
    },
    {
     "name": "stdout",
     "output_type": "stream",
     "text": [
      "3.168795827971648\n",
      "Subject combination : ['VP', 'AK', 'SD', 'PH', 'YC', 'JL', 'JS', 'PK', 'SOE', 'SKS', 'VN']\n",
      "All Data Info: \n",
      "<class 'pandas.core.frame.DataFrame'>\n",
      "RangeIndex: 567438 entries, 0 to 567437\n",
      "Data columns (total 13 columns):\n",
      " #   Column         Non-Null Count   Dtype  \n",
      "---  ------         --------------   -----  \n",
      " 0   lcop           567438 non-null  float64\n",
      " 1   rcop           567438 non-null  float64\n",
      " 2   lgrf           567438 non-null  float64\n",
      " 3   rgrf           567438 non-null  float64\n",
      " 4   l_ph_hip       567438 non-null  float64\n",
      " 5   r_ph_hip       567438 non-null  float64\n",
      " 6   st_sw_phase_l  567438 non-null  float64\n",
      " 7   st_sw_phase_r  567438 non-null  float64\n",
      " 8   st_l_l         567438 non-null  float64\n",
      " 9   st_l_r         567438 non-null  float64\n",
      " 10  leg_len        567438 non-null  float64\n",
      " 11  weight         567438 non-null  float64\n",
      " 12  perc           567438 non-null  float64\n",
      "dtypes: float64(13)\n",
      "memory usage: 56.3 MB\n",
      "<class 'pandas.core.frame.DataFrame'>\n",
      "RangeIndex: 567438 entries, 0 to 567437\n",
      "Data columns (total 13 columns):\n",
      " #   Column         Non-Null Count   Dtype  \n",
      "---  ------         --------------   -----  \n",
      " 0   lcop           567438 non-null  float64\n",
      " 1   rcop           567438 non-null  float64\n",
      " 2   lgrf           567438 non-null  float64\n",
      " 3   rgrf           567438 non-null  float64\n",
      " 4   l_ph_hip       567438 non-null  float64\n",
      " 5   r_ph_hip       567438 non-null  float64\n",
      " 6   st_sw_phase_l  567438 non-null  float64\n",
      " 7   st_sw_phase_r  567438 non-null  float64\n",
      " 8   st_l_l         567438 non-null  float64\n",
      " 9   st_l_r         567438 non-null  float64\n",
      " 10  leg_len        567438 non-null  float64\n",
      " 11  weight         567438 non-null  float64\n",
      " 12  perc           567438 non-null  float64\n",
      "dtypes: float64(13)\n",
      "memory usage: 56.3 MB\n",
      "<class 'pandas.core.frame.DataFrame'>\n",
      "RangeIndex: 564761 entries, 0 to 564760\n",
      "Data columns (total 3 columns):\n",
      " #   Column    Non-Null Count   Dtype  \n",
      "---  ------    --------------   -----  \n",
      " 0   lcop      564761 non-null  float64\n",
      " 1   l_ph_hip  564761 non-null  float64\n",
      " 2   st_l_l    564761 non-null  float64\n",
      "dtypes: float64(3)\n",
      "memory usage: 12.9 MB\n",
      "Nan in train x at indices: []\n",
      "Nan in train y at indices: []\n",
      "(423559, 10, 3)\n",
      "(141180, 10, 3)\n",
      "SSS\n",
      "OKAY till here 1\n"
     ]
    },
    {
     "name": "stderr",
     "output_type": "stream",
     "text": [
      "/home/hikikomori/miniconda3/envs/clean_gait_phase/lib/python3.10/site-packages/keras/src/layers/convolutional/base_conv.py:99: UserWarning: Do not pass an `input_shape`/`input_dim` argument to a layer. When using Sequential models, prefer using an `Input(shape)` object as the first layer in the model instead.\n",
      "  super().__init__(\n"
     ]
    },
    {
     "data": {
      "text/html": [
       "<pre style=\"white-space:pre;overflow-x:auto;line-height:normal;font-family:Menlo,'DejaVu Sans Mono',consolas,'Courier New',monospace\"><span style=\"font-weight: bold\">Model: \"sequential_45\"</span>\n",
       "</pre>\n"
      ],
      "text/plain": [
       "\u001b[1mModel: \"sequential_45\"\u001b[0m\n"
      ]
     },
     "metadata": {},
     "output_type": "display_data"
    },
    {
     "data": {
      "text/html": [
       "<pre style=\"white-space:pre;overflow-x:auto;line-height:normal;font-family:Menlo,'DejaVu Sans Mono',consolas,'Courier New',monospace\">┏━━━━━━━━━━━━━━━━━━━━━━━━━━━━━━━━━┳━━━━━━━━━━━━━━━━━━━━━━━━━━━┳━━━━━━━━━━━━┓\n",
       "┃<span style=\"font-weight: bold\"> Layer (type)                    </span>┃<span style=\"font-weight: bold\"> Output Shape              </span>┃<span style=\"font-weight: bold\">    Param # </span>┃\n",
       "┡━━━━━━━━━━━━━━━━━━━━━━━━━━━━━━━━━╇━━━━━━━━━━━━━━━━━━━━━━━━━━━╇━━━━━━━━━━━━┩\n",
       "│ conv1d_90 (<span style=\"color: #0087ff; text-decoration-color: #0087ff\">Conv1D</span>)              │ (<span style=\"color: #00d7ff; text-decoration-color: #00d7ff\">None</span>, <span style=\"color: #00af00; text-decoration-color: #00af00\">8</span>, <span style=\"color: #00af00; text-decoration-color: #00af00\">100</span>)            │      <span style=\"color: #00af00; text-decoration-color: #00af00\">1,000</span> │\n",
       "├─────────────────────────────────┼───────────────────────────┼────────────┤\n",
       "│ max_pooling1d_90 (<span style=\"color: #0087ff; text-decoration-color: #0087ff\">MaxPooling1D</span>) │ (<span style=\"color: #00d7ff; text-decoration-color: #00d7ff\">None</span>, <span style=\"color: #00af00; text-decoration-color: #00af00\">6</span>, <span style=\"color: #00af00; text-decoration-color: #00af00\">100</span>)            │          <span style=\"color: #00af00; text-decoration-color: #00af00\">0</span> │\n",
       "├─────────────────────────────────┼───────────────────────────┼────────────┤\n",
       "│ dropout_90 (<span style=\"color: #0087ff; text-decoration-color: #0087ff\">Dropout</span>)            │ (<span style=\"color: #00d7ff; text-decoration-color: #00d7ff\">None</span>, <span style=\"color: #00af00; text-decoration-color: #00af00\">6</span>, <span style=\"color: #00af00; text-decoration-color: #00af00\">100</span>)            │          <span style=\"color: #00af00; text-decoration-color: #00af00\">0</span> │\n",
       "├─────────────────────────────────┼───────────────────────────┼────────────┤\n",
       "│ conv1d_91 (<span style=\"color: #0087ff; text-decoration-color: #0087ff\">Conv1D</span>)              │ (<span style=\"color: #00d7ff; text-decoration-color: #00d7ff\">None</span>, <span style=\"color: #00af00; text-decoration-color: #00af00\">5</span>, <span style=\"color: #00af00; text-decoration-color: #00af00\">32</span>)             │      <span style=\"color: #00af00; text-decoration-color: #00af00\">6,432</span> │\n",
       "├─────────────────────────────────┼───────────────────────────┼────────────┤\n",
       "│ max_pooling1d_91 (<span style=\"color: #0087ff; text-decoration-color: #0087ff\">MaxPooling1D</span>) │ (<span style=\"color: #00d7ff; text-decoration-color: #00d7ff\">None</span>, <span style=\"color: #00af00; text-decoration-color: #00af00\">4</span>, <span style=\"color: #00af00; text-decoration-color: #00af00\">32</span>)             │          <span style=\"color: #00af00; text-decoration-color: #00af00\">0</span> │\n",
       "├─────────────────────────────────┼───────────────────────────┼────────────┤\n",
       "│ dropout_91 (<span style=\"color: #0087ff; text-decoration-color: #0087ff\">Dropout</span>)            │ (<span style=\"color: #00d7ff; text-decoration-color: #00d7ff\">None</span>, <span style=\"color: #00af00; text-decoration-color: #00af00\">4</span>, <span style=\"color: #00af00; text-decoration-color: #00af00\">32</span>)             │          <span style=\"color: #00af00; text-decoration-color: #00af00\">0</span> │\n",
       "├─────────────────────────────────┼───────────────────────────┼────────────┤\n",
       "│ flatten_45 (<span style=\"color: #0087ff; text-decoration-color: #0087ff\">Flatten</span>)            │ (<span style=\"color: #00d7ff; text-decoration-color: #00d7ff\">None</span>, <span style=\"color: #00af00; text-decoration-color: #00af00\">128</span>)               │          <span style=\"color: #00af00; text-decoration-color: #00af00\">0</span> │\n",
       "├─────────────────────────────────┼───────────────────────────┼────────────┤\n",
       "│ dense_45 (<span style=\"color: #0087ff; text-decoration-color: #0087ff\">Dense</span>)                │ (<span style=\"color: #00d7ff; text-decoration-color: #00d7ff\">None</span>, <span style=\"color: #00af00; text-decoration-color: #00af00\">2</span>)                 │        <span style=\"color: #00af00; text-decoration-color: #00af00\">258</span> │\n",
       "└─────────────────────────────────┴───────────────────────────┴────────────┘\n",
       "</pre>\n"
      ],
      "text/plain": [
       "┏━━━━━━━━━━━━━━━━━━━━━━━━━━━━━━━━━┳━━━━━━━━━━━━━━━━━━━━━━━━━━━┳━━━━━━━━━━━━┓\n",
       "┃\u001b[1m \u001b[0m\u001b[1mLayer (type)                   \u001b[0m\u001b[1m \u001b[0m┃\u001b[1m \u001b[0m\u001b[1mOutput Shape             \u001b[0m\u001b[1m \u001b[0m┃\u001b[1m \u001b[0m\u001b[1m   Param #\u001b[0m\u001b[1m \u001b[0m┃\n",
       "┡━━━━━━━━━━━━━━━━━━━━━━━━━━━━━━━━━╇━━━━━━━━━━━━━━━━━━━━━━━━━━━╇━━━━━━━━━━━━┩\n",
       "│ conv1d_90 (\u001b[38;5;33mConv1D\u001b[0m)              │ (\u001b[38;5;45mNone\u001b[0m, \u001b[38;5;34m8\u001b[0m, \u001b[38;5;34m100\u001b[0m)            │      \u001b[38;5;34m1,000\u001b[0m │\n",
       "├─────────────────────────────────┼───────────────────────────┼────────────┤\n",
       "│ max_pooling1d_90 (\u001b[38;5;33mMaxPooling1D\u001b[0m) │ (\u001b[38;5;45mNone\u001b[0m, \u001b[38;5;34m6\u001b[0m, \u001b[38;5;34m100\u001b[0m)            │          \u001b[38;5;34m0\u001b[0m │\n",
       "├─────────────────────────────────┼───────────────────────────┼────────────┤\n",
       "│ dropout_90 (\u001b[38;5;33mDropout\u001b[0m)            │ (\u001b[38;5;45mNone\u001b[0m, \u001b[38;5;34m6\u001b[0m, \u001b[38;5;34m100\u001b[0m)            │          \u001b[38;5;34m0\u001b[0m │\n",
       "├─────────────────────────────────┼───────────────────────────┼────────────┤\n",
       "│ conv1d_91 (\u001b[38;5;33mConv1D\u001b[0m)              │ (\u001b[38;5;45mNone\u001b[0m, \u001b[38;5;34m5\u001b[0m, \u001b[38;5;34m32\u001b[0m)             │      \u001b[38;5;34m6,432\u001b[0m │\n",
       "├─────────────────────────────────┼───────────────────────────┼────────────┤\n",
       "│ max_pooling1d_91 (\u001b[38;5;33mMaxPooling1D\u001b[0m) │ (\u001b[38;5;45mNone\u001b[0m, \u001b[38;5;34m4\u001b[0m, \u001b[38;5;34m32\u001b[0m)             │          \u001b[38;5;34m0\u001b[0m │\n",
       "├─────────────────────────────────┼───────────────────────────┼────────────┤\n",
       "│ dropout_91 (\u001b[38;5;33mDropout\u001b[0m)            │ (\u001b[38;5;45mNone\u001b[0m, \u001b[38;5;34m4\u001b[0m, \u001b[38;5;34m32\u001b[0m)             │          \u001b[38;5;34m0\u001b[0m │\n",
       "├─────────────────────────────────┼───────────────────────────┼────────────┤\n",
       "│ flatten_45 (\u001b[38;5;33mFlatten\u001b[0m)            │ (\u001b[38;5;45mNone\u001b[0m, \u001b[38;5;34m128\u001b[0m)               │          \u001b[38;5;34m0\u001b[0m │\n",
       "├─────────────────────────────────┼───────────────────────────┼────────────┤\n",
       "│ dense_45 (\u001b[38;5;33mDense\u001b[0m)                │ (\u001b[38;5;45mNone\u001b[0m, \u001b[38;5;34m2\u001b[0m)                 │        \u001b[38;5;34m258\u001b[0m │\n",
       "└─────────────────────────────────┴───────────────────────────┴────────────┘\n"
      ]
     },
     "metadata": {},
     "output_type": "display_data"
    },
    {
     "data": {
      "text/html": [
       "<pre style=\"white-space:pre;overflow-x:auto;line-height:normal;font-family:Menlo,'DejaVu Sans Mono',consolas,'Courier New',monospace\"><span style=\"font-weight: bold\"> Total params: </span><span style=\"color: #00af00; text-decoration-color: #00af00\">7,690</span> (30.04 KB)\n",
       "</pre>\n"
      ],
      "text/plain": [
       "\u001b[1m Total params: \u001b[0m\u001b[38;5;34m7,690\u001b[0m (30.04 KB)\n"
      ]
     },
     "metadata": {},
     "output_type": "display_data"
    },
    {
     "data": {
      "text/html": [
       "<pre style=\"white-space:pre;overflow-x:auto;line-height:normal;font-family:Menlo,'DejaVu Sans Mono',consolas,'Courier New',monospace\"><span style=\"font-weight: bold\"> Trainable params: </span><span style=\"color: #00af00; text-decoration-color: #00af00\">7,690</span> (30.04 KB)\n",
       "</pre>\n"
      ],
      "text/plain": [
       "\u001b[1m Trainable params: \u001b[0m\u001b[38;5;34m7,690\u001b[0m (30.04 KB)\n"
      ]
     },
     "metadata": {},
     "output_type": "display_data"
    },
    {
     "data": {
      "text/html": [
       "<pre style=\"white-space:pre;overflow-x:auto;line-height:normal;font-family:Menlo,'DejaVu Sans Mono',consolas,'Courier New',monospace\"><span style=\"font-weight: bold\"> Non-trainable params: </span><span style=\"color: #00af00; text-decoration-color: #00af00\">0</span> (0.00 B)\n",
       "</pre>\n"
      ],
      "text/plain": [
       "\u001b[1m Non-trainable params: \u001b[0m\u001b[38;5;34m0\u001b[0m (0.00 B)\n"
      ]
     },
     "metadata": {},
     "output_type": "display_data"
    },
    {
     "name": "stdout",
     "output_type": "stream",
     "text": [
      "None\n",
      "Epoch 1/30\n",
      "\u001b[1m13237/13237\u001b[0m \u001b[32m━━━━━━━━━━━━━━━━━━━━\u001b[0m\u001b[37m\u001b[0m \u001b[1m80s\u001b[0m 6ms/step - accuracy: 0.9590 - loss: 0.0281 - mae: 0.1199 - mse: 0.0281\n",
      "Epoch 2/30\n",
      "\u001b[1m13237/13237\u001b[0m \u001b[32m━━━━━━━━━━━━━━━━━━━━\u001b[0m\u001b[37m\u001b[0m \u001b[1m69s\u001b[0m 5ms/step - accuracy: 0.9661 - loss: 0.0152 - mae: 0.0932 - mse: 0.0152\n",
      "Epoch 3/30\n",
      "\u001b[1m13237/13237\u001b[0m \u001b[32m━━━━━━━━━━━━━━━━━━━━\u001b[0m\u001b[37m\u001b[0m \u001b[1m73s\u001b[0m 6ms/step - accuracy: 0.9662 - loss: 0.0150 - mae: 0.0927 - mse: 0.0150\n",
      "Epoch 4/30\n",
      "\u001b[1m13237/13237\u001b[0m \u001b[32m━━━━━━━━━━━━━━━━━━━━\u001b[0m\u001b[37m\u001b[0m \u001b[1m73s\u001b[0m 6ms/step - accuracy: 0.9666 - loss: 0.0150 - mae: 0.0928 - mse: 0.0150\n",
      "Epoch 5/30\n",
      "\u001b[1m13237/13237\u001b[0m \u001b[32m━━━━━━━━━━━━━━━━━━━━\u001b[0m\u001b[37m\u001b[0m \u001b[1m73s\u001b[0m 5ms/step - accuracy: 0.9658 - loss: 0.0150 - mae: 0.0927 - mse: 0.0150\n",
      "Epoch 6/30\n",
      "\u001b[1m13237/13237\u001b[0m \u001b[32m━━━━━━━━━━━━━━━━━━━━\u001b[0m\u001b[37m\u001b[0m \u001b[1m73s\u001b[0m 6ms/step - accuracy: 0.9666 - loss: 0.0150 - mae: 0.0927 - mse: 0.0150\n",
      "Epoch 7/30\n",
      "\u001b[1m13237/13237\u001b[0m \u001b[32m━━━━━━━━━━━━━━━━━━━━\u001b[0m\u001b[37m\u001b[0m \u001b[1m73s\u001b[0m 6ms/step - accuracy: 0.9663 - loss: 0.0150 - mae: 0.0929 - mse: 0.0150\n",
      "Epoch 7: early stopping\n",
      "validation_x shape (141180, 10, 3)\n",
      "\u001b[1m4412/4412\u001b[0m \u001b[32m━━━━━━━━━━━━━━━━━━━━\u001b[0m\u001b[37m\u001b[0m \u001b[1m7s\u001b[0m 2ms/step\n",
      "(141180, 2)\n",
      "(141180, 2)\n",
      "Precision  1 :  34.99575010624734\n",
      "Precision  2 :  63.71511545544695\n",
      "Precision  3 :  81.08018132880011\n",
      "Precision  4 :  90.16149596260094\n",
      "Precision  5 :  94.66142513103838\n"
     ]
    },
    {
     "name": "stderr",
     "output_type": "stream",
     "text": [
      "/tmp/ipykernel_364/3673594883.py:248: DeprecationWarning: Conversion of an array with ndim > 0 to a scalar is deprecated, and will error in future. Ensure you extract a single element from your array before performing this operation. (Deprecated NumPy 1.25.)\n",
      "  rmse = math.sqrt(rmse)\n"
     ]
    },
    {
     "name": "stdout",
     "output_type": "stream",
     "text": [
      "2.3820842415065524\n",
      "testing on : TH\n",
      "<class 'pandas.core.frame.DataFrame'>\n",
      "RangeIndex: 59620 entries, 0 to 59619\n",
      "Data columns (total 13 columns):\n",
      " #   Column         Non-Null Count  Dtype  \n",
      "---  ------         --------------  -----  \n",
      " 0   lcop           59620 non-null  float64\n",
      " 1   rcop           59620 non-null  float64\n",
      " 2   lgrf           59620 non-null  float64\n",
      " 3   rgrf           59620 non-null  float64\n",
      " 4   l_ph_hip       59620 non-null  float64\n",
      " 5   r_ph_hip       59620 non-null  float64\n",
      " 6   st_sw_phase_l  59620 non-null  float64\n",
      " 7   st_sw_phase_r  59620 non-null  float64\n",
      " 8   st_l_l         59620 non-null  float64\n",
      " 9   st_l_r         59620 non-null  float64\n",
      " 10  leg_len        59620 non-null  float64\n",
      " 11  weight         59620 non-null  float64\n",
      " 12  perc           59620 non-null  float64\n",
      "dtypes: float64(13)\n",
      "memory usage: 5.9 MB\n",
      "<class 'pandas.core.frame.DataFrame'>\n",
      "RangeIndex: 59133 entries, 0 to 59132\n",
      "Data columns (total 3 columns):\n",
      " #   Column    Non-Null Count  Dtype  \n",
      "---  ------    --------------  -----  \n",
      " 0   lcop      59133 non-null  float64\n",
      " 1   l_ph_hip  59133 non-null  float64\n",
      " 2   st_l_l    59133 non-null  float64\n",
      "dtypes: float64(3)\n",
      "memory usage: 1.4 MB\n",
      "validation_x shape (44338, 10, 3)\n",
      "\u001b[1m1386/1386\u001b[0m \u001b[32m━━━━━━━━━━━━━━━━━━━━\u001b[0m\u001b[37m\u001b[0m \u001b[1m3s\u001b[0m 2ms/step\n",
      "(44338, 2)\n",
      "(44338, 2)\n",
      "Precision  1 :  29.92015878027877\n",
      "Precision  2 :  53.017727457260136\n",
      "Precision  3 :  69.18895755334024\n",
      "Precision  4 :  78.65713383553611\n",
      "Precision  5 :  84.73318598042312\n"
     ]
    },
    {
     "name": "stderr",
     "output_type": "stream",
     "text": [
      "/tmp/ipykernel_364/3673594883.py:248: DeprecationWarning: Conversion of an array with ndim > 0 to a scalar is deprecated, and will error in future. Ensure you extract a single element from your array before performing this operation. (Deprecated NumPy 1.25.)\n",
      "  rmse = math.sqrt(rmse)\n"
     ]
    },
    {
     "name": "stdout",
     "output_type": "stream",
     "text": [
      "4.345848527373156\n",
      "Subject combination : ['VP', 'AK', 'SD', 'PH', 'YC', 'JL', 'JS', 'PK', 'SOE', 'TH', 'VN']\n",
      "All Data Info: \n",
      "<class 'pandas.core.frame.DataFrame'>\n",
      "RangeIndex: 568773 entries, 0 to 568772\n",
      "Data columns (total 13 columns):\n",
      " #   Column         Non-Null Count   Dtype  \n",
      "---  ------         --------------   -----  \n",
      " 0   lcop           568773 non-null  float64\n",
      " 1   rcop           568773 non-null  float64\n",
      " 2   lgrf           568773 non-null  float64\n",
      " 3   rgrf           568773 non-null  float64\n",
      " 4   l_ph_hip       568773 non-null  float64\n",
      " 5   r_ph_hip       568773 non-null  float64\n",
      " 6   st_sw_phase_l  568773 non-null  float64\n",
      " 7   st_sw_phase_r  568773 non-null  float64\n",
      " 8   st_l_l         568773 non-null  float64\n",
      " 9   st_l_r         568773 non-null  float64\n",
      " 10  leg_len        568773 non-null  float64\n",
      " 11  weight         568773 non-null  float64\n",
      " 12  perc           568773 non-null  float64\n",
      "dtypes: float64(13)\n",
      "memory usage: 56.4 MB\n",
      "<class 'pandas.core.frame.DataFrame'>\n",
      "RangeIndex: 568773 entries, 0 to 568772\n",
      "Data columns (total 13 columns):\n",
      " #   Column         Non-Null Count   Dtype  \n",
      "---  ------         --------------   -----  \n",
      " 0   lcop           568773 non-null  float64\n",
      " 1   rcop           568773 non-null  float64\n",
      " 2   lgrf           568773 non-null  float64\n",
      " 3   rgrf           568773 non-null  float64\n",
      " 4   l_ph_hip       568773 non-null  float64\n",
      " 5   r_ph_hip       568773 non-null  float64\n",
      " 6   st_sw_phase_l  568773 non-null  float64\n",
      " 7   st_sw_phase_r  568773 non-null  float64\n",
      " 8   st_l_l         568773 non-null  float64\n",
      " 9   st_l_r         568773 non-null  float64\n",
      " 10  leg_len        568773 non-null  float64\n",
      " 11  weight         568773 non-null  float64\n",
      " 12  perc           568773 non-null  float64\n",
      "dtypes: float64(13)\n",
      "memory usage: 56.4 MB\n",
      "<class 'pandas.core.frame.DataFrame'>\n",
      "RangeIndex: 566022 entries, 0 to 566021\n",
      "Data columns (total 3 columns):\n",
      " #   Column    Non-Null Count   Dtype  \n",
      "---  ------    --------------   -----  \n",
      " 0   lcop      566022 non-null  float64\n",
      " 1   l_ph_hip  566022 non-null  float64\n",
      " 2   st_l_l    566022 non-null  float64\n",
      "dtypes: float64(3)\n",
      "memory usage: 13.0 MB\n",
      "Nan in train x at indices: []\n",
      "Nan in train y at indices: []\n",
      "(424505, 10, 3)\n",
      "(141495, 10, 3)\n",
      "SSS\n",
      "OKAY till here 1\n"
     ]
    },
    {
     "name": "stderr",
     "output_type": "stream",
     "text": [
      "/home/hikikomori/miniconda3/envs/clean_gait_phase/lib/python3.10/site-packages/keras/src/layers/convolutional/base_conv.py:99: UserWarning: Do not pass an `input_shape`/`input_dim` argument to a layer. When using Sequential models, prefer using an `Input(shape)` object as the first layer in the model instead.\n",
      "  super().__init__(\n"
     ]
    },
    {
     "data": {
      "text/html": [
       "<pre style=\"white-space:pre;overflow-x:auto;line-height:normal;font-family:Menlo,'DejaVu Sans Mono',consolas,'Courier New',monospace\"><span style=\"font-weight: bold\">Model: \"sequential_46\"</span>\n",
       "</pre>\n"
      ],
      "text/plain": [
       "\u001b[1mModel: \"sequential_46\"\u001b[0m\n"
      ]
     },
     "metadata": {},
     "output_type": "display_data"
    },
    {
     "data": {
      "text/html": [
       "<pre style=\"white-space:pre;overflow-x:auto;line-height:normal;font-family:Menlo,'DejaVu Sans Mono',consolas,'Courier New',monospace\">┏━━━━━━━━━━━━━━━━━━━━━━━━━━━━━━━━━┳━━━━━━━━━━━━━━━━━━━━━━━━━━━┳━━━━━━━━━━━━┓\n",
       "┃<span style=\"font-weight: bold\"> Layer (type)                    </span>┃<span style=\"font-weight: bold\"> Output Shape              </span>┃<span style=\"font-weight: bold\">    Param # </span>┃\n",
       "┡━━━━━━━━━━━━━━━━━━━━━━━━━━━━━━━━━╇━━━━━━━━━━━━━━━━━━━━━━━━━━━╇━━━━━━━━━━━━┩\n",
       "│ conv1d_92 (<span style=\"color: #0087ff; text-decoration-color: #0087ff\">Conv1D</span>)              │ (<span style=\"color: #00d7ff; text-decoration-color: #00d7ff\">None</span>, <span style=\"color: #00af00; text-decoration-color: #00af00\">8</span>, <span style=\"color: #00af00; text-decoration-color: #00af00\">100</span>)            │      <span style=\"color: #00af00; text-decoration-color: #00af00\">1,000</span> │\n",
       "├─────────────────────────────────┼───────────────────────────┼────────────┤\n",
       "│ max_pooling1d_92 (<span style=\"color: #0087ff; text-decoration-color: #0087ff\">MaxPooling1D</span>) │ (<span style=\"color: #00d7ff; text-decoration-color: #00d7ff\">None</span>, <span style=\"color: #00af00; text-decoration-color: #00af00\">6</span>, <span style=\"color: #00af00; text-decoration-color: #00af00\">100</span>)            │          <span style=\"color: #00af00; text-decoration-color: #00af00\">0</span> │\n",
       "├─────────────────────────────────┼───────────────────────────┼────────────┤\n",
       "│ dropout_92 (<span style=\"color: #0087ff; text-decoration-color: #0087ff\">Dropout</span>)            │ (<span style=\"color: #00d7ff; text-decoration-color: #00d7ff\">None</span>, <span style=\"color: #00af00; text-decoration-color: #00af00\">6</span>, <span style=\"color: #00af00; text-decoration-color: #00af00\">100</span>)            │          <span style=\"color: #00af00; text-decoration-color: #00af00\">0</span> │\n",
       "├─────────────────────────────────┼───────────────────────────┼────────────┤\n",
       "│ conv1d_93 (<span style=\"color: #0087ff; text-decoration-color: #0087ff\">Conv1D</span>)              │ (<span style=\"color: #00d7ff; text-decoration-color: #00d7ff\">None</span>, <span style=\"color: #00af00; text-decoration-color: #00af00\">5</span>, <span style=\"color: #00af00; text-decoration-color: #00af00\">32</span>)             │      <span style=\"color: #00af00; text-decoration-color: #00af00\">6,432</span> │\n",
       "├─────────────────────────────────┼───────────────────────────┼────────────┤\n",
       "│ max_pooling1d_93 (<span style=\"color: #0087ff; text-decoration-color: #0087ff\">MaxPooling1D</span>) │ (<span style=\"color: #00d7ff; text-decoration-color: #00d7ff\">None</span>, <span style=\"color: #00af00; text-decoration-color: #00af00\">4</span>, <span style=\"color: #00af00; text-decoration-color: #00af00\">32</span>)             │          <span style=\"color: #00af00; text-decoration-color: #00af00\">0</span> │\n",
       "├─────────────────────────────────┼───────────────────────────┼────────────┤\n",
       "│ dropout_93 (<span style=\"color: #0087ff; text-decoration-color: #0087ff\">Dropout</span>)            │ (<span style=\"color: #00d7ff; text-decoration-color: #00d7ff\">None</span>, <span style=\"color: #00af00; text-decoration-color: #00af00\">4</span>, <span style=\"color: #00af00; text-decoration-color: #00af00\">32</span>)             │          <span style=\"color: #00af00; text-decoration-color: #00af00\">0</span> │\n",
       "├─────────────────────────────────┼───────────────────────────┼────────────┤\n",
       "│ flatten_46 (<span style=\"color: #0087ff; text-decoration-color: #0087ff\">Flatten</span>)            │ (<span style=\"color: #00d7ff; text-decoration-color: #00d7ff\">None</span>, <span style=\"color: #00af00; text-decoration-color: #00af00\">128</span>)               │          <span style=\"color: #00af00; text-decoration-color: #00af00\">0</span> │\n",
       "├─────────────────────────────────┼───────────────────────────┼────────────┤\n",
       "│ dense_46 (<span style=\"color: #0087ff; text-decoration-color: #0087ff\">Dense</span>)                │ (<span style=\"color: #00d7ff; text-decoration-color: #00d7ff\">None</span>, <span style=\"color: #00af00; text-decoration-color: #00af00\">2</span>)                 │        <span style=\"color: #00af00; text-decoration-color: #00af00\">258</span> │\n",
       "└─────────────────────────────────┴───────────────────────────┴────────────┘\n",
       "</pre>\n"
      ],
      "text/plain": [
       "┏━━━━━━━━━━━━━━━━━━━━━━━━━━━━━━━━━┳━━━━━━━━━━━━━━━━━━━━━━━━━━━┳━━━━━━━━━━━━┓\n",
       "┃\u001b[1m \u001b[0m\u001b[1mLayer (type)                   \u001b[0m\u001b[1m \u001b[0m┃\u001b[1m \u001b[0m\u001b[1mOutput Shape             \u001b[0m\u001b[1m \u001b[0m┃\u001b[1m \u001b[0m\u001b[1m   Param #\u001b[0m\u001b[1m \u001b[0m┃\n",
       "┡━━━━━━━━━━━━━━━━━━━━━━━━━━━━━━━━━╇━━━━━━━━━━━━━━━━━━━━━━━━━━━╇━━━━━━━━━━━━┩\n",
       "│ conv1d_92 (\u001b[38;5;33mConv1D\u001b[0m)              │ (\u001b[38;5;45mNone\u001b[0m, \u001b[38;5;34m8\u001b[0m, \u001b[38;5;34m100\u001b[0m)            │      \u001b[38;5;34m1,000\u001b[0m │\n",
       "├─────────────────────────────────┼───────────────────────────┼────────────┤\n",
       "│ max_pooling1d_92 (\u001b[38;5;33mMaxPooling1D\u001b[0m) │ (\u001b[38;5;45mNone\u001b[0m, \u001b[38;5;34m6\u001b[0m, \u001b[38;5;34m100\u001b[0m)            │          \u001b[38;5;34m0\u001b[0m │\n",
       "├─────────────────────────────────┼───────────────────────────┼────────────┤\n",
       "│ dropout_92 (\u001b[38;5;33mDropout\u001b[0m)            │ (\u001b[38;5;45mNone\u001b[0m, \u001b[38;5;34m6\u001b[0m, \u001b[38;5;34m100\u001b[0m)            │          \u001b[38;5;34m0\u001b[0m │\n",
       "├─────────────────────────────────┼───────────────────────────┼────────────┤\n",
       "│ conv1d_93 (\u001b[38;5;33mConv1D\u001b[0m)              │ (\u001b[38;5;45mNone\u001b[0m, \u001b[38;5;34m5\u001b[0m, \u001b[38;5;34m32\u001b[0m)             │      \u001b[38;5;34m6,432\u001b[0m │\n",
       "├─────────────────────────────────┼───────────────────────────┼────────────┤\n",
       "│ max_pooling1d_93 (\u001b[38;5;33mMaxPooling1D\u001b[0m) │ (\u001b[38;5;45mNone\u001b[0m, \u001b[38;5;34m4\u001b[0m, \u001b[38;5;34m32\u001b[0m)             │          \u001b[38;5;34m0\u001b[0m │\n",
       "├─────────────────────────────────┼───────────────────────────┼────────────┤\n",
       "│ dropout_93 (\u001b[38;5;33mDropout\u001b[0m)            │ (\u001b[38;5;45mNone\u001b[0m, \u001b[38;5;34m4\u001b[0m, \u001b[38;5;34m32\u001b[0m)             │          \u001b[38;5;34m0\u001b[0m │\n",
       "├─────────────────────────────────┼───────────────────────────┼────────────┤\n",
       "│ flatten_46 (\u001b[38;5;33mFlatten\u001b[0m)            │ (\u001b[38;5;45mNone\u001b[0m, \u001b[38;5;34m128\u001b[0m)               │          \u001b[38;5;34m0\u001b[0m │\n",
       "├─────────────────────────────────┼───────────────────────────┼────────────┤\n",
       "│ dense_46 (\u001b[38;5;33mDense\u001b[0m)                │ (\u001b[38;5;45mNone\u001b[0m, \u001b[38;5;34m2\u001b[0m)                 │        \u001b[38;5;34m258\u001b[0m │\n",
       "└─────────────────────────────────┴───────────────────────────┴────────────┘\n"
      ]
     },
     "metadata": {},
     "output_type": "display_data"
    },
    {
     "data": {
      "text/html": [
       "<pre style=\"white-space:pre;overflow-x:auto;line-height:normal;font-family:Menlo,'DejaVu Sans Mono',consolas,'Courier New',monospace\"><span style=\"font-weight: bold\"> Total params: </span><span style=\"color: #00af00; text-decoration-color: #00af00\">7,690</span> (30.04 KB)\n",
       "</pre>\n"
      ],
      "text/plain": [
       "\u001b[1m Total params: \u001b[0m\u001b[38;5;34m7,690\u001b[0m (30.04 KB)\n"
      ]
     },
     "metadata": {},
     "output_type": "display_data"
    },
    {
     "data": {
      "text/html": [
       "<pre style=\"white-space:pre;overflow-x:auto;line-height:normal;font-family:Menlo,'DejaVu Sans Mono',consolas,'Courier New',monospace\"><span style=\"font-weight: bold\"> Trainable params: </span><span style=\"color: #00af00; text-decoration-color: #00af00\">7,690</span> (30.04 KB)\n",
       "</pre>\n"
      ],
      "text/plain": [
       "\u001b[1m Trainable params: \u001b[0m\u001b[38;5;34m7,690\u001b[0m (30.04 KB)\n"
      ]
     },
     "metadata": {},
     "output_type": "display_data"
    },
    {
     "data": {
      "text/html": [
       "<pre style=\"white-space:pre;overflow-x:auto;line-height:normal;font-family:Menlo,'DejaVu Sans Mono',consolas,'Courier New',monospace\"><span style=\"font-weight: bold\"> Non-trainable params: </span><span style=\"color: #00af00; text-decoration-color: #00af00\">0</span> (0.00 B)\n",
       "</pre>\n"
      ],
      "text/plain": [
       "\u001b[1m Non-trainable params: \u001b[0m\u001b[38;5;34m0\u001b[0m (0.00 B)\n"
      ]
     },
     "metadata": {},
     "output_type": "display_data"
    },
    {
     "name": "stdout",
     "output_type": "stream",
     "text": [
      "None\n",
      "Epoch 1/30\n",
      "\u001b[1m13266/13266\u001b[0m \u001b[32m━━━━━━━━━━━━━━━━━━━━\u001b[0m\u001b[37m\u001b[0m \u001b[1m78s\u001b[0m 6ms/step - accuracy: 0.9573 - loss: 0.0294 - mae: 0.1223 - mse: 0.0294\n",
      "Epoch 2/30\n",
      "\u001b[1m13266/13266\u001b[0m \u001b[32m━━━━━━━━━━━━━━━━━━━━\u001b[0m\u001b[37m\u001b[0m \u001b[1m73s\u001b[0m 5ms/step - accuracy: 0.9657 - loss: 0.0157 - mae: 0.0944 - mse: 0.0157\n",
      "Epoch 3/30\n",
      "\u001b[1m13266/13266\u001b[0m \u001b[32m━━━━━━━━━━━━━━━━━━━━\u001b[0m\u001b[37m\u001b[0m \u001b[1m74s\u001b[0m 6ms/step - accuracy: 0.9657 - loss: 0.0156 - mae: 0.0939 - mse: 0.0156\n",
      "Epoch 4/30\n",
      "\u001b[1m13266/13266\u001b[0m \u001b[32m━━━━━━━━━━━━━━━━━━━━\u001b[0m\u001b[37m\u001b[0m \u001b[1m74s\u001b[0m 6ms/step - accuracy: 0.9654 - loss: 0.0155 - mae: 0.0937 - mse: 0.0155\n",
      "Epoch 5/30\n",
      "\u001b[1m13266/13266\u001b[0m \u001b[32m━━━━━━━━━━━━━━━━━━━━\u001b[0m\u001b[37m\u001b[0m \u001b[1m73s\u001b[0m 5ms/step - accuracy: 0.9655 - loss: 0.0156 - mae: 0.0939 - mse: 0.0156\n",
      "Epoch 6/30\n",
      "\u001b[1m13266/13266\u001b[0m \u001b[32m━━━━━━━━━━━━━━━━━━━━\u001b[0m\u001b[37m\u001b[0m \u001b[1m75s\u001b[0m 6ms/step - accuracy: 0.9657 - loss: 0.0155 - mae: 0.0937 - mse: 0.0155\n",
      "Epoch 6: early stopping\n",
      "validation_x shape (141495, 10, 3)\n",
      "\u001b[1m4422/4422\u001b[0m \u001b[32m━━━━━━━━━━━━━━━━━━━━\u001b[0m\u001b[37m\u001b[0m \u001b[1m6s\u001b[0m 1ms/step\n",
      "(141495, 2)\n",
      "(141495, 2)\n",
      "Precision  1 :  35.601964733736175\n",
      "Precision  2 :  64.04254567299198\n",
      "Precision  3 :  81.38874165164847\n",
      "Precision  4 :  90.21802890561504\n",
      "Precision  5 :  94.47188946605887\n"
     ]
    },
    {
     "name": "stderr",
     "output_type": "stream",
     "text": [
      "/tmp/ipykernel_364/3673594883.py:248: DeprecationWarning: Conversion of an array with ndim > 0 to a scalar is deprecated, and will error in future. Ensure you extract a single element from your array before performing this operation. (Deprecated NumPy 1.25.)\n",
      "  rmse = math.sqrt(rmse)\n"
     ]
    },
    {
     "name": "stdout",
     "output_type": "stream",
     "text": [
      "2.4707556650552314\n",
      "testing on : SKS\n",
      "<class 'pandas.core.frame.DataFrame'>\n",
      "RangeIndex: 58285 entries, 0 to 58284\n",
      "Data columns (total 13 columns):\n",
      " #   Column         Non-Null Count  Dtype  \n",
      "---  ------         --------------  -----  \n",
      " 0   lcop           58285 non-null  float64\n",
      " 1   rcop           58285 non-null  float64\n",
      " 2   lgrf           58285 non-null  float64\n",
      " 3   rgrf           58285 non-null  float64\n",
      " 4   l_ph_hip       58285 non-null  float64\n",
      " 5   r_ph_hip       58285 non-null  float64\n",
      " 6   st_sw_phase_l  58285 non-null  float64\n",
      " 7   st_sw_phase_r  58285 non-null  float64\n",
      " 8   st_l_l         58285 non-null  float64\n",
      " 9   st_l_r         58285 non-null  float64\n",
      " 10  leg_len        58285 non-null  float64\n",
      " 11  weight         58285 non-null  float64\n",
      " 12  perc           58285 non-null  float64\n",
      "dtypes: float64(13)\n",
      "memory usage: 5.8 MB\n",
      "<class 'pandas.core.frame.DataFrame'>\n",
      "RangeIndex: 57802 entries, 0 to 57801\n",
      "Data columns (total 3 columns):\n",
      " #   Column    Non-Null Count  Dtype  \n",
      "---  ------    --------------  -----  \n",
      " 0   lcop      57802 non-null  float64\n",
      " 1   l_ph_hip  57802 non-null  float64\n",
      " 2   st_l_l    57802 non-null  float64\n",
      "dtypes: float64(3)\n",
      "memory usage: 1.3 MB\n",
      "validation_x shape (43340, 10, 3)\n",
      "\u001b[1m1355/1355\u001b[0m \u001b[32m━━━━━━━━━━━━━━━━━━━━\u001b[0m\u001b[37m\u001b[0m \u001b[1m2s\u001b[0m 1ms/step\n",
      "(43340, 2)\n",
      "(43340, 2)\n",
      "Precision  1 :  24.697738809413938\n",
      "Precision  2 :  49.33779418550992\n",
      "Precision  3 :  68.98707891093677\n",
      "Precision  4 :  81.28749423165667\n",
      "Precision  5 :  88.6063682510383\n"
     ]
    },
    {
     "name": "stderr",
     "output_type": "stream",
     "text": [
      "/tmp/ipykernel_364/3673594883.py:248: DeprecationWarning: Conversion of an array with ndim > 0 to a scalar is deprecated, and will error in future. Ensure you extract a single element from your array before performing this operation. (Deprecated NumPy 1.25.)\n",
      "  rmse = math.sqrt(rmse)\n"
     ]
    },
    {
     "name": "stdout",
     "output_type": "stream",
     "text": [
      "3.0527977975772718\n",
      "Subject combination : ['VP', 'AK', 'SD', 'PH', 'YC', 'JL', 'JS', 'PK', 'SOE', 'TH', 'SKS']\n",
      "All Data Info: \n",
      "<class 'pandas.core.frame.DataFrame'>\n",
      "RangeIndex: 571246 entries, 0 to 571245\n",
      "Data columns (total 13 columns):\n",
      " #   Column         Non-Null Count   Dtype  \n",
      "---  ------         --------------   -----  \n",
      " 0   lcop           571246 non-null  float64\n",
      " 1   rcop           571246 non-null  float64\n",
      " 2   lgrf           571246 non-null  float64\n",
      " 3   rgrf           571246 non-null  float64\n",
      " 4   l_ph_hip       571246 non-null  float64\n",
      " 5   r_ph_hip       571246 non-null  float64\n",
      " 6   st_sw_phase_l  571246 non-null  float64\n",
      " 7   st_sw_phase_r  571246 non-null  float64\n",
      " 8   st_l_l         571246 non-null  float64\n",
      " 9   st_l_r         571246 non-null  float64\n",
      " 10  leg_len        571246 non-null  float64\n",
      " 11  weight         571246 non-null  float64\n",
      " 12  perc           571246 non-null  float64\n",
      "dtypes: float64(13)\n",
      "memory usage: 56.7 MB\n",
      "<class 'pandas.core.frame.DataFrame'>\n",
      "RangeIndex: 571246 entries, 0 to 571245\n",
      "Data columns (total 13 columns):\n",
      " #   Column         Non-Null Count   Dtype  \n",
      "---  ------         --------------   -----  \n",
      " 0   lcop           571246 non-null  float64\n",
      " 1   rcop           571246 non-null  float64\n",
      " 2   lgrf           571246 non-null  float64\n",
      " 3   rgrf           571246 non-null  float64\n",
      " 4   l_ph_hip       571246 non-null  float64\n",
      " 5   r_ph_hip       571246 non-null  float64\n",
      " 6   st_sw_phase_l  571246 non-null  float64\n",
      " 7   st_sw_phase_r  571246 non-null  float64\n",
      " 8   st_l_l         571246 non-null  float64\n",
      " 9   st_l_r         571246 non-null  float64\n",
      " 10  leg_len        571246 non-null  float64\n",
      " 11  weight         571246 non-null  float64\n",
      " 12  perc           571246 non-null  float64\n",
      "dtypes: float64(13)\n",
      "memory usage: 56.7 MB\n",
      "<class 'pandas.core.frame.DataFrame'>\n",
      "RangeIndex: 568460 entries, 0 to 568459\n",
      "Data columns (total 3 columns):\n",
      " #   Column    Non-Null Count   Dtype  \n",
      "---  ------    --------------   -----  \n",
      " 0   lcop      568460 non-null  float64\n",
      " 1   l_ph_hip  568460 non-null  float64\n",
      " 2   st_l_l    568460 non-null  float64\n",
      "dtypes: float64(3)\n",
      "memory usage: 13.0 MB\n",
      "Nan in train x at indices: []\n",
      "Nan in train y at indices: []\n",
      "(426334, 10, 3)\n",
      "(142104, 10, 3)\n",
      "SSS\n",
      "OKAY till here 1\n"
     ]
    },
    {
     "name": "stderr",
     "output_type": "stream",
     "text": [
      "/home/hikikomori/miniconda3/envs/clean_gait_phase/lib/python3.10/site-packages/keras/src/layers/convolutional/base_conv.py:99: UserWarning: Do not pass an `input_shape`/`input_dim` argument to a layer. When using Sequential models, prefer using an `Input(shape)` object as the first layer in the model instead.\n",
      "  super().__init__(\n"
     ]
    },
    {
     "data": {
      "text/html": [
       "<pre style=\"white-space:pre;overflow-x:auto;line-height:normal;font-family:Menlo,'DejaVu Sans Mono',consolas,'Courier New',monospace\"><span style=\"font-weight: bold\">Model: \"sequential_47\"</span>\n",
       "</pre>\n"
      ],
      "text/plain": [
       "\u001b[1mModel: \"sequential_47\"\u001b[0m\n"
      ]
     },
     "metadata": {},
     "output_type": "display_data"
    },
    {
     "data": {
      "text/html": [
       "<pre style=\"white-space:pre;overflow-x:auto;line-height:normal;font-family:Menlo,'DejaVu Sans Mono',consolas,'Courier New',monospace\">┏━━━━━━━━━━━━━━━━━━━━━━━━━━━━━━━━━┳━━━━━━━━━━━━━━━━━━━━━━━━━━━┳━━━━━━━━━━━━┓\n",
       "┃<span style=\"font-weight: bold\"> Layer (type)                    </span>┃<span style=\"font-weight: bold\"> Output Shape              </span>┃<span style=\"font-weight: bold\">    Param # </span>┃\n",
       "┡━━━━━━━━━━━━━━━━━━━━━━━━━━━━━━━━━╇━━━━━━━━━━━━━━━━━━━━━━━━━━━╇━━━━━━━━━━━━┩\n",
       "│ conv1d_94 (<span style=\"color: #0087ff; text-decoration-color: #0087ff\">Conv1D</span>)              │ (<span style=\"color: #00d7ff; text-decoration-color: #00d7ff\">None</span>, <span style=\"color: #00af00; text-decoration-color: #00af00\">8</span>, <span style=\"color: #00af00; text-decoration-color: #00af00\">100</span>)            │      <span style=\"color: #00af00; text-decoration-color: #00af00\">1,000</span> │\n",
       "├─────────────────────────────────┼───────────────────────────┼────────────┤\n",
       "│ max_pooling1d_94 (<span style=\"color: #0087ff; text-decoration-color: #0087ff\">MaxPooling1D</span>) │ (<span style=\"color: #00d7ff; text-decoration-color: #00d7ff\">None</span>, <span style=\"color: #00af00; text-decoration-color: #00af00\">6</span>, <span style=\"color: #00af00; text-decoration-color: #00af00\">100</span>)            │          <span style=\"color: #00af00; text-decoration-color: #00af00\">0</span> │\n",
       "├─────────────────────────────────┼───────────────────────────┼────────────┤\n",
       "│ dropout_94 (<span style=\"color: #0087ff; text-decoration-color: #0087ff\">Dropout</span>)            │ (<span style=\"color: #00d7ff; text-decoration-color: #00d7ff\">None</span>, <span style=\"color: #00af00; text-decoration-color: #00af00\">6</span>, <span style=\"color: #00af00; text-decoration-color: #00af00\">100</span>)            │          <span style=\"color: #00af00; text-decoration-color: #00af00\">0</span> │\n",
       "├─────────────────────────────────┼───────────────────────────┼────────────┤\n",
       "│ conv1d_95 (<span style=\"color: #0087ff; text-decoration-color: #0087ff\">Conv1D</span>)              │ (<span style=\"color: #00d7ff; text-decoration-color: #00d7ff\">None</span>, <span style=\"color: #00af00; text-decoration-color: #00af00\">5</span>, <span style=\"color: #00af00; text-decoration-color: #00af00\">32</span>)             │      <span style=\"color: #00af00; text-decoration-color: #00af00\">6,432</span> │\n",
       "├─────────────────────────────────┼───────────────────────────┼────────────┤\n",
       "│ max_pooling1d_95 (<span style=\"color: #0087ff; text-decoration-color: #0087ff\">MaxPooling1D</span>) │ (<span style=\"color: #00d7ff; text-decoration-color: #00d7ff\">None</span>, <span style=\"color: #00af00; text-decoration-color: #00af00\">4</span>, <span style=\"color: #00af00; text-decoration-color: #00af00\">32</span>)             │          <span style=\"color: #00af00; text-decoration-color: #00af00\">0</span> │\n",
       "├─────────────────────────────────┼───────────────────────────┼────────────┤\n",
       "│ dropout_95 (<span style=\"color: #0087ff; text-decoration-color: #0087ff\">Dropout</span>)            │ (<span style=\"color: #00d7ff; text-decoration-color: #00d7ff\">None</span>, <span style=\"color: #00af00; text-decoration-color: #00af00\">4</span>, <span style=\"color: #00af00; text-decoration-color: #00af00\">32</span>)             │          <span style=\"color: #00af00; text-decoration-color: #00af00\">0</span> │\n",
       "├─────────────────────────────────┼───────────────────────────┼────────────┤\n",
       "│ flatten_47 (<span style=\"color: #0087ff; text-decoration-color: #0087ff\">Flatten</span>)            │ (<span style=\"color: #00d7ff; text-decoration-color: #00d7ff\">None</span>, <span style=\"color: #00af00; text-decoration-color: #00af00\">128</span>)               │          <span style=\"color: #00af00; text-decoration-color: #00af00\">0</span> │\n",
       "├─────────────────────────────────┼───────────────────────────┼────────────┤\n",
       "│ dense_47 (<span style=\"color: #0087ff; text-decoration-color: #0087ff\">Dense</span>)                │ (<span style=\"color: #00d7ff; text-decoration-color: #00d7ff\">None</span>, <span style=\"color: #00af00; text-decoration-color: #00af00\">2</span>)                 │        <span style=\"color: #00af00; text-decoration-color: #00af00\">258</span> │\n",
       "└─────────────────────────────────┴───────────────────────────┴────────────┘\n",
       "</pre>\n"
      ],
      "text/plain": [
       "┏━━━━━━━━━━━━━━━━━━━━━━━━━━━━━━━━━┳━━━━━━━━━━━━━━━━━━━━━━━━━━━┳━━━━━━━━━━━━┓\n",
       "┃\u001b[1m \u001b[0m\u001b[1mLayer (type)                   \u001b[0m\u001b[1m \u001b[0m┃\u001b[1m \u001b[0m\u001b[1mOutput Shape             \u001b[0m\u001b[1m \u001b[0m┃\u001b[1m \u001b[0m\u001b[1m   Param #\u001b[0m\u001b[1m \u001b[0m┃\n",
       "┡━━━━━━━━━━━━━━━━━━━━━━━━━━━━━━━━━╇━━━━━━━━━━━━━━━━━━━━━━━━━━━╇━━━━━━━━━━━━┩\n",
       "│ conv1d_94 (\u001b[38;5;33mConv1D\u001b[0m)              │ (\u001b[38;5;45mNone\u001b[0m, \u001b[38;5;34m8\u001b[0m, \u001b[38;5;34m100\u001b[0m)            │      \u001b[38;5;34m1,000\u001b[0m │\n",
       "├─────────────────────────────────┼───────────────────────────┼────────────┤\n",
       "│ max_pooling1d_94 (\u001b[38;5;33mMaxPooling1D\u001b[0m) │ (\u001b[38;5;45mNone\u001b[0m, \u001b[38;5;34m6\u001b[0m, \u001b[38;5;34m100\u001b[0m)            │          \u001b[38;5;34m0\u001b[0m │\n",
       "├─────────────────────────────────┼───────────────────────────┼────────────┤\n",
       "│ dropout_94 (\u001b[38;5;33mDropout\u001b[0m)            │ (\u001b[38;5;45mNone\u001b[0m, \u001b[38;5;34m6\u001b[0m, \u001b[38;5;34m100\u001b[0m)            │          \u001b[38;5;34m0\u001b[0m │\n",
       "├─────────────────────────────────┼───────────────────────────┼────────────┤\n",
       "│ conv1d_95 (\u001b[38;5;33mConv1D\u001b[0m)              │ (\u001b[38;5;45mNone\u001b[0m, \u001b[38;5;34m5\u001b[0m, \u001b[38;5;34m32\u001b[0m)             │      \u001b[38;5;34m6,432\u001b[0m │\n",
       "├─────────────────────────────────┼───────────────────────────┼────────────┤\n",
       "│ max_pooling1d_95 (\u001b[38;5;33mMaxPooling1D\u001b[0m) │ (\u001b[38;5;45mNone\u001b[0m, \u001b[38;5;34m4\u001b[0m, \u001b[38;5;34m32\u001b[0m)             │          \u001b[38;5;34m0\u001b[0m │\n",
       "├─────────────────────────────────┼───────────────────────────┼────────────┤\n",
       "│ dropout_95 (\u001b[38;5;33mDropout\u001b[0m)            │ (\u001b[38;5;45mNone\u001b[0m, \u001b[38;5;34m4\u001b[0m, \u001b[38;5;34m32\u001b[0m)             │          \u001b[38;5;34m0\u001b[0m │\n",
       "├─────────────────────────────────┼───────────────────────────┼────────────┤\n",
       "│ flatten_47 (\u001b[38;5;33mFlatten\u001b[0m)            │ (\u001b[38;5;45mNone\u001b[0m, \u001b[38;5;34m128\u001b[0m)               │          \u001b[38;5;34m0\u001b[0m │\n",
       "├─────────────────────────────────┼───────────────────────────┼────────────┤\n",
       "│ dense_47 (\u001b[38;5;33mDense\u001b[0m)                │ (\u001b[38;5;45mNone\u001b[0m, \u001b[38;5;34m2\u001b[0m)                 │        \u001b[38;5;34m258\u001b[0m │\n",
       "└─────────────────────────────────┴───────────────────────────┴────────────┘\n"
      ]
     },
     "metadata": {},
     "output_type": "display_data"
    },
    {
     "data": {
      "text/html": [
       "<pre style=\"white-space:pre;overflow-x:auto;line-height:normal;font-family:Menlo,'DejaVu Sans Mono',consolas,'Courier New',monospace\"><span style=\"font-weight: bold\"> Total params: </span><span style=\"color: #00af00; text-decoration-color: #00af00\">7,690</span> (30.04 KB)\n",
       "</pre>\n"
      ],
      "text/plain": [
       "\u001b[1m Total params: \u001b[0m\u001b[38;5;34m7,690\u001b[0m (30.04 KB)\n"
      ]
     },
     "metadata": {},
     "output_type": "display_data"
    },
    {
     "data": {
      "text/html": [
       "<pre style=\"white-space:pre;overflow-x:auto;line-height:normal;font-family:Menlo,'DejaVu Sans Mono',consolas,'Courier New',monospace\"><span style=\"font-weight: bold\"> Trainable params: </span><span style=\"color: #00af00; text-decoration-color: #00af00\">7,690</span> (30.04 KB)\n",
       "</pre>\n"
      ],
      "text/plain": [
       "\u001b[1m Trainable params: \u001b[0m\u001b[38;5;34m7,690\u001b[0m (30.04 KB)\n"
      ]
     },
     "metadata": {},
     "output_type": "display_data"
    },
    {
     "data": {
      "text/html": [
       "<pre style=\"white-space:pre;overflow-x:auto;line-height:normal;font-family:Menlo,'DejaVu Sans Mono',consolas,'Courier New',monospace\"><span style=\"font-weight: bold\"> Non-trainable params: </span><span style=\"color: #00af00; text-decoration-color: #00af00\">0</span> (0.00 B)\n",
       "</pre>\n"
      ],
      "text/plain": [
       "\u001b[1m Non-trainable params: \u001b[0m\u001b[38;5;34m0\u001b[0m (0.00 B)\n"
      ]
     },
     "metadata": {},
     "output_type": "display_data"
    },
    {
     "name": "stdout",
     "output_type": "stream",
     "text": [
      "None\n",
      "Epoch 1/30\n",
      "\u001b[1m13323/13323\u001b[0m \u001b[32m━━━━━━━━━━━━━━━━━━━━\u001b[0m\u001b[37m\u001b[0m \u001b[1m80s\u001b[0m 6ms/step - accuracy: 0.9573 - loss: 0.0289 - mae: 0.1218 - mse: 0.0289\n",
      "Epoch 2/30\n",
      "\u001b[1m13323/13323\u001b[0m \u001b[32m━━━━━━━━━━━━━━━━━━━━\u001b[0m\u001b[37m\u001b[0m \u001b[1m71s\u001b[0m 5ms/step - accuracy: 0.9670 - loss: 0.0164 - mae: 0.0956 - mse: 0.0164\n",
      "Epoch 3/30\n",
      "\u001b[1m13323/13323\u001b[0m \u001b[32m━━━━━━━━━━━━━━━━━━━━\u001b[0m\u001b[37m\u001b[0m \u001b[1m73s\u001b[0m 5ms/step - accuracy: 0.9660 - loss: 0.0163 - mae: 0.0951 - mse: 0.0163\n",
      "Epoch 4/30\n",
      "\u001b[1m13323/13323\u001b[0m \u001b[32m━━━━━━━━━━━━━━━━━━━━\u001b[0m\u001b[37m\u001b[0m \u001b[1m74s\u001b[0m 6ms/step - accuracy: 0.9675 - loss: 0.0161 - mae: 0.0947 - mse: 0.0161\n",
      "Epoch 5/30\n",
      "\u001b[1m13323/13323\u001b[0m \u001b[32m━━━━━━━━━━━━━━━━━━━━\u001b[0m\u001b[37m\u001b[0m \u001b[1m75s\u001b[0m 6ms/step - accuracy: 0.9667 - loss: 0.0162 - mae: 0.0949 - mse: 0.0162\n",
      "Epoch 6/30\n",
      "\u001b[1m13323/13323\u001b[0m \u001b[32m━━━━━━━━━━━━━━━━━━━━\u001b[0m\u001b[37m\u001b[0m \u001b[1m75s\u001b[0m 6ms/step - accuracy: 0.9664 - loss: 0.0163 - mae: 0.0951 - mse: 0.0163\n",
      "Epoch 6: early stopping\n",
      "validation_x shape (142104, 10, 3)\n",
      "\u001b[1m4441/4441\u001b[0m \u001b[32m━━━━━━━━━━━━━━━━━━━━\u001b[0m\u001b[37m\u001b[0m \u001b[1m6s\u001b[0m 1ms/step\n",
      "(142104, 2)\n",
      "(142104, 2)\n",
      "Precision  1 :  35.52327872544052\n",
      "Precision  2 :  63.19174688960198\n",
      "Precision  3 :  80.49386364915836\n",
      "Precision  4 :  89.66320441366886\n",
      "Precision  5 :  94.17750380003378\n"
     ]
    },
    {
     "name": "stderr",
     "output_type": "stream",
     "text": [
      "/tmp/ipykernel_364/3673594883.py:248: DeprecationWarning: Conversion of an array with ndim > 0 to a scalar is deprecated, and will error in future. Ensure you extract a single element from your array before performing this operation. (Deprecated NumPy 1.25.)\n",
      "  rmse = math.sqrt(rmse)\n"
     ]
    },
    {
     "name": "stdout",
     "output_type": "stream",
     "text": [
      "2.654599538340664\n",
      "testing on : VN\n",
      "<class 'pandas.core.frame.DataFrame'>\n",
      "RangeIndex: 55812 entries, 0 to 55811\n",
      "Data columns (total 13 columns):\n",
      " #   Column         Non-Null Count  Dtype  \n",
      "---  ------         --------------  -----  \n",
      " 0   lcop           55812 non-null  float64\n",
      " 1   rcop           55812 non-null  float64\n",
      " 2   lgrf           55812 non-null  float64\n",
      " 3   rgrf           55812 non-null  float64\n",
      " 4   l_ph_hip       55812 non-null  float64\n",
      " 5   r_ph_hip       55812 non-null  float64\n",
      " 6   st_sw_phase_l  55812 non-null  float64\n",
      " 7   st_sw_phase_r  55812 non-null  float64\n",
      " 8   st_l_l         55812 non-null  float64\n",
      " 9   st_l_r         55812 non-null  float64\n",
      " 10  leg_len        55812 non-null  float64\n",
      " 11  weight         55812 non-null  float64\n",
      " 12  perc           55812 non-null  float64\n",
      "dtypes: float64(13)\n",
      "memory usage: 5.5 MB\n",
      "<class 'pandas.core.frame.DataFrame'>\n",
      "RangeIndex: 55357 entries, 0 to 55356\n",
      "Data columns (total 3 columns):\n",
      " #   Column    Non-Null Count  Dtype  \n",
      "---  ------    --------------  -----  \n",
      " 0   lcop      55357 non-null  float64\n",
      " 1   l_ph_hip  55357 non-null  float64\n",
      " 2   st_l_l    55357 non-null  float64\n",
      "dtypes: float64(3)\n",
      "memory usage: 1.3 MB\n",
      "validation_x shape (41506, 10, 3)\n",
      "\u001b[1m1298/1298\u001b[0m \u001b[32m━━━━━━━━━━━━━━━━━━━━\u001b[0m\u001b[37m\u001b[0m \u001b[1m2s\u001b[0m 2ms/step\n",
      "(41506, 2)\n",
      "(41506, 2)\n",
      "Precision  1 :  32.816942128848844\n",
      "Precision  2 :  58.59875680624488\n",
      "Precision  3 :  77.59360092516745\n",
      "Precision  4 :  87.62347612393388\n",
      "Precision  5 :  93.47082349539825\n"
     ]
    },
    {
     "name": "stderr",
     "output_type": "stream",
     "text": [
      "/tmp/ipykernel_364/3673594883.py:248: DeprecationWarning: Conversion of an array with ndim > 0 to a scalar is deprecated, and will error in future. Ensure you extract a single element from your array before performing this operation. (Deprecated NumPy 1.25.)\n",
      "  rmse = math.sqrt(rmse)\n"
     ]
    },
    {
     "name": "stdout",
     "output_type": "stream",
     "text": [
      "2.858013270136361\n"
     ]
    },
    {
     "data": {
      "image/png": "[encoded data removed]",
      "text/plain": [
       "<Figure size 640x480 with 1 Axes>"
      ]
     },
     "metadata": {},
     "output_type": "display_data"
    }
   ],
   "source": [
    "file_names = ['JL_I_0_new_.xlsx', 'JL_I_2_new_.xlsx','JL_I_3_new_.xlsx','JL_I_5_new_.xlsx','JL_I_4_new_.xlsx',\n",
    "              'JS_I_1_new_.xlsx', 'JS_I_2_new_.xlsx','JS_I_3_new_.xlsx','JS_I_5_new_.xlsx','JS_I_4_new_.xlsx',\n",
    "              'AK_I_0_new_.xlsx', 'AK_I_2_new_.xlsx','AK_I_3_new_.xlsx','AK_I_5_new_.xlsx','AK_I_4_new_.xlsx',\n",
    "              'VN_I_0_new_.xlsx', 'VN_I_2_new_.xlsx','VN_I_3_new_.xlsx','VN_I_5_new_.xlsx','VN_I_4_new_.xlsx',\n",
    "              'VP_I_0_new_.xlsx', 'VP_I_2_new_.xlsx','VP_I_3_new_.xlsx','VP_I_5_new_.xlsx','VP_I_4_new_.xlsx',\n",
    "             'SOE_I_0_new_.xlsx', 'SOE_I_2_new_.xlsx','SOE_I_3_new_.xlsx','SOE_I_5_new_.xlsx', 'SOE_I_4_new_.xlsx', 'SD_I_3_new_.xlsx', 'SD_I_4_new_.xlsx','SD_I_5_new_.xlsx',\n",
    "             'SD_I_1_new_.xlsx','SD_I_2_new_.xlsx','TH_I_0_new_.xlsx', 'TH_I_2_new_.xlsx', 'TH_I_3_new_.xlsx','TH_I_4_new_.xlsx', 'TH_I_5_new_.xlsx'\n",
    "             ,'PK_I_0_new_.xlsx', 'PK_I_2_new_.xlsx', 'PK_I_3_new_.xlsx','PK_I_5_new_.xlsx',\n",
    "              'SKS_0_I_new_.xlsx', 'SKS_2_I_new_.xlsx','SKS_3_I_new_.xlsx','SKS_4_I_new_.xlsx','SKS_5_I_new_.xlsx',\n",
    "            'PH_I_0_new_.xlsx',  'PH_I_2_new_.xlsx',  'PH_I_3_new_.xlsx',  'PH_I_4_new_.xlsx',  'PH_I_5_new_.xlsx',\n",
    "            'YC_I_0_new_.xlsx',  'YC_I_2_new_.xlsx',  'YC_I_3_new_.xlsx',  'YC_I_4_new_.xlsx',  'YC_I_5_new_.xlsx'\n",
    "              ]\n",
    "subject_dict = {'VN':[0.90,0.63],'AK':[0.80,0.57],'JS':[0.89,0.64],'JL':[0.79,0.63],'SKS':[0.83, 0.58],'VP':[0.93, 0.77],'SOE':[0.90, 0.83],\n",
    "                'SD':[0.83, 0.70], 'TH':[0.66, 0.52], 'PK':[0.90, 0.88], 'PH':[0.95,0.80], 'YC':[0.82,0.79]}\n",
    "subject_names = ['VP','AK', 'SD','PH', 'YC','JL','JS', 'PK', 'SOE', 'TH','SKS', 'VN']#,'VN','AK' 'SOE'\n",
    "sub_comb_list=[]\n",
    "test_sub_list=[]\n",
    "acc_list=[]\n",
    "rmse_list=[]\n",
    "test_acc_list=[]\n",
    "test_rmse_list=[]\n",
    "\n",
    "\n",
    "#path=\"/home/vtp/Gait_Phase_Prediction/Subject_data/Final_files/\"\n",
    "#result_path = \"/home/vtp/Gait_Phase_Prediction/Results/final/\"\n",
    "\n",
    "path = \"/home/hikikomori/Gait_Phase_Prediction/Data/Final Data/\"\n",
    "result_path = \"/home/hikikomori/Gait_Phase_Prediction/Results/final/\"\n",
    "\n",
    "result_pkl_file=result_path+'results_ver_cnn_both_.hipkl'\n",
    "pkl_file=path+\"all_sub_cnn_both_hip.pkl\"\n",
    "# pkl_file=path+\"good_sub_data.pkl\"\n",
    "\n",
    "for sub in subject_names:\n",
    "\n",
    "  test_sub_list.append(sub)\n",
    "  tmp=subject_names.copy()\n",
    "  tmp.remove(sub)\n",
    "  sub_comb_list.append(tmp)\n",
    "\n",
    "df_dict={}\n",
    "\n",
    "if os.path.exists(pkl_file):\n",
    "    # File is already in pickle format, read to dict\n",
    "    with open(pkl_file, 'rb') as file:\n",
    "        df_dict = pickle.load(file)\n",
    "    \n",
    "else:\n",
    "    # File is not in pickle format/ does not exist, convert and save it as a pickle file\n",
    "\n",
    "    for file_name in file_names:\n",
    "        subject = file_name.split('_')[0]\n",
    "        if subject not in subject_names:\n",
    "            continue\n",
    "        leg_len = subject_dict[subject][0]\n",
    "        weight = subject_dict[subject][1]\n",
    "        print(\"Reading file :\", file_name)\n",
    "        tmp=pd.read_excel(path+ file_name, sheet_name='Sheet1')\n",
    "\n",
    "        #### Add r_ph_hip_l and r or l_ph_hip_l and l\n",
    "        #encode_phase(tmp, 'r_ph_hip')\n",
    "        #encode_phase(tmp, 'l_ph_hip')\n",
    "    \n",
    "        perc_column = tmp['perc']\n",
    "        st_sw_col_l = tmp['st_sw_phase_l']\n",
    "        st_sw_col_r= tmp['st_sw_phase_r']\n",
    "        lhip_col = tmp['lhip_ang']\n",
    "        rhip_col = tmp['rhip_ang']\n",
    "        lhip_df=tmp['l_ph_hip']\n",
    "        rhip_df=tmp['r_ph_hip']\n",
    "        #r_hip_ph_x = tmp['r_ph_hip_x']\n",
    "        #r_hip_ph_y = tmp['r_ph_hip_y']\n",
    "        #l_hip_ph_x = tmp['l_ph_hip_x']\n",
    "        #l_hip_ph_y = tmp['l_ph_hip_y']\n",
    "\n",
    "        \n",
    "        st_l_l_col = tmp[['st_l_l']]\n",
    "        st_l_r_col = tmp[['st_l_r']]\n",
    "\n",
    "        tmp = tmp.drop(columns=['perc', 'st_sw_phase_l', 'st_sw_phase_r', 'lhip_ang', 'rhip_ang','l_ph_hip','r_ph_hip', 'st_l_l', 'st_l_r'])#, 'r_ph_hip_x', 'r_ph_hip_y'])\n",
    "\n",
    "        scaler = MinMaxScaler()\n",
    "        tmp['l_ph_hip'] = lhip_df\n",
    "        tmp['r_ph_hip'] = rhip_df\n",
    "        tmp['st_sw_phase_l'] = st_sw_col_l\n",
    "        tmp['st_sw_phase_r'] = st_sw_col_l\n",
    "        #tmp['r_ph_hip_x'] = r_hip_ph_x\n",
    "        #tmp['r_ph_hip_y'] = r_hip_ph_y\n",
    "        #tmp['l_ph_hip_x'] = l_hip_ph_x\n",
    "        #tmp['l_ph_hip_y'] = l_hip_ph_y\n",
    "        tmp['st_l_l'] = scaler.fit_transform( st_l_l_col)\n",
    "        tmp['st_l_r'] = scaler.fit_transform( st_l_r_col)\n",
    "\n",
    "        column_names = tmp.columns\n",
    "\n",
    "\n",
    "        tmp['l_ph_hip']=tmp['l_ph_hip']/300\n",
    "        tmp['r_ph_hip']=tmp['r_ph_hip']/300\n",
    "        #tmp['r_ph_hip_x'] = tmp['r_ph_hip_x'] / 300\n",
    "        #tmp['r_ph_hip_y'] = tmp['r_ph_hip_y'] / 300\n",
    "        # tmp['l_ph_fo']=tmp['l_ph_fo']/300\n",
    "        # tmp['r_ph_fo']=tmp['r_ph_fo']/300\n",
    "        tmp['lcop']= tmp['lcop']*1000\n",
    "        tmp['rcop']=tmp['rcop']*1000\n",
    "        tmp['st_sw_phase_l']=tmp['st_sw_phase_l']/200\n",
    "        tmp['st_sw_phase_r']=tmp['st_sw_phase_r']/200\n",
    "\n",
    "        normalized_df =tmp\n",
    "\n",
    "        normalized_df['leg_len']=leg_len\n",
    "        normalized_df['weight']=weight\n",
    "        normalized_df['perc']= perc_column\n",
    "\n",
    "        df_dict[subject] = normalized_df\n",
    "    with open(pkl_file,'wb') as pickle_file:\n",
    "        pickle.dump(df_dict, pickle_file)\n",
    "\n",
    "#sub_cnt_file='sub_cnt.pkl'\n",
    "\n",
    "with open(result_path+\"all_results_cnn_both_hip.txt\",\"w\") as file:  \n",
    "    for sub_iter, sub_comb in enumerate(sub_comb_list):\n",
    "    #for a_ in range(len(subject_names)):\n",
    "        #sub_file=open(sub_cnt_file,'rb')\n",
    "        #cnt=pickle.load(sub_file)\n",
    "        #sub_file.close()\n",
    "        #if cnt==len(subject_names):\n",
    "        #    print(\"Done with all subjects !!\")\n",
    "        #    break\n",
    "        #sub_comb=sub_comb_list[cnt]\n",
    "        #sub_iter=cnt\n",
    "        print(\"Subject combination :\",sub_comb)\n",
    "        sub_tag=test_sub_list[sub_iter]\n",
    "        # all_data=get_data_frames_from_files(path, file_names, subject_dict, sub_comb)\n",
    "        file_list=[]\n",
    "        for sub in sub_comb:\n",
    "          tmp_df=df_dict[sub]\n",
    "          file_list.append(tmp_df)\n",
    "        random.shuffle(file_list)\n",
    "        \n",
    "        all_data = pd.concat(file_list, axis=0, ignore_index=True)\n",
    "        print(\"All Data Info: \")\n",
    "        all_data.info()\n",
    "        train_x, train_y, validation_x, validation_y = get_train_data_from_df(all_data, 0.25)\n",
    "        print(\"Nan in train x at indices:\",np.argwhere(np.isnan(train_x)))\n",
    "        print(\"Nan in train y at indices:\",np.argwhere(np.isnan(train_y)))\n",
    "\n",
    "        print(train_x.shape)\n",
    "        print(validation_x.shape)\n",
    "        print(\"SSS\")\n",
    "        seq_len = train_x.shape[1]\n",
    "        n_features = train_x.shape[2]\n",
    "     \n",
    "        mlp_model=[]\n",
    "        print(\"OKAY till here 1\")\n",
    "\n",
    "        look_back = 10\n",
    "\n",
    "        mlp_model = train_mlp_model(train_x, train_y, look_back)\n",
    "        file.write(\"Training Result :\")\n",
    "        file.write(\"\\n\")\n",
    "        acc, rmse=test_model_get_results(mlp_model, validation_x, validation_y, False, sub_tag, file)\n",
    "        acc_list.append(acc)\n",
    "        rmse_list.append(rmse)\n",
    "        print(\"testing on :\", test_sub_list[sub_iter])\n",
    "        file.write(\"Testing  Result :\")\n",
    "        file.write(test_sub_list[sub_iter])\n",
    "        file.write(\"\\n\")\n",
    "        # all_data=get_data_frames_from_files(path, file_names, subject_dict, [test_sub_list[sub_iter]])\n",
    "        all_data = df_dict[test_sub_list[sub_iter]]\n",
    "        test_x, test_y, validation_x, validation_y = get_train_data_from_df(all_data, 0.25)\n",
    "        acc, rmse=test_model_get_results(mlp_model, test_x, test_y, True, sub_tag, file)\n",
    "        # tf.keras.backend.clear_session()\n",
    "\n",
    "        test_acc_list.append(acc)\n",
    "        test_rmse_list.append(rmse)\n",
    "        # break\n",
    "        # file.write(acc)\n",
    "        file.write(\"\\n\")\n",
    "        #cnt=cnt+1\n",
    "        #sub_file=open(sub_cnt_file,'wb')\n",
    "        #pickle.dump(cnt, sub_file)\n",
    "        #sub_file.close()\n",
    "        # if sub_iter>=5:\n",
    "        # break\n",
    "    file.close()\n"
   ]
  },
  {
   "cell_type": "code",
   "execution_count": 39,
   "metadata": {},
   "outputs": [
    {
     "name": "stdout",
     "output_type": "stream",
     "text": [
      "{'VP': {'rmse': 3.177005671444675, 'prec_list': [27.77927916861165, 51.4998894430386, 70.62133012308675, 83.0282780139056, 90.07689850870943]}, 'AK': {'rmse': 2.4921120307853797, 'prec_list': [29.43620317341095, 56.44070979250775, 76.76509247957938, 89.19819735236128, 95.30091071260914]}, 'SD': {'rmse': 2.0592519750834866, 'prec_list': [35.5119396260419, 66.14665465194864, 85.43027708943455, 93.73732822707817, 96.23225951790944]}, 'PH': {'rmse': 1.931391060280362, 'prec_list': [47.747339823409554, 76.30971247453023, 89.41589314014037, 94.0729001584786, 96.35499207606973]}, 'YC': {'rmse': 3.7948883749234184, 'prec_list': [29.999457612409827, 56.98324022346369, 75.94239843792374, 86.07962249823724, 90.6166946900255]}, 'JL': {'rmse': 2.1532363813180933, 'prec_list': [34.42613196882252, 63.37537930624145, 83.12607841970608, 93.45510799071815, 97.20057119057536]}, 'JS': {'rmse': 2.549310584144812, 'prec_list': [30.466841581471094, 57.330588980367324, 77.59205645526102, 88.92608341626708, 94.57160951777797]}, 'PK': {'rmse': 4.032692265182361, 'prec_list': [44.7806201939991, 73.31758556566317, 85.89737146303463, 90.7825300296527, 93.31557521234357]}, 'SOE': {'rmse': 3.168795827971648, 'prec_list': [25.04978808149926, 48.48082520553541, 66.3228310269111, 78.73665934739314, 86.72062503191543]}, 'TH': {'rmse': 4.345848527373156, 'prec_list': [29.92015878027877, 53.017727457260136, 69.18895755334024, 78.65713383553611, 84.73318598042312]}, 'SKS': {'rmse': 3.0527977975772718, 'prec_list': [24.697738809413938, 49.33779418550992, 68.98707891093677, 81.28749423165667, 88.6063682510383]}, 'VN': {'rmse': 2.858013270136361, 'prec_list': [32.816942128848844, 58.59875680624488, 77.59360092516745, 87.62347612393388, 93.47082349539825]}}\n"
     ]
    }
   ],
   "source": [
    "personInfo = pickle.load(open(result_pkl_file, \"rb\"))\n",
    "print(personInfo)"
   ]
  },
  {
   "cell_type": "code",
   "execution_count": 40,
   "metadata": {},
   "outputs": [
    {
     "ename": "FileNotFoundError",
     "evalue": "[Errno 2] No such file or directory: '/home/hikikomori/Gait_Phase_Prediction/Results/final/results_ver_cnn_both_hip.pkl'",
     "output_type": "error",
     "traceback": [
      "\u001b[0;31m---------------------------------------------------------------------------\u001b[0m",
      "\u001b[0;31mFileNotFoundError\u001b[0m                         Traceback (most recent call last)",
      "Cell \u001b[0;32mIn[40], line 3\u001b[0m\n\u001b[1;32m      1\u001b[0m result_pkl_file \u001b[38;5;241m=\u001b[39m result_path \u001b[38;5;241m+\u001b[39m \u001b[38;5;124m\"\u001b[39m\u001b[38;5;124mresults_ver_cnn_both_hip.pkl\u001b[39m\u001b[38;5;124m\"\u001b[39m\n\u001b[0;32m----> 3\u001b[0m personInfo \u001b[38;5;241m=\u001b[39m pickle\u001b[38;5;241m.\u001b[39mload(\u001b[38;5;28;43mopen\u001b[39;49m\u001b[43m(\u001b[49m\u001b[43mresult_pkl_file\u001b[49m\u001b[43m,\u001b[49m\u001b[43m \u001b[49m\u001b[38;5;124;43m\"\u001b[39;49m\u001b[38;5;124;43mrb\u001b[39;49m\u001b[38;5;124;43m\"\u001b[39;49m\u001b[43m)\u001b[49m)\n\u001b[1;32m      4\u001b[0m \u001b[38;5;28mprint\u001b[39m(personInfo)\n",
      "File \u001b[0;32m~/miniconda3/envs/clean_gait_phase/lib/python3.10/site-packages/IPython/core/interactiveshell.py:310\u001b[0m, in \u001b[0;36m_modified_open\u001b[0;34m(file, *args, **kwargs)\u001b[0m\n\u001b[1;32m    303\u001b[0m \u001b[38;5;28;01mif\u001b[39;00m file \u001b[38;5;129;01min\u001b[39;00m {\u001b[38;5;241m0\u001b[39m, \u001b[38;5;241m1\u001b[39m, \u001b[38;5;241m2\u001b[39m}:\n\u001b[1;32m    304\u001b[0m     \u001b[38;5;28;01mraise\u001b[39;00m \u001b[38;5;167;01mValueError\u001b[39;00m(\n\u001b[1;32m    305\u001b[0m         \u001b[38;5;124mf\u001b[39m\u001b[38;5;124m\"\u001b[39m\u001b[38;5;124mIPython won\u001b[39m\u001b[38;5;124m'\u001b[39m\u001b[38;5;124mt let you open fd=\u001b[39m\u001b[38;5;132;01m{\u001b[39;00mfile\u001b[38;5;132;01m}\u001b[39;00m\u001b[38;5;124m by default \u001b[39m\u001b[38;5;124m\"\u001b[39m\n\u001b[1;32m    306\u001b[0m         \u001b[38;5;124m\"\u001b[39m\u001b[38;5;124mas it is likely to crash IPython. If you know what you are doing, \u001b[39m\u001b[38;5;124m\"\u001b[39m\n\u001b[1;32m    307\u001b[0m         \u001b[38;5;124m\"\u001b[39m\u001b[38;5;124myou can use builtins\u001b[39m\u001b[38;5;124m'\u001b[39m\u001b[38;5;124m open.\u001b[39m\u001b[38;5;124m\"\u001b[39m\n\u001b[1;32m    308\u001b[0m     )\n\u001b[0;32m--> 310\u001b[0m \u001b[38;5;28;01mreturn\u001b[39;00m \u001b[43mio_open\u001b[49m\u001b[43m(\u001b[49m\u001b[43mfile\u001b[49m\u001b[43m,\u001b[49m\u001b[43m \u001b[49m\u001b[38;5;241;43m*\u001b[39;49m\u001b[43margs\u001b[49m\u001b[43m,\u001b[49m\u001b[43m \u001b[49m\u001b[38;5;241;43m*\u001b[39;49m\u001b[38;5;241;43m*\u001b[39;49m\u001b[43mkwargs\u001b[49m\u001b[43m)\u001b[49m\n",
      "\u001b[0;31mFileNotFoundError\u001b[0m: [Errno 2] No such file or directory: '/home/hikikomori/Gait_Phase_Prediction/Results/final/results_ver_cnn_both_hip.pkl'"
     ]
    }
   ],
   "source": [
    "result_pkl_file = result_path + \"results_ver_cnn_both_hip.pkl\"\n",
    "\n",
    "personInfo = pickle.load(open(result_pkl_file, \"rb\"))\n",
    "print(personInfo)"
   ]
  }
 ],
 "metadata": {
  "kernelspec": {
   "display_name": "gait_phase",
   "language": "python",
   "name": "python3"
  },
  "language_info": {
   "codemirror_mode": {
    "name": "ipython",
    "version": 3
   },
   "file_extension": ".py",
   "mimetype": "text/x-python",
   "name": "python",
   "nbconvert_exporter": "python",
   "pygments_lexer": "ipython3",
   "version": "3.10.13"
  }
 },
 "nbformat": 4,
 "nbformat_minor": 2
}
